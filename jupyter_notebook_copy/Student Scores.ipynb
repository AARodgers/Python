{
 "cells": [
  {
   "cell_type": "markdown",
   "id": "bcab0625",
   "metadata": {},
   "source": [
    "Amanda Rodgers\n",
    "May 13, 2024\n",
    "Student Scores"
   ]
  },
  {
   "cell_type": "code",
   "execution_count": 26,
   "id": "0c895c79",
   "metadata": {},
   "outputs": [],
   "source": [
    "import pandas as pd\n",
    "import numpy as np\n",
    "import statsmodels.api as sm\n",
    "from scipy import stats\n",
    "from sklearn.linear_model import LinearRegression\n",
    "import matplotlib.pyplot as plt\n",
    "import seaborn as sns\n",
    "import plotly.express as px"
   ]
  },
  {
   "cell_type": "code",
   "execution_count": 54,
   "id": "3f99cf04",
   "metadata": {},
   "outputs": [
    {
     "data": {
      "text/html": [
       "<div>\n",
       "<style scoped>\n",
       "    .dataframe tbody tr th:only-of-type {\n",
       "        vertical-align: middle;\n",
       "    }\n",
       "\n",
       "    .dataframe tbody tr th {\n",
       "        vertical-align: top;\n",
       "    }\n",
       "\n",
       "    .dataframe thead th {\n",
       "        text-align: right;\n",
       "    }\n",
       "</style>\n",
       "<table border=\"1\" class=\"dataframe\">\n",
       "  <thead>\n",
       "    <tr style=\"text-align: right;\">\n",
       "      <th></th>\n",
       "      <th>gender</th>\n",
       "      <th>race/ethnicity</th>\n",
       "      <th>parental level of education</th>\n",
       "      <th>lunch</th>\n",
       "      <th>test preparation course</th>\n",
       "      <th>math score</th>\n",
       "      <th>reading score</th>\n",
       "      <th>writing score</th>\n",
       "    </tr>\n",
       "  </thead>\n",
       "  <tbody>\n",
       "    <tr>\n",
       "      <th>0</th>\n",
       "      <td>female</td>\n",
       "      <td>group B</td>\n",
       "      <td>bachelor's degree</td>\n",
       "      <td>standard</td>\n",
       "      <td>none</td>\n",
       "      <td>72</td>\n",
       "      <td>72</td>\n",
       "      <td>74</td>\n",
       "    </tr>\n",
       "    <tr>\n",
       "      <th>1</th>\n",
       "      <td>female</td>\n",
       "      <td>group C</td>\n",
       "      <td>some college</td>\n",
       "      <td>standard</td>\n",
       "      <td>completed</td>\n",
       "      <td>69</td>\n",
       "      <td>90</td>\n",
       "      <td>88</td>\n",
       "    </tr>\n",
       "    <tr>\n",
       "      <th>2</th>\n",
       "      <td>female</td>\n",
       "      <td>group B</td>\n",
       "      <td>master's degree</td>\n",
       "      <td>standard</td>\n",
       "      <td>none</td>\n",
       "      <td>90</td>\n",
       "      <td>95</td>\n",
       "      <td>93</td>\n",
       "    </tr>\n",
       "    <tr>\n",
       "      <th>3</th>\n",
       "      <td>male</td>\n",
       "      <td>group A</td>\n",
       "      <td>associate's degree</td>\n",
       "      <td>free/reduced</td>\n",
       "      <td>none</td>\n",
       "      <td>47</td>\n",
       "      <td>57</td>\n",
       "      <td>44</td>\n",
       "    </tr>\n",
       "    <tr>\n",
       "      <th>4</th>\n",
       "      <td>male</td>\n",
       "      <td>group C</td>\n",
       "      <td>some college</td>\n",
       "      <td>standard</td>\n",
       "      <td>none</td>\n",
       "      <td>76</td>\n",
       "      <td>78</td>\n",
       "      <td>75</td>\n",
       "    </tr>\n",
       "    <tr>\n",
       "      <th>...</th>\n",
       "      <td>...</td>\n",
       "      <td>...</td>\n",
       "      <td>...</td>\n",
       "      <td>...</td>\n",
       "      <td>...</td>\n",
       "      <td>...</td>\n",
       "      <td>...</td>\n",
       "      <td>...</td>\n",
       "    </tr>\n",
       "    <tr>\n",
       "      <th>995</th>\n",
       "      <td>female</td>\n",
       "      <td>group E</td>\n",
       "      <td>master's degree</td>\n",
       "      <td>standard</td>\n",
       "      <td>completed</td>\n",
       "      <td>88</td>\n",
       "      <td>99</td>\n",
       "      <td>95</td>\n",
       "    </tr>\n",
       "    <tr>\n",
       "      <th>996</th>\n",
       "      <td>male</td>\n",
       "      <td>group C</td>\n",
       "      <td>high school</td>\n",
       "      <td>free/reduced</td>\n",
       "      <td>none</td>\n",
       "      <td>62</td>\n",
       "      <td>55</td>\n",
       "      <td>55</td>\n",
       "    </tr>\n",
       "    <tr>\n",
       "      <th>997</th>\n",
       "      <td>female</td>\n",
       "      <td>group C</td>\n",
       "      <td>high school</td>\n",
       "      <td>free/reduced</td>\n",
       "      <td>completed</td>\n",
       "      <td>59</td>\n",
       "      <td>71</td>\n",
       "      <td>65</td>\n",
       "    </tr>\n",
       "    <tr>\n",
       "      <th>998</th>\n",
       "      <td>female</td>\n",
       "      <td>group D</td>\n",
       "      <td>some college</td>\n",
       "      <td>standard</td>\n",
       "      <td>completed</td>\n",
       "      <td>68</td>\n",
       "      <td>78</td>\n",
       "      <td>77</td>\n",
       "    </tr>\n",
       "    <tr>\n",
       "      <th>999</th>\n",
       "      <td>female</td>\n",
       "      <td>group D</td>\n",
       "      <td>some college</td>\n",
       "      <td>free/reduced</td>\n",
       "      <td>none</td>\n",
       "      <td>77</td>\n",
       "      <td>86</td>\n",
       "      <td>86</td>\n",
       "    </tr>\n",
       "  </tbody>\n",
       "</table>\n",
       "<p>1000 rows × 8 columns</p>\n",
       "</div>"
      ],
      "text/plain": [
       "     gender race/ethnicity parental level of education         lunch  \\\n",
       "0    female        group B           bachelor's degree      standard   \n",
       "1    female        group C                some college      standard   \n",
       "2    female        group B             master's degree      standard   \n",
       "3      male        group A          associate's degree  free/reduced   \n",
       "4      male        group C                some college      standard   \n",
       "..      ...            ...                         ...           ...   \n",
       "995  female        group E             master's degree      standard   \n",
       "996    male        group C                 high school  free/reduced   \n",
       "997  female        group C                 high school  free/reduced   \n",
       "998  female        group D                some college      standard   \n",
       "999  female        group D                some college  free/reduced   \n",
       "\n",
       "    test preparation course  math score  reading score  writing score  \n",
       "0                      none          72             72             74  \n",
       "1                 completed          69             90             88  \n",
       "2                      none          90             95             93  \n",
       "3                      none          47             57             44  \n",
       "4                      none          76             78             75  \n",
       "..                      ...         ...            ...            ...  \n",
       "995               completed          88             99             95  \n",
       "996                    none          62             55             55  \n",
       "997               completed          59             71             65  \n",
       "998               completed          68             78             77  \n",
       "999                    none          77             86             86  \n",
       "\n",
       "[1000 rows x 8 columns]"
      ]
     },
     "execution_count": 54,
     "metadata": {},
     "output_type": "execute_result"
    }
   ],
   "source": [
    "student_data = pd.read_csv(\"/Users/amandarodgers/Documents/Data_Bootcamp/Python/data_sets/StudentScores.csv\")\n",
    "student_data"
   ]
  },
  {
   "cell_type": "code",
   "execution_count": 28,
   "id": "f9fc7e64",
   "metadata": {},
   "outputs": [
    {
     "name": "stdout",
     "output_type": "stream",
     "text": [
      "<class 'pandas.core.frame.DataFrame'>\n",
      "RangeIndex: 1000 entries, 0 to 999\n",
      "Data columns (total 8 columns):\n",
      " #   Column                       Non-Null Count  Dtype \n",
      "---  ------                       --------------  ----- \n",
      " 0   gender                       1000 non-null   object\n",
      " 1   race/ethnicity               1000 non-null   object\n",
      " 2   parental level of education  1000 non-null   object\n",
      " 3   lunch                        1000 non-null   object\n",
      " 4   test preparation course      1000 non-null   object\n",
      " 5   math score                   1000 non-null   int64 \n",
      " 6   reading score                1000 non-null   int64 \n",
      " 7   writing score                1000 non-null   int64 \n",
      "dtypes: int64(3), object(5)\n",
      "memory usage: 62.6+ KB\n"
     ]
    }
   ],
   "source": [
    "student_data.info()"
   ]
  },
  {
   "cell_type": "code",
   "execution_count": 29,
   "id": "4ebe7796",
   "metadata": {
    "scrolled": true
   },
   "outputs": [
    {
     "data": {
      "text/html": [
       "<div>\n",
       "<style scoped>\n",
       "    .dataframe tbody tr th:only-of-type {\n",
       "        vertical-align: middle;\n",
       "    }\n",
       "\n",
       "    .dataframe tbody tr th {\n",
       "        vertical-align: top;\n",
       "    }\n",
       "\n",
       "    .dataframe thead th {\n",
       "        text-align: right;\n",
       "    }\n",
       "</style>\n",
       "<table border=\"1\" class=\"dataframe\">\n",
       "  <thead>\n",
       "    <tr style=\"text-align: right;\">\n",
       "      <th></th>\n",
       "      <th>math score</th>\n",
       "      <th>reading score</th>\n",
       "      <th>writing score</th>\n",
       "    </tr>\n",
       "  </thead>\n",
       "  <tbody>\n",
       "    <tr>\n",
       "      <th>count</th>\n",
       "      <td>1000.00000</td>\n",
       "      <td>1000.000000</td>\n",
       "      <td>1000.000000</td>\n",
       "    </tr>\n",
       "    <tr>\n",
       "      <th>mean</th>\n",
       "      <td>66.08900</td>\n",
       "      <td>69.169000</td>\n",
       "      <td>68.054000</td>\n",
       "    </tr>\n",
       "    <tr>\n",
       "      <th>std</th>\n",
       "      <td>15.16308</td>\n",
       "      <td>14.600192</td>\n",
       "      <td>15.195657</td>\n",
       "    </tr>\n",
       "    <tr>\n",
       "      <th>min</th>\n",
       "      <td>0.00000</td>\n",
       "      <td>17.000000</td>\n",
       "      <td>10.000000</td>\n",
       "    </tr>\n",
       "    <tr>\n",
       "      <th>25%</th>\n",
       "      <td>57.00000</td>\n",
       "      <td>59.000000</td>\n",
       "      <td>57.750000</td>\n",
       "    </tr>\n",
       "    <tr>\n",
       "      <th>50%</th>\n",
       "      <td>66.00000</td>\n",
       "      <td>70.000000</td>\n",
       "      <td>69.000000</td>\n",
       "    </tr>\n",
       "    <tr>\n",
       "      <th>75%</th>\n",
       "      <td>77.00000</td>\n",
       "      <td>79.000000</td>\n",
       "      <td>79.000000</td>\n",
       "    </tr>\n",
       "    <tr>\n",
       "      <th>max</th>\n",
       "      <td>100.00000</td>\n",
       "      <td>100.000000</td>\n",
       "      <td>100.000000</td>\n",
       "    </tr>\n",
       "  </tbody>\n",
       "</table>\n",
       "</div>"
      ],
      "text/plain": [
       "       math score  reading score  writing score\n",
       "count  1000.00000    1000.000000    1000.000000\n",
       "mean     66.08900      69.169000      68.054000\n",
       "std      15.16308      14.600192      15.195657\n",
       "min       0.00000      17.000000      10.000000\n",
       "25%      57.00000      59.000000      57.750000\n",
       "50%      66.00000      70.000000      69.000000\n",
       "75%      77.00000      79.000000      79.000000\n",
       "max     100.00000     100.000000     100.000000"
      ]
     },
     "execution_count": 29,
     "metadata": {},
     "output_type": "execute_result"
    }
   ],
   "source": [
    "student_data.describe()"
   ]
  },
  {
   "cell_type": "code",
   "execution_count": 30,
   "id": "6cd09662",
   "metadata": {},
   "outputs": [
    {
     "name": "stdout",
     "output_type": "stream",
     "text": [
      "        gender race/ethnicity parental level of education     lunch  \\\n",
      "count     1000           1000                        1000      1000   \n",
      "unique       2              5                           6         2   \n",
      "top     female        group C                some college  standard   \n",
      "freq       518            319                         226       645   \n",
      "mean       NaN            NaN                         NaN       NaN   \n",
      "std        NaN            NaN                         NaN       NaN   \n",
      "min        NaN            NaN                         NaN       NaN   \n",
      "25%        NaN            NaN                         NaN       NaN   \n",
      "50%        NaN            NaN                         NaN       NaN   \n",
      "75%        NaN            NaN                         NaN       NaN   \n",
      "max        NaN            NaN                         NaN       NaN   \n",
      "\n",
      "       test preparation course  math score  reading score  writing score  \n",
      "count                     1000  1000.00000    1000.000000    1000.000000  \n",
      "unique                       2         NaN            NaN            NaN  \n",
      "top                       none         NaN            NaN            NaN  \n",
      "freq                       642         NaN            NaN            NaN  \n",
      "mean                       NaN    66.08900      69.169000      68.054000  \n",
      "std                        NaN    15.16308      14.600192      15.195657  \n",
      "min                        NaN     0.00000      17.000000      10.000000  \n",
      "25%                        NaN    57.00000      59.000000      57.750000  \n",
      "50%                        NaN    66.00000      70.000000      69.000000  \n",
      "75%                        NaN    77.00000      79.000000      79.000000  \n",
      "max                        NaN   100.00000     100.000000     100.000000  \n"
     ]
    }
   ],
   "source": [
    "print(student_data.describe(include='all'))"
   ]
  },
  {
   "cell_type": "code",
   "execution_count": 31,
   "id": "ea613434",
   "metadata": {},
   "outputs": [
    {
     "data": {
      "application/vnd.plotly.v1+json": {
       "config": {
        "plotlyServerURL": "https://plot.ly"
       },
       "data": [
        {
         "alignmentgroup": "True",
         "bingroup": "x",
         "hovertemplate": "Student Writing Score=%{x}<br>count=%{y}<extra></extra>",
         "legendgroup": "",
         "marker": {
          "color": "green",
          "opacity": 0.3,
          "pattern": {
           "shape": ""
          }
         },
         "name": "",
         "offsetgroup": "",
         "orientation": "v",
         "showlegend": false,
         "type": "histogram",
         "x": [
          74,
          88,
          93,
          44,
          75,
          78,
          92,
          39,
          67,
          50,
          52,
          43,
          73,
          70,
          58,
          78,
          86,
          28,
          46,
          61,
          63,
          70,
          53,
          73,
          80,
          72,
          55,
          75,
          65,
          75,
          74,
          61,
          65,
          38,
          82,
          79,
          83,
          59,
          88,
          57,
          54,
          68,
          65,
          66,
          54,
          57,
          62,
          76,
          76,
          82,
          48,
          68,
          42,
          75,
          87,
          43,
          86,
          49,
          58,
          10,
          72,
          34,
          55,
          71,
          59,
          61,
          37,
          74,
          56,
          57,
          73,
          63,
          48,
          56,
          41,
          38,
          22,
          81,
          72,
          68,
          50,
          45,
          54,
          63,
          34,
          82,
          88,
          74,
          67,
          82,
          74,
          36,
          71,
          50,
          92,
          82,
          62,
          70,
          62,
          62,
          67,
          74,
          89,
          47,
          90,
          72,
          100,
          64,
          70,
          72,
          98,
          49,
          47,
          54,
          100,
          74,
          82,
          79,
          61,
          65,
          89,
          92,
          93,
          56,
          73,
          86,
          67,
          74,
          74,
          51,
          82,
          40,
          70,
          84,
          75,
          48,
          41,
          56,
          67,
          69,
          71,
          64,
          54,
          47,
          78,
          33,
          75,
          66,
          81,
          93,
          69,
          68,
          66,
          47,
          61,
          88,
          78,
          60,
          87,
          64,
          74,
          85,
          52,
          49,
          91,
          100,
          51,
          78,
          78,
          70,
          74,
          78,
          81,
          70,
          54,
          87,
          58,
          77,
          62,
          100,
          75,
          66,
          47,
          70,
          49,
          65,
          65,
          68,
          45,
          87,
          69,
          79,
          66,
          62,
          85,
          52,
          65,
          51,
          55,
          76,
          86,
          77,
          69,
          68,
          42,
          78,
          62,
          76,
          76,
          66,
          79,
          27,
          60,
          56,
          81,
          75,
          88,
          39,
          70,
          56,
          74,
          73,
          62,
          75,
          73,
          54,
          71,
          54,
          64,
          94,
          66,
          42,
          83,
          78,
          84,
          77,
          67,
          74,
          51,
          80,
          66,
          83,
          55,
          43,
          69,
          71,
          74,
          68,
          62,
          53,
          49,
          83,
          70,
          72,
          52,
          70,
          68,
          77,
          78,
          81,
          77,
          78,
          51,
          90,
          68,
          41,
          81,
          77,
          95,
          70,
          61,
          42,
          58,
          71,
          76,
          73,
          93,
          75,
          80,
          57,
          42,
          46,
          84,
          78,
          46,
          82,
          88,
          82,
          76,
          77,
          68,
          70,
          57,
          75,
          80,
          60,
          43,
          68,
          50,
          75,
          81,
          52,
          81,
          64,
          83,
          69,
          81,
          44,
          67,
          52,
          80,
          57,
          68,
          69,
          75,
          65,
          91,
          78,
          69,
          63,
          84,
          79,
          80,
          53,
          43,
          94,
          62,
          19,
          77,
          51,
          61,
          35,
          53,
          81,
          95,
          66,
          69,
          43,
          27,
          60,
          52,
          63,
          74,
          67,
          67,
          75,
          57,
          95,
          66,
          76,
          69,
          52,
          80,
          57,
          70,
          70,
          61,
          69,
          61,
          89,
          59,
          78,
          58,
          32,
          58,
          60,
          53,
          61,
          58,
          85,
          71,
          70,
          72,
          96,
          73,
          41,
          82,
          100,
          77,
          62,
          83,
          95,
          71,
          45,
          43,
          75,
          70,
          67,
          64,
          75,
          59,
          77,
          67,
          56,
          77,
          41,
          63,
          95,
          57,
          54,
          67,
          43,
          55,
          100,
          62,
          68,
          63,
          77,
          56,
          85,
          74,
          78,
          60,
          67,
          79,
          69,
          68,
          67,
          62,
          54,
          93,
          64,
          67,
          80,
          34,
          62,
          86,
          65,
          53,
          54,
          59,
          70,
          55,
          50,
          66,
          53,
          64,
          73,
          51,
          82,
          79,
          80,
          69,
          76,
          73,
          77,
          60,
          80,
          42,
          72,
          85,
          97,
          74,
          49,
          62,
          47,
          89,
          48,
          100,
          68,
          55,
          45,
          76,
          91,
          62,
          91,
          38,
          65,
          85,
          76,
          90,
          74,
          84,
          61,
          91,
          83,
          66,
          72,
          70,
          67,
          68,
          56,
          61,
          46,
          54,
          71,
          56,
          74,
          57,
          82,
          76,
          70,
          90,
          90,
          68,
          66,
          52,
          76,
          68,
          72,
          82,
          92,
          54,
          92,
          54,
          80,
          66,
          54,
          77,
          87,
          73,
          43,
          52,
          62,
          94,
          85,
          84,
          73,
          78,
          79,
          52,
          84,
          57,
          50,
          49,
          59,
          60,
          43,
          47,
          70,
          73,
          53,
          58,
          94,
          68,
          83,
          58,
          62,
          71,
          86,
          68,
          80,
          79,
          89,
          66,
          80,
          97,
          64,
          64,
          69,
          65,
          88,
          50,
          64,
          40,
          33,
          79,
          66,
          70,
          62,
          79,
          74,
          92,
          80,
          46,
          45,
          100,
          78,
          47,
          67,
          70,
          92,
          56,
          64,
          71,
          53,
          52,
          89,
          58,
          68,
          96,
          80,
          78,
          80,
          77,
          76,
          73,
          62,
          65,
          65,
          54,
          50,
          64,
          73,
          99,
          72,
          15,
          48,
          73,
          81,
          63,
          30,
          80,
          51,
          90,
          62,
          82,
          54,
          62,
          65,
          63,
          66,
          91,
          74,
          93,
          72,
          38,
          83,
          84,
          68,
          54,
          56,
          52,
          86,
          62,
          99,
          63,
          46,
          46,
          55,
          70,
          65,
          81,
          85,
          80,
          64,
          81,
          88,
          74,
          73,
          51,
          90,
          79,
          80,
          60,
          81,
          65,
          68,
          55,
          81,
          53,
          76,
          98,
          74,
          79,
          67,
          64,
          61,
          58,
          85,
          73,
          63,
          69,
          67,
          63,
          60,
          71,
          87,
          61,
          77,
          68,
          50,
          76,
          84,
          78,
          66,
          76,
          76,
          78,
          60,
          74,
          60,
          54,
          44,
          68,
          100,
          68,
          73,
          44,
          83,
          53,
          78,
          81,
          73,
          56,
          86,
          90,
          70,
          79,
          59,
          82,
          72,
          87,
          67,
          64,
          65,
          36,
          52,
          79,
          58,
          90,
          85,
          99,
          84,
          74,
          87,
          72,
          99,
          74,
          80,
          70,
          59,
          88,
          42,
          41,
          71,
          77,
          57,
          84,
          37,
          80,
          43,
          94,
          44,
          57,
          59,
          84,
          73,
          73,
          55,
          72,
          56,
          82,
          72,
          47,
          74,
          71,
          68,
          59,
          86,
          68,
          65,
          75,
          85,
          53,
          92,
          52,
          72,
          65,
          77,
          64,
          54,
          86,
          63,
          59,
          72,
          77,
          60,
          75,
          57,
          49,
          74,
          72,
          79,
          60,
          55,
          70,
          43,
          82,
          82,
          57,
          84,
          82,
          62,
          79,
          44,
          77,
          32,
          61,
          61,
          60,
          70,
          69,
          77,
          51,
          73,
          70,
          81,
          54,
          57,
          68,
          73,
          95,
          87,
          78,
          74,
          75,
          40,
          69,
          51,
          36,
          49,
          67,
          76,
          83,
          87,
          64,
          76,
          68,
          88,
          92,
          93,
          51,
          82,
          52,
          58,
          70,
          76,
          81,
          53,
          57,
          89,
          58,
          89,
          45,
          74,
          57,
          79,
          53,
          73,
          46,
          51,
          36,
          76,
          64,
          84,
          85,
          50,
          68,
          69,
          67,
          63,
          93,
          61,
          55,
          96,
          65,
          81,
          46,
          72,
          53,
          87,
          38,
          80,
          91,
          88,
          52,
          41,
          72,
          51,
          47,
          76,
          78,
          82,
          61,
          66,
          84,
          54,
          80,
          74,
          66,
          70,
          71,
          44,
          54,
          80,
          95,
          59,
          74,
          48,
          91,
          85,
          73,
          75,
          69,
          38,
          27,
          79,
          63,
          82,
          89,
          74,
          41,
          100,
          84,
          77,
          51,
          91,
          72,
          70,
          48,
          82,
          66,
          66,
          55,
          66,
          100,
          52,
          80,
          91,
          67,
          46,
          66,
          65,
          69,
          60,
          52,
          71,
          44,
          51,
          70,
          62,
          73,
          74,
          90,
          58,
          53,
          57,
          85,
          69,
          72,
          96,
          64,
          61,
          61,
          58,
          80,
          60,
          52,
          73,
          71,
          83,
          72,
          54,
          69,
          62,
          81,
          100,
          59,
          71,
          64,
          53,
          100,
          75,
          58,
          72,
          64,
          60,
          67,
          80,
          100,
          69,
          60,
          61,
          67,
          77,
          60,
          58,
          48,
          94,
          23,
          78,
          86,
          91,
          82,
          54,
          51,
          76,
          45,
          83,
          75,
          78,
          76,
          74,
          62,
          95,
          55,
          65,
          77,
          86
         ],
         "xaxis": "x",
         "yaxis": "y"
        }
       ],
       "layout": {
        "barmode": "relative",
        "legend": {
         "tracegroupgap": 0
        },
        "template": {
         "data": {
          "bar": [
           {
            "error_x": {
             "color": "#2a3f5f"
            },
            "error_y": {
             "color": "#2a3f5f"
            },
            "marker": {
             "line": {
              "color": "#E5ECF6",
              "width": 0.5
             },
             "pattern": {
              "fillmode": "overlay",
              "size": 10,
              "solidity": 0.2
             }
            },
            "type": "bar"
           }
          ],
          "barpolar": [
           {
            "marker": {
             "line": {
              "color": "#E5ECF6",
              "width": 0.5
             },
             "pattern": {
              "fillmode": "overlay",
              "size": 10,
              "solidity": 0.2
             }
            },
            "type": "barpolar"
           }
          ],
          "carpet": [
           {
            "aaxis": {
             "endlinecolor": "#2a3f5f",
             "gridcolor": "white",
             "linecolor": "white",
             "minorgridcolor": "white",
             "startlinecolor": "#2a3f5f"
            },
            "baxis": {
             "endlinecolor": "#2a3f5f",
             "gridcolor": "white",
             "linecolor": "white",
             "minorgridcolor": "white",
             "startlinecolor": "#2a3f5f"
            },
            "type": "carpet"
           }
          ],
          "choropleth": [
           {
            "colorbar": {
             "outlinewidth": 0,
             "ticks": ""
            },
            "type": "choropleth"
           }
          ],
          "contour": [
           {
            "colorbar": {
             "outlinewidth": 0,
             "ticks": ""
            },
            "colorscale": [
             [
              0,
              "#0d0887"
             ],
             [
              0.1111111111111111,
              "#46039f"
             ],
             [
              0.2222222222222222,
              "#7201a8"
             ],
             [
              0.3333333333333333,
              "#9c179e"
             ],
             [
              0.4444444444444444,
              "#bd3786"
             ],
             [
              0.5555555555555556,
              "#d8576b"
             ],
             [
              0.6666666666666666,
              "#ed7953"
             ],
             [
              0.7777777777777778,
              "#fb9f3a"
             ],
             [
              0.8888888888888888,
              "#fdca26"
             ],
             [
              1,
              "#f0f921"
             ]
            ],
            "type": "contour"
           }
          ],
          "contourcarpet": [
           {
            "colorbar": {
             "outlinewidth": 0,
             "ticks": ""
            },
            "type": "contourcarpet"
           }
          ],
          "heatmap": [
           {
            "colorbar": {
             "outlinewidth": 0,
             "ticks": ""
            },
            "colorscale": [
             [
              0,
              "#0d0887"
             ],
             [
              0.1111111111111111,
              "#46039f"
             ],
             [
              0.2222222222222222,
              "#7201a8"
             ],
             [
              0.3333333333333333,
              "#9c179e"
             ],
             [
              0.4444444444444444,
              "#bd3786"
             ],
             [
              0.5555555555555556,
              "#d8576b"
             ],
             [
              0.6666666666666666,
              "#ed7953"
             ],
             [
              0.7777777777777778,
              "#fb9f3a"
             ],
             [
              0.8888888888888888,
              "#fdca26"
             ],
             [
              1,
              "#f0f921"
             ]
            ],
            "type": "heatmap"
           }
          ],
          "heatmapgl": [
           {
            "colorbar": {
             "outlinewidth": 0,
             "ticks": ""
            },
            "colorscale": [
             [
              0,
              "#0d0887"
             ],
             [
              0.1111111111111111,
              "#46039f"
             ],
             [
              0.2222222222222222,
              "#7201a8"
             ],
             [
              0.3333333333333333,
              "#9c179e"
             ],
             [
              0.4444444444444444,
              "#bd3786"
             ],
             [
              0.5555555555555556,
              "#d8576b"
             ],
             [
              0.6666666666666666,
              "#ed7953"
             ],
             [
              0.7777777777777778,
              "#fb9f3a"
             ],
             [
              0.8888888888888888,
              "#fdca26"
             ],
             [
              1,
              "#f0f921"
             ]
            ],
            "type": "heatmapgl"
           }
          ],
          "histogram": [
           {
            "marker": {
             "pattern": {
              "fillmode": "overlay",
              "size": 10,
              "solidity": 0.2
             }
            },
            "type": "histogram"
           }
          ],
          "histogram2d": [
           {
            "colorbar": {
             "outlinewidth": 0,
             "ticks": ""
            },
            "colorscale": [
             [
              0,
              "#0d0887"
             ],
             [
              0.1111111111111111,
              "#46039f"
             ],
             [
              0.2222222222222222,
              "#7201a8"
             ],
             [
              0.3333333333333333,
              "#9c179e"
             ],
             [
              0.4444444444444444,
              "#bd3786"
             ],
             [
              0.5555555555555556,
              "#d8576b"
             ],
             [
              0.6666666666666666,
              "#ed7953"
             ],
             [
              0.7777777777777778,
              "#fb9f3a"
             ],
             [
              0.8888888888888888,
              "#fdca26"
             ],
             [
              1,
              "#f0f921"
             ]
            ],
            "type": "histogram2d"
           }
          ],
          "histogram2dcontour": [
           {
            "colorbar": {
             "outlinewidth": 0,
             "ticks": ""
            },
            "colorscale": [
             [
              0,
              "#0d0887"
             ],
             [
              0.1111111111111111,
              "#46039f"
             ],
             [
              0.2222222222222222,
              "#7201a8"
             ],
             [
              0.3333333333333333,
              "#9c179e"
             ],
             [
              0.4444444444444444,
              "#bd3786"
             ],
             [
              0.5555555555555556,
              "#d8576b"
             ],
             [
              0.6666666666666666,
              "#ed7953"
             ],
             [
              0.7777777777777778,
              "#fb9f3a"
             ],
             [
              0.8888888888888888,
              "#fdca26"
             ],
             [
              1,
              "#f0f921"
             ]
            ],
            "type": "histogram2dcontour"
           }
          ],
          "mesh3d": [
           {
            "colorbar": {
             "outlinewidth": 0,
             "ticks": ""
            },
            "type": "mesh3d"
           }
          ],
          "parcoords": [
           {
            "line": {
             "colorbar": {
              "outlinewidth": 0,
              "ticks": ""
             }
            },
            "type": "parcoords"
           }
          ],
          "pie": [
           {
            "automargin": true,
            "type": "pie"
           }
          ],
          "scatter": [
           {
            "fillpattern": {
             "fillmode": "overlay",
             "size": 10,
             "solidity": 0.2
            },
            "type": "scatter"
           }
          ],
          "scatter3d": [
           {
            "line": {
             "colorbar": {
              "outlinewidth": 0,
              "ticks": ""
             }
            },
            "marker": {
             "colorbar": {
              "outlinewidth": 0,
              "ticks": ""
             }
            },
            "type": "scatter3d"
           }
          ],
          "scattercarpet": [
           {
            "marker": {
             "colorbar": {
              "outlinewidth": 0,
              "ticks": ""
             }
            },
            "type": "scattercarpet"
           }
          ],
          "scattergeo": [
           {
            "marker": {
             "colorbar": {
              "outlinewidth": 0,
              "ticks": ""
             }
            },
            "type": "scattergeo"
           }
          ],
          "scattergl": [
           {
            "marker": {
             "colorbar": {
              "outlinewidth": 0,
              "ticks": ""
             }
            },
            "type": "scattergl"
           }
          ],
          "scattermapbox": [
           {
            "marker": {
             "colorbar": {
              "outlinewidth": 0,
              "ticks": ""
             }
            },
            "type": "scattermapbox"
           }
          ],
          "scatterpolar": [
           {
            "marker": {
             "colorbar": {
              "outlinewidth": 0,
              "ticks": ""
             }
            },
            "type": "scatterpolar"
           }
          ],
          "scatterpolargl": [
           {
            "marker": {
             "colorbar": {
              "outlinewidth": 0,
              "ticks": ""
             }
            },
            "type": "scatterpolargl"
           }
          ],
          "scatterternary": [
           {
            "marker": {
             "colorbar": {
              "outlinewidth": 0,
              "ticks": ""
             }
            },
            "type": "scatterternary"
           }
          ],
          "surface": [
           {
            "colorbar": {
             "outlinewidth": 0,
             "ticks": ""
            },
            "colorscale": [
             [
              0,
              "#0d0887"
             ],
             [
              0.1111111111111111,
              "#46039f"
             ],
             [
              0.2222222222222222,
              "#7201a8"
             ],
             [
              0.3333333333333333,
              "#9c179e"
             ],
             [
              0.4444444444444444,
              "#bd3786"
             ],
             [
              0.5555555555555556,
              "#d8576b"
             ],
             [
              0.6666666666666666,
              "#ed7953"
             ],
             [
              0.7777777777777778,
              "#fb9f3a"
             ],
             [
              0.8888888888888888,
              "#fdca26"
             ],
             [
              1,
              "#f0f921"
             ]
            ],
            "type": "surface"
           }
          ],
          "table": [
           {
            "cells": {
             "fill": {
              "color": "#EBF0F8"
             },
             "line": {
              "color": "white"
             }
            },
            "header": {
             "fill": {
              "color": "#C8D4E3"
             },
             "line": {
              "color": "white"
             }
            },
            "type": "table"
           }
          ]
         },
         "layout": {
          "annotationdefaults": {
           "arrowcolor": "#2a3f5f",
           "arrowhead": 0,
           "arrowwidth": 1
          },
          "autotypenumbers": "strict",
          "coloraxis": {
           "colorbar": {
            "outlinewidth": 0,
            "ticks": ""
           }
          },
          "colorscale": {
           "diverging": [
            [
             0,
             "#8e0152"
            ],
            [
             0.1,
             "#c51b7d"
            ],
            [
             0.2,
             "#de77ae"
            ],
            [
             0.3,
             "#f1b6da"
            ],
            [
             0.4,
             "#fde0ef"
            ],
            [
             0.5,
             "#f7f7f7"
            ],
            [
             0.6,
             "#e6f5d0"
            ],
            [
             0.7,
             "#b8e186"
            ],
            [
             0.8,
             "#7fbc41"
            ],
            [
             0.9,
             "#4d9221"
            ],
            [
             1,
             "#276419"
            ]
           ],
           "sequential": [
            [
             0,
             "#0d0887"
            ],
            [
             0.1111111111111111,
             "#46039f"
            ],
            [
             0.2222222222222222,
             "#7201a8"
            ],
            [
             0.3333333333333333,
             "#9c179e"
            ],
            [
             0.4444444444444444,
             "#bd3786"
            ],
            [
             0.5555555555555556,
             "#d8576b"
            ],
            [
             0.6666666666666666,
             "#ed7953"
            ],
            [
             0.7777777777777778,
             "#fb9f3a"
            ],
            [
             0.8888888888888888,
             "#fdca26"
            ],
            [
             1,
             "#f0f921"
            ]
           ],
           "sequentialminus": [
            [
             0,
             "#0d0887"
            ],
            [
             0.1111111111111111,
             "#46039f"
            ],
            [
             0.2222222222222222,
             "#7201a8"
            ],
            [
             0.3333333333333333,
             "#9c179e"
            ],
            [
             0.4444444444444444,
             "#bd3786"
            ],
            [
             0.5555555555555556,
             "#d8576b"
            ],
            [
             0.6666666666666666,
             "#ed7953"
            ],
            [
             0.7777777777777778,
             "#fb9f3a"
            ],
            [
             0.8888888888888888,
             "#fdca26"
            ],
            [
             1,
             "#f0f921"
            ]
           ]
          },
          "colorway": [
           "#636efa",
           "#EF553B",
           "#00cc96",
           "#ab63fa",
           "#FFA15A",
           "#19d3f3",
           "#FF6692",
           "#B6E880",
           "#FF97FF",
           "#FECB52"
          ],
          "font": {
           "color": "#2a3f5f"
          },
          "geo": {
           "bgcolor": "white",
           "lakecolor": "white",
           "landcolor": "#E5ECF6",
           "showlakes": true,
           "showland": true,
           "subunitcolor": "white"
          },
          "hoverlabel": {
           "align": "left"
          },
          "hovermode": "closest",
          "mapbox": {
           "style": "light"
          },
          "paper_bgcolor": "white",
          "plot_bgcolor": "#E5ECF6",
          "polar": {
           "angularaxis": {
            "gridcolor": "white",
            "linecolor": "white",
            "ticks": ""
           },
           "bgcolor": "#E5ECF6",
           "radialaxis": {
            "gridcolor": "white",
            "linecolor": "white",
            "ticks": ""
           }
          },
          "scene": {
           "xaxis": {
            "backgroundcolor": "#E5ECF6",
            "gridcolor": "white",
            "gridwidth": 2,
            "linecolor": "white",
            "showbackground": true,
            "ticks": "",
            "zerolinecolor": "white"
           },
           "yaxis": {
            "backgroundcolor": "#E5ECF6",
            "gridcolor": "white",
            "gridwidth": 2,
            "linecolor": "white",
            "showbackground": true,
            "ticks": "",
            "zerolinecolor": "white"
           },
           "zaxis": {
            "backgroundcolor": "#E5ECF6",
            "gridcolor": "white",
            "gridwidth": 2,
            "linecolor": "white",
            "showbackground": true,
            "ticks": "",
            "zerolinecolor": "white"
           }
          },
          "shapedefaults": {
           "line": {
            "color": "#2a3f5f"
           }
          },
          "ternary": {
           "aaxis": {
            "gridcolor": "white",
            "linecolor": "white",
            "ticks": ""
           },
           "baxis": {
            "gridcolor": "white",
            "linecolor": "white",
            "ticks": ""
           },
           "bgcolor": "#E5ECF6",
           "caxis": {
            "gridcolor": "white",
            "linecolor": "white",
            "ticks": ""
           }
          },
          "title": {
           "x": 0.05
          },
          "xaxis": {
           "automargin": true,
           "gridcolor": "white",
           "linecolor": "white",
           "ticks": "",
           "title": {
            "standoff": 15
           },
           "zerolinecolor": "white",
           "zerolinewidth": 2
          },
          "yaxis": {
           "automargin": true,
           "gridcolor": "white",
           "linecolor": "white",
           "ticks": "",
           "title": {
            "standoff": 15
           },
           "zerolinecolor": "white",
           "zerolinewidth": 2
          }
         }
        },
        "title": {
         "text": "Distribution of Student Writing Scores"
        },
        "xaxis": {
         "anchor": "y",
         "domain": [
          0,
          1
         ],
         "title": {
          "text": "Student Writing Score"
         }
        },
        "yaxis": {
         "anchor": "x",
         "domain": [
          0,
          1
         ],
         "title": {
          "text": "count"
         }
        }
       }
      },
      "text/html": [
       "<div>                            <div id=\"c66d2be8-bfb9-4052-9190-6ea8e17bb501\" class=\"plotly-graph-div\" style=\"height:525px; width:100%;\"></div>            <script type=\"text/javascript\">                require([\"plotly\"], function(Plotly) {                    window.PLOTLYENV=window.PLOTLYENV || {};                                    if (document.getElementById(\"c66d2be8-bfb9-4052-9190-6ea8e17bb501\")) {                    Plotly.newPlot(                        \"c66d2be8-bfb9-4052-9190-6ea8e17bb501\",                        [{\"alignmentgroup\":\"True\",\"bingroup\":\"x\",\"hovertemplate\":\"Student Writing Score=%{x}<br>count=%{y}<extra></extra>\",\"legendgroup\":\"\",\"marker\":{\"color\":\"green\",\"opacity\":0.3,\"pattern\":{\"shape\":\"\"}},\"name\":\"\",\"offsetgroup\":\"\",\"orientation\":\"v\",\"showlegend\":false,\"x\":[74,88,93,44,75,78,92,39,67,50,52,43,73,70,58,78,86,28,46,61,63,70,53,73,80,72,55,75,65,75,74,61,65,38,82,79,83,59,88,57,54,68,65,66,54,57,62,76,76,82,48,68,42,75,87,43,86,49,58,10,72,34,55,71,59,61,37,74,56,57,73,63,48,56,41,38,22,81,72,68,50,45,54,63,34,82,88,74,67,82,74,36,71,50,92,82,62,70,62,62,67,74,89,47,90,72,100,64,70,72,98,49,47,54,100,74,82,79,61,65,89,92,93,56,73,86,67,74,74,51,82,40,70,84,75,48,41,56,67,69,71,64,54,47,78,33,75,66,81,93,69,68,66,47,61,88,78,60,87,64,74,85,52,49,91,100,51,78,78,70,74,78,81,70,54,87,58,77,62,100,75,66,47,70,49,65,65,68,45,87,69,79,66,62,85,52,65,51,55,76,86,77,69,68,42,78,62,76,76,66,79,27,60,56,81,75,88,39,70,56,74,73,62,75,73,54,71,54,64,94,66,42,83,78,84,77,67,74,51,80,66,83,55,43,69,71,74,68,62,53,49,83,70,72,52,70,68,77,78,81,77,78,51,90,68,41,81,77,95,70,61,42,58,71,76,73,93,75,80,57,42,46,84,78,46,82,88,82,76,77,68,70,57,75,80,60,43,68,50,75,81,52,81,64,83,69,81,44,67,52,80,57,68,69,75,65,91,78,69,63,84,79,80,53,43,94,62,19,77,51,61,35,53,81,95,66,69,43,27,60,52,63,74,67,67,75,57,95,66,76,69,52,80,57,70,70,61,69,61,89,59,78,58,32,58,60,53,61,58,85,71,70,72,96,73,41,82,100,77,62,83,95,71,45,43,75,70,67,64,75,59,77,67,56,77,41,63,95,57,54,67,43,55,100,62,68,63,77,56,85,74,78,60,67,79,69,68,67,62,54,93,64,67,80,34,62,86,65,53,54,59,70,55,50,66,53,64,73,51,82,79,80,69,76,73,77,60,80,42,72,85,97,74,49,62,47,89,48,100,68,55,45,76,91,62,91,38,65,85,76,90,74,84,61,91,83,66,72,70,67,68,56,61,46,54,71,56,74,57,82,76,70,90,90,68,66,52,76,68,72,82,92,54,92,54,80,66,54,77,87,73,43,52,62,94,85,84,73,78,79,52,84,57,50,49,59,60,43,47,70,73,53,58,94,68,83,58,62,71,86,68,80,79,89,66,80,97,64,64,69,65,88,50,64,40,33,79,66,70,62,79,74,92,80,46,45,100,78,47,67,70,92,56,64,71,53,52,89,58,68,96,80,78,80,77,76,73,62,65,65,54,50,64,73,99,72,15,48,73,81,63,30,80,51,90,62,82,54,62,65,63,66,91,74,93,72,38,83,84,68,54,56,52,86,62,99,63,46,46,55,70,65,81,85,80,64,81,88,74,73,51,90,79,80,60,81,65,68,55,81,53,76,98,74,79,67,64,61,58,85,73,63,69,67,63,60,71,87,61,77,68,50,76,84,78,66,76,76,78,60,74,60,54,44,68,100,68,73,44,83,53,78,81,73,56,86,90,70,79,59,82,72,87,67,64,65,36,52,79,58,90,85,99,84,74,87,72,99,74,80,70,59,88,42,41,71,77,57,84,37,80,43,94,44,57,59,84,73,73,55,72,56,82,72,47,74,71,68,59,86,68,65,75,85,53,92,52,72,65,77,64,54,86,63,59,72,77,60,75,57,49,74,72,79,60,55,70,43,82,82,57,84,82,62,79,44,77,32,61,61,60,70,69,77,51,73,70,81,54,57,68,73,95,87,78,74,75,40,69,51,36,49,67,76,83,87,64,76,68,88,92,93,51,82,52,58,70,76,81,53,57,89,58,89,45,74,57,79,53,73,46,51,36,76,64,84,85,50,68,69,67,63,93,61,55,96,65,81,46,72,53,87,38,80,91,88,52,41,72,51,47,76,78,82,61,66,84,54,80,74,66,70,71,44,54,80,95,59,74,48,91,85,73,75,69,38,27,79,63,82,89,74,41,100,84,77,51,91,72,70,48,82,66,66,55,66,100,52,80,91,67,46,66,65,69,60,52,71,44,51,70,62,73,74,90,58,53,57,85,69,72,96,64,61,61,58,80,60,52,73,71,83,72,54,69,62,81,100,59,71,64,53,100,75,58,72,64,60,67,80,100,69,60,61,67,77,60,58,48,94,23,78,86,91,82,54,51,76,45,83,75,78,76,74,62,95,55,65,77,86],\"xaxis\":\"x\",\"yaxis\":\"y\",\"type\":\"histogram\"}],                        {\"template\":{\"data\":{\"histogram2dcontour\":[{\"type\":\"histogram2dcontour\",\"colorbar\":{\"outlinewidth\":0,\"ticks\":\"\"},\"colorscale\":[[0.0,\"#0d0887\"],[0.1111111111111111,\"#46039f\"],[0.2222222222222222,\"#7201a8\"],[0.3333333333333333,\"#9c179e\"],[0.4444444444444444,\"#bd3786\"],[0.5555555555555556,\"#d8576b\"],[0.6666666666666666,\"#ed7953\"],[0.7777777777777778,\"#fb9f3a\"],[0.8888888888888888,\"#fdca26\"],[1.0,\"#f0f921\"]]}],\"choropleth\":[{\"type\":\"choropleth\",\"colorbar\":{\"outlinewidth\":0,\"ticks\":\"\"}}],\"histogram2d\":[{\"type\":\"histogram2d\",\"colorbar\":{\"outlinewidth\":0,\"ticks\":\"\"},\"colorscale\":[[0.0,\"#0d0887\"],[0.1111111111111111,\"#46039f\"],[0.2222222222222222,\"#7201a8\"],[0.3333333333333333,\"#9c179e\"],[0.4444444444444444,\"#bd3786\"],[0.5555555555555556,\"#d8576b\"],[0.6666666666666666,\"#ed7953\"],[0.7777777777777778,\"#fb9f3a\"],[0.8888888888888888,\"#fdca26\"],[1.0,\"#f0f921\"]]}],\"heatmap\":[{\"type\":\"heatmap\",\"colorbar\":{\"outlinewidth\":0,\"ticks\":\"\"},\"colorscale\":[[0.0,\"#0d0887\"],[0.1111111111111111,\"#46039f\"],[0.2222222222222222,\"#7201a8\"],[0.3333333333333333,\"#9c179e\"],[0.4444444444444444,\"#bd3786\"],[0.5555555555555556,\"#d8576b\"],[0.6666666666666666,\"#ed7953\"],[0.7777777777777778,\"#fb9f3a\"],[0.8888888888888888,\"#fdca26\"],[1.0,\"#f0f921\"]]}],\"heatmapgl\":[{\"type\":\"heatmapgl\",\"colorbar\":{\"outlinewidth\":0,\"ticks\":\"\"},\"colorscale\":[[0.0,\"#0d0887\"],[0.1111111111111111,\"#46039f\"],[0.2222222222222222,\"#7201a8\"],[0.3333333333333333,\"#9c179e\"],[0.4444444444444444,\"#bd3786\"],[0.5555555555555556,\"#d8576b\"],[0.6666666666666666,\"#ed7953\"],[0.7777777777777778,\"#fb9f3a\"],[0.8888888888888888,\"#fdca26\"],[1.0,\"#f0f921\"]]}],\"contourcarpet\":[{\"type\":\"contourcarpet\",\"colorbar\":{\"outlinewidth\":0,\"ticks\":\"\"}}],\"contour\":[{\"type\":\"contour\",\"colorbar\":{\"outlinewidth\":0,\"ticks\":\"\"},\"colorscale\":[[0.0,\"#0d0887\"],[0.1111111111111111,\"#46039f\"],[0.2222222222222222,\"#7201a8\"],[0.3333333333333333,\"#9c179e\"],[0.4444444444444444,\"#bd3786\"],[0.5555555555555556,\"#d8576b\"],[0.6666666666666666,\"#ed7953\"],[0.7777777777777778,\"#fb9f3a\"],[0.8888888888888888,\"#fdca26\"],[1.0,\"#f0f921\"]]}],\"surface\":[{\"type\":\"surface\",\"colorbar\":{\"outlinewidth\":0,\"ticks\":\"\"},\"colorscale\":[[0.0,\"#0d0887\"],[0.1111111111111111,\"#46039f\"],[0.2222222222222222,\"#7201a8\"],[0.3333333333333333,\"#9c179e\"],[0.4444444444444444,\"#bd3786\"],[0.5555555555555556,\"#d8576b\"],[0.6666666666666666,\"#ed7953\"],[0.7777777777777778,\"#fb9f3a\"],[0.8888888888888888,\"#fdca26\"],[1.0,\"#f0f921\"]]}],\"mesh3d\":[{\"type\":\"mesh3d\",\"colorbar\":{\"outlinewidth\":0,\"ticks\":\"\"}}],\"scatter\":[{\"fillpattern\":{\"fillmode\":\"overlay\",\"size\":10,\"solidity\":0.2},\"type\":\"scatter\"}],\"parcoords\":[{\"type\":\"parcoords\",\"line\":{\"colorbar\":{\"outlinewidth\":0,\"ticks\":\"\"}}}],\"scatterpolargl\":[{\"type\":\"scatterpolargl\",\"marker\":{\"colorbar\":{\"outlinewidth\":0,\"ticks\":\"\"}}}],\"bar\":[{\"error_x\":{\"color\":\"#2a3f5f\"},\"error_y\":{\"color\":\"#2a3f5f\"},\"marker\":{\"line\":{\"color\":\"#E5ECF6\",\"width\":0.5},\"pattern\":{\"fillmode\":\"overlay\",\"size\":10,\"solidity\":0.2}},\"type\":\"bar\"}],\"scattergeo\":[{\"type\":\"scattergeo\",\"marker\":{\"colorbar\":{\"outlinewidth\":0,\"ticks\":\"\"}}}],\"scatterpolar\":[{\"type\":\"scatterpolar\",\"marker\":{\"colorbar\":{\"outlinewidth\":0,\"ticks\":\"\"}}}],\"histogram\":[{\"marker\":{\"pattern\":{\"fillmode\":\"overlay\",\"size\":10,\"solidity\":0.2}},\"type\":\"histogram\"}],\"scattergl\":[{\"type\":\"scattergl\",\"marker\":{\"colorbar\":{\"outlinewidth\":0,\"ticks\":\"\"}}}],\"scatter3d\":[{\"type\":\"scatter3d\",\"line\":{\"colorbar\":{\"outlinewidth\":0,\"ticks\":\"\"}},\"marker\":{\"colorbar\":{\"outlinewidth\":0,\"ticks\":\"\"}}}],\"scattermapbox\":[{\"type\":\"scattermapbox\",\"marker\":{\"colorbar\":{\"outlinewidth\":0,\"ticks\":\"\"}}}],\"scatterternary\":[{\"type\":\"scatterternary\",\"marker\":{\"colorbar\":{\"outlinewidth\":0,\"ticks\":\"\"}}}],\"scattercarpet\":[{\"type\":\"scattercarpet\",\"marker\":{\"colorbar\":{\"outlinewidth\":0,\"ticks\":\"\"}}}],\"carpet\":[{\"aaxis\":{\"endlinecolor\":\"#2a3f5f\",\"gridcolor\":\"white\",\"linecolor\":\"white\",\"minorgridcolor\":\"white\",\"startlinecolor\":\"#2a3f5f\"},\"baxis\":{\"endlinecolor\":\"#2a3f5f\",\"gridcolor\":\"white\",\"linecolor\":\"white\",\"minorgridcolor\":\"white\",\"startlinecolor\":\"#2a3f5f\"},\"type\":\"carpet\"}],\"table\":[{\"cells\":{\"fill\":{\"color\":\"#EBF0F8\"},\"line\":{\"color\":\"white\"}},\"header\":{\"fill\":{\"color\":\"#C8D4E3\"},\"line\":{\"color\":\"white\"}},\"type\":\"table\"}],\"barpolar\":[{\"marker\":{\"line\":{\"color\":\"#E5ECF6\",\"width\":0.5},\"pattern\":{\"fillmode\":\"overlay\",\"size\":10,\"solidity\":0.2}},\"type\":\"barpolar\"}],\"pie\":[{\"automargin\":true,\"type\":\"pie\"}]},\"layout\":{\"autotypenumbers\":\"strict\",\"colorway\":[\"#636efa\",\"#EF553B\",\"#00cc96\",\"#ab63fa\",\"#FFA15A\",\"#19d3f3\",\"#FF6692\",\"#B6E880\",\"#FF97FF\",\"#FECB52\"],\"font\":{\"color\":\"#2a3f5f\"},\"hovermode\":\"closest\",\"hoverlabel\":{\"align\":\"left\"},\"paper_bgcolor\":\"white\",\"plot_bgcolor\":\"#E5ECF6\",\"polar\":{\"bgcolor\":\"#E5ECF6\",\"angularaxis\":{\"gridcolor\":\"white\",\"linecolor\":\"white\",\"ticks\":\"\"},\"radialaxis\":{\"gridcolor\":\"white\",\"linecolor\":\"white\",\"ticks\":\"\"}},\"ternary\":{\"bgcolor\":\"#E5ECF6\",\"aaxis\":{\"gridcolor\":\"white\",\"linecolor\":\"white\",\"ticks\":\"\"},\"baxis\":{\"gridcolor\":\"white\",\"linecolor\":\"white\",\"ticks\":\"\"},\"caxis\":{\"gridcolor\":\"white\",\"linecolor\":\"white\",\"ticks\":\"\"}},\"coloraxis\":{\"colorbar\":{\"outlinewidth\":0,\"ticks\":\"\"}},\"colorscale\":{\"sequential\":[[0.0,\"#0d0887\"],[0.1111111111111111,\"#46039f\"],[0.2222222222222222,\"#7201a8\"],[0.3333333333333333,\"#9c179e\"],[0.4444444444444444,\"#bd3786\"],[0.5555555555555556,\"#d8576b\"],[0.6666666666666666,\"#ed7953\"],[0.7777777777777778,\"#fb9f3a\"],[0.8888888888888888,\"#fdca26\"],[1.0,\"#f0f921\"]],\"sequentialminus\":[[0.0,\"#0d0887\"],[0.1111111111111111,\"#46039f\"],[0.2222222222222222,\"#7201a8\"],[0.3333333333333333,\"#9c179e\"],[0.4444444444444444,\"#bd3786\"],[0.5555555555555556,\"#d8576b\"],[0.6666666666666666,\"#ed7953\"],[0.7777777777777778,\"#fb9f3a\"],[0.8888888888888888,\"#fdca26\"],[1.0,\"#f0f921\"]],\"diverging\":[[0,\"#8e0152\"],[0.1,\"#c51b7d\"],[0.2,\"#de77ae\"],[0.3,\"#f1b6da\"],[0.4,\"#fde0ef\"],[0.5,\"#f7f7f7\"],[0.6,\"#e6f5d0\"],[0.7,\"#b8e186\"],[0.8,\"#7fbc41\"],[0.9,\"#4d9221\"],[1,\"#276419\"]]},\"xaxis\":{\"gridcolor\":\"white\",\"linecolor\":\"white\",\"ticks\":\"\",\"title\":{\"standoff\":15},\"zerolinecolor\":\"white\",\"automargin\":true,\"zerolinewidth\":2},\"yaxis\":{\"gridcolor\":\"white\",\"linecolor\":\"white\",\"ticks\":\"\",\"title\":{\"standoff\":15},\"zerolinecolor\":\"white\",\"automargin\":true,\"zerolinewidth\":2},\"scene\":{\"xaxis\":{\"backgroundcolor\":\"#E5ECF6\",\"gridcolor\":\"white\",\"linecolor\":\"white\",\"showbackground\":true,\"ticks\":\"\",\"zerolinecolor\":\"white\",\"gridwidth\":2},\"yaxis\":{\"backgroundcolor\":\"#E5ECF6\",\"gridcolor\":\"white\",\"linecolor\":\"white\",\"showbackground\":true,\"ticks\":\"\",\"zerolinecolor\":\"white\",\"gridwidth\":2},\"zaxis\":{\"backgroundcolor\":\"#E5ECF6\",\"gridcolor\":\"white\",\"linecolor\":\"white\",\"showbackground\":true,\"ticks\":\"\",\"zerolinecolor\":\"white\",\"gridwidth\":2}},\"shapedefaults\":{\"line\":{\"color\":\"#2a3f5f\"}},\"annotationdefaults\":{\"arrowcolor\":\"#2a3f5f\",\"arrowhead\":0,\"arrowwidth\":1},\"geo\":{\"bgcolor\":\"white\",\"landcolor\":\"#E5ECF6\",\"subunitcolor\":\"white\",\"showland\":true,\"showlakes\":true,\"lakecolor\":\"white\"},\"title\":{\"x\":0.05},\"mapbox\":{\"style\":\"light\"}}},\"xaxis\":{\"anchor\":\"y\",\"domain\":[0.0,1.0],\"title\":{\"text\":\"Student Writing Score\"}},\"yaxis\":{\"anchor\":\"x\",\"domain\":[0.0,1.0],\"title\":{\"text\":\"count\"}},\"legend\":{\"tracegroupgap\":0},\"title\":{\"text\":\"Distribution of Student Writing Scores\"},\"barmode\":\"relative\"},                        {\"responsive\": true}                    ).then(function(){\n",
       "                            \n",
       "var gd = document.getElementById('c66d2be8-bfb9-4052-9190-6ea8e17bb501');\n",
       "var x = new MutationObserver(function (mutations, observer) {{\n",
       "        var display = window.getComputedStyle(gd).display;\n",
       "        if (!display || display === 'none') {{\n",
       "            console.log([gd, 'removed!']);\n",
       "            Plotly.purge(gd);\n",
       "            observer.disconnect();\n",
       "        }}\n",
       "}});\n",
       "\n",
       "// Listen for the removal of the full notebook cells\n",
       "var notebookContainer = gd.closest('#notebook-container');\n",
       "if (notebookContainer) {{\n",
       "    x.observe(notebookContainer, {childList: true});\n",
       "}}\n",
       "\n",
       "// Listen for the clearing of the current output cell\n",
       "var outputEl = gd.closest('.output');\n",
       "if (outputEl) {{\n",
       "    x.observe(outputEl, {childList: true});\n",
       "}}\n",
       "\n",
       "                        })                };                });            </script>        </div>"
      ]
     },
     "metadata": {},
     "output_type": "display_data"
    }
   ],
   "source": [
    "#Begin exploration\n",
    "#Plot histograms of the scores, which are quantitative/numerical values\n",
    "\n",
    "#import seaborn as ns\n",
    "#import matplotlib as plt\n",
    "import plotly.express as px\n",
    "\n",
    "px.histogram(student_data, x = \"writing score\",\n",
    "             color_discrete_sequence = ['green'],\n",
    "             opacity = 0.3,\n",
    "             title = \"Distribution of Student Writing Scores\",\n",
    "             labels={\n",
    "                     \"count\": \"Frequency\",\n",
    "                     \"writing score\": \"Student Writing Score\"                    \n",
    "                 },\n",
    "            )"
   ]
  },
  {
   "cell_type": "code",
   "execution_count": 32,
   "id": "682d3d84",
   "metadata": {
    "scrolled": true
   },
   "outputs": [
    {
     "data": {
      "application/vnd.plotly.v1+json": {
       "config": {
        "plotlyServerURL": "https://plot.ly"
       },
       "data": [
        {
         "alignmentgroup": "True",
         "bingroup": "x",
         "hovertemplate": "Student Math Score=%{x}<br>count=%{y}<extra></extra>",
         "legendgroup": "",
         "marker": {
          "color": "blue",
          "opacity": 0.3,
          "pattern": {
           "shape": ""
          }
         },
         "name": "",
         "offsetgroup": "",
         "orientation": "v",
         "showlegend": false,
         "type": "histogram",
         "x": [
          72,
          69,
          90,
          47,
          76,
          71,
          88,
          40,
          64,
          38,
          58,
          40,
          65,
          78,
          50,
          69,
          88,
          18,
          46,
          54,
          66,
          65,
          44,
          69,
          74,
          73,
          69,
          67,
          70,
          62,
          69,
          63,
          56,
          40,
          97,
          81,
          74,
          50,
          75,
          57,
          55,
          58,
          53,
          59,
          50,
          65,
          55,
          66,
          57,
          82,
          53,
          77,
          53,
          88,
          71,
          33,
          82,
          52,
          58,
          0,
          79,
          39,
          62,
          69,
          59,
          67,
          45,
          60,
          61,
          39,
          58,
          63,
          41,
          61,
          49,
          44,
          30,
          80,
          61,
          62,
          47,
          49,
          50,
          72,
          42,
          73,
          76,
          71,
          58,
          73,
          65,
          27,
          71,
          43,
          79,
          78,
          65,
          63,
          58,
          65,
          79,
          68,
          85,
          60,
          98,
          58,
          87,
          66,
          52,
          70,
          77,
          62,
          54,
          51,
          99,
          84,
          75,
          78,
          51,
          55,
          79,
          91,
          88,
          63,
          83,
          87,
          72,
          65,
          82,
          51,
          89,
          53,
          87,
          75,
          74,
          58,
          51,
          70,
          59,
          71,
          76,
          59,
          42,
          57,
          88,
          22,
          88,
          73,
          68,
          100,
          62,
          77,
          59,
          54,
          62,
          70,
          66,
          60,
          61,
          66,
          82,
          75,
          49,
          52,
          81,
          96,
          53,
          58,
          68,
          67,
          72,
          94,
          79,
          63,
          43,
          81,
          46,
          71,
          52,
          97,
          62,
          46,
          50,
          65,
          45,
          65,
          80,
          62,
          48,
          77,
          66,
          76,
          62,
          77,
          69,
          61,
          59,
          55,
          45,
          78,
          67,
          65,
          69,
          57,
          59,
          74,
          82,
          81,
          74,
          58,
          80,
          35,
          42,
          60,
          87,
          84,
          83,
          34,
          66,
          61,
          56,
          87,
          55,
          86,
          52,
          45,
          72,
          57,
          68,
          88,
          76,
          46,
          67,
          92,
          83,
          80,
          63,
          64,
          54,
          84,
          73,
          80,
          56,
          59,
          75,
          85,
          89,
          58,
          65,
          68,
          47,
          71,
          60,
          80,
          54,
          62,
          64,
          78,
          70,
          65,
          64,
          79,
          44,
          99,
          76,
          59,
          63,
          69,
          88,
          71,
          69,
          58,
          47,
          65,
          88,
          83,
          85,
          59,
          65,
          73,
          53,
          45,
          73,
          70,
          37,
          81,
          97,
          67,
          88,
          77,
          76,
          86,
          63,
          65,
          78,
          67,
          46,
          71,
          40,
          90,
          81,
          56,
          67,
          80,
          74,
          69,
          99,
          51,
          53,
          49,
          73,
          66,
          67,
          68,
          59,
          71,
          77,
          83,
          63,
          56,
          67,
          75,
          71,
          43,
          41,
          82,
          61,
          28,
          82,
          41,
          71,
          47,
          62,
          90,
          83,
          61,
          76,
          49,
          24,
          35,
          58,
          61,
          69,
          67,
          79,
          72,
          62,
          77,
          75,
          87,
          52,
          66,
          63,
          46,
          59,
          61,
          63,
          42,
          59,
          80,
          58,
          85,
          52,
          27,
          59,
          49,
          69,
          61,
          44,
          73,
          84,
          45,
          74,
          82,
          59,
          46,
          80,
          85,
          71,
          66,
          80,
          87,
          79,
          38,
          38,
          67,
          64,
          57,
          62,
          73,
          73,
          77,
          76,
          57,
          65,
          48,
          50,
          85,
          74,
          60,
          59,
          53,
          49,
          88,
          54,
          63,
          65,
          82,
          52,
          87,
          70,
          84,
          71,
          63,
          51,
          84,
          71,
          74,
          68,
          57,
          82,
          57,
          47,
          59,
          41,
          62,
          86,
          69,
          65,
          68,
          64,
          61,
          61,
          47,
          73,
          50,
          75,
          75,
          70,
          89,
          67,
          78,
          59,
          73,
          79,
          67,
          69,
          86,
          47,
          81,
          64,
          100,
          65,
          65,
          53,
          37,
          79,
          53,
          100,
          72,
          53,
          54,
          71,
          77,
          75,
          84,
          26,
          72,
          77,
          91,
          83,
          63,
          68,
          59,
          90,
          71,
          76,
          80,
          55,
          76,
          73,
          52,
          68,
          59,
          49,
          70,
          61,
          60,
          64,
          79,
          65,
          64,
          83,
          81,
          54,
          68,
          54,
          59,
          66,
          76,
          74,
          94,
          63,
          95,
          40,
          82,
          68,
          55,
          79,
          86,
          76,
          64,
          62,
          54,
          77,
          76,
          74,
          66,
          66,
          67,
          71,
          91,
          69,
          54,
          53,
          68,
          56,
          36,
          29,
          62,
          68,
          47,
          62,
          79,
          73,
          66,
          51,
          51,
          85,
          97,
          75,
          79,
          81,
          82,
          64,
          78,
          92,
          72,
          62,
          79,
          79,
          87,
          40,
          77,
          53,
          32,
          55,
          61,
          53,
          73,
          74,
          63,
          96,
          63,
          48,
          48,
          92,
          61,
          63,
          68,
          71,
          91,
          53,
          50,
          74,
          40,
          61,
          81,
          48,
          53,
          81,
          77,
          63,
          73,
          69,
          65,
          55,
          44,
          54,
          48,
          58,
          71,
          68,
          74,
          92,
          56,
          30,
          53,
          69,
          65,
          54,
          29,
          76,
          60,
          84,
          75,
          85,
          40,
          61,
          58,
          69,
          58,
          94,
          65,
          82,
          60,
          37,
          88,
          95,
          65,
          35,
          62,
          58,
          100,
          61,
          100,
          69,
          61,
          49,
          44,
          67,
          79,
          66,
          75,
          84,
          71,
          67,
          80,
          86,
          76,
          41,
          74,
          72,
          74,
          70,
          65,
          59,
          64,
          50,
          69,
          51,
          68,
          85,
          65,
          73,
          62,
          77,
          69,
          43,
          90,
          74,
          73,
          55,
          65,
          80,
          50,
          63,
          77,
          73,
          81,
          66,
          52,
          69,
          65,
          69,
          50,
          73,
          70,
          81,
          63,
          67,
          60,
          62,
          29,
          62,
          94,
          85,
          77,
          53,
          93,
          49,
          73,
          66,
          77,
          49,
          79,
          75,
          59,
          57,
          66,
          79,
          57,
          87,
          63,
          59,
          62,
          46,
          66,
          89,
          42,
          93,
          80,
          98,
          81,
          60,
          76,
          73,
          96,
          76,
          91,
          62,
          55,
          74,
          50,
          47,
          81,
          65,
          68,
          73,
          53,
          68,
          55,
          87,
          55,
          53,
          67,
          92,
          53,
          81,
          61,
          80,
          37,
          81,
          59,
          55,
          72,
          69,
          69,
          50,
          87,
          71,
          68,
          79,
          77,
          58,
          84,
          55,
          70,
          52,
          69,
          53,
          48,
          78,
          62,
          60,
          74,
          58,
          76,
          68,
          58,
          52,
          75,
          52,
          62,
          66,
          49,
          66,
          35,
          72,
          94,
          46,
          77,
          76,
          52,
          91,
          32,
          72,
          19,
          68,
          52,
          48,
          60,
          66,
          89,
          42,
          57,
          70,
          70,
          69,
          52,
          67,
          76,
          87,
          82,
          73,
          75,
          64,
          41,
          90,
          59,
          51,
          45,
          54,
          87,
          72,
          94,
          45,
          61,
          60,
          77,
          85,
          78,
          49,
          71,
          48,
          62,
          56,
          65,
          69,
          68,
          61,
          74,
          64,
          77,
          58,
          60,
          73,
          75,
          58,
          66,
          39,
          64,
          23,
          74,
          40,
          90,
          91,
          64,
          59,
          80,
          71,
          61,
          87,
          82,
          62,
          97,
          75,
          65,
          52,
          87,
          53,
          81,
          39,
          71,
          97,
          82,
          59,
          61,
          78,
          49,
          59,
          70,
          82,
          90,
          43,
          80,
          81,
          57,
          59,
          64,
          63,
          71,
          64,
          55,
          51,
          62,
          93,
          54,
          69,
          44,
          86,
          85,
          50,
          88,
          59,
          32,
          36,
          63,
          67,
          65,
          85,
          73,
          34,
          93,
          67,
          88,
          57,
          79,
          67,
          70,
          50,
          69,
          52,
          47,
          46,
          68,
          100,
          44,
          57,
          91,
          69,
          35,
          72,
          54,
          74,
          74,
          64,
          65,
          46,
          48,
          67,
          62,
          61,
          70,
          98,
          70,
          67,
          57,
          85,
          77,
          72,
          78,
          81,
          61,
          58,
          54,
          82,
          49,
          49,
          57,
          94,
          75,
          74,
          58,
          62,
          72,
          84,
          92,
          45,
          75,
          56,
          48,
          100,
          65,
          72,
          62,
          66,
          63,
          68,
          75,
          89,
          78,
          53,
          49,
          54,
          64,
          60,
          62,
          55,
          91,
          8,
          81,
          79,
          78,
          74,
          57,
          40,
          81,
          44,
          67,
          86,
          65,
          55,
          62,
          63,
          88,
          62,
          59,
          68,
          77
         ],
         "xaxis": "x",
         "yaxis": "y"
        }
       ],
       "layout": {
        "barmode": "relative",
        "legend": {
         "tracegroupgap": 0
        },
        "template": {
         "data": {
          "bar": [
           {
            "error_x": {
             "color": "#2a3f5f"
            },
            "error_y": {
             "color": "#2a3f5f"
            },
            "marker": {
             "line": {
              "color": "#E5ECF6",
              "width": 0.5
             },
             "pattern": {
              "fillmode": "overlay",
              "size": 10,
              "solidity": 0.2
             }
            },
            "type": "bar"
           }
          ],
          "barpolar": [
           {
            "marker": {
             "line": {
              "color": "#E5ECF6",
              "width": 0.5
             },
             "pattern": {
              "fillmode": "overlay",
              "size": 10,
              "solidity": 0.2
             }
            },
            "type": "barpolar"
           }
          ],
          "carpet": [
           {
            "aaxis": {
             "endlinecolor": "#2a3f5f",
             "gridcolor": "white",
             "linecolor": "white",
             "minorgridcolor": "white",
             "startlinecolor": "#2a3f5f"
            },
            "baxis": {
             "endlinecolor": "#2a3f5f",
             "gridcolor": "white",
             "linecolor": "white",
             "minorgridcolor": "white",
             "startlinecolor": "#2a3f5f"
            },
            "type": "carpet"
           }
          ],
          "choropleth": [
           {
            "colorbar": {
             "outlinewidth": 0,
             "ticks": ""
            },
            "type": "choropleth"
           }
          ],
          "contour": [
           {
            "colorbar": {
             "outlinewidth": 0,
             "ticks": ""
            },
            "colorscale": [
             [
              0,
              "#0d0887"
             ],
             [
              0.1111111111111111,
              "#46039f"
             ],
             [
              0.2222222222222222,
              "#7201a8"
             ],
             [
              0.3333333333333333,
              "#9c179e"
             ],
             [
              0.4444444444444444,
              "#bd3786"
             ],
             [
              0.5555555555555556,
              "#d8576b"
             ],
             [
              0.6666666666666666,
              "#ed7953"
             ],
             [
              0.7777777777777778,
              "#fb9f3a"
             ],
             [
              0.8888888888888888,
              "#fdca26"
             ],
             [
              1,
              "#f0f921"
             ]
            ],
            "type": "contour"
           }
          ],
          "contourcarpet": [
           {
            "colorbar": {
             "outlinewidth": 0,
             "ticks": ""
            },
            "type": "contourcarpet"
           }
          ],
          "heatmap": [
           {
            "colorbar": {
             "outlinewidth": 0,
             "ticks": ""
            },
            "colorscale": [
             [
              0,
              "#0d0887"
             ],
             [
              0.1111111111111111,
              "#46039f"
             ],
             [
              0.2222222222222222,
              "#7201a8"
             ],
             [
              0.3333333333333333,
              "#9c179e"
             ],
             [
              0.4444444444444444,
              "#bd3786"
             ],
             [
              0.5555555555555556,
              "#d8576b"
             ],
             [
              0.6666666666666666,
              "#ed7953"
             ],
             [
              0.7777777777777778,
              "#fb9f3a"
             ],
             [
              0.8888888888888888,
              "#fdca26"
             ],
             [
              1,
              "#f0f921"
             ]
            ],
            "type": "heatmap"
           }
          ],
          "heatmapgl": [
           {
            "colorbar": {
             "outlinewidth": 0,
             "ticks": ""
            },
            "colorscale": [
             [
              0,
              "#0d0887"
             ],
             [
              0.1111111111111111,
              "#46039f"
             ],
             [
              0.2222222222222222,
              "#7201a8"
             ],
             [
              0.3333333333333333,
              "#9c179e"
             ],
             [
              0.4444444444444444,
              "#bd3786"
             ],
             [
              0.5555555555555556,
              "#d8576b"
             ],
             [
              0.6666666666666666,
              "#ed7953"
             ],
             [
              0.7777777777777778,
              "#fb9f3a"
             ],
             [
              0.8888888888888888,
              "#fdca26"
             ],
             [
              1,
              "#f0f921"
             ]
            ],
            "type": "heatmapgl"
           }
          ],
          "histogram": [
           {
            "marker": {
             "pattern": {
              "fillmode": "overlay",
              "size": 10,
              "solidity": 0.2
             }
            },
            "type": "histogram"
           }
          ],
          "histogram2d": [
           {
            "colorbar": {
             "outlinewidth": 0,
             "ticks": ""
            },
            "colorscale": [
             [
              0,
              "#0d0887"
             ],
             [
              0.1111111111111111,
              "#46039f"
             ],
             [
              0.2222222222222222,
              "#7201a8"
             ],
             [
              0.3333333333333333,
              "#9c179e"
             ],
             [
              0.4444444444444444,
              "#bd3786"
             ],
             [
              0.5555555555555556,
              "#d8576b"
             ],
             [
              0.6666666666666666,
              "#ed7953"
             ],
             [
              0.7777777777777778,
              "#fb9f3a"
             ],
             [
              0.8888888888888888,
              "#fdca26"
             ],
             [
              1,
              "#f0f921"
             ]
            ],
            "type": "histogram2d"
           }
          ],
          "histogram2dcontour": [
           {
            "colorbar": {
             "outlinewidth": 0,
             "ticks": ""
            },
            "colorscale": [
             [
              0,
              "#0d0887"
             ],
             [
              0.1111111111111111,
              "#46039f"
             ],
             [
              0.2222222222222222,
              "#7201a8"
             ],
             [
              0.3333333333333333,
              "#9c179e"
             ],
             [
              0.4444444444444444,
              "#bd3786"
             ],
             [
              0.5555555555555556,
              "#d8576b"
             ],
             [
              0.6666666666666666,
              "#ed7953"
             ],
             [
              0.7777777777777778,
              "#fb9f3a"
             ],
             [
              0.8888888888888888,
              "#fdca26"
             ],
             [
              1,
              "#f0f921"
             ]
            ],
            "type": "histogram2dcontour"
           }
          ],
          "mesh3d": [
           {
            "colorbar": {
             "outlinewidth": 0,
             "ticks": ""
            },
            "type": "mesh3d"
           }
          ],
          "parcoords": [
           {
            "line": {
             "colorbar": {
              "outlinewidth": 0,
              "ticks": ""
             }
            },
            "type": "parcoords"
           }
          ],
          "pie": [
           {
            "automargin": true,
            "type": "pie"
           }
          ],
          "scatter": [
           {
            "fillpattern": {
             "fillmode": "overlay",
             "size": 10,
             "solidity": 0.2
            },
            "type": "scatter"
           }
          ],
          "scatter3d": [
           {
            "line": {
             "colorbar": {
              "outlinewidth": 0,
              "ticks": ""
             }
            },
            "marker": {
             "colorbar": {
              "outlinewidth": 0,
              "ticks": ""
             }
            },
            "type": "scatter3d"
           }
          ],
          "scattercarpet": [
           {
            "marker": {
             "colorbar": {
              "outlinewidth": 0,
              "ticks": ""
             }
            },
            "type": "scattercarpet"
           }
          ],
          "scattergeo": [
           {
            "marker": {
             "colorbar": {
              "outlinewidth": 0,
              "ticks": ""
             }
            },
            "type": "scattergeo"
           }
          ],
          "scattergl": [
           {
            "marker": {
             "colorbar": {
              "outlinewidth": 0,
              "ticks": ""
             }
            },
            "type": "scattergl"
           }
          ],
          "scattermapbox": [
           {
            "marker": {
             "colorbar": {
              "outlinewidth": 0,
              "ticks": ""
             }
            },
            "type": "scattermapbox"
           }
          ],
          "scatterpolar": [
           {
            "marker": {
             "colorbar": {
              "outlinewidth": 0,
              "ticks": ""
             }
            },
            "type": "scatterpolar"
           }
          ],
          "scatterpolargl": [
           {
            "marker": {
             "colorbar": {
              "outlinewidth": 0,
              "ticks": ""
             }
            },
            "type": "scatterpolargl"
           }
          ],
          "scatterternary": [
           {
            "marker": {
             "colorbar": {
              "outlinewidth": 0,
              "ticks": ""
             }
            },
            "type": "scatterternary"
           }
          ],
          "surface": [
           {
            "colorbar": {
             "outlinewidth": 0,
             "ticks": ""
            },
            "colorscale": [
             [
              0,
              "#0d0887"
             ],
             [
              0.1111111111111111,
              "#46039f"
             ],
             [
              0.2222222222222222,
              "#7201a8"
             ],
             [
              0.3333333333333333,
              "#9c179e"
             ],
             [
              0.4444444444444444,
              "#bd3786"
             ],
             [
              0.5555555555555556,
              "#d8576b"
             ],
             [
              0.6666666666666666,
              "#ed7953"
             ],
             [
              0.7777777777777778,
              "#fb9f3a"
             ],
             [
              0.8888888888888888,
              "#fdca26"
             ],
             [
              1,
              "#f0f921"
             ]
            ],
            "type": "surface"
           }
          ],
          "table": [
           {
            "cells": {
             "fill": {
              "color": "#EBF0F8"
             },
             "line": {
              "color": "white"
             }
            },
            "header": {
             "fill": {
              "color": "#C8D4E3"
             },
             "line": {
              "color": "white"
             }
            },
            "type": "table"
           }
          ]
         },
         "layout": {
          "annotationdefaults": {
           "arrowcolor": "#2a3f5f",
           "arrowhead": 0,
           "arrowwidth": 1
          },
          "autotypenumbers": "strict",
          "coloraxis": {
           "colorbar": {
            "outlinewidth": 0,
            "ticks": ""
           }
          },
          "colorscale": {
           "diverging": [
            [
             0,
             "#8e0152"
            ],
            [
             0.1,
             "#c51b7d"
            ],
            [
             0.2,
             "#de77ae"
            ],
            [
             0.3,
             "#f1b6da"
            ],
            [
             0.4,
             "#fde0ef"
            ],
            [
             0.5,
             "#f7f7f7"
            ],
            [
             0.6,
             "#e6f5d0"
            ],
            [
             0.7,
             "#b8e186"
            ],
            [
             0.8,
             "#7fbc41"
            ],
            [
             0.9,
             "#4d9221"
            ],
            [
             1,
             "#276419"
            ]
           ],
           "sequential": [
            [
             0,
             "#0d0887"
            ],
            [
             0.1111111111111111,
             "#46039f"
            ],
            [
             0.2222222222222222,
             "#7201a8"
            ],
            [
             0.3333333333333333,
             "#9c179e"
            ],
            [
             0.4444444444444444,
             "#bd3786"
            ],
            [
             0.5555555555555556,
             "#d8576b"
            ],
            [
             0.6666666666666666,
             "#ed7953"
            ],
            [
             0.7777777777777778,
             "#fb9f3a"
            ],
            [
             0.8888888888888888,
             "#fdca26"
            ],
            [
             1,
             "#f0f921"
            ]
           ],
           "sequentialminus": [
            [
             0,
             "#0d0887"
            ],
            [
             0.1111111111111111,
             "#46039f"
            ],
            [
             0.2222222222222222,
             "#7201a8"
            ],
            [
             0.3333333333333333,
             "#9c179e"
            ],
            [
             0.4444444444444444,
             "#bd3786"
            ],
            [
             0.5555555555555556,
             "#d8576b"
            ],
            [
             0.6666666666666666,
             "#ed7953"
            ],
            [
             0.7777777777777778,
             "#fb9f3a"
            ],
            [
             0.8888888888888888,
             "#fdca26"
            ],
            [
             1,
             "#f0f921"
            ]
           ]
          },
          "colorway": [
           "#636efa",
           "#EF553B",
           "#00cc96",
           "#ab63fa",
           "#FFA15A",
           "#19d3f3",
           "#FF6692",
           "#B6E880",
           "#FF97FF",
           "#FECB52"
          ],
          "font": {
           "color": "#2a3f5f"
          },
          "geo": {
           "bgcolor": "white",
           "lakecolor": "white",
           "landcolor": "#E5ECF6",
           "showlakes": true,
           "showland": true,
           "subunitcolor": "white"
          },
          "hoverlabel": {
           "align": "left"
          },
          "hovermode": "closest",
          "mapbox": {
           "style": "light"
          },
          "paper_bgcolor": "white",
          "plot_bgcolor": "#E5ECF6",
          "polar": {
           "angularaxis": {
            "gridcolor": "white",
            "linecolor": "white",
            "ticks": ""
           },
           "bgcolor": "#E5ECF6",
           "radialaxis": {
            "gridcolor": "white",
            "linecolor": "white",
            "ticks": ""
           }
          },
          "scene": {
           "xaxis": {
            "backgroundcolor": "#E5ECF6",
            "gridcolor": "white",
            "gridwidth": 2,
            "linecolor": "white",
            "showbackground": true,
            "ticks": "",
            "zerolinecolor": "white"
           },
           "yaxis": {
            "backgroundcolor": "#E5ECF6",
            "gridcolor": "white",
            "gridwidth": 2,
            "linecolor": "white",
            "showbackground": true,
            "ticks": "",
            "zerolinecolor": "white"
           },
           "zaxis": {
            "backgroundcolor": "#E5ECF6",
            "gridcolor": "white",
            "gridwidth": 2,
            "linecolor": "white",
            "showbackground": true,
            "ticks": "",
            "zerolinecolor": "white"
           }
          },
          "shapedefaults": {
           "line": {
            "color": "#2a3f5f"
           }
          },
          "ternary": {
           "aaxis": {
            "gridcolor": "white",
            "linecolor": "white",
            "ticks": ""
           },
           "baxis": {
            "gridcolor": "white",
            "linecolor": "white",
            "ticks": ""
           },
           "bgcolor": "#E5ECF6",
           "caxis": {
            "gridcolor": "white",
            "linecolor": "white",
            "ticks": ""
           }
          },
          "title": {
           "x": 0.05
          },
          "xaxis": {
           "automargin": true,
           "gridcolor": "white",
           "linecolor": "white",
           "ticks": "",
           "title": {
            "standoff": 15
           },
           "zerolinecolor": "white",
           "zerolinewidth": 2
          },
          "yaxis": {
           "automargin": true,
           "gridcolor": "white",
           "linecolor": "white",
           "ticks": "",
           "title": {
            "standoff": 15
           },
           "zerolinecolor": "white",
           "zerolinewidth": 2
          }
         }
        },
        "title": {
         "text": "Distribution of Student Math Scores"
        },
        "xaxis": {
         "anchor": "y",
         "domain": [
          0,
          1
         ],
         "title": {
          "text": "Student Math Score"
         }
        },
        "yaxis": {
         "anchor": "x",
         "domain": [
          0,
          1
         ],
         "title": {
          "text": "count"
         }
        }
       }
      },
      "text/html": [
       "<div>                            <div id=\"a468a352-4bef-427c-9f82-4ad8239a0026\" class=\"plotly-graph-div\" style=\"height:525px; width:100%;\"></div>            <script type=\"text/javascript\">                require([\"plotly\"], function(Plotly) {                    window.PLOTLYENV=window.PLOTLYENV || {};                                    if (document.getElementById(\"a468a352-4bef-427c-9f82-4ad8239a0026\")) {                    Plotly.newPlot(                        \"a468a352-4bef-427c-9f82-4ad8239a0026\",                        [{\"alignmentgroup\":\"True\",\"bingroup\":\"x\",\"hovertemplate\":\"Student Math Score=%{x}<br>count=%{y}<extra></extra>\",\"legendgroup\":\"\",\"marker\":{\"color\":\"blue\",\"opacity\":0.3,\"pattern\":{\"shape\":\"\"}},\"name\":\"\",\"offsetgroup\":\"\",\"orientation\":\"v\",\"showlegend\":false,\"x\":[72,69,90,47,76,71,88,40,64,38,58,40,65,78,50,69,88,18,46,54,66,65,44,69,74,73,69,67,70,62,69,63,56,40,97,81,74,50,75,57,55,58,53,59,50,65,55,66,57,82,53,77,53,88,71,33,82,52,58,0,79,39,62,69,59,67,45,60,61,39,58,63,41,61,49,44,30,80,61,62,47,49,50,72,42,73,76,71,58,73,65,27,71,43,79,78,65,63,58,65,79,68,85,60,98,58,87,66,52,70,77,62,54,51,99,84,75,78,51,55,79,91,88,63,83,87,72,65,82,51,89,53,87,75,74,58,51,70,59,71,76,59,42,57,88,22,88,73,68,100,62,77,59,54,62,70,66,60,61,66,82,75,49,52,81,96,53,58,68,67,72,94,79,63,43,81,46,71,52,97,62,46,50,65,45,65,80,62,48,77,66,76,62,77,69,61,59,55,45,78,67,65,69,57,59,74,82,81,74,58,80,35,42,60,87,84,83,34,66,61,56,87,55,86,52,45,72,57,68,88,76,46,67,92,83,80,63,64,54,84,73,80,56,59,75,85,89,58,65,68,47,71,60,80,54,62,64,78,70,65,64,79,44,99,76,59,63,69,88,71,69,58,47,65,88,83,85,59,65,73,53,45,73,70,37,81,97,67,88,77,76,86,63,65,78,67,46,71,40,90,81,56,67,80,74,69,99,51,53,49,73,66,67,68,59,71,77,83,63,56,67,75,71,43,41,82,61,28,82,41,71,47,62,90,83,61,76,49,24,35,58,61,69,67,79,72,62,77,75,87,52,66,63,46,59,61,63,42,59,80,58,85,52,27,59,49,69,61,44,73,84,45,74,82,59,46,80,85,71,66,80,87,79,38,38,67,64,57,62,73,73,77,76,57,65,48,50,85,74,60,59,53,49,88,54,63,65,82,52,87,70,84,71,63,51,84,71,74,68,57,82,57,47,59,41,62,86,69,65,68,64,61,61,47,73,50,75,75,70,89,67,78,59,73,79,67,69,86,47,81,64,100,65,65,53,37,79,53,100,72,53,54,71,77,75,84,26,72,77,91,83,63,68,59,90,71,76,80,55,76,73,52,68,59,49,70,61,60,64,79,65,64,83,81,54,68,54,59,66,76,74,94,63,95,40,82,68,55,79,86,76,64,62,54,77,76,74,66,66,67,71,91,69,54,53,68,56,36,29,62,68,47,62,79,73,66,51,51,85,97,75,79,81,82,64,78,92,72,62,79,79,87,40,77,53,32,55,61,53,73,74,63,96,63,48,48,92,61,63,68,71,91,53,50,74,40,61,81,48,53,81,77,63,73,69,65,55,44,54,48,58,71,68,74,92,56,30,53,69,65,54,29,76,60,84,75,85,40,61,58,69,58,94,65,82,60,37,88,95,65,35,62,58,100,61,100,69,61,49,44,67,79,66,75,84,71,67,80,86,76,41,74,72,74,70,65,59,64,50,69,51,68,85,65,73,62,77,69,43,90,74,73,55,65,80,50,63,77,73,81,66,52,69,65,69,50,73,70,81,63,67,60,62,29,62,94,85,77,53,93,49,73,66,77,49,79,75,59,57,66,79,57,87,63,59,62,46,66,89,42,93,80,98,81,60,76,73,96,76,91,62,55,74,50,47,81,65,68,73,53,68,55,87,55,53,67,92,53,81,61,80,37,81,59,55,72,69,69,50,87,71,68,79,77,58,84,55,70,52,69,53,48,78,62,60,74,58,76,68,58,52,75,52,62,66,49,66,35,72,94,46,77,76,52,91,32,72,19,68,52,48,60,66,89,42,57,70,70,69,52,67,76,87,82,73,75,64,41,90,59,51,45,54,87,72,94,45,61,60,77,85,78,49,71,48,62,56,65,69,68,61,74,64,77,58,60,73,75,58,66,39,64,23,74,40,90,91,64,59,80,71,61,87,82,62,97,75,65,52,87,53,81,39,71,97,82,59,61,78,49,59,70,82,90,43,80,81,57,59,64,63,71,64,55,51,62,93,54,69,44,86,85,50,88,59,32,36,63,67,65,85,73,34,93,67,88,57,79,67,70,50,69,52,47,46,68,100,44,57,91,69,35,72,54,74,74,64,65,46,48,67,62,61,70,98,70,67,57,85,77,72,78,81,61,58,54,82,49,49,57,94,75,74,58,62,72,84,92,45,75,56,48,100,65,72,62,66,63,68,75,89,78,53,49,54,64,60,62,55,91,8,81,79,78,74,57,40,81,44,67,86,65,55,62,63,88,62,59,68,77],\"xaxis\":\"x\",\"yaxis\":\"y\",\"type\":\"histogram\"}],                        {\"template\":{\"data\":{\"histogram2dcontour\":[{\"type\":\"histogram2dcontour\",\"colorbar\":{\"outlinewidth\":0,\"ticks\":\"\"},\"colorscale\":[[0.0,\"#0d0887\"],[0.1111111111111111,\"#46039f\"],[0.2222222222222222,\"#7201a8\"],[0.3333333333333333,\"#9c179e\"],[0.4444444444444444,\"#bd3786\"],[0.5555555555555556,\"#d8576b\"],[0.6666666666666666,\"#ed7953\"],[0.7777777777777778,\"#fb9f3a\"],[0.8888888888888888,\"#fdca26\"],[1.0,\"#f0f921\"]]}],\"choropleth\":[{\"type\":\"choropleth\",\"colorbar\":{\"outlinewidth\":0,\"ticks\":\"\"}}],\"histogram2d\":[{\"type\":\"histogram2d\",\"colorbar\":{\"outlinewidth\":0,\"ticks\":\"\"},\"colorscale\":[[0.0,\"#0d0887\"],[0.1111111111111111,\"#46039f\"],[0.2222222222222222,\"#7201a8\"],[0.3333333333333333,\"#9c179e\"],[0.4444444444444444,\"#bd3786\"],[0.5555555555555556,\"#d8576b\"],[0.6666666666666666,\"#ed7953\"],[0.7777777777777778,\"#fb9f3a\"],[0.8888888888888888,\"#fdca26\"],[1.0,\"#f0f921\"]]}],\"heatmap\":[{\"type\":\"heatmap\",\"colorbar\":{\"outlinewidth\":0,\"ticks\":\"\"},\"colorscale\":[[0.0,\"#0d0887\"],[0.1111111111111111,\"#46039f\"],[0.2222222222222222,\"#7201a8\"],[0.3333333333333333,\"#9c179e\"],[0.4444444444444444,\"#bd3786\"],[0.5555555555555556,\"#d8576b\"],[0.6666666666666666,\"#ed7953\"],[0.7777777777777778,\"#fb9f3a\"],[0.8888888888888888,\"#fdca26\"],[1.0,\"#f0f921\"]]}],\"heatmapgl\":[{\"type\":\"heatmapgl\",\"colorbar\":{\"outlinewidth\":0,\"ticks\":\"\"},\"colorscale\":[[0.0,\"#0d0887\"],[0.1111111111111111,\"#46039f\"],[0.2222222222222222,\"#7201a8\"],[0.3333333333333333,\"#9c179e\"],[0.4444444444444444,\"#bd3786\"],[0.5555555555555556,\"#d8576b\"],[0.6666666666666666,\"#ed7953\"],[0.7777777777777778,\"#fb9f3a\"],[0.8888888888888888,\"#fdca26\"],[1.0,\"#f0f921\"]]}],\"contourcarpet\":[{\"type\":\"contourcarpet\",\"colorbar\":{\"outlinewidth\":0,\"ticks\":\"\"}}],\"contour\":[{\"type\":\"contour\",\"colorbar\":{\"outlinewidth\":0,\"ticks\":\"\"},\"colorscale\":[[0.0,\"#0d0887\"],[0.1111111111111111,\"#46039f\"],[0.2222222222222222,\"#7201a8\"],[0.3333333333333333,\"#9c179e\"],[0.4444444444444444,\"#bd3786\"],[0.5555555555555556,\"#d8576b\"],[0.6666666666666666,\"#ed7953\"],[0.7777777777777778,\"#fb9f3a\"],[0.8888888888888888,\"#fdca26\"],[1.0,\"#f0f921\"]]}],\"surface\":[{\"type\":\"surface\",\"colorbar\":{\"outlinewidth\":0,\"ticks\":\"\"},\"colorscale\":[[0.0,\"#0d0887\"],[0.1111111111111111,\"#46039f\"],[0.2222222222222222,\"#7201a8\"],[0.3333333333333333,\"#9c179e\"],[0.4444444444444444,\"#bd3786\"],[0.5555555555555556,\"#d8576b\"],[0.6666666666666666,\"#ed7953\"],[0.7777777777777778,\"#fb9f3a\"],[0.8888888888888888,\"#fdca26\"],[1.0,\"#f0f921\"]]}],\"mesh3d\":[{\"type\":\"mesh3d\",\"colorbar\":{\"outlinewidth\":0,\"ticks\":\"\"}}],\"scatter\":[{\"fillpattern\":{\"fillmode\":\"overlay\",\"size\":10,\"solidity\":0.2},\"type\":\"scatter\"}],\"parcoords\":[{\"type\":\"parcoords\",\"line\":{\"colorbar\":{\"outlinewidth\":0,\"ticks\":\"\"}}}],\"scatterpolargl\":[{\"type\":\"scatterpolargl\",\"marker\":{\"colorbar\":{\"outlinewidth\":0,\"ticks\":\"\"}}}],\"bar\":[{\"error_x\":{\"color\":\"#2a3f5f\"},\"error_y\":{\"color\":\"#2a3f5f\"},\"marker\":{\"line\":{\"color\":\"#E5ECF6\",\"width\":0.5},\"pattern\":{\"fillmode\":\"overlay\",\"size\":10,\"solidity\":0.2}},\"type\":\"bar\"}],\"scattergeo\":[{\"type\":\"scattergeo\",\"marker\":{\"colorbar\":{\"outlinewidth\":0,\"ticks\":\"\"}}}],\"scatterpolar\":[{\"type\":\"scatterpolar\",\"marker\":{\"colorbar\":{\"outlinewidth\":0,\"ticks\":\"\"}}}],\"histogram\":[{\"marker\":{\"pattern\":{\"fillmode\":\"overlay\",\"size\":10,\"solidity\":0.2}},\"type\":\"histogram\"}],\"scattergl\":[{\"type\":\"scattergl\",\"marker\":{\"colorbar\":{\"outlinewidth\":0,\"ticks\":\"\"}}}],\"scatter3d\":[{\"type\":\"scatter3d\",\"line\":{\"colorbar\":{\"outlinewidth\":0,\"ticks\":\"\"}},\"marker\":{\"colorbar\":{\"outlinewidth\":0,\"ticks\":\"\"}}}],\"scattermapbox\":[{\"type\":\"scattermapbox\",\"marker\":{\"colorbar\":{\"outlinewidth\":0,\"ticks\":\"\"}}}],\"scatterternary\":[{\"type\":\"scatterternary\",\"marker\":{\"colorbar\":{\"outlinewidth\":0,\"ticks\":\"\"}}}],\"scattercarpet\":[{\"type\":\"scattercarpet\",\"marker\":{\"colorbar\":{\"outlinewidth\":0,\"ticks\":\"\"}}}],\"carpet\":[{\"aaxis\":{\"endlinecolor\":\"#2a3f5f\",\"gridcolor\":\"white\",\"linecolor\":\"white\",\"minorgridcolor\":\"white\",\"startlinecolor\":\"#2a3f5f\"},\"baxis\":{\"endlinecolor\":\"#2a3f5f\",\"gridcolor\":\"white\",\"linecolor\":\"white\",\"minorgridcolor\":\"white\",\"startlinecolor\":\"#2a3f5f\"},\"type\":\"carpet\"}],\"table\":[{\"cells\":{\"fill\":{\"color\":\"#EBF0F8\"},\"line\":{\"color\":\"white\"}},\"header\":{\"fill\":{\"color\":\"#C8D4E3\"},\"line\":{\"color\":\"white\"}},\"type\":\"table\"}],\"barpolar\":[{\"marker\":{\"line\":{\"color\":\"#E5ECF6\",\"width\":0.5},\"pattern\":{\"fillmode\":\"overlay\",\"size\":10,\"solidity\":0.2}},\"type\":\"barpolar\"}],\"pie\":[{\"automargin\":true,\"type\":\"pie\"}]},\"layout\":{\"autotypenumbers\":\"strict\",\"colorway\":[\"#636efa\",\"#EF553B\",\"#00cc96\",\"#ab63fa\",\"#FFA15A\",\"#19d3f3\",\"#FF6692\",\"#B6E880\",\"#FF97FF\",\"#FECB52\"],\"font\":{\"color\":\"#2a3f5f\"},\"hovermode\":\"closest\",\"hoverlabel\":{\"align\":\"left\"},\"paper_bgcolor\":\"white\",\"plot_bgcolor\":\"#E5ECF6\",\"polar\":{\"bgcolor\":\"#E5ECF6\",\"angularaxis\":{\"gridcolor\":\"white\",\"linecolor\":\"white\",\"ticks\":\"\"},\"radialaxis\":{\"gridcolor\":\"white\",\"linecolor\":\"white\",\"ticks\":\"\"}},\"ternary\":{\"bgcolor\":\"#E5ECF6\",\"aaxis\":{\"gridcolor\":\"white\",\"linecolor\":\"white\",\"ticks\":\"\"},\"baxis\":{\"gridcolor\":\"white\",\"linecolor\":\"white\",\"ticks\":\"\"},\"caxis\":{\"gridcolor\":\"white\",\"linecolor\":\"white\",\"ticks\":\"\"}},\"coloraxis\":{\"colorbar\":{\"outlinewidth\":0,\"ticks\":\"\"}},\"colorscale\":{\"sequential\":[[0.0,\"#0d0887\"],[0.1111111111111111,\"#46039f\"],[0.2222222222222222,\"#7201a8\"],[0.3333333333333333,\"#9c179e\"],[0.4444444444444444,\"#bd3786\"],[0.5555555555555556,\"#d8576b\"],[0.6666666666666666,\"#ed7953\"],[0.7777777777777778,\"#fb9f3a\"],[0.8888888888888888,\"#fdca26\"],[1.0,\"#f0f921\"]],\"sequentialminus\":[[0.0,\"#0d0887\"],[0.1111111111111111,\"#46039f\"],[0.2222222222222222,\"#7201a8\"],[0.3333333333333333,\"#9c179e\"],[0.4444444444444444,\"#bd3786\"],[0.5555555555555556,\"#d8576b\"],[0.6666666666666666,\"#ed7953\"],[0.7777777777777778,\"#fb9f3a\"],[0.8888888888888888,\"#fdca26\"],[1.0,\"#f0f921\"]],\"diverging\":[[0,\"#8e0152\"],[0.1,\"#c51b7d\"],[0.2,\"#de77ae\"],[0.3,\"#f1b6da\"],[0.4,\"#fde0ef\"],[0.5,\"#f7f7f7\"],[0.6,\"#e6f5d0\"],[0.7,\"#b8e186\"],[0.8,\"#7fbc41\"],[0.9,\"#4d9221\"],[1,\"#276419\"]]},\"xaxis\":{\"gridcolor\":\"white\",\"linecolor\":\"white\",\"ticks\":\"\",\"title\":{\"standoff\":15},\"zerolinecolor\":\"white\",\"automargin\":true,\"zerolinewidth\":2},\"yaxis\":{\"gridcolor\":\"white\",\"linecolor\":\"white\",\"ticks\":\"\",\"title\":{\"standoff\":15},\"zerolinecolor\":\"white\",\"automargin\":true,\"zerolinewidth\":2},\"scene\":{\"xaxis\":{\"backgroundcolor\":\"#E5ECF6\",\"gridcolor\":\"white\",\"linecolor\":\"white\",\"showbackground\":true,\"ticks\":\"\",\"zerolinecolor\":\"white\",\"gridwidth\":2},\"yaxis\":{\"backgroundcolor\":\"#E5ECF6\",\"gridcolor\":\"white\",\"linecolor\":\"white\",\"showbackground\":true,\"ticks\":\"\",\"zerolinecolor\":\"white\",\"gridwidth\":2},\"zaxis\":{\"backgroundcolor\":\"#E5ECF6\",\"gridcolor\":\"white\",\"linecolor\":\"white\",\"showbackground\":true,\"ticks\":\"\",\"zerolinecolor\":\"white\",\"gridwidth\":2}},\"shapedefaults\":{\"line\":{\"color\":\"#2a3f5f\"}},\"annotationdefaults\":{\"arrowcolor\":\"#2a3f5f\",\"arrowhead\":0,\"arrowwidth\":1},\"geo\":{\"bgcolor\":\"white\",\"landcolor\":\"#E5ECF6\",\"subunitcolor\":\"white\",\"showland\":true,\"showlakes\":true,\"lakecolor\":\"white\"},\"title\":{\"x\":0.05},\"mapbox\":{\"style\":\"light\"}}},\"xaxis\":{\"anchor\":\"y\",\"domain\":[0.0,1.0],\"title\":{\"text\":\"Student Math Score\"}},\"yaxis\":{\"anchor\":\"x\",\"domain\":[0.0,1.0],\"title\":{\"text\":\"count\"}},\"legend\":{\"tracegroupgap\":0},\"title\":{\"text\":\"Distribution of Student Math Scores\"},\"barmode\":\"relative\"},                        {\"responsive\": true}                    ).then(function(){\n",
       "                            \n",
       "var gd = document.getElementById('a468a352-4bef-427c-9f82-4ad8239a0026');\n",
       "var x = new MutationObserver(function (mutations, observer) {{\n",
       "        var display = window.getComputedStyle(gd).display;\n",
       "        if (!display || display === 'none') {{\n",
       "            console.log([gd, 'removed!']);\n",
       "            Plotly.purge(gd);\n",
       "            observer.disconnect();\n",
       "        }}\n",
       "}});\n",
       "\n",
       "// Listen for the removal of the full notebook cells\n",
       "var notebookContainer = gd.closest('#notebook-container');\n",
       "if (notebookContainer) {{\n",
       "    x.observe(notebookContainer, {childList: true});\n",
       "}}\n",
       "\n",
       "// Listen for the clearing of the current output cell\n",
       "var outputEl = gd.closest('.output');\n",
       "if (outputEl) {{\n",
       "    x.observe(outputEl, {childList: true});\n",
       "}}\n",
       "\n",
       "                        })                };                });            </script>        </div>"
      ]
     },
     "metadata": {},
     "output_type": "display_data"
    }
   ],
   "source": [
    "# Plot math scores\n",
    "px.histogram(student_data, x = \"math score\",\n",
    "             color_discrete_sequence = ['blue'],\n",
    "             opacity = 0.3,\n",
    "             title = \"Distribution of Student Math Scores\",\n",
    "             labels={\n",
    "                     \"count\": \"Frequency\",\n",
    "                     \"math score\": \"Student Math Score\"                    \n",
    "                 },\n",
    "            )"
   ]
  },
  {
   "cell_type": "code",
   "execution_count": 33,
   "id": "40e5a249",
   "metadata": {},
   "outputs": [
    {
     "data": {
      "text/html": [
       "<div>\n",
       "<style scoped>\n",
       "    .dataframe tbody tr th:only-of-type {\n",
       "        vertical-align: middle;\n",
       "    }\n",
       "\n",
       "    .dataframe tbody tr th {\n",
       "        vertical-align: top;\n",
       "    }\n",
       "\n",
       "    .dataframe thead th {\n",
       "        text-align: right;\n",
       "    }\n",
       "</style>\n",
       "<table border=\"1\" class=\"dataframe\">\n",
       "  <thead>\n",
       "    <tr style=\"text-align: right;\">\n",
       "      <th></th>\n",
       "      <th>math score</th>\n",
       "      <th>reading score</th>\n",
       "      <th>writing score</th>\n",
       "    </tr>\n",
       "  </thead>\n",
       "  <tbody>\n",
       "    <tr>\n",
       "      <th>0</th>\n",
       "      <td>72</td>\n",
       "      <td>72</td>\n",
       "      <td>74</td>\n",
       "    </tr>\n",
       "    <tr>\n",
       "      <th>1</th>\n",
       "      <td>69</td>\n",
       "      <td>90</td>\n",
       "      <td>88</td>\n",
       "    </tr>\n",
       "    <tr>\n",
       "      <th>2</th>\n",
       "      <td>90</td>\n",
       "      <td>95</td>\n",
       "      <td>93</td>\n",
       "    </tr>\n",
       "    <tr>\n",
       "      <th>3</th>\n",
       "      <td>47</td>\n",
       "      <td>57</td>\n",
       "      <td>44</td>\n",
       "    </tr>\n",
       "    <tr>\n",
       "      <th>4</th>\n",
       "      <td>76</td>\n",
       "      <td>78</td>\n",
       "      <td>75</td>\n",
       "    </tr>\n",
       "  </tbody>\n",
       "</table>\n",
       "</div>"
      ],
      "text/plain": [
       "   math score  reading score  writing score\n",
       "0          72             72             74\n",
       "1          69             90             88\n",
       "2          90             95             93\n",
       "3          47             57             44\n",
       "4          76             78             75"
      ]
     },
     "execution_count": 33,
     "metadata": {},
     "output_type": "execute_result"
    }
   ],
   "source": [
    "# Correlation btwn subject scores?\n",
    "subject_corr = student_data[['math score', 'reading score', 'writing score']]\n",
    "subject_corr\n",
    "subject_corr.head(5)"
   ]
  },
  {
   "cell_type": "code",
   "execution_count": 34,
   "id": "b6502bf7",
   "metadata": {},
   "outputs": [
    {
     "data": {
      "image/png": "[encoded data removed]",
      "text/plain": [
       "<Figure size 640x480 with 2 Axes>"
      ]
     },
     "metadata": {},
     "output_type": "display_data"
    }
   ],
   "source": [
    "# plotting correlation heatmap \n",
    "import seaborn as sb\n",
    "dataplot = sb.heatmap(subject_corr.corr(), cmap=\"YlGnBu\", annot=True)"
   ]
  },
  {
   "cell_type": "code",
   "execution_count": 35,
   "id": "96e459fb",
   "metadata": {
    "scrolled": true
   },
   "outputs": [
    {
     "data": {
      "text/html": [
       "<div>\n",
       "<style scoped>\n",
       "    .dataframe tbody tr th:only-of-type {\n",
       "        vertical-align: middle;\n",
       "    }\n",
       "\n",
       "    .dataframe tbody tr th {\n",
       "        vertical-align: top;\n",
       "    }\n",
       "\n",
       "    .dataframe thead th {\n",
       "        text-align: right;\n",
       "    }\n",
       "</style>\n",
       "<table border=\"1\" class=\"dataframe\">\n",
       "  <thead>\n",
       "    <tr style=\"text-align: right;\">\n",
       "      <th></th>\n",
       "      <th>gender</th>\n",
       "      <th>math score</th>\n",
       "    </tr>\n",
       "  </thead>\n",
       "  <tbody>\n",
       "    <tr>\n",
       "      <th>0</th>\n",
       "      <td>female</td>\n",
       "      <td>63.633205</td>\n",
       "    </tr>\n",
       "    <tr>\n",
       "      <th>1</th>\n",
       "      <td>male</td>\n",
       "      <td>68.728216</td>\n",
       "    </tr>\n",
       "  </tbody>\n",
       "</table>\n",
       "</div>"
      ],
      "text/plain": [
       "   gender  math score\n",
       "0  female   63.633205\n",
       "1    male   68.728216"
      ]
     },
     "execution_count": 35,
     "metadata": {},
     "output_type": "execute_result"
    }
   ],
   "source": [
    "gender_math_df = student_data.groupby('gender')['math score'].mean()\n",
    "gender_math_df = gender_math_df.reset_index()\n",
    "gender_math_df"
   ]
  },
  {
   "cell_type": "code",
   "execution_count": 36,
   "id": "6daa4f9e",
   "metadata": {},
   "outputs": [
    {
     "data": {
      "application/vnd.plotly.v1+json": {
       "config": {
        "plotlyServerURL": "https://plot.ly"
       },
       "data": [
        {
         "alignmentgroup": "True",
         "hovertemplate": "gender=%{x}<br>math score=%{y}<extra></extra>",
         "legendgroup": "",
         "marker": {
          "color": "#636efa",
          "pattern": {
           "shape": ""
          }
         },
         "name": "",
         "offsetgroup": "",
         "orientation": "v",
         "showlegend": false,
         "textposition": "auto",
         "type": "bar",
         "x": [
          "female",
          "male"
         ],
         "xaxis": "x",
         "y": [
          63.633204633204635,
          68.72821576763485
         ],
         "yaxis": "y"
        }
       ],
       "layout": {
        "barmode": "relative",
        "legend": {
         "tracegroupgap": 0
        },
        "template": {
         "data": {
          "bar": [
           {
            "error_x": {
             "color": "#2a3f5f"
            },
            "error_y": {
             "color": "#2a3f5f"
            },
            "marker": {
             "line": {
              "color": "#E5ECF6",
              "width": 0.5
             },
             "pattern": {
              "fillmode": "overlay",
              "size": 10,
              "solidity": 0.2
             }
            },
            "type": "bar"
           }
          ],
          "barpolar": [
           {
            "marker": {
             "line": {
              "color": "#E5ECF6",
              "width": 0.5
             },
             "pattern": {
              "fillmode": "overlay",
              "size": 10,
              "solidity": 0.2
             }
            },
            "type": "barpolar"
           }
          ],
          "carpet": [
           {
            "aaxis": {
             "endlinecolor": "#2a3f5f",
             "gridcolor": "white",
             "linecolor": "white",
             "minorgridcolor": "white",
             "startlinecolor": "#2a3f5f"
            },
            "baxis": {
             "endlinecolor": "#2a3f5f",
             "gridcolor": "white",
             "linecolor": "white",
             "minorgridcolor": "white",
             "startlinecolor": "#2a3f5f"
            },
            "type": "carpet"
           }
          ],
          "choropleth": [
           {
            "colorbar": {
             "outlinewidth": 0,
             "ticks": ""
            },
            "type": "choropleth"
           }
          ],
          "contour": [
           {
            "colorbar": {
             "outlinewidth": 0,
             "ticks": ""
            },
            "colorscale": [
             [
              0,
              "#0d0887"
             ],
             [
              0.1111111111111111,
              "#46039f"
             ],
             [
              0.2222222222222222,
              "#7201a8"
             ],
             [
              0.3333333333333333,
              "#9c179e"
             ],
             [
              0.4444444444444444,
              "#bd3786"
             ],
             [
              0.5555555555555556,
              "#d8576b"
             ],
             [
              0.6666666666666666,
              "#ed7953"
             ],
             [
              0.7777777777777778,
              "#fb9f3a"
             ],
             [
              0.8888888888888888,
              "#fdca26"
             ],
             [
              1,
              "#f0f921"
             ]
            ],
            "type": "contour"
           }
          ],
          "contourcarpet": [
           {
            "colorbar": {
             "outlinewidth": 0,
             "ticks": ""
            },
            "type": "contourcarpet"
           }
          ],
          "heatmap": [
           {
            "colorbar": {
             "outlinewidth": 0,
             "ticks": ""
            },
            "colorscale": [
             [
              0,
              "#0d0887"
             ],
             [
              0.1111111111111111,
              "#46039f"
             ],
             [
              0.2222222222222222,
              "#7201a8"
             ],
             [
              0.3333333333333333,
              "#9c179e"
             ],
             [
              0.4444444444444444,
              "#bd3786"
             ],
             [
              0.5555555555555556,
              "#d8576b"
             ],
             [
              0.6666666666666666,
              "#ed7953"
             ],
             [
              0.7777777777777778,
              "#fb9f3a"
             ],
             [
              0.8888888888888888,
              "#fdca26"
             ],
             [
              1,
              "#f0f921"
             ]
            ],
            "type": "heatmap"
           }
          ],
          "heatmapgl": [
           {
            "colorbar": {
             "outlinewidth": 0,
             "ticks": ""
            },
            "colorscale": [
             [
              0,
              "#0d0887"
             ],
             [
              0.1111111111111111,
              "#46039f"
             ],
             [
              0.2222222222222222,
              "#7201a8"
             ],
             [
              0.3333333333333333,
              "#9c179e"
             ],
             [
              0.4444444444444444,
              "#bd3786"
             ],
             [
              0.5555555555555556,
              "#d8576b"
             ],
             [
              0.6666666666666666,
              "#ed7953"
             ],
             [
              0.7777777777777778,
              "#fb9f3a"
             ],
             [
              0.8888888888888888,
              "#fdca26"
             ],
             [
              1,
              "#f0f921"
             ]
            ],
            "type": "heatmapgl"
           }
          ],
          "histogram": [
           {
            "marker": {
             "pattern": {
              "fillmode": "overlay",
              "size": 10,
              "solidity": 0.2
             }
            },
            "type": "histogram"
           }
          ],
          "histogram2d": [
           {
            "colorbar": {
             "outlinewidth": 0,
             "ticks": ""
            },
            "colorscale": [
             [
              0,
              "#0d0887"
             ],
             [
              0.1111111111111111,
              "#46039f"
             ],
             [
              0.2222222222222222,
              "#7201a8"
             ],
             [
              0.3333333333333333,
              "#9c179e"
             ],
             [
              0.4444444444444444,
              "#bd3786"
             ],
             [
              0.5555555555555556,
              "#d8576b"
             ],
             [
              0.6666666666666666,
              "#ed7953"
             ],
             [
              0.7777777777777778,
              "#fb9f3a"
             ],
             [
              0.8888888888888888,
              "#fdca26"
             ],
             [
              1,
              "#f0f921"
             ]
            ],
            "type": "histogram2d"
           }
          ],
          "histogram2dcontour": [
           {
            "colorbar": {
             "outlinewidth": 0,
             "ticks": ""
            },
            "colorscale": [
             [
              0,
              "#0d0887"
             ],
             [
              0.1111111111111111,
              "#46039f"
             ],
             [
              0.2222222222222222,
              "#7201a8"
             ],
             [
              0.3333333333333333,
              "#9c179e"
             ],
             [
              0.4444444444444444,
              "#bd3786"
             ],
             [
              0.5555555555555556,
              "#d8576b"
             ],
             [
              0.6666666666666666,
              "#ed7953"
             ],
             [
              0.7777777777777778,
              "#fb9f3a"
             ],
             [
              0.8888888888888888,
              "#fdca26"
             ],
             [
              1,
              "#f0f921"
             ]
            ],
            "type": "histogram2dcontour"
           }
          ],
          "mesh3d": [
           {
            "colorbar": {
             "outlinewidth": 0,
             "ticks": ""
            },
            "type": "mesh3d"
           }
          ],
          "parcoords": [
           {
            "line": {
             "colorbar": {
              "outlinewidth": 0,
              "ticks": ""
             }
            },
            "type": "parcoords"
           }
          ],
          "pie": [
           {
            "automargin": true,
            "type": "pie"
           }
          ],
          "scatter": [
           {
            "fillpattern": {
             "fillmode": "overlay",
             "size": 10,
             "solidity": 0.2
            },
            "type": "scatter"
           }
          ],
          "scatter3d": [
           {
            "line": {
             "colorbar": {
              "outlinewidth": 0,
              "ticks": ""
             }
            },
            "marker": {
             "colorbar": {
              "outlinewidth": 0,
              "ticks": ""
             }
            },
            "type": "scatter3d"
           }
          ],
          "scattercarpet": [
           {
            "marker": {
             "colorbar": {
              "outlinewidth": 0,
              "ticks": ""
             }
            },
            "type": "scattercarpet"
           }
          ],
          "scattergeo": [
           {
            "marker": {
             "colorbar": {
              "outlinewidth": 0,
              "ticks": ""
             }
            },
            "type": "scattergeo"
           }
          ],
          "scattergl": [
           {
            "marker": {
             "colorbar": {
              "outlinewidth": 0,
              "ticks": ""
             }
            },
            "type": "scattergl"
           }
          ],
          "scattermapbox": [
           {
            "marker": {
             "colorbar": {
              "outlinewidth": 0,
              "ticks": ""
             }
            },
            "type": "scattermapbox"
           }
          ],
          "scatterpolar": [
           {
            "marker": {
             "colorbar": {
              "outlinewidth": 0,
              "ticks": ""
             }
            },
            "type": "scatterpolar"
           }
          ],
          "scatterpolargl": [
           {
            "marker": {
             "colorbar": {
              "outlinewidth": 0,
              "ticks": ""
             }
            },
            "type": "scatterpolargl"
           }
          ],
          "scatterternary": [
           {
            "marker": {
             "colorbar": {
              "outlinewidth": 0,
              "ticks": ""
             }
            },
            "type": "scatterternary"
           }
          ],
          "surface": [
           {
            "colorbar": {
             "outlinewidth": 0,
             "ticks": ""
            },
            "colorscale": [
             [
              0,
              "#0d0887"
             ],
             [
              0.1111111111111111,
              "#46039f"
             ],
             [
              0.2222222222222222,
              "#7201a8"
             ],
             [
              0.3333333333333333,
              "#9c179e"
             ],
             [
              0.4444444444444444,
              "#bd3786"
             ],
             [
              0.5555555555555556,
              "#d8576b"
             ],
             [
              0.6666666666666666,
              "#ed7953"
             ],
             [
              0.7777777777777778,
              "#fb9f3a"
             ],
             [
              0.8888888888888888,
              "#fdca26"
             ],
             [
              1,
              "#f0f921"
             ]
            ],
            "type": "surface"
           }
          ],
          "table": [
           {
            "cells": {
             "fill": {
              "color": "#EBF0F8"
             },
             "line": {
              "color": "white"
             }
            },
            "header": {
             "fill": {
              "color": "#C8D4E3"
             },
             "line": {
              "color": "white"
             }
            },
            "type": "table"
           }
          ]
         },
         "layout": {
          "annotationdefaults": {
           "arrowcolor": "#2a3f5f",
           "arrowhead": 0,
           "arrowwidth": 1
          },
          "autotypenumbers": "strict",
          "coloraxis": {
           "colorbar": {
            "outlinewidth": 0,
            "ticks": ""
           }
          },
          "colorscale": {
           "diverging": [
            [
             0,
             "#8e0152"
            ],
            [
             0.1,
             "#c51b7d"
            ],
            [
             0.2,
             "#de77ae"
            ],
            [
             0.3,
             "#f1b6da"
            ],
            [
             0.4,
             "#fde0ef"
            ],
            [
             0.5,
             "#f7f7f7"
            ],
            [
             0.6,
             "#e6f5d0"
            ],
            [
             0.7,
             "#b8e186"
            ],
            [
             0.8,
             "#7fbc41"
            ],
            [
             0.9,
             "#4d9221"
            ],
            [
             1,
             "#276419"
            ]
           ],
           "sequential": [
            [
             0,
             "#0d0887"
            ],
            [
             0.1111111111111111,
             "#46039f"
            ],
            [
             0.2222222222222222,
             "#7201a8"
            ],
            [
             0.3333333333333333,
             "#9c179e"
            ],
            [
             0.4444444444444444,
             "#bd3786"
            ],
            [
             0.5555555555555556,
             "#d8576b"
            ],
            [
             0.6666666666666666,
             "#ed7953"
            ],
            [
             0.7777777777777778,
             "#fb9f3a"
            ],
            [
             0.8888888888888888,
             "#fdca26"
            ],
            [
             1,
             "#f0f921"
            ]
           ],
           "sequentialminus": [
            [
             0,
             "#0d0887"
            ],
            [
             0.1111111111111111,
             "#46039f"
            ],
            [
             0.2222222222222222,
             "#7201a8"
            ],
            [
             0.3333333333333333,
             "#9c179e"
            ],
            [
             0.4444444444444444,
             "#bd3786"
            ],
            [
             0.5555555555555556,
             "#d8576b"
            ],
            [
             0.6666666666666666,
             "#ed7953"
            ],
            [
             0.7777777777777778,
             "#fb9f3a"
            ],
            [
             0.8888888888888888,
             "#fdca26"
            ],
            [
             1,
             "#f0f921"
            ]
           ]
          },
          "colorway": [
           "#636efa",
           "#EF553B",
           "#00cc96",
           "#ab63fa",
           "#FFA15A",
           "#19d3f3",
           "#FF6692",
           "#B6E880",
           "#FF97FF",
           "#FECB52"
          ],
          "font": {
           "color": "#2a3f5f"
          },
          "geo": {
           "bgcolor": "white",
           "lakecolor": "white",
           "landcolor": "#E5ECF6",
           "showlakes": true,
           "showland": true,
           "subunitcolor": "white"
          },
          "hoverlabel": {
           "align": "left"
          },
          "hovermode": "closest",
          "mapbox": {
           "style": "light"
          },
          "paper_bgcolor": "white",
          "plot_bgcolor": "#E5ECF6",
          "polar": {
           "angularaxis": {
            "gridcolor": "white",
            "linecolor": "white",
            "ticks": ""
           },
           "bgcolor": "#E5ECF6",
           "radialaxis": {
            "gridcolor": "white",
            "linecolor": "white",
            "ticks": ""
           }
          },
          "scene": {
           "xaxis": {
            "backgroundcolor": "#E5ECF6",
            "gridcolor": "white",
            "gridwidth": 2,
            "linecolor": "white",
            "showbackground": true,
            "ticks": "",
            "zerolinecolor": "white"
           },
           "yaxis": {
            "backgroundcolor": "#E5ECF6",
            "gridcolor": "white",
            "gridwidth": 2,
            "linecolor": "white",
            "showbackground": true,
            "ticks": "",
            "zerolinecolor": "white"
           },
           "zaxis": {
            "backgroundcolor": "#E5ECF6",
            "gridcolor": "white",
            "gridwidth": 2,
            "linecolor": "white",
            "showbackground": true,
            "ticks": "",
            "zerolinecolor": "white"
           }
          },
          "shapedefaults": {
           "line": {
            "color": "#2a3f5f"
           }
          },
          "ternary": {
           "aaxis": {
            "gridcolor": "white",
            "linecolor": "white",
            "ticks": ""
           },
           "baxis": {
            "gridcolor": "white",
            "linecolor": "white",
            "ticks": ""
           },
           "bgcolor": "#E5ECF6",
           "caxis": {
            "gridcolor": "white",
            "linecolor": "white",
            "ticks": ""
           }
          },
          "title": {
           "x": 0.05
          },
          "xaxis": {
           "automargin": true,
           "gridcolor": "white",
           "linecolor": "white",
           "ticks": "",
           "title": {
            "standoff": 15
           },
           "zerolinecolor": "white",
           "zerolinewidth": 2
          },
          "yaxis": {
           "automargin": true,
           "gridcolor": "white",
           "linecolor": "white",
           "ticks": "",
           "title": {
            "standoff": 15
           },
           "zerolinecolor": "white",
           "zerolinewidth": 2
          }
         }
        },
        "title": {
         "text": "Average Math Scores by Gender"
        },
        "xaxis": {
         "anchor": "y",
         "domain": [
          0,
          1
         ],
         "title": {
          "text": "gender"
         }
        },
        "yaxis": {
         "anchor": "x",
         "domain": [
          0,
          1
         ],
         "title": {
          "text": "math score"
         }
        }
       }
      },
      "text/html": [
       "<div>                            <div id=\"61826a5d-7894-4b19-a634-8014f57ad35d\" class=\"plotly-graph-div\" style=\"height:525px; width:100%;\"></div>            <script type=\"text/javascript\">                require([\"plotly\"], function(Plotly) {                    window.PLOTLYENV=window.PLOTLYENV || {};                                    if (document.getElementById(\"61826a5d-7894-4b19-a634-8014f57ad35d\")) {                    Plotly.newPlot(                        \"61826a5d-7894-4b19-a634-8014f57ad35d\",                        [{\"alignmentgroup\":\"True\",\"hovertemplate\":\"gender=%{x}<br>math score=%{y}<extra></extra>\",\"legendgroup\":\"\",\"marker\":{\"color\":\"#636efa\",\"pattern\":{\"shape\":\"\"}},\"name\":\"\",\"offsetgroup\":\"\",\"orientation\":\"v\",\"showlegend\":false,\"textposition\":\"auto\",\"x\":[\"female\",\"male\"],\"xaxis\":\"x\",\"y\":[63.633204633204635,68.72821576763485],\"yaxis\":\"y\",\"type\":\"bar\"}],                        {\"template\":{\"data\":{\"histogram2dcontour\":[{\"type\":\"histogram2dcontour\",\"colorbar\":{\"outlinewidth\":0,\"ticks\":\"\"},\"colorscale\":[[0.0,\"#0d0887\"],[0.1111111111111111,\"#46039f\"],[0.2222222222222222,\"#7201a8\"],[0.3333333333333333,\"#9c179e\"],[0.4444444444444444,\"#bd3786\"],[0.5555555555555556,\"#d8576b\"],[0.6666666666666666,\"#ed7953\"],[0.7777777777777778,\"#fb9f3a\"],[0.8888888888888888,\"#fdca26\"],[1.0,\"#f0f921\"]]}],\"choropleth\":[{\"type\":\"choropleth\",\"colorbar\":{\"outlinewidth\":0,\"ticks\":\"\"}}],\"histogram2d\":[{\"type\":\"histogram2d\",\"colorbar\":{\"outlinewidth\":0,\"ticks\":\"\"},\"colorscale\":[[0.0,\"#0d0887\"],[0.1111111111111111,\"#46039f\"],[0.2222222222222222,\"#7201a8\"],[0.3333333333333333,\"#9c179e\"],[0.4444444444444444,\"#bd3786\"],[0.5555555555555556,\"#d8576b\"],[0.6666666666666666,\"#ed7953\"],[0.7777777777777778,\"#fb9f3a\"],[0.8888888888888888,\"#fdca26\"],[1.0,\"#f0f921\"]]}],\"heatmap\":[{\"type\":\"heatmap\",\"colorbar\":{\"outlinewidth\":0,\"ticks\":\"\"},\"colorscale\":[[0.0,\"#0d0887\"],[0.1111111111111111,\"#46039f\"],[0.2222222222222222,\"#7201a8\"],[0.3333333333333333,\"#9c179e\"],[0.4444444444444444,\"#bd3786\"],[0.5555555555555556,\"#d8576b\"],[0.6666666666666666,\"#ed7953\"],[0.7777777777777778,\"#fb9f3a\"],[0.8888888888888888,\"#fdca26\"],[1.0,\"#f0f921\"]]}],\"heatmapgl\":[{\"type\":\"heatmapgl\",\"colorbar\":{\"outlinewidth\":0,\"ticks\":\"\"},\"colorscale\":[[0.0,\"#0d0887\"],[0.1111111111111111,\"#46039f\"],[0.2222222222222222,\"#7201a8\"],[0.3333333333333333,\"#9c179e\"],[0.4444444444444444,\"#bd3786\"],[0.5555555555555556,\"#d8576b\"],[0.6666666666666666,\"#ed7953\"],[0.7777777777777778,\"#fb9f3a\"],[0.8888888888888888,\"#fdca26\"],[1.0,\"#f0f921\"]]}],\"contourcarpet\":[{\"type\":\"contourcarpet\",\"colorbar\":{\"outlinewidth\":0,\"ticks\":\"\"}}],\"contour\":[{\"type\":\"contour\",\"colorbar\":{\"outlinewidth\":0,\"ticks\":\"\"},\"colorscale\":[[0.0,\"#0d0887\"],[0.1111111111111111,\"#46039f\"],[0.2222222222222222,\"#7201a8\"],[0.3333333333333333,\"#9c179e\"],[0.4444444444444444,\"#bd3786\"],[0.5555555555555556,\"#d8576b\"],[0.6666666666666666,\"#ed7953\"],[0.7777777777777778,\"#fb9f3a\"],[0.8888888888888888,\"#fdca26\"],[1.0,\"#f0f921\"]]}],\"surface\":[{\"type\":\"surface\",\"colorbar\":{\"outlinewidth\":0,\"ticks\":\"\"},\"colorscale\":[[0.0,\"#0d0887\"],[0.1111111111111111,\"#46039f\"],[0.2222222222222222,\"#7201a8\"],[0.3333333333333333,\"#9c179e\"],[0.4444444444444444,\"#bd3786\"],[0.5555555555555556,\"#d8576b\"],[0.6666666666666666,\"#ed7953\"],[0.7777777777777778,\"#fb9f3a\"],[0.8888888888888888,\"#fdca26\"],[1.0,\"#f0f921\"]]}],\"mesh3d\":[{\"type\":\"mesh3d\",\"colorbar\":{\"outlinewidth\":0,\"ticks\":\"\"}}],\"scatter\":[{\"fillpattern\":{\"fillmode\":\"overlay\",\"size\":10,\"solidity\":0.2},\"type\":\"scatter\"}],\"parcoords\":[{\"type\":\"parcoords\",\"line\":{\"colorbar\":{\"outlinewidth\":0,\"ticks\":\"\"}}}],\"scatterpolargl\":[{\"type\":\"scatterpolargl\",\"marker\":{\"colorbar\":{\"outlinewidth\":0,\"ticks\":\"\"}}}],\"bar\":[{\"error_x\":{\"color\":\"#2a3f5f\"},\"error_y\":{\"color\":\"#2a3f5f\"},\"marker\":{\"line\":{\"color\":\"#E5ECF6\",\"width\":0.5},\"pattern\":{\"fillmode\":\"overlay\",\"size\":10,\"solidity\":0.2}},\"type\":\"bar\"}],\"scattergeo\":[{\"type\":\"scattergeo\",\"marker\":{\"colorbar\":{\"outlinewidth\":0,\"ticks\":\"\"}}}],\"scatterpolar\":[{\"type\":\"scatterpolar\",\"marker\":{\"colorbar\":{\"outlinewidth\":0,\"ticks\":\"\"}}}],\"histogram\":[{\"marker\":{\"pattern\":{\"fillmode\":\"overlay\",\"size\":10,\"solidity\":0.2}},\"type\":\"histogram\"}],\"scattergl\":[{\"type\":\"scattergl\",\"marker\":{\"colorbar\":{\"outlinewidth\":0,\"ticks\":\"\"}}}],\"scatter3d\":[{\"type\":\"scatter3d\",\"line\":{\"colorbar\":{\"outlinewidth\":0,\"ticks\":\"\"}},\"marker\":{\"colorbar\":{\"outlinewidth\":0,\"ticks\":\"\"}}}],\"scattermapbox\":[{\"type\":\"scattermapbox\",\"marker\":{\"colorbar\":{\"outlinewidth\":0,\"ticks\":\"\"}}}],\"scatterternary\":[{\"type\":\"scatterternary\",\"marker\":{\"colorbar\":{\"outlinewidth\":0,\"ticks\":\"\"}}}],\"scattercarpet\":[{\"type\":\"scattercarpet\",\"marker\":{\"colorbar\":{\"outlinewidth\":0,\"ticks\":\"\"}}}],\"carpet\":[{\"aaxis\":{\"endlinecolor\":\"#2a3f5f\",\"gridcolor\":\"white\",\"linecolor\":\"white\",\"minorgridcolor\":\"white\",\"startlinecolor\":\"#2a3f5f\"},\"baxis\":{\"endlinecolor\":\"#2a3f5f\",\"gridcolor\":\"white\",\"linecolor\":\"white\",\"minorgridcolor\":\"white\",\"startlinecolor\":\"#2a3f5f\"},\"type\":\"carpet\"}],\"table\":[{\"cells\":{\"fill\":{\"color\":\"#EBF0F8\"},\"line\":{\"color\":\"white\"}},\"header\":{\"fill\":{\"color\":\"#C8D4E3\"},\"line\":{\"color\":\"white\"}},\"type\":\"table\"}],\"barpolar\":[{\"marker\":{\"line\":{\"color\":\"#E5ECF6\",\"width\":0.5},\"pattern\":{\"fillmode\":\"overlay\",\"size\":10,\"solidity\":0.2}},\"type\":\"barpolar\"}],\"pie\":[{\"automargin\":true,\"type\":\"pie\"}]},\"layout\":{\"autotypenumbers\":\"strict\",\"colorway\":[\"#636efa\",\"#EF553B\",\"#00cc96\",\"#ab63fa\",\"#FFA15A\",\"#19d3f3\",\"#FF6692\",\"#B6E880\",\"#FF97FF\",\"#FECB52\"],\"font\":{\"color\":\"#2a3f5f\"},\"hovermode\":\"closest\",\"hoverlabel\":{\"align\":\"left\"},\"paper_bgcolor\":\"white\",\"plot_bgcolor\":\"#E5ECF6\",\"polar\":{\"bgcolor\":\"#E5ECF6\",\"angularaxis\":{\"gridcolor\":\"white\",\"linecolor\":\"white\",\"ticks\":\"\"},\"radialaxis\":{\"gridcolor\":\"white\",\"linecolor\":\"white\",\"ticks\":\"\"}},\"ternary\":{\"bgcolor\":\"#E5ECF6\",\"aaxis\":{\"gridcolor\":\"white\",\"linecolor\":\"white\",\"ticks\":\"\"},\"baxis\":{\"gridcolor\":\"white\",\"linecolor\":\"white\",\"ticks\":\"\"},\"caxis\":{\"gridcolor\":\"white\",\"linecolor\":\"white\",\"ticks\":\"\"}},\"coloraxis\":{\"colorbar\":{\"outlinewidth\":0,\"ticks\":\"\"}},\"colorscale\":{\"sequential\":[[0.0,\"#0d0887\"],[0.1111111111111111,\"#46039f\"],[0.2222222222222222,\"#7201a8\"],[0.3333333333333333,\"#9c179e\"],[0.4444444444444444,\"#bd3786\"],[0.5555555555555556,\"#d8576b\"],[0.6666666666666666,\"#ed7953\"],[0.7777777777777778,\"#fb9f3a\"],[0.8888888888888888,\"#fdca26\"],[1.0,\"#f0f921\"]],\"sequentialminus\":[[0.0,\"#0d0887\"],[0.1111111111111111,\"#46039f\"],[0.2222222222222222,\"#7201a8\"],[0.3333333333333333,\"#9c179e\"],[0.4444444444444444,\"#bd3786\"],[0.5555555555555556,\"#d8576b\"],[0.6666666666666666,\"#ed7953\"],[0.7777777777777778,\"#fb9f3a\"],[0.8888888888888888,\"#fdca26\"],[1.0,\"#f0f921\"]],\"diverging\":[[0,\"#8e0152\"],[0.1,\"#c51b7d\"],[0.2,\"#de77ae\"],[0.3,\"#f1b6da\"],[0.4,\"#fde0ef\"],[0.5,\"#f7f7f7\"],[0.6,\"#e6f5d0\"],[0.7,\"#b8e186\"],[0.8,\"#7fbc41\"],[0.9,\"#4d9221\"],[1,\"#276419\"]]},\"xaxis\":{\"gridcolor\":\"white\",\"linecolor\":\"white\",\"ticks\":\"\",\"title\":{\"standoff\":15},\"zerolinecolor\":\"white\",\"automargin\":true,\"zerolinewidth\":2},\"yaxis\":{\"gridcolor\":\"white\",\"linecolor\":\"white\",\"ticks\":\"\",\"title\":{\"standoff\":15},\"zerolinecolor\":\"white\",\"automargin\":true,\"zerolinewidth\":2},\"scene\":{\"xaxis\":{\"backgroundcolor\":\"#E5ECF6\",\"gridcolor\":\"white\",\"linecolor\":\"white\",\"showbackground\":true,\"ticks\":\"\",\"zerolinecolor\":\"white\",\"gridwidth\":2},\"yaxis\":{\"backgroundcolor\":\"#E5ECF6\",\"gridcolor\":\"white\",\"linecolor\":\"white\",\"showbackground\":true,\"ticks\":\"\",\"zerolinecolor\":\"white\",\"gridwidth\":2},\"zaxis\":{\"backgroundcolor\":\"#E5ECF6\",\"gridcolor\":\"white\",\"linecolor\":\"white\",\"showbackground\":true,\"ticks\":\"\",\"zerolinecolor\":\"white\",\"gridwidth\":2}},\"shapedefaults\":{\"line\":{\"color\":\"#2a3f5f\"}},\"annotationdefaults\":{\"arrowcolor\":\"#2a3f5f\",\"arrowhead\":0,\"arrowwidth\":1},\"geo\":{\"bgcolor\":\"white\",\"landcolor\":\"#E5ECF6\",\"subunitcolor\":\"white\",\"showland\":true,\"showlakes\":true,\"lakecolor\":\"white\"},\"title\":{\"x\":0.05},\"mapbox\":{\"style\":\"light\"}}},\"xaxis\":{\"anchor\":\"y\",\"domain\":[0.0,1.0],\"title\":{\"text\":\"gender\"}},\"yaxis\":{\"anchor\":\"x\",\"domain\":[0.0,1.0],\"title\":{\"text\":\"math score\"}},\"legend\":{\"tracegroupgap\":0},\"title\":{\"text\":\"Average Math Scores by Gender\"},\"barmode\":\"relative\"},                        {\"responsive\": true}                    ).then(function(){\n",
       "                            \n",
       "var gd = document.getElementById('61826a5d-7894-4b19-a634-8014f57ad35d');\n",
       "var x = new MutationObserver(function (mutations, observer) {{\n",
       "        var display = window.getComputedStyle(gd).display;\n",
       "        if (!display || display === 'none') {{\n",
       "            console.log([gd, 'removed!']);\n",
       "            Plotly.purge(gd);\n",
       "            observer.disconnect();\n",
       "        }}\n",
       "}});\n",
       "\n",
       "// Listen for the removal of the full notebook cells\n",
       "var notebookContainer = gd.closest('#notebook-container');\n",
       "if (notebookContainer) {{\n",
       "    x.observe(notebookContainer, {childList: true});\n",
       "}}\n",
       "\n",
       "// Listen for the clearing of the current output cell\n",
       "var outputEl = gd.closest('.output');\n",
       "if (outputEl) {{\n",
       "    x.observe(outputEl, {childList: true});\n",
       "}}\n",
       "\n",
       "                        })                };                });            </script>        </div>"
      ]
     },
     "metadata": {},
     "output_type": "display_data"
    }
   ],
   "source": [
    "# Plot math averages by gender\n",
    "px.bar(gender_math_df, x = \"gender\", y = \"math score\", title = \"Average Math Scores by Gender\")"
   ]
  },
  {
   "cell_type": "code",
   "execution_count": 46,
   "id": "4132b45f",
   "metadata": {},
   "outputs": [
    {
     "name": "stdout",
     "output_type": "stream",
     "text": [
      "Mean:\n",
      " math score       66.089\n",
      "reading score    69.169\n",
      "writing score    68.054\n",
      "dtype: float64\n",
      "\n",
      "Standard Deviation:\n",
      " math score       15.163080\n",
      "reading score    14.600192\n",
      "writing score    15.195657\n",
      "dtype: float64\n",
      "\n",
      "Variance:\n",
      " math score       229.918998\n",
      "reading score    213.165605\n",
      "writing score    230.907992\n",
      "dtype: float64\n",
      "\n",
      "Range:\n",
      " math score       100\n",
      "reading score     83\n",
      "writing score     90\n",
      "dtype: int64\n",
      "\n",
      "Median:\n",
      " math score       66.0\n",
      "reading score    70.0\n",
      "writing score    69.0\n",
      "dtype: float64\n",
      "\n",
      "Mode:\n",
      " math score       65\n",
      "reading score    72\n",
      "writing score    74\n",
      "Name: 0, dtype: int64\n"
     ]
    }
   ],
   "source": [
    "# Calculate statistics\n",
    "\n",
    "# TO FIX String to Float error, line below only ask for a df of numbers ( could also do ['int64', 'float64'])\n",
    "df_numeric = student_data.select_dtypes(include = ['int64'])\n",
    "\n",
    "mean = df_numeric.mean()\n",
    "std_dev = df_numeric.std()\n",
    "variance = df_numeric.var()\n",
    "range_ = df_numeric.max(numeric_only=True) - df_numeric.min(numeric_only=True)\n",
    "median = df_numeric.median()\n",
    "mode = df_numeric.mode().loc[0]\n",
    "\n",
    "print('Mean:\\n', mean)\n",
    "print('\\nStandard Deviation:\\n', std_dev)\n",
    "print('\\nVariance:\\n', variance)\n",
    "print('\\nRange:\\n', range_)\n",
    "print('\\nMedian:\\n', median)\n",
    "print('\\nMode:\\n', mode)\n"
   ]
  },
  {
   "cell_type": "code",
   "execution_count": 38,
   "id": "409617db",
   "metadata": {},
   "outputs": [
    {
     "data": {
      "application/vnd.plotly.v1+json": {
       "config": {
        "plotlyServerURL": "https://plot.ly"
       },
       "data": [
        {
         "autobinx": false,
         "histnorm": "probability density",
         "legendgroup": "Math Scores",
         "marker": {
          "color": "rgb(31, 119, 180)"
         },
         "name": "Math Scores",
         "opacity": 0.7,
         "type": "histogram",
         "x": [
          72,
          69,
          90,
          47,
          76,
          71,
          88,
          40,
          64,
          38,
          58,
          40,
          65,
          78,
          50,
          69,
          88,
          18,
          46,
          54,
          66,
          65,
          44,
          69,
          74,
          73,
          69,
          67,
          70,
          62,
          69,
          63,
          56,
          40,
          97,
          81,
          74,
          50,
          75,
          57,
          55,
          58,
          53,
          59,
          50,
          65,
          55,
          66,
          57,
          82,
          53,
          77,
          53,
          88,
          71,
          33,
          82,
          52,
          58,
          0,
          79,
          39,
          62,
          69,
          59,
          67,
          45,
          60,
          61,
          39,
          58,
          63,
          41,
          61,
          49,
          44,
          30,
          80,
          61,
          62,
          47,
          49,
          50,
          72,
          42,
          73,
          76,
          71,
          58,
          73,
          65,
          27,
          71,
          43,
          79,
          78,
          65,
          63,
          58,
          65,
          79,
          68,
          85,
          60,
          98,
          58,
          87,
          66,
          52,
          70,
          77,
          62,
          54,
          51,
          99,
          84,
          75,
          78,
          51,
          55,
          79,
          91,
          88,
          63,
          83,
          87,
          72,
          65,
          82,
          51,
          89,
          53,
          87,
          75,
          74,
          58,
          51,
          70,
          59,
          71,
          76,
          59,
          42,
          57,
          88,
          22,
          88,
          73,
          68,
          100,
          62,
          77,
          59,
          54,
          62,
          70,
          66,
          60,
          61,
          66,
          82,
          75,
          49,
          52,
          81,
          96,
          53,
          58,
          68,
          67,
          72,
          94,
          79,
          63,
          43,
          81,
          46,
          71,
          52,
          97,
          62,
          46,
          50,
          65,
          45,
          65,
          80,
          62,
          48,
          77,
          66,
          76,
          62,
          77,
          69,
          61,
          59,
          55,
          45,
          78,
          67,
          65,
          69,
          57,
          59,
          74,
          82,
          81,
          74,
          58,
          80,
          35,
          42,
          60,
          87,
          84,
          83,
          34,
          66,
          61,
          56,
          87,
          55,
          86,
          52,
          45,
          72,
          57,
          68,
          88,
          76,
          46,
          67,
          92,
          83,
          80,
          63,
          64,
          54,
          84,
          73,
          80,
          56,
          59,
          75,
          85,
          89,
          58,
          65,
          68,
          47,
          71,
          60,
          80,
          54,
          62,
          64,
          78,
          70,
          65,
          64,
          79,
          44,
          99,
          76,
          59,
          63,
          69,
          88,
          71,
          69,
          58,
          47,
          65,
          88,
          83,
          85,
          59,
          65,
          73,
          53,
          45,
          73,
          70,
          37,
          81,
          97,
          67,
          88,
          77,
          76,
          86,
          63,
          65,
          78,
          67,
          46,
          71,
          40,
          90,
          81,
          56,
          67,
          80,
          74,
          69,
          99,
          51,
          53,
          49,
          73,
          66,
          67,
          68,
          59,
          71,
          77,
          83,
          63,
          56,
          67,
          75,
          71,
          43,
          41,
          82,
          61,
          28,
          82,
          41,
          71,
          47,
          62,
          90,
          83,
          61,
          76,
          49,
          24,
          35,
          58,
          61,
          69,
          67,
          79,
          72,
          62,
          77,
          75,
          87,
          52,
          66,
          63,
          46,
          59,
          61,
          63,
          42,
          59,
          80,
          58,
          85,
          52,
          27,
          59,
          49,
          69,
          61,
          44,
          73,
          84,
          45,
          74,
          82,
          59,
          46,
          80,
          85,
          71,
          66,
          80,
          87,
          79,
          38,
          38,
          67,
          64,
          57,
          62,
          73,
          73,
          77,
          76,
          57,
          65,
          48,
          50,
          85,
          74,
          60,
          59,
          53,
          49,
          88,
          54,
          63,
          65,
          82,
          52,
          87,
          70,
          84,
          71,
          63,
          51,
          84,
          71,
          74,
          68,
          57,
          82,
          57,
          47,
          59,
          41,
          62,
          86,
          69,
          65,
          68,
          64,
          61,
          61,
          47,
          73,
          50,
          75,
          75,
          70,
          89,
          67,
          78,
          59,
          73,
          79,
          67,
          69,
          86,
          47,
          81,
          64,
          100,
          65,
          65,
          53,
          37,
          79,
          53,
          100,
          72,
          53,
          54,
          71,
          77,
          75,
          84,
          26,
          72,
          77,
          91,
          83,
          63,
          68,
          59,
          90,
          71,
          76,
          80,
          55,
          76,
          73,
          52,
          68,
          59,
          49,
          70,
          61,
          60,
          64,
          79,
          65,
          64,
          83,
          81,
          54,
          68,
          54,
          59,
          66,
          76,
          74,
          94,
          63,
          95,
          40,
          82,
          68,
          55,
          79,
          86,
          76,
          64,
          62,
          54,
          77,
          76,
          74,
          66,
          66,
          67,
          71,
          91,
          69,
          54,
          53,
          68,
          56,
          36,
          29,
          62,
          68,
          47,
          62,
          79,
          73,
          66,
          51,
          51,
          85,
          97,
          75,
          79,
          81,
          82,
          64,
          78,
          92,
          72,
          62,
          79,
          79,
          87,
          40,
          77,
          53,
          32,
          55,
          61,
          53,
          73,
          74,
          63,
          96,
          63,
          48,
          48,
          92,
          61,
          63,
          68,
          71,
          91,
          53,
          50,
          74,
          40,
          61,
          81,
          48,
          53,
          81,
          77,
          63,
          73,
          69,
          65,
          55,
          44,
          54,
          48,
          58,
          71,
          68,
          74,
          92,
          56,
          30,
          53,
          69,
          65,
          54,
          29,
          76,
          60,
          84,
          75,
          85,
          40,
          61,
          58,
          69,
          58,
          94,
          65,
          82,
          60,
          37,
          88,
          95,
          65,
          35,
          62,
          58,
          100,
          61,
          100,
          69,
          61,
          49,
          44,
          67,
          79,
          66,
          75,
          84,
          71,
          67,
          80,
          86,
          76,
          41,
          74,
          72,
          74,
          70,
          65,
          59,
          64,
          50,
          69,
          51,
          68,
          85,
          65,
          73,
          62,
          77,
          69,
          43,
          90,
          74,
          73,
          55,
          65,
          80,
          50,
          63,
          77,
          73,
          81,
          66,
          52,
          69,
          65,
          69,
          50,
          73,
          70,
          81,
          63,
          67,
          60,
          62,
          29,
          62,
          94,
          85,
          77,
          53,
          93,
          49,
          73,
          66,
          77,
          49,
          79,
          75,
          59,
          57,
          66,
          79,
          57,
          87,
          63,
          59,
          62,
          46,
          66,
          89,
          42,
          93,
          80,
          98,
          81,
          60,
          76,
          73,
          96,
          76,
          91,
          62,
          55,
          74,
          50,
          47,
          81,
          65,
          68,
          73,
          53,
          68,
          55,
          87,
          55,
          53,
          67,
          92,
          53,
          81,
          61,
          80,
          37,
          81,
          59,
          55,
          72,
          69,
          69,
          50,
          87,
          71,
          68,
          79,
          77,
          58,
          84,
          55,
          70,
          52,
          69,
          53,
          48,
          78,
          62,
          60,
          74,
          58,
          76,
          68,
          58,
          52,
          75,
          52,
          62,
          66,
          49,
          66,
          35,
          72,
          94,
          46,
          77,
          76,
          52,
          91,
          32,
          72,
          19,
          68,
          52,
          48,
          60,
          66,
          89,
          42,
          57,
          70,
          70,
          69,
          52,
          67,
          76,
          87,
          82,
          73,
          75,
          64,
          41,
          90,
          59,
          51,
          45,
          54,
          87,
          72,
          94,
          45,
          61,
          60,
          77,
          85,
          78,
          49,
          71,
          48,
          62,
          56,
          65,
          69,
          68,
          61,
          74,
          64,
          77,
          58,
          60,
          73,
          75,
          58,
          66,
          39,
          64,
          23,
          74,
          40,
          90,
          91,
          64,
          59,
          80,
          71,
          61,
          87,
          82,
          62,
          97,
          75,
          65,
          52,
          87,
          53,
          81,
          39,
          71,
          97,
          82,
          59,
          61,
          78,
          49,
          59,
          70,
          82,
          90,
          43,
          80,
          81,
          57,
          59,
          64,
          63,
          71,
          64,
          55,
          51,
          62,
          93,
          54,
          69,
          44,
          86,
          85,
          50,
          88,
          59,
          32,
          36,
          63,
          67,
          65,
          85,
          73,
          34,
          93,
          67,
          88,
          57,
          79,
          67,
          70,
          50,
          69,
          52,
          47,
          46,
          68,
          100,
          44,
          57,
          91,
          69,
          35,
          72,
          54,
          74,
          74,
          64,
          65,
          46,
          48,
          67,
          62,
          61,
          70,
          98,
          70,
          67,
          57,
          85,
          77,
          72,
          78,
          81,
          61,
          58,
          54,
          82,
          49,
          49,
          57,
          94,
          75,
          74,
          58,
          62,
          72,
          84,
          92,
          45,
          75,
          56,
          48,
          100,
          65,
          72,
          62,
          66,
          63,
          68,
          75,
          89,
          78,
          53,
          49,
          54,
          64,
          60,
          62,
          55,
          91,
          8,
          81,
          79,
          78,
          74,
          57,
          40,
          81,
          44,
          67,
          86,
          65,
          55,
          62,
          63,
          88,
          62,
          59,
          68,
          77
         ],
         "xaxis": "x",
         "xbins": {
          "end": 100,
          "size": 1,
          "start": 0
         },
         "yaxis": "y"
        },
        {
         "legendgroup": "Math Scores",
         "marker": {
          "color": "rgb(31, 119, 180)"
         },
         "mode": "lines",
         "name": "Math Scores",
         "showlegend": false,
         "type": "scatter",
         "x": [
          0,
          0.2,
          0.4,
          0.6,
          0.8,
          1,
          1.2,
          1.4,
          1.6,
          1.8,
          2,
          2.2,
          2.4,
          2.6,
          2.8,
          3,
          3.2,
          3.4,
          3.6,
          3.8,
          4,
          4.2,
          4.4,
          4.6,
          4.8,
          5,
          5.2,
          5.4,
          5.6,
          5.8,
          6,
          6.2,
          6.4,
          6.6,
          6.8,
          7,
          7.2,
          7.4,
          7.6,
          7.8,
          8,
          8.2,
          8.4,
          8.6,
          8.8,
          9,
          9.2,
          9.4,
          9.6,
          9.8,
          10,
          10.2,
          10.4,
          10.6,
          10.8,
          11,
          11.2,
          11.4,
          11.6,
          11.8,
          12,
          12.2,
          12.4,
          12.6,
          12.8,
          13,
          13.2,
          13.4,
          13.6,
          13.8,
          14,
          14.2,
          14.4,
          14.6,
          14.8,
          15,
          15.2,
          15.4,
          15.6,
          15.8,
          16,
          16.2,
          16.4,
          16.6,
          16.8,
          17,
          17.2,
          17.4,
          17.6,
          17.8,
          18,
          18.2,
          18.4,
          18.6,
          18.8,
          19,
          19.2,
          19.4,
          19.6,
          19.8,
          20,
          20.2,
          20.4,
          20.6,
          20.8,
          21,
          21.2,
          21.4,
          21.6,
          21.8,
          22,
          22.2,
          22.4,
          22.6,
          22.8,
          23,
          23.2,
          23.4,
          23.6,
          23.8,
          24,
          24.2,
          24.4,
          24.6,
          24.8,
          25,
          25.2,
          25.4,
          25.6,
          25.8,
          26,
          26.2,
          26.4,
          26.6,
          26.8,
          27,
          27.2,
          27.4,
          27.6,
          27.8,
          28,
          28.2,
          28.4,
          28.6,
          28.8,
          29,
          29.2,
          29.4,
          29.6,
          29.8,
          30,
          30.2,
          30.4,
          30.6,
          30.8,
          31,
          31.2,
          31.4,
          31.6,
          31.8,
          32,
          32.2,
          32.4,
          32.6,
          32.8,
          33,
          33.2,
          33.4,
          33.6,
          33.8,
          34,
          34.2,
          34.4,
          34.6,
          34.8,
          35,
          35.2,
          35.4,
          35.6,
          35.8,
          36,
          36.2,
          36.4,
          36.6,
          36.8,
          37,
          37.2,
          37.4,
          37.6,
          37.8,
          38,
          38.2,
          38.4,
          38.6,
          38.8,
          39,
          39.2,
          39.4,
          39.6,
          39.8,
          40,
          40.2,
          40.4,
          40.6,
          40.8,
          41,
          41.2,
          41.4,
          41.6,
          41.8,
          42,
          42.2,
          42.4,
          42.6,
          42.8,
          43,
          43.2,
          43.4,
          43.6,
          43.8,
          44,
          44.2,
          44.4,
          44.6,
          44.8,
          45,
          45.2,
          45.4,
          45.6,
          45.8,
          46,
          46.2,
          46.4,
          46.6,
          46.8,
          47,
          47.2,
          47.4,
          47.6,
          47.8,
          48,
          48.2,
          48.4,
          48.6,
          48.8,
          49,
          49.2,
          49.4,
          49.6,
          49.8,
          50,
          50.2,
          50.4,
          50.6,
          50.8,
          51,
          51.2,
          51.4,
          51.6,
          51.8,
          52,
          52.2,
          52.4,
          52.6,
          52.8,
          53,
          53.2,
          53.4,
          53.6,
          53.8,
          54,
          54.2,
          54.4,
          54.6,
          54.8,
          55,
          55.2,
          55.4,
          55.6,
          55.8,
          56,
          56.2,
          56.4,
          56.6,
          56.8,
          57,
          57.2,
          57.4,
          57.6,
          57.8,
          58,
          58.2,
          58.4,
          58.6,
          58.8,
          59,
          59.2,
          59.4,
          59.6,
          59.8,
          60,
          60.2,
          60.4,
          60.6,
          60.8,
          61,
          61.2,
          61.4,
          61.6,
          61.8,
          62,
          62.2,
          62.4,
          62.6,
          62.8,
          63,
          63.2,
          63.4,
          63.6,
          63.8,
          64,
          64.2,
          64.4,
          64.6,
          64.8,
          65,
          65.2,
          65.4,
          65.6,
          65.8,
          66,
          66.2,
          66.4,
          66.6,
          66.8,
          67,
          67.2,
          67.4,
          67.6,
          67.8,
          68,
          68.2,
          68.4,
          68.6,
          68.8,
          69,
          69.2,
          69.4,
          69.6,
          69.8,
          70,
          70.2,
          70.4,
          70.6,
          70.8,
          71,
          71.2,
          71.4,
          71.6,
          71.8,
          72,
          72.2,
          72.4,
          72.6,
          72.8,
          73,
          73.2,
          73.4,
          73.6,
          73.8,
          74,
          74.2,
          74.4,
          74.6,
          74.8,
          75,
          75.2,
          75.4,
          75.6,
          75.8,
          76,
          76.2,
          76.4,
          76.6,
          76.8,
          77,
          77.2,
          77.4,
          77.6,
          77.8,
          78,
          78.2,
          78.4,
          78.6,
          78.8,
          79,
          79.2,
          79.4,
          79.6,
          79.8,
          80,
          80.2,
          80.4,
          80.6,
          80.8,
          81,
          81.2,
          81.4,
          81.6,
          81.8,
          82,
          82.2,
          82.4,
          82.6,
          82.8,
          83,
          83.2,
          83.4,
          83.6,
          83.8,
          84,
          84.2,
          84.4,
          84.6,
          84.8,
          85,
          85.2,
          85.4,
          85.6,
          85.8,
          86,
          86.2,
          86.4,
          86.6,
          86.8,
          87,
          87.2,
          87.4,
          87.6,
          87.8,
          88,
          88.2,
          88.4,
          88.6,
          88.8,
          89,
          89.2,
          89.4,
          89.6,
          89.8,
          90,
          90.2,
          90.4,
          90.6,
          90.8,
          91,
          91.2,
          91.4,
          91.6,
          91.8,
          92,
          92.2,
          92.4,
          92.6,
          92.8,
          93,
          93.2,
          93.4,
          93.6,
          93.8,
          94,
          94.2,
          94.4,
          94.6,
          94.8,
          95,
          95.2,
          95.4,
          95.6,
          95.8,
          96,
          96.2,
          96.4,
          96.6,
          96.8,
          97,
          97.2,
          97.4,
          97.6,
          97.8,
          98,
          98.2,
          98.4,
          98.6,
          98.8,
          99,
          99.2,
          99.4,
          99.6,
          99.8
         ],
         "xaxis": "x",
         "y": [
          0.00011628247548045415,
          0.00011746636028489478,
          0.00011847623857739746,
          0.00011932001135507114,
          0.00012000735801946885,
          0.00012054955455918004,
          0.00012095926044167583,
          0.00012125027801350934,
          0.00012143728889615148,
          0.00012153557246554196,
          0.00012156071200036789,
          0.00012152829446303828,
          0.0001214536101269749,
          0.00012135135837600035,
          0.00012123536597146979,
          0.0001211183239090997,
          0.00012101154867254664,
          0.00012092477324059602,
          0.00012086597262868419,
          0.00012084122805594758,
          0.00012085463304148915,
          0.0001209082438659924,
          0.00012100207590709428,
          0.00012113414639048232,
          0.00012130056311582625,
          0.00012149565774009961,
          0.00012171216125303587,
          0.00012194141838204313,
          0.00012217363683715462,
          0.00012239816656891918,
          0.00012260380357963964,
          0.00012277911231442897,
          0.00012291276027356899,
          0.00012299385823879194,
          0.00012301229939719677,
          0.0001229590906780214,
          0.00012282666978658463,
          0.00012260920172039777,
          0.00012230284897582909,
          0.00012190601018829798,
          0.00012141952258105398,
          0.000120846824311651,
          0.0001201940735844049,
          0.00011947022222370197,
          0.00011868704225891795,
          0.0001178591049388915,
          0.00011700371245489946,
          0.00011614078348933927,
          0.00011529269450755792,
          0.00011448407945875998,
          0.00011374159123673353,
          0.00011309362886225683,
          0.00011257003487848915,
          0.0001122017678924406,
          0.00011202055554577108,
          0.00011205853345456369,
          0.00011234787581997102,
          0.00011292042348090152,
          0.00011380731515871202,
          0.00011503862753585296,
          0.00011664302962017348,
          0.00011864745657947063,
          0.0001210768078927769,
          0.0001239536742621829,
          0.00012729809726835206,
          0.00013112736524124272,
          0.00013545584826202246,
          0.0001402948746200643,
          0.00014565265042774576,
          0.00015153422345323992,
          0.00015794149157551126,
          0.00016487325560451098,
          0.00017232531555148024,
          0.0001802906087880271,
          0.00018875938790703184,
          0.0001977194355024313,
          0.00020715631252745827,
          0.00021705363638076252,
          0.00022739338441544793,
          0.00023815621817538423,
          0.00024932182334331507,
          0.0002608692601425238,
          0.000272777318773133,
          0.0002850248743891042,
          0.00029759123613480885,
          0.0003104564848609992,
          0.0003236017943278001,
          0.0003370097309739398,
          0.00035066452768192055,
          0.00036455232739195787,
          0.0003786613929053554,
          0.00039298227976162874,
          0.0004075079696632091,
          0.0004222339625463736,
          0.0004371583260463786,
          0.0004522817017677482,
          0.00046760726843675756,
          0.0004831406626724282,
          0.0004988898587556038,
          0.0005148650093947348,
          0.000531078250074642,
          0.0005475434701247072,
          0.0005642760541505441,
          0.0005812925979341412,
          0.0005986106033183672,
          0.000616248156949781,
          0.0006342235980565205,
          0.0006525551806833335,
          0.0006712607359912221,
          0.0006903573403521025,
          0.0007098609950263184,
          0.0007297863231995091,
          0.0007501462900712905,
          0.0007709519515275763,
          0.0007922122366868728,
          0.000813933769284624,
          0.0008361207324453908,
          0.0008587747808876459,
          0.0008818950040095469,
          0.0009054779426167468,
          0.0009295176612783287,
          0.0009540058774401216,
          0.0009789321474943924,
          0.001004284109013334,
          0.0010300477773156607,
          0.001056207893469183,
          0.0010827483197585414,
          0.001109652477589696,
          0.001136903821786775,
          0.001164486344289112,
          0.001192385099403635,
          0.0012205867420369554,
          0.001249080069747162,
          0.0012778565590403279,
          0.0013069108861097232,
          0.0013362414221917106,
          0.001365850693900459,
          0.0013957457993077494,
          0.0014259387711519514,
          0.0014564468793821972,
          0.0014872928662552423,
          0.0015185051083811342,
          0.0015501177014330318,
          0.0015821704646640092,
          0.0016147088638735127,
          0.0016477838529998469,
          0.0016814516360424499,
          0.0017157733524987187,
          0.0017508146908962647,
          0.0017866454362765482,
          0.0018233389586086591,
          0.001860971650055441,
          0.001899622319758792,
          0.00193937155534309,
          0.0019803010606497845,
          0.002022492979314363,
          0.0020660292136878556,
          0.00211099074830571,
          0.0021574569866389683,
          0.002205505109254022,
          0.002255209460788837,
          0.0023066409723590713,
          0.0023598666251709415,
          0.0024149489602732018,
          0.002471945638558099,
          0.0025309090543493467,
          0.0025918860052146792,
          0.0026549174200282246,
          0.0027200381467930817,
          0.002787276801317283,
          0.002856655677514223,
          0.0029281907198558314,
          0.0030018915583274026,
          0.003077761606092345,
          0.0031557982199444915,
          0.003235992923478316,
          0.0033183316927096404,
          0.0034027953036052674,
          0.00348935974060303,
          0.003577996664702877,
          0.0036686739390719295,
          0.0037613562093257507,
          0.0038560055347252285,
          0.003952582065478891,
          0.0040510447601809435,
          0.004151352136180343,
          0.004253463044401211,
          0.004357337458865983,
          0.004462937269961594,
          0.004570227069386436,
          0.00467917491377973,
          0.0047897530533154405,
          0.004901938611090829,
          0.005015714198997324,
          0.005131068455962561,
          0.005247996495021815,
          0.005366500246625333,
          0.0054865886869150905,
          0.005608277941394239,
          0.005731591256437387,
          0.005856558833407002,
          0.005983217522698324,
          0.0061116103777671136,
          0.006241786072029606,
          0.006373798184384499,
          0.006507704361911607,
          0.006643565370969764,
          0.006781444050371984,
          0.00692140418248306,
          0.007063509299906202,
          0.007207821446842741,
          0.0073543999151896395,
          0.0075032999759545695,
          0.007654571626611791,
          0.0078082583746001,
          0.007964396076299318,
          0.008123011849551963,
          0.008284123076173206,
          0.008447736508973727,
          0.008613847495680858,
          0.008782439329856305,
          0.008953482736553858,
          0.00912693549811767,
          0.00930274222326203,
          0.009480834260470063,
          0.00966112975485567,
          0.009843533846001434,
          0.010027939002944755,
          0.010214225491456595,
          0.010402261968040347,
          0.010591906194661792,
          0.010783005868074534,
          0.010975399557682133,
          0.011168917746127664,
          0.011363383967150777,
          0.011558616035633035,
          0.011754427365086854,
          0.011950628368049375,
          0.012147027934855618,
          0.012343434986010015,
          0.012539660092801976,
          0.012735517159881596,
          0.012930825162193306,
          0.013125409926968638,
          0.013319105949408844,
          0.013511758228292979,
          0.013703224105088743,
          0.01389337508729813,
          0.014082098633851362,
          0.014269299877478572,
          0.01445490325627583,
          0.01463885402428204,
          0.014821119608926287,
          0.015001690781846719,
          0.01518058260893541,
          0.015357835145655733,
          0.015533513844803618,
          0.015707709646003546,
          0.01588053871939823,
          0.016052141840200446,
          0.01622268337600575,
          0.016392349874951192,
          0.01656134824983128,
          0.01672990356102848,
          0.016898256409389373,
          0.017066659958796457,
          0.017235376616914138,
          0.017404674411194802,
          0.01757482310546432,
          0.017746090110023174,
          0.017918736244952556,
          0.01809301142199305,
          0.018269150314750886,
          0.018447368089938587,
          0.018627856273717228,
          0.01881077882692167,
          0.01899626850095266,
          0.019184423542440387,
          0.019375304809475698,
          0.019568933355377457,
          0.019765288527774674,
          0.019964306621423775,
          0.020165880112881555,
          0.020369857494177575,
          0.020576043711243133,
          0.020784201201349828,
          0.020994051512481113,
          0.02120527747667397,
          0.021417525899206504,
          0.021630410716298527,
          0.021843516565956643,
          0.02205640270990147,
          0.022268607239306085,
          0.02247965149342865,
          0.02268904461820071,
          0.022896288191425397,
          0.02310088084241294,
          0.023302322796546836,
          0.02350012027932086,
          0.02369378971965956,
          0.023882861698660253,
          0.02406688459707664,
          0.024245427902697174,
          0.02441808514703213,
          0.0245844764492029,
          0.024744250653411647,
          0.024897087054654248,
          0.025042696715244492,
          0.025180823382070384,
          0.025311244021164633,
          0.02543376899201741,
          0.025548241888999852,
          0.025654539081235574,
          0.02575256898521186,
          0.025842271106360656,
          0.025923614886762956,
          0.02599659839608865,
          0.026061246901932292,
          0.02611761135392091,
          0.0261657668134592,
          0.026205810857838067,
          0.026237861983797132,
          0.02626205803162687,
          0.02627855464664707,
          0.026287523790554563,
          0.026289152310814787,
          0.026283640572111883,
          0.026271201149989137,
          0.026252057583313476,
          0.026226443179178976,
          0.026194599861402674,
          0.02615677705192381,
          0.026113230573235724,
          0.02606422155947422,
          0.02601001536396812,
          0.02595088045188883,
          0.025887087268090914,
          0.02581890707223815,
          0.025746610735791806,
          0.02567046749829208,
          0.025590743683496665,
          0.025507701379216575,
          0.025421597088003345,
          0.025332680359050976,
          0.02524119241467451,
          0.025147364787377027,
          0.025051417985734986,
          0.02495356020900615,
          0.024853986131430566,
          0.024752875777596217,
          0.024650393509946314,
          0.024546687148506354,
          0.02444188724122278,
          0.02433610650097948,
          0.024229439422450986,
          0.024121962088557557,
          0.024013732172505797,
          0.02390478913736299,
          0.023795154630937787,
          0.023684833069584493,
          0.023573812400533554,
          0.023462065028628545,
          0.023349548890034516,
          0.023236208652697075,
          0.02312197702116498,
          0.023006776121913347,
          0.02289051894457468,
          0.02277311081451075,
          0.02265445087293949,
          0.022534433542330333,
          0.022412949956929714,
          0.02228988934099299,
          0.022165140320468128,
          0.022038592157364145,
          0.021910135899713735,
          0.02177966544374168,
          0.021647078508436234,
          0.021512277526036,
          0.02137517045485366,
          0.021235671523236434,
          0.021093701915211052,
          0.020949190409394275,
          0.02080207398303074,
          0.020652298392516078,
          0.020499818740503255,
          0.02034460003770666,
          0.020186617764900893,
          0.02002585843745784,
          0.019862320171213206,
          0.01969601324464928,
          0.019526960648500787,
          0.019355198610098115,
          0.019180777076249753,
          0.019003760135397535,
          0.01882422635732042,
          0.018642269026959292,
          0.0184579962481033,
          0.01827153089281395,
          0.018083010373615354,
          0.017892586217672337,
          0.01770042342539341,
          0.017506699600068308,
          0.017311603840192466,
          0.01711533539190644,
          0.01691810206531873,
          0.016720118425209495,
          0.016521603773503413,
          0.01632277994774207,
          0.01612386896634427,
          0.015925090557489894,
          0.01572665961378867,
          0.015528783619291166,
          0.01533166009870771,
          0.01513547414076724,
          0.014940396048373786,
          0.014746579167547763,
          0.014554157945038927,
          0.014363246261010973,
          0.01417393607837918,
          0.013986296444357301,
          0.013800372872682728,
          0.013616187127024733,
          0.013433737417460836,
          0.013252999012854925,
          0.01307392526274087,
          0.012896449013162765,
          0.012720484392086355,
          0.012545928931730418,
          0.0123726659876764,
          0.012200567408104109,
          0.012029496401134564,
          0.01185931054415887,
          0.011689864876295142,
          0.011521015013783324,
          0.011352620228209744,
          0.011184546428922392,
          0.01101666899377187,
          0.010848875396296271,
          0.010681067582519885,
          0.010513164056492365,
          0.010345101640385313,
          0.010176836882184957,
          0.010008347091585745,
          0.009839630992393102,
          0.00967070898740109,
          0.009501623039141817,
          0.009332436176942759,
          0.009163231647243626,
          0.008994111729989688,
          0.00882519624904923,
          0.008656620808932033,
          0.008488534793573714,
          0.008321099165589353,
          0.00815448410619342,
          0.007988866536969258,
          0.007824427564895266,
          0.007661349891561542,
          0.007499815226415123,
          0.007340001742231263,
          0.0071820816089098564,
          0.00702621863921914,
          0.006872566077336843,
          0.00672126455804192,
          0.006572440261256115,
          0.006426203283379493,
          0.006282646243555391,
          0.00614184313967321,
          0.00600384846560238,
          0.005868696597863727,
          0.005736401456699848,
          0.005606956443309554,
          0.0054803346518661825,
          0.005356489351848613,
          0.005235354733177937,
          0.005116846903677492,
          0.005000865125467927,
          0.004887293274084071,
          0.004776001501377577,
          0.004666848080672762,
          0.004559681410203951,
          0.004454342148619667,
          0.004350665454332131,
          0.004248483298765597,
          0.0041476268221614125,
          0.004047928699576929,
          0.003949225484114243,
          0.003851359894273261,
          0.0037541830126744976,
          0.0036575563642660762,
          0.003561353843529127,
          0.003465463462131964,
          0.003369788890942287,
          0.0032742507732669694,
          0.0031787877896132417,
          0.0030833574580997575,
          0.0029879366588315866,
          0.0028925218750108428,
          0.0027971291482020728,
          0.0027017937499161392,
          0.002606569576419151
         ],
         "yaxis": "y"
        },
        {
         "legendgroup": "Math Scores",
         "marker": {
          "color": "rgb(31, 119, 180)",
          "symbol": "line-ns-open"
         },
         "mode": "markers",
         "name": "Math Scores",
         "showlegend": false,
         "type": "scatter",
         "x": [
          72,
          69,
          90,
          47,
          76,
          71,
          88,
          40,
          64,
          38,
          58,
          40,
          65,
          78,
          50,
          69,
          88,
          18,
          46,
          54,
          66,
          65,
          44,
          69,
          74,
          73,
          69,
          67,
          70,
          62,
          69,
          63,
          56,
          40,
          97,
          81,
          74,
          50,
          75,
          57,
          55,
          58,
          53,
          59,
          50,
          65,
          55,
          66,
          57,
          82,
          53,
          77,
          53,
          88,
          71,
          33,
          82,
          52,
          58,
          0,
          79,
          39,
          62,
          69,
          59,
          67,
          45,
          60,
          61,
          39,
          58,
          63,
          41,
          61,
          49,
          44,
          30,
          80,
          61,
          62,
          47,
          49,
          50,
          72,
          42,
          73,
          76,
          71,
          58,
          73,
          65,
          27,
          71,
          43,
          79,
          78,
          65,
          63,
          58,
          65,
          79,
          68,
          85,
          60,
          98,
          58,
          87,
          66,
          52,
          70,
          77,
          62,
          54,
          51,
          99,
          84,
          75,
          78,
          51,
          55,
          79,
          91,
          88,
          63,
          83,
          87,
          72,
          65,
          82,
          51,
          89,
          53,
          87,
          75,
          74,
          58,
          51,
          70,
          59,
          71,
          76,
          59,
          42,
          57,
          88,
          22,
          88,
          73,
          68,
          100,
          62,
          77,
          59,
          54,
          62,
          70,
          66,
          60,
          61,
          66,
          82,
          75,
          49,
          52,
          81,
          96,
          53,
          58,
          68,
          67,
          72,
          94,
          79,
          63,
          43,
          81,
          46,
          71,
          52,
          97,
          62,
          46,
          50,
          65,
          45,
          65,
          80,
          62,
          48,
          77,
          66,
          76,
          62,
          77,
          69,
          61,
          59,
          55,
          45,
          78,
          67,
          65,
          69,
          57,
          59,
          74,
          82,
          81,
          74,
          58,
          80,
          35,
          42,
          60,
          87,
          84,
          83,
          34,
          66,
          61,
          56,
          87,
          55,
          86,
          52,
          45,
          72,
          57,
          68,
          88,
          76,
          46,
          67,
          92,
          83,
          80,
          63,
          64,
          54,
          84,
          73,
          80,
          56,
          59,
          75,
          85,
          89,
          58,
          65,
          68,
          47,
          71,
          60,
          80,
          54,
          62,
          64,
          78,
          70,
          65,
          64,
          79,
          44,
          99,
          76,
          59,
          63,
          69,
          88,
          71,
          69,
          58,
          47,
          65,
          88,
          83,
          85,
          59,
          65,
          73,
          53,
          45,
          73,
          70,
          37,
          81,
          97,
          67,
          88,
          77,
          76,
          86,
          63,
          65,
          78,
          67,
          46,
          71,
          40,
          90,
          81,
          56,
          67,
          80,
          74,
          69,
          99,
          51,
          53,
          49,
          73,
          66,
          67,
          68,
          59,
          71,
          77,
          83,
          63,
          56,
          67,
          75,
          71,
          43,
          41,
          82,
          61,
          28,
          82,
          41,
          71,
          47,
          62,
          90,
          83,
          61,
          76,
          49,
          24,
          35,
          58,
          61,
          69,
          67,
          79,
          72,
          62,
          77,
          75,
          87,
          52,
          66,
          63,
          46,
          59,
          61,
          63,
          42,
          59,
          80,
          58,
          85,
          52,
          27,
          59,
          49,
          69,
          61,
          44,
          73,
          84,
          45,
          74,
          82,
          59,
          46,
          80,
          85,
          71,
          66,
          80,
          87,
          79,
          38,
          38,
          67,
          64,
          57,
          62,
          73,
          73,
          77,
          76,
          57,
          65,
          48,
          50,
          85,
          74,
          60,
          59,
          53,
          49,
          88,
          54,
          63,
          65,
          82,
          52,
          87,
          70,
          84,
          71,
          63,
          51,
          84,
          71,
          74,
          68,
          57,
          82,
          57,
          47,
          59,
          41,
          62,
          86,
          69,
          65,
          68,
          64,
          61,
          61,
          47,
          73,
          50,
          75,
          75,
          70,
          89,
          67,
          78,
          59,
          73,
          79,
          67,
          69,
          86,
          47,
          81,
          64,
          100,
          65,
          65,
          53,
          37,
          79,
          53,
          100,
          72,
          53,
          54,
          71,
          77,
          75,
          84,
          26,
          72,
          77,
          91,
          83,
          63,
          68,
          59,
          90,
          71,
          76,
          80,
          55,
          76,
          73,
          52,
          68,
          59,
          49,
          70,
          61,
          60,
          64,
          79,
          65,
          64,
          83,
          81,
          54,
          68,
          54,
          59,
          66,
          76,
          74,
          94,
          63,
          95,
          40,
          82,
          68,
          55,
          79,
          86,
          76,
          64,
          62,
          54,
          77,
          76,
          74,
          66,
          66,
          67,
          71,
          91,
          69,
          54,
          53,
          68,
          56,
          36,
          29,
          62,
          68,
          47,
          62,
          79,
          73,
          66,
          51,
          51,
          85,
          97,
          75,
          79,
          81,
          82,
          64,
          78,
          92,
          72,
          62,
          79,
          79,
          87,
          40,
          77,
          53,
          32,
          55,
          61,
          53,
          73,
          74,
          63,
          96,
          63,
          48,
          48,
          92,
          61,
          63,
          68,
          71,
          91,
          53,
          50,
          74,
          40,
          61,
          81,
          48,
          53,
          81,
          77,
          63,
          73,
          69,
          65,
          55,
          44,
          54,
          48,
          58,
          71,
          68,
          74,
          92,
          56,
          30,
          53,
          69,
          65,
          54,
          29,
          76,
          60,
          84,
          75,
          85,
          40,
          61,
          58,
          69,
          58,
          94,
          65,
          82,
          60,
          37,
          88,
          95,
          65,
          35,
          62,
          58,
          100,
          61,
          100,
          69,
          61,
          49,
          44,
          67,
          79,
          66,
          75,
          84,
          71,
          67,
          80,
          86,
          76,
          41,
          74,
          72,
          74,
          70,
          65,
          59,
          64,
          50,
          69,
          51,
          68,
          85,
          65,
          73,
          62,
          77,
          69,
          43,
          90,
          74,
          73,
          55,
          65,
          80,
          50,
          63,
          77,
          73,
          81,
          66,
          52,
          69,
          65,
          69,
          50,
          73,
          70,
          81,
          63,
          67,
          60,
          62,
          29,
          62,
          94,
          85,
          77,
          53,
          93,
          49,
          73,
          66,
          77,
          49,
          79,
          75,
          59,
          57,
          66,
          79,
          57,
          87,
          63,
          59,
          62,
          46,
          66,
          89,
          42,
          93,
          80,
          98,
          81,
          60,
          76,
          73,
          96,
          76,
          91,
          62,
          55,
          74,
          50,
          47,
          81,
          65,
          68,
          73,
          53,
          68,
          55,
          87,
          55,
          53,
          67,
          92,
          53,
          81,
          61,
          80,
          37,
          81,
          59,
          55,
          72,
          69,
          69,
          50,
          87,
          71,
          68,
          79,
          77,
          58,
          84,
          55,
          70,
          52,
          69,
          53,
          48,
          78,
          62,
          60,
          74,
          58,
          76,
          68,
          58,
          52,
          75,
          52,
          62,
          66,
          49,
          66,
          35,
          72,
          94,
          46,
          77,
          76,
          52,
          91,
          32,
          72,
          19,
          68,
          52,
          48,
          60,
          66,
          89,
          42,
          57,
          70,
          70,
          69,
          52,
          67,
          76,
          87,
          82,
          73,
          75,
          64,
          41,
          90,
          59,
          51,
          45,
          54,
          87,
          72,
          94,
          45,
          61,
          60,
          77,
          85,
          78,
          49,
          71,
          48,
          62,
          56,
          65,
          69,
          68,
          61,
          74,
          64,
          77,
          58,
          60,
          73,
          75,
          58,
          66,
          39,
          64,
          23,
          74,
          40,
          90,
          91,
          64,
          59,
          80,
          71,
          61,
          87,
          82,
          62,
          97,
          75,
          65,
          52,
          87,
          53,
          81,
          39,
          71,
          97,
          82,
          59,
          61,
          78,
          49,
          59,
          70,
          82,
          90,
          43,
          80,
          81,
          57,
          59,
          64,
          63,
          71,
          64,
          55,
          51,
          62,
          93,
          54,
          69,
          44,
          86,
          85,
          50,
          88,
          59,
          32,
          36,
          63,
          67,
          65,
          85,
          73,
          34,
          93,
          67,
          88,
          57,
          79,
          67,
          70,
          50,
          69,
          52,
          47,
          46,
          68,
          100,
          44,
          57,
          91,
          69,
          35,
          72,
          54,
          74,
          74,
          64,
          65,
          46,
          48,
          67,
          62,
          61,
          70,
          98,
          70,
          67,
          57,
          85,
          77,
          72,
          78,
          81,
          61,
          58,
          54,
          82,
          49,
          49,
          57,
          94,
          75,
          74,
          58,
          62,
          72,
          84,
          92,
          45,
          75,
          56,
          48,
          100,
          65,
          72,
          62,
          66,
          63,
          68,
          75,
          89,
          78,
          53,
          49,
          54,
          64,
          60,
          62,
          55,
          91,
          8,
          81,
          79,
          78,
          74,
          57,
          40,
          81,
          44,
          67,
          86,
          65,
          55,
          62,
          63,
          88,
          62,
          59,
          68,
          77
         ],
         "xaxis": "x",
         "y": [
          "Math Scores",
          "Math Scores",
          "Math Scores",
          "Math Scores",
          "Math Scores",
          "Math Scores",
          "Math Scores",
          "Math Scores",
          "Math Scores",
          "Math Scores",
          "Math Scores",
          "Math Scores",
          "Math Scores",
          "Math Scores",
          "Math Scores",
          "Math Scores",
          "Math Scores",
          "Math Scores",
          "Math Scores",
          "Math Scores",
          "Math Scores",
          "Math Scores",
          "Math Scores",
          "Math Scores",
          "Math Scores",
          "Math Scores",
          "Math Scores",
          "Math Scores",
          "Math Scores",
          "Math Scores",
          "Math Scores",
          "Math Scores",
          "Math Scores",
          "Math Scores",
          "Math Scores",
          "Math Scores",
          "Math Scores",
          "Math Scores",
          "Math Scores",
          "Math Scores",
          "Math Scores",
          "Math Scores",
          "Math Scores",
          "Math Scores",
          "Math Scores",
          "Math Scores",
          "Math Scores",
          "Math Scores",
          "Math Scores",
          "Math Scores",
          "Math Scores",
          "Math Scores",
          "Math Scores",
          "Math Scores",
          "Math Scores",
          "Math Scores",
          "Math Scores",
          "Math Scores",
          "Math Scores",
          "Math Scores",
          "Math Scores",
          "Math Scores",
          "Math Scores",
          "Math Scores",
          "Math Scores",
          "Math Scores",
          "Math Scores",
          "Math Scores",
          "Math Scores",
          "Math Scores",
          "Math Scores",
          "Math Scores",
          "Math Scores",
          "Math Scores",
          "Math Scores",
          "Math Scores",
          "Math Scores",
          "Math Scores",
          "Math Scores",
          "Math Scores",
          "Math Scores",
          "Math Scores",
          "Math Scores",
          "Math Scores",
          "Math Scores",
          "Math Scores",
          "Math Scores",
          "Math Scores",
          "Math Scores",
          "Math Scores",
          "Math Scores",
          "Math Scores",
          "Math Scores",
          "Math Scores",
          "Math Scores",
          "Math Scores",
          "Math Scores",
          "Math Scores",
          "Math Scores",
          "Math Scores",
          "Math Scores",
          "Math Scores",
          "Math Scores",
          "Math Scores",
          "Math Scores",
          "Math Scores",
          "Math Scores",
          "Math Scores",
          "Math Scores",
          "Math Scores",
          "Math Scores",
          "Math Scores",
          "Math Scores",
          "Math Scores",
          "Math Scores",
          "Math Scores",
          "Math Scores",
          "Math Scores",
          "Math Scores",
          "Math Scores",
          "Math Scores",
          "Math Scores",
          "Math Scores",
          "Math Scores",
          "Math Scores",
          "Math Scores",
          "Math Scores",
          "Math Scores",
          "Math Scores",
          "Math Scores",
          "Math Scores",
          "Math Scores",
          "Math Scores",
          "Math Scores",
          "Math Scores",
          "Math Scores",
          "Math Scores",
          "Math Scores",
          "Math Scores",
          "Math Scores",
          "Math Scores",
          "Math Scores",
          "Math Scores",
          "Math Scores",
          "Math Scores",
          "Math Scores",
          "Math Scores",
          "Math Scores",
          "Math Scores",
          "Math Scores",
          "Math Scores",
          "Math Scores",
          "Math Scores",
          "Math Scores",
          "Math Scores",
          "Math Scores",
          "Math Scores",
          "Math Scores",
          "Math Scores",
          "Math Scores",
          "Math Scores",
          "Math Scores",
          "Math Scores",
          "Math Scores",
          "Math Scores",
          "Math Scores",
          "Math Scores",
          "Math Scores",
          "Math Scores",
          "Math Scores",
          "Math Scores",
          "Math Scores",
          "Math Scores",
          "Math Scores",
          "Math Scores",
          "Math Scores",
          "Math Scores",
          "Math Scores",
          "Math Scores",
          "Math Scores",
          "Math Scores",
          "Math Scores",
          "Math Scores",
          "Math Scores",
          "Math Scores",
          "Math Scores",
          "Math Scores",
          "Math Scores",
          "Math Scores",
          "Math Scores",
          "Math Scores",
          "Math Scores",
          "Math Scores",
          "Math Scores",
          "Math Scores",
          "Math Scores",
          "Math Scores",
          "Math Scores",
          "Math Scores",
          "Math Scores",
          "Math Scores",
          "Math Scores",
          "Math Scores",
          "Math Scores",
          "Math Scores",
          "Math Scores",
          "Math Scores",
          "Math Scores",
          "Math Scores",
          "Math Scores",
          "Math Scores",
          "Math Scores",
          "Math Scores",
          "Math Scores",
          "Math Scores",
          "Math Scores",
          "Math Scores",
          "Math Scores",
          "Math Scores",
          "Math Scores",
          "Math Scores",
          "Math Scores",
          "Math Scores",
          "Math Scores",
          "Math Scores",
          "Math Scores",
          "Math Scores",
          "Math Scores",
          "Math Scores",
          "Math Scores",
          "Math Scores",
          "Math Scores",
          "Math Scores",
          "Math Scores",
          "Math Scores",
          "Math Scores",
          "Math Scores",
          "Math Scores",
          "Math Scores",
          "Math Scores",
          "Math Scores",
          "Math Scores",
          "Math Scores",
          "Math Scores",
          "Math Scores",
          "Math Scores",
          "Math Scores",
          "Math Scores",
          "Math Scores",
          "Math Scores",
          "Math Scores",
          "Math Scores",
          "Math Scores",
          "Math Scores",
          "Math Scores",
          "Math Scores",
          "Math Scores",
          "Math Scores",
          "Math Scores",
          "Math Scores",
          "Math Scores",
          "Math Scores",
          "Math Scores",
          "Math Scores",
          "Math Scores",
          "Math Scores",
          "Math Scores",
          "Math Scores",
          "Math Scores",
          "Math Scores",
          "Math Scores",
          "Math Scores",
          "Math Scores",
          "Math Scores",
          "Math Scores",
          "Math Scores",
          "Math Scores",
          "Math Scores",
          "Math Scores",
          "Math Scores",
          "Math Scores",
          "Math Scores",
          "Math Scores",
          "Math Scores",
          "Math Scores",
          "Math Scores",
          "Math Scores",
          "Math Scores",
          "Math Scores",
          "Math Scores",
          "Math Scores",
          "Math Scores",
          "Math Scores",
          "Math Scores",
          "Math Scores",
          "Math Scores",
          "Math Scores",
          "Math Scores",
          "Math Scores",
          "Math Scores",
          "Math Scores",
          "Math Scores",
          "Math Scores",
          "Math Scores",
          "Math Scores",
          "Math Scores",
          "Math Scores",
          "Math Scores",
          "Math Scores",
          "Math Scores",
          "Math Scores",
          "Math Scores",
          "Math Scores",
          "Math Scores",
          "Math Scores",
          "Math Scores",
          "Math Scores",
          "Math Scores",
          "Math Scores",
          "Math Scores",
          "Math Scores",
          "Math Scores",
          "Math Scores",
          "Math Scores",
          "Math Scores",
          "Math Scores",
          "Math Scores",
          "Math Scores",
          "Math Scores",
          "Math Scores",
          "Math Scores",
          "Math Scores",
          "Math Scores",
          "Math Scores",
          "Math Scores",
          "Math Scores",
          "Math Scores",
          "Math Scores",
          "Math Scores",
          "Math Scores",
          "Math Scores",
          "Math Scores",
          "Math Scores",
          "Math Scores",
          "Math Scores",
          "Math Scores",
          "Math Scores",
          "Math Scores",
          "Math Scores",
          "Math Scores",
          "Math Scores",
          "Math Scores",
          "Math Scores",
          "Math Scores",
          "Math Scores",
          "Math Scores",
          "Math Scores",
          "Math Scores",
          "Math Scores",
          "Math Scores",
          "Math Scores",
          "Math Scores",
          "Math Scores",
          "Math Scores",
          "Math Scores",
          "Math Scores",
          "Math Scores",
          "Math Scores",
          "Math Scores",
          "Math Scores",
          "Math Scores",
          "Math Scores",
          "Math Scores",
          "Math Scores",
          "Math Scores",
          "Math Scores",
          "Math Scores",
          "Math Scores",
          "Math Scores",
          "Math Scores",
          "Math Scores",
          "Math Scores",
          "Math Scores",
          "Math Scores",
          "Math Scores",
          "Math Scores",
          "Math Scores",
          "Math Scores",
          "Math Scores",
          "Math Scores",
          "Math Scores",
          "Math Scores",
          "Math Scores",
          "Math Scores",
          "Math Scores",
          "Math Scores",
          "Math Scores",
          "Math Scores",
          "Math Scores",
          "Math Scores",
          "Math Scores",
          "Math Scores",
          "Math Scores",
          "Math Scores",
          "Math Scores",
          "Math Scores",
          "Math Scores",
          "Math Scores",
          "Math Scores",
          "Math Scores",
          "Math Scores",
          "Math Scores",
          "Math Scores",
          "Math Scores",
          "Math Scores",
          "Math Scores",
          "Math Scores",
          "Math Scores",
          "Math Scores",
          "Math Scores",
          "Math Scores",
          "Math Scores",
          "Math Scores",
          "Math Scores",
          "Math Scores",
          "Math Scores",
          "Math Scores",
          "Math Scores",
          "Math Scores",
          "Math Scores",
          "Math Scores",
          "Math Scores",
          "Math Scores",
          "Math Scores",
          "Math Scores",
          "Math Scores",
          "Math Scores",
          "Math Scores",
          "Math Scores",
          "Math Scores",
          "Math Scores",
          "Math Scores",
          "Math Scores",
          "Math Scores",
          "Math Scores",
          "Math Scores",
          "Math Scores",
          "Math Scores",
          "Math Scores",
          "Math Scores",
          "Math Scores",
          "Math Scores",
          "Math Scores",
          "Math Scores",
          "Math Scores",
          "Math Scores",
          "Math Scores",
          "Math Scores",
          "Math Scores",
          "Math Scores",
          "Math Scores",
          "Math Scores",
          "Math Scores",
          "Math Scores",
          "Math Scores",
          "Math Scores",
          "Math Scores",
          "Math Scores",
          "Math Scores",
          "Math Scores",
          "Math Scores",
          "Math Scores",
          "Math Scores",
          "Math Scores",
          "Math Scores",
          "Math Scores",
          "Math Scores",
          "Math Scores",
          "Math Scores",
          "Math Scores",
          "Math Scores",
          "Math Scores",
          "Math Scores",
          "Math Scores",
          "Math Scores",
          "Math Scores",
          "Math Scores",
          "Math Scores",
          "Math Scores",
          "Math Scores",
          "Math Scores",
          "Math Scores",
          "Math Scores",
          "Math Scores",
          "Math Scores",
          "Math Scores",
          "Math Scores",
          "Math Scores",
          "Math Scores",
          "Math Scores",
          "Math Scores",
          "Math Scores",
          "Math Scores",
          "Math Scores",
          "Math Scores",
          "Math Scores",
          "Math Scores",
          "Math Scores",
          "Math Scores",
          "Math Scores",
          "Math Scores",
          "Math Scores",
          "Math Scores",
          "Math Scores",
          "Math Scores",
          "Math Scores",
          "Math Scores",
          "Math Scores",
          "Math Scores",
          "Math Scores",
          "Math Scores",
          "Math Scores",
          "Math Scores",
          "Math Scores",
          "Math Scores",
          "Math Scores",
          "Math Scores",
          "Math Scores",
          "Math Scores",
          "Math Scores",
          "Math Scores",
          "Math Scores",
          "Math Scores",
          "Math Scores",
          "Math Scores",
          "Math Scores",
          "Math Scores",
          "Math Scores",
          "Math Scores",
          "Math Scores",
          "Math Scores",
          "Math Scores",
          "Math Scores",
          "Math Scores",
          "Math Scores",
          "Math Scores",
          "Math Scores",
          "Math Scores",
          "Math Scores",
          "Math Scores",
          "Math Scores",
          "Math Scores",
          "Math Scores",
          "Math Scores",
          "Math Scores",
          "Math Scores",
          "Math Scores",
          "Math Scores",
          "Math Scores",
          "Math Scores",
          "Math Scores",
          "Math Scores",
          "Math Scores",
          "Math Scores",
          "Math Scores",
          "Math Scores",
          "Math Scores",
          "Math Scores",
          "Math Scores",
          "Math Scores",
          "Math Scores",
          "Math Scores",
          "Math Scores",
          "Math Scores",
          "Math Scores",
          "Math Scores",
          "Math Scores",
          "Math Scores",
          "Math Scores",
          "Math Scores",
          "Math Scores",
          "Math Scores",
          "Math Scores",
          "Math Scores",
          "Math Scores",
          "Math Scores",
          "Math Scores",
          "Math Scores",
          "Math Scores",
          "Math Scores",
          "Math Scores",
          "Math Scores",
          "Math Scores",
          "Math Scores",
          "Math Scores",
          "Math Scores",
          "Math Scores",
          "Math Scores",
          "Math Scores",
          "Math Scores",
          "Math Scores",
          "Math Scores",
          "Math Scores",
          "Math Scores",
          "Math Scores",
          "Math Scores",
          "Math Scores",
          "Math Scores",
          "Math Scores",
          "Math Scores",
          "Math Scores",
          "Math Scores",
          "Math Scores",
          "Math Scores",
          "Math Scores",
          "Math Scores",
          "Math Scores",
          "Math Scores",
          "Math Scores",
          "Math Scores",
          "Math Scores",
          "Math Scores",
          "Math Scores",
          "Math Scores",
          "Math Scores",
          "Math Scores",
          "Math Scores",
          "Math Scores",
          "Math Scores",
          "Math Scores",
          "Math Scores",
          "Math Scores",
          "Math Scores",
          "Math Scores",
          "Math Scores",
          "Math Scores",
          "Math Scores",
          "Math Scores",
          "Math Scores",
          "Math Scores",
          "Math Scores",
          "Math Scores",
          "Math Scores",
          "Math Scores",
          "Math Scores",
          "Math Scores",
          "Math Scores",
          "Math Scores",
          "Math Scores",
          "Math Scores",
          "Math Scores",
          "Math Scores",
          "Math Scores",
          "Math Scores",
          "Math Scores",
          "Math Scores",
          "Math Scores",
          "Math Scores",
          "Math Scores",
          "Math Scores",
          "Math Scores",
          "Math Scores",
          "Math Scores",
          "Math Scores",
          "Math Scores",
          "Math Scores",
          "Math Scores",
          "Math Scores",
          "Math Scores",
          "Math Scores",
          "Math Scores",
          "Math Scores",
          "Math Scores",
          "Math Scores",
          "Math Scores",
          "Math Scores",
          "Math Scores",
          "Math Scores",
          "Math Scores",
          "Math Scores",
          "Math Scores",
          "Math Scores",
          "Math Scores",
          "Math Scores",
          "Math Scores",
          "Math Scores",
          "Math Scores",
          "Math Scores",
          "Math Scores",
          "Math Scores",
          "Math Scores",
          "Math Scores",
          "Math Scores",
          "Math Scores",
          "Math Scores",
          "Math Scores",
          "Math Scores",
          "Math Scores",
          "Math Scores",
          "Math Scores",
          "Math Scores",
          "Math Scores",
          "Math Scores",
          "Math Scores",
          "Math Scores",
          "Math Scores",
          "Math Scores",
          "Math Scores",
          "Math Scores",
          "Math Scores",
          "Math Scores",
          "Math Scores",
          "Math Scores",
          "Math Scores",
          "Math Scores",
          "Math Scores",
          "Math Scores",
          "Math Scores",
          "Math Scores",
          "Math Scores",
          "Math Scores",
          "Math Scores",
          "Math Scores",
          "Math Scores",
          "Math Scores",
          "Math Scores",
          "Math Scores",
          "Math Scores",
          "Math Scores",
          "Math Scores",
          "Math Scores",
          "Math Scores",
          "Math Scores",
          "Math Scores",
          "Math Scores",
          "Math Scores",
          "Math Scores",
          "Math Scores",
          "Math Scores",
          "Math Scores",
          "Math Scores",
          "Math Scores",
          "Math Scores",
          "Math Scores",
          "Math Scores",
          "Math Scores",
          "Math Scores",
          "Math Scores",
          "Math Scores",
          "Math Scores",
          "Math Scores",
          "Math Scores",
          "Math Scores",
          "Math Scores",
          "Math Scores",
          "Math Scores",
          "Math Scores",
          "Math Scores",
          "Math Scores",
          "Math Scores",
          "Math Scores",
          "Math Scores",
          "Math Scores",
          "Math Scores",
          "Math Scores",
          "Math Scores",
          "Math Scores",
          "Math Scores",
          "Math Scores",
          "Math Scores",
          "Math Scores",
          "Math Scores",
          "Math Scores",
          "Math Scores",
          "Math Scores",
          "Math Scores",
          "Math Scores",
          "Math Scores",
          "Math Scores",
          "Math Scores",
          "Math Scores",
          "Math Scores",
          "Math Scores",
          "Math Scores",
          "Math Scores",
          "Math Scores",
          "Math Scores",
          "Math Scores",
          "Math Scores",
          "Math Scores",
          "Math Scores",
          "Math Scores",
          "Math Scores",
          "Math Scores",
          "Math Scores",
          "Math Scores",
          "Math Scores",
          "Math Scores",
          "Math Scores",
          "Math Scores",
          "Math Scores",
          "Math Scores",
          "Math Scores",
          "Math Scores",
          "Math Scores",
          "Math Scores",
          "Math Scores",
          "Math Scores",
          "Math Scores",
          "Math Scores",
          "Math Scores",
          "Math Scores",
          "Math Scores",
          "Math Scores",
          "Math Scores",
          "Math Scores",
          "Math Scores",
          "Math Scores",
          "Math Scores",
          "Math Scores",
          "Math Scores",
          "Math Scores",
          "Math Scores",
          "Math Scores",
          "Math Scores",
          "Math Scores",
          "Math Scores",
          "Math Scores",
          "Math Scores",
          "Math Scores",
          "Math Scores",
          "Math Scores",
          "Math Scores",
          "Math Scores",
          "Math Scores",
          "Math Scores",
          "Math Scores",
          "Math Scores",
          "Math Scores",
          "Math Scores",
          "Math Scores",
          "Math Scores",
          "Math Scores",
          "Math Scores",
          "Math Scores",
          "Math Scores",
          "Math Scores",
          "Math Scores",
          "Math Scores",
          "Math Scores",
          "Math Scores",
          "Math Scores",
          "Math Scores",
          "Math Scores",
          "Math Scores",
          "Math Scores",
          "Math Scores",
          "Math Scores",
          "Math Scores",
          "Math Scores",
          "Math Scores",
          "Math Scores",
          "Math Scores",
          "Math Scores",
          "Math Scores",
          "Math Scores",
          "Math Scores",
          "Math Scores",
          "Math Scores",
          "Math Scores",
          "Math Scores",
          "Math Scores",
          "Math Scores",
          "Math Scores",
          "Math Scores",
          "Math Scores",
          "Math Scores",
          "Math Scores",
          "Math Scores",
          "Math Scores",
          "Math Scores",
          "Math Scores",
          "Math Scores",
          "Math Scores",
          "Math Scores",
          "Math Scores",
          "Math Scores",
          "Math Scores",
          "Math Scores",
          "Math Scores",
          "Math Scores",
          "Math Scores",
          "Math Scores",
          "Math Scores",
          "Math Scores",
          "Math Scores",
          "Math Scores",
          "Math Scores",
          "Math Scores",
          "Math Scores",
          "Math Scores",
          "Math Scores",
          "Math Scores",
          "Math Scores",
          "Math Scores",
          "Math Scores",
          "Math Scores",
          "Math Scores",
          "Math Scores",
          "Math Scores",
          "Math Scores",
          "Math Scores",
          "Math Scores",
          "Math Scores",
          "Math Scores",
          "Math Scores",
          "Math Scores",
          "Math Scores",
          "Math Scores",
          "Math Scores",
          "Math Scores",
          "Math Scores",
          "Math Scores",
          "Math Scores",
          "Math Scores",
          "Math Scores",
          "Math Scores",
          "Math Scores",
          "Math Scores",
          "Math Scores",
          "Math Scores",
          "Math Scores",
          "Math Scores",
          "Math Scores",
          "Math Scores",
          "Math Scores",
          "Math Scores",
          "Math Scores",
          "Math Scores",
          "Math Scores",
          "Math Scores",
          "Math Scores",
          "Math Scores",
          "Math Scores",
          "Math Scores",
          "Math Scores",
          "Math Scores",
          "Math Scores",
          "Math Scores",
          "Math Scores",
          "Math Scores",
          "Math Scores",
          "Math Scores",
          "Math Scores",
          "Math Scores",
          "Math Scores",
          "Math Scores",
          "Math Scores",
          "Math Scores",
          "Math Scores",
          "Math Scores",
          "Math Scores",
          "Math Scores",
          "Math Scores",
          "Math Scores",
          "Math Scores",
          "Math Scores",
          "Math Scores",
          "Math Scores",
          "Math Scores",
          "Math Scores",
          "Math Scores",
          "Math Scores",
          "Math Scores",
          "Math Scores",
          "Math Scores",
          "Math Scores",
          "Math Scores",
          "Math Scores",
          "Math Scores",
          "Math Scores",
          "Math Scores",
          "Math Scores",
          "Math Scores",
          "Math Scores",
          "Math Scores",
          "Math Scores",
          "Math Scores",
          "Math Scores",
          "Math Scores",
          "Math Scores",
          "Math Scores",
          "Math Scores",
          "Math Scores",
          "Math Scores",
          "Math Scores",
          "Math Scores",
          "Math Scores",
          "Math Scores",
          "Math Scores"
         ],
         "yaxis": "y2"
        }
       ],
       "layout": {
        "barmode": "overlay",
        "hovermode": "closest",
        "legend": {
         "traceorder": "reversed"
        },
        "template": {
         "data": {
          "bar": [
           {
            "error_x": {
             "color": "#2a3f5f"
            },
            "error_y": {
             "color": "#2a3f5f"
            },
            "marker": {
             "line": {
              "color": "#E5ECF6",
              "width": 0.5
             },
             "pattern": {
              "fillmode": "overlay",
              "size": 10,
              "solidity": 0.2
             }
            },
            "type": "bar"
           }
          ],
          "barpolar": [
           {
            "marker": {
             "line": {
              "color": "#E5ECF6",
              "width": 0.5
             },
             "pattern": {
              "fillmode": "overlay",
              "size": 10,
              "solidity": 0.2
             }
            },
            "type": "barpolar"
           }
          ],
          "carpet": [
           {
            "aaxis": {
             "endlinecolor": "#2a3f5f",
             "gridcolor": "white",
             "linecolor": "white",
             "minorgridcolor": "white",
             "startlinecolor": "#2a3f5f"
            },
            "baxis": {
             "endlinecolor": "#2a3f5f",
             "gridcolor": "white",
             "linecolor": "white",
             "minorgridcolor": "white",
             "startlinecolor": "#2a3f5f"
            },
            "type": "carpet"
           }
          ],
          "choropleth": [
           {
            "colorbar": {
             "outlinewidth": 0,
             "ticks": ""
            },
            "type": "choropleth"
           }
          ],
          "contour": [
           {
            "colorbar": {
             "outlinewidth": 0,
             "ticks": ""
            },
            "colorscale": [
             [
              0,
              "#0d0887"
             ],
             [
              0.1111111111111111,
              "#46039f"
             ],
             [
              0.2222222222222222,
              "#7201a8"
             ],
             [
              0.3333333333333333,
              "#9c179e"
             ],
             [
              0.4444444444444444,
              "#bd3786"
             ],
             [
              0.5555555555555556,
              "#d8576b"
             ],
             [
              0.6666666666666666,
              "#ed7953"
             ],
             [
              0.7777777777777778,
              "#fb9f3a"
             ],
             [
              0.8888888888888888,
              "#fdca26"
             ],
             [
              1,
              "#f0f921"
             ]
            ],
            "type": "contour"
           }
          ],
          "contourcarpet": [
           {
            "colorbar": {
             "outlinewidth": 0,
             "ticks": ""
            },
            "type": "contourcarpet"
           }
          ],
          "heatmap": [
           {
            "colorbar": {
             "outlinewidth": 0,
             "ticks": ""
            },
            "colorscale": [
             [
              0,
              "#0d0887"
             ],
             [
              0.1111111111111111,
              "#46039f"
             ],
             [
              0.2222222222222222,
              "#7201a8"
             ],
             [
              0.3333333333333333,
              "#9c179e"
             ],
             [
              0.4444444444444444,
              "#bd3786"
             ],
             [
              0.5555555555555556,
              "#d8576b"
             ],
             [
              0.6666666666666666,
              "#ed7953"
             ],
             [
              0.7777777777777778,
              "#fb9f3a"
             ],
             [
              0.8888888888888888,
              "#fdca26"
             ],
             [
              1,
              "#f0f921"
             ]
            ],
            "type": "heatmap"
           }
          ],
          "heatmapgl": [
           {
            "colorbar": {
             "outlinewidth": 0,
             "ticks": ""
            },
            "colorscale": [
             [
              0,
              "#0d0887"
             ],
             [
              0.1111111111111111,
              "#46039f"
             ],
             [
              0.2222222222222222,
              "#7201a8"
             ],
             [
              0.3333333333333333,
              "#9c179e"
             ],
             [
              0.4444444444444444,
              "#bd3786"
             ],
             [
              0.5555555555555556,
              "#d8576b"
             ],
             [
              0.6666666666666666,
              "#ed7953"
             ],
             [
              0.7777777777777778,
              "#fb9f3a"
             ],
             [
              0.8888888888888888,
              "#fdca26"
             ],
             [
              1,
              "#f0f921"
             ]
            ],
            "type": "heatmapgl"
           }
          ],
          "histogram": [
           {
            "marker": {
             "pattern": {
              "fillmode": "overlay",
              "size": 10,
              "solidity": 0.2
             }
            },
            "type": "histogram"
           }
          ],
          "histogram2d": [
           {
            "colorbar": {
             "outlinewidth": 0,
             "ticks": ""
            },
            "colorscale": [
             [
              0,
              "#0d0887"
             ],
             [
              0.1111111111111111,
              "#46039f"
             ],
             [
              0.2222222222222222,
              "#7201a8"
             ],
             [
              0.3333333333333333,
              "#9c179e"
             ],
             [
              0.4444444444444444,
              "#bd3786"
             ],
             [
              0.5555555555555556,
              "#d8576b"
             ],
             [
              0.6666666666666666,
              "#ed7953"
             ],
             [
              0.7777777777777778,
              "#fb9f3a"
             ],
             [
              0.8888888888888888,
              "#fdca26"
             ],
             [
              1,
              "#f0f921"
             ]
            ],
            "type": "histogram2d"
           }
          ],
          "histogram2dcontour": [
           {
            "colorbar": {
             "outlinewidth": 0,
             "ticks": ""
            },
            "colorscale": [
             [
              0,
              "#0d0887"
             ],
             [
              0.1111111111111111,
              "#46039f"
             ],
             [
              0.2222222222222222,
              "#7201a8"
             ],
             [
              0.3333333333333333,
              "#9c179e"
             ],
             [
              0.4444444444444444,
              "#bd3786"
             ],
             [
              0.5555555555555556,
              "#d8576b"
             ],
             [
              0.6666666666666666,
              "#ed7953"
             ],
             [
              0.7777777777777778,
              "#fb9f3a"
             ],
             [
              0.8888888888888888,
              "#fdca26"
             ],
             [
              1,
              "#f0f921"
             ]
            ],
            "type": "histogram2dcontour"
           }
          ],
          "mesh3d": [
           {
            "colorbar": {
             "outlinewidth": 0,
             "ticks": ""
            },
            "type": "mesh3d"
           }
          ],
          "parcoords": [
           {
            "line": {
             "colorbar": {
              "outlinewidth": 0,
              "ticks": ""
             }
            },
            "type": "parcoords"
           }
          ],
          "pie": [
           {
            "automargin": true,
            "type": "pie"
           }
          ],
          "scatter": [
           {
            "fillpattern": {
             "fillmode": "overlay",
             "size": 10,
             "solidity": 0.2
            },
            "type": "scatter"
           }
          ],
          "scatter3d": [
           {
            "line": {
             "colorbar": {
              "outlinewidth": 0,
              "ticks": ""
             }
            },
            "marker": {
             "colorbar": {
              "outlinewidth": 0,
              "ticks": ""
             }
            },
            "type": "scatter3d"
           }
          ],
          "scattercarpet": [
           {
            "marker": {
             "colorbar": {
              "outlinewidth": 0,
              "ticks": ""
             }
            },
            "type": "scattercarpet"
           }
          ],
          "scattergeo": [
           {
            "marker": {
             "colorbar": {
              "outlinewidth": 0,
              "ticks": ""
             }
            },
            "type": "scattergeo"
           }
          ],
          "scattergl": [
           {
            "marker": {
             "colorbar": {
              "outlinewidth": 0,
              "ticks": ""
             }
            },
            "type": "scattergl"
           }
          ],
          "scattermapbox": [
           {
            "marker": {
             "colorbar": {
              "outlinewidth": 0,
              "ticks": ""
             }
            },
            "type": "scattermapbox"
           }
          ],
          "scatterpolar": [
           {
            "marker": {
             "colorbar": {
              "outlinewidth": 0,
              "ticks": ""
             }
            },
            "type": "scatterpolar"
           }
          ],
          "scatterpolargl": [
           {
            "marker": {
             "colorbar": {
              "outlinewidth": 0,
              "ticks": ""
             }
            },
            "type": "scatterpolargl"
           }
          ],
          "scatterternary": [
           {
            "marker": {
             "colorbar": {
              "outlinewidth": 0,
              "ticks": ""
             }
            },
            "type": "scatterternary"
           }
          ],
          "surface": [
           {
            "colorbar": {
             "outlinewidth": 0,
             "ticks": ""
            },
            "colorscale": [
             [
              0,
              "#0d0887"
             ],
             [
              0.1111111111111111,
              "#46039f"
             ],
             [
              0.2222222222222222,
              "#7201a8"
             ],
             [
              0.3333333333333333,
              "#9c179e"
             ],
             [
              0.4444444444444444,
              "#bd3786"
             ],
             [
              0.5555555555555556,
              "#d8576b"
             ],
             [
              0.6666666666666666,
              "#ed7953"
             ],
             [
              0.7777777777777778,
              "#fb9f3a"
             ],
             [
              0.8888888888888888,
              "#fdca26"
             ],
             [
              1,
              "#f0f921"
             ]
            ],
            "type": "surface"
           }
          ],
          "table": [
           {
            "cells": {
             "fill": {
              "color": "#EBF0F8"
             },
             "line": {
              "color": "white"
             }
            },
            "header": {
             "fill": {
              "color": "#C8D4E3"
             },
             "line": {
              "color": "white"
             }
            },
            "type": "table"
           }
          ]
         },
         "layout": {
          "annotationdefaults": {
           "arrowcolor": "#2a3f5f",
           "arrowhead": 0,
           "arrowwidth": 1
          },
          "autotypenumbers": "strict",
          "coloraxis": {
           "colorbar": {
            "outlinewidth": 0,
            "ticks": ""
           }
          },
          "colorscale": {
           "diverging": [
            [
             0,
             "#8e0152"
            ],
            [
             0.1,
             "#c51b7d"
            ],
            [
             0.2,
             "#de77ae"
            ],
            [
             0.3,
             "#f1b6da"
            ],
            [
             0.4,
             "#fde0ef"
            ],
            [
             0.5,
             "#f7f7f7"
            ],
            [
             0.6,
             "#e6f5d0"
            ],
            [
             0.7,
             "#b8e186"
            ],
            [
             0.8,
             "#7fbc41"
            ],
            [
             0.9,
             "#4d9221"
            ],
            [
             1,
             "#276419"
            ]
           ],
           "sequential": [
            [
             0,
             "#0d0887"
            ],
            [
             0.1111111111111111,
             "#46039f"
            ],
            [
             0.2222222222222222,
             "#7201a8"
            ],
            [
             0.3333333333333333,
             "#9c179e"
            ],
            [
             0.4444444444444444,
             "#bd3786"
            ],
            [
             0.5555555555555556,
             "#d8576b"
            ],
            [
             0.6666666666666666,
             "#ed7953"
            ],
            [
             0.7777777777777778,
             "#fb9f3a"
            ],
            [
             0.8888888888888888,
             "#fdca26"
            ],
            [
             1,
             "#f0f921"
            ]
           ],
           "sequentialminus": [
            [
             0,
             "#0d0887"
            ],
            [
             0.1111111111111111,
             "#46039f"
            ],
            [
             0.2222222222222222,
             "#7201a8"
            ],
            [
             0.3333333333333333,
             "#9c179e"
            ],
            [
             0.4444444444444444,
             "#bd3786"
            ],
            [
             0.5555555555555556,
             "#d8576b"
            ],
            [
             0.6666666666666666,
             "#ed7953"
            ],
            [
             0.7777777777777778,
             "#fb9f3a"
            ],
            [
             0.8888888888888888,
             "#fdca26"
            ],
            [
             1,
             "#f0f921"
            ]
           ]
          },
          "colorway": [
           "#636efa",
           "#EF553B",
           "#00cc96",
           "#ab63fa",
           "#FFA15A",
           "#19d3f3",
           "#FF6692",
           "#B6E880",
           "#FF97FF",
           "#FECB52"
          ],
          "font": {
           "color": "#2a3f5f"
          },
          "geo": {
           "bgcolor": "white",
           "lakecolor": "white",
           "landcolor": "#E5ECF6",
           "showlakes": true,
           "showland": true,
           "subunitcolor": "white"
          },
          "hoverlabel": {
           "align": "left"
          },
          "hovermode": "closest",
          "mapbox": {
           "style": "light"
          },
          "paper_bgcolor": "white",
          "plot_bgcolor": "#E5ECF6",
          "polar": {
           "angularaxis": {
            "gridcolor": "white",
            "linecolor": "white",
            "ticks": ""
           },
           "bgcolor": "#E5ECF6",
           "radialaxis": {
            "gridcolor": "white",
            "linecolor": "white",
            "ticks": ""
           }
          },
          "scene": {
           "xaxis": {
            "backgroundcolor": "#E5ECF6",
            "gridcolor": "white",
            "gridwidth": 2,
            "linecolor": "white",
            "showbackground": true,
            "ticks": "",
            "zerolinecolor": "white"
           },
           "yaxis": {
            "backgroundcolor": "#E5ECF6",
            "gridcolor": "white",
            "gridwidth": 2,
            "linecolor": "white",
            "showbackground": true,
            "ticks": "",
            "zerolinecolor": "white"
           },
           "zaxis": {
            "backgroundcolor": "#E5ECF6",
            "gridcolor": "white",
            "gridwidth": 2,
            "linecolor": "white",
            "showbackground": true,
            "ticks": "",
            "zerolinecolor": "white"
           }
          },
          "shapedefaults": {
           "line": {
            "color": "#2a3f5f"
           }
          },
          "ternary": {
           "aaxis": {
            "gridcolor": "white",
            "linecolor": "white",
            "ticks": ""
           },
           "baxis": {
            "gridcolor": "white",
            "linecolor": "white",
            "ticks": ""
           },
           "bgcolor": "#E5ECF6",
           "caxis": {
            "gridcolor": "white",
            "linecolor": "white",
            "ticks": ""
           }
          },
          "title": {
           "x": 0.05
          },
          "xaxis": {
           "automargin": true,
           "gridcolor": "white",
           "linecolor": "white",
           "ticks": "",
           "title": {
            "standoff": 15
           },
           "zerolinecolor": "white",
           "zerolinewidth": 2
          },
          "yaxis": {
           "automargin": true,
           "gridcolor": "white",
           "linecolor": "white",
           "ticks": "",
           "title": {
            "standoff": 15
           },
           "zerolinecolor": "white",
           "zerolinewidth": 2
          }
         }
        },
        "xaxis": {
         "anchor": "y2",
         "domain": [
          0,
          1
         ],
         "zeroline": false
        },
        "yaxis": {
         "anchor": "free",
         "domain": [
          0.35,
          1
         ],
         "position": 0
        },
        "yaxis2": {
         "anchor": "x",
         "domain": [
          0,
          0.25
         ],
         "dtick": 1,
         "showticklabels": false
        }
       }
      },
      "text/html": [
       "<div>                            <div id=\"024f1f6a-e6a1-4f63-9cbb-a6d4fed866bb\" class=\"plotly-graph-div\" style=\"height:525px; width:100%;\"></div>            <script type=\"text/javascript\">                require([\"plotly\"], function(Plotly) {                    window.PLOTLYENV=window.PLOTLYENV || {};                                    if (document.getElementById(\"024f1f6a-e6a1-4f63-9cbb-a6d4fed866bb\")) {                    Plotly.newPlot(                        \"024f1f6a-e6a1-4f63-9cbb-a6d4fed866bb\",                        [{\"autobinx\":false,\"histnorm\":\"probability density\",\"legendgroup\":\"Math Scores\",\"marker\":{\"color\":\"rgb(31, 119, 180)\"},\"name\":\"Math Scores\",\"opacity\":0.7,\"x\":[72,69,90,47,76,71,88,40,64,38,58,40,65,78,50,69,88,18,46,54,66,65,44,69,74,73,69,67,70,62,69,63,56,40,97,81,74,50,75,57,55,58,53,59,50,65,55,66,57,82,53,77,53,88,71,33,82,52,58,0,79,39,62,69,59,67,45,60,61,39,58,63,41,61,49,44,30,80,61,62,47,49,50,72,42,73,76,71,58,73,65,27,71,43,79,78,65,63,58,65,79,68,85,60,98,58,87,66,52,70,77,62,54,51,99,84,75,78,51,55,79,91,88,63,83,87,72,65,82,51,89,53,87,75,74,58,51,70,59,71,76,59,42,57,88,22,88,73,68,100,62,77,59,54,62,70,66,60,61,66,82,75,49,52,81,96,53,58,68,67,72,94,79,63,43,81,46,71,52,97,62,46,50,65,45,65,80,62,48,77,66,76,62,77,69,61,59,55,45,78,67,65,69,57,59,74,82,81,74,58,80,35,42,60,87,84,83,34,66,61,56,87,55,86,52,45,72,57,68,88,76,46,67,92,83,80,63,64,54,84,73,80,56,59,75,85,89,58,65,68,47,71,60,80,54,62,64,78,70,65,64,79,44,99,76,59,63,69,88,71,69,58,47,65,88,83,85,59,65,73,53,45,73,70,37,81,97,67,88,77,76,86,63,65,78,67,46,71,40,90,81,56,67,80,74,69,99,51,53,49,73,66,67,68,59,71,77,83,63,56,67,75,71,43,41,82,61,28,82,41,71,47,62,90,83,61,76,49,24,35,58,61,69,67,79,72,62,77,75,87,52,66,63,46,59,61,63,42,59,80,58,85,52,27,59,49,69,61,44,73,84,45,74,82,59,46,80,85,71,66,80,87,79,38,38,67,64,57,62,73,73,77,76,57,65,48,50,85,74,60,59,53,49,88,54,63,65,82,52,87,70,84,71,63,51,84,71,74,68,57,82,57,47,59,41,62,86,69,65,68,64,61,61,47,73,50,75,75,70,89,67,78,59,73,79,67,69,86,47,81,64,100,65,65,53,37,79,53,100,72,53,54,71,77,75,84,26,72,77,91,83,63,68,59,90,71,76,80,55,76,73,52,68,59,49,70,61,60,64,79,65,64,83,81,54,68,54,59,66,76,74,94,63,95,40,82,68,55,79,86,76,64,62,54,77,76,74,66,66,67,71,91,69,54,53,68,56,36,29,62,68,47,62,79,73,66,51,51,85,97,75,79,81,82,64,78,92,72,62,79,79,87,40,77,53,32,55,61,53,73,74,63,96,63,48,48,92,61,63,68,71,91,53,50,74,40,61,81,48,53,81,77,63,73,69,65,55,44,54,48,58,71,68,74,92,56,30,53,69,65,54,29,76,60,84,75,85,40,61,58,69,58,94,65,82,60,37,88,95,65,35,62,58,100,61,100,69,61,49,44,67,79,66,75,84,71,67,80,86,76,41,74,72,74,70,65,59,64,50,69,51,68,85,65,73,62,77,69,43,90,74,73,55,65,80,50,63,77,73,81,66,52,69,65,69,50,73,70,81,63,67,60,62,29,62,94,85,77,53,93,49,73,66,77,49,79,75,59,57,66,79,57,87,63,59,62,46,66,89,42,93,80,98,81,60,76,73,96,76,91,62,55,74,50,47,81,65,68,73,53,68,55,87,55,53,67,92,53,81,61,80,37,81,59,55,72,69,69,50,87,71,68,79,77,58,84,55,70,52,69,53,48,78,62,60,74,58,76,68,58,52,75,52,62,66,49,66,35,72,94,46,77,76,52,91,32,72,19,68,52,48,60,66,89,42,57,70,70,69,52,67,76,87,82,73,75,64,41,90,59,51,45,54,87,72,94,45,61,60,77,85,78,49,71,48,62,56,65,69,68,61,74,64,77,58,60,73,75,58,66,39,64,23,74,40,90,91,64,59,80,71,61,87,82,62,97,75,65,52,87,53,81,39,71,97,82,59,61,78,49,59,70,82,90,43,80,81,57,59,64,63,71,64,55,51,62,93,54,69,44,86,85,50,88,59,32,36,63,67,65,85,73,34,93,67,88,57,79,67,70,50,69,52,47,46,68,100,44,57,91,69,35,72,54,74,74,64,65,46,48,67,62,61,70,98,70,67,57,85,77,72,78,81,61,58,54,82,49,49,57,94,75,74,58,62,72,84,92,45,75,56,48,100,65,72,62,66,63,68,75,89,78,53,49,54,64,60,62,55,91,8,81,79,78,74,57,40,81,44,67,86,65,55,62,63,88,62,59,68,77],\"xaxis\":\"x\",\"xbins\":{\"end\":100.0,\"size\":1.0,\"start\":0.0},\"yaxis\":\"y\",\"type\":\"histogram\"},{\"legendgroup\":\"Math Scores\",\"marker\":{\"color\":\"rgb(31, 119, 180)\"},\"mode\":\"lines\",\"name\":\"Math Scores\",\"showlegend\":false,\"x\":[0.0,0.2,0.4,0.6,0.8,1.0,1.2,1.4,1.6,1.8,2.0,2.2,2.4,2.6,2.8,3.0,3.2,3.4,3.6,3.8,4.0,4.2,4.4,4.6,4.8,5.0,5.2,5.4,5.6,5.8,6.0,6.2,6.4,6.6,6.8,7.0,7.2,7.4,7.6,7.8,8.0,8.2,8.4,8.6,8.8,9.0,9.2,9.4,9.6,9.8,10.0,10.2,10.4,10.6,10.8,11.0,11.2,11.4,11.6,11.8,12.0,12.2,12.4,12.6,12.8,13.0,13.2,13.4,13.6,13.8,14.0,14.2,14.4,14.6,14.8,15.0,15.2,15.4,15.6,15.8,16.0,16.2,16.4,16.6,16.8,17.0,17.2,17.4,17.6,17.8,18.0,18.2,18.4,18.6,18.8,19.0,19.2,19.4,19.6,19.8,20.0,20.2,20.4,20.6,20.8,21.0,21.2,21.4,21.6,21.8,22.0,22.2,22.4,22.6,22.8,23.0,23.2,23.4,23.6,23.8,24.0,24.2,24.4,24.6,24.8,25.0,25.2,25.4,25.6,25.8,26.0,26.2,26.4,26.6,26.8,27.0,27.2,27.4,27.6,27.8,28.0,28.2,28.4,28.6,28.8,29.0,29.2,29.4,29.6,29.8,30.0,30.2,30.4,30.6,30.8,31.0,31.2,31.4,31.6,31.8,32.0,32.2,32.4,32.6,32.8,33.0,33.2,33.4,33.6,33.8,34.0,34.2,34.4,34.6,34.8,35.0,35.2,35.4,35.6,35.8,36.0,36.2,36.4,36.6,36.8,37.0,37.2,37.4,37.6,37.8,38.0,38.2,38.4,38.6,38.8,39.0,39.2,39.4,39.6,39.8,40.0,40.2,40.4,40.6,40.8,41.0,41.2,41.4,41.6,41.8,42.0,42.2,42.4,42.6,42.8,43.0,43.2,43.4,43.6,43.8,44.0,44.2,44.4,44.6,44.8,45.0,45.2,45.4,45.6,45.8,46.0,46.2,46.4,46.6,46.8,47.0,47.2,47.4,47.6,47.8,48.0,48.2,48.4,48.6,48.8,49.0,49.2,49.4,49.6,49.8,50.0,50.2,50.4,50.6,50.8,51.0,51.2,51.4,51.6,51.8,52.0,52.2,52.4,52.6,52.8,53.0,53.2,53.4,53.6,53.8,54.0,54.2,54.4,54.6,54.8,55.0,55.2,55.4,55.6,55.8,56.0,56.2,56.4,56.6,56.8,57.0,57.2,57.4,57.6,57.8,58.0,58.2,58.4,58.6,58.8,59.0,59.2,59.4,59.6,59.8,60.0,60.2,60.4,60.6,60.8,61.0,61.2,61.4,61.6,61.8,62.0,62.2,62.4,62.6,62.8,63.0,63.2,63.4,63.6,63.8,64.0,64.2,64.4,64.6,64.8,65.0,65.2,65.4,65.6,65.8,66.0,66.2,66.4,66.6,66.8,67.0,67.2,67.4,67.6,67.8,68.0,68.2,68.4,68.6,68.8,69.0,69.2,69.4,69.6,69.8,70.0,70.2,70.4,70.6,70.8,71.0,71.2,71.4,71.6,71.8,72.0,72.2,72.4,72.6,72.8,73.0,73.2,73.4,73.6,73.8,74.0,74.2,74.4,74.6,74.8,75.0,75.2,75.4,75.6,75.8,76.0,76.2,76.4,76.6,76.8,77.0,77.2,77.4,77.6,77.8,78.0,78.2,78.4,78.6,78.8,79.0,79.2,79.4,79.6,79.8,80.0,80.2,80.4,80.6,80.8,81.0,81.2,81.4,81.6,81.8,82.0,82.2,82.4,82.6,82.8,83.0,83.2,83.4,83.6,83.8,84.0,84.2,84.4,84.6,84.8,85.0,85.2,85.4,85.6,85.8,86.0,86.2,86.4,86.6,86.8,87.0,87.2,87.4,87.6,87.8,88.0,88.2,88.4,88.6,88.8,89.0,89.2,89.4,89.6,89.8,90.0,90.2,90.4,90.6,90.8,91.0,91.2,91.4,91.6,91.8,92.0,92.2,92.4,92.6,92.8,93.0,93.2,93.4,93.6,93.8,94.0,94.2,94.4,94.6,94.8,95.0,95.2,95.4,95.6,95.8,96.0,96.2,96.4,96.6,96.8,97.0,97.2,97.4,97.6,97.8,98.0,98.2,98.4,98.6,98.8,99.0,99.2,99.4,99.6,99.8],\"xaxis\":\"x\",\"y\":[0.00011628247548045415,0.00011746636028489478,0.00011847623857739746,0.00011932001135507114,0.00012000735801946885,0.00012054955455918004,0.00012095926044167583,0.00012125027801350934,0.00012143728889615148,0.00012153557246554196,0.00012156071200036789,0.00012152829446303828,0.0001214536101269749,0.00012135135837600035,0.00012123536597146979,0.0001211183239090997,0.00012101154867254664,0.00012092477324059602,0.00012086597262868419,0.00012084122805594758,0.00012085463304148915,0.0001209082438659924,0.00012100207590709428,0.00012113414639048232,0.00012130056311582625,0.00012149565774009961,0.00012171216125303587,0.00012194141838204313,0.00012217363683715462,0.00012239816656891918,0.00012260380357963964,0.00012277911231442897,0.00012291276027356899,0.00012299385823879194,0.00012301229939719677,0.0001229590906780214,0.00012282666978658463,0.00012260920172039777,0.00012230284897582909,0.00012190601018829798,0.00012141952258105398,0.000120846824311651,0.0001201940735844049,0.00011947022222370197,0.00011868704225891795,0.0001178591049388915,0.00011700371245489946,0.00011614078348933927,0.00011529269450755792,0.00011448407945875998,0.00011374159123673353,0.00011309362886225683,0.00011257003487848915,0.0001122017678924406,0.00011202055554577108,0.00011205853345456369,0.00011234787581997102,0.00011292042348090152,0.00011380731515871202,0.00011503862753585296,0.00011664302962017348,0.00011864745657947063,0.0001210768078927769,0.0001239536742621829,0.00012729809726835206,0.00013112736524124272,0.00013545584826202246,0.0001402948746200643,0.00014565265042774576,0.00015153422345323992,0.00015794149157551126,0.00016487325560451098,0.00017232531555148024,0.0001802906087880271,0.00018875938790703184,0.0001977194355024313,0.00020715631252745827,0.00021705363638076252,0.00022739338441544793,0.00023815621817538423,0.00024932182334331507,0.0002608692601425238,0.000272777318773133,0.0002850248743891042,0.00029759123613480885,0.0003104564848609992,0.0003236017943278001,0.0003370097309739398,0.00035066452768192055,0.00036455232739195787,0.0003786613929053554,0.00039298227976162874,0.0004075079696632091,0.0004222339625463736,0.0004371583260463786,0.0004522817017677482,0.00046760726843675756,0.0004831406626724282,0.0004988898587556038,0.0005148650093947348,0.000531078250074642,0.0005475434701247072,0.0005642760541505441,0.0005812925979341412,0.0005986106033183672,0.000616248156949781,0.0006342235980565205,0.0006525551806833335,0.0006712607359912221,0.0006903573403521025,0.0007098609950263184,0.0007297863231995091,0.0007501462900712905,0.0007709519515275763,0.0007922122366868728,0.000813933769284624,0.0008361207324453908,0.0008587747808876459,0.0008818950040095469,0.0009054779426167468,0.0009295176612783287,0.0009540058774401216,0.0009789321474943924,0.001004284109013334,0.0010300477773156607,0.001056207893469183,0.0010827483197585414,0.001109652477589696,0.001136903821786775,0.001164486344289112,0.001192385099403635,0.0012205867420369554,0.001249080069747162,0.0012778565590403279,0.0013069108861097232,0.0013362414221917106,0.001365850693900459,0.0013957457993077494,0.0014259387711519514,0.0014564468793821972,0.0014872928662552423,0.0015185051083811342,0.0015501177014330318,0.0015821704646640092,0.0016147088638735127,0.0016477838529998469,0.0016814516360424499,0.0017157733524987187,0.0017508146908962647,0.0017866454362765482,0.0018233389586086591,0.001860971650055441,0.001899622319758792,0.00193937155534309,0.0019803010606497845,0.002022492979314363,0.0020660292136878556,0.00211099074830571,0.0021574569866389683,0.002205505109254022,0.002255209460788837,0.0023066409723590713,0.0023598666251709415,0.0024149489602732018,0.002471945638558099,0.0025309090543493467,0.0025918860052146792,0.0026549174200282246,0.0027200381467930817,0.002787276801317283,0.002856655677514223,0.0029281907198558314,0.0030018915583274026,0.003077761606092345,0.0031557982199444915,0.003235992923478316,0.0033183316927096404,0.0034027953036052674,0.00348935974060303,0.003577996664702877,0.0036686739390719295,0.0037613562093257507,0.0038560055347252285,0.003952582065478891,0.0040510447601809435,0.004151352136180343,0.004253463044401211,0.004357337458865983,0.004462937269961594,0.004570227069386436,0.00467917491377973,0.0047897530533154405,0.004901938611090829,0.005015714198997324,0.005131068455962561,0.005247996495021815,0.005366500246625333,0.0054865886869150905,0.005608277941394239,0.005731591256437387,0.005856558833407002,0.005983217522698324,0.0061116103777671136,0.006241786072029606,0.006373798184384499,0.006507704361911607,0.006643565370969764,0.006781444050371984,0.00692140418248306,0.007063509299906202,0.007207821446842741,0.0073543999151896395,0.0075032999759545695,0.007654571626611791,0.0078082583746001,0.007964396076299318,0.008123011849551963,0.008284123076173206,0.008447736508973727,0.008613847495680858,0.008782439329856305,0.008953482736553858,0.00912693549811767,0.00930274222326203,0.009480834260470063,0.00966112975485567,0.009843533846001434,0.010027939002944755,0.010214225491456595,0.010402261968040347,0.010591906194661792,0.010783005868074534,0.010975399557682133,0.011168917746127664,0.011363383967150777,0.011558616035633035,0.011754427365086854,0.011950628368049375,0.012147027934855618,0.012343434986010015,0.012539660092801976,0.012735517159881596,0.012930825162193306,0.013125409926968638,0.013319105949408844,0.013511758228292979,0.013703224105088743,0.01389337508729813,0.014082098633851362,0.014269299877478572,0.01445490325627583,0.01463885402428204,0.014821119608926287,0.015001690781846719,0.01518058260893541,0.015357835145655733,0.015533513844803618,0.015707709646003546,0.01588053871939823,0.016052141840200446,0.01622268337600575,0.016392349874951192,0.01656134824983128,0.01672990356102848,0.016898256409389373,0.017066659958796457,0.017235376616914138,0.017404674411194802,0.01757482310546432,0.017746090110023174,0.017918736244952556,0.01809301142199305,0.018269150314750886,0.018447368089938587,0.018627856273717228,0.01881077882692167,0.01899626850095266,0.019184423542440387,0.019375304809475698,0.019568933355377457,0.019765288527774674,0.019964306621423775,0.020165880112881555,0.020369857494177575,0.020576043711243133,0.020784201201349828,0.020994051512481113,0.02120527747667397,0.021417525899206504,0.021630410716298527,0.021843516565956643,0.02205640270990147,0.022268607239306085,0.02247965149342865,0.02268904461820071,0.022896288191425397,0.02310088084241294,0.023302322796546836,0.02350012027932086,0.02369378971965956,0.023882861698660253,0.02406688459707664,0.024245427902697174,0.02441808514703213,0.0245844764492029,0.024744250653411647,0.024897087054654248,0.025042696715244492,0.025180823382070384,0.025311244021164633,0.02543376899201741,0.025548241888999852,0.025654539081235574,0.02575256898521186,0.025842271106360656,0.025923614886762956,0.02599659839608865,0.026061246901932292,0.02611761135392091,0.0261657668134592,0.026205810857838067,0.026237861983797132,0.02626205803162687,0.02627855464664707,0.026287523790554563,0.026289152310814787,0.026283640572111883,0.026271201149989137,0.026252057583313476,0.026226443179178976,0.026194599861402674,0.02615677705192381,0.026113230573235724,0.02606422155947422,0.02601001536396812,0.02595088045188883,0.025887087268090914,0.02581890707223815,0.025746610735791806,0.02567046749829208,0.025590743683496665,0.025507701379216575,0.025421597088003345,0.025332680359050976,0.02524119241467451,0.025147364787377027,0.025051417985734986,0.02495356020900615,0.024853986131430566,0.024752875777596217,0.024650393509946314,0.024546687148506354,0.02444188724122278,0.02433610650097948,0.024229439422450986,0.024121962088557557,0.024013732172505797,0.02390478913736299,0.023795154630937787,0.023684833069584493,0.023573812400533554,0.023462065028628545,0.023349548890034516,0.023236208652697075,0.02312197702116498,0.023006776121913347,0.02289051894457468,0.02277311081451075,0.02265445087293949,0.022534433542330333,0.022412949956929714,0.02228988934099299,0.022165140320468128,0.022038592157364145,0.021910135899713735,0.02177966544374168,0.021647078508436234,0.021512277526036,0.02137517045485366,0.021235671523236434,0.021093701915211052,0.020949190409394275,0.02080207398303074,0.020652298392516078,0.020499818740503255,0.02034460003770666,0.020186617764900893,0.02002585843745784,0.019862320171213206,0.01969601324464928,0.019526960648500787,0.019355198610098115,0.019180777076249753,0.019003760135397535,0.01882422635732042,0.018642269026959292,0.0184579962481033,0.01827153089281395,0.018083010373615354,0.017892586217672337,0.01770042342539341,0.017506699600068308,0.017311603840192466,0.01711533539190644,0.01691810206531873,0.016720118425209495,0.016521603773503413,0.01632277994774207,0.01612386896634427,0.015925090557489894,0.01572665961378867,0.015528783619291166,0.01533166009870771,0.01513547414076724,0.014940396048373786,0.014746579167547763,0.014554157945038927,0.014363246261010973,0.01417393607837918,0.013986296444357301,0.013800372872682728,0.013616187127024733,0.013433737417460836,0.013252999012854925,0.01307392526274087,0.012896449013162765,0.012720484392086355,0.012545928931730418,0.0123726659876764,0.012200567408104109,0.012029496401134564,0.01185931054415887,0.011689864876295142,0.011521015013783324,0.011352620228209744,0.011184546428922392,0.01101666899377187,0.010848875396296271,0.010681067582519885,0.010513164056492365,0.010345101640385313,0.010176836882184957,0.010008347091585745,0.009839630992393102,0.00967070898740109,0.009501623039141817,0.009332436176942759,0.009163231647243626,0.008994111729989688,0.00882519624904923,0.008656620808932033,0.008488534793573714,0.008321099165589353,0.00815448410619342,0.007988866536969258,0.007824427564895266,0.007661349891561542,0.007499815226415123,0.007340001742231263,0.0071820816089098564,0.00702621863921914,0.006872566077336843,0.00672126455804192,0.006572440261256115,0.006426203283379493,0.006282646243555391,0.00614184313967321,0.00600384846560238,0.005868696597863727,0.005736401456699848,0.005606956443309554,0.0054803346518661825,0.005356489351848613,0.005235354733177937,0.005116846903677492,0.005000865125467927,0.004887293274084071,0.004776001501377577,0.004666848080672762,0.004559681410203951,0.004454342148619667,0.004350665454332131,0.004248483298765597,0.0041476268221614125,0.004047928699576929,0.003949225484114243,0.003851359894273261,0.0037541830126744976,0.0036575563642660762,0.003561353843529127,0.003465463462131964,0.003369788890942287,0.0032742507732669694,0.0031787877896132417,0.0030833574580997575,0.0029879366588315866,0.0028925218750108428,0.0027971291482020728,0.0027017937499161392,0.002606569576419151],\"yaxis\":\"y\",\"type\":\"scatter\"},{\"legendgroup\":\"Math Scores\",\"marker\":{\"color\":\"rgb(31, 119, 180)\",\"symbol\":\"line-ns-open\"},\"mode\":\"markers\",\"name\":\"Math Scores\",\"showlegend\":false,\"x\":[72,69,90,47,76,71,88,40,64,38,58,40,65,78,50,69,88,18,46,54,66,65,44,69,74,73,69,67,70,62,69,63,56,40,97,81,74,50,75,57,55,58,53,59,50,65,55,66,57,82,53,77,53,88,71,33,82,52,58,0,79,39,62,69,59,67,45,60,61,39,58,63,41,61,49,44,30,80,61,62,47,49,50,72,42,73,76,71,58,73,65,27,71,43,79,78,65,63,58,65,79,68,85,60,98,58,87,66,52,70,77,62,54,51,99,84,75,78,51,55,79,91,88,63,83,87,72,65,82,51,89,53,87,75,74,58,51,70,59,71,76,59,42,57,88,22,88,73,68,100,62,77,59,54,62,70,66,60,61,66,82,75,49,52,81,96,53,58,68,67,72,94,79,63,43,81,46,71,52,97,62,46,50,65,45,65,80,62,48,77,66,76,62,77,69,61,59,55,45,78,67,65,69,57,59,74,82,81,74,58,80,35,42,60,87,84,83,34,66,61,56,87,55,86,52,45,72,57,68,88,76,46,67,92,83,80,63,64,54,84,73,80,56,59,75,85,89,58,65,68,47,71,60,80,54,62,64,78,70,65,64,79,44,99,76,59,63,69,88,71,69,58,47,65,88,83,85,59,65,73,53,45,73,70,37,81,97,67,88,77,76,86,63,65,78,67,46,71,40,90,81,56,67,80,74,69,99,51,53,49,73,66,67,68,59,71,77,83,63,56,67,75,71,43,41,82,61,28,82,41,71,47,62,90,83,61,76,49,24,35,58,61,69,67,79,72,62,77,75,87,52,66,63,46,59,61,63,42,59,80,58,85,52,27,59,49,69,61,44,73,84,45,74,82,59,46,80,85,71,66,80,87,79,38,38,67,64,57,62,73,73,77,76,57,65,48,50,85,74,60,59,53,49,88,54,63,65,82,52,87,70,84,71,63,51,84,71,74,68,57,82,57,47,59,41,62,86,69,65,68,64,61,61,47,73,50,75,75,70,89,67,78,59,73,79,67,69,86,47,81,64,100,65,65,53,37,79,53,100,72,53,54,71,77,75,84,26,72,77,91,83,63,68,59,90,71,76,80,55,76,73,52,68,59,49,70,61,60,64,79,65,64,83,81,54,68,54,59,66,76,74,94,63,95,40,82,68,55,79,86,76,64,62,54,77,76,74,66,66,67,71,91,69,54,53,68,56,36,29,62,68,47,62,79,73,66,51,51,85,97,75,79,81,82,64,78,92,72,62,79,79,87,40,77,53,32,55,61,53,73,74,63,96,63,48,48,92,61,63,68,71,91,53,50,74,40,61,81,48,53,81,77,63,73,69,65,55,44,54,48,58,71,68,74,92,56,30,53,69,65,54,29,76,60,84,75,85,40,61,58,69,58,94,65,82,60,37,88,95,65,35,62,58,100,61,100,69,61,49,44,67,79,66,75,84,71,67,80,86,76,41,74,72,74,70,65,59,64,50,69,51,68,85,65,73,62,77,69,43,90,74,73,55,65,80,50,63,77,73,81,66,52,69,65,69,50,73,70,81,63,67,60,62,29,62,94,85,77,53,93,49,73,66,77,49,79,75,59,57,66,79,57,87,63,59,62,46,66,89,42,93,80,98,81,60,76,73,96,76,91,62,55,74,50,47,81,65,68,73,53,68,55,87,55,53,67,92,53,81,61,80,37,81,59,55,72,69,69,50,87,71,68,79,77,58,84,55,70,52,69,53,48,78,62,60,74,58,76,68,58,52,75,52,62,66,49,66,35,72,94,46,77,76,52,91,32,72,19,68,52,48,60,66,89,42,57,70,70,69,52,67,76,87,82,73,75,64,41,90,59,51,45,54,87,72,94,45,61,60,77,85,78,49,71,48,62,56,65,69,68,61,74,64,77,58,60,73,75,58,66,39,64,23,74,40,90,91,64,59,80,71,61,87,82,62,97,75,65,52,87,53,81,39,71,97,82,59,61,78,49,59,70,82,90,43,80,81,57,59,64,63,71,64,55,51,62,93,54,69,44,86,85,50,88,59,32,36,63,67,65,85,73,34,93,67,88,57,79,67,70,50,69,52,47,46,68,100,44,57,91,69,35,72,54,74,74,64,65,46,48,67,62,61,70,98,70,67,57,85,77,72,78,81,61,58,54,82,49,49,57,94,75,74,58,62,72,84,92,45,75,56,48,100,65,72,62,66,63,68,75,89,78,53,49,54,64,60,62,55,91,8,81,79,78,74,57,40,81,44,67,86,65,55,62,63,88,62,59,68,77],\"xaxis\":\"x\",\"y\":[\"Math Scores\",\"Math Scores\",\"Math Scores\",\"Math Scores\",\"Math Scores\",\"Math Scores\",\"Math Scores\",\"Math Scores\",\"Math Scores\",\"Math Scores\",\"Math Scores\",\"Math Scores\",\"Math Scores\",\"Math Scores\",\"Math Scores\",\"Math Scores\",\"Math Scores\",\"Math Scores\",\"Math Scores\",\"Math Scores\",\"Math Scores\",\"Math Scores\",\"Math Scores\",\"Math Scores\",\"Math Scores\",\"Math Scores\",\"Math Scores\",\"Math Scores\",\"Math Scores\",\"Math Scores\",\"Math Scores\",\"Math Scores\",\"Math Scores\",\"Math Scores\",\"Math Scores\",\"Math Scores\",\"Math Scores\",\"Math Scores\",\"Math Scores\",\"Math Scores\",\"Math Scores\",\"Math Scores\",\"Math Scores\",\"Math Scores\",\"Math Scores\",\"Math Scores\",\"Math Scores\",\"Math Scores\",\"Math Scores\",\"Math Scores\",\"Math Scores\",\"Math Scores\",\"Math Scores\",\"Math Scores\",\"Math Scores\",\"Math Scores\",\"Math Scores\",\"Math Scores\",\"Math Scores\",\"Math Scores\",\"Math Scores\",\"Math Scores\",\"Math Scores\",\"Math Scores\",\"Math Scores\",\"Math Scores\",\"Math Scores\",\"Math Scores\",\"Math Scores\",\"Math Scores\",\"Math Scores\",\"Math Scores\",\"Math Scores\",\"Math Scores\",\"Math Scores\",\"Math Scores\",\"Math Scores\",\"Math Scores\",\"Math Scores\",\"Math Scores\",\"Math Scores\",\"Math Scores\",\"Math Scores\",\"Math Scores\",\"Math Scores\",\"Math Scores\",\"Math Scores\",\"Math Scores\",\"Math Scores\",\"Math Scores\",\"Math Scores\",\"Math Scores\",\"Math Scores\",\"Math Scores\",\"Math Scores\",\"Math Scores\",\"Math Scores\",\"Math Scores\",\"Math Scores\",\"Math Scores\",\"Math Scores\",\"Math Scores\",\"Math Scores\",\"Math Scores\",\"Math Scores\",\"Math Scores\",\"Math Scores\",\"Math Scores\",\"Math Scores\",\"Math Scores\",\"Math Scores\",\"Math Scores\",\"Math Scores\",\"Math Scores\",\"Math Scores\",\"Math Scores\",\"Math Scores\",\"Math Scores\",\"Math Scores\",\"Math Scores\",\"Math Scores\",\"Math Scores\",\"Math Scores\",\"Math Scores\",\"Math Scores\",\"Math Scores\",\"Math Scores\",\"Math Scores\",\"Math Scores\",\"Math Scores\",\"Math Scores\",\"Math Scores\",\"Math Scores\",\"Math Scores\",\"Math Scores\",\"Math Scores\",\"Math Scores\",\"Math Scores\",\"Math Scores\",\"Math Scores\",\"Math Scores\",\"Math Scores\",\"Math Scores\",\"Math Scores\",\"Math Scores\",\"Math Scores\",\"Math Scores\",\"Math Scores\",\"Math Scores\",\"Math Scores\",\"Math Scores\",\"Math Scores\",\"Math Scores\",\"Math Scores\",\"Math Scores\",\"Math Scores\",\"Math Scores\",\"Math Scores\",\"Math Scores\",\"Math Scores\",\"Math Scores\",\"Math Scores\",\"Math Scores\",\"Math Scores\",\"Math Scores\",\"Math Scores\",\"Math Scores\",\"Math Scores\",\"Math Scores\",\"Math Scores\",\"Math Scores\",\"Math Scores\",\"Math Scores\",\"Math Scores\",\"Math Scores\",\"Math Scores\",\"Math Scores\",\"Math Scores\",\"Math Scores\",\"Math Scores\",\"Math Scores\",\"Math Scores\",\"Math Scores\",\"Math Scores\",\"Math Scores\",\"Math Scores\",\"Math Scores\",\"Math Scores\",\"Math Scores\",\"Math Scores\",\"Math Scores\",\"Math Scores\",\"Math Scores\",\"Math Scores\",\"Math Scores\",\"Math Scores\",\"Math Scores\",\"Math Scores\",\"Math Scores\",\"Math Scores\",\"Math Scores\",\"Math Scores\",\"Math Scores\",\"Math Scores\",\"Math Scores\",\"Math Scores\",\"Math Scores\",\"Math Scores\",\"Math Scores\",\"Math Scores\",\"Math Scores\",\"Math Scores\",\"Math Scores\",\"Math Scores\",\"Math Scores\",\"Math Scores\",\"Math Scores\",\"Math Scores\",\"Math Scores\",\"Math Scores\",\"Math Scores\",\"Math Scores\",\"Math Scores\",\"Math Scores\",\"Math Scores\",\"Math Scores\",\"Math Scores\",\"Math Scores\",\"Math Scores\",\"Math Scores\",\"Math Scores\",\"Math Scores\",\"Math Scores\",\"Math Scores\",\"Math Scores\",\"Math Scores\",\"Math Scores\",\"Math Scores\",\"Math Scores\",\"Math Scores\",\"Math Scores\",\"Math Scores\",\"Math Scores\",\"Math Scores\",\"Math Scores\",\"Math Scores\",\"Math Scores\",\"Math Scores\",\"Math Scores\",\"Math Scores\",\"Math Scores\",\"Math Scores\",\"Math Scores\",\"Math Scores\",\"Math Scores\",\"Math Scores\",\"Math Scores\",\"Math Scores\",\"Math Scores\",\"Math Scores\",\"Math Scores\",\"Math Scores\",\"Math Scores\",\"Math Scores\",\"Math Scores\",\"Math Scores\",\"Math Scores\",\"Math Scores\",\"Math Scores\",\"Math Scores\",\"Math Scores\",\"Math Scores\",\"Math Scores\",\"Math Scores\",\"Math Scores\",\"Math Scores\",\"Math Scores\",\"Math Scores\",\"Math Scores\",\"Math Scores\",\"Math Scores\",\"Math Scores\",\"Math Scores\",\"Math Scores\",\"Math Scores\",\"Math Scores\",\"Math Scores\",\"Math Scores\",\"Math Scores\",\"Math Scores\",\"Math Scores\",\"Math Scores\",\"Math Scores\",\"Math Scores\",\"Math Scores\",\"Math Scores\",\"Math Scores\",\"Math Scores\",\"Math Scores\",\"Math Scores\",\"Math Scores\",\"Math Scores\",\"Math Scores\",\"Math Scores\",\"Math Scores\",\"Math Scores\",\"Math Scores\",\"Math Scores\",\"Math Scores\",\"Math Scores\",\"Math Scores\",\"Math Scores\",\"Math Scores\",\"Math Scores\",\"Math Scores\",\"Math Scores\",\"Math Scores\",\"Math Scores\",\"Math Scores\",\"Math Scores\",\"Math Scores\",\"Math Scores\",\"Math Scores\",\"Math Scores\",\"Math Scores\",\"Math Scores\",\"Math Scores\",\"Math Scores\",\"Math Scores\",\"Math Scores\",\"Math Scores\",\"Math Scores\",\"Math Scores\",\"Math Scores\",\"Math Scores\",\"Math Scores\",\"Math Scores\",\"Math Scores\",\"Math Scores\",\"Math Scores\",\"Math Scores\",\"Math Scores\",\"Math Scores\",\"Math Scores\",\"Math Scores\",\"Math Scores\",\"Math Scores\",\"Math Scores\",\"Math Scores\",\"Math Scores\",\"Math Scores\",\"Math Scores\",\"Math Scores\",\"Math Scores\",\"Math Scores\",\"Math Scores\",\"Math Scores\",\"Math Scores\",\"Math Scores\",\"Math Scores\",\"Math Scores\",\"Math Scores\",\"Math Scores\",\"Math Scores\",\"Math Scores\",\"Math Scores\",\"Math Scores\",\"Math Scores\",\"Math Scores\",\"Math Scores\",\"Math Scores\",\"Math Scores\",\"Math Scores\",\"Math Scores\",\"Math Scores\",\"Math Scores\",\"Math Scores\",\"Math Scores\",\"Math Scores\",\"Math Scores\",\"Math Scores\",\"Math Scores\",\"Math Scores\",\"Math Scores\",\"Math Scores\",\"Math Scores\",\"Math Scores\",\"Math Scores\",\"Math Scores\",\"Math Scores\",\"Math Scores\",\"Math Scores\",\"Math Scores\",\"Math Scores\",\"Math Scores\",\"Math Scores\",\"Math Scores\",\"Math Scores\",\"Math Scores\",\"Math Scores\",\"Math Scores\",\"Math Scores\",\"Math Scores\",\"Math Scores\",\"Math Scores\",\"Math Scores\",\"Math Scores\",\"Math Scores\",\"Math Scores\",\"Math Scores\",\"Math Scores\",\"Math Scores\",\"Math Scores\",\"Math Scores\",\"Math Scores\",\"Math Scores\",\"Math Scores\",\"Math Scores\",\"Math Scores\",\"Math Scores\",\"Math Scores\",\"Math Scores\",\"Math Scores\",\"Math Scores\",\"Math Scores\",\"Math Scores\",\"Math Scores\",\"Math Scores\",\"Math Scores\",\"Math Scores\",\"Math Scores\",\"Math Scores\",\"Math Scores\",\"Math Scores\",\"Math Scores\",\"Math Scores\",\"Math Scores\",\"Math Scores\",\"Math Scores\",\"Math Scores\",\"Math Scores\",\"Math Scores\",\"Math Scores\",\"Math Scores\",\"Math Scores\",\"Math Scores\",\"Math Scores\",\"Math Scores\",\"Math Scores\",\"Math Scores\",\"Math Scores\",\"Math Scores\",\"Math Scores\",\"Math Scores\",\"Math Scores\",\"Math Scores\",\"Math Scores\",\"Math Scores\",\"Math Scores\",\"Math Scores\",\"Math Scores\",\"Math Scores\",\"Math Scores\",\"Math Scores\",\"Math Scores\",\"Math Scores\",\"Math Scores\",\"Math Scores\",\"Math Scores\",\"Math Scores\",\"Math Scores\",\"Math Scores\",\"Math Scores\",\"Math Scores\",\"Math Scores\",\"Math Scores\",\"Math Scores\",\"Math Scores\",\"Math Scores\",\"Math Scores\",\"Math Scores\",\"Math Scores\",\"Math Scores\",\"Math Scores\",\"Math Scores\",\"Math Scores\",\"Math Scores\",\"Math Scores\",\"Math Scores\",\"Math Scores\",\"Math Scores\",\"Math Scores\",\"Math Scores\",\"Math Scores\",\"Math Scores\",\"Math Scores\",\"Math Scores\",\"Math Scores\",\"Math Scores\",\"Math Scores\",\"Math Scores\",\"Math Scores\",\"Math Scores\",\"Math Scores\",\"Math Scores\",\"Math Scores\",\"Math Scores\",\"Math Scores\",\"Math Scores\",\"Math Scores\",\"Math Scores\",\"Math Scores\",\"Math Scores\",\"Math Scores\",\"Math Scores\",\"Math Scores\",\"Math Scores\",\"Math Scores\",\"Math Scores\",\"Math Scores\",\"Math Scores\",\"Math Scores\",\"Math Scores\",\"Math Scores\",\"Math Scores\",\"Math Scores\",\"Math Scores\",\"Math Scores\",\"Math Scores\",\"Math Scores\",\"Math Scores\",\"Math Scores\",\"Math Scores\",\"Math Scores\",\"Math Scores\",\"Math Scores\",\"Math Scores\",\"Math Scores\",\"Math Scores\",\"Math Scores\",\"Math Scores\",\"Math Scores\",\"Math Scores\",\"Math Scores\",\"Math Scores\",\"Math Scores\",\"Math Scores\",\"Math Scores\",\"Math Scores\",\"Math Scores\",\"Math Scores\",\"Math Scores\",\"Math Scores\",\"Math Scores\",\"Math Scores\",\"Math Scores\",\"Math Scores\",\"Math Scores\",\"Math Scores\",\"Math Scores\",\"Math Scores\",\"Math Scores\",\"Math Scores\",\"Math Scores\",\"Math Scores\",\"Math Scores\",\"Math Scores\",\"Math Scores\",\"Math Scores\",\"Math Scores\",\"Math Scores\",\"Math Scores\",\"Math Scores\",\"Math Scores\",\"Math Scores\",\"Math Scores\",\"Math Scores\",\"Math Scores\",\"Math Scores\",\"Math Scores\",\"Math Scores\",\"Math Scores\",\"Math Scores\",\"Math Scores\",\"Math Scores\",\"Math Scores\",\"Math Scores\",\"Math Scores\",\"Math Scores\",\"Math Scores\",\"Math Scores\",\"Math Scores\",\"Math Scores\",\"Math Scores\",\"Math Scores\",\"Math Scores\",\"Math Scores\",\"Math Scores\",\"Math Scores\",\"Math Scores\",\"Math Scores\",\"Math Scores\",\"Math Scores\",\"Math Scores\",\"Math Scores\",\"Math Scores\",\"Math Scores\",\"Math Scores\",\"Math Scores\",\"Math Scores\",\"Math Scores\",\"Math Scores\",\"Math Scores\",\"Math Scores\",\"Math Scores\",\"Math Scores\",\"Math Scores\",\"Math Scores\",\"Math Scores\",\"Math Scores\",\"Math Scores\",\"Math Scores\",\"Math Scores\",\"Math Scores\",\"Math Scores\",\"Math Scores\",\"Math Scores\",\"Math Scores\",\"Math Scores\",\"Math Scores\",\"Math Scores\",\"Math Scores\",\"Math Scores\",\"Math Scores\",\"Math Scores\",\"Math Scores\",\"Math Scores\",\"Math Scores\",\"Math Scores\",\"Math Scores\",\"Math Scores\",\"Math Scores\",\"Math Scores\",\"Math Scores\",\"Math Scores\",\"Math Scores\",\"Math Scores\",\"Math Scores\",\"Math Scores\",\"Math Scores\",\"Math Scores\",\"Math Scores\",\"Math Scores\",\"Math Scores\",\"Math Scores\",\"Math Scores\",\"Math Scores\",\"Math Scores\",\"Math Scores\",\"Math Scores\",\"Math Scores\",\"Math Scores\",\"Math Scores\",\"Math Scores\",\"Math Scores\",\"Math Scores\",\"Math Scores\",\"Math Scores\",\"Math Scores\",\"Math Scores\",\"Math Scores\",\"Math Scores\",\"Math Scores\",\"Math Scores\",\"Math Scores\",\"Math Scores\",\"Math Scores\",\"Math Scores\",\"Math Scores\",\"Math Scores\",\"Math Scores\",\"Math Scores\",\"Math Scores\",\"Math Scores\",\"Math Scores\",\"Math Scores\",\"Math Scores\",\"Math Scores\",\"Math Scores\",\"Math Scores\",\"Math Scores\",\"Math Scores\",\"Math Scores\",\"Math Scores\",\"Math Scores\",\"Math Scores\",\"Math Scores\",\"Math Scores\",\"Math Scores\",\"Math Scores\",\"Math Scores\",\"Math Scores\",\"Math Scores\",\"Math Scores\",\"Math Scores\",\"Math Scores\",\"Math Scores\",\"Math Scores\",\"Math Scores\",\"Math Scores\",\"Math Scores\",\"Math Scores\",\"Math Scores\",\"Math Scores\",\"Math Scores\",\"Math Scores\",\"Math Scores\",\"Math Scores\",\"Math Scores\",\"Math Scores\",\"Math Scores\",\"Math Scores\",\"Math Scores\",\"Math Scores\",\"Math Scores\",\"Math Scores\",\"Math Scores\",\"Math Scores\",\"Math Scores\",\"Math Scores\",\"Math Scores\",\"Math Scores\",\"Math Scores\",\"Math Scores\",\"Math Scores\",\"Math Scores\",\"Math Scores\",\"Math Scores\",\"Math Scores\",\"Math Scores\",\"Math Scores\",\"Math Scores\",\"Math Scores\",\"Math Scores\",\"Math Scores\",\"Math Scores\",\"Math Scores\",\"Math Scores\",\"Math Scores\",\"Math Scores\",\"Math Scores\",\"Math Scores\",\"Math Scores\",\"Math Scores\",\"Math Scores\",\"Math Scores\",\"Math Scores\",\"Math Scores\",\"Math Scores\",\"Math Scores\",\"Math Scores\",\"Math Scores\",\"Math Scores\",\"Math Scores\",\"Math Scores\",\"Math Scores\",\"Math Scores\",\"Math Scores\",\"Math Scores\",\"Math Scores\",\"Math Scores\",\"Math Scores\",\"Math Scores\",\"Math Scores\",\"Math Scores\",\"Math Scores\",\"Math Scores\",\"Math Scores\",\"Math Scores\",\"Math Scores\",\"Math Scores\",\"Math Scores\",\"Math Scores\",\"Math Scores\",\"Math Scores\",\"Math Scores\",\"Math Scores\",\"Math Scores\",\"Math Scores\",\"Math Scores\",\"Math Scores\",\"Math Scores\",\"Math Scores\",\"Math Scores\",\"Math Scores\",\"Math Scores\",\"Math Scores\",\"Math Scores\",\"Math Scores\",\"Math Scores\",\"Math Scores\",\"Math Scores\",\"Math Scores\",\"Math Scores\",\"Math Scores\",\"Math Scores\",\"Math Scores\",\"Math Scores\",\"Math Scores\",\"Math Scores\",\"Math Scores\",\"Math Scores\",\"Math Scores\",\"Math Scores\",\"Math Scores\",\"Math Scores\",\"Math Scores\",\"Math Scores\",\"Math Scores\",\"Math Scores\",\"Math Scores\",\"Math Scores\",\"Math Scores\",\"Math Scores\",\"Math Scores\",\"Math Scores\",\"Math Scores\",\"Math Scores\",\"Math Scores\",\"Math Scores\",\"Math Scores\",\"Math Scores\",\"Math Scores\",\"Math Scores\",\"Math Scores\",\"Math Scores\",\"Math Scores\",\"Math Scores\",\"Math Scores\",\"Math Scores\",\"Math Scores\",\"Math Scores\",\"Math Scores\",\"Math Scores\",\"Math Scores\",\"Math Scores\",\"Math Scores\",\"Math Scores\",\"Math Scores\",\"Math Scores\",\"Math Scores\",\"Math Scores\",\"Math Scores\",\"Math Scores\",\"Math Scores\",\"Math Scores\",\"Math Scores\",\"Math Scores\",\"Math Scores\",\"Math Scores\",\"Math Scores\",\"Math Scores\",\"Math Scores\",\"Math Scores\",\"Math Scores\",\"Math Scores\",\"Math Scores\",\"Math Scores\",\"Math Scores\",\"Math Scores\",\"Math Scores\",\"Math Scores\",\"Math Scores\",\"Math Scores\",\"Math Scores\",\"Math Scores\",\"Math Scores\",\"Math Scores\",\"Math Scores\",\"Math Scores\",\"Math Scores\",\"Math Scores\",\"Math Scores\",\"Math Scores\",\"Math Scores\",\"Math Scores\",\"Math Scores\",\"Math Scores\",\"Math Scores\",\"Math Scores\",\"Math Scores\",\"Math Scores\",\"Math Scores\",\"Math Scores\",\"Math Scores\",\"Math Scores\",\"Math Scores\",\"Math Scores\",\"Math Scores\",\"Math Scores\",\"Math Scores\",\"Math Scores\",\"Math Scores\",\"Math Scores\",\"Math Scores\",\"Math Scores\",\"Math Scores\",\"Math Scores\",\"Math Scores\",\"Math Scores\",\"Math Scores\",\"Math Scores\",\"Math Scores\",\"Math Scores\",\"Math Scores\",\"Math Scores\",\"Math Scores\",\"Math Scores\",\"Math Scores\",\"Math Scores\",\"Math Scores\",\"Math Scores\",\"Math Scores\",\"Math Scores\",\"Math Scores\",\"Math Scores\",\"Math Scores\",\"Math Scores\",\"Math Scores\",\"Math Scores\",\"Math Scores\",\"Math Scores\",\"Math Scores\",\"Math Scores\",\"Math Scores\",\"Math Scores\",\"Math Scores\",\"Math Scores\",\"Math Scores\",\"Math Scores\",\"Math Scores\",\"Math Scores\",\"Math Scores\",\"Math Scores\",\"Math Scores\",\"Math Scores\",\"Math Scores\",\"Math Scores\",\"Math Scores\",\"Math Scores\",\"Math Scores\",\"Math Scores\",\"Math Scores\",\"Math Scores\",\"Math Scores\",\"Math Scores\",\"Math Scores\",\"Math Scores\",\"Math Scores\",\"Math Scores\",\"Math Scores\",\"Math Scores\",\"Math Scores\",\"Math Scores\",\"Math Scores\",\"Math Scores\",\"Math Scores\",\"Math Scores\",\"Math Scores\",\"Math Scores\",\"Math Scores\",\"Math Scores\",\"Math Scores\",\"Math Scores\",\"Math Scores\",\"Math Scores\",\"Math Scores\",\"Math Scores\",\"Math Scores\",\"Math Scores\",\"Math Scores\",\"Math Scores\",\"Math Scores\",\"Math Scores\",\"Math Scores\",\"Math Scores\",\"Math Scores\",\"Math Scores\",\"Math Scores\",\"Math Scores\",\"Math Scores\",\"Math Scores\",\"Math Scores\",\"Math Scores\",\"Math Scores\",\"Math Scores\",\"Math Scores\",\"Math Scores\",\"Math Scores\",\"Math Scores\"],\"yaxis\":\"y2\",\"type\":\"scatter\"}],                        {\"barmode\":\"overlay\",\"hovermode\":\"closest\",\"legend\":{\"traceorder\":\"reversed\"},\"xaxis\":{\"anchor\":\"y2\",\"domain\":[0.0,1.0],\"zeroline\":false},\"yaxis\":{\"anchor\":\"free\",\"domain\":[0.35,1],\"position\":0.0},\"yaxis2\":{\"anchor\":\"x\",\"domain\":[0,0.25],\"dtick\":1,\"showticklabels\":false},\"template\":{\"data\":{\"histogram2dcontour\":[{\"type\":\"histogram2dcontour\",\"colorbar\":{\"outlinewidth\":0,\"ticks\":\"\"},\"colorscale\":[[0.0,\"#0d0887\"],[0.1111111111111111,\"#46039f\"],[0.2222222222222222,\"#7201a8\"],[0.3333333333333333,\"#9c179e\"],[0.4444444444444444,\"#bd3786\"],[0.5555555555555556,\"#d8576b\"],[0.6666666666666666,\"#ed7953\"],[0.7777777777777778,\"#fb9f3a\"],[0.8888888888888888,\"#fdca26\"],[1.0,\"#f0f921\"]]}],\"choropleth\":[{\"type\":\"choropleth\",\"colorbar\":{\"outlinewidth\":0,\"ticks\":\"\"}}],\"histogram2d\":[{\"type\":\"histogram2d\",\"colorbar\":{\"outlinewidth\":0,\"ticks\":\"\"},\"colorscale\":[[0.0,\"#0d0887\"],[0.1111111111111111,\"#46039f\"],[0.2222222222222222,\"#7201a8\"],[0.3333333333333333,\"#9c179e\"],[0.4444444444444444,\"#bd3786\"],[0.5555555555555556,\"#d8576b\"],[0.6666666666666666,\"#ed7953\"],[0.7777777777777778,\"#fb9f3a\"],[0.8888888888888888,\"#fdca26\"],[1.0,\"#f0f921\"]]}],\"heatmap\":[{\"type\":\"heatmap\",\"colorbar\":{\"outlinewidth\":0,\"ticks\":\"\"},\"colorscale\":[[0.0,\"#0d0887\"],[0.1111111111111111,\"#46039f\"],[0.2222222222222222,\"#7201a8\"],[0.3333333333333333,\"#9c179e\"],[0.4444444444444444,\"#bd3786\"],[0.5555555555555556,\"#d8576b\"],[0.6666666666666666,\"#ed7953\"],[0.7777777777777778,\"#fb9f3a\"],[0.8888888888888888,\"#fdca26\"],[1.0,\"#f0f921\"]]}],\"heatmapgl\":[{\"type\":\"heatmapgl\",\"colorbar\":{\"outlinewidth\":0,\"ticks\":\"\"},\"colorscale\":[[0.0,\"#0d0887\"],[0.1111111111111111,\"#46039f\"],[0.2222222222222222,\"#7201a8\"],[0.3333333333333333,\"#9c179e\"],[0.4444444444444444,\"#bd3786\"],[0.5555555555555556,\"#d8576b\"],[0.6666666666666666,\"#ed7953\"],[0.7777777777777778,\"#fb9f3a\"],[0.8888888888888888,\"#fdca26\"],[1.0,\"#f0f921\"]]}],\"contourcarpet\":[{\"type\":\"contourcarpet\",\"colorbar\":{\"outlinewidth\":0,\"ticks\":\"\"}}],\"contour\":[{\"type\":\"contour\",\"colorbar\":{\"outlinewidth\":0,\"ticks\":\"\"},\"colorscale\":[[0.0,\"#0d0887\"],[0.1111111111111111,\"#46039f\"],[0.2222222222222222,\"#7201a8\"],[0.3333333333333333,\"#9c179e\"],[0.4444444444444444,\"#bd3786\"],[0.5555555555555556,\"#d8576b\"],[0.6666666666666666,\"#ed7953\"],[0.7777777777777778,\"#fb9f3a\"],[0.8888888888888888,\"#fdca26\"],[1.0,\"#f0f921\"]]}],\"surface\":[{\"type\":\"surface\",\"colorbar\":{\"outlinewidth\":0,\"ticks\":\"\"},\"colorscale\":[[0.0,\"#0d0887\"],[0.1111111111111111,\"#46039f\"],[0.2222222222222222,\"#7201a8\"],[0.3333333333333333,\"#9c179e\"],[0.4444444444444444,\"#bd3786\"],[0.5555555555555556,\"#d8576b\"],[0.6666666666666666,\"#ed7953\"],[0.7777777777777778,\"#fb9f3a\"],[0.8888888888888888,\"#fdca26\"],[1.0,\"#f0f921\"]]}],\"mesh3d\":[{\"type\":\"mesh3d\",\"colorbar\":{\"outlinewidth\":0,\"ticks\":\"\"}}],\"scatter\":[{\"fillpattern\":{\"fillmode\":\"overlay\",\"size\":10,\"solidity\":0.2},\"type\":\"scatter\"}],\"parcoords\":[{\"type\":\"parcoords\",\"line\":{\"colorbar\":{\"outlinewidth\":0,\"ticks\":\"\"}}}],\"scatterpolargl\":[{\"type\":\"scatterpolargl\",\"marker\":{\"colorbar\":{\"outlinewidth\":0,\"ticks\":\"\"}}}],\"bar\":[{\"error_x\":{\"color\":\"#2a3f5f\"},\"error_y\":{\"color\":\"#2a3f5f\"},\"marker\":{\"line\":{\"color\":\"#E5ECF6\",\"width\":0.5},\"pattern\":{\"fillmode\":\"overlay\",\"size\":10,\"solidity\":0.2}},\"type\":\"bar\"}],\"scattergeo\":[{\"type\":\"scattergeo\",\"marker\":{\"colorbar\":{\"outlinewidth\":0,\"ticks\":\"\"}}}],\"scatterpolar\":[{\"type\":\"scatterpolar\",\"marker\":{\"colorbar\":{\"outlinewidth\":0,\"ticks\":\"\"}}}],\"histogram\":[{\"marker\":{\"pattern\":{\"fillmode\":\"overlay\",\"size\":10,\"solidity\":0.2}},\"type\":\"histogram\"}],\"scattergl\":[{\"type\":\"scattergl\",\"marker\":{\"colorbar\":{\"outlinewidth\":0,\"ticks\":\"\"}}}],\"scatter3d\":[{\"type\":\"scatter3d\",\"line\":{\"colorbar\":{\"outlinewidth\":0,\"ticks\":\"\"}},\"marker\":{\"colorbar\":{\"outlinewidth\":0,\"ticks\":\"\"}}}],\"scattermapbox\":[{\"type\":\"scattermapbox\",\"marker\":{\"colorbar\":{\"outlinewidth\":0,\"ticks\":\"\"}}}],\"scatterternary\":[{\"type\":\"scatterternary\",\"marker\":{\"colorbar\":{\"outlinewidth\":0,\"ticks\":\"\"}}}],\"scattercarpet\":[{\"type\":\"scattercarpet\",\"marker\":{\"colorbar\":{\"outlinewidth\":0,\"ticks\":\"\"}}}],\"carpet\":[{\"aaxis\":{\"endlinecolor\":\"#2a3f5f\",\"gridcolor\":\"white\",\"linecolor\":\"white\",\"minorgridcolor\":\"white\",\"startlinecolor\":\"#2a3f5f\"},\"baxis\":{\"endlinecolor\":\"#2a3f5f\",\"gridcolor\":\"white\",\"linecolor\":\"white\",\"minorgridcolor\":\"white\",\"startlinecolor\":\"#2a3f5f\"},\"type\":\"carpet\"}],\"table\":[{\"cells\":{\"fill\":{\"color\":\"#EBF0F8\"},\"line\":{\"color\":\"white\"}},\"header\":{\"fill\":{\"color\":\"#C8D4E3\"},\"line\":{\"color\":\"white\"}},\"type\":\"table\"}],\"barpolar\":[{\"marker\":{\"line\":{\"color\":\"#E5ECF6\",\"width\":0.5},\"pattern\":{\"fillmode\":\"overlay\",\"size\":10,\"solidity\":0.2}},\"type\":\"barpolar\"}],\"pie\":[{\"automargin\":true,\"type\":\"pie\"}]},\"layout\":{\"autotypenumbers\":\"strict\",\"colorway\":[\"#636efa\",\"#EF553B\",\"#00cc96\",\"#ab63fa\",\"#FFA15A\",\"#19d3f3\",\"#FF6692\",\"#B6E880\",\"#FF97FF\",\"#FECB52\"],\"font\":{\"color\":\"#2a3f5f\"},\"hovermode\":\"closest\",\"hoverlabel\":{\"align\":\"left\"},\"paper_bgcolor\":\"white\",\"plot_bgcolor\":\"#E5ECF6\",\"polar\":{\"bgcolor\":\"#E5ECF6\",\"angularaxis\":{\"gridcolor\":\"white\",\"linecolor\":\"white\",\"ticks\":\"\"},\"radialaxis\":{\"gridcolor\":\"white\",\"linecolor\":\"white\",\"ticks\":\"\"}},\"ternary\":{\"bgcolor\":\"#E5ECF6\",\"aaxis\":{\"gridcolor\":\"white\",\"linecolor\":\"white\",\"ticks\":\"\"},\"baxis\":{\"gridcolor\":\"white\",\"linecolor\":\"white\",\"ticks\":\"\"},\"caxis\":{\"gridcolor\":\"white\",\"linecolor\":\"white\",\"ticks\":\"\"}},\"coloraxis\":{\"colorbar\":{\"outlinewidth\":0,\"ticks\":\"\"}},\"colorscale\":{\"sequential\":[[0.0,\"#0d0887\"],[0.1111111111111111,\"#46039f\"],[0.2222222222222222,\"#7201a8\"],[0.3333333333333333,\"#9c179e\"],[0.4444444444444444,\"#bd3786\"],[0.5555555555555556,\"#d8576b\"],[0.6666666666666666,\"#ed7953\"],[0.7777777777777778,\"#fb9f3a\"],[0.8888888888888888,\"#fdca26\"],[1.0,\"#f0f921\"]],\"sequentialminus\":[[0.0,\"#0d0887\"],[0.1111111111111111,\"#46039f\"],[0.2222222222222222,\"#7201a8\"],[0.3333333333333333,\"#9c179e\"],[0.4444444444444444,\"#bd3786\"],[0.5555555555555556,\"#d8576b\"],[0.6666666666666666,\"#ed7953\"],[0.7777777777777778,\"#fb9f3a\"],[0.8888888888888888,\"#fdca26\"],[1.0,\"#f0f921\"]],\"diverging\":[[0,\"#8e0152\"],[0.1,\"#c51b7d\"],[0.2,\"#de77ae\"],[0.3,\"#f1b6da\"],[0.4,\"#fde0ef\"],[0.5,\"#f7f7f7\"],[0.6,\"#e6f5d0\"],[0.7,\"#b8e186\"],[0.8,\"#7fbc41\"],[0.9,\"#4d9221\"],[1,\"#276419\"]]},\"xaxis\":{\"gridcolor\":\"white\",\"linecolor\":\"white\",\"ticks\":\"\",\"title\":{\"standoff\":15},\"zerolinecolor\":\"white\",\"automargin\":true,\"zerolinewidth\":2},\"yaxis\":{\"gridcolor\":\"white\",\"linecolor\":\"white\",\"ticks\":\"\",\"title\":{\"standoff\":15},\"zerolinecolor\":\"white\",\"automargin\":true,\"zerolinewidth\":2},\"scene\":{\"xaxis\":{\"backgroundcolor\":\"#E5ECF6\",\"gridcolor\":\"white\",\"linecolor\":\"white\",\"showbackground\":true,\"ticks\":\"\",\"zerolinecolor\":\"white\",\"gridwidth\":2},\"yaxis\":{\"backgroundcolor\":\"#E5ECF6\",\"gridcolor\":\"white\",\"linecolor\":\"white\",\"showbackground\":true,\"ticks\":\"\",\"zerolinecolor\":\"white\",\"gridwidth\":2},\"zaxis\":{\"backgroundcolor\":\"#E5ECF6\",\"gridcolor\":\"white\",\"linecolor\":\"white\",\"showbackground\":true,\"ticks\":\"\",\"zerolinecolor\":\"white\",\"gridwidth\":2}},\"shapedefaults\":{\"line\":{\"color\":\"#2a3f5f\"}},\"annotationdefaults\":{\"arrowcolor\":\"#2a3f5f\",\"arrowhead\":0,\"arrowwidth\":1},\"geo\":{\"bgcolor\":\"white\",\"landcolor\":\"#E5ECF6\",\"subunitcolor\":\"white\",\"showland\":true,\"showlakes\":true,\"lakecolor\":\"white\"},\"title\":{\"x\":0.05},\"mapbox\":{\"style\":\"light\"}}}},                        {\"responsive\": true}                    ).then(function(){\n",
       "                            \n",
       "var gd = document.getElementById('024f1f6a-e6a1-4f63-9cbb-a6d4fed866bb');\n",
       "var x = new MutationObserver(function (mutations, observer) {{\n",
       "        var display = window.getComputedStyle(gd).display;\n",
       "        if (!display || display === 'none') {{\n",
       "            console.log([gd, 'removed!']);\n",
       "            Plotly.purge(gd);\n",
       "            observer.disconnect();\n",
       "        }}\n",
       "}});\n",
       "\n",
       "// Listen for the removal of the full notebook cells\n",
       "var notebookContainer = gd.closest('#notebook-container');\n",
       "if (notebookContainer) {{\n",
       "    x.observe(notebookContainer, {childList: true});\n",
       "}}\n",
       "\n",
       "// Listen for the clearing of the current output cell\n",
       "var outputEl = gd.closest('.output');\n",
       "if (outputEl) {{\n",
       "    x.observe(outputEl, {childList: true});\n",
       "}}\n",
       "\n",
       "                        })                };                });            </script>        </div>"
      ]
     },
     "metadata": {},
     "output_type": "display_data"
    }
   ],
   "source": [
    "#add curve to the histogram\n",
    "\n",
    "import plotly.figure_factory as ff\n",
    "import numpy as np\n",
    "\n",
    "hist_data = [student_data['math score']]\n",
    "group_labels = ['Math Scores']\n",
    "ff.create_distplot(hist_data, group_labels)"
   ]
  },
  {
   "cell_type": "code",
   "execution_count": null,
   "id": "adcde5af",
   "metadata": {},
   "outputs": [],
   "source": [
    "gender_df = student_data[['gender', 'writing score']]\n",
    "gender_df"
   ]
  },
  {
   "cell_type": "code",
   "execution_count": null,
   "id": "f007782e",
   "metadata": {},
   "outputs": [],
   "source": [
    "#Correlation Story\n",
    "\n",
    "px.scatter(student_data, x = \"math score\", y = \"writing score\",\n",
    "           \n",
    "          color_discrete_sequence = ['green'],\n",
    "          opacity = 0.2,\n",
    "          labels={\n",
    "                     \"math score\": \"Student Math Score\",\n",
    "                     \"writing score\": \"Student Writing Score\"                    \n",
    "                 },\n",
    "          title = \"Correlation between Student Math and Writing Scores\",\n",
    "          trendline=\"ols\")"
   ]
  },
  {
   "cell_type": "code",
   "execution_count": null,
   "id": "2f4f410d",
   "metadata": {},
   "outputs": [],
   "source": [
    "#Correlation test\n",
    "student_data['math score'].corr(student_data['writing score'])"
   ]
  },
  {
   "cell_type": "code",
   "execution_count": null,
   "id": "027c5d6c",
   "metadata": {},
   "outputs": [],
   "source": [
    "px.scatter(student_data, x = \"math score\", y = \"writing score\", color = \"math score\",\n",
    "           size = \"math score\" ,\n",
    "           opacity = 0.2,\n",
    "           labels={\n",
    "                     \"math score\": \"Student Math Score\",\n",
    "                     \"writing score\": \"Student Writing Score\"                    \n",
    "                 },\n",
    "          title = \"Correlation between Student Math and Writing Scores\",\n",
    "          trendline=\"ols\")"
   ]
  },
  {
   "cell_type": "code",
   "execution_count": 39,
   "id": "d3f161cf",
   "metadata": {},
   "outputs": [
    {
     "data": {
      "application/vnd.plotly.v1+json": {
       "config": {
        "plotlyServerURL": "https://plot.ly"
       },
       "data": [
        {
         "alignmentgroup": "True",
         "hovertemplate": "math score=%{y}<extra></extra>",
         "legendgroup": "",
         "marker": {
          "color": "#636efa"
         },
         "name": "",
         "notched": false,
         "offsetgroup": "",
         "orientation": "v",
         "showlegend": false,
         "type": "box",
         "x0": " ",
         "xaxis": "x",
         "y": [
          72,
          69,
          90,
          47,
          76,
          71,
          88,
          40,
          64,
          38,
          58,
          40,
          65,
          78,
          50,
          69,
          88,
          18,
          46,
          54,
          66,
          65,
          44,
          69,
          74,
          73,
          69,
          67,
          70,
          62,
          69,
          63,
          56,
          40,
          97,
          81,
          74,
          50,
          75,
          57,
          55,
          58,
          53,
          59,
          50,
          65,
          55,
          66,
          57,
          82,
          53,
          77,
          53,
          88,
          71,
          33,
          82,
          52,
          58,
          0,
          79,
          39,
          62,
          69,
          59,
          67,
          45,
          60,
          61,
          39,
          58,
          63,
          41,
          61,
          49,
          44,
          30,
          80,
          61,
          62,
          47,
          49,
          50,
          72,
          42,
          73,
          76,
          71,
          58,
          73,
          65,
          27,
          71,
          43,
          79,
          78,
          65,
          63,
          58,
          65,
          79,
          68,
          85,
          60,
          98,
          58,
          87,
          66,
          52,
          70,
          77,
          62,
          54,
          51,
          99,
          84,
          75,
          78,
          51,
          55,
          79,
          91,
          88,
          63,
          83,
          87,
          72,
          65,
          82,
          51,
          89,
          53,
          87,
          75,
          74,
          58,
          51,
          70,
          59,
          71,
          76,
          59,
          42,
          57,
          88,
          22,
          88,
          73,
          68,
          100,
          62,
          77,
          59,
          54,
          62,
          70,
          66,
          60,
          61,
          66,
          82,
          75,
          49,
          52,
          81,
          96,
          53,
          58,
          68,
          67,
          72,
          94,
          79,
          63,
          43,
          81,
          46,
          71,
          52,
          97,
          62,
          46,
          50,
          65,
          45,
          65,
          80,
          62,
          48,
          77,
          66,
          76,
          62,
          77,
          69,
          61,
          59,
          55,
          45,
          78,
          67,
          65,
          69,
          57,
          59,
          74,
          82,
          81,
          74,
          58,
          80,
          35,
          42,
          60,
          87,
          84,
          83,
          34,
          66,
          61,
          56,
          87,
          55,
          86,
          52,
          45,
          72,
          57,
          68,
          88,
          76,
          46,
          67,
          92,
          83,
          80,
          63,
          64,
          54,
          84,
          73,
          80,
          56,
          59,
          75,
          85,
          89,
          58,
          65,
          68,
          47,
          71,
          60,
          80,
          54,
          62,
          64,
          78,
          70,
          65,
          64,
          79,
          44,
          99,
          76,
          59,
          63,
          69,
          88,
          71,
          69,
          58,
          47,
          65,
          88,
          83,
          85,
          59,
          65,
          73,
          53,
          45,
          73,
          70,
          37,
          81,
          97,
          67,
          88,
          77,
          76,
          86,
          63,
          65,
          78,
          67,
          46,
          71,
          40,
          90,
          81,
          56,
          67,
          80,
          74,
          69,
          99,
          51,
          53,
          49,
          73,
          66,
          67,
          68,
          59,
          71,
          77,
          83,
          63,
          56,
          67,
          75,
          71,
          43,
          41,
          82,
          61,
          28,
          82,
          41,
          71,
          47,
          62,
          90,
          83,
          61,
          76,
          49,
          24,
          35,
          58,
          61,
          69,
          67,
          79,
          72,
          62,
          77,
          75,
          87,
          52,
          66,
          63,
          46,
          59,
          61,
          63,
          42,
          59,
          80,
          58,
          85,
          52,
          27,
          59,
          49,
          69,
          61,
          44,
          73,
          84,
          45,
          74,
          82,
          59,
          46,
          80,
          85,
          71,
          66,
          80,
          87,
          79,
          38,
          38,
          67,
          64,
          57,
          62,
          73,
          73,
          77,
          76,
          57,
          65,
          48,
          50,
          85,
          74,
          60,
          59,
          53,
          49,
          88,
          54,
          63,
          65,
          82,
          52,
          87,
          70,
          84,
          71,
          63,
          51,
          84,
          71,
          74,
          68,
          57,
          82,
          57,
          47,
          59,
          41,
          62,
          86,
          69,
          65,
          68,
          64,
          61,
          61,
          47,
          73,
          50,
          75,
          75,
          70,
          89,
          67,
          78,
          59,
          73,
          79,
          67,
          69,
          86,
          47,
          81,
          64,
          100,
          65,
          65,
          53,
          37,
          79,
          53,
          100,
          72,
          53,
          54,
          71,
          77,
          75,
          84,
          26,
          72,
          77,
          91,
          83,
          63,
          68,
          59,
          90,
          71,
          76,
          80,
          55,
          76,
          73,
          52,
          68,
          59,
          49,
          70,
          61,
          60,
          64,
          79,
          65,
          64,
          83,
          81,
          54,
          68,
          54,
          59,
          66,
          76,
          74,
          94,
          63,
          95,
          40,
          82,
          68,
          55,
          79,
          86,
          76,
          64,
          62,
          54,
          77,
          76,
          74,
          66,
          66,
          67,
          71,
          91,
          69,
          54,
          53,
          68,
          56,
          36,
          29,
          62,
          68,
          47,
          62,
          79,
          73,
          66,
          51,
          51,
          85,
          97,
          75,
          79,
          81,
          82,
          64,
          78,
          92,
          72,
          62,
          79,
          79,
          87,
          40,
          77,
          53,
          32,
          55,
          61,
          53,
          73,
          74,
          63,
          96,
          63,
          48,
          48,
          92,
          61,
          63,
          68,
          71,
          91,
          53,
          50,
          74,
          40,
          61,
          81,
          48,
          53,
          81,
          77,
          63,
          73,
          69,
          65,
          55,
          44,
          54,
          48,
          58,
          71,
          68,
          74,
          92,
          56,
          30,
          53,
          69,
          65,
          54,
          29,
          76,
          60,
          84,
          75,
          85,
          40,
          61,
          58,
          69,
          58,
          94,
          65,
          82,
          60,
          37,
          88,
          95,
          65,
          35,
          62,
          58,
          100,
          61,
          100,
          69,
          61,
          49,
          44,
          67,
          79,
          66,
          75,
          84,
          71,
          67,
          80,
          86,
          76,
          41,
          74,
          72,
          74,
          70,
          65,
          59,
          64,
          50,
          69,
          51,
          68,
          85,
          65,
          73,
          62,
          77,
          69,
          43,
          90,
          74,
          73,
          55,
          65,
          80,
          50,
          63,
          77,
          73,
          81,
          66,
          52,
          69,
          65,
          69,
          50,
          73,
          70,
          81,
          63,
          67,
          60,
          62,
          29,
          62,
          94,
          85,
          77,
          53,
          93,
          49,
          73,
          66,
          77,
          49,
          79,
          75,
          59,
          57,
          66,
          79,
          57,
          87,
          63,
          59,
          62,
          46,
          66,
          89,
          42,
          93,
          80,
          98,
          81,
          60,
          76,
          73,
          96,
          76,
          91,
          62,
          55,
          74,
          50,
          47,
          81,
          65,
          68,
          73,
          53,
          68,
          55,
          87,
          55,
          53,
          67,
          92,
          53,
          81,
          61,
          80,
          37,
          81,
          59,
          55,
          72,
          69,
          69,
          50,
          87,
          71,
          68,
          79,
          77,
          58,
          84,
          55,
          70,
          52,
          69,
          53,
          48,
          78,
          62,
          60,
          74,
          58,
          76,
          68,
          58,
          52,
          75,
          52,
          62,
          66,
          49,
          66,
          35,
          72,
          94,
          46,
          77,
          76,
          52,
          91,
          32,
          72,
          19,
          68,
          52,
          48,
          60,
          66,
          89,
          42,
          57,
          70,
          70,
          69,
          52,
          67,
          76,
          87,
          82,
          73,
          75,
          64,
          41,
          90,
          59,
          51,
          45,
          54,
          87,
          72,
          94,
          45,
          61,
          60,
          77,
          85,
          78,
          49,
          71,
          48,
          62,
          56,
          65,
          69,
          68,
          61,
          74,
          64,
          77,
          58,
          60,
          73,
          75,
          58,
          66,
          39,
          64,
          23,
          74,
          40,
          90,
          91,
          64,
          59,
          80,
          71,
          61,
          87,
          82,
          62,
          97,
          75,
          65,
          52,
          87,
          53,
          81,
          39,
          71,
          97,
          82,
          59,
          61,
          78,
          49,
          59,
          70,
          82,
          90,
          43,
          80,
          81,
          57,
          59,
          64,
          63,
          71,
          64,
          55,
          51,
          62,
          93,
          54,
          69,
          44,
          86,
          85,
          50,
          88,
          59,
          32,
          36,
          63,
          67,
          65,
          85,
          73,
          34,
          93,
          67,
          88,
          57,
          79,
          67,
          70,
          50,
          69,
          52,
          47,
          46,
          68,
          100,
          44,
          57,
          91,
          69,
          35,
          72,
          54,
          74,
          74,
          64,
          65,
          46,
          48,
          67,
          62,
          61,
          70,
          98,
          70,
          67,
          57,
          85,
          77,
          72,
          78,
          81,
          61,
          58,
          54,
          82,
          49,
          49,
          57,
          94,
          75,
          74,
          58,
          62,
          72,
          84,
          92,
          45,
          75,
          56,
          48,
          100,
          65,
          72,
          62,
          66,
          63,
          68,
          75,
          89,
          78,
          53,
          49,
          54,
          64,
          60,
          62,
          55,
          91,
          8,
          81,
          79,
          78,
          74,
          57,
          40,
          81,
          44,
          67,
          86,
          65,
          55,
          62,
          63,
          88,
          62,
          59,
          68,
          77
         ],
         "y0": " ",
         "yaxis": "y"
        }
       ],
       "layout": {
        "boxmode": "group",
        "legend": {
         "tracegroupgap": 0
        },
        "margin": {
         "t": 60
        },
        "template": {
         "data": {
          "bar": [
           {
            "error_x": {
             "color": "#2a3f5f"
            },
            "error_y": {
             "color": "#2a3f5f"
            },
            "marker": {
             "line": {
              "color": "#E5ECF6",
              "width": 0.5
             },
             "pattern": {
              "fillmode": "overlay",
              "size": 10,
              "solidity": 0.2
             }
            },
            "type": "bar"
           }
          ],
          "barpolar": [
           {
            "marker": {
             "line": {
              "color": "#E5ECF6",
              "width": 0.5
             },
             "pattern": {
              "fillmode": "overlay",
              "size": 10,
              "solidity": 0.2
             }
            },
            "type": "barpolar"
           }
          ],
          "carpet": [
           {
            "aaxis": {
             "endlinecolor": "#2a3f5f",
             "gridcolor": "white",
             "linecolor": "white",
             "minorgridcolor": "white",
             "startlinecolor": "#2a3f5f"
            },
            "baxis": {
             "endlinecolor": "#2a3f5f",
             "gridcolor": "white",
             "linecolor": "white",
             "minorgridcolor": "white",
             "startlinecolor": "#2a3f5f"
            },
            "type": "carpet"
           }
          ],
          "choropleth": [
           {
            "colorbar": {
             "outlinewidth": 0,
             "ticks": ""
            },
            "type": "choropleth"
           }
          ],
          "contour": [
           {
            "colorbar": {
             "outlinewidth": 0,
             "ticks": ""
            },
            "colorscale": [
             [
              0,
              "#0d0887"
             ],
             [
              0.1111111111111111,
              "#46039f"
             ],
             [
              0.2222222222222222,
              "#7201a8"
             ],
             [
              0.3333333333333333,
              "#9c179e"
             ],
             [
              0.4444444444444444,
              "#bd3786"
             ],
             [
              0.5555555555555556,
              "#d8576b"
             ],
             [
              0.6666666666666666,
              "#ed7953"
             ],
             [
              0.7777777777777778,
              "#fb9f3a"
             ],
             [
              0.8888888888888888,
              "#fdca26"
             ],
             [
              1,
              "#f0f921"
             ]
            ],
            "type": "contour"
           }
          ],
          "contourcarpet": [
           {
            "colorbar": {
             "outlinewidth": 0,
             "ticks": ""
            },
            "type": "contourcarpet"
           }
          ],
          "heatmap": [
           {
            "colorbar": {
             "outlinewidth": 0,
             "ticks": ""
            },
            "colorscale": [
             [
              0,
              "#0d0887"
             ],
             [
              0.1111111111111111,
              "#46039f"
             ],
             [
              0.2222222222222222,
              "#7201a8"
             ],
             [
              0.3333333333333333,
              "#9c179e"
             ],
             [
              0.4444444444444444,
              "#bd3786"
             ],
             [
              0.5555555555555556,
              "#d8576b"
             ],
             [
              0.6666666666666666,
              "#ed7953"
             ],
             [
              0.7777777777777778,
              "#fb9f3a"
             ],
             [
              0.8888888888888888,
              "#fdca26"
             ],
             [
              1,
              "#f0f921"
             ]
            ],
            "type": "heatmap"
           }
          ],
          "heatmapgl": [
           {
            "colorbar": {
             "outlinewidth": 0,
             "ticks": ""
            },
            "colorscale": [
             [
              0,
              "#0d0887"
             ],
             [
              0.1111111111111111,
              "#46039f"
             ],
             [
              0.2222222222222222,
              "#7201a8"
             ],
             [
              0.3333333333333333,
              "#9c179e"
             ],
             [
              0.4444444444444444,
              "#bd3786"
             ],
             [
              0.5555555555555556,
              "#d8576b"
             ],
             [
              0.6666666666666666,
              "#ed7953"
             ],
             [
              0.7777777777777778,
              "#fb9f3a"
             ],
             [
              0.8888888888888888,
              "#fdca26"
             ],
             [
              1,
              "#f0f921"
             ]
            ],
            "type": "heatmapgl"
           }
          ],
          "histogram": [
           {
            "marker": {
             "pattern": {
              "fillmode": "overlay",
              "size": 10,
              "solidity": 0.2
             }
            },
            "type": "histogram"
           }
          ],
          "histogram2d": [
           {
            "colorbar": {
             "outlinewidth": 0,
             "ticks": ""
            },
            "colorscale": [
             [
              0,
              "#0d0887"
             ],
             [
              0.1111111111111111,
              "#46039f"
             ],
             [
              0.2222222222222222,
              "#7201a8"
             ],
             [
              0.3333333333333333,
              "#9c179e"
             ],
             [
              0.4444444444444444,
              "#bd3786"
             ],
             [
              0.5555555555555556,
              "#d8576b"
             ],
             [
              0.6666666666666666,
              "#ed7953"
             ],
             [
              0.7777777777777778,
              "#fb9f3a"
             ],
             [
              0.8888888888888888,
              "#fdca26"
             ],
             [
              1,
              "#f0f921"
             ]
            ],
            "type": "histogram2d"
           }
          ],
          "histogram2dcontour": [
           {
            "colorbar": {
             "outlinewidth": 0,
             "ticks": ""
            },
            "colorscale": [
             [
              0,
              "#0d0887"
             ],
             [
              0.1111111111111111,
              "#46039f"
             ],
             [
              0.2222222222222222,
              "#7201a8"
             ],
             [
              0.3333333333333333,
              "#9c179e"
             ],
             [
              0.4444444444444444,
              "#bd3786"
             ],
             [
              0.5555555555555556,
              "#d8576b"
             ],
             [
              0.6666666666666666,
              "#ed7953"
             ],
             [
              0.7777777777777778,
              "#fb9f3a"
             ],
             [
              0.8888888888888888,
              "#fdca26"
             ],
             [
              1,
              "#f0f921"
             ]
            ],
            "type": "histogram2dcontour"
           }
          ],
          "mesh3d": [
           {
            "colorbar": {
             "outlinewidth": 0,
             "ticks": ""
            },
            "type": "mesh3d"
           }
          ],
          "parcoords": [
           {
            "line": {
             "colorbar": {
              "outlinewidth": 0,
              "ticks": ""
             }
            },
            "type": "parcoords"
           }
          ],
          "pie": [
           {
            "automargin": true,
            "type": "pie"
           }
          ],
          "scatter": [
           {
            "fillpattern": {
             "fillmode": "overlay",
             "size": 10,
             "solidity": 0.2
            },
            "type": "scatter"
           }
          ],
          "scatter3d": [
           {
            "line": {
             "colorbar": {
              "outlinewidth": 0,
              "ticks": ""
             }
            },
            "marker": {
             "colorbar": {
              "outlinewidth": 0,
              "ticks": ""
             }
            },
            "type": "scatter3d"
           }
          ],
          "scattercarpet": [
           {
            "marker": {
             "colorbar": {
              "outlinewidth": 0,
              "ticks": ""
             }
            },
            "type": "scattercarpet"
           }
          ],
          "scattergeo": [
           {
            "marker": {
             "colorbar": {
              "outlinewidth": 0,
              "ticks": ""
             }
            },
            "type": "scattergeo"
           }
          ],
          "scattergl": [
           {
            "marker": {
             "colorbar": {
              "outlinewidth": 0,
              "ticks": ""
             }
            },
            "type": "scattergl"
           }
          ],
          "scattermapbox": [
           {
            "marker": {
             "colorbar": {
              "outlinewidth": 0,
              "ticks": ""
             }
            },
            "type": "scattermapbox"
           }
          ],
          "scatterpolar": [
           {
            "marker": {
             "colorbar": {
              "outlinewidth": 0,
              "ticks": ""
             }
            },
            "type": "scatterpolar"
           }
          ],
          "scatterpolargl": [
           {
            "marker": {
             "colorbar": {
              "outlinewidth": 0,
              "ticks": ""
             }
            },
            "type": "scatterpolargl"
           }
          ],
          "scatterternary": [
           {
            "marker": {
             "colorbar": {
              "outlinewidth": 0,
              "ticks": ""
             }
            },
            "type": "scatterternary"
           }
          ],
          "surface": [
           {
            "colorbar": {
             "outlinewidth": 0,
             "ticks": ""
            },
            "colorscale": [
             [
              0,
              "#0d0887"
             ],
             [
              0.1111111111111111,
              "#46039f"
             ],
             [
              0.2222222222222222,
              "#7201a8"
             ],
             [
              0.3333333333333333,
              "#9c179e"
             ],
             [
              0.4444444444444444,
              "#bd3786"
             ],
             [
              0.5555555555555556,
              "#d8576b"
             ],
             [
              0.6666666666666666,
              "#ed7953"
             ],
             [
              0.7777777777777778,
              "#fb9f3a"
             ],
             [
              0.8888888888888888,
              "#fdca26"
             ],
             [
              1,
              "#f0f921"
             ]
            ],
            "type": "surface"
           }
          ],
          "table": [
           {
            "cells": {
             "fill": {
              "color": "#EBF0F8"
             },
             "line": {
              "color": "white"
             }
            },
            "header": {
             "fill": {
              "color": "#C8D4E3"
             },
             "line": {
              "color": "white"
             }
            },
            "type": "table"
           }
          ]
         },
         "layout": {
          "annotationdefaults": {
           "arrowcolor": "#2a3f5f",
           "arrowhead": 0,
           "arrowwidth": 1
          },
          "autotypenumbers": "strict",
          "coloraxis": {
           "colorbar": {
            "outlinewidth": 0,
            "ticks": ""
           }
          },
          "colorscale": {
           "diverging": [
            [
             0,
             "#8e0152"
            ],
            [
             0.1,
             "#c51b7d"
            ],
            [
             0.2,
             "#de77ae"
            ],
            [
             0.3,
             "#f1b6da"
            ],
            [
             0.4,
             "#fde0ef"
            ],
            [
             0.5,
             "#f7f7f7"
            ],
            [
             0.6,
             "#e6f5d0"
            ],
            [
             0.7,
             "#b8e186"
            ],
            [
             0.8,
             "#7fbc41"
            ],
            [
             0.9,
             "#4d9221"
            ],
            [
             1,
             "#276419"
            ]
           ],
           "sequential": [
            [
             0,
             "#0d0887"
            ],
            [
             0.1111111111111111,
             "#46039f"
            ],
            [
             0.2222222222222222,
             "#7201a8"
            ],
            [
             0.3333333333333333,
             "#9c179e"
            ],
            [
             0.4444444444444444,
             "#bd3786"
            ],
            [
             0.5555555555555556,
             "#d8576b"
            ],
            [
             0.6666666666666666,
             "#ed7953"
            ],
            [
             0.7777777777777778,
             "#fb9f3a"
            ],
            [
             0.8888888888888888,
             "#fdca26"
            ],
            [
             1,
             "#f0f921"
            ]
           ],
           "sequentialminus": [
            [
             0,
             "#0d0887"
            ],
            [
             0.1111111111111111,
             "#46039f"
            ],
            [
             0.2222222222222222,
             "#7201a8"
            ],
            [
             0.3333333333333333,
             "#9c179e"
            ],
            [
             0.4444444444444444,
             "#bd3786"
            ],
            [
             0.5555555555555556,
             "#d8576b"
            ],
            [
             0.6666666666666666,
             "#ed7953"
            ],
            [
             0.7777777777777778,
             "#fb9f3a"
            ],
            [
             0.8888888888888888,
             "#fdca26"
            ],
            [
             1,
             "#f0f921"
            ]
           ]
          },
          "colorway": [
           "#636efa",
           "#EF553B",
           "#00cc96",
           "#ab63fa",
           "#FFA15A",
           "#19d3f3",
           "#FF6692",
           "#B6E880",
           "#FF97FF",
           "#FECB52"
          ],
          "font": {
           "color": "#2a3f5f"
          },
          "geo": {
           "bgcolor": "white",
           "lakecolor": "white",
           "landcolor": "#E5ECF6",
           "showlakes": true,
           "showland": true,
           "subunitcolor": "white"
          },
          "hoverlabel": {
           "align": "left"
          },
          "hovermode": "closest",
          "mapbox": {
           "style": "light"
          },
          "paper_bgcolor": "white",
          "plot_bgcolor": "#E5ECF6",
          "polar": {
           "angularaxis": {
            "gridcolor": "white",
            "linecolor": "white",
            "ticks": ""
           },
           "bgcolor": "#E5ECF6",
           "radialaxis": {
            "gridcolor": "white",
            "linecolor": "white",
            "ticks": ""
           }
          },
          "scene": {
           "xaxis": {
            "backgroundcolor": "#E5ECF6",
            "gridcolor": "white",
            "gridwidth": 2,
            "linecolor": "white",
            "showbackground": true,
            "ticks": "",
            "zerolinecolor": "white"
           },
           "yaxis": {
            "backgroundcolor": "#E5ECF6",
            "gridcolor": "white",
            "gridwidth": 2,
            "linecolor": "white",
            "showbackground": true,
            "ticks": "",
            "zerolinecolor": "white"
           },
           "zaxis": {
            "backgroundcolor": "#E5ECF6",
            "gridcolor": "white",
            "gridwidth": 2,
            "linecolor": "white",
            "showbackground": true,
            "ticks": "",
            "zerolinecolor": "white"
           }
          },
          "shapedefaults": {
           "line": {
            "color": "#2a3f5f"
           }
          },
          "ternary": {
           "aaxis": {
            "gridcolor": "white",
            "linecolor": "white",
            "ticks": ""
           },
           "baxis": {
            "gridcolor": "white",
            "linecolor": "white",
            "ticks": ""
           },
           "bgcolor": "#E5ECF6",
           "caxis": {
            "gridcolor": "white",
            "linecolor": "white",
            "ticks": ""
           }
          },
          "title": {
           "x": 0.05
          },
          "xaxis": {
           "automargin": true,
           "gridcolor": "white",
           "linecolor": "white",
           "ticks": "",
           "title": {
            "standoff": 15
           },
           "zerolinecolor": "white",
           "zerolinewidth": 2
          },
          "yaxis": {
           "automargin": true,
           "gridcolor": "white",
           "linecolor": "white",
           "ticks": "",
           "title": {
            "standoff": 15
           },
           "zerolinecolor": "white",
           "zerolinewidth": 2
          }
         }
        },
        "xaxis": {
         "anchor": "y",
         "domain": [
          0,
          1
         ]
        },
        "yaxis": {
         "anchor": "x",
         "domain": [
          0,
          1
         ],
         "title": {
          "text": "math score"
         }
        }
       }
      },
      "text/html": [
       "<div>                            <div id=\"ad1c885c-d108-4a5e-86ac-d5a54425ce27\" class=\"plotly-graph-div\" style=\"height:525px; width:100%;\"></div>            <script type=\"text/javascript\">                require([\"plotly\"], function(Plotly) {                    window.PLOTLYENV=window.PLOTLYENV || {};                                    if (document.getElementById(\"ad1c885c-d108-4a5e-86ac-d5a54425ce27\")) {                    Plotly.newPlot(                        \"ad1c885c-d108-4a5e-86ac-d5a54425ce27\",                        [{\"alignmentgroup\":\"True\",\"hovertemplate\":\"math score=%{y}<extra></extra>\",\"legendgroup\":\"\",\"marker\":{\"color\":\"#636efa\"},\"name\":\"\",\"notched\":false,\"offsetgroup\":\"\",\"orientation\":\"v\",\"showlegend\":false,\"x0\":\" \",\"xaxis\":\"x\",\"y\":[72,69,90,47,76,71,88,40,64,38,58,40,65,78,50,69,88,18,46,54,66,65,44,69,74,73,69,67,70,62,69,63,56,40,97,81,74,50,75,57,55,58,53,59,50,65,55,66,57,82,53,77,53,88,71,33,82,52,58,0,79,39,62,69,59,67,45,60,61,39,58,63,41,61,49,44,30,80,61,62,47,49,50,72,42,73,76,71,58,73,65,27,71,43,79,78,65,63,58,65,79,68,85,60,98,58,87,66,52,70,77,62,54,51,99,84,75,78,51,55,79,91,88,63,83,87,72,65,82,51,89,53,87,75,74,58,51,70,59,71,76,59,42,57,88,22,88,73,68,100,62,77,59,54,62,70,66,60,61,66,82,75,49,52,81,96,53,58,68,67,72,94,79,63,43,81,46,71,52,97,62,46,50,65,45,65,80,62,48,77,66,76,62,77,69,61,59,55,45,78,67,65,69,57,59,74,82,81,74,58,80,35,42,60,87,84,83,34,66,61,56,87,55,86,52,45,72,57,68,88,76,46,67,92,83,80,63,64,54,84,73,80,56,59,75,85,89,58,65,68,47,71,60,80,54,62,64,78,70,65,64,79,44,99,76,59,63,69,88,71,69,58,47,65,88,83,85,59,65,73,53,45,73,70,37,81,97,67,88,77,76,86,63,65,78,67,46,71,40,90,81,56,67,80,74,69,99,51,53,49,73,66,67,68,59,71,77,83,63,56,67,75,71,43,41,82,61,28,82,41,71,47,62,90,83,61,76,49,24,35,58,61,69,67,79,72,62,77,75,87,52,66,63,46,59,61,63,42,59,80,58,85,52,27,59,49,69,61,44,73,84,45,74,82,59,46,80,85,71,66,80,87,79,38,38,67,64,57,62,73,73,77,76,57,65,48,50,85,74,60,59,53,49,88,54,63,65,82,52,87,70,84,71,63,51,84,71,74,68,57,82,57,47,59,41,62,86,69,65,68,64,61,61,47,73,50,75,75,70,89,67,78,59,73,79,67,69,86,47,81,64,100,65,65,53,37,79,53,100,72,53,54,71,77,75,84,26,72,77,91,83,63,68,59,90,71,76,80,55,76,73,52,68,59,49,70,61,60,64,79,65,64,83,81,54,68,54,59,66,76,74,94,63,95,40,82,68,55,79,86,76,64,62,54,77,76,74,66,66,67,71,91,69,54,53,68,56,36,29,62,68,47,62,79,73,66,51,51,85,97,75,79,81,82,64,78,92,72,62,79,79,87,40,77,53,32,55,61,53,73,74,63,96,63,48,48,92,61,63,68,71,91,53,50,74,40,61,81,48,53,81,77,63,73,69,65,55,44,54,48,58,71,68,74,92,56,30,53,69,65,54,29,76,60,84,75,85,40,61,58,69,58,94,65,82,60,37,88,95,65,35,62,58,100,61,100,69,61,49,44,67,79,66,75,84,71,67,80,86,76,41,74,72,74,70,65,59,64,50,69,51,68,85,65,73,62,77,69,43,90,74,73,55,65,80,50,63,77,73,81,66,52,69,65,69,50,73,70,81,63,67,60,62,29,62,94,85,77,53,93,49,73,66,77,49,79,75,59,57,66,79,57,87,63,59,62,46,66,89,42,93,80,98,81,60,76,73,96,76,91,62,55,74,50,47,81,65,68,73,53,68,55,87,55,53,67,92,53,81,61,80,37,81,59,55,72,69,69,50,87,71,68,79,77,58,84,55,70,52,69,53,48,78,62,60,74,58,76,68,58,52,75,52,62,66,49,66,35,72,94,46,77,76,52,91,32,72,19,68,52,48,60,66,89,42,57,70,70,69,52,67,76,87,82,73,75,64,41,90,59,51,45,54,87,72,94,45,61,60,77,85,78,49,71,48,62,56,65,69,68,61,74,64,77,58,60,73,75,58,66,39,64,23,74,40,90,91,64,59,80,71,61,87,82,62,97,75,65,52,87,53,81,39,71,97,82,59,61,78,49,59,70,82,90,43,80,81,57,59,64,63,71,64,55,51,62,93,54,69,44,86,85,50,88,59,32,36,63,67,65,85,73,34,93,67,88,57,79,67,70,50,69,52,47,46,68,100,44,57,91,69,35,72,54,74,74,64,65,46,48,67,62,61,70,98,70,67,57,85,77,72,78,81,61,58,54,82,49,49,57,94,75,74,58,62,72,84,92,45,75,56,48,100,65,72,62,66,63,68,75,89,78,53,49,54,64,60,62,55,91,8,81,79,78,74,57,40,81,44,67,86,65,55,62,63,88,62,59,68,77],\"y0\":\" \",\"yaxis\":\"y\",\"type\":\"box\"}],                        {\"template\":{\"data\":{\"histogram2dcontour\":[{\"type\":\"histogram2dcontour\",\"colorbar\":{\"outlinewidth\":0,\"ticks\":\"\"},\"colorscale\":[[0.0,\"#0d0887\"],[0.1111111111111111,\"#46039f\"],[0.2222222222222222,\"#7201a8\"],[0.3333333333333333,\"#9c179e\"],[0.4444444444444444,\"#bd3786\"],[0.5555555555555556,\"#d8576b\"],[0.6666666666666666,\"#ed7953\"],[0.7777777777777778,\"#fb9f3a\"],[0.8888888888888888,\"#fdca26\"],[1.0,\"#f0f921\"]]}],\"choropleth\":[{\"type\":\"choropleth\",\"colorbar\":{\"outlinewidth\":0,\"ticks\":\"\"}}],\"histogram2d\":[{\"type\":\"histogram2d\",\"colorbar\":{\"outlinewidth\":0,\"ticks\":\"\"},\"colorscale\":[[0.0,\"#0d0887\"],[0.1111111111111111,\"#46039f\"],[0.2222222222222222,\"#7201a8\"],[0.3333333333333333,\"#9c179e\"],[0.4444444444444444,\"#bd3786\"],[0.5555555555555556,\"#d8576b\"],[0.6666666666666666,\"#ed7953\"],[0.7777777777777778,\"#fb9f3a\"],[0.8888888888888888,\"#fdca26\"],[1.0,\"#f0f921\"]]}],\"heatmap\":[{\"type\":\"heatmap\",\"colorbar\":{\"outlinewidth\":0,\"ticks\":\"\"},\"colorscale\":[[0.0,\"#0d0887\"],[0.1111111111111111,\"#46039f\"],[0.2222222222222222,\"#7201a8\"],[0.3333333333333333,\"#9c179e\"],[0.4444444444444444,\"#bd3786\"],[0.5555555555555556,\"#d8576b\"],[0.6666666666666666,\"#ed7953\"],[0.7777777777777778,\"#fb9f3a\"],[0.8888888888888888,\"#fdca26\"],[1.0,\"#f0f921\"]]}],\"heatmapgl\":[{\"type\":\"heatmapgl\",\"colorbar\":{\"outlinewidth\":0,\"ticks\":\"\"},\"colorscale\":[[0.0,\"#0d0887\"],[0.1111111111111111,\"#46039f\"],[0.2222222222222222,\"#7201a8\"],[0.3333333333333333,\"#9c179e\"],[0.4444444444444444,\"#bd3786\"],[0.5555555555555556,\"#d8576b\"],[0.6666666666666666,\"#ed7953\"],[0.7777777777777778,\"#fb9f3a\"],[0.8888888888888888,\"#fdca26\"],[1.0,\"#f0f921\"]]}],\"contourcarpet\":[{\"type\":\"contourcarpet\",\"colorbar\":{\"outlinewidth\":0,\"ticks\":\"\"}}],\"contour\":[{\"type\":\"contour\",\"colorbar\":{\"outlinewidth\":0,\"ticks\":\"\"},\"colorscale\":[[0.0,\"#0d0887\"],[0.1111111111111111,\"#46039f\"],[0.2222222222222222,\"#7201a8\"],[0.3333333333333333,\"#9c179e\"],[0.4444444444444444,\"#bd3786\"],[0.5555555555555556,\"#d8576b\"],[0.6666666666666666,\"#ed7953\"],[0.7777777777777778,\"#fb9f3a\"],[0.8888888888888888,\"#fdca26\"],[1.0,\"#f0f921\"]]}],\"surface\":[{\"type\":\"surface\",\"colorbar\":{\"outlinewidth\":0,\"ticks\":\"\"},\"colorscale\":[[0.0,\"#0d0887\"],[0.1111111111111111,\"#46039f\"],[0.2222222222222222,\"#7201a8\"],[0.3333333333333333,\"#9c179e\"],[0.4444444444444444,\"#bd3786\"],[0.5555555555555556,\"#d8576b\"],[0.6666666666666666,\"#ed7953\"],[0.7777777777777778,\"#fb9f3a\"],[0.8888888888888888,\"#fdca26\"],[1.0,\"#f0f921\"]]}],\"mesh3d\":[{\"type\":\"mesh3d\",\"colorbar\":{\"outlinewidth\":0,\"ticks\":\"\"}}],\"scatter\":[{\"fillpattern\":{\"fillmode\":\"overlay\",\"size\":10,\"solidity\":0.2},\"type\":\"scatter\"}],\"parcoords\":[{\"type\":\"parcoords\",\"line\":{\"colorbar\":{\"outlinewidth\":0,\"ticks\":\"\"}}}],\"scatterpolargl\":[{\"type\":\"scatterpolargl\",\"marker\":{\"colorbar\":{\"outlinewidth\":0,\"ticks\":\"\"}}}],\"bar\":[{\"error_x\":{\"color\":\"#2a3f5f\"},\"error_y\":{\"color\":\"#2a3f5f\"},\"marker\":{\"line\":{\"color\":\"#E5ECF6\",\"width\":0.5},\"pattern\":{\"fillmode\":\"overlay\",\"size\":10,\"solidity\":0.2}},\"type\":\"bar\"}],\"scattergeo\":[{\"type\":\"scattergeo\",\"marker\":{\"colorbar\":{\"outlinewidth\":0,\"ticks\":\"\"}}}],\"scatterpolar\":[{\"type\":\"scatterpolar\",\"marker\":{\"colorbar\":{\"outlinewidth\":0,\"ticks\":\"\"}}}],\"histogram\":[{\"marker\":{\"pattern\":{\"fillmode\":\"overlay\",\"size\":10,\"solidity\":0.2}},\"type\":\"histogram\"}],\"scattergl\":[{\"type\":\"scattergl\",\"marker\":{\"colorbar\":{\"outlinewidth\":0,\"ticks\":\"\"}}}],\"scatter3d\":[{\"type\":\"scatter3d\",\"line\":{\"colorbar\":{\"outlinewidth\":0,\"ticks\":\"\"}},\"marker\":{\"colorbar\":{\"outlinewidth\":0,\"ticks\":\"\"}}}],\"scattermapbox\":[{\"type\":\"scattermapbox\",\"marker\":{\"colorbar\":{\"outlinewidth\":0,\"ticks\":\"\"}}}],\"scatterternary\":[{\"type\":\"scatterternary\",\"marker\":{\"colorbar\":{\"outlinewidth\":0,\"ticks\":\"\"}}}],\"scattercarpet\":[{\"type\":\"scattercarpet\",\"marker\":{\"colorbar\":{\"outlinewidth\":0,\"ticks\":\"\"}}}],\"carpet\":[{\"aaxis\":{\"endlinecolor\":\"#2a3f5f\",\"gridcolor\":\"white\",\"linecolor\":\"white\",\"minorgridcolor\":\"white\",\"startlinecolor\":\"#2a3f5f\"},\"baxis\":{\"endlinecolor\":\"#2a3f5f\",\"gridcolor\":\"white\",\"linecolor\":\"white\",\"minorgridcolor\":\"white\",\"startlinecolor\":\"#2a3f5f\"},\"type\":\"carpet\"}],\"table\":[{\"cells\":{\"fill\":{\"color\":\"#EBF0F8\"},\"line\":{\"color\":\"white\"}},\"header\":{\"fill\":{\"color\":\"#C8D4E3\"},\"line\":{\"color\":\"white\"}},\"type\":\"table\"}],\"barpolar\":[{\"marker\":{\"line\":{\"color\":\"#E5ECF6\",\"width\":0.5},\"pattern\":{\"fillmode\":\"overlay\",\"size\":10,\"solidity\":0.2}},\"type\":\"barpolar\"}],\"pie\":[{\"automargin\":true,\"type\":\"pie\"}]},\"layout\":{\"autotypenumbers\":\"strict\",\"colorway\":[\"#636efa\",\"#EF553B\",\"#00cc96\",\"#ab63fa\",\"#FFA15A\",\"#19d3f3\",\"#FF6692\",\"#B6E880\",\"#FF97FF\",\"#FECB52\"],\"font\":{\"color\":\"#2a3f5f\"},\"hovermode\":\"closest\",\"hoverlabel\":{\"align\":\"left\"},\"paper_bgcolor\":\"white\",\"plot_bgcolor\":\"#E5ECF6\",\"polar\":{\"bgcolor\":\"#E5ECF6\",\"angularaxis\":{\"gridcolor\":\"white\",\"linecolor\":\"white\",\"ticks\":\"\"},\"radialaxis\":{\"gridcolor\":\"white\",\"linecolor\":\"white\",\"ticks\":\"\"}},\"ternary\":{\"bgcolor\":\"#E5ECF6\",\"aaxis\":{\"gridcolor\":\"white\",\"linecolor\":\"white\",\"ticks\":\"\"},\"baxis\":{\"gridcolor\":\"white\",\"linecolor\":\"white\",\"ticks\":\"\"},\"caxis\":{\"gridcolor\":\"white\",\"linecolor\":\"white\",\"ticks\":\"\"}},\"coloraxis\":{\"colorbar\":{\"outlinewidth\":0,\"ticks\":\"\"}},\"colorscale\":{\"sequential\":[[0.0,\"#0d0887\"],[0.1111111111111111,\"#46039f\"],[0.2222222222222222,\"#7201a8\"],[0.3333333333333333,\"#9c179e\"],[0.4444444444444444,\"#bd3786\"],[0.5555555555555556,\"#d8576b\"],[0.6666666666666666,\"#ed7953\"],[0.7777777777777778,\"#fb9f3a\"],[0.8888888888888888,\"#fdca26\"],[1.0,\"#f0f921\"]],\"sequentialminus\":[[0.0,\"#0d0887\"],[0.1111111111111111,\"#46039f\"],[0.2222222222222222,\"#7201a8\"],[0.3333333333333333,\"#9c179e\"],[0.4444444444444444,\"#bd3786\"],[0.5555555555555556,\"#d8576b\"],[0.6666666666666666,\"#ed7953\"],[0.7777777777777778,\"#fb9f3a\"],[0.8888888888888888,\"#fdca26\"],[1.0,\"#f0f921\"]],\"diverging\":[[0,\"#8e0152\"],[0.1,\"#c51b7d\"],[0.2,\"#de77ae\"],[0.3,\"#f1b6da\"],[0.4,\"#fde0ef\"],[0.5,\"#f7f7f7\"],[0.6,\"#e6f5d0\"],[0.7,\"#b8e186\"],[0.8,\"#7fbc41\"],[0.9,\"#4d9221\"],[1,\"#276419\"]]},\"xaxis\":{\"gridcolor\":\"white\",\"linecolor\":\"white\",\"ticks\":\"\",\"title\":{\"standoff\":15},\"zerolinecolor\":\"white\",\"automargin\":true,\"zerolinewidth\":2},\"yaxis\":{\"gridcolor\":\"white\",\"linecolor\":\"white\",\"ticks\":\"\",\"title\":{\"standoff\":15},\"zerolinecolor\":\"white\",\"automargin\":true,\"zerolinewidth\":2},\"scene\":{\"xaxis\":{\"backgroundcolor\":\"#E5ECF6\",\"gridcolor\":\"white\",\"linecolor\":\"white\",\"showbackground\":true,\"ticks\":\"\",\"zerolinecolor\":\"white\",\"gridwidth\":2},\"yaxis\":{\"backgroundcolor\":\"#E5ECF6\",\"gridcolor\":\"white\",\"linecolor\":\"white\",\"showbackground\":true,\"ticks\":\"\",\"zerolinecolor\":\"white\",\"gridwidth\":2},\"zaxis\":{\"backgroundcolor\":\"#E5ECF6\",\"gridcolor\":\"white\",\"linecolor\":\"white\",\"showbackground\":true,\"ticks\":\"\",\"zerolinecolor\":\"white\",\"gridwidth\":2}},\"shapedefaults\":{\"line\":{\"color\":\"#2a3f5f\"}},\"annotationdefaults\":{\"arrowcolor\":\"#2a3f5f\",\"arrowhead\":0,\"arrowwidth\":1},\"geo\":{\"bgcolor\":\"white\",\"landcolor\":\"#E5ECF6\",\"subunitcolor\":\"white\",\"showland\":true,\"showlakes\":true,\"lakecolor\":\"white\"},\"title\":{\"x\":0.05},\"mapbox\":{\"style\":\"light\"}}},\"xaxis\":{\"anchor\":\"y\",\"domain\":[0.0,1.0]},\"yaxis\":{\"anchor\":\"x\",\"domain\":[0.0,1.0],\"title\":{\"text\":\"math score\"}},\"legend\":{\"tracegroupgap\":0},\"margin\":{\"t\":60},\"boxmode\":\"group\"},                        {\"responsive\": true}                    ).then(function(){\n",
       "                            \n",
       "var gd = document.getElementById('ad1c885c-d108-4a5e-86ac-d5a54425ce27');\n",
       "var x = new MutationObserver(function (mutations, observer) {{\n",
       "        var display = window.getComputedStyle(gd).display;\n",
       "        if (!display || display === 'none') {{\n",
       "            console.log([gd, 'removed!']);\n",
       "            Plotly.purge(gd);\n",
       "            observer.disconnect();\n",
       "        }}\n",
       "}});\n",
       "\n",
       "// Listen for the removal of the full notebook cells\n",
       "var notebookContainer = gd.closest('#notebook-container');\n",
       "if (notebookContainer) {{\n",
       "    x.observe(notebookContainer, {childList: true});\n",
       "}}\n",
       "\n",
       "// Listen for the clearing of the current output cell\n",
       "var outputEl = gd.closest('.output');\n",
       "if (outputEl) {{\n",
       "    x.observe(outputEl, {childList: true});\n",
       "}}\n",
       "\n",
       "                        })                };                });            </script>        </div>"
      ]
     },
     "metadata": {},
     "output_type": "display_data"
    },
    {
     "data": {
      "application/vnd.plotly.v1+json": {
       "config": {
        "plotlyServerURL": "https://plot.ly"
       },
       "data": [
        {
         "alignmentgroup": "True",
         "hovertemplate": "reading score=%{y}<extra></extra>",
         "legendgroup": "",
         "marker": {
          "color": "#636efa"
         },
         "name": "",
         "notched": false,
         "offsetgroup": "",
         "orientation": "v",
         "showlegend": false,
         "type": "box",
         "x0": " ",
         "xaxis": "x",
         "y": [
          72,
          90,
          95,
          57,
          78,
          83,
          95,
          43,
          64,
          60,
          54,
          52,
          81,
          72,
          53,
          75,
          89,
          32,
          42,
          58,
          69,
          75,
          54,
          73,
          71,
          74,
          54,
          69,
          70,
          70,
          74,
          65,
          72,
          42,
          87,
          81,
          81,
          64,
          90,
          56,
          61,
          73,
          58,
          65,
          56,
          54,
          65,
          71,
          74,
          84,
          55,
          69,
          44,
          78,
          84,
          41,
          85,
          55,
          59,
          17,
          74,
          39,
          61,
          80,
          58,
          64,
          37,
          72,
          58,
          64,
          63,
          55,
          51,
          57,
          49,
          41,
          26,
          78,
          74,
          68,
          49,
          45,
          47,
          64,
          39,
          80,
          83,
          71,
          70,
          86,
          72,
          34,
          79,
          45,
          86,
          81,
          66,
          72,
          67,
          67,
          67,
          74,
          91,
          44,
          86,
          67,
          100,
          63,
          76,
          64,
          89,
          55,
          53,
          58,
          100,
          77,
          85,
          82,
          63,
          69,
          92,
          89,
          93,
          57,
          80,
          95,
          68,
          77,
          82,
          49,
          84,
          37,
          74,
          81,
          79,
          55,
          54,
          55,
          66,
          61,
          72,
          62,
          55,
          43,
          73,
          39,
          84,
          68,
          75,
          100,
          67,
          67,
          70,
          49,
          67,
          89,
          74,
          60,
          86,
          62,
          78,
          88,
          53,
          53,
          92,
          100,
          51,
          76,
          83,
          75,
          73,
          88,
          86,
          67,
          51,
          91,
          54,
          77,
          70,
          100,
          68,
          64,
          50,
          69,
          52,
          67,
          76,
          66,
          52,
          88,
          65,
          83,
          64,
          62,
          84,
          55,
          69,
          56,
          53,
          79,
          84,
          81,
          77,
          69,
          41,
          71,
          62,
          80,
          81,
          61,
          79,
          28,
          62,
          51,
          91,
          83,
          86,
          42,
          77,
          56,
          68,
          85,
          65,
          80,
          66,
          56,
          72,
          50,
          72,
          95,
          64,
          43,
          86,
          87,
          82,
          75,
          66,
          60,
          52,
          80,
          68,
          83,
          52,
          51,
          74,
          76,
          76,
          70,
          64,
          60,
          49,
          83,
          70,
          80,
          52,
          73,
          73,
          77,
          75,
          81,
          79,
          79,
          50,
          93,
          73,
          42,
          75,
          72,
          92,
          76,
          63,
          49,
          53,
          70,
          85,
          78,
          92,
          63,
          86,
          56,
          52,
          48,
          79,
          78,
          46,
          82,
          82,
          89,
          75,
          76,
          70,
          73,
          60,
          73,
          77,
          62,
          41,
          74,
          46,
          87,
          78,
          54,
          84,
          76,
          75,
          67,
          87,
          52,
          71,
          57,
          76,
          60,
          61,
          67,
          64,
          66,
          82,
          72,
          71,
          65,
          79,
          86,
          81,
          53,
          46,
          90,
          61,
          23,
          75,
          55,
          60,
          37,
          56,
          78,
          93,
          68,
          70,
          51,
          38,
          55,
          61,
          73,
          76,
          72,
          73,
          80,
          61,
          94,
          74,
          74,
          65,
          57,
          78,
          58,
          71,
          72,
          61,
          66,
          62,
          90,
          62,
          84,
          58,
          34,
          60,
          58,
          58,
          66,
          64,
          84,
          77,
          73,
          74,
          97,
          70,
          43,
          90,
          95,
          83,
          64,
          86,
          100,
          81,
          49,
          43,
          76,
          73,
          78,
          64,
          70,
          67,
          68,
          67,
          54,
          74,
          45,
          67,
          89,
          63,
          59,
          54,
          43,
          65,
          99,
          59,
          73,
          65,
          80,
          57,
          84,
          71,
          83,
          66,
          67,
          72,
          73,
          74,
          73,
          59,
          56,
          93,
          58,
          58,
          85,
          39,
          67,
          83,
          71,
          59,
          63,
          66,
          72,
          56,
          59,
          66,
          48,
          68,
          66,
          56,
          88,
          81,
          81,
          73,
          83,
          82,
          74,
          66,
          81,
          46,
          73,
          85,
          92,
          77,
          58,
          61,
          56,
          89,
          54,
          100,
          65,
          58,
          54,
          70,
          90,
          58,
          87,
          31,
          67,
          88,
          74,
          85,
          69,
          86,
          67,
          90,
          76,
          62,
          68,
          64,
          71,
          71,
          59,
          68,
          52,
          52,
          74,
          47,
          75,
          53,
          82,
          85,
          64,
          83,
          88,
          64,
          64,
          48,
          78,
          69,
          71,
          79,
          87,
          61,
          89,
          59,
          82,
          70,
          59,
          78,
          92,
          71,
          50,
          49,
          61,
          97,
          87,
          89,
          74,
          78,
          78,
          49,
          86,
          58,
          59,
          52,
          60,
          61,
          53,
          41,
          74,
          67,
          54,
          61,
          88,
          69,
          83,
          60,
          66,
          66,
          92,
          69,
          82,
          77,
          95,
          63,
          83,
          100,
          67,
          67,
          72,
          76,
          90,
          48,
          62,
          45,
          39,
          72,
          67,
          70,
          66,
          75,
          74,
          90,
          80,
          51,
          43,
          100,
          71,
          48,
          68,
          75,
          96,
          62,
          66,
          81,
          55,
          51,
          91,
          56,
          61,
          97,
          79,
          73,
          75,
          77,
          76,
          73,
          63,
          64,
          66,
          57,
          62,
          68,
          76,
          100,
          79,
          24,
          54,
          77,
          82,
          60,
          29,
          78,
          57,
          89,
          72,
          84,
          58,
          64,
          63,
          60,
          59,
          90,
          77,
          93,
          68,
          45,
          78,
          81,
          73,
          61,
          63,
          51,
          96,
          58,
          97,
          70,
          48,
          57,
          51,
          64,
          60,
          74,
          88,
          84,
          74,
          80,
          92,
          76,
          74,
          52,
          88,
          81,
          79,
          65,
          81,
          70,
          62,
          53,
          79,
          56,
          80,
          86,
          70,
          79,
          67,
          67,
          66,
          60,
          87,
          77,
          66,
          71,
          69,
          63,
          60,
          73,
          85,
          74,
          72,
          76,
          57,
          78,
          84,
          77,
          64,
          78,
          82,
          75,
          61,
          72,
          68,
          55,
          40,
          66,
          99,
          75,
          78,
          58,
          90,
          53,
          76,
          74,
          77,
          63,
          89,
          82,
          72,
          78,
          66,
          81,
          67,
          84,
          64,
          63,
          72,
          34,
          59,
          87,
          61,
          84,
          85,
          100,
          81,
          70,
          94,
          78,
          96,
          76,
          73,
          72,
          59,
          90,
          48,
          43,
          74,
          75,
          51,
          92,
          39,
          77,
          46,
          89,
          47,
          58,
          57,
          79,
          66,
          71,
          60,
          73,
          57,
          84,
          73,
          55,
          79,
          75,
          64,
          60,
          84,
          69,
          72,
          77,
          90,
          55,
          95,
          58,
          68,
          59,
          77,
          72,
          58,
          81,
          62,
          63,
          72,
          75,
          62,
          71,
          60,
          48,
          73,
          67,
          78,
          65,
          58,
          72,
          44,
          79,
          85,
          56,
          90,
          85,
          59,
          81,
          51,
          79,
          38,
          65,
          65,
          62,
          66,
          74,
          84,
          52,
          68,
          70,
          84,
          60,
          55,
          73,
          80,
          94,
          85,
          76,
          81,
          74,
          45,
          75,
          54,
          31,
          47,
          64,
          84,
          80,
          86,
          59,
          70,
          72,
          91,
          90,
          90,
          52,
          87,
          58,
          67,
          68,
          69,
          86,
          54,
          60,
          86,
          60,
          82,
          50,
          64,
          64,
          82,
          57,
          77,
          52,
          58,
          44,
          77,
          65,
          85,
          85,
          54,
          72,
          75,
          67,
          68,
          85,
          67,
          64,
          97,
          68,
          79,
          49,
          73,
          62,
          86,
          42,
          71,
          93,
          82,
          53,
          42,
          74,
          51,
          58,
          72,
          84,
          90,
          62,
          64,
          82,
          61,
          72,
          76,
          64,
          70,
          73,
          46,
          51,
          76,
          100,
          72,
          65,
          51,
          85,
          92,
          67,
          74,
          62,
          34,
          29,
          78,
          54,
          78,
          84,
          78,
          48,
          100,
          84,
          77,
          48,
          84,
          75,
          64,
          42,
          84,
          61,
          62,
          61,
          70,
          100,
          61,
          77,
          96,
          70,
          53,
          66,
          65,
          70,
          64,
          56,
          61,
          43,
          56,
          74,
          57,
          71,
          75,
          87,
          63,
          57,
          58,
          81,
          68,
          66,
          91,
          66,
          62,
          68,
          61,
          82,
          58,
          50,
          75,
          73,
          77,
          74,
          52,
          69,
          57,
          87,
          100,
          63,
          81,
          58,
          54,
          100,
          76,
          57,
          70,
          68,
          63,
          76,
          84,
          100,
          72,
          50,
          65,
          63,
          82,
          62,
          65,
          41,
          95,
          24,
          78,
          85,
          87,
          75,
          51,
          59,
          75,
          45,
          86,
          81,
          82,
          76,
          72,
          63,
          99,
          55,
          71,
          78,
          86
         ],
         "y0": " ",
         "yaxis": "y"
        }
       ],
       "layout": {
        "boxmode": "group",
        "legend": {
         "tracegroupgap": 0
        },
        "margin": {
         "t": 60
        },
        "template": {
         "data": {
          "bar": [
           {
            "error_x": {
             "color": "#2a3f5f"
            },
            "error_y": {
             "color": "#2a3f5f"
            },
            "marker": {
             "line": {
              "color": "#E5ECF6",
              "width": 0.5
             },
             "pattern": {
              "fillmode": "overlay",
              "size": 10,
              "solidity": 0.2
             }
            },
            "type": "bar"
           }
          ],
          "barpolar": [
           {
            "marker": {
             "line": {
              "color": "#E5ECF6",
              "width": 0.5
             },
             "pattern": {
              "fillmode": "overlay",
              "size": 10,
              "solidity": 0.2
             }
            },
            "type": "barpolar"
           }
          ],
          "carpet": [
           {
            "aaxis": {
             "endlinecolor": "#2a3f5f",
             "gridcolor": "white",
             "linecolor": "white",
             "minorgridcolor": "white",
             "startlinecolor": "#2a3f5f"
            },
            "baxis": {
             "endlinecolor": "#2a3f5f",
             "gridcolor": "white",
             "linecolor": "white",
             "minorgridcolor": "white",
             "startlinecolor": "#2a3f5f"
            },
            "type": "carpet"
           }
          ],
          "choropleth": [
           {
            "colorbar": {
             "outlinewidth": 0,
             "ticks": ""
            },
            "type": "choropleth"
           }
          ],
          "contour": [
           {
            "colorbar": {
             "outlinewidth": 0,
             "ticks": ""
            },
            "colorscale": [
             [
              0,
              "#0d0887"
             ],
             [
              0.1111111111111111,
              "#46039f"
             ],
             [
              0.2222222222222222,
              "#7201a8"
             ],
             [
              0.3333333333333333,
              "#9c179e"
             ],
             [
              0.4444444444444444,
              "#bd3786"
             ],
             [
              0.5555555555555556,
              "#d8576b"
             ],
             [
              0.6666666666666666,
              "#ed7953"
             ],
             [
              0.7777777777777778,
              "#fb9f3a"
             ],
             [
              0.8888888888888888,
              "#fdca26"
             ],
             [
              1,
              "#f0f921"
             ]
            ],
            "type": "contour"
           }
          ],
          "contourcarpet": [
           {
            "colorbar": {
             "outlinewidth": 0,
             "ticks": ""
            },
            "type": "contourcarpet"
           }
          ],
          "heatmap": [
           {
            "colorbar": {
             "outlinewidth": 0,
             "ticks": ""
            },
            "colorscale": [
             [
              0,
              "#0d0887"
             ],
             [
              0.1111111111111111,
              "#46039f"
             ],
             [
              0.2222222222222222,
              "#7201a8"
             ],
             [
              0.3333333333333333,
              "#9c179e"
             ],
             [
              0.4444444444444444,
              "#bd3786"
             ],
             [
              0.5555555555555556,
              "#d8576b"
             ],
             [
              0.6666666666666666,
              "#ed7953"
             ],
             [
              0.7777777777777778,
              "#fb9f3a"
             ],
             [
              0.8888888888888888,
              "#fdca26"
             ],
             [
              1,
              "#f0f921"
             ]
            ],
            "type": "heatmap"
           }
          ],
          "heatmapgl": [
           {
            "colorbar": {
             "outlinewidth": 0,
             "ticks": ""
            },
            "colorscale": [
             [
              0,
              "#0d0887"
             ],
             [
              0.1111111111111111,
              "#46039f"
             ],
             [
              0.2222222222222222,
              "#7201a8"
             ],
             [
              0.3333333333333333,
              "#9c179e"
             ],
             [
              0.4444444444444444,
              "#bd3786"
             ],
             [
              0.5555555555555556,
              "#d8576b"
             ],
             [
              0.6666666666666666,
              "#ed7953"
             ],
             [
              0.7777777777777778,
              "#fb9f3a"
             ],
             [
              0.8888888888888888,
              "#fdca26"
             ],
             [
              1,
              "#f0f921"
             ]
            ],
            "type": "heatmapgl"
           }
          ],
          "histogram": [
           {
            "marker": {
             "pattern": {
              "fillmode": "overlay",
              "size": 10,
              "solidity": 0.2
             }
            },
            "type": "histogram"
           }
          ],
          "histogram2d": [
           {
            "colorbar": {
             "outlinewidth": 0,
             "ticks": ""
            },
            "colorscale": [
             [
              0,
              "#0d0887"
             ],
             [
              0.1111111111111111,
              "#46039f"
             ],
             [
              0.2222222222222222,
              "#7201a8"
             ],
             [
              0.3333333333333333,
              "#9c179e"
             ],
             [
              0.4444444444444444,
              "#bd3786"
             ],
             [
              0.5555555555555556,
              "#d8576b"
             ],
             [
              0.6666666666666666,
              "#ed7953"
             ],
             [
              0.7777777777777778,
              "#fb9f3a"
             ],
             [
              0.8888888888888888,
              "#fdca26"
             ],
             [
              1,
              "#f0f921"
             ]
            ],
            "type": "histogram2d"
           }
          ],
          "histogram2dcontour": [
           {
            "colorbar": {
             "outlinewidth": 0,
             "ticks": ""
            },
            "colorscale": [
             [
              0,
              "#0d0887"
             ],
             [
              0.1111111111111111,
              "#46039f"
             ],
             [
              0.2222222222222222,
              "#7201a8"
             ],
             [
              0.3333333333333333,
              "#9c179e"
             ],
             [
              0.4444444444444444,
              "#bd3786"
             ],
             [
              0.5555555555555556,
              "#d8576b"
             ],
             [
              0.6666666666666666,
              "#ed7953"
             ],
             [
              0.7777777777777778,
              "#fb9f3a"
             ],
             [
              0.8888888888888888,
              "#fdca26"
             ],
             [
              1,
              "#f0f921"
             ]
            ],
            "type": "histogram2dcontour"
           }
          ],
          "mesh3d": [
           {
            "colorbar": {
             "outlinewidth": 0,
             "ticks": ""
            },
            "type": "mesh3d"
           }
          ],
          "parcoords": [
           {
            "line": {
             "colorbar": {
              "outlinewidth": 0,
              "ticks": ""
             }
            },
            "type": "parcoords"
           }
          ],
          "pie": [
           {
            "automargin": true,
            "type": "pie"
           }
          ],
          "scatter": [
           {
            "fillpattern": {
             "fillmode": "overlay",
             "size": 10,
             "solidity": 0.2
            },
            "type": "scatter"
           }
          ],
          "scatter3d": [
           {
            "line": {
             "colorbar": {
              "outlinewidth": 0,
              "ticks": ""
             }
            },
            "marker": {
             "colorbar": {
              "outlinewidth": 0,
              "ticks": ""
             }
            },
            "type": "scatter3d"
           }
          ],
          "scattercarpet": [
           {
            "marker": {
             "colorbar": {
              "outlinewidth": 0,
              "ticks": ""
             }
            },
            "type": "scattercarpet"
           }
          ],
          "scattergeo": [
           {
            "marker": {
             "colorbar": {
              "outlinewidth": 0,
              "ticks": ""
             }
            },
            "type": "scattergeo"
           }
          ],
          "scattergl": [
           {
            "marker": {
             "colorbar": {
              "outlinewidth": 0,
              "ticks": ""
             }
            },
            "type": "scattergl"
           }
          ],
          "scattermapbox": [
           {
            "marker": {
             "colorbar": {
              "outlinewidth": 0,
              "ticks": ""
             }
            },
            "type": "scattermapbox"
           }
          ],
          "scatterpolar": [
           {
            "marker": {
             "colorbar": {
              "outlinewidth": 0,
              "ticks": ""
             }
            },
            "type": "scatterpolar"
           }
          ],
          "scatterpolargl": [
           {
            "marker": {
             "colorbar": {
              "outlinewidth": 0,
              "ticks": ""
             }
            },
            "type": "scatterpolargl"
           }
          ],
          "scatterternary": [
           {
            "marker": {
             "colorbar": {
              "outlinewidth": 0,
              "ticks": ""
             }
            },
            "type": "scatterternary"
           }
          ],
          "surface": [
           {
            "colorbar": {
             "outlinewidth": 0,
             "ticks": ""
            },
            "colorscale": [
             [
              0,
              "#0d0887"
             ],
             [
              0.1111111111111111,
              "#46039f"
             ],
             [
              0.2222222222222222,
              "#7201a8"
             ],
             [
              0.3333333333333333,
              "#9c179e"
             ],
             [
              0.4444444444444444,
              "#bd3786"
             ],
             [
              0.5555555555555556,
              "#d8576b"
             ],
             [
              0.6666666666666666,
              "#ed7953"
             ],
             [
              0.7777777777777778,
              "#fb9f3a"
             ],
             [
              0.8888888888888888,
              "#fdca26"
             ],
             [
              1,
              "#f0f921"
             ]
            ],
            "type": "surface"
           }
          ],
          "table": [
           {
            "cells": {
             "fill": {
              "color": "#EBF0F8"
             },
             "line": {
              "color": "white"
             }
            },
            "header": {
             "fill": {
              "color": "#C8D4E3"
             },
             "line": {
              "color": "white"
             }
            },
            "type": "table"
           }
          ]
         },
         "layout": {
          "annotationdefaults": {
           "arrowcolor": "#2a3f5f",
           "arrowhead": 0,
           "arrowwidth": 1
          },
          "autotypenumbers": "strict",
          "coloraxis": {
           "colorbar": {
            "outlinewidth": 0,
            "ticks": ""
           }
          },
          "colorscale": {
           "diverging": [
            [
             0,
             "#8e0152"
            ],
            [
             0.1,
             "#c51b7d"
            ],
            [
             0.2,
             "#de77ae"
            ],
            [
             0.3,
             "#f1b6da"
            ],
            [
             0.4,
             "#fde0ef"
            ],
            [
             0.5,
             "#f7f7f7"
            ],
            [
             0.6,
             "#e6f5d0"
            ],
            [
             0.7,
             "#b8e186"
            ],
            [
             0.8,
             "#7fbc41"
            ],
            [
             0.9,
             "#4d9221"
            ],
            [
             1,
             "#276419"
            ]
           ],
           "sequential": [
            [
             0,
             "#0d0887"
            ],
            [
             0.1111111111111111,
             "#46039f"
            ],
            [
             0.2222222222222222,
             "#7201a8"
            ],
            [
             0.3333333333333333,
             "#9c179e"
            ],
            [
             0.4444444444444444,
             "#bd3786"
            ],
            [
             0.5555555555555556,
             "#d8576b"
            ],
            [
             0.6666666666666666,
             "#ed7953"
            ],
            [
             0.7777777777777778,
             "#fb9f3a"
            ],
            [
             0.8888888888888888,
             "#fdca26"
            ],
            [
             1,
             "#f0f921"
            ]
           ],
           "sequentialminus": [
            [
             0,
             "#0d0887"
            ],
            [
             0.1111111111111111,
             "#46039f"
            ],
            [
             0.2222222222222222,
             "#7201a8"
            ],
            [
             0.3333333333333333,
             "#9c179e"
            ],
            [
             0.4444444444444444,
             "#bd3786"
            ],
            [
             0.5555555555555556,
             "#d8576b"
            ],
            [
             0.6666666666666666,
             "#ed7953"
            ],
            [
             0.7777777777777778,
             "#fb9f3a"
            ],
            [
             0.8888888888888888,
             "#fdca26"
            ],
            [
             1,
             "#f0f921"
            ]
           ]
          },
          "colorway": [
           "#636efa",
           "#EF553B",
           "#00cc96",
           "#ab63fa",
           "#FFA15A",
           "#19d3f3",
           "#FF6692",
           "#B6E880",
           "#FF97FF",
           "#FECB52"
          ],
          "font": {
           "color": "#2a3f5f"
          },
          "geo": {
           "bgcolor": "white",
           "lakecolor": "white",
           "landcolor": "#E5ECF6",
           "showlakes": true,
           "showland": true,
           "subunitcolor": "white"
          },
          "hoverlabel": {
           "align": "left"
          },
          "hovermode": "closest",
          "mapbox": {
           "style": "light"
          },
          "paper_bgcolor": "white",
          "plot_bgcolor": "#E5ECF6",
          "polar": {
           "angularaxis": {
            "gridcolor": "white",
            "linecolor": "white",
            "ticks": ""
           },
           "bgcolor": "#E5ECF6",
           "radialaxis": {
            "gridcolor": "white",
            "linecolor": "white",
            "ticks": ""
           }
          },
          "scene": {
           "xaxis": {
            "backgroundcolor": "#E5ECF6",
            "gridcolor": "white",
            "gridwidth": 2,
            "linecolor": "white",
            "showbackground": true,
            "ticks": "",
            "zerolinecolor": "white"
           },
           "yaxis": {
            "backgroundcolor": "#E5ECF6",
            "gridcolor": "white",
            "gridwidth": 2,
            "linecolor": "white",
            "showbackground": true,
            "ticks": "",
            "zerolinecolor": "white"
           },
           "zaxis": {
            "backgroundcolor": "#E5ECF6",
            "gridcolor": "white",
            "gridwidth": 2,
            "linecolor": "white",
            "showbackground": true,
            "ticks": "",
            "zerolinecolor": "white"
           }
          },
          "shapedefaults": {
           "line": {
            "color": "#2a3f5f"
           }
          },
          "ternary": {
           "aaxis": {
            "gridcolor": "white",
            "linecolor": "white",
            "ticks": ""
           },
           "baxis": {
            "gridcolor": "white",
            "linecolor": "white",
            "ticks": ""
           },
           "bgcolor": "#E5ECF6",
           "caxis": {
            "gridcolor": "white",
            "linecolor": "white",
            "ticks": ""
           }
          },
          "title": {
           "x": 0.05
          },
          "xaxis": {
           "automargin": true,
           "gridcolor": "white",
           "linecolor": "white",
           "ticks": "",
           "title": {
            "standoff": 15
           },
           "zerolinecolor": "white",
           "zerolinewidth": 2
          },
          "yaxis": {
           "automargin": true,
           "gridcolor": "white",
           "linecolor": "white",
           "ticks": "",
           "title": {
            "standoff": 15
           },
           "zerolinecolor": "white",
           "zerolinewidth": 2
          }
         }
        },
        "xaxis": {
         "anchor": "y",
         "domain": [
          0,
          1
         ]
        },
        "yaxis": {
         "anchor": "x",
         "domain": [
          0,
          1
         ],
         "title": {
          "text": "reading score"
         }
        }
       }
      },
      "text/html": [
       "<div>                            <div id=\"4d0b2436-35e5-4f52-9ac1-4a4acc768079\" class=\"plotly-graph-div\" style=\"height:525px; width:100%;\"></div>            <script type=\"text/javascript\">                require([\"plotly\"], function(Plotly) {                    window.PLOTLYENV=window.PLOTLYENV || {};                                    if (document.getElementById(\"4d0b2436-35e5-4f52-9ac1-4a4acc768079\")) {                    Plotly.newPlot(                        \"4d0b2436-35e5-4f52-9ac1-4a4acc768079\",                        [{\"alignmentgroup\":\"True\",\"hovertemplate\":\"reading score=%{y}<extra></extra>\",\"legendgroup\":\"\",\"marker\":{\"color\":\"#636efa\"},\"name\":\"\",\"notched\":false,\"offsetgroup\":\"\",\"orientation\":\"v\",\"showlegend\":false,\"x0\":\" \",\"xaxis\":\"x\",\"y\":[72,90,95,57,78,83,95,43,64,60,54,52,81,72,53,75,89,32,42,58,69,75,54,73,71,74,54,69,70,70,74,65,72,42,87,81,81,64,90,56,61,73,58,65,56,54,65,71,74,84,55,69,44,78,84,41,85,55,59,17,74,39,61,80,58,64,37,72,58,64,63,55,51,57,49,41,26,78,74,68,49,45,47,64,39,80,83,71,70,86,72,34,79,45,86,81,66,72,67,67,67,74,91,44,86,67,100,63,76,64,89,55,53,58,100,77,85,82,63,69,92,89,93,57,80,95,68,77,82,49,84,37,74,81,79,55,54,55,66,61,72,62,55,43,73,39,84,68,75,100,67,67,70,49,67,89,74,60,86,62,78,88,53,53,92,100,51,76,83,75,73,88,86,67,51,91,54,77,70,100,68,64,50,69,52,67,76,66,52,88,65,83,64,62,84,55,69,56,53,79,84,81,77,69,41,71,62,80,81,61,79,28,62,51,91,83,86,42,77,56,68,85,65,80,66,56,72,50,72,95,64,43,86,87,82,75,66,60,52,80,68,83,52,51,74,76,76,70,64,60,49,83,70,80,52,73,73,77,75,81,79,79,50,93,73,42,75,72,92,76,63,49,53,70,85,78,92,63,86,56,52,48,79,78,46,82,82,89,75,76,70,73,60,73,77,62,41,74,46,87,78,54,84,76,75,67,87,52,71,57,76,60,61,67,64,66,82,72,71,65,79,86,81,53,46,90,61,23,75,55,60,37,56,78,93,68,70,51,38,55,61,73,76,72,73,80,61,94,74,74,65,57,78,58,71,72,61,66,62,90,62,84,58,34,60,58,58,66,64,84,77,73,74,97,70,43,90,95,83,64,86,100,81,49,43,76,73,78,64,70,67,68,67,54,74,45,67,89,63,59,54,43,65,99,59,73,65,80,57,84,71,83,66,67,72,73,74,73,59,56,93,58,58,85,39,67,83,71,59,63,66,72,56,59,66,48,68,66,56,88,81,81,73,83,82,74,66,81,46,73,85,92,77,58,61,56,89,54,100,65,58,54,70,90,58,87,31,67,88,74,85,69,86,67,90,76,62,68,64,71,71,59,68,52,52,74,47,75,53,82,85,64,83,88,64,64,48,78,69,71,79,87,61,89,59,82,70,59,78,92,71,50,49,61,97,87,89,74,78,78,49,86,58,59,52,60,61,53,41,74,67,54,61,88,69,83,60,66,66,92,69,82,77,95,63,83,100,67,67,72,76,90,48,62,45,39,72,67,70,66,75,74,90,80,51,43,100,71,48,68,75,96,62,66,81,55,51,91,56,61,97,79,73,75,77,76,73,63,64,66,57,62,68,76,100,79,24,54,77,82,60,29,78,57,89,72,84,58,64,63,60,59,90,77,93,68,45,78,81,73,61,63,51,96,58,97,70,48,57,51,64,60,74,88,84,74,80,92,76,74,52,88,81,79,65,81,70,62,53,79,56,80,86,70,79,67,67,66,60,87,77,66,71,69,63,60,73,85,74,72,76,57,78,84,77,64,78,82,75,61,72,68,55,40,66,99,75,78,58,90,53,76,74,77,63,89,82,72,78,66,81,67,84,64,63,72,34,59,87,61,84,85,100,81,70,94,78,96,76,73,72,59,90,48,43,74,75,51,92,39,77,46,89,47,58,57,79,66,71,60,73,57,84,73,55,79,75,64,60,84,69,72,77,90,55,95,58,68,59,77,72,58,81,62,63,72,75,62,71,60,48,73,67,78,65,58,72,44,79,85,56,90,85,59,81,51,79,38,65,65,62,66,74,84,52,68,70,84,60,55,73,80,94,85,76,81,74,45,75,54,31,47,64,84,80,86,59,70,72,91,90,90,52,87,58,67,68,69,86,54,60,86,60,82,50,64,64,82,57,77,52,58,44,77,65,85,85,54,72,75,67,68,85,67,64,97,68,79,49,73,62,86,42,71,93,82,53,42,74,51,58,72,84,90,62,64,82,61,72,76,64,70,73,46,51,76,100,72,65,51,85,92,67,74,62,34,29,78,54,78,84,78,48,100,84,77,48,84,75,64,42,84,61,62,61,70,100,61,77,96,70,53,66,65,70,64,56,61,43,56,74,57,71,75,87,63,57,58,81,68,66,91,66,62,68,61,82,58,50,75,73,77,74,52,69,57,87,100,63,81,58,54,100,76,57,70,68,63,76,84,100,72,50,65,63,82,62,65,41,95,24,78,85,87,75,51,59,75,45,86,81,82,76,72,63,99,55,71,78,86],\"y0\":\" \",\"yaxis\":\"y\",\"type\":\"box\"}],                        {\"template\":{\"data\":{\"histogram2dcontour\":[{\"type\":\"histogram2dcontour\",\"colorbar\":{\"outlinewidth\":0,\"ticks\":\"\"},\"colorscale\":[[0.0,\"#0d0887\"],[0.1111111111111111,\"#46039f\"],[0.2222222222222222,\"#7201a8\"],[0.3333333333333333,\"#9c179e\"],[0.4444444444444444,\"#bd3786\"],[0.5555555555555556,\"#d8576b\"],[0.6666666666666666,\"#ed7953\"],[0.7777777777777778,\"#fb9f3a\"],[0.8888888888888888,\"#fdca26\"],[1.0,\"#f0f921\"]]}],\"choropleth\":[{\"type\":\"choropleth\",\"colorbar\":{\"outlinewidth\":0,\"ticks\":\"\"}}],\"histogram2d\":[{\"type\":\"histogram2d\",\"colorbar\":{\"outlinewidth\":0,\"ticks\":\"\"},\"colorscale\":[[0.0,\"#0d0887\"],[0.1111111111111111,\"#46039f\"],[0.2222222222222222,\"#7201a8\"],[0.3333333333333333,\"#9c179e\"],[0.4444444444444444,\"#bd3786\"],[0.5555555555555556,\"#d8576b\"],[0.6666666666666666,\"#ed7953\"],[0.7777777777777778,\"#fb9f3a\"],[0.8888888888888888,\"#fdca26\"],[1.0,\"#f0f921\"]]}],\"heatmap\":[{\"type\":\"heatmap\",\"colorbar\":{\"outlinewidth\":0,\"ticks\":\"\"},\"colorscale\":[[0.0,\"#0d0887\"],[0.1111111111111111,\"#46039f\"],[0.2222222222222222,\"#7201a8\"],[0.3333333333333333,\"#9c179e\"],[0.4444444444444444,\"#bd3786\"],[0.5555555555555556,\"#d8576b\"],[0.6666666666666666,\"#ed7953\"],[0.7777777777777778,\"#fb9f3a\"],[0.8888888888888888,\"#fdca26\"],[1.0,\"#f0f921\"]]}],\"heatmapgl\":[{\"type\":\"heatmapgl\",\"colorbar\":{\"outlinewidth\":0,\"ticks\":\"\"},\"colorscale\":[[0.0,\"#0d0887\"],[0.1111111111111111,\"#46039f\"],[0.2222222222222222,\"#7201a8\"],[0.3333333333333333,\"#9c179e\"],[0.4444444444444444,\"#bd3786\"],[0.5555555555555556,\"#d8576b\"],[0.6666666666666666,\"#ed7953\"],[0.7777777777777778,\"#fb9f3a\"],[0.8888888888888888,\"#fdca26\"],[1.0,\"#f0f921\"]]}],\"contourcarpet\":[{\"type\":\"contourcarpet\",\"colorbar\":{\"outlinewidth\":0,\"ticks\":\"\"}}],\"contour\":[{\"type\":\"contour\",\"colorbar\":{\"outlinewidth\":0,\"ticks\":\"\"},\"colorscale\":[[0.0,\"#0d0887\"],[0.1111111111111111,\"#46039f\"],[0.2222222222222222,\"#7201a8\"],[0.3333333333333333,\"#9c179e\"],[0.4444444444444444,\"#bd3786\"],[0.5555555555555556,\"#d8576b\"],[0.6666666666666666,\"#ed7953\"],[0.7777777777777778,\"#fb9f3a\"],[0.8888888888888888,\"#fdca26\"],[1.0,\"#f0f921\"]]}],\"surface\":[{\"type\":\"surface\",\"colorbar\":{\"outlinewidth\":0,\"ticks\":\"\"},\"colorscale\":[[0.0,\"#0d0887\"],[0.1111111111111111,\"#46039f\"],[0.2222222222222222,\"#7201a8\"],[0.3333333333333333,\"#9c179e\"],[0.4444444444444444,\"#bd3786\"],[0.5555555555555556,\"#d8576b\"],[0.6666666666666666,\"#ed7953\"],[0.7777777777777778,\"#fb9f3a\"],[0.8888888888888888,\"#fdca26\"],[1.0,\"#f0f921\"]]}],\"mesh3d\":[{\"type\":\"mesh3d\",\"colorbar\":{\"outlinewidth\":0,\"ticks\":\"\"}}],\"scatter\":[{\"fillpattern\":{\"fillmode\":\"overlay\",\"size\":10,\"solidity\":0.2},\"type\":\"scatter\"}],\"parcoords\":[{\"type\":\"parcoords\",\"line\":{\"colorbar\":{\"outlinewidth\":0,\"ticks\":\"\"}}}],\"scatterpolargl\":[{\"type\":\"scatterpolargl\",\"marker\":{\"colorbar\":{\"outlinewidth\":0,\"ticks\":\"\"}}}],\"bar\":[{\"error_x\":{\"color\":\"#2a3f5f\"},\"error_y\":{\"color\":\"#2a3f5f\"},\"marker\":{\"line\":{\"color\":\"#E5ECF6\",\"width\":0.5},\"pattern\":{\"fillmode\":\"overlay\",\"size\":10,\"solidity\":0.2}},\"type\":\"bar\"}],\"scattergeo\":[{\"type\":\"scattergeo\",\"marker\":{\"colorbar\":{\"outlinewidth\":0,\"ticks\":\"\"}}}],\"scatterpolar\":[{\"type\":\"scatterpolar\",\"marker\":{\"colorbar\":{\"outlinewidth\":0,\"ticks\":\"\"}}}],\"histogram\":[{\"marker\":{\"pattern\":{\"fillmode\":\"overlay\",\"size\":10,\"solidity\":0.2}},\"type\":\"histogram\"}],\"scattergl\":[{\"type\":\"scattergl\",\"marker\":{\"colorbar\":{\"outlinewidth\":0,\"ticks\":\"\"}}}],\"scatter3d\":[{\"type\":\"scatter3d\",\"line\":{\"colorbar\":{\"outlinewidth\":0,\"ticks\":\"\"}},\"marker\":{\"colorbar\":{\"outlinewidth\":0,\"ticks\":\"\"}}}],\"scattermapbox\":[{\"type\":\"scattermapbox\",\"marker\":{\"colorbar\":{\"outlinewidth\":0,\"ticks\":\"\"}}}],\"scatterternary\":[{\"type\":\"scatterternary\",\"marker\":{\"colorbar\":{\"outlinewidth\":0,\"ticks\":\"\"}}}],\"scattercarpet\":[{\"type\":\"scattercarpet\",\"marker\":{\"colorbar\":{\"outlinewidth\":0,\"ticks\":\"\"}}}],\"carpet\":[{\"aaxis\":{\"endlinecolor\":\"#2a3f5f\",\"gridcolor\":\"white\",\"linecolor\":\"white\",\"minorgridcolor\":\"white\",\"startlinecolor\":\"#2a3f5f\"},\"baxis\":{\"endlinecolor\":\"#2a3f5f\",\"gridcolor\":\"white\",\"linecolor\":\"white\",\"minorgridcolor\":\"white\",\"startlinecolor\":\"#2a3f5f\"},\"type\":\"carpet\"}],\"table\":[{\"cells\":{\"fill\":{\"color\":\"#EBF0F8\"},\"line\":{\"color\":\"white\"}},\"header\":{\"fill\":{\"color\":\"#C8D4E3\"},\"line\":{\"color\":\"white\"}},\"type\":\"table\"}],\"barpolar\":[{\"marker\":{\"line\":{\"color\":\"#E5ECF6\",\"width\":0.5},\"pattern\":{\"fillmode\":\"overlay\",\"size\":10,\"solidity\":0.2}},\"type\":\"barpolar\"}],\"pie\":[{\"automargin\":true,\"type\":\"pie\"}]},\"layout\":{\"autotypenumbers\":\"strict\",\"colorway\":[\"#636efa\",\"#EF553B\",\"#00cc96\",\"#ab63fa\",\"#FFA15A\",\"#19d3f3\",\"#FF6692\",\"#B6E880\",\"#FF97FF\",\"#FECB52\"],\"font\":{\"color\":\"#2a3f5f\"},\"hovermode\":\"closest\",\"hoverlabel\":{\"align\":\"left\"},\"paper_bgcolor\":\"white\",\"plot_bgcolor\":\"#E5ECF6\",\"polar\":{\"bgcolor\":\"#E5ECF6\",\"angularaxis\":{\"gridcolor\":\"white\",\"linecolor\":\"white\",\"ticks\":\"\"},\"radialaxis\":{\"gridcolor\":\"white\",\"linecolor\":\"white\",\"ticks\":\"\"}},\"ternary\":{\"bgcolor\":\"#E5ECF6\",\"aaxis\":{\"gridcolor\":\"white\",\"linecolor\":\"white\",\"ticks\":\"\"},\"baxis\":{\"gridcolor\":\"white\",\"linecolor\":\"white\",\"ticks\":\"\"},\"caxis\":{\"gridcolor\":\"white\",\"linecolor\":\"white\",\"ticks\":\"\"}},\"coloraxis\":{\"colorbar\":{\"outlinewidth\":0,\"ticks\":\"\"}},\"colorscale\":{\"sequential\":[[0.0,\"#0d0887\"],[0.1111111111111111,\"#46039f\"],[0.2222222222222222,\"#7201a8\"],[0.3333333333333333,\"#9c179e\"],[0.4444444444444444,\"#bd3786\"],[0.5555555555555556,\"#d8576b\"],[0.6666666666666666,\"#ed7953\"],[0.7777777777777778,\"#fb9f3a\"],[0.8888888888888888,\"#fdca26\"],[1.0,\"#f0f921\"]],\"sequentialminus\":[[0.0,\"#0d0887\"],[0.1111111111111111,\"#46039f\"],[0.2222222222222222,\"#7201a8\"],[0.3333333333333333,\"#9c179e\"],[0.4444444444444444,\"#bd3786\"],[0.5555555555555556,\"#d8576b\"],[0.6666666666666666,\"#ed7953\"],[0.7777777777777778,\"#fb9f3a\"],[0.8888888888888888,\"#fdca26\"],[1.0,\"#f0f921\"]],\"diverging\":[[0,\"#8e0152\"],[0.1,\"#c51b7d\"],[0.2,\"#de77ae\"],[0.3,\"#f1b6da\"],[0.4,\"#fde0ef\"],[0.5,\"#f7f7f7\"],[0.6,\"#e6f5d0\"],[0.7,\"#b8e186\"],[0.8,\"#7fbc41\"],[0.9,\"#4d9221\"],[1,\"#276419\"]]},\"xaxis\":{\"gridcolor\":\"white\",\"linecolor\":\"white\",\"ticks\":\"\",\"title\":{\"standoff\":15},\"zerolinecolor\":\"white\",\"automargin\":true,\"zerolinewidth\":2},\"yaxis\":{\"gridcolor\":\"white\",\"linecolor\":\"white\",\"ticks\":\"\",\"title\":{\"standoff\":15},\"zerolinecolor\":\"white\",\"automargin\":true,\"zerolinewidth\":2},\"scene\":{\"xaxis\":{\"backgroundcolor\":\"#E5ECF6\",\"gridcolor\":\"white\",\"linecolor\":\"white\",\"showbackground\":true,\"ticks\":\"\",\"zerolinecolor\":\"white\",\"gridwidth\":2},\"yaxis\":{\"backgroundcolor\":\"#E5ECF6\",\"gridcolor\":\"white\",\"linecolor\":\"white\",\"showbackground\":true,\"ticks\":\"\",\"zerolinecolor\":\"white\",\"gridwidth\":2},\"zaxis\":{\"backgroundcolor\":\"#E5ECF6\",\"gridcolor\":\"white\",\"linecolor\":\"white\",\"showbackground\":true,\"ticks\":\"\",\"zerolinecolor\":\"white\",\"gridwidth\":2}},\"shapedefaults\":{\"line\":{\"color\":\"#2a3f5f\"}},\"annotationdefaults\":{\"arrowcolor\":\"#2a3f5f\",\"arrowhead\":0,\"arrowwidth\":1},\"geo\":{\"bgcolor\":\"white\",\"landcolor\":\"#E5ECF6\",\"subunitcolor\":\"white\",\"showland\":true,\"showlakes\":true,\"lakecolor\":\"white\"},\"title\":{\"x\":0.05},\"mapbox\":{\"style\":\"light\"}}},\"xaxis\":{\"anchor\":\"y\",\"domain\":[0.0,1.0]},\"yaxis\":{\"anchor\":\"x\",\"domain\":[0.0,1.0],\"title\":{\"text\":\"reading score\"}},\"legend\":{\"tracegroupgap\":0},\"margin\":{\"t\":60},\"boxmode\":\"group\"},                        {\"responsive\": true}                    ).then(function(){\n",
       "                            \n",
       "var gd = document.getElementById('4d0b2436-35e5-4f52-9ac1-4a4acc768079');\n",
       "var x = new MutationObserver(function (mutations, observer) {{\n",
       "        var display = window.getComputedStyle(gd).display;\n",
       "        if (!display || display === 'none') {{\n",
       "            console.log([gd, 'removed!']);\n",
       "            Plotly.purge(gd);\n",
       "            observer.disconnect();\n",
       "        }}\n",
       "}});\n",
       "\n",
       "// Listen for the removal of the full notebook cells\n",
       "var notebookContainer = gd.closest('#notebook-container');\n",
       "if (notebookContainer) {{\n",
       "    x.observe(notebookContainer, {childList: true});\n",
       "}}\n",
       "\n",
       "// Listen for the clearing of the current output cell\n",
       "var outputEl = gd.closest('.output');\n",
       "if (outputEl) {{\n",
       "    x.observe(outputEl, {childList: true});\n",
       "}}\n",
       "\n",
       "                        })                };                });            </script>        </div>"
      ]
     },
     "metadata": {},
     "output_type": "display_data"
    },
    {
     "data": {
      "application/vnd.plotly.v1+json": {
       "config": {
        "plotlyServerURL": "https://plot.ly"
       },
       "data": [
        {
         "alignmentgroup": "True",
         "hovertemplate": "writing score=%{y}<extra></extra>",
         "legendgroup": "",
         "marker": {
          "color": "#636efa"
         },
         "name": "",
         "notched": false,
         "offsetgroup": "",
         "orientation": "v",
         "showlegend": false,
         "type": "box",
         "x0": " ",
         "xaxis": "x",
         "y": [
          74,
          88,
          93,
          44,
          75,
          78,
          92,
          39,
          67,
          50,
          52,
          43,
          73,
          70,
          58,
          78,
          86,
          28,
          46,
          61,
          63,
          70,
          53,
          73,
          80,
          72,
          55,
          75,
          65,
          75,
          74,
          61,
          65,
          38,
          82,
          79,
          83,
          59,
          88,
          57,
          54,
          68,
          65,
          66,
          54,
          57,
          62,
          76,
          76,
          82,
          48,
          68,
          42,
          75,
          87,
          43,
          86,
          49,
          58,
          10,
          72,
          34,
          55,
          71,
          59,
          61,
          37,
          74,
          56,
          57,
          73,
          63,
          48,
          56,
          41,
          38,
          22,
          81,
          72,
          68,
          50,
          45,
          54,
          63,
          34,
          82,
          88,
          74,
          67,
          82,
          74,
          36,
          71,
          50,
          92,
          82,
          62,
          70,
          62,
          62,
          67,
          74,
          89,
          47,
          90,
          72,
          100,
          64,
          70,
          72,
          98,
          49,
          47,
          54,
          100,
          74,
          82,
          79,
          61,
          65,
          89,
          92,
          93,
          56,
          73,
          86,
          67,
          74,
          74,
          51,
          82,
          40,
          70,
          84,
          75,
          48,
          41,
          56,
          67,
          69,
          71,
          64,
          54,
          47,
          78,
          33,
          75,
          66,
          81,
          93,
          69,
          68,
          66,
          47,
          61,
          88,
          78,
          60,
          87,
          64,
          74,
          85,
          52,
          49,
          91,
          100,
          51,
          78,
          78,
          70,
          74,
          78,
          81,
          70,
          54,
          87,
          58,
          77,
          62,
          100,
          75,
          66,
          47,
          70,
          49,
          65,
          65,
          68,
          45,
          87,
          69,
          79,
          66,
          62,
          85,
          52,
          65,
          51,
          55,
          76,
          86,
          77,
          69,
          68,
          42,
          78,
          62,
          76,
          76,
          66,
          79,
          27,
          60,
          56,
          81,
          75,
          88,
          39,
          70,
          56,
          74,
          73,
          62,
          75,
          73,
          54,
          71,
          54,
          64,
          94,
          66,
          42,
          83,
          78,
          84,
          77,
          67,
          74,
          51,
          80,
          66,
          83,
          55,
          43,
          69,
          71,
          74,
          68,
          62,
          53,
          49,
          83,
          70,
          72,
          52,
          70,
          68,
          77,
          78,
          81,
          77,
          78,
          51,
          90,
          68,
          41,
          81,
          77,
          95,
          70,
          61,
          42,
          58,
          71,
          76,
          73,
          93,
          75,
          80,
          57,
          42,
          46,
          84,
          78,
          46,
          82,
          88,
          82,
          76,
          77,
          68,
          70,
          57,
          75,
          80,
          60,
          43,
          68,
          50,
          75,
          81,
          52,
          81,
          64,
          83,
          69,
          81,
          44,
          67,
          52,
          80,
          57,
          68,
          69,
          75,
          65,
          91,
          78,
          69,
          63,
          84,
          79,
          80,
          53,
          43,
          94,
          62,
          19,
          77,
          51,
          61,
          35,
          53,
          81,
          95,
          66,
          69,
          43,
          27,
          60,
          52,
          63,
          74,
          67,
          67,
          75,
          57,
          95,
          66,
          76,
          69,
          52,
          80,
          57,
          70,
          70,
          61,
          69,
          61,
          89,
          59,
          78,
          58,
          32,
          58,
          60,
          53,
          61,
          58,
          85,
          71,
          70,
          72,
          96,
          73,
          41,
          82,
          100,
          77,
          62,
          83,
          95,
          71,
          45,
          43,
          75,
          70,
          67,
          64,
          75,
          59,
          77,
          67,
          56,
          77,
          41,
          63,
          95,
          57,
          54,
          67,
          43,
          55,
          100,
          62,
          68,
          63,
          77,
          56,
          85,
          74,
          78,
          60,
          67,
          79,
          69,
          68,
          67,
          62,
          54,
          93,
          64,
          67,
          80,
          34,
          62,
          86,
          65,
          53,
          54,
          59,
          70,
          55,
          50,
          66,
          53,
          64,
          73,
          51,
          82,
          79,
          80,
          69,
          76,
          73,
          77,
          60,
          80,
          42,
          72,
          85,
          97,
          74,
          49,
          62,
          47,
          89,
          48,
          100,
          68,
          55,
          45,
          76,
          91,
          62,
          91,
          38,
          65,
          85,
          76,
          90,
          74,
          84,
          61,
          91,
          83,
          66,
          72,
          70,
          67,
          68,
          56,
          61,
          46,
          54,
          71,
          56,
          74,
          57,
          82,
          76,
          70,
          90,
          90,
          68,
          66,
          52,
          76,
          68,
          72,
          82,
          92,
          54,
          92,
          54,
          80,
          66,
          54,
          77,
          87,
          73,
          43,
          52,
          62,
          94,
          85,
          84,
          73,
          78,
          79,
          52,
          84,
          57,
          50,
          49,
          59,
          60,
          43,
          47,
          70,
          73,
          53,
          58,
          94,
          68,
          83,
          58,
          62,
          71,
          86,
          68,
          80,
          79,
          89,
          66,
          80,
          97,
          64,
          64,
          69,
          65,
          88,
          50,
          64,
          40,
          33,
          79,
          66,
          70,
          62,
          79,
          74,
          92,
          80,
          46,
          45,
          100,
          78,
          47,
          67,
          70,
          92,
          56,
          64,
          71,
          53,
          52,
          89,
          58,
          68,
          96,
          80,
          78,
          80,
          77,
          76,
          73,
          62,
          65,
          65,
          54,
          50,
          64,
          73,
          99,
          72,
          15,
          48,
          73,
          81,
          63,
          30,
          80,
          51,
          90,
          62,
          82,
          54,
          62,
          65,
          63,
          66,
          91,
          74,
          93,
          72,
          38,
          83,
          84,
          68,
          54,
          56,
          52,
          86,
          62,
          99,
          63,
          46,
          46,
          55,
          70,
          65,
          81,
          85,
          80,
          64,
          81,
          88,
          74,
          73,
          51,
          90,
          79,
          80,
          60,
          81,
          65,
          68,
          55,
          81,
          53,
          76,
          98,
          74,
          79,
          67,
          64,
          61,
          58,
          85,
          73,
          63,
          69,
          67,
          63,
          60,
          71,
          87,
          61,
          77,
          68,
          50,
          76,
          84,
          78,
          66,
          76,
          76,
          78,
          60,
          74,
          60,
          54,
          44,
          68,
          100,
          68,
          73,
          44,
          83,
          53,
          78,
          81,
          73,
          56,
          86,
          90,
          70,
          79,
          59,
          82,
          72,
          87,
          67,
          64,
          65,
          36,
          52,
          79,
          58,
          90,
          85,
          99,
          84,
          74,
          87,
          72,
          99,
          74,
          80,
          70,
          59,
          88,
          42,
          41,
          71,
          77,
          57,
          84,
          37,
          80,
          43,
          94,
          44,
          57,
          59,
          84,
          73,
          73,
          55,
          72,
          56,
          82,
          72,
          47,
          74,
          71,
          68,
          59,
          86,
          68,
          65,
          75,
          85,
          53,
          92,
          52,
          72,
          65,
          77,
          64,
          54,
          86,
          63,
          59,
          72,
          77,
          60,
          75,
          57,
          49,
          74,
          72,
          79,
          60,
          55,
          70,
          43,
          82,
          82,
          57,
          84,
          82,
          62,
          79,
          44,
          77,
          32,
          61,
          61,
          60,
          70,
          69,
          77,
          51,
          73,
          70,
          81,
          54,
          57,
          68,
          73,
          95,
          87,
          78,
          74,
          75,
          40,
          69,
          51,
          36,
          49,
          67,
          76,
          83,
          87,
          64,
          76,
          68,
          88,
          92,
          93,
          51,
          82,
          52,
          58,
          70,
          76,
          81,
          53,
          57,
          89,
          58,
          89,
          45,
          74,
          57,
          79,
          53,
          73,
          46,
          51,
          36,
          76,
          64,
          84,
          85,
          50,
          68,
          69,
          67,
          63,
          93,
          61,
          55,
          96,
          65,
          81,
          46,
          72,
          53,
          87,
          38,
          80,
          91,
          88,
          52,
          41,
          72,
          51,
          47,
          76,
          78,
          82,
          61,
          66,
          84,
          54,
          80,
          74,
          66,
          70,
          71,
          44,
          54,
          80,
          95,
          59,
          74,
          48,
          91,
          85,
          73,
          75,
          69,
          38,
          27,
          79,
          63,
          82,
          89,
          74,
          41,
          100,
          84,
          77,
          51,
          91,
          72,
          70,
          48,
          82,
          66,
          66,
          55,
          66,
          100,
          52,
          80,
          91,
          67,
          46,
          66,
          65,
          69,
          60,
          52,
          71,
          44,
          51,
          70,
          62,
          73,
          74,
          90,
          58,
          53,
          57,
          85,
          69,
          72,
          96,
          64,
          61,
          61,
          58,
          80,
          60,
          52,
          73,
          71,
          83,
          72,
          54,
          69,
          62,
          81,
          100,
          59,
          71,
          64,
          53,
          100,
          75,
          58,
          72,
          64,
          60,
          67,
          80,
          100,
          69,
          60,
          61,
          67,
          77,
          60,
          58,
          48,
          94,
          23,
          78,
          86,
          91,
          82,
          54,
          51,
          76,
          45,
          83,
          75,
          78,
          76,
          74,
          62,
          95,
          55,
          65,
          77,
          86
         ],
         "y0": " ",
         "yaxis": "y"
        }
       ],
       "layout": {
        "boxmode": "group",
        "legend": {
         "tracegroupgap": 0
        },
        "margin": {
         "t": 60
        },
        "template": {
         "data": {
          "bar": [
           {
            "error_x": {
             "color": "#2a3f5f"
            },
            "error_y": {
             "color": "#2a3f5f"
            },
            "marker": {
             "line": {
              "color": "#E5ECF6",
              "width": 0.5
             },
             "pattern": {
              "fillmode": "overlay",
              "size": 10,
              "solidity": 0.2
             }
            },
            "type": "bar"
           }
          ],
          "barpolar": [
           {
            "marker": {
             "line": {
              "color": "#E5ECF6",
              "width": 0.5
             },
             "pattern": {
              "fillmode": "overlay",
              "size": 10,
              "solidity": 0.2
             }
            },
            "type": "barpolar"
           }
          ],
          "carpet": [
           {
            "aaxis": {
             "endlinecolor": "#2a3f5f",
             "gridcolor": "white",
             "linecolor": "white",
             "minorgridcolor": "white",
             "startlinecolor": "#2a3f5f"
            },
            "baxis": {
             "endlinecolor": "#2a3f5f",
             "gridcolor": "white",
             "linecolor": "white",
             "minorgridcolor": "white",
             "startlinecolor": "#2a3f5f"
            },
            "type": "carpet"
           }
          ],
          "choropleth": [
           {
            "colorbar": {
             "outlinewidth": 0,
             "ticks": ""
            },
            "type": "choropleth"
           }
          ],
          "contour": [
           {
            "colorbar": {
             "outlinewidth": 0,
             "ticks": ""
            },
            "colorscale": [
             [
              0,
              "#0d0887"
             ],
             [
              0.1111111111111111,
              "#46039f"
             ],
             [
              0.2222222222222222,
              "#7201a8"
             ],
             [
              0.3333333333333333,
              "#9c179e"
             ],
             [
              0.4444444444444444,
              "#bd3786"
             ],
             [
              0.5555555555555556,
              "#d8576b"
             ],
             [
              0.6666666666666666,
              "#ed7953"
             ],
             [
              0.7777777777777778,
              "#fb9f3a"
             ],
             [
              0.8888888888888888,
              "#fdca26"
             ],
             [
              1,
              "#f0f921"
             ]
            ],
            "type": "contour"
           }
          ],
          "contourcarpet": [
           {
            "colorbar": {
             "outlinewidth": 0,
             "ticks": ""
            },
            "type": "contourcarpet"
           }
          ],
          "heatmap": [
           {
            "colorbar": {
             "outlinewidth": 0,
             "ticks": ""
            },
            "colorscale": [
             [
              0,
              "#0d0887"
             ],
             [
              0.1111111111111111,
              "#46039f"
             ],
             [
              0.2222222222222222,
              "#7201a8"
             ],
             [
              0.3333333333333333,
              "#9c179e"
             ],
             [
              0.4444444444444444,
              "#bd3786"
             ],
             [
              0.5555555555555556,
              "#d8576b"
             ],
             [
              0.6666666666666666,
              "#ed7953"
             ],
             [
              0.7777777777777778,
              "#fb9f3a"
             ],
             [
              0.8888888888888888,
              "#fdca26"
             ],
             [
              1,
              "#f0f921"
             ]
            ],
            "type": "heatmap"
           }
          ],
          "heatmapgl": [
           {
            "colorbar": {
             "outlinewidth": 0,
             "ticks": ""
            },
            "colorscale": [
             [
              0,
              "#0d0887"
             ],
             [
              0.1111111111111111,
              "#46039f"
             ],
             [
              0.2222222222222222,
              "#7201a8"
             ],
             [
              0.3333333333333333,
              "#9c179e"
             ],
             [
              0.4444444444444444,
              "#bd3786"
             ],
             [
              0.5555555555555556,
              "#d8576b"
             ],
             [
              0.6666666666666666,
              "#ed7953"
             ],
             [
              0.7777777777777778,
              "#fb9f3a"
             ],
             [
              0.8888888888888888,
              "#fdca26"
             ],
             [
              1,
              "#f0f921"
             ]
            ],
            "type": "heatmapgl"
           }
          ],
          "histogram": [
           {
            "marker": {
             "pattern": {
              "fillmode": "overlay",
              "size": 10,
              "solidity": 0.2
             }
            },
            "type": "histogram"
           }
          ],
          "histogram2d": [
           {
            "colorbar": {
             "outlinewidth": 0,
             "ticks": ""
            },
            "colorscale": [
             [
              0,
              "#0d0887"
             ],
             [
              0.1111111111111111,
              "#46039f"
             ],
             [
              0.2222222222222222,
              "#7201a8"
             ],
             [
              0.3333333333333333,
              "#9c179e"
             ],
             [
              0.4444444444444444,
              "#bd3786"
             ],
             [
              0.5555555555555556,
              "#d8576b"
             ],
             [
              0.6666666666666666,
              "#ed7953"
             ],
             [
              0.7777777777777778,
              "#fb9f3a"
             ],
             [
              0.8888888888888888,
              "#fdca26"
             ],
             [
              1,
              "#f0f921"
             ]
            ],
            "type": "histogram2d"
           }
          ],
          "histogram2dcontour": [
           {
            "colorbar": {
             "outlinewidth": 0,
             "ticks": ""
            },
            "colorscale": [
             [
              0,
              "#0d0887"
             ],
             [
              0.1111111111111111,
              "#46039f"
             ],
             [
              0.2222222222222222,
              "#7201a8"
             ],
             [
              0.3333333333333333,
              "#9c179e"
             ],
             [
              0.4444444444444444,
              "#bd3786"
             ],
             [
              0.5555555555555556,
              "#d8576b"
             ],
             [
              0.6666666666666666,
              "#ed7953"
             ],
             [
              0.7777777777777778,
              "#fb9f3a"
             ],
             [
              0.8888888888888888,
              "#fdca26"
             ],
             [
              1,
              "#f0f921"
             ]
            ],
            "type": "histogram2dcontour"
           }
          ],
          "mesh3d": [
           {
            "colorbar": {
             "outlinewidth": 0,
             "ticks": ""
            },
            "type": "mesh3d"
           }
          ],
          "parcoords": [
           {
            "line": {
             "colorbar": {
              "outlinewidth": 0,
              "ticks": ""
             }
            },
            "type": "parcoords"
           }
          ],
          "pie": [
           {
            "automargin": true,
            "type": "pie"
           }
          ],
          "scatter": [
           {
            "fillpattern": {
             "fillmode": "overlay",
             "size": 10,
             "solidity": 0.2
            },
            "type": "scatter"
           }
          ],
          "scatter3d": [
           {
            "line": {
             "colorbar": {
              "outlinewidth": 0,
              "ticks": ""
             }
            },
            "marker": {
             "colorbar": {
              "outlinewidth": 0,
              "ticks": ""
             }
            },
            "type": "scatter3d"
           }
          ],
          "scattercarpet": [
           {
            "marker": {
             "colorbar": {
              "outlinewidth": 0,
              "ticks": ""
             }
            },
            "type": "scattercarpet"
           }
          ],
          "scattergeo": [
           {
            "marker": {
             "colorbar": {
              "outlinewidth": 0,
              "ticks": ""
             }
            },
            "type": "scattergeo"
           }
          ],
          "scattergl": [
           {
            "marker": {
             "colorbar": {
              "outlinewidth": 0,
              "ticks": ""
             }
            },
            "type": "scattergl"
           }
          ],
          "scattermapbox": [
           {
            "marker": {
             "colorbar": {
              "outlinewidth": 0,
              "ticks": ""
             }
            },
            "type": "scattermapbox"
           }
          ],
          "scatterpolar": [
           {
            "marker": {
             "colorbar": {
              "outlinewidth": 0,
              "ticks": ""
             }
            },
            "type": "scatterpolar"
           }
          ],
          "scatterpolargl": [
           {
            "marker": {
             "colorbar": {
              "outlinewidth": 0,
              "ticks": ""
             }
            },
            "type": "scatterpolargl"
           }
          ],
          "scatterternary": [
           {
            "marker": {
             "colorbar": {
              "outlinewidth": 0,
              "ticks": ""
             }
            },
            "type": "scatterternary"
           }
          ],
          "surface": [
           {
            "colorbar": {
             "outlinewidth": 0,
             "ticks": ""
            },
            "colorscale": [
             [
              0,
              "#0d0887"
             ],
             [
              0.1111111111111111,
              "#46039f"
             ],
             [
              0.2222222222222222,
              "#7201a8"
             ],
             [
              0.3333333333333333,
              "#9c179e"
             ],
             [
              0.4444444444444444,
              "#bd3786"
             ],
             [
              0.5555555555555556,
              "#d8576b"
             ],
             [
              0.6666666666666666,
              "#ed7953"
             ],
             [
              0.7777777777777778,
              "#fb9f3a"
             ],
             [
              0.8888888888888888,
              "#fdca26"
             ],
             [
              1,
              "#f0f921"
             ]
            ],
            "type": "surface"
           }
          ],
          "table": [
           {
            "cells": {
             "fill": {
              "color": "#EBF0F8"
             },
             "line": {
              "color": "white"
             }
            },
            "header": {
             "fill": {
              "color": "#C8D4E3"
             },
             "line": {
              "color": "white"
             }
            },
            "type": "table"
           }
          ]
         },
         "layout": {
          "annotationdefaults": {
           "arrowcolor": "#2a3f5f",
           "arrowhead": 0,
           "arrowwidth": 1
          },
          "autotypenumbers": "strict",
          "coloraxis": {
           "colorbar": {
            "outlinewidth": 0,
            "ticks": ""
           }
          },
          "colorscale": {
           "diverging": [
            [
             0,
             "#8e0152"
            ],
            [
             0.1,
             "#c51b7d"
            ],
            [
             0.2,
             "#de77ae"
            ],
            [
             0.3,
             "#f1b6da"
            ],
            [
             0.4,
             "#fde0ef"
            ],
            [
             0.5,
             "#f7f7f7"
            ],
            [
             0.6,
             "#e6f5d0"
            ],
            [
             0.7,
             "#b8e186"
            ],
            [
             0.8,
             "#7fbc41"
            ],
            [
             0.9,
             "#4d9221"
            ],
            [
             1,
             "#276419"
            ]
           ],
           "sequential": [
            [
             0,
             "#0d0887"
            ],
            [
             0.1111111111111111,
             "#46039f"
            ],
            [
             0.2222222222222222,
             "#7201a8"
            ],
            [
             0.3333333333333333,
             "#9c179e"
            ],
            [
             0.4444444444444444,
             "#bd3786"
            ],
            [
             0.5555555555555556,
             "#d8576b"
            ],
            [
             0.6666666666666666,
             "#ed7953"
            ],
            [
             0.7777777777777778,
             "#fb9f3a"
            ],
            [
             0.8888888888888888,
             "#fdca26"
            ],
            [
             1,
             "#f0f921"
            ]
           ],
           "sequentialminus": [
            [
             0,
             "#0d0887"
            ],
            [
             0.1111111111111111,
             "#46039f"
            ],
            [
             0.2222222222222222,
             "#7201a8"
            ],
            [
             0.3333333333333333,
             "#9c179e"
            ],
            [
             0.4444444444444444,
             "#bd3786"
            ],
            [
             0.5555555555555556,
             "#d8576b"
            ],
            [
             0.6666666666666666,
             "#ed7953"
            ],
            [
             0.7777777777777778,
             "#fb9f3a"
            ],
            [
             0.8888888888888888,
             "#fdca26"
            ],
            [
             1,
             "#f0f921"
            ]
           ]
          },
          "colorway": [
           "#636efa",
           "#EF553B",
           "#00cc96",
           "#ab63fa",
           "#FFA15A",
           "#19d3f3",
           "#FF6692",
           "#B6E880",
           "#FF97FF",
           "#FECB52"
          ],
          "font": {
           "color": "#2a3f5f"
          },
          "geo": {
           "bgcolor": "white",
           "lakecolor": "white",
           "landcolor": "#E5ECF6",
           "showlakes": true,
           "showland": true,
           "subunitcolor": "white"
          },
          "hoverlabel": {
           "align": "left"
          },
          "hovermode": "closest",
          "mapbox": {
           "style": "light"
          },
          "paper_bgcolor": "white",
          "plot_bgcolor": "#E5ECF6",
          "polar": {
           "angularaxis": {
            "gridcolor": "white",
            "linecolor": "white",
            "ticks": ""
           },
           "bgcolor": "#E5ECF6",
           "radialaxis": {
            "gridcolor": "white",
            "linecolor": "white",
            "ticks": ""
           }
          },
          "scene": {
           "xaxis": {
            "backgroundcolor": "#E5ECF6",
            "gridcolor": "white",
            "gridwidth": 2,
            "linecolor": "white",
            "showbackground": true,
            "ticks": "",
            "zerolinecolor": "white"
           },
           "yaxis": {
            "backgroundcolor": "#E5ECF6",
            "gridcolor": "white",
            "gridwidth": 2,
            "linecolor": "white",
            "showbackground": true,
            "ticks": "",
            "zerolinecolor": "white"
           },
           "zaxis": {
            "backgroundcolor": "#E5ECF6",
            "gridcolor": "white",
            "gridwidth": 2,
            "linecolor": "white",
            "showbackground": true,
            "ticks": "",
            "zerolinecolor": "white"
           }
          },
          "shapedefaults": {
           "line": {
            "color": "#2a3f5f"
           }
          },
          "ternary": {
           "aaxis": {
            "gridcolor": "white",
            "linecolor": "white",
            "ticks": ""
           },
           "baxis": {
            "gridcolor": "white",
            "linecolor": "white",
            "ticks": ""
           },
           "bgcolor": "#E5ECF6",
           "caxis": {
            "gridcolor": "white",
            "linecolor": "white",
            "ticks": ""
           }
          },
          "title": {
           "x": 0.05
          },
          "xaxis": {
           "automargin": true,
           "gridcolor": "white",
           "linecolor": "white",
           "ticks": "",
           "title": {
            "standoff": 15
           },
           "zerolinecolor": "white",
           "zerolinewidth": 2
          },
          "yaxis": {
           "automargin": true,
           "gridcolor": "white",
           "linecolor": "white",
           "ticks": "",
           "title": {
            "standoff": 15
           },
           "zerolinecolor": "white",
           "zerolinewidth": 2
          }
         }
        },
        "xaxis": {
         "anchor": "y",
         "domain": [
          0,
          1
         ]
        },
        "yaxis": {
         "anchor": "x",
         "domain": [
          0,
          1
         ],
         "title": {
          "text": "writing score"
         }
        }
       }
      },
      "text/html": [
       "<div>                            <div id=\"7242ea6f-6dd8-443b-a57b-ec9ec15592ee\" class=\"plotly-graph-div\" style=\"height:525px; width:100%;\"></div>            <script type=\"text/javascript\">                require([\"plotly\"], function(Plotly) {                    window.PLOTLYENV=window.PLOTLYENV || {};                                    if (document.getElementById(\"7242ea6f-6dd8-443b-a57b-ec9ec15592ee\")) {                    Plotly.newPlot(                        \"7242ea6f-6dd8-443b-a57b-ec9ec15592ee\",                        [{\"alignmentgroup\":\"True\",\"hovertemplate\":\"writing score=%{y}<extra></extra>\",\"legendgroup\":\"\",\"marker\":{\"color\":\"#636efa\"},\"name\":\"\",\"notched\":false,\"offsetgroup\":\"\",\"orientation\":\"v\",\"showlegend\":false,\"x0\":\" \",\"xaxis\":\"x\",\"y\":[74,88,93,44,75,78,92,39,67,50,52,43,73,70,58,78,86,28,46,61,63,70,53,73,80,72,55,75,65,75,74,61,65,38,82,79,83,59,88,57,54,68,65,66,54,57,62,76,76,82,48,68,42,75,87,43,86,49,58,10,72,34,55,71,59,61,37,74,56,57,73,63,48,56,41,38,22,81,72,68,50,45,54,63,34,82,88,74,67,82,74,36,71,50,92,82,62,70,62,62,67,74,89,47,90,72,100,64,70,72,98,49,47,54,100,74,82,79,61,65,89,92,93,56,73,86,67,74,74,51,82,40,70,84,75,48,41,56,67,69,71,64,54,47,78,33,75,66,81,93,69,68,66,47,61,88,78,60,87,64,74,85,52,49,91,100,51,78,78,70,74,78,81,70,54,87,58,77,62,100,75,66,47,70,49,65,65,68,45,87,69,79,66,62,85,52,65,51,55,76,86,77,69,68,42,78,62,76,76,66,79,27,60,56,81,75,88,39,70,56,74,73,62,75,73,54,71,54,64,94,66,42,83,78,84,77,67,74,51,80,66,83,55,43,69,71,74,68,62,53,49,83,70,72,52,70,68,77,78,81,77,78,51,90,68,41,81,77,95,70,61,42,58,71,76,73,93,75,80,57,42,46,84,78,46,82,88,82,76,77,68,70,57,75,80,60,43,68,50,75,81,52,81,64,83,69,81,44,67,52,80,57,68,69,75,65,91,78,69,63,84,79,80,53,43,94,62,19,77,51,61,35,53,81,95,66,69,43,27,60,52,63,74,67,67,75,57,95,66,76,69,52,80,57,70,70,61,69,61,89,59,78,58,32,58,60,53,61,58,85,71,70,72,96,73,41,82,100,77,62,83,95,71,45,43,75,70,67,64,75,59,77,67,56,77,41,63,95,57,54,67,43,55,100,62,68,63,77,56,85,74,78,60,67,79,69,68,67,62,54,93,64,67,80,34,62,86,65,53,54,59,70,55,50,66,53,64,73,51,82,79,80,69,76,73,77,60,80,42,72,85,97,74,49,62,47,89,48,100,68,55,45,76,91,62,91,38,65,85,76,90,74,84,61,91,83,66,72,70,67,68,56,61,46,54,71,56,74,57,82,76,70,90,90,68,66,52,76,68,72,82,92,54,92,54,80,66,54,77,87,73,43,52,62,94,85,84,73,78,79,52,84,57,50,49,59,60,43,47,70,73,53,58,94,68,83,58,62,71,86,68,80,79,89,66,80,97,64,64,69,65,88,50,64,40,33,79,66,70,62,79,74,92,80,46,45,100,78,47,67,70,92,56,64,71,53,52,89,58,68,96,80,78,80,77,76,73,62,65,65,54,50,64,73,99,72,15,48,73,81,63,30,80,51,90,62,82,54,62,65,63,66,91,74,93,72,38,83,84,68,54,56,52,86,62,99,63,46,46,55,70,65,81,85,80,64,81,88,74,73,51,90,79,80,60,81,65,68,55,81,53,76,98,74,79,67,64,61,58,85,73,63,69,67,63,60,71,87,61,77,68,50,76,84,78,66,76,76,78,60,74,60,54,44,68,100,68,73,44,83,53,78,81,73,56,86,90,70,79,59,82,72,87,67,64,65,36,52,79,58,90,85,99,84,74,87,72,99,74,80,70,59,88,42,41,71,77,57,84,37,80,43,94,44,57,59,84,73,73,55,72,56,82,72,47,74,71,68,59,86,68,65,75,85,53,92,52,72,65,77,64,54,86,63,59,72,77,60,75,57,49,74,72,79,60,55,70,43,82,82,57,84,82,62,79,44,77,32,61,61,60,70,69,77,51,73,70,81,54,57,68,73,95,87,78,74,75,40,69,51,36,49,67,76,83,87,64,76,68,88,92,93,51,82,52,58,70,76,81,53,57,89,58,89,45,74,57,79,53,73,46,51,36,76,64,84,85,50,68,69,67,63,93,61,55,96,65,81,46,72,53,87,38,80,91,88,52,41,72,51,47,76,78,82,61,66,84,54,80,74,66,70,71,44,54,80,95,59,74,48,91,85,73,75,69,38,27,79,63,82,89,74,41,100,84,77,51,91,72,70,48,82,66,66,55,66,100,52,80,91,67,46,66,65,69,60,52,71,44,51,70,62,73,74,90,58,53,57,85,69,72,96,64,61,61,58,80,60,52,73,71,83,72,54,69,62,81,100,59,71,64,53,100,75,58,72,64,60,67,80,100,69,60,61,67,77,60,58,48,94,23,78,86,91,82,54,51,76,45,83,75,78,76,74,62,95,55,65,77,86],\"y0\":\" \",\"yaxis\":\"y\",\"type\":\"box\"}],                        {\"template\":{\"data\":{\"histogram2dcontour\":[{\"type\":\"histogram2dcontour\",\"colorbar\":{\"outlinewidth\":0,\"ticks\":\"\"},\"colorscale\":[[0.0,\"#0d0887\"],[0.1111111111111111,\"#46039f\"],[0.2222222222222222,\"#7201a8\"],[0.3333333333333333,\"#9c179e\"],[0.4444444444444444,\"#bd3786\"],[0.5555555555555556,\"#d8576b\"],[0.6666666666666666,\"#ed7953\"],[0.7777777777777778,\"#fb9f3a\"],[0.8888888888888888,\"#fdca26\"],[1.0,\"#f0f921\"]]}],\"choropleth\":[{\"type\":\"choropleth\",\"colorbar\":{\"outlinewidth\":0,\"ticks\":\"\"}}],\"histogram2d\":[{\"type\":\"histogram2d\",\"colorbar\":{\"outlinewidth\":0,\"ticks\":\"\"},\"colorscale\":[[0.0,\"#0d0887\"],[0.1111111111111111,\"#46039f\"],[0.2222222222222222,\"#7201a8\"],[0.3333333333333333,\"#9c179e\"],[0.4444444444444444,\"#bd3786\"],[0.5555555555555556,\"#d8576b\"],[0.6666666666666666,\"#ed7953\"],[0.7777777777777778,\"#fb9f3a\"],[0.8888888888888888,\"#fdca26\"],[1.0,\"#f0f921\"]]}],\"heatmap\":[{\"type\":\"heatmap\",\"colorbar\":{\"outlinewidth\":0,\"ticks\":\"\"},\"colorscale\":[[0.0,\"#0d0887\"],[0.1111111111111111,\"#46039f\"],[0.2222222222222222,\"#7201a8\"],[0.3333333333333333,\"#9c179e\"],[0.4444444444444444,\"#bd3786\"],[0.5555555555555556,\"#d8576b\"],[0.6666666666666666,\"#ed7953\"],[0.7777777777777778,\"#fb9f3a\"],[0.8888888888888888,\"#fdca26\"],[1.0,\"#f0f921\"]]}],\"heatmapgl\":[{\"type\":\"heatmapgl\",\"colorbar\":{\"outlinewidth\":0,\"ticks\":\"\"},\"colorscale\":[[0.0,\"#0d0887\"],[0.1111111111111111,\"#46039f\"],[0.2222222222222222,\"#7201a8\"],[0.3333333333333333,\"#9c179e\"],[0.4444444444444444,\"#bd3786\"],[0.5555555555555556,\"#d8576b\"],[0.6666666666666666,\"#ed7953\"],[0.7777777777777778,\"#fb9f3a\"],[0.8888888888888888,\"#fdca26\"],[1.0,\"#f0f921\"]]}],\"contourcarpet\":[{\"type\":\"contourcarpet\",\"colorbar\":{\"outlinewidth\":0,\"ticks\":\"\"}}],\"contour\":[{\"type\":\"contour\",\"colorbar\":{\"outlinewidth\":0,\"ticks\":\"\"},\"colorscale\":[[0.0,\"#0d0887\"],[0.1111111111111111,\"#46039f\"],[0.2222222222222222,\"#7201a8\"],[0.3333333333333333,\"#9c179e\"],[0.4444444444444444,\"#bd3786\"],[0.5555555555555556,\"#d8576b\"],[0.6666666666666666,\"#ed7953\"],[0.7777777777777778,\"#fb9f3a\"],[0.8888888888888888,\"#fdca26\"],[1.0,\"#f0f921\"]]}],\"surface\":[{\"type\":\"surface\",\"colorbar\":{\"outlinewidth\":0,\"ticks\":\"\"},\"colorscale\":[[0.0,\"#0d0887\"],[0.1111111111111111,\"#46039f\"],[0.2222222222222222,\"#7201a8\"],[0.3333333333333333,\"#9c179e\"],[0.4444444444444444,\"#bd3786\"],[0.5555555555555556,\"#d8576b\"],[0.6666666666666666,\"#ed7953\"],[0.7777777777777778,\"#fb9f3a\"],[0.8888888888888888,\"#fdca26\"],[1.0,\"#f0f921\"]]}],\"mesh3d\":[{\"type\":\"mesh3d\",\"colorbar\":{\"outlinewidth\":0,\"ticks\":\"\"}}],\"scatter\":[{\"fillpattern\":{\"fillmode\":\"overlay\",\"size\":10,\"solidity\":0.2},\"type\":\"scatter\"}],\"parcoords\":[{\"type\":\"parcoords\",\"line\":{\"colorbar\":{\"outlinewidth\":0,\"ticks\":\"\"}}}],\"scatterpolargl\":[{\"type\":\"scatterpolargl\",\"marker\":{\"colorbar\":{\"outlinewidth\":0,\"ticks\":\"\"}}}],\"bar\":[{\"error_x\":{\"color\":\"#2a3f5f\"},\"error_y\":{\"color\":\"#2a3f5f\"},\"marker\":{\"line\":{\"color\":\"#E5ECF6\",\"width\":0.5},\"pattern\":{\"fillmode\":\"overlay\",\"size\":10,\"solidity\":0.2}},\"type\":\"bar\"}],\"scattergeo\":[{\"type\":\"scattergeo\",\"marker\":{\"colorbar\":{\"outlinewidth\":0,\"ticks\":\"\"}}}],\"scatterpolar\":[{\"type\":\"scatterpolar\",\"marker\":{\"colorbar\":{\"outlinewidth\":0,\"ticks\":\"\"}}}],\"histogram\":[{\"marker\":{\"pattern\":{\"fillmode\":\"overlay\",\"size\":10,\"solidity\":0.2}},\"type\":\"histogram\"}],\"scattergl\":[{\"type\":\"scattergl\",\"marker\":{\"colorbar\":{\"outlinewidth\":0,\"ticks\":\"\"}}}],\"scatter3d\":[{\"type\":\"scatter3d\",\"line\":{\"colorbar\":{\"outlinewidth\":0,\"ticks\":\"\"}},\"marker\":{\"colorbar\":{\"outlinewidth\":0,\"ticks\":\"\"}}}],\"scattermapbox\":[{\"type\":\"scattermapbox\",\"marker\":{\"colorbar\":{\"outlinewidth\":0,\"ticks\":\"\"}}}],\"scatterternary\":[{\"type\":\"scatterternary\",\"marker\":{\"colorbar\":{\"outlinewidth\":0,\"ticks\":\"\"}}}],\"scattercarpet\":[{\"type\":\"scattercarpet\",\"marker\":{\"colorbar\":{\"outlinewidth\":0,\"ticks\":\"\"}}}],\"carpet\":[{\"aaxis\":{\"endlinecolor\":\"#2a3f5f\",\"gridcolor\":\"white\",\"linecolor\":\"white\",\"minorgridcolor\":\"white\",\"startlinecolor\":\"#2a3f5f\"},\"baxis\":{\"endlinecolor\":\"#2a3f5f\",\"gridcolor\":\"white\",\"linecolor\":\"white\",\"minorgridcolor\":\"white\",\"startlinecolor\":\"#2a3f5f\"},\"type\":\"carpet\"}],\"table\":[{\"cells\":{\"fill\":{\"color\":\"#EBF0F8\"},\"line\":{\"color\":\"white\"}},\"header\":{\"fill\":{\"color\":\"#C8D4E3\"},\"line\":{\"color\":\"white\"}},\"type\":\"table\"}],\"barpolar\":[{\"marker\":{\"line\":{\"color\":\"#E5ECF6\",\"width\":0.5},\"pattern\":{\"fillmode\":\"overlay\",\"size\":10,\"solidity\":0.2}},\"type\":\"barpolar\"}],\"pie\":[{\"automargin\":true,\"type\":\"pie\"}]},\"layout\":{\"autotypenumbers\":\"strict\",\"colorway\":[\"#636efa\",\"#EF553B\",\"#00cc96\",\"#ab63fa\",\"#FFA15A\",\"#19d3f3\",\"#FF6692\",\"#B6E880\",\"#FF97FF\",\"#FECB52\"],\"font\":{\"color\":\"#2a3f5f\"},\"hovermode\":\"closest\",\"hoverlabel\":{\"align\":\"left\"},\"paper_bgcolor\":\"white\",\"plot_bgcolor\":\"#E5ECF6\",\"polar\":{\"bgcolor\":\"#E5ECF6\",\"angularaxis\":{\"gridcolor\":\"white\",\"linecolor\":\"white\",\"ticks\":\"\"},\"radialaxis\":{\"gridcolor\":\"white\",\"linecolor\":\"white\",\"ticks\":\"\"}},\"ternary\":{\"bgcolor\":\"#E5ECF6\",\"aaxis\":{\"gridcolor\":\"white\",\"linecolor\":\"white\",\"ticks\":\"\"},\"baxis\":{\"gridcolor\":\"white\",\"linecolor\":\"white\",\"ticks\":\"\"},\"caxis\":{\"gridcolor\":\"white\",\"linecolor\":\"white\",\"ticks\":\"\"}},\"coloraxis\":{\"colorbar\":{\"outlinewidth\":0,\"ticks\":\"\"}},\"colorscale\":{\"sequential\":[[0.0,\"#0d0887\"],[0.1111111111111111,\"#46039f\"],[0.2222222222222222,\"#7201a8\"],[0.3333333333333333,\"#9c179e\"],[0.4444444444444444,\"#bd3786\"],[0.5555555555555556,\"#d8576b\"],[0.6666666666666666,\"#ed7953\"],[0.7777777777777778,\"#fb9f3a\"],[0.8888888888888888,\"#fdca26\"],[1.0,\"#f0f921\"]],\"sequentialminus\":[[0.0,\"#0d0887\"],[0.1111111111111111,\"#46039f\"],[0.2222222222222222,\"#7201a8\"],[0.3333333333333333,\"#9c179e\"],[0.4444444444444444,\"#bd3786\"],[0.5555555555555556,\"#d8576b\"],[0.6666666666666666,\"#ed7953\"],[0.7777777777777778,\"#fb9f3a\"],[0.8888888888888888,\"#fdca26\"],[1.0,\"#f0f921\"]],\"diverging\":[[0,\"#8e0152\"],[0.1,\"#c51b7d\"],[0.2,\"#de77ae\"],[0.3,\"#f1b6da\"],[0.4,\"#fde0ef\"],[0.5,\"#f7f7f7\"],[0.6,\"#e6f5d0\"],[0.7,\"#b8e186\"],[0.8,\"#7fbc41\"],[0.9,\"#4d9221\"],[1,\"#276419\"]]},\"xaxis\":{\"gridcolor\":\"white\",\"linecolor\":\"white\",\"ticks\":\"\",\"title\":{\"standoff\":15},\"zerolinecolor\":\"white\",\"automargin\":true,\"zerolinewidth\":2},\"yaxis\":{\"gridcolor\":\"white\",\"linecolor\":\"white\",\"ticks\":\"\",\"title\":{\"standoff\":15},\"zerolinecolor\":\"white\",\"automargin\":true,\"zerolinewidth\":2},\"scene\":{\"xaxis\":{\"backgroundcolor\":\"#E5ECF6\",\"gridcolor\":\"white\",\"linecolor\":\"white\",\"showbackground\":true,\"ticks\":\"\",\"zerolinecolor\":\"white\",\"gridwidth\":2},\"yaxis\":{\"backgroundcolor\":\"#E5ECF6\",\"gridcolor\":\"white\",\"linecolor\":\"white\",\"showbackground\":true,\"ticks\":\"\",\"zerolinecolor\":\"white\",\"gridwidth\":2},\"zaxis\":{\"backgroundcolor\":\"#E5ECF6\",\"gridcolor\":\"white\",\"linecolor\":\"white\",\"showbackground\":true,\"ticks\":\"\",\"zerolinecolor\":\"white\",\"gridwidth\":2}},\"shapedefaults\":{\"line\":{\"color\":\"#2a3f5f\"}},\"annotationdefaults\":{\"arrowcolor\":\"#2a3f5f\",\"arrowhead\":0,\"arrowwidth\":1},\"geo\":{\"bgcolor\":\"white\",\"landcolor\":\"#E5ECF6\",\"subunitcolor\":\"white\",\"showland\":true,\"showlakes\":true,\"lakecolor\":\"white\"},\"title\":{\"x\":0.05},\"mapbox\":{\"style\":\"light\"}}},\"xaxis\":{\"anchor\":\"y\",\"domain\":[0.0,1.0]},\"yaxis\":{\"anchor\":\"x\",\"domain\":[0.0,1.0],\"title\":{\"text\":\"writing score\"}},\"legend\":{\"tracegroupgap\":0},\"margin\":{\"t\":60},\"boxmode\":\"group\"},                        {\"responsive\": true}                    ).then(function(){\n",
       "                            \n",
       "var gd = document.getElementById('7242ea6f-6dd8-443b-a57b-ec9ec15592ee');\n",
       "var x = new MutationObserver(function (mutations, observer) {{\n",
       "        var display = window.getComputedStyle(gd).display;\n",
       "        if (!display || display === 'none') {{\n",
       "            console.log([gd, 'removed!']);\n",
       "            Plotly.purge(gd);\n",
       "            observer.disconnect();\n",
       "        }}\n",
       "}});\n",
       "\n",
       "// Listen for the removal of the full notebook cells\n",
       "var notebookContainer = gd.closest('#notebook-container');\n",
       "if (notebookContainer) {{\n",
       "    x.observe(notebookContainer, {childList: true});\n",
       "}}\n",
       "\n",
       "// Listen for the clearing of the current output cell\n",
       "var outputEl = gd.closest('.output');\n",
       "if (outputEl) {{\n",
       "    x.observe(outputEl, {childList: true});\n",
       "}}\n",
       "\n",
       "                        })                };                });            </script>        </div>"
      ]
     },
     "metadata": {},
     "output_type": "display_data"
    },
    {
     "data": {
      "application/vnd.plotly.v1+json": {
       "config": {
        "plotlyServerURL": "https://plot.ly"
       },
       "data": [
        {
         "alignmentgroup": "True",
         "bingroup": "x",
         "hovertemplate": "math score=%{x}<br>count=%{y}<extra></extra>",
         "legendgroup": "",
         "marker": {
          "color": "#636efa",
          "pattern": {
           "shape": ""
          }
         },
         "name": "",
         "offsetgroup": "",
         "orientation": "v",
         "showlegend": false,
         "type": "histogram",
         "x": [
          72,
          69,
          90,
          47,
          76,
          71,
          88,
          40,
          64,
          38,
          58,
          40,
          65,
          78,
          50,
          69,
          88,
          18,
          46,
          54,
          66,
          65,
          44,
          69,
          74,
          73,
          69,
          67,
          70,
          62,
          69,
          63,
          56,
          40,
          97,
          81,
          74,
          50,
          75,
          57,
          55,
          58,
          53,
          59,
          50,
          65,
          55,
          66,
          57,
          82,
          53,
          77,
          53,
          88,
          71,
          33,
          82,
          52,
          58,
          0,
          79,
          39,
          62,
          69,
          59,
          67,
          45,
          60,
          61,
          39,
          58,
          63,
          41,
          61,
          49,
          44,
          30,
          80,
          61,
          62,
          47,
          49,
          50,
          72,
          42,
          73,
          76,
          71,
          58,
          73,
          65,
          27,
          71,
          43,
          79,
          78,
          65,
          63,
          58,
          65,
          79,
          68,
          85,
          60,
          98,
          58,
          87,
          66,
          52,
          70,
          77,
          62,
          54,
          51,
          99,
          84,
          75,
          78,
          51,
          55,
          79,
          91,
          88,
          63,
          83,
          87,
          72,
          65,
          82,
          51,
          89,
          53,
          87,
          75,
          74,
          58,
          51,
          70,
          59,
          71,
          76,
          59,
          42,
          57,
          88,
          22,
          88,
          73,
          68,
          100,
          62,
          77,
          59,
          54,
          62,
          70,
          66,
          60,
          61,
          66,
          82,
          75,
          49,
          52,
          81,
          96,
          53,
          58,
          68,
          67,
          72,
          94,
          79,
          63,
          43,
          81,
          46,
          71,
          52,
          97,
          62,
          46,
          50,
          65,
          45,
          65,
          80,
          62,
          48,
          77,
          66,
          76,
          62,
          77,
          69,
          61,
          59,
          55,
          45,
          78,
          67,
          65,
          69,
          57,
          59,
          74,
          82,
          81,
          74,
          58,
          80,
          35,
          42,
          60,
          87,
          84,
          83,
          34,
          66,
          61,
          56,
          87,
          55,
          86,
          52,
          45,
          72,
          57,
          68,
          88,
          76,
          46,
          67,
          92,
          83,
          80,
          63,
          64,
          54,
          84,
          73,
          80,
          56,
          59,
          75,
          85,
          89,
          58,
          65,
          68,
          47,
          71,
          60,
          80,
          54,
          62,
          64,
          78,
          70,
          65,
          64,
          79,
          44,
          99,
          76,
          59,
          63,
          69,
          88,
          71,
          69,
          58,
          47,
          65,
          88,
          83,
          85,
          59,
          65,
          73,
          53,
          45,
          73,
          70,
          37,
          81,
          97,
          67,
          88,
          77,
          76,
          86,
          63,
          65,
          78,
          67,
          46,
          71,
          40,
          90,
          81,
          56,
          67,
          80,
          74,
          69,
          99,
          51,
          53,
          49,
          73,
          66,
          67,
          68,
          59,
          71,
          77,
          83,
          63,
          56,
          67,
          75,
          71,
          43,
          41,
          82,
          61,
          28,
          82,
          41,
          71,
          47,
          62,
          90,
          83,
          61,
          76,
          49,
          24,
          35,
          58,
          61,
          69,
          67,
          79,
          72,
          62,
          77,
          75,
          87,
          52,
          66,
          63,
          46,
          59,
          61,
          63,
          42,
          59,
          80,
          58,
          85,
          52,
          27,
          59,
          49,
          69,
          61,
          44,
          73,
          84,
          45,
          74,
          82,
          59,
          46,
          80,
          85,
          71,
          66,
          80,
          87,
          79,
          38,
          38,
          67,
          64,
          57,
          62,
          73,
          73,
          77,
          76,
          57,
          65,
          48,
          50,
          85,
          74,
          60,
          59,
          53,
          49,
          88,
          54,
          63,
          65,
          82,
          52,
          87,
          70,
          84,
          71,
          63,
          51,
          84,
          71,
          74,
          68,
          57,
          82,
          57,
          47,
          59,
          41,
          62,
          86,
          69,
          65,
          68,
          64,
          61,
          61,
          47,
          73,
          50,
          75,
          75,
          70,
          89,
          67,
          78,
          59,
          73,
          79,
          67,
          69,
          86,
          47,
          81,
          64,
          100,
          65,
          65,
          53,
          37,
          79,
          53,
          100,
          72,
          53,
          54,
          71,
          77,
          75,
          84,
          26,
          72,
          77,
          91,
          83,
          63,
          68,
          59,
          90,
          71,
          76,
          80,
          55,
          76,
          73,
          52,
          68,
          59,
          49,
          70,
          61,
          60,
          64,
          79,
          65,
          64,
          83,
          81,
          54,
          68,
          54,
          59,
          66,
          76,
          74,
          94,
          63,
          95,
          40,
          82,
          68,
          55,
          79,
          86,
          76,
          64,
          62,
          54,
          77,
          76,
          74,
          66,
          66,
          67,
          71,
          91,
          69,
          54,
          53,
          68,
          56,
          36,
          29,
          62,
          68,
          47,
          62,
          79,
          73,
          66,
          51,
          51,
          85,
          97,
          75,
          79,
          81,
          82,
          64,
          78,
          92,
          72,
          62,
          79,
          79,
          87,
          40,
          77,
          53,
          32,
          55,
          61,
          53,
          73,
          74,
          63,
          96,
          63,
          48,
          48,
          92,
          61,
          63,
          68,
          71,
          91,
          53,
          50,
          74,
          40,
          61,
          81,
          48,
          53,
          81,
          77,
          63,
          73,
          69,
          65,
          55,
          44,
          54,
          48,
          58,
          71,
          68,
          74,
          92,
          56,
          30,
          53,
          69,
          65,
          54,
          29,
          76,
          60,
          84,
          75,
          85,
          40,
          61,
          58,
          69,
          58,
          94,
          65,
          82,
          60,
          37,
          88,
          95,
          65,
          35,
          62,
          58,
          100,
          61,
          100,
          69,
          61,
          49,
          44,
          67,
          79,
          66,
          75,
          84,
          71,
          67,
          80,
          86,
          76,
          41,
          74,
          72,
          74,
          70,
          65,
          59,
          64,
          50,
          69,
          51,
          68,
          85,
          65,
          73,
          62,
          77,
          69,
          43,
          90,
          74,
          73,
          55,
          65,
          80,
          50,
          63,
          77,
          73,
          81,
          66,
          52,
          69,
          65,
          69,
          50,
          73,
          70,
          81,
          63,
          67,
          60,
          62,
          29,
          62,
          94,
          85,
          77,
          53,
          93,
          49,
          73,
          66,
          77,
          49,
          79,
          75,
          59,
          57,
          66,
          79,
          57,
          87,
          63,
          59,
          62,
          46,
          66,
          89,
          42,
          93,
          80,
          98,
          81,
          60,
          76,
          73,
          96,
          76,
          91,
          62,
          55,
          74,
          50,
          47,
          81,
          65,
          68,
          73,
          53,
          68,
          55,
          87,
          55,
          53,
          67,
          92,
          53,
          81,
          61,
          80,
          37,
          81,
          59,
          55,
          72,
          69,
          69,
          50,
          87,
          71,
          68,
          79,
          77,
          58,
          84,
          55,
          70,
          52,
          69,
          53,
          48,
          78,
          62,
          60,
          74,
          58,
          76,
          68,
          58,
          52,
          75,
          52,
          62,
          66,
          49,
          66,
          35,
          72,
          94,
          46,
          77,
          76,
          52,
          91,
          32,
          72,
          19,
          68,
          52,
          48,
          60,
          66,
          89,
          42,
          57,
          70,
          70,
          69,
          52,
          67,
          76,
          87,
          82,
          73,
          75,
          64,
          41,
          90,
          59,
          51,
          45,
          54,
          87,
          72,
          94,
          45,
          61,
          60,
          77,
          85,
          78,
          49,
          71,
          48,
          62,
          56,
          65,
          69,
          68,
          61,
          74,
          64,
          77,
          58,
          60,
          73,
          75,
          58,
          66,
          39,
          64,
          23,
          74,
          40,
          90,
          91,
          64,
          59,
          80,
          71,
          61,
          87,
          82,
          62,
          97,
          75,
          65,
          52,
          87,
          53,
          81,
          39,
          71,
          97,
          82,
          59,
          61,
          78,
          49,
          59,
          70,
          82,
          90,
          43,
          80,
          81,
          57,
          59,
          64,
          63,
          71,
          64,
          55,
          51,
          62,
          93,
          54,
          69,
          44,
          86,
          85,
          50,
          88,
          59,
          32,
          36,
          63,
          67,
          65,
          85,
          73,
          34,
          93,
          67,
          88,
          57,
          79,
          67,
          70,
          50,
          69,
          52,
          47,
          46,
          68,
          100,
          44,
          57,
          91,
          69,
          35,
          72,
          54,
          74,
          74,
          64,
          65,
          46,
          48,
          67,
          62,
          61,
          70,
          98,
          70,
          67,
          57,
          85,
          77,
          72,
          78,
          81,
          61,
          58,
          54,
          82,
          49,
          49,
          57,
          94,
          75,
          74,
          58,
          62,
          72,
          84,
          92,
          45,
          75,
          56,
          48,
          100,
          65,
          72,
          62,
          66,
          63,
          68,
          75,
          89,
          78,
          53,
          49,
          54,
          64,
          60,
          62,
          55,
          91,
          8,
          81,
          79,
          78,
          74,
          57,
          40,
          81,
          44,
          67,
          86,
          65,
          55,
          62,
          63,
          88,
          62,
          59,
          68,
          77
         ],
         "xaxis": "x",
         "yaxis": "y"
        }
       ],
       "layout": {
        "barmode": "relative",
        "legend": {
         "tracegroupgap": 0
        },
        "margin": {
         "t": 60
        },
        "template": {
         "data": {
          "bar": [
           {
            "error_x": {
             "color": "#2a3f5f"
            },
            "error_y": {
             "color": "#2a3f5f"
            },
            "marker": {
             "line": {
              "color": "#E5ECF6",
              "width": 0.5
             },
             "pattern": {
              "fillmode": "overlay",
              "size": 10,
              "solidity": 0.2
             }
            },
            "type": "bar"
           }
          ],
          "barpolar": [
           {
            "marker": {
             "line": {
              "color": "#E5ECF6",
              "width": 0.5
             },
             "pattern": {
              "fillmode": "overlay",
              "size": 10,
              "solidity": 0.2
             }
            },
            "type": "barpolar"
           }
          ],
          "carpet": [
           {
            "aaxis": {
             "endlinecolor": "#2a3f5f",
             "gridcolor": "white",
             "linecolor": "white",
             "minorgridcolor": "white",
             "startlinecolor": "#2a3f5f"
            },
            "baxis": {
             "endlinecolor": "#2a3f5f",
             "gridcolor": "white",
             "linecolor": "white",
             "minorgridcolor": "white",
             "startlinecolor": "#2a3f5f"
            },
            "type": "carpet"
           }
          ],
          "choropleth": [
           {
            "colorbar": {
             "outlinewidth": 0,
             "ticks": ""
            },
            "type": "choropleth"
           }
          ],
          "contour": [
           {
            "colorbar": {
             "outlinewidth": 0,
             "ticks": ""
            },
            "colorscale": [
             [
              0,
              "#0d0887"
             ],
             [
              0.1111111111111111,
              "#46039f"
             ],
             [
              0.2222222222222222,
              "#7201a8"
             ],
             [
              0.3333333333333333,
              "#9c179e"
             ],
             [
              0.4444444444444444,
              "#bd3786"
             ],
             [
              0.5555555555555556,
              "#d8576b"
             ],
             [
              0.6666666666666666,
              "#ed7953"
             ],
             [
              0.7777777777777778,
              "#fb9f3a"
             ],
             [
              0.8888888888888888,
              "#fdca26"
             ],
             [
              1,
              "#f0f921"
             ]
            ],
            "type": "contour"
           }
          ],
          "contourcarpet": [
           {
            "colorbar": {
             "outlinewidth": 0,
             "ticks": ""
            },
            "type": "contourcarpet"
           }
          ],
          "heatmap": [
           {
            "colorbar": {
             "outlinewidth": 0,
             "ticks": ""
            },
            "colorscale": [
             [
              0,
              "#0d0887"
             ],
             [
              0.1111111111111111,
              "#46039f"
             ],
             [
              0.2222222222222222,
              "#7201a8"
             ],
             [
              0.3333333333333333,
              "#9c179e"
             ],
             [
              0.4444444444444444,
              "#bd3786"
             ],
             [
              0.5555555555555556,
              "#d8576b"
             ],
             [
              0.6666666666666666,
              "#ed7953"
             ],
             [
              0.7777777777777778,
              "#fb9f3a"
             ],
             [
              0.8888888888888888,
              "#fdca26"
             ],
             [
              1,
              "#f0f921"
             ]
            ],
            "type": "heatmap"
           }
          ],
          "heatmapgl": [
           {
            "colorbar": {
             "outlinewidth": 0,
             "ticks": ""
            },
            "colorscale": [
             [
              0,
              "#0d0887"
             ],
             [
              0.1111111111111111,
              "#46039f"
             ],
             [
              0.2222222222222222,
              "#7201a8"
             ],
             [
              0.3333333333333333,
              "#9c179e"
             ],
             [
              0.4444444444444444,
              "#bd3786"
             ],
             [
              0.5555555555555556,
              "#d8576b"
             ],
             [
              0.6666666666666666,
              "#ed7953"
             ],
             [
              0.7777777777777778,
              "#fb9f3a"
             ],
             [
              0.8888888888888888,
              "#fdca26"
             ],
             [
              1,
              "#f0f921"
             ]
            ],
            "type": "heatmapgl"
           }
          ],
          "histogram": [
           {
            "marker": {
             "pattern": {
              "fillmode": "overlay",
              "size": 10,
              "solidity": 0.2
             }
            },
            "type": "histogram"
           }
          ],
          "histogram2d": [
           {
            "colorbar": {
             "outlinewidth": 0,
             "ticks": ""
            },
            "colorscale": [
             [
              0,
              "#0d0887"
             ],
             [
              0.1111111111111111,
              "#46039f"
             ],
             [
              0.2222222222222222,
              "#7201a8"
             ],
             [
              0.3333333333333333,
              "#9c179e"
             ],
             [
              0.4444444444444444,
              "#bd3786"
             ],
             [
              0.5555555555555556,
              "#d8576b"
             ],
             [
              0.6666666666666666,
              "#ed7953"
             ],
             [
              0.7777777777777778,
              "#fb9f3a"
             ],
             [
              0.8888888888888888,
              "#fdca26"
             ],
             [
              1,
              "#f0f921"
             ]
            ],
            "type": "histogram2d"
           }
          ],
          "histogram2dcontour": [
           {
            "colorbar": {
             "outlinewidth": 0,
             "ticks": ""
            },
            "colorscale": [
             [
              0,
              "#0d0887"
             ],
             [
              0.1111111111111111,
              "#46039f"
             ],
             [
              0.2222222222222222,
              "#7201a8"
             ],
             [
              0.3333333333333333,
              "#9c179e"
             ],
             [
              0.4444444444444444,
              "#bd3786"
             ],
             [
              0.5555555555555556,
              "#d8576b"
             ],
             [
              0.6666666666666666,
              "#ed7953"
             ],
             [
              0.7777777777777778,
              "#fb9f3a"
             ],
             [
              0.8888888888888888,
              "#fdca26"
             ],
             [
              1,
              "#f0f921"
             ]
            ],
            "type": "histogram2dcontour"
           }
          ],
          "mesh3d": [
           {
            "colorbar": {
             "outlinewidth": 0,
             "ticks": ""
            },
            "type": "mesh3d"
           }
          ],
          "parcoords": [
           {
            "line": {
             "colorbar": {
              "outlinewidth": 0,
              "ticks": ""
             }
            },
            "type": "parcoords"
           }
          ],
          "pie": [
           {
            "automargin": true,
            "type": "pie"
           }
          ],
          "scatter": [
           {
            "fillpattern": {
             "fillmode": "overlay",
             "size": 10,
             "solidity": 0.2
            },
            "type": "scatter"
           }
          ],
          "scatter3d": [
           {
            "line": {
             "colorbar": {
              "outlinewidth": 0,
              "ticks": ""
             }
            },
            "marker": {
             "colorbar": {
              "outlinewidth": 0,
              "ticks": ""
             }
            },
            "type": "scatter3d"
           }
          ],
          "scattercarpet": [
           {
            "marker": {
             "colorbar": {
              "outlinewidth": 0,
              "ticks": ""
             }
            },
            "type": "scattercarpet"
           }
          ],
          "scattergeo": [
           {
            "marker": {
             "colorbar": {
              "outlinewidth": 0,
              "ticks": ""
             }
            },
            "type": "scattergeo"
           }
          ],
          "scattergl": [
           {
            "marker": {
             "colorbar": {
              "outlinewidth": 0,
              "ticks": ""
             }
            },
            "type": "scattergl"
           }
          ],
          "scattermapbox": [
           {
            "marker": {
             "colorbar": {
              "outlinewidth": 0,
              "ticks": ""
             }
            },
            "type": "scattermapbox"
           }
          ],
          "scatterpolar": [
           {
            "marker": {
             "colorbar": {
              "outlinewidth": 0,
              "ticks": ""
             }
            },
            "type": "scatterpolar"
           }
          ],
          "scatterpolargl": [
           {
            "marker": {
             "colorbar": {
              "outlinewidth": 0,
              "ticks": ""
             }
            },
            "type": "scatterpolargl"
           }
          ],
          "scatterternary": [
           {
            "marker": {
             "colorbar": {
              "outlinewidth": 0,
              "ticks": ""
             }
            },
            "type": "scatterternary"
           }
          ],
          "surface": [
           {
            "colorbar": {
             "outlinewidth": 0,
             "ticks": ""
            },
            "colorscale": [
             [
              0,
              "#0d0887"
             ],
             [
              0.1111111111111111,
              "#46039f"
             ],
             [
              0.2222222222222222,
              "#7201a8"
             ],
             [
              0.3333333333333333,
              "#9c179e"
             ],
             [
              0.4444444444444444,
              "#bd3786"
             ],
             [
              0.5555555555555556,
              "#d8576b"
             ],
             [
              0.6666666666666666,
              "#ed7953"
             ],
             [
              0.7777777777777778,
              "#fb9f3a"
             ],
             [
              0.8888888888888888,
              "#fdca26"
             ],
             [
              1,
              "#f0f921"
             ]
            ],
            "type": "surface"
           }
          ],
          "table": [
           {
            "cells": {
             "fill": {
              "color": "#EBF0F8"
             },
             "line": {
              "color": "white"
             }
            },
            "header": {
             "fill": {
              "color": "#C8D4E3"
             },
             "line": {
              "color": "white"
             }
            },
            "type": "table"
           }
          ]
         },
         "layout": {
          "annotationdefaults": {
           "arrowcolor": "#2a3f5f",
           "arrowhead": 0,
           "arrowwidth": 1
          },
          "autotypenumbers": "strict",
          "coloraxis": {
           "colorbar": {
            "outlinewidth": 0,
            "ticks": ""
           }
          },
          "colorscale": {
           "diverging": [
            [
             0,
             "#8e0152"
            ],
            [
             0.1,
             "#c51b7d"
            ],
            [
             0.2,
             "#de77ae"
            ],
            [
             0.3,
             "#f1b6da"
            ],
            [
             0.4,
             "#fde0ef"
            ],
            [
             0.5,
             "#f7f7f7"
            ],
            [
             0.6,
             "#e6f5d0"
            ],
            [
             0.7,
             "#b8e186"
            ],
            [
             0.8,
             "#7fbc41"
            ],
            [
             0.9,
             "#4d9221"
            ],
            [
             1,
             "#276419"
            ]
           ],
           "sequential": [
            [
             0,
             "#0d0887"
            ],
            [
             0.1111111111111111,
             "#46039f"
            ],
            [
             0.2222222222222222,
             "#7201a8"
            ],
            [
             0.3333333333333333,
             "#9c179e"
            ],
            [
             0.4444444444444444,
             "#bd3786"
            ],
            [
             0.5555555555555556,
             "#d8576b"
            ],
            [
             0.6666666666666666,
             "#ed7953"
            ],
            [
             0.7777777777777778,
             "#fb9f3a"
            ],
            [
             0.8888888888888888,
             "#fdca26"
            ],
            [
             1,
             "#f0f921"
            ]
           ],
           "sequentialminus": [
            [
             0,
             "#0d0887"
            ],
            [
             0.1111111111111111,
             "#46039f"
            ],
            [
             0.2222222222222222,
             "#7201a8"
            ],
            [
             0.3333333333333333,
             "#9c179e"
            ],
            [
             0.4444444444444444,
             "#bd3786"
            ],
            [
             0.5555555555555556,
             "#d8576b"
            ],
            [
             0.6666666666666666,
             "#ed7953"
            ],
            [
             0.7777777777777778,
             "#fb9f3a"
            ],
            [
             0.8888888888888888,
             "#fdca26"
            ],
            [
             1,
             "#f0f921"
            ]
           ]
          },
          "colorway": [
           "#636efa",
           "#EF553B",
           "#00cc96",
           "#ab63fa",
           "#FFA15A",
           "#19d3f3",
           "#FF6692",
           "#B6E880",
           "#FF97FF",
           "#FECB52"
          ],
          "font": {
           "color": "#2a3f5f"
          },
          "geo": {
           "bgcolor": "white",
           "lakecolor": "white",
           "landcolor": "#E5ECF6",
           "showlakes": true,
           "showland": true,
           "subunitcolor": "white"
          },
          "hoverlabel": {
           "align": "left"
          },
          "hovermode": "closest",
          "mapbox": {
           "style": "light"
          },
          "paper_bgcolor": "white",
          "plot_bgcolor": "#E5ECF6",
          "polar": {
           "angularaxis": {
            "gridcolor": "white",
            "linecolor": "white",
            "ticks": ""
           },
           "bgcolor": "#E5ECF6",
           "radialaxis": {
            "gridcolor": "white",
            "linecolor": "white",
            "ticks": ""
           }
          },
          "scene": {
           "xaxis": {
            "backgroundcolor": "#E5ECF6",
            "gridcolor": "white",
            "gridwidth": 2,
            "linecolor": "white",
            "showbackground": true,
            "ticks": "",
            "zerolinecolor": "white"
           },
           "yaxis": {
            "backgroundcolor": "#E5ECF6",
            "gridcolor": "white",
            "gridwidth": 2,
            "linecolor": "white",
            "showbackground": true,
            "ticks": "",
            "zerolinecolor": "white"
           },
           "zaxis": {
            "backgroundcolor": "#E5ECF6",
            "gridcolor": "white",
            "gridwidth": 2,
            "linecolor": "white",
            "showbackground": true,
            "ticks": "",
            "zerolinecolor": "white"
           }
          },
          "shapedefaults": {
           "line": {
            "color": "#2a3f5f"
           }
          },
          "ternary": {
           "aaxis": {
            "gridcolor": "white",
            "linecolor": "white",
            "ticks": ""
           },
           "baxis": {
            "gridcolor": "white",
            "linecolor": "white",
            "ticks": ""
           },
           "bgcolor": "#E5ECF6",
           "caxis": {
            "gridcolor": "white",
            "linecolor": "white",
            "ticks": ""
           }
          },
          "title": {
           "x": 0.05
          },
          "xaxis": {
           "automargin": true,
           "gridcolor": "white",
           "linecolor": "white",
           "ticks": "",
           "title": {
            "standoff": 15
           },
           "zerolinecolor": "white",
           "zerolinewidth": 2
          },
          "yaxis": {
           "automargin": true,
           "gridcolor": "white",
           "linecolor": "white",
           "ticks": "",
           "title": {
            "standoff": 15
           },
           "zerolinecolor": "white",
           "zerolinewidth": 2
          }
         }
        },
        "xaxis": {
         "anchor": "y",
         "domain": [
          0,
          1
         ],
         "title": {
          "text": "math score"
         }
        },
        "yaxis": {
         "anchor": "x",
         "domain": [
          0,
          1
         ],
         "title": {
          "text": "count"
         }
        }
       }
      },
      "text/html": [
       "<div>                            <div id=\"f561c90d-7e0a-4d36-85d7-6af08efb8811\" class=\"plotly-graph-div\" style=\"height:525px; width:100%;\"></div>            <script type=\"text/javascript\">                require([\"plotly\"], function(Plotly) {                    window.PLOTLYENV=window.PLOTLYENV || {};                                    if (document.getElementById(\"f561c90d-7e0a-4d36-85d7-6af08efb8811\")) {                    Plotly.newPlot(                        \"f561c90d-7e0a-4d36-85d7-6af08efb8811\",                        [{\"alignmentgroup\":\"True\",\"bingroup\":\"x\",\"hovertemplate\":\"math score=%{x}<br>count=%{y}<extra></extra>\",\"legendgroup\":\"\",\"marker\":{\"color\":\"#636efa\",\"pattern\":{\"shape\":\"\"}},\"name\":\"\",\"offsetgroup\":\"\",\"orientation\":\"v\",\"showlegend\":false,\"x\":[72,69,90,47,76,71,88,40,64,38,58,40,65,78,50,69,88,18,46,54,66,65,44,69,74,73,69,67,70,62,69,63,56,40,97,81,74,50,75,57,55,58,53,59,50,65,55,66,57,82,53,77,53,88,71,33,82,52,58,0,79,39,62,69,59,67,45,60,61,39,58,63,41,61,49,44,30,80,61,62,47,49,50,72,42,73,76,71,58,73,65,27,71,43,79,78,65,63,58,65,79,68,85,60,98,58,87,66,52,70,77,62,54,51,99,84,75,78,51,55,79,91,88,63,83,87,72,65,82,51,89,53,87,75,74,58,51,70,59,71,76,59,42,57,88,22,88,73,68,100,62,77,59,54,62,70,66,60,61,66,82,75,49,52,81,96,53,58,68,67,72,94,79,63,43,81,46,71,52,97,62,46,50,65,45,65,80,62,48,77,66,76,62,77,69,61,59,55,45,78,67,65,69,57,59,74,82,81,74,58,80,35,42,60,87,84,83,34,66,61,56,87,55,86,52,45,72,57,68,88,76,46,67,92,83,80,63,64,54,84,73,80,56,59,75,85,89,58,65,68,47,71,60,80,54,62,64,78,70,65,64,79,44,99,76,59,63,69,88,71,69,58,47,65,88,83,85,59,65,73,53,45,73,70,37,81,97,67,88,77,76,86,63,65,78,67,46,71,40,90,81,56,67,80,74,69,99,51,53,49,73,66,67,68,59,71,77,83,63,56,67,75,71,43,41,82,61,28,82,41,71,47,62,90,83,61,76,49,24,35,58,61,69,67,79,72,62,77,75,87,52,66,63,46,59,61,63,42,59,80,58,85,52,27,59,49,69,61,44,73,84,45,74,82,59,46,80,85,71,66,80,87,79,38,38,67,64,57,62,73,73,77,76,57,65,48,50,85,74,60,59,53,49,88,54,63,65,82,52,87,70,84,71,63,51,84,71,74,68,57,82,57,47,59,41,62,86,69,65,68,64,61,61,47,73,50,75,75,70,89,67,78,59,73,79,67,69,86,47,81,64,100,65,65,53,37,79,53,100,72,53,54,71,77,75,84,26,72,77,91,83,63,68,59,90,71,76,80,55,76,73,52,68,59,49,70,61,60,64,79,65,64,83,81,54,68,54,59,66,76,74,94,63,95,40,82,68,55,79,86,76,64,62,54,77,76,74,66,66,67,71,91,69,54,53,68,56,36,29,62,68,47,62,79,73,66,51,51,85,97,75,79,81,82,64,78,92,72,62,79,79,87,40,77,53,32,55,61,53,73,74,63,96,63,48,48,92,61,63,68,71,91,53,50,74,40,61,81,48,53,81,77,63,73,69,65,55,44,54,48,58,71,68,74,92,56,30,53,69,65,54,29,76,60,84,75,85,40,61,58,69,58,94,65,82,60,37,88,95,65,35,62,58,100,61,100,69,61,49,44,67,79,66,75,84,71,67,80,86,76,41,74,72,74,70,65,59,64,50,69,51,68,85,65,73,62,77,69,43,90,74,73,55,65,80,50,63,77,73,81,66,52,69,65,69,50,73,70,81,63,67,60,62,29,62,94,85,77,53,93,49,73,66,77,49,79,75,59,57,66,79,57,87,63,59,62,46,66,89,42,93,80,98,81,60,76,73,96,76,91,62,55,74,50,47,81,65,68,73,53,68,55,87,55,53,67,92,53,81,61,80,37,81,59,55,72,69,69,50,87,71,68,79,77,58,84,55,70,52,69,53,48,78,62,60,74,58,76,68,58,52,75,52,62,66,49,66,35,72,94,46,77,76,52,91,32,72,19,68,52,48,60,66,89,42,57,70,70,69,52,67,76,87,82,73,75,64,41,90,59,51,45,54,87,72,94,45,61,60,77,85,78,49,71,48,62,56,65,69,68,61,74,64,77,58,60,73,75,58,66,39,64,23,74,40,90,91,64,59,80,71,61,87,82,62,97,75,65,52,87,53,81,39,71,97,82,59,61,78,49,59,70,82,90,43,80,81,57,59,64,63,71,64,55,51,62,93,54,69,44,86,85,50,88,59,32,36,63,67,65,85,73,34,93,67,88,57,79,67,70,50,69,52,47,46,68,100,44,57,91,69,35,72,54,74,74,64,65,46,48,67,62,61,70,98,70,67,57,85,77,72,78,81,61,58,54,82,49,49,57,94,75,74,58,62,72,84,92,45,75,56,48,100,65,72,62,66,63,68,75,89,78,53,49,54,64,60,62,55,91,8,81,79,78,74,57,40,81,44,67,86,65,55,62,63,88,62,59,68,77],\"xaxis\":\"x\",\"yaxis\":\"y\",\"type\":\"histogram\"}],                        {\"template\":{\"data\":{\"histogram2dcontour\":[{\"type\":\"histogram2dcontour\",\"colorbar\":{\"outlinewidth\":0,\"ticks\":\"\"},\"colorscale\":[[0.0,\"#0d0887\"],[0.1111111111111111,\"#46039f\"],[0.2222222222222222,\"#7201a8\"],[0.3333333333333333,\"#9c179e\"],[0.4444444444444444,\"#bd3786\"],[0.5555555555555556,\"#d8576b\"],[0.6666666666666666,\"#ed7953\"],[0.7777777777777778,\"#fb9f3a\"],[0.8888888888888888,\"#fdca26\"],[1.0,\"#f0f921\"]]}],\"choropleth\":[{\"type\":\"choropleth\",\"colorbar\":{\"outlinewidth\":0,\"ticks\":\"\"}}],\"histogram2d\":[{\"type\":\"histogram2d\",\"colorbar\":{\"outlinewidth\":0,\"ticks\":\"\"},\"colorscale\":[[0.0,\"#0d0887\"],[0.1111111111111111,\"#46039f\"],[0.2222222222222222,\"#7201a8\"],[0.3333333333333333,\"#9c179e\"],[0.4444444444444444,\"#bd3786\"],[0.5555555555555556,\"#d8576b\"],[0.6666666666666666,\"#ed7953\"],[0.7777777777777778,\"#fb9f3a\"],[0.8888888888888888,\"#fdca26\"],[1.0,\"#f0f921\"]]}],\"heatmap\":[{\"type\":\"heatmap\",\"colorbar\":{\"outlinewidth\":0,\"ticks\":\"\"},\"colorscale\":[[0.0,\"#0d0887\"],[0.1111111111111111,\"#46039f\"],[0.2222222222222222,\"#7201a8\"],[0.3333333333333333,\"#9c179e\"],[0.4444444444444444,\"#bd3786\"],[0.5555555555555556,\"#d8576b\"],[0.6666666666666666,\"#ed7953\"],[0.7777777777777778,\"#fb9f3a\"],[0.8888888888888888,\"#fdca26\"],[1.0,\"#f0f921\"]]}],\"heatmapgl\":[{\"type\":\"heatmapgl\",\"colorbar\":{\"outlinewidth\":0,\"ticks\":\"\"},\"colorscale\":[[0.0,\"#0d0887\"],[0.1111111111111111,\"#46039f\"],[0.2222222222222222,\"#7201a8\"],[0.3333333333333333,\"#9c179e\"],[0.4444444444444444,\"#bd3786\"],[0.5555555555555556,\"#d8576b\"],[0.6666666666666666,\"#ed7953\"],[0.7777777777777778,\"#fb9f3a\"],[0.8888888888888888,\"#fdca26\"],[1.0,\"#f0f921\"]]}],\"contourcarpet\":[{\"type\":\"contourcarpet\",\"colorbar\":{\"outlinewidth\":0,\"ticks\":\"\"}}],\"contour\":[{\"type\":\"contour\",\"colorbar\":{\"outlinewidth\":0,\"ticks\":\"\"},\"colorscale\":[[0.0,\"#0d0887\"],[0.1111111111111111,\"#46039f\"],[0.2222222222222222,\"#7201a8\"],[0.3333333333333333,\"#9c179e\"],[0.4444444444444444,\"#bd3786\"],[0.5555555555555556,\"#d8576b\"],[0.6666666666666666,\"#ed7953\"],[0.7777777777777778,\"#fb9f3a\"],[0.8888888888888888,\"#fdca26\"],[1.0,\"#f0f921\"]]}],\"surface\":[{\"type\":\"surface\",\"colorbar\":{\"outlinewidth\":0,\"ticks\":\"\"},\"colorscale\":[[0.0,\"#0d0887\"],[0.1111111111111111,\"#46039f\"],[0.2222222222222222,\"#7201a8\"],[0.3333333333333333,\"#9c179e\"],[0.4444444444444444,\"#bd3786\"],[0.5555555555555556,\"#d8576b\"],[0.6666666666666666,\"#ed7953\"],[0.7777777777777778,\"#fb9f3a\"],[0.8888888888888888,\"#fdca26\"],[1.0,\"#f0f921\"]]}],\"mesh3d\":[{\"type\":\"mesh3d\",\"colorbar\":{\"outlinewidth\":0,\"ticks\":\"\"}}],\"scatter\":[{\"fillpattern\":{\"fillmode\":\"overlay\",\"size\":10,\"solidity\":0.2},\"type\":\"scatter\"}],\"parcoords\":[{\"type\":\"parcoords\",\"line\":{\"colorbar\":{\"outlinewidth\":0,\"ticks\":\"\"}}}],\"scatterpolargl\":[{\"type\":\"scatterpolargl\",\"marker\":{\"colorbar\":{\"outlinewidth\":0,\"ticks\":\"\"}}}],\"bar\":[{\"error_x\":{\"color\":\"#2a3f5f\"},\"error_y\":{\"color\":\"#2a3f5f\"},\"marker\":{\"line\":{\"color\":\"#E5ECF6\",\"width\":0.5},\"pattern\":{\"fillmode\":\"overlay\",\"size\":10,\"solidity\":0.2}},\"type\":\"bar\"}],\"scattergeo\":[{\"type\":\"scattergeo\",\"marker\":{\"colorbar\":{\"outlinewidth\":0,\"ticks\":\"\"}}}],\"scatterpolar\":[{\"type\":\"scatterpolar\",\"marker\":{\"colorbar\":{\"outlinewidth\":0,\"ticks\":\"\"}}}],\"histogram\":[{\"marker\":{\"pattern\":{\"fillmode\":\"overlay\",\"size\":10,\"solidity\":0.2}},\"type\":\"histogram\"}],\"scattergl\":[{\"type\":\"scattergl\",\"marker\":{\"colorbar\":{\"outlinewidth\":0,\"ticks\":\"\"}}}],\"scatter3d\":[{\"type\":\"scatter3d\",\"line\":{\"colorbar\":{\"outlinewidth\":0,\"ticks\":\"\"}},\"marker\":{\"colorbar\":{\"outlinewidth\":0,\"ticks\":\"\"}}}],\"scattermapbox\":[{\"type\":\"scattermapbox\",\"marker\":{\"colorbar\":{\"outlinewidth\":0,\"ticks\":\"\"}}}],\"scatterternary\":[{\"type\":\"scatterternary\",\"marker\":{\"colorbar\":{\"outlinewidth\":0,\"ticks\":\"\"}}}],\"scattercarpet\":[{\"type\":\"scattercarpet\",\"marker\":{\"colorbar\":{\"outlinewidth\":0,\"ticks\":\"\"}}}],\"carpet\":[{\"aaxis\":{\"endlinecolor\":\"#2a3f5f\",\"gridcolor\":\"white\",\"linecolor\":\"white\",\"minorgridcolor\":\"white\",\"startlinecolor\":\"#2a3f5f\"},\"baxis\":{\"endlinecolor\":\"#2a3f5f\",\"gridcolor\":\"white\",\"linecolor\":\"white\",\"minorgridcolor\":\"white\",\"startlinecolor\":\"#2a3f5f\"},\"type\":\"carpet\"}],\"table\":[{\"cells\":{\"fill\":{\"color\":\"#EBF0F8\"},\"line\":{\"color\":\"white\"}},\"header\":{\"fill\":{\"color\":\"#C8D4E3\"},\"line\":{\"color\":\"white\"}},\"type\":\"table\"}],\"barpolar\":[{\"marker\":{\"line\":{\"color\":\"#E5ECF6\",\"width\":0.5},\"pattern\":{\"fillmode\":\"overlay\",\"size\":10,\"solidity\":0.2}},\"type\":\"barpolar\"}],\"pie\":[{\"automargin\":true,\"type\":\"pie\"}]},\"layout\":{\"autotypenumbers\":\"strict\",\"colorway\":[\"#636efa\",\"#EF553B\",\"#00cc96\",\"#ab63fa\",\"#FFA15A\",\"#19d3f3\",\"#FF6692\",\"#B6E880\",\"#FF97FF\",\"#FECB52\"],\"font\":{\"color\":\"#2a3f5f\"},\"hovermode\":\"closest\",\"hoverlabel\":{\"align\":\"left\"},\"paper_bgcolor\":\"white\",\"plot_bgcolor\":\"#E5ECF6\",\"polar\":{\"bgcolor\":\"#E5ECF6\",\"angularaxis\":{\"gridcolor\":\"white\",\"linecolor\":\"white\",\"ticks\":\"\"},\"radialaxis\":{\"gridcolor\":\"white\",\"linecolor\":\"white\",\"ticks\":\"\"}},\"ternary\":{\"bgcolor\":\"#E5ECF6\",\"aaxis\":{\"gridcolor\":\"white\",\"linecolor\":\"white\",\"ticks\":\"\"},\"baxis\":{\"gridcolor\":\"white\",\"linecolor\":\"white\",\"ticks\":\"\"},\"caxis\":{\"gridcolor\":\"white\",\"linecolor\":\"white\",\"ticks\":\"\"}},\"coloraxis\":{\"colorbar\":{\"outlinewidth\":0,\"ticks\":\"\"}},\"colorscale\":{\"sequential\":[[0.0,\"#0d0887\"],[0.1111111111111111,\"#46039f\"],[0.2222222222222222,\"#7201a8\"],[0.3333333333333333,\"#9c179e\"],[0.4444444444444444,\"#bd3786\"],[0.5555555555555556,\"#d8576b\"],[0.6666666666666666,\"#ed7953\"],[0.7777777777777778,\"#fb9f3a\"],[0.8888888888888888,\"#fdca26\"],[1.0,\"#f0f921\"]],\"sequentialminus\":[[0.0,\"#0d0887\"],[0.1111111111111111,\"#46039f\"],[0.2222222222222222,\"#7201a8\"],[0.3333333333333333,\"#9c179e\"],[0.4444444444444444,\"#bd3786\"],[0.5555555555555556,\"#d8576b\"],[0.6666666666666666,\"#ed7953\"],[0.7777777777777778,\"#fb9f3a\"],[0.8888888888888888,\"#fdca26\"],[1.0,\"#f0f921\"]],\"diverging\":[[0,\"#8e0152\"],[0.1,\"#c51b7d\"],[0.2,\"#de77ae\"],[0.3,\"#f1b6da\"],[0.4,\"#fde0ef\"],[0.5,\"#f7f7f7\"],[0.6,\"#e6f5d0\"],[0.7,\"#b8e186\"],[0.8,\"#7fbc41\"],[0.9,\"#4d9221\"],[1,\"#276419\"]]},\"xaxis\":{\"gridcolor\":\"white\",\"linecolor\":\"white\",\"ticks\":\"\",\"title\":{\"standoff\":15},\"zerolinecolor\":\"white\",\"automargin\":true,\"zerolinewidth\":2},\"yaxis\":{\"gridcolor\":\"white\",\"linecolor\":\"white\",\"ticks\":\"\",\"title\":{\"standoff\":15},\"zerolinecolor\":\"white\",\"automargin\":true,\"zerolinewidth\":2},\"scene\":{\"xaxis\":{\"backgroundcolor\":\"#E5ECF6\",\"gridcolor\":\"white\",\"linecolor\":\"white\",\"showbackground\":true,\"ticks\":\"\",\"zerolinecolor\":\"white\",\"gridwidth\":2},\"yaxis\":{\"backgroundcolor\":\"#E5ECF6\",\"gridcolor\":\"white\",\"linecolor\":\"white\",\"showbackground\":true,\"ticks\":\"\",\"zerolinecolor\":\"white\",\"gridwidth\":2},\"zaxis\":{\"backgroundcolor\":\"#E5ECF6\",\"gridcolor\":\"white\",\"linecolor\":\"white\",\"showbackground\":true,\"ticks\":\"\",\"zerolinecolor\":\"white\",\"gridwidth\":2}},\"shapedefaults\":{\"line\":{\"color\":\"#2a3f5f\"}},\"annotationdefaults\":{\"arrowcolor\":\"#2a3f5f\",\"arrowhead\":0,\"arrowwidth\":1},\"geo\":{\"bgcolor\":\"white\",\"landcolor\":\"#E5ECF6\",\"subunitcolor\":\"white\",\"showland\":true,\"showlakes\":true,\"lakecolor\":\"white\"},\"title\":{\"x\":0.05},\"mapbox\":{\"style\":\"light\"}}},\"xaxis\":{\"anchor\":\"y\",\"domain\":[0.0,1.0],\"title\":{\"text\":\"math score\"}},\"yaxis\":{\"anchor\":\"x\",\"domain\":[0.0,1.0],\"title\":{\"text\":\"count\"}},\"legend\":{\"tracegroupgap\":0},\"margin\":{\"t\":60},\"barmode\":\"relative\"},                        {\"responsive\": true}                    ).then(function(){\n",
       "                            \n",
       "var gd = document.getElementById('f561c90d-7e0a-4d36-85d7-6af08efb8811');\n",
       "var x = new MutationObserver(function (mutations, observer) {{\n",
       "        var display = window.getComputedStyle(gd).display;\n",
       "        if (!display || display === 'none') {{\n",
       "            console.log([gd, 'removed!']);\n",
       "            Plotly.purge(gd);\n",
       "            observer.disconnect();\n",
       "        }}\n",
       "}});\n",
       "\n",
       "// Listen for the removal of the full notebook cells\n",
       "var notebookContainer = gd.closest('#notebook-container');\n",
       "if (notebookContainer) {{\n",
       "    x.observe(notebookContainer, {childList: true});\n",
       "}}\n",
       "\n",
       "// Listen for the clearing of the current output cell\n",
       "var outputEl = gd.closest('.output');\n",
       "if (outputEl) {{\n",
       "    x.observe(outputEl, {childList: true});\n",
       "}}\n",
       "\n",
       "                        })                };                });            </script>        </div>"
      ]
     },
     "metadata": {},
     "output_type": "display_data"
    },
    {
     "data": {
      "application/vnd.plotly.v1+json": {
       "config": {
        "plotlyServerURL": "https://plot.ly"
       },
       "data": [
        {
         "alignmentgroup": "True",
         "bingroup": "x",
         "hovertemplate": "reading score=%{x}<br>count=%{y}<extra></extra>",
         "legendgroup": "",
         "marker": {
          "color": "#636efa",
          "pattern": {
           "shape": ""
          }
         },
         "name": "",
         "offsetgroup": "",
         "orientation": "v",
         "showlegend": false,
         "type": "histogram",
         "x": [
          72,
          90,
          95,
          57,
          78,
          83,
          95,
          43,
          64,
          60,
          54,
          52,
          81,
          72,
          53,
          75,
          89,
          32,
          42,
          58,
          69,
          75,
          54,
          73,
          71,
          74,
          54,
          69,
          70,
          70,
          74,
          65,
          72,
          42,
          87,
          81,
          81,
          64,
          90,
          56,
          61,
          73,
          58,
          65,
          56,
          54,
          65,
          71,
          74,
          84,
          55,
          69,
          44,
          78,
          84,
          41,
          85,
          55,
          59,
          17,
          74,
          39,
          61,
          80,
          58,
          64,
          37,
          72,
          58,
          64,
          63,
          55,
          51,
          57,
          49,
          41,
          26,
          78,
          74,
          68,
          49,
          45,
          47,
          64,
          39,
          80,
          83,
          71,
          70,
          86,
          72,
          34,
          79,
          45,
          86,
          81,
          66,
          72,
          67,
          67,
          67,
          74,
          91,
          44,
          86,
          67,
          100,
          63,
          76,
          64,
          89,
          55,
          53,
          58,
          100,
          77,
          85,
          82,
          63,
          69,
          92,
          89,
          93,
          57,
          80,
          95,
          68,
          77,
          82,
          49,
          84,
          37,
          74,
          81,
          79,
          55,
          54,
          55,
          66,
          61,
          72,
          62,
          55,
          43,
          73,
          39,
          84,
          68,
          75,
          100,
          67,
          67,
          70,
          49,
          67,
          89,
          74,
          60,
          86,
          62,
          78,
          88,
          53,
          53,
          92,
          100,
          51,
          76,
          83,
          75,
          73,
          88,
          86,
          67,
          51,
          91,
          54,
          77,
          70,
          100,
          68,
          64,
          50,
          69,
          52,
          67,
          76,
          66,
          52,
          88,
          65,
          83,
          64,
          62,
          84,
          55,
          69,
          56,
          53,
          79,
          84,
          81,
          77,
          69,
          41,
          71,
          62,
          80,
          81,
          61,
          79,
          28,
          62,
          51,
          91,
          83,
          86,
          42,
          77,
          56,
          68,
          85,
          65,
          80,
          66,
          56,
          72,
          50,
          72,
          95,
          64,
          43,
          86,
          87,
          82,
          75,
          66,
          60,
          52,
          80,
          68,
          83,
          52,
          51,
          74,
          76,
          76,
          70,
          64,
          60,
          49,
          83,
          70,
          80,
          52,
          73,
          73,
          77,
          75,
          81,
          79,
          79,
          50,
          93,
          73,
          42,
          75,
          72,
          92,
          76,
          63,
          49,
          53,
          70,
          85,
          78,
          92,
          63,
          86,
          56,
          52,
          48,
          79,
          78,
          46,
          82,
          82,
          89,
          75,
          76,
          70,
          73,
          60,
          73,
          77,
          62,
          41,
          74,
          46,
          87,
          78,
          54,
          84,
          76,
          75,
          67,
          87,
          52,
          71,
          57,
          76,
          60,
          61,
          67,
          64,
          66,
          82,
          72,
          71,
          65,
          79,
          86,
          81,
          53,
          46,
          90,
          61,
          23,
          75,
          55,
          60,
          37,
          56,
          78,
          93,
          68,
          70,
          51,
          38,
          55,
          61,
          73,
          76,
          72,
          73,
          80,
          61,
          94,
          74,
          74,
          65,
          57,
          78,
          58,
          71,
          72,
          61,
          66,
          62,
          90,
          62,
          84,
          58,
          34,
          60,
          58,
          58,
          66,
          64,
          84,
          77,
          73,
          74,
          97,
          70,
          43,
          90,
          95,
          83,
          64,
          86,
          100,
          81,
          49,
          43,
          76,
          73,
          78,
          64,
          70,
          67,
          68,
          67,
          54,
          74,
          45,
          67,
          89,
          63,
          59,
          54,
          43,
          65,
          99,
          59,
          73,
          65,
          80,
          57,
          84,
          71,
          83,
          66,
          67,
          72,
          73,
          74,
          73,
          59,
          56,
          93,
          58,
          58,
          85,
          39,
          67,
          83,
          71,
          59,
          63,
          66,
          72,
          56,
          59,
          66,
          48,
          68,
          66,
          56,
          88,
          81,
          81,
          73,
          83,
          82,
          74,
          66,
          81,
          46,
          73,
          85,
          92,
          77,
          58,
          61,
          56,
          89,
          54,
          100,
          65,
          58,
          54,
          70,
          90,
          58,
          87,
          31,
          67,
          88,
          74,
          85,
          69,
          86,
          67,
          90,
          76,
          62,
          68,
          64,
          71,
          71,
          59,
          68,
          52,
          52,
          74,
          47,
          75,
          53,
          82,
          85,
          64,
          83,
          88,
          64,
          64,
          48,
          78,
          69,
          71,
          79,
          87,
          61,
          89,
          59,
          82,
          70,
          59,
          78,
          92,
          71,
          50,
          49,
          61,
          97,
          87,
          89,
          74,
          78,
          78,
          49,
          86,
          58,
          59,
          52,
          60,
          61,
          53,
          41,
          74,
          67,
          54,
          61,
          88,
          69,
          83,
          60,
          66,
          66,
          92,
          69,
          82,
          77,
          95,
          63,
          83,
          100,
          67,
          67,
          72,
          76,
          90,
          48,
          62,
          45,
          39,
          72,
          67,
          70,
          66,
          75,
          74,
          90,
          80,
          51,
          43,
          100,
          71,
          48,
          68,
          75,
          96,
          62,
          66,
          81,
          55,
          51,
          91,
          56,
          61,
          97,
          79,
          73,
          75,
          77,
          76,
          73,
          63,
          64,
          66,
          57,
          62,
          68,
          76,
          100,
          79,
          24,
          54,
          77,
          82,
          60,
          29,
          78,
          57,
          89,
          72,
          84,
          58,
          64,
          63,
          60,
          59,
          90,
          77,
          93,
          68,
          45,
          78,
          81,
          73,
          61,
          63,
          51,
          96,
          58,
          97,
          70,
          48,
          57,
          51,
          64,
          60,
          74,
          88,
          84,
          74,
          80,
          92,
          76,
          74,
          52,
          88,
          81,
          79,
          65,
          81,
          70,
          62,
          53,
          79,
          56,
          80,
          86,
          70,
          79,
          67,
          67,
          66,
          60,
          87,
          77,
          66,
          71,
          69,
          63,
          60,
          73,
          85,
          74,
          72,
          76,
          57,
          78,
          84,
          77,
          64,
          78,
          82,
          75,
          61,
          72,
          68,
          55,
          40,
          66,
          99,
          75,
          78,
          58,
          90,
          53,
          76,
          74,
          77,
          63,
          89,
          82,
          72,
          78,
          66,
          81,
          67,
          84,
          64,
          63,
          72,
          34,
          59,
          87,
          61,
          84,
          85,
          100,
          81,
          70,
          94,
          78,
          96,
          76,
          73,
          72,
          59,
          90,
          48,
          43,
          74,
          75,
          51,
          92,
          39,
          77,
          46,
          89,
          47,
          58,
          57,
          79,
          66,
          71,
          60,
          73,
          57,
          84,
          73,
          55,
          79,
          75,
          64,
          60,
          84,
          69,
          72,
          77,
          90,
          55,
          95,
          58,
          68,
          59,
          77,
          72,
          58,
          81,
          62,
          63,
          72,
          75,
          62,
          71,
          60,
          48,
          73,
          67,
          78,
          65,
          58,
          72,
          44,
          79,
          85,
          56,
          90,
          85,
          59,
          81,
          51,
          79,
          38,
          65,
          65,
          62,
          66,
          74,
          84,
          52,
          68,
          70,
          84,
          60,
          55,
          73,
          80,
          94,
          85,
          76,
          81,
          74,
          45,
          75,
          54,
          31,
          47,
          64,
          84,
          80,
          86,
          59,
          70,
          72,
          91,
          90,
          90,
          52,
          87,
          58,
          67,
          68,
          69,
          86,
          54,
          60,
          86,
          60,
          82,
          50,
          64,
          64,
          82,
          57,
          77,
          52,
          58,
          44,
          77,
          65,
          85,
          85,
          54,
          72,
          75,
          67,
          68,
          85,
          67,
          64,
          97,
          68,
          79,
          49,
          73,
          62,
          86,
          42,
          71,
          93,
          82,
          53,
          42,
          74,
          51,
          58,
          72,
          84,
          90,
          62,
          64,
          82,
          61,
          72,
          76,
          64,
          70,
          73,
          46,
          51,
          76,
          100,
          72,
          65,
          51,
          85,
          92,
          67,
          74,
          62,
          34,
          29,
          78,
          54,
          78,
          84,
          78,
          48,
          100,
          84,
          77,
          48,
          84,
          75,
          64,
          42,
          84,
          61,
          62,
          61,
          70,
          100,
          61,
          77,
          96,
          70,
          53,
          66,
          65,
          70,
          64,
          56,
          61,
          43,
          56,
          74,
          57,
          71,
          75,
          87,
          63,
          57,
          58,
          81,
          68,
          66,
          91,
          66,
          62,
          68,
          61,
          82,
          58,
          50,
          75,
          73,
          77,
          74,
          52,
          69,
          57,
          87,
          100,
          63,
          81,
          58,
          54,
          100,
          76,
          57,
          70,
          68,
          63,
          76,
          84,
          100,
          72,
          50,
          65,
          63,
          82,
          62,
          65,
          41,
          95,
          24,
          78,
          85,
          87,
          75,
          51,
          59,
          75,
          45,
          86,
          81,
          82,
          76,
          72,
          63,
          99,
          55,
          71,
          78,
          86
         ],
         "xaxis": "x",
         "yaxis": "y"
        }
       ],
       "layout": {
        "barmode": "relative",
        "legend": {
         "tracegroupgap": 0
        },
        "margin": {
         "t": 60
        },
        "template": {
         "data": {
          "bar": [
           {
            "error_x": {
             "color": "#2a3f5f"
            },
            "error_y": {
             "color": "#2a3f5f"
            },
            "marker": {
             "line": {
              "color": "#E5ECF6",
              "width": 0.5
             },
             "pattern": {
              "fillmode": "overlay",
              "size": 10,
              "solidity": 0.2
             }
            },
            "type": "bar"
           }
          ],
          "barpolar": [
           {
            "marker": {
             "line": {
              "color": "#E5ECF6",
              "width": 0.5
             },
             "pattern": {
              "fillmode": "overlay",
              "size": 10,
              "solidity": 0.2
             }
            },
            "type": "barpolar"
           }
          ],
          "carpet": [
           {
            "aaxis": {
             "endlinecolor": "#2a3f5f",
             "gridcolor": "white",
             "linecolor": "white",
             "minorgridcolor": "white",
             "startlinecolor": "#2a3f5f"
            },
            "baxis": {
             "endlinecolor": "#2a3f5f",
             "gridcolor": "white",
             "linecolor": "white",
             "minorgridcolor": "white",
             "startlinecolor": "#2a3f5f"
            },
            "type": "carpet"
           }
          ],
          "choropleth": [
           {
            "colorbar": {
             "outlinewidth": 0,
             "ticks": ""
            },
            "type": "choropleth"
           }
          ],
          "contour": [
           {
            "colorbar": {
             "outlinewidth": 0,
             "ticks": ""
            },
            "colorscale": [
             [
              0,
              "#0d0887"
             ],
             [
              0.1111111111111111,
              "#46039f"
             ],
             [
              0.2222222222222222,
              "#7201a8"
             ],
             [
              0.3333333333333333,
              "#9c179e"
             ],
             [
              0.4444444444444444,
              "#bd3786"
             ],
             [
              0.5555555555555556,
              "#d8576b"
             ],
             [
              0.6666666666666666,
              "#ed7953"
             ],
             [
              0.7777777777777778,
              "#fb9f3a"
             ],
             [
              0.8888888888888888,
              "#fdca26"
             ],
             [
              1,
              "#f0f921"
             ]
            ],
            "type": "contour"
           }
          ],
          "contourcarpet": [
           {
            "colorbar": {
             "outlinewidth": 0,
             "ticks": ""
            },
            "type": "contourcarpet"
           }
          ],
          "heatmap": [
           {
            "colorbar": {
             "outlinewidth": 0,
             "ticks": ""
            },
            "colorscale": [
             [
              0,
              "#0d0887"
             ],
             [
              0.1111111111111111,
              "#46039f"
             ],
             [
              0.2222222222222222,
              "#7201a8"
             ],
             [
              0.3333333333333333,
              "#9c179e"
             ],
             [
              0.4444444444444444,
              "#bd3786"
             ],
             [
              0.5555555555555556,
              "#d8576b"
             ],
             [
              0.6666666666666666,
              "#ed7953"
             ],
             [
              0.7777777777777778,
              "#fb9f3a"
             ],
             [
              0.8888888888888888,
              "#fdca26"
             ],
             [
              1,
              "#f0f921"
             ]
            ],
            "type": "heatmap"
           }
          ],
          "heatmapgl": [
           {
            "colorbar": {
             "outlinewidth": 0,
             "ticks": ""
            },
            "colorscale": [
             [
              0,
              "#0d0887"
             ],
             [
              0.1111111111111111,
              "#46039f"
             ],
             [
              0.2222222222222222,
              "#7201a8"
             ],
             [
              0.3333333333333333,
              "#9c179e"
             ],
             [
              0.4444444444444444,
              "#bd3786"
             ],
             [
              0.5555555555555556,
              "#d8576b"
             ],
             [
              0.6666666666666666,
              "#ed7953"
             ],
             [
              0.7777777777777778,
              "#fb9f3a"
             ],
             [
              0.8888888888888888,
              "#fdca26"
             ],
             [
              1,
              "#f0f921"
             ]
            ],
            "type": "heatmapgl"
           }
          ],
          "histogram": [
           {
            "marker": {
             "pattern": {
              "fillmode": "overlay",
              "size": 10,
              "solidity": 0.2
             }
            },
            "type": "histogram"
           }
          ],
          "histogram2d": [
           {
            "colorbar": {
             "outlinewidth": 0,
             "ticks": ""
            },
            "colorscale": [
             [
              0,
              "#0d0887"
             ],
             [
              0.1111111111111111,
              "#46039f"
             ],
             [
              0.2222222222222222,
              "#7201a8"
             ],
             [
              0.3333333333333333,
              "#9c179e"
             ],
             [
              0.4444444444444444,
              "#bd3786"
             ],
             [
              0.5555555555555556,
              "#d8576b"
             ],
             [
              0.6666666666666666,
              "#ed7953"
             ],
             [
              0.7777777777777778,
              "#fb9f3a"
             ],
             [
              0.8888888888888888,
              "#fdca26"
             ],
             [
              1,
              "#f0f921"
             ]
            ],
            "type": "histogram2d"
           }
          ],
          "histogram2dcontour": [
           {
            "colorbar": {
             "outlinewidth": 0,
             "ticks": ""
            },
            "colorscale": [
             [
              0,
              "#0d0887"
             ],
             [
              0.1111111111111111,
              "#46039f"
             ],
             [
              0.2222222222222222,
              "#7201a8"
             ],
             [
              0.3333333333333333,
              "#9c179e"
             ],
             [
              0.4444444444444444,
              "#bd3786"
             ],
             [
              0.5555555555555556,
              "#d8576b"
             ],
             [
              0.6666666666666666,
              "#ed7953"
             ],
             [
              0.7777777777777778,
              "#fb9f3a"
             ],
             [
              0.8888888888888888,
              "#fdca26"
             ],
             [
              1,
              "#f0f921"
             ]
            ],
            "type": "histogram2dcontour"
           }
          ],
          "mesh3d": [
           {
            "colorbar": {
             "outlinewidth": 0,
             "ticks": ""
            },
            "type": "mesh3d"
           }
          ],
          "parcoords": [
           {
            "line": {
             "colorbar": {
              "outlinewidth": 0,
              "ticks": ""
             }
            },
            "type": "parcoords"
           }
          ],
          "pie": [
           {
            "automargin": true,
            "type": "pie"
           }
          ],
          "scatter": [
           {
            "fillpattern": {
             "fillmode": "overlay",
             "size": 10,
             "solidity": 0.2
            },
            "type": "scatter"
           }
          ],
          "scatter3d": [
           {
            "line": {
             "colorbar": {
              "outlinewidth": 0,
              "ticks": ""
             }
            },
            "marker": {
             "colorbar": {
              "outlinewidth": 0,
              "ticks": ""
             }
            },
            "type": "scatter3d"
           }
          ],
          "scattercarpet": [
           {
            "marker": {
             "colorbar": {
              "outlinewidth": 0,
              "ticks": ""
             }
            },
            "type": "scattercarpet"
           }
          ],
          "scattergeo": [
           {
            "marker": {
             "colorbar": {
              "outlinewidth": 0,
              "ticks": ""
             }
            },
            "type": "scattergeo"
           }
          ],
          "scattergl": [
           {
            "marker": {
             "colorbar": {
              "outlinewidth": 0,
              "ticks": ""
             }
            },
            "type": "scattergl"
           }
          ],
          "scattermapbox": [
           {
            "marker": {
             "colorbar": {
              "outlinewidth": 0,
              "ticks": ""
             }
            },
            "type": "scattermapbox"
           }
          ],
          "scatterpolar": [
           {
            "marker": {
             "colorbar": {
              "outlinewidth": 0,
              "ticks": ""
             }
            },
            "type": "scatterpolar"
           }
          ],
          "scatterpolargl": [
           {
            "marker": {
             "colorbar": {
              "outlinewidth": 0,
              "ticks": ""
             }
            },
            "type": "scatterpolargl"
           }
          ],
          "scatterternary": [
           {
            "marker": {
             "colorbar": {
              "outlinewidth": 0,
              "ticks": ""
             }
            },
            "type": "scatterternary"
           }
          ],
          "surface": [
           {
            "colorbar": {
             "outlinewidth": 0,
             "ticks": ""
            },
            "colorscale": [
             [
              0,
              "#0d0887"
             ],
             [
              0.1111111111111111,
              "#46039f"
             ],
             [
              0.2222222222222222,
              "#7201a8"
             ],
             [
              0.3333333333333333,
              "#9c179e"
             ],
             [
              0.4444444444444444,
              "#bd3786"
             ],
             [
              0.5555555555555556,
              "#d8576b"
             ],
             [
              0.6666666666666666,
              "#ed7953"
             ],
             [
              0.7777777777777778,
              "#fb9f3a"
             ],
             [
              0.8888888888888888,
              "#fdca26"
             ],
             [
              1,
              "#f0f921"
             ]
            ],
            "type": "surface"
           }
          ],
          "table": [
           {
            "cells": {
             "fill": {
              "color": "#EBF0F8"
             },
             "line": {
              "color": "white"
             }
            },
            "header": {
             "fill": {
              "color": "#C8D4E3"
             },
             "line": {
              "color": "white"
             }
            },
            "type": "table"
           }
          ]
         },
         "layout": {
          "annotationdefaults": {
           "arrowcolor": "#2a3f5f",
           "arrowhead": 0,
           "arrowwidth": 1
          },
          "autotypenumbers": "strict",
          "coloraxis": {
           "colorbar": {
            "outlinewidth": 0,
            "ticks": ""
           }
          },
          "colorscale": {
           "diverging": [
            [
             0,
             "#8e0152"
            ],
            [
             0.1,
             "#c51b7d"
            ],
            [
             0.2,
             "#de77ae"
            ],
            [
             0.3,
             "#f1b6da"
            ],
            [
             0.4,
             "#fde0ef"
            ],
            [
             0.5,
             "#f7f7f7"
            ],
            [
             0.6,
             "#e6f5d0"
            ],
            [
             0.7,
             "#b8e186"
            ],
            [
             0.8,
             "#7fbc41"
            ],
            [
             0.9,
             "#4d9221"
            ],
            [
             1,
             "#276419"
            ]
           ],
           "sequential": [
            [
             0,
             "#0d0887"
            ],
            [
             0.1111111111111111,
             "#46039f"
            ],
            [
             0.2222222222222222,
             "#7201a8"
            ],
            [
             0.3333333333333333,
             "#9c179e"
            ],
            [
             0.4444444444444444,
             "#bd3786"
            ],
            [
             0.5555555555555556,
             "#d8576b"
            ],
            [
             0.6666666666666666,
             "#ed7953"
            ],
            [
             0.7777777777777778,
             "#fb9f3a"
            ],
            [
             0.8888888888888888,
             "#fdca26"
            ],
            [
             1,
             "#f0f921"
            ]
           ],
           "sequentialminus": [
            [
             0,
             "#0d0887"
            ],
            [
             0.1111111111111111,
             "#46039f"
            ],
            [
             0.2222222222222222,
             "#7201a8"
            ],
            [
             0.3333333333333333,
             "#9c179e"
            ],
            [
             0.4444444444444444,
             "#bd3786"
            ],
            [
             0.5555555555555556,
             "#d8576b"
            ],
            [
             0.6666666666666666,
             "#ed7953"
            ],
            [
             0.7777777777777778,
             "#fb9f3a"
            ],
            [
             0.8888888888888888,
             "#fdca26"
            ],
            [
             1,
             "#f0f921"
            ]
           ]
          },
          "colorway": [
           "#636efa",
           "#EF553B",
           "#00cc96",
           "#ab63fa",
           "#FFA15A",
           "#19d3f3",
           "#FF6692",
           "#B6E880",
           "#FF97FF",
           "#FECB52"
          ],
          "font": {
           "color": "#2a3f5f"
          },
          "geo": {
           "bgcolor": "white",
           "lakecolor": "white",
           "landcolor": "#E5ECF6",
           "showlakes": true,
           "showland": true,
           "subunitcolor": "white"
          },
          "hoverlabel": {
           "align": "left"
          },
          "hovermode": "closest",
          "mapbox": {
           "style": "light"
          },
          "paper_bgcolor": "white",
          "plot_bgcolor": "#E5ECF6",
          "polar": {
           "angularaxis": {
            "gridcolor": "white",
            "linecolor": "white",
            "ticks": ""
           },
           "bgcolor": "#E5ECF6",
           "radialaxis": {
            "gridcolor": "white",
            "linecolor": "white",
            "ticks": ""
           }
          },
          "scene": {
           "xaxis": {
            "backgroundcolor": "#E5ECF6",
            "gridcolor": "white",
            "gridwidth": 2,
            "linecolor": "white",
            "showbackground": true,
            "ticks": "",
            "zerolinecolor": "white"
           },
           "yaxis": {
            "backgroundcolor": "#E5ECF6",
            "gridcolor": "white",
            "gridwidth": 2,
            "linecolor": "white",
            "showbackground": true,
            "ticks": "",
            "zerolinecolor": "white"
           },
           "zaxis": {
            "backgroundcolor": "#E5ECF6",
            "gridcolor": "white",
            "gridwidth": 2,
            "linecolor": "white",
            "showbackground": true,
            "ticks": "",
            "zerolinecolor": "white"
           }
          },
          "shapedefaults": {
           "line": {
            "color": "#2a3f5f"
           }
          },
          "ternary": {
           "aaxis": {
            "gridcolor": "white",
            "linecolor": "white",
            "ticks": ""
           },
           "baxis": {
            "gridcolor": "white",
            "linecolor": "white",
            "ticks": ""
           },
           "bgcolor": "#E5ECF6",
           "caxis": {
            "gridcolor": "white",
            "linecolor": "white",
            "ticks": ""
           }
          },
          "title": {
           "x": 0.05
          },
          "xaxis": {
           "automargin": true,
           "gridcolor": "white",
           "linecolor": "white",
           "ticks": "",
           "title": {
            "standoff": 15
           },
           "zerolinecolor": "white",
           "zerolinewidth": 2
          },
          "yaxis": {
           "automargin": true,
           "gridcolor": "white",
           "linecolor": "white",
           "ticks": "",
           "title": {
            "standoff": 15
           },
           "zerolinecolor": "white",
           "zerolinewidth": 2
          }
         }
        },
        "xaxis": {
         "anchor": "y",
         "domain": [
          0,
          1
         ],
         "title": {
          "text": "reading score"
         }
        },
        "yaxis": {
         "anchor": "x",
         "domain": [
          0,
          1
         ],
         "title": {
          "text": "count"
         }
        }
       }
      },
      "text/html": [
       "<div>                            <div id=\"8ac2d939-0212-4f7d-b818-a41b2beff80d\" class=\"plotly-graph-div\" style=\"height:525px; width:100%;\"></div>            <script type=\"text/javascript\">                require([\"plotly\"], function(Plotly) {                    window.PLOTLYENV=window.PLOTLYENV || {};                                    if (document.getElementById(\"8ac2d939-0212-4f7d-b818-a41b2beff80d\")) {                    Plotly.newPlot(                        \"8ac2d939-0212-4f7d-b818-a41b2beff80d\",                        [{\"alignmentgroup\":\"True\",\"bingroup\":\"x\",\"hovertemplate\":\"reading score=%{x}<br>count=%{y}<extra></extra>\",\"legendgroup\":\"\",\"marker\":{\"color\":\"#636efa\",\"pattern\":{\"shape\":\"\"}},\"name\":\"\",\"offsetgroup\":\"\",\"orientation\":\"v\",\"showlegend\":false,\"x\":[72,90,95,57,78,83,95,43,64,60,54,52,81,72,53,75,89,32,42,58,69,75,54,73,71,74,54,69,70,70,74,65,72,42,87,81,81,64,90,56,61,73,58,65,56,54,65,71,74,84,55,69,44,78,84,41,85,55,59,17,74,39,61,80,58,64,37,72,58,64,63,55,51,57,49,41,26,78,74,68,49,45,47,64,39,80,83,71,70,86,72,34,79,45,86,81,66,72,67,67,67,74,91,44,86,67,100,63,76,64,89,55,53,58,100,77,85,82,63,69,92,89,93,57,80,95,68,77,82,49,84,37,74,81,79,55,54,55,66,61,72,62,55,43,73,39,84,68,75,100,67,67,70,49,67,89,74,60,86,62,78,88,53,53,92,100,51,76,83,75,73,88,86,67,51,91,54,77,70,100,68,64,50,69,52,67,76,66,52,88,65,83,64,62,84,55,69,56,53,79,84,81,77,69,41,71,62,80,81,61,79,28,62,51,91,83,86,42,77,56,68,85,65,80,66,56,72,50,72,95,64,43,86,87,82,75,66,60,52,80,68,83,52,51,74,76,76,70,64,60,49,83,70,80,52,73,73,77,75,81,79,79,50,93,73,42,75,72,92,76,63,49,53,70,85,78,92,63,86,56,52,48,79,78,46,82,82,89,75,76,70,73,60,73,77,62,41,74,46,87,78,54,84,76,75,67,87,52,71,57,76,60,61,67,64,66,82,72,71,65,79,86,81,53,46,90,61,23,75,55,60,37,56,78,93,68,70,51,38,55,61,73,76,72,73,80,61,94,74,74,65,57,78,58,71,72,61,66,62,90,62,84,58,34,60,58,58,66,64,84,77,73,74,97,70,43,90,95,83,64,86,100,81,49,43,76,73,78,64,70,67,68,67,54,74,45,67,89,63,59,54,43,65,99,59,73,65,80,57,84,71,83,66,67,72,73,74,73,59,56,93,58,58,85,39,67,83,71,59,63,66,72,56,59,66,48,68,66,56,88,81,81,73,83,82,74,66,81,46,73,85,92,77,58,61,56,89,54,100,65,58,54,70,90,58,87,31,67,88,74,85,69,86,67,90,76,62,68,64,71,71,59,68,52,52,74,47,75,53,82,85,64,83,88,64,64,48,78,69,71,79,87,61,89,59,82,70,59,78,92,71,50,49,61,97,87,89,74,78,78,49,86,58,59,52,60,61,53,41,74,67,54,61,88,69,83,60,66,66,92,69,82,77,95,63,83,100,67,67,72,76,90,48,62,45,39,72,67,70,66,75,74,90,80,51,43,100,71,48,68,75,96,62,66,81,55,51,91,56,61,97,79,73,75,77,76,73,63,64,66,57,62,68,76,100,79,24,54,77,82,60,29,78,57,89,72,84,58,64,63,60,59,90,77,93,68,45,78,81,73,61,63,51,96,58,97,70,48,57,51,64,60,74,88,84,74,80,92,76,74,52,88,81,79,65,81,70,62,53,79,56,80,86,70,79,67,67,66,60,87,77,66,71,69,63,60,73,85,74,72,76,57,78,84,77,64,78,82,75,61,72,68,55,40,66,99,75,78,58,90,53,76,74,77,63,89,82,72,78,66,81,67,84,64,63,72,34,59,87,61,84,85,100,81,70,94,78,96,76,73,72,59,90,48,43,74,75,51,92,39,77,46,89,47,58,57,79,66,71,60,73,57,84,73,55,79,75,64,60,84,69,72,77,90,55,95,58,68,59,77,72,58,81,62,63,72,75,62,71,60,48,73,67,78,65,58,72,44,79,85,56,90,85,59,81,51,79,38,65,65,62,66,74,84,52,68,70,84,60,55,73,80,94,85,76,81,74,45,75,54,31,47,64,84,80,86,59,70,72,91,90,90,52,87,58,67,68,69,86,54,60,86,60,82,50,64,64,82,57,77,52,58,44,77,65,85,85,54,72,75,67,68,85,67,64,97,68,79,49,73,62,86,42,71,93,82,53,42,74,51,58,72,84,90,62,64,82,61,72,76,64,70,73,46,51,76,100,72,65,51,85,92,67,74,62,34,29,78,54,78,84,78,48,100,84,77,48,84,75,64,42,84,61,62,61,70,100,61,77,96,70,53,66,65,70,64,56,61,43,56,74,57,71,75,87,63,57,58,81,68,66,91,66,62,68,61,82,58,50,75,73,77,74,52,69,57,87,100,63,81,58,54,100,76,57,70,68,63,76,84,100,72,50,65,63,82,62,65,41,95,24,78,85,87,75,51,59,75,45,86,81,82,76,72,63,99,55,71,78,86],\"xaxis\":\"x\",\"yaxis\":\"y\",\"type\":\"histogram\"}],                        {\"template\":{\"data\":{\"histogram2dcontour\":[{\"type\":\"histogram2dcontour\",\"colorbar\":{\"outlinewidth\":0,\"ticks\":\"\"},\"colorscale\":[[0.0,\"#0d0887\"],[0.1111111111111111,\"#46039f\"],[0.2222222222222222,\"#7201a8\"],[0.3333333333333333,\"#9c179e\"],[0.4444444444444444,\"#bd3786\"],[0.5555555555555556,\"#d8576b\"],[0.6666666666666666,\"#ed7953\"],[0.7777777777777778,\"#fb9f3a\"],[0.8888888888888888,\"#fdca26\"],[1.0,\"#f0f921\"]]}],\"choropleth\":[{\"type\":\"choropleth\",\"colorbar\":{\"outlinewidth\":0,\"ticks\":\"\"}}],\"histogram2d\":[{\"type\":\"histogram2d\",\"colorbar\":{\"outlinewidth\":0,\"ticks\":\"\"},\"colorscale\":[[0.0,\"#0d0887\"],[0.1111111111111111,\"#46039f\"],[0.2222222222222222,\"#7201a8\"],[0.3333333333333333,\"#9c179e\"],[0.4444444444444444,\"#bd3786\"],[0.5555555555555556,\"#d8576b\"],[0.6666666666666666,\"#ed7953\"],[0.7777777777777778,\"#fb9f3a\"],[0.8888888888888888,\"#fdca26\"],[1.0,\"#f0f921\"]]}],\"heatmap\":[{\"type\":\"heatmap\",\"colorbar\":{\"outlinewidth\":0,\"ticks\":\"\"},\"colorscale\":[[0.0,\"#0d0887\"],[0.1111111111111111,\"#46039f\"],[0.2222222222222222,\"#7201a8\"],[0.3333333333333333,\"#9c179e\"],[0.4444444444444444,\"#bd3786\"],[0.5555555555555556,\"#d8576b\"],[0.6666666666666666,\"#ed7953\"],[0.7777777777777778,\"#fb9f3a\"],[0.8888888888888888,\"#fdca26\"],[1.0,\"#f0f921\"]]}],\"heatmapgl\":[{\"type\":\"heatmapgl\",\"colorbar\":{\"outlinewidth\":0,\"ticks\":\"\"},\"colorscale\":[[0.0,\"#0d0887\"],[0.1111111111111111,\"#46039f\"],[0.2222222222222222,\"#7201a8\"],[0.3333333333333333,\"#9c179e\"],[0.4444444444444444,\"#bd3786\"],[0.5555555555555556,\"#d8576b\"],[0.6666666666666666,\"#ed7953\"],[0.7777777777777778,\"#fb9f3a\"],[0.8888888888888888,\"#fdca26\"],[1.0,\"#f0f921\"]]}],\"contourcarpet\":[{\"type\":\"contourcarpet\",\"colorbar\":{\"outlinewidth\":0,\"ticks\":\"\"}}],\"contour\":[{\"type\":\"contour\",\"colorbar\":{\"outlinewidth\":0,\"ticks\":\"\"},\"colorscale\":[[0.0,\"#0d0887\"],[0.1111111111111111,\"#46039f\"],[0.2222222222222222,\"#7201a8\"],[0.3333333333333333,\"#9c179e\"],[0.4444444444444444,\"#bd3786\"],[0.5555555555555556,\"#d8576b\"],[0.6666666666666666,\"#ed7953\"],[0.7777777777777778,\"#fb9f3a\"],[0.8888888888888888,\"#fdca26\"],[1.0,\"#f0f921\"]]}],\"surface\":[{\"type\":\"surface\",\"colorbar\":{\"outlinewidth\":0,\"ticks\":\"\"},\"colorscale\":[[0.0,\"#0d0887\"],[0.1111111111111111,\"#46039f\"],[0.2222222222222222,\"#7201a8\"],[0.3333333333333333,\"#9c179e\"],[0.4444444444444444,\"#bd3786\"],[0.5555555555555556,\"#d8576b\"],[0.6666666666666666,\"#ed7953\"],[0.7777777777777778,\"#fb9f3a\"],[0.8888888888888888,\"#fdca26\"],[1.0,\"#f0f921\"]]}],\"mesh3d\":[{\"type\":\"mesh3d\",\"colorbar\":{\"outlinewidth\":0,\"ticks\":\"\"}}],\"scatter\":[{\"fillpattern\":{\"fillmode\":\"overlay\",\"size\":10,\"solidity\":0.2},\"type\":\"scatter\"}],\"parcoords\":[{\"type\":\"parcoords\",\"line\":{\"colorbar\":{\"outlinewidth\":0,\"ticks\":\"\"}}}],\"scatterpolargl\":[{\"type\":\"scatterpolargl\",\"marker\":{\"colorbar\":{\"outlinewidth\":0,\"ticks\":\"\"}}}],\"bar\":[{\"error_x\":{\"color\":\"#2a3f5f\"},\"error_y\":{\"color\":\"#2a3f5f\"},\"marker\":{\"line\":{\"color\":\"#E5ECF6\",\"width\":0.5},\"pattern\":{\"fillmode\":\"overlay\",\"size\":10,\"solidity\":0.2}},\"type\":\"bar\"}],\"scattergeo\":[{\"type\":\"scattergeo\",\"marker\":{\"colorbar\":{\"outlinewidth\":0,\"ticks\":\"\"}}}],\"scatterpolar\":[{\"type\":\"scatterpolar\",\"marker\":{\"colorbar\":{\"outlinewidth\":0,\"ticks\":\"\"}}}],\"histogram\":[{\"marker\":{\"pattern\":{\"fillmode\":\"overlay\",\"size\":10,\"solidity\":0.2}},\"type\":\"histogram\"}],\"scattergl\":[{\"type\":\"scattergl\",\"marker\":{\"colorbar\":{\"outlinewidth\":0,\"ticks\":\"\"}}}],\"scatter3d\":[{\"type\":\"scatter3d\",\"line\":{\"colorbar\":{\"outlinewidth\":0,\"ticks\":\"\"}},\"marker\":{\"colorbar\":{\"outlinewidth\":0,\"ticks\":\"\"}}}],\"scattermapbox\":[{\"type\":\"scattermapbox\",\"marker\":{\"colorbar\":{\"outlinewidth\":0,\"ticks\":\"\"}}}],\"scatterternary\":[{\"type\":\"scatterternary\",\"marker\":{\"colorbar\":{\"outlinewidth\":0,\"ticks\":\"\"}}}],\"scattercarpet\":[{\"type\":\"scattercarpet\",\"marker\":{\"colorbar\":{\"outlinewidth\":0,\"ticks\":\"\"}}}],\"carpet\":[{\"aaxis\":{\"endlinecolor\":\"#2a3f5f\",\"gridcolor\":\"white\",\"linecolor\":\"white\",\"minorgridcolor\":\"white\",\"startlinecolor\":\"#2a3f5f\"},\"baxis\":{\"endlinecolor\":\"#2a3f5f\",\"gridcolor\":\"white\",\"linecolor\":\"white\",\"minorgridcolor\":\"white\",\"startlinecolor\":\"#2a3f5f\"},\"type\":\"carpet\"}],\"table\":[{\"cells\":{\"fill\":{\"color\":\"#EBF0F8\"},\"line\":{\"color\":\"white\"}},\"header\":{\"fill\":{\"color\":\"#C8D4E3\"},\"line\":{\"color\":\"white\"}},\"type\":\"table\"}],\"barpolar\":[{\"marker\":{\"line\":{\"color\":\"#E5ECF6\",\"width\":0.5},\"pattern\":{\"fillmode\":\"overlay\",\"size\":10,\"solidity\":0.2}},\"type\":\"barpolar\"}],\"pie\":[{\"automargin\":true,\"type\":\"pie\"}]},\"layout\":{\"autotypenumbers\":\"strict\",\"colorway\":[\"#636efa\",\"#EF553B\",\"#00cc96\",\"#ab63fa\",\"#FFA15A\",\"#19d3f3\",\"#FF6692\",\"#B6E880\",\"#FF97FF\",\"#FECB52\"],\"font\":{\"color\":\"#2a3f5f\"},\"hovermode\":\"closest\",\"hoverlabel\":{\"align\":\"left\"},\"paper_bgcolor\":\"white\",\"plot_bgcolor\":\"#E5ECF6\",\"polar\":{\"bgcolor\":\"#E5ECF6\",\"angularaxis\":{\"gridcolor\":\"white\",\"linecolor\":\"white\",\"ticks\":\"\"},\"radialaxis\":{\"gridcolor\":\"white\",\"linecolor\":\"white\",\"ticks\":\"\"}},\"ternary\":{\"bgcolor\":\"#E5ECF6\",\"aaxis\":{\"gridcolor\":\"white\",\"linecolor\":\"white\",\"ticks\":\"\"},\"baxis\":{\"gridcolor\":\"white\",\"linecolor\":\"white\",\"ticks\":\"\"},\"caxis\":{\"gridcolor\":\"white\",\"linecolor\":\"white\",\"ticks\":\"\"}},\"coloraxis\":{\"colorbar\":{\"outlinewidth\":0,\"ticks\":\"\"}},\"colorscale\":{\"sequential\":[[0.0,\"#0d0887\"],[0.1111111111111111,\"#46039f\"],[0.2222222222222222,\"#7201a8\"],[0.3333333333333333,\"#9c179e\"],[0.4444444444444444,\"#bd3786\"],[0.5555555555555556,\"#d8576b\"],[0.6666666666666666,\"#ed7953\"],[0.7777777777777778,\"#fb9f3a\"],[0.8888888888888888,\"#fdca26\"],[1.0,\"#f0f921\"]],\"sequentialminus\":[[0.0,\"#0d0887\"],[0.1111111111111111,\"#46039f\"],[0.2222222222222222,\"#7201a8\"],[0.3333333333333333,\"#9c179e\"],[0.4444444444444444,\"#bd3786\"],[0.5555555555555556,\"#d8576b\"],[0.6666666666666666,\"#ed7953\"],[0.7777777777777778,\"#fb9f3a\"],[0.8888888888888888,\"#fdca26\"],[1.0,\"#f0f921\"]],\"diverging\":[[0,\"#8e0152\"],[0.1,\"#c51b7d\"],[0.2,\"#de77ae\"],[0.3,\"#f1b6da\"],[0.4,\"#fde0ef\"],[0.5,\"#f7f7f7\"],[0.6,\"#e6f5d0\"],[0.7,\"#b8e186\"],[0.8,\"#7fbc41\"],[0.9,\"#4d9221\"],[1,\"#276419\"]]},\"xaxis\":{\"gridcolor\":\"white\",\"linecolor\":\"white\",\"ticks\":\"\",\"title\":{\"standoff\":15},\"zerolinecolor\":\"white\",\"automargin\":true,\"zerolinewidth\":2},\"yaxis\":{\"gridcolor\":\"white\",\"linecolor\":\"white\",\"ticks\":\"\",\"title\":{\"standoff\":15},\"zerolinecolor\":\"white\",\"automargin\":true,\"zerolinewidth\":2},\"scene\":{\"xaxis\":{\"backgroundcolor\":\"#E5ECF6\",\"gridcolor\":\"white\",\"linecolor\":\"white\",\"showbackground\":true,\"ticks\":\"\",\"zerolinecolor\":\"white\",\"gridwidth\":2},\"yaxis\":{\"backgroundcolor\":\"#E5ECF6\",\"gridcolor\":\"white\",\"linecolor\":\"white\",\"showbackground\":true,\"ticks\":\"\",\"zerolinecolor\":\"white\",\"gridwidth\":2},\"zaxis\":{\"backgroundcolor\":\"#E5ECF6\",\"gridcolor\":\"white\",\"linecolor\":\"white\",\"showbackground\":true,\"ticks\":\"\",\"zerolinecolor\":\"white\",\"gridwidth\":2}},\"shapedefaults\":{\"line\":{\"color\":\"#2a3f5f\"}},\"annotationdefaults\":{\"arrowcolor\":\"#2a3f5f\",\"arrowhead\":0,\"arrowwidth\":1},\"geo\":{\"bgcolor\":\"white\",\"landcolor\":\"#E5ECF6\",\"subunitcolor\":\"white\",\"showland\":true,\"showlakes\":true,\"lakecolor\":\"white\"},\"title\":{\"x\":0.05},\"mapbox\":{\"style\":\"light\"}}},\"xaxis\":{\"anchor\":\"y\",\"domain\":[0.0,1.0],\"title\":{\"text\":\"reading score\"}},\"yaxis\":{\"anchor\":\"x\",\"domain\":[0.0,1.0],\"title\":{\"text\":\"count\"}},\"legend\":{\"tracegroupgap\":0},\"margin\":{\"t\":60},\"barmode\":\"relative\"},                        {\"responsive\": true}                    ).then(function(){\n",
       "                            \n",
       "var gd = document.getElementById('8ac2d939-0212-4f7d-b818-a41b2beff80d');\n",
       "var x = new MutationObserver(function (mutations, observer) {{\n",
       "        var display = window.getComputedStyle(gd).display;\n",
       "        if (!display || display === 'none') {{\n",
       "            console.log([gd, 'removed!']);\n",
       "            Plotly.purge(gd);\n",
       "            observer.disconnect();\n",
       "        }}\n",
       "}});\n",
       "\n",
       "// Listen for the removal of the full notebook cells\n",
       "var notebookContainer = gd.closest('#notebook-container');\n",
       "if (notebookContainer) {{\n",
       "    x.observe(notebookContainer, {childList: true});\n",
       "}}\n",
       "\n",
       "// Listen for the clearing of the current output cell\n",
       "var outputEl = gd.closest('.output');\n",
       "if (outputEl) {{\n",
       "    x.observe(outputEl, {childList: true});\n",
       "}}\n",
       "\n",
       "                        })                };                });            </script>        </div>"
      ]
     },
     "metadata": {},
     "output_type": "display_data"
    },
    {
     "data": {
      "application/vnd.plotly.v1+json": {
       "config": {
        "plotlyServerURL": "https://plot.ly"
       },
       "data": [
        {
         "alignmentgroup": "True",
         "bingroup": "x",
         "hovertemplate": "writing score=%{x}<br>count=%{y}<extra></extra>",
         "legendgroup": "",
         "marker": {
          "color": "#636efa",
          "pattern": {
           "shape": ""
          }
         },
         "name": "",
         "offsetgroup": "",
         "orientation": "v",
         "showlegend": false,
         "type": "histogram",
         "x": [
          74,
          88,
          93,
          44,
          75,
          78,
          92,
          39,
          67,
          50,
          52,
          43,
          73,
          70,
          58,
          78,
          86,
          28,
          46,
          61,
          63,
          70,
          53,
          73,
          80,
          72,
          55,
          75,
          65,
          75,
          74,
          61,
          65,
          38,
          82,
          79,
          83,
          59,
          88,
          57,
          54,
          68,
          65,
          66,
          54,
          57,
          62,
          76,
          76,
          82,
          48,
          68,
          42,
          75,
          87,
          43,
          86,
          49,
          58,
          10,
          72,
          34,
          55,
          71,
          59,
          61,
          37,
          74,
          56,
          57,
          73,
          63,
          48,
          56,
          41,
          38,
          22,
          81,
          72,
          68,
          50,
          45,
          54,
          63,
          34,
          82,
          88,
          74,
          67,
          82,
          74,
          36,
          71,
          50,
          92,
          82,
          62,
          70,
          62,
          62,
          67,
          74,
          89,
          47,
          90,
          72,
          100,
          64,
          70,
          72,
          98,
          49,
          47,
          54,
          100,
          74,
          82,
          79,
          61,
          65,
          89,
          92,
          93,
          56,
          73,
          86,
          67,
          74,
          74,
          51,
          82,
          40,
          70,
          84,
          75,
          48,
          41,
          56,
          67,
          69,
          71,
          64,
          54,
          47,
          78,
          33,
          75,
          66,
          81,
          93,
          69,
          68,
          66,
          47,
          61,
          88,
          78,
          60,
          87,
          64,
          74,
          85,
          52,
          49,
          91,
          100,
          51,
          78,
          78,
          70,
          74,
          78,
          81,
          70,
          54,
          87,
          58,
          77,
          62,
          100,
          75,
          66,
          47,
          70,
          49,
          65,
          65,
          68,
          45,
          87,
          69,
          79,
          66,
          62,
          85,
          52,
          65,
          51,
          55,
          76,
          86,
          77,
          69,
          68,
          42,
          78,
          62,
          76,
          76,
          66,
          79,
          27,
          60,
          56,
          81,
          75,
          88,
          39,
          70,
          56,
          74,
          73,
          62,
          75,
          73,
          54,
          71,
          54,
          64,
          94,
          66,
          42,
          83,
          78,
          84,
          77,
          67,
          74,
          51,
          80,
          66,
          83,
          55,
          43,
          69,
          71,
          74,
          68,
          62,
          53,
          49,
          83,
          70,
          72,
          52,
          70,
          68,
          77,
          78,
          81,
          77,
          78,
          51,
          90,
          68,
          41,
          81,
          77,
          95,
          70,
          61,
          42,
          58,
          71,
          76,
          73,
          93,
          75,
          80,
          57,
          42,
          46,
          84,
          78,
          46,
          82,
          88,
          82,
          76,
          77,
          68,
          70,
          57,
          75,
          80,
          60,
          43,
          68,
          50,
          75,
          81,
          52,
          81,
          64,
          83,
          69,
          81,
          44,
          67,
          52,
          80,
          57,
          68,
          69,
          75,
          65,
          91,
          78,
          69,
          63,
          84,
          79,
          80,
          53,
          43,
          94,
          62,
          19,
          77,
          51,
          61,
          35,
          53,
          81,
          95,
          66,
          69,
          43,
          27,
          60,
          52,
          63,
          74,
          67,
          67,
          75,
          57,
          95,
          66,
          76,
          69,
          52,
          80,
          57,
          70,
          70,
          61,
          69,
          61,
          89,
          59,
          78,
          58,
          32,
          58,
          60,
          53,
          61,
          58,
          85,
          71,
          70,
          72,
          96,
          73,
          41,
          82,
          100,
          77,
          62,
          83,
          95,
          71,
          45,
          43,
          75,
          70,
          67,
          64,
          75,
          59,
          77,
          67,
          56,
          77,
          41,
          63,
          95,
          57,
          54,
          67,
          43,
          55,
          100,
          62,
          68,
          63,
          77,
          56,
          85,
          74,
          78,
          60,
          67,
          79,
          69,
          68,
          67,
          62,
          54,
          93,
          64,
          67,
          80,
          34,
          62,
          86,
          65,
          53,
          54,
          59,
          70,
          55,
          50,
          66,
          53,
          64,
          73,
          51,
          82,
          79,
          80,
          69,
          76,
          73,
          77,
          60,
          80,
          42,
          72,
          85,
          97,
          74,
          49,
          62,
          47,
          89,
          48,
          100,
          68,
          55,
          45,
          76,
          91,
          62,
          91,
          38,
          65,
          85,
          76,
          90,
          74,
          84,
          61,
          91,
          83,
          66,
          72,
          70,
          67,
          68,
          56,
          61,
          46,
          54,
          71,
          56,
          74,
          57,
          82,
          76,
          70,
          90,
          90,
          68,
          66,
          52,
          76,
          68,
          72,
          82,
          92,
          54,
          92,
          54,
          80,
          66,
          54,
          77,
          87,
          73,
          43,
          52,
          62,
          94,
          85,
          84,
          73,
          78,
          79,
          52,
          84,
          57,
          50,
          49,
          59,
          60,
          43,
          47,
          70,
          73,
          53,
          58,
          94,
          68,
          83,
          58,
          62,
          71,
          86,
          68,
          80,
          79,
          89,
          66,
          80,
          97,
          64,
          64,
          69,
          65,
          88,
          50,
          64,
          40,
          33,
          79,
          66,
          70,
          62,
          79,
          74,
          92,
          80,
          46,
          45,
          100,
          78,
          47,
          67,
          70,
          92,
          56,
          64,
          71,
          53,
          52,
          89,
          58,
          68,
          96,
          80,
          78,
          80,
          77,
          76,
          73,
          62,
          65,
          65,
          54,
          50,
          64,
          73,
          99,
          72,
          15,
          48,
          73,
          81,
          63,
          30,
          80,
          51,
          90,
          62,
          82,
          54,
          62,
          65,
          63,
          66,
          91,
          74,
          93,
          72,
          38,
          83,
          84,
          68,
          54,
          56,
          52,
          86,
          62,
          99,
          63,
          46,
          46,
          55,
          70,
          65,
          81,
          85,
          80,
          64,
          81,
          88,
          74,
          73,
          51,
          90,
          79,
          80,
          60,
          81,
          65,
          68,
          55,
          81,
          53,
          76,
          98,
          74,
          79,
          67,
          64,
          61,
          58,
          85,
          73,
          63,
          69,
          67,
          63,
          60,
          71,
          87,
          61,
          77,
          68,
          50,
          76,
          84,
          78,
          66,
          76,
          76,
          78,
          60,
          74,
          60,
          54,
          44,
          68,
          100,
          68,
          73,
          44,
          83,
          53,
          78,
          81,
          73,
          56,
          86,
          90,
          70,
          79,
          59,
          82,
          72,
          87,
          67,
          64,
          65,
          36,
          52,
          79,
          58,
          90,
          85,
          99,
          84,
          74,
          87,
          72,
          99,
          74,
          80,
          70,
          59,
          88,
          42,
          41,
          71,
          77,
          57,
          84,
          37,
          80,
          43,
          94,
          44,
          57,
          59,
          84,
          73,
          73,
          55,
          72,
          56,
          82,
          72,
          47,
          74,
          71,
          68,
          59,
          86,
          68,
          65,
          75,
          85,
          53,
          92,
          52,
          72,
          65,
          77,
          64,
          54,
          86,
          63,
          59,
          72,
          77,
          60,
          75,
          57,
          49,
          74,
          72,
          79,
          60,
          55,
          70,
          43,
          82,
          82,
          57,
          84,
          82,
          62,
          79,
          44,
          77,
          32,
          61,
          61,
          60,
          70,
          69,
          77,
          51,
          73,
          70,
          81,
          54,
          57,
          68,
          73,
          95,
          87,
          78,
          74,
          75,
          40,
          69,
          51,
          36,
          49,
          67,
          76,
          83,
          87,
          64,
          76,
          68,
          88,
          92,
          93,
          51,
          82,
          52,
          58,
          70,
          76,
          81,
          53,
          57,
          89,
          58,
          89,
          45,
          74,
          57,
          79,
          53,
          73,
          46,
          51,
          36,
          76,
          64,
          84,
          85,
          50,
          68,
          69,
          67,
          63,
          93,
          61,
          55,
          96,
          65,
          81,
          46,
          72,
          53,
          87,
          38,
          80,
          91,
          88,
          52,
          41,
          72,
          51,
          47,
          76,
          78,
          82,
          61,
          66,
          84,
          54,
          80,
          74,
          66,
          70,
          71,
          44,
          54,
          80,
          95,
          59,
          74,
          48,
          91,
          85,
          73,
          75,
          69,
          38,
          27,
          79,
          63,
          82,
          89,
          74,
          41,
          100,
          84,
          77,
          51,
          91,
          72,
          70,
          48,
          82,
          66,
          66,
          55,
          66,
          100,
          52,
          80,
          91,
          67,
          46,
          66,
          65,
          69,
          60,
          52,
          71,
          44,
          51,
          70,
          62,
          73,
          74,
          90,
          58,
          53,
          57,
          85,
          69,
          72,
          96,
          64,
          61,
          61,
          58,
          80,
          60,
          52,
          73,
          71,
          83,
          72,
          54,
          69,
          62,
          81,
          100,
          59,
          71,
          64,
          53,
          100,
          75,
          58,
          72,
          64,
          60,
          67,
          80,
          100,
          69,
          60,
          61,
          67,
          77,
          60,
          58,
          48,
          94,
          23,
          78,
          86,
          91,
          82,
          54,
          51,
          76,
          45,
          83,
          75,
          78,
          76,
          74,
          62,
          95,
          55,
          65,
          77,
          86
         ],
         "xaxis": "x",
         "yaxis": "y"
        }
       ],
       "layout": {
        "barmode": "relative",
        "legend": {
         "tracegroupgap": 0
        },
        "margin": {
         "t": 60
        },
        "template": {
         "data": {
          "bar": [
           {
            "error_x": {
             "color": "#2a3f5f"
            },
            "error_y": {
             "color": "#2a3f5f"
            },
            "marker": {
             "line": {
              "color": "#E5ECF6",
              "width": 0.5
             },
             "pattern": {
              "fillmode": "overlay",
              "size": 10,
              "solidity": 0.2
             }
            },
            "type": "bar"
           }
          ],
          "barpolar": [
           {
            "marker": {
             "line": {
              "color": "#E5ECF6",
              "width": 0.5
             },
             "pattern": {
              "fillmode": "overlay",
              "size": 10,
              "solidity": 0.2
             }
            },
            "type": "barpolar"
           }
          ],
          "carpet": [
           {
            "aaxis": {
             "endlinecolor": "#2a3f5f",
             "gridcolor": "white",
             "linecolor": "white",
             "minorgridcolor": "white",
             "startlinecolor": "#2a3f5f"
            },
            "baxis": {
             "endlinecolor": "#2a3f5f",
             "gridcolor": "white",
             "linecolor": "white",
             "minorgridcolor": "white",
             "startlinecolor": "#2a3f5f"
            },
            "type": "carpet"
           }
          ],
          "choropleth": [
           {
            "colorbar": {
             "outlinewidth": 0,
             "ticks": ""
            },
            "type": "choropleth"
           }
          ],
          "contour": [
           {
            "colorbar": {
             "outlinewidth": 0,
             "ticks": ""
            },
            "colorscale": [
             [
              0,
              "#0d0887"
             ],
             [
              0.1111111111111111,
              "#46039f"
             ],
             [
              0.2222222222222222,
              "#7201a8"
             ],
             [
              0.3333333333333333,
              "#9c179e"
             ],
             [
              0.4444444444444444,
              "#bd3786"
             ],
             [
              0.5555555555555556,
              "#d8576b"
             ],
             [
              0.6666666666666666,
              "#ed7953"
             ],
             [
              0.7777777777777778,
              "#fb9f3a"
             ],
             [
              0.8888888888888888,
              "#fdca26"
             ],
             [
              1,
              "#f0f921"
             ]
            ],
            "type": "contour"
           }
          ],
          "contourcarpet": [
           {
            "colorbar": {
             "outlinewidth": 0,
             "ticks": ""
            },
            "type": "contourcarpet"
           }
          ],
          "heatmap": [
           {
            "colorbar": {
             "outlinewidth": 0,
             "ticks": ""
            },
            "colorscale": [
             [
              0,
              "#0d0887"
             ],
             [
              0.1111111111111111,
              "#46039f"
             ],
             [
              0.2222222222222222,
              "#7201a8"
             ],
             [
              0.3333333333333333,
              "#9c179e"
             ],
             [
              0.4444444444444444,
              "#bd3786"
             ],
             [
              0.5555555555555556,
              "#d8576b"
             ],
             [
              0.6666666666666666,
              "#ed7953"
             ],
             [
              0.7777777777777778,
              "#fb9f3a"
             ],
             [
              0.8888888888888888,
              "#fdca26"
             ],
             [
              1,
              "#f0f921"
             ]
            ],
            "type": "heatmap"
           }
          ],
          "heatmapgl": [
           {
            "colorbar": {
             "outlinewidth": 0,
             "ticks": ""
            },
            "colorscale": [
             [
              0,
              "#0d0887"
             ],
             [
              0.1111111111111111,
              "#46039f"
             ],
             [
              0.2222222222222222,
              "#7201a8"
             ],
             [
              0.3333333333333333,
              "#9c179e"
             ],
             [
              0.4444444444444444,
              "#bd3786"
             ],
             [
              0.5555555555555556,
              "#d8576b"
             ],
             [
              0.6666666666666666,
              "#ed7953"
             ],
             [
              0.7777777777777778,
              "#fb9f3a"
             ],
             [
              0.8888888888888888,
              "#fdca26"
             ],
             [
              1,
              "#f0f921"
             ]
            ],
            "type": "heatmapgl"
           }
          ],
          "histogram": [
           {
            "marker": {
             "pattern": {
              "fillmode": "overlay",
              "size": 10,
              "solidity": 0.2
             }
            },
            "type": "histogram"
           }
          ],
          "histogram2d": [
           {
            "colorbar": {
             "outlinewidth": 0,
             "ticks": ""
            },
            "colorscale": [
             [
              0,
              "#0d0887"
             ],
             [
              0.1111111111111111,
              "#46039f"
             ],
             [
              0.2222222222222222,
              "#7201a8"
             ],
             [
              0.3333333333333333,
              "#9c179e"
             ],
             [
              0.4444444444444444,
              "#bd3786"
             ],
             [
              0.5555555555555556,
              "#d8576b"
             ],
             [
              0.6666666666666666,
              "#ed7953"
             ],
             [
              0.7777777777777778,
              "#fb9f3a"
             ],
             [
              0.8888888888888888,
              "#fdca26"
             ],
             [
              1,
              "#f0f921"
             ]
            ],
            "type": "histogram2d"
           }
          ],
          "histogram2dcontour": [
           {
            "colorbar": {
             "outlinewidth": 0,
             "ticks": ""
            },
            "colorscale": [
             [
              0,
              "#0d0887"
             ],
             [
              0.1111111111111111,
              "#46039f"
             ],
             [
              0.2222222222222222,
              "#7201a8"
             ],
             [
              0.3333333333333333,
              "#9c179e"
             ],
             [
              0.4444444444444444,
              "#bd3786"
             ],
             [
              0.5555555555555556,
              "#d8576b"
             ],
             [
              0.6666666666666666,
              "#ed7953"
             ],
             [
              0.7777777777777778,
              "#fb9f3a"
             ],
             [
              0.8888888888888888,
              "#fdca26"
             ],
             [
              1,
              "#f0f921"
             ]
            ],
            "type": "histogram2dcontour"
           }
          ],
          "mesh3d": [
           {
            "colorbar": {
             "outlinewidth": 0,
             "ticks": ""
            },
            "type": "mesh3d"
           }
          ],
          "parcoords": [
           {
            "line": {
             "colorbar": {
              "outlinewidth": 0,
              "ticks": ""
             }
            },
            "type": "parcoords"
           }
          ],
          "pie": [
           {
            "automargin": true,
            "type": "pie"
           }
          ],
          "scatter": [
           {
            "fillpattern": {
             "fillmode": "overlay",
             "size": 10,
             "solidity": 0.2
            },
            "type": "scatter"
           }
          ],
          "scatter3d": [
           {
            "line": {
             "colorbar": {
              "outlinewidth": 0,
              "ticks": ""
             }
            },
            "marker": {
             "colorbar": {
              "outlinewidth": 0,
              "ticks": ""
             }
            },
            "type": "scatter3d"
           }
          ],
          "scattercarpet": [
           {
            "marker": {
             "colorbar": {
              "outlinewidth": 0,
              "ticks": ""
             }
            },
            "type": "scattercarpet"
           }
          ],
          "scattergeo": [
           {
            "marker": {
             "colorbar": {
              "outlinewidth": 0,
              "ticks": ""
             }
            },
            "type": "scattergeo"
           }
          ],
          "scattergl": [
           {
            "marker": {
             "colorbar": {
              "outlinewidth": 0,
              "ticks": ""
             }
            },
            "type": "scattergl"
           }
          ],
          "scattermapbox": [
           {
            "marker": {
             "colorbar": {
              "outlinewidth": 0,
              "ticks": ""
             }
            },
            "type": "scattermapbox"
           }
          ],
          "scatterpolar": [
           {
            "marker": {
             "colorbar": {
              "outlinewidth": 0,
              "ticks": ""
             }
            },
            "type": "scatterpolar"
           }
          ],
          "scatterpolargl": [
           {
            "marker": {
             "colorbar": {
              "outlinewidth": 0,
              "ticks": ""
             }
            },
            "type": "scatterpolargl"
           }
          ],
          "scatterternary": [
           {
            "marker": {
             "colorbar": {
              "outlinewidth": 0,
              "ticks": ""
             }
            },
            "type": "scatterternary"
           }
          ],
          "surface": [
           {
            "colorbar": {
             "outlinewidth": 0,
             "ticks": ""
            },
            "colorscale": [
             [
              0,
              "#0d0887"
             ],
             [
              0.1111111111111111,
              "#46039f"
             ],
             [
              0.2222222222222222,
              "#7201a8"
             ],
             [
              0.3333333333333333,
              "#9c179e"
             ],
             [
              0.4444444444444444,
              "#bd3786"
             ],
             [
              0.5555555555555556,
              "#d8576b"
             ],
             [
              0.6666666666666666,
              "#ed7953"
             ],
             [
              0.7777777777777778,
              "#fb9f3a"
             ],
             [
              0.8888888888888888,
              "#fdca26"
             ],
             [
              1,
              "#f0f921"
             ]
            ],
            "type": "surface"
           }
          ],
          "table": [
           {
            "cells": {
             "fill": {
              "color": "#EBF0F8"
             },
             "line": {
              "color": "white"
             }
            },
            "header": {
             "fill": {
              "color": "#C8D4E3"
             },
             "line": {
              "color": "white"
             }
            },
            "type": "table"
           }
          ]
         },
         "layout": {
          "annotationdefaults": {
           "arrowcolor": "#2a3f5f",
           "arrowhead": 0,
           "arrowwidth": 1
          },
          "autotypenumbers": "strict",
          "coloraxis": {
           "colorbar": {
            "outlinewidth": 0,
            "ticks": ""
           }
          },
          "colorscale": {
           "diverging": [
            [
             0,
             "#8e0152"
            ],
            [
             0.1,
             "#c51b7d"
            ],
            [
             0.2,
             "#de77ae"
            ],
            [
             0.3,
             "#f1b6da"
            ],
            [
             0.4,
             "#fde0ef"
            ],
            [
             0.5,
             "#f7f7f7"
            ],
            [
             0.6,
             "#e6f5d0"
            ],
            [
             0.7,
             "#b8e186"
            ],
            [
             0.8,
             "#7fbc41"
            ],
            [
             0.9,
             "#4d9221"
            ],
            [
             1,
             "#276419"
            ]
           ],
           "sequential": [
            [
             0,
             "#0d0887"
            ],
            [
             0.1111111111111111,
             "#46039f"
            ],
            [
             0.2222222222222222,
             "#7201a8"
            ],
            [
             0.3333333333333333,
             "#9c179e"
            ],
            [
             0.4444444444444444,
             "#bd3786"
            ],
            [
             0.5555555555555556,
             "#d8576b"
            ],
            [
             0.6666666666666666,
             "#ed7953"
            ],
            [
             0.7777777777777778,
             "#fb9f3a"
            ],
            [
             0.8888888888888888,
             "#fdca26"
            ],
            [
             1,
             "#f0f921"
            ]
           ],
           "sequentialminus": [
            [
             0,
             "#0d0887"
            ],
            [
             0.1111111111111111,
             "#46039f"
            ],
            [
             0.2222222222222222,
             "#7201a8"
            ],
            [
             0.3333333333333333,
             "#9c179e"
            ],
            [
             0.4444444444444444,
             "#bd3786"
            ],
            [
             0.5555555555555556,
             "#d8576b"
            ],
            [
             0.6666666666666666,
             "#ed7953"
            ],
            [
             0.7777777777777778,
             "#fb9f3a"
            ],
            [
             0.8888888888888888,
             "#fdca26"
            ],
            [
             1,
             "#f0f921"
            ]
           ]
          },
          "colorway": [
           "#636efa",
           "#EF553B",
           "#00cc96",
           "#ab63fa",
           "#FFA15A",
           "#19d3f3",
           "#FF6692",
           "#B6E880",
           "#FF97FF",
           "#FECB52"
          ],
          "font": {
           "color": "#2a3f5f"
          },
          "geo": {
           "bgcolor": "white",
           "lakecolor": "white",
           "landcolor": "#E5ECF6",
           "showlakes": true,
           "showland": true,
           "subunitcolor": "white"
          },
          "hoverlabel": {
           "align": "left"
          },
          "hovermode": "closest",
          "mapbox": {
           "style": "light"
          },
          "paper_bgcolor": "white",
          "plot_bgcolor": "#E5ECF6",
          "polar": {
           "angularaxis": {
            "gridcolor": "white",
            "linecolor": "white",
            "ticks": ""
           },
           "bgcolor": "#E5ECF6",
           "radialaxis": {
            "gridcolor": "white",
            "linecolor": "white",
            "ticks": ""
           }
          },
          "scene": {
           "xaxis": {
            "backgroundcolor": "#E5ECF6",
            "gridcolor": "white",
            "gridwidth": 2,
            "linecolor": "white",
            "showbackground": true,
            "ticks": "",
            "zerolinecolor": "white"
           },
           "yaxis": {
            "backgroundcolor": "#E5ECF6",
            "gridcolor": "white",
            "gridwidth": 2,
            "linecolor": "white",
            "showbackground": true,
            "ticks": "",
            "zerolinecolor": "white"
           },
           "zaxis": {
            "backgroundcolor": "#E5ECF6",
            "gridcolor": "white",
            "gridwidth": 2,
            "linecolor": "white",
            "showbackground": true,
            "ticks": "",
            "zerolinecolor": "white"
           }
          },
          "shapedefaults": {
           "line": {
            "color": "#2a3f5f"
           }
          },
          "ternary": {
           "aaxis": {
            "gridcolor": "white",
            "linecolor": "white",
            "ticks": ""
           },
           "baxis": {
            "gridcolor": "white",
            "linecolor": "white",
            "ticks": ""
           },
           "bgcolor": "#E5ECF6",
           "caxis": {
            "gridcolor": "white",
            "linecolor": "white",
            "ticks": ""
           }
          },
          "title": {
           "x": 0.05
          },
          "xaxis": {
           "automargin": true,
           "gridcolor": "white",
           "linecolor": "white",
           "ticks": "",
           "title": {
            "standoff": 15
           },
           "zerolinecolor": "white",
           "zerolinewidth": 2
          },
          "yaxis": {
           "automargin": true,
           "gridcolor": "white",
           "linecolor": "white",
           "ticks": "",
           "title": {
            "standoff": 15
           },
           "zerolinecolor": "white",
           "zerolinewidth": 2
          }
         }
        },
        "xaxis": {
         "anchor": "y",
         "domain": [
          0,
          1
         ],
         "title": {
          "text": "writing score"
         }
        },
        "yaxis": {
         "anchor": "x",
         "domain": [
          0,
          1
         ],
         "title": {
          "text": "count"
         }
        }
       }
      },
      "text/html": [
       "<div>                            <div id=\"f21bc5a9-0b83-4de3-a3d4-057c7d8eeea6\" class=\"plotly-graph-div\" style=\"height:525px; width:100%;\"></div>            <script type=\"text/javascript\">                require([\"plotly\"], function(Plotly) {                    window.PLOTLYENV=window.PLOTLYENV || {};                                    if (document.getElementById(\"f21bc5a9-0b83-4de3-a3d4-057c7d8eeea6\")) {                    Plotly.newPlot(                        \"f21bc5a9-0b83-4de3-a3d4-057c7d8eeea6\",                        [{\"alignmentgroup\":\"True\",\"bingroup\":\"x\",\"hovertemplate\":\"writing score=%{x}<br>count=%{y}<extra></extra>\",\"legendgroup\":\"\",\"marker\":{\"color\":\"#636efa\",\"pattern\":{\"shape\":\"\"}},\"name\":\"\",\"offsetgroup\":\"\",\"orientation\":\"v\",\"showlegend\":false,\"x\":[74,88,93,44,75,78,92,39,67,50,52,43,73,70,58,78,86,28,46,61,63,70,53,73,80,72,55,75,65,75,74,61,65,38,82,79,83,59,88,57,54,68,65,66,54,57,62,76,76,82,48,68,42,75,87,43,86,49,58,10,72,34,55,71,59,61,37,74,56,57,73,63,48,56,41,38,22,81,72,68,50,45,54,63,34,82,88,74,67,82,74,36,71,50,92,82,62,70,62,62,67,74,89,47,90,72,100,64,70,72,98,49,47,54,100,74,82,79,61,65,89,92,93,56,73,86,67,74,74,51,82,40,70,84,75,48,41,56,67,69,71,64,54,47,78,33,75,66,81,93,69,68,66,47,61,88,78,60,87,64,74,85,52,49,91,100,51,78,78,70,74,78,81,70,54,87,58,77,62,100,75,66,47,70,49,65,65,68,45,87,69,79,66,62,85,52,65,51,55,76,86,77,69,68,42,78,62,76,76,66,79,27,60,56,81,75,88,39,70,56,74,73,62,75,73,54,71,54,64,94,66,42,83,78,84,77,67,74,51,80,66,83,55,43,69,71,74,68,62,53,49,83,70,72,52,70,68,77,78,81,77,78,51,90,68,41,81,77,95,70,61,42,58,71,76,73,93,75,80,57,42,46,84,78,46,82,88,82,76,77,68,70,57,75,80,60,43,68,50,75,81,52,81,64,83,69,81,44,67,52,80,57,68,69,75,65,91,78,69,63,84,79,80,53,43,94,62,19,77,51,61,35,53,81,95,66,69,43,27,60,52,63,74,67,67,75,57,95,66,76,69,52,80,57,70,70,61,69,61,89,59,78,58,32,58,60,53,61,58,85,71,70,72,96,73,41,82,100,77,62,83,95,71,45,43,75,70,67,64,75,59,77,67,56,77,41,63,95,57,54,67,43,55,100,62,68,63,77,56,85,74,78,60,67,79,69,68,67,62,54,93,64,67,80,34,62,86,65,53,54,59,70,55,50,66,53,64,73,51,82,79,80,69,76,73,77,60,80,42,72,85,97,74,49,62,47,89,48,100,68,55,45,76,91,62,91,38,65,85,76,90,74,84,61,91,83,66,72,70,67,68,56,61,46,54,71,56,74,57,82,76,70,90,90,68,66,52,76,68,72,82,92,54,92,54,80,66,54,77,87,73,43,52,62,94,85,84,73,78,79,52,84,57,50,49,59,60,43,47,70,73,53,58,94,68,83,58,62,71,86,68,80,79,89,66,80,97,64,64,69,65,88,50,64,40,33,79,66,70,62,79,74,92,80,46,45,100,78,47,67,70,92,56,64,71,53,52,89,58,68,96,80,78,80,77,76,73,62,65,65,54,50,64,73,99,72,15,48,73,81,63,30,80,51,90,62,82,54,62,65,63,66,91,74,93,72,38,83,84,68,54,56,52,86,62,99,63,46,46,55,70,65,81,85,80,64,81,88,74,73,51,90,79,80,60,81,65,68,55,81,53,76,98,74,79,67,64,61,58,85,73,63,69,67,63,60,71,87,61,77,68,50,76,84,78,66,76,76,78,60,74,60,54,44,68,100,68,73,44,83,53,78,81,73,56,86,90,70,79,59,82,72,87,67,64,65,36,52,79,58,90,85,99,84,74,87,72,99,74,80,70,59,88,42,41,71,77,57,84,37,80,43,94,44,57,59,84,73,73,55,72,56,82,72,47,74,71,68,59,86,68,65,75,85,53,92,52,72,65,77,64,54,86,63,59,72,77,60,75,57,49,74,72,79,60,55,70,43,82,82,57,84,82,62,79,44,77,32,61,61,60,70,69,77,51,73,70,81,54,57,68,73,95,87,78,74,75,40,69,51,36,49,67,76,83,87,64,76,68,88,92,93,51,82,52,58,70,76,81,53,57,89,58,89,45,74,57,79,53,73,46,51,36,76,64,84,85,50,68,69,67,63,93,61,55,96,65,81,46,72,53,87,38,80,91,88,52,41,72,51,47,76,78,82,61,66,84,54,80,74,66,70,71,44,54,80,95,59,74,48,91,85,73,75,69,38,27,79,63,82,89,74,41,100,84,77,51,91,72,70,48,82,66,66,55,66,100,52,80,91,67,46,66,65,69,60,52,71,44,51,70,62,73,74,90,58,53,57,85,69,72,96,64,61,61,58,80,60,52,73,71,83,72,54,69,62,81,100,59,71,64,53,100,75,58,72,64,60,67,80,100,69,60,61,67,77,60,58,48,94,23,78,86,91,82,54,51,76,45,83,75,78,76,74,62,95,55,65,77,86],\"xaxis\":\"x\",\"yaxis\":\"y\",\"type\":\"histogram\"}],                        {\"template\":{\"data\":{\"histogram2dcontour\":[{\"type\":\"histogram2dcontour\",\"colorbar\":{\"outlinewidth\":0,\"ticks\":\"\"},\"colorscale\":[[0.0,\"#0d0887\"],[0.1111111111111111,\"#46039f\"],[0.2222222222222222,\"#7201a8\"],[0.3333333333333333,\"#9c179e\"],[0.4444444444444444,\"#bd3786\"],[0.5555555555555556,\"#d8576b\"],[0.6666666666666666,\"#ed7953\"],[0.7777777777777778,\"#fb9f3a\"],[0.8888888888888888,\"#fdca26\"],[1.0,\"#f0f921\"]]}],\"choropleth\":[{\"type\":\"choropleth\",\"colorbar\":{\"outlinewidth\":0,\"ticks\":\"\"}}],\"histogram2d\":[{\"type\":\"histogram2d\",\"colorbar\":{\"outlinewidth\":0,\"ticks\":\"\"},\"colorscale\":[[0.0,\"#0d0887\"],[0.1111111111111111,\"#46039f\"],[0.2222222222222222,\"#7201a8\"],[0.3333333333333333,\"#9c179e\"],[0.4444444444444444,\"#bd3786\"],[0.5555555555555556,\"#d8576b\"],[0.6666666666666666,\"#ed7953\"],[0.7777777777777778,\"#fb9f3a\"],[0.8888888888888888,\"#fdca26\"],[1.0,\"#f0f921\"]]}],\"heatmap\":[{\"type\":\"heatmap\",\"colorbar\":{\"outlinewidth\":0,\"ticks\":\"\"},\"colorscale\":[[0.0,\"#0d0887\"],[0.1111111111111111,\"#46039f\"],[0.2222222222222222,\"#7201a8\"],[0.3333333333333333,\"#9c179e\"],[0.4444444444444444,\"#bd3786\"],[0.5555555555555556,\"#d8576b\"],[0.6666666666666666,\"#ed7953\"],[0.7777777777777778,\"#fb9f3a\"],[0.8888888888888888,\"#fdca26\"],[1.0,\"#f0f921\"]]}],\"heatmapgl\":[{\"type\":\"heatmapgl\",\"colorbar\":{\"outlinewidth\":0,\"ticks\":\"\"},\"colorscale\":[[0.0,\"#0d0887\"],[0.1111111111111111,\"#46039f\"],[0.2222222222222222,\"#7201a8\"],[0.3333333333333333,\"#9c179e\"],[0.4444444444444444,\"#bd3786\"],[0.5555555555555556,\"#d8576b\"],[0.6666666666666666,\"#ed7953\"],[0.7777777777777778,\"#fb9f3a\"],[0.8888888888888888,\"#fdca26\"],[1.0,\"#f0f921\"]]}],\"contourcarpet\":[{\"type\":\"contourcarpet\",\"colorbar\":{\"outlinewidth\":0,\"ticks\":\"\"}}],\"contour\":[{\"type\":\"contour\",\"colorbar\":{\"outlinewidth\":0,\"ticks\":\"\"},\"colorscale\":[[0.0,\"#0d0887\"],[0.1111111111111111,\"#46039f\"],[0.2222222222222222,\"#7201a8\"],[0.3333333333333333,\"#9c179e\"],[0.4444444444444444,\"#bd3786\"],[0.5555555555555556,\"#d8576b\"],[0.6666666666666666,\"#ed7953\"],[0.7777777777777778,\"#fb9f3a\"],[0.8888888888888888,\"#fdca26\"],[1.0,\"#f0f921\"]]}],\"surface\":[{\"type\":\"surface\",\"colorbar\":{\"outlinewidth\":0,\"ticks\":\"\"},\"colorscale\":[[0.0,\"#0d0887\"],[0.1111111111111111,\"#46039f\"],[0.2222222222222222,\"#7201a8\"],[0.3333333333333333,\"#9c179e\"],[0.4444444444444444,\"#bd3786\"],[0.5555555555555556,\"#d8576b\"],[0.6666666666666666,\"#ed7953\"],[0.7777777777777778,\"#fb9f3a\"],[0.8888888888888888,\"#fdca26\"],[1.0,\"#f0f921\"]]}],\"mesh3d\":[{\"type\":\"mesh3d\",\"colorbar\":{\"outlinewidth\":0,\"ticks\":\"\"}}],\"scatter\":[{\"fillpattern\":{\"fillmode\":\"overlay\",\"size\":10,\"solidity\":0.2},\"type\":\"scatter\"}],\"parcoords\":[{\"type\":\"parcoords\",\"line\":{\"colorbar\":{\"outlinewidth\":0,\"ticks\":\"\"}}}],\"scatterpolargl\":[{\"type\":\"scatterpolargl\",\"marker\":{\"colorbar\":{\"outlinewidth\":0,\"ticks\":\"\"}}}],\"bar\":[{\"error_x\":{\"color\":\"#2a3f5f\"},\"error_y\":{\"color\":\"#2a3f5f\"},\"marker\":{\"line\":{\"color\":\"#E5ECF6\",\"width\":0.5},\"pattern\":{\"fillmode\":\"overlay\",\"size\":10,\"solidity\":0.2}},\"type\":\"bar\"}],\"scattergeo\":[{\"type\":\"scattergeo\",\"marker\":{\"colorbar\":{\"outlinewidth\":0,\"ticks\":\"\"}}}],\"scatterpolar\":[{\"type\":\"scatterpolar\",\"marker\":{\"colorbar\":{\"outlinewidth\":0,\"ticks\":\"\"}}}],\"histogram\":[{\"marker\":{\"pattern\":{\"fillmode\":\"overlay\",\"size\":10,\"solidity\":0.2}},\"type\":\"histogram\"}],\"scattergl\":[{\"type\":\"scattergl\",\"marker\":{\"colorbar\":{\"outlinewidth\":0,\"ticks\":\"\"}}}],\"scatter3d\":[{\"type\":\"scatter3d\",\"line\":{\"colorbar\":{\"outlinewidth\":0,\"ticks\":\"\"}},\"marker\":{\"colorbar\":{\"outlinewidth\":0,\"ticks\":\"\"}}}],\"scattermapbox\":[{\"type\":\"scattermapbox\",\"marker\":{\"colorbar\":{\"outlinewidth\":0,\"ticks\":\"\"}}}],\"scatterternary\":[{\"type\":\"scatterternary\",\"marker\":{\"colorbar\":{\"outlinewidth\":0,\"ticks\":\"\"}}}],\"scattercarpet\":[{\"type\":\"scattercarpet\",\"marker\":{\"colorbar\":{\"outlinewidth\":0,\"ticks\":\"\"}}}],\"carpet\":[{\"aaxis\":{\"endlinecolor\":\"#2a3f5f\",\"gridcolor\":\"white\",\"linecolor\":\"white\",\"minorgridcolor\":\"white\",\"startlinecolor\":\"#2a3f5f\"},\"baxis\":{\"endlinecolor\":\"#2a3f5f\",\"gridcolor\":\"white\",\"linecolor\":\"white\",\"minorgridcolor\":\"white\",\"startlinecolor\":\"#2a3f5f\"},\"type\":\"carpet\"}],\"table\":[{\"cells\":{\"fill\":{\"color\":\"#EBF0F8\"},\"line\":{\"color\":\"white\"}},\"header\":{\"fill\":{\"color\":\"#C8D4E3\"},\"line\":{\"color\":\"white\"}},\"type\":\"table\"}],\"barpolar\":[{\"marker\":{\"line\":{\"color\":\"#E5ECF6\",\"width\":0.5},\"pattern\":{\"fillmode\":\"overlay\",\"size\":10,\"solidity\":0.2}},\"type\":\"barpolar\"}],\"pie\":[{\"automargin\":true,\"type\":\"pie\"}]},\"layout\":{\"autotypenumbers\":\"strict\",\"colorway\":[\"#636efa\",\"#EF553B\",\"#00cc96\",\"#ab63fa\",\"#FFA15A\",\"#19d3f3\",\"#FF6692\",\"#B6E880\",\"#FF97FF\",\"#FECB52\"],\"font\":{\"color\":\"#2a3f5f\"},\"hovermode\":\"closest\",\"hoverlabel\":{\"align\":\"left\"},\"paper_bgcolor\":\"white\",\"plot_bgcolor\":\"#E5ECF6\",\"polar\":{\"bgcolor\":\"#E5ECF6\",\"angularaxis\":{\"gridcolor\":\"white\",\"linecolor\":\"white\",\"ticks\":\"\"},\"radialaxis\":{\"gridcolor\":\"white\",\"linecolor\":\"white\",\"ticks\":\"\"}},\"ternary\":{\"bgcolor\":\"#E5ECF6\",\"aaxis\":{\"gridcolor\":\"white\",\"linecolor\":\"white\",\"ticks\":\"\"},\"baxis\":{\"gridcolor\":\"white\",\"linecolor\":\"white\",\"ticks\":\"\"},\"caxis\":{\"gridcolor\":\"white\",\"linecolor\":\"white\",\"ticks\":\"\"}},\"coloraxis\":{\"colorbar\":{\"outlinewidth\":0,\"ticks\":\"\"}},\"colorscale\":{\"sequential\":[[0.0,\"#0d0887\"],[0.1111111111111111,\"#46039f\"],[0.2222222222222222,\"#7201a8\"],[0.3333333333333333,\"#9c179e\"],[0.4444444444444444,\"#bd3786\"],[0.5555555555555556,\"#d8576b\"],[0.6666666666666666,\"#ed7953\"],[0.7777777777777778,\"#fb9f3a\"],[0.8888888888888888,\"#fdca26\"],[1.0,\"#f0f921\"]],\"sequentialminus\":[[0.0,\"#0d0887\"],[0.1111111111111111,\"#46039f\"],[0.2222222222222222,\"#7201a8\"],[0.3333333333333333,\"#9c179e\"],[0.4444444444444444,\"#bd3786\"],[0.5555555555555556,\"#d8576b\"],[0.6666666666666666,\"#ed7953\"],[0.7777777777777778,\"#fb9f3a\"],[0.8888888888888888,\"#fdca26\"],[1.0,\"#f0f921\"]],\"diverging\":[[0,\"#8e0152\"],[0.1,\"#c51b7d\"],[0.2,\"#de77ae\"],[0.3,\"#f1b6da\"],[0.4,\"#fde0ef\"],[0.5,\"#f7f7f7\"],[0.6,\"#e6f5d0\"],[0.7,\"#b8e186\"],[0.8,\"#7fbc41\"],[0.9,\"#4d9221\"],[1,\"#276419\"]]},\"xaxis\":{\"gridcolor\":\"white\",\"linecolor\":\"white\",\"ticks\":\"\",\"title\":{\"standoff\":15},\"zerolinecolor\":\"white\",\"automargin\":true,\"zerolinewidth\":2},\"yaxis\":{\"gridcolor\":\"white\",\"linecolor\":\"white\",\"ticks\":\"\",\"title\":{\"standoff\":15},\"zerolinecolor\":\"white\",\"automargin\":true,\"zerolinewidth\":2},\"scene\":{\"xaxis\":{\"backgroundcolor\":\"#E5ECF6\",\"gridcolor\":\"white\",\"linecolor\":\"white\",\"showbackground\":true,\"ticks\":\"\",\"zerolinecolor\":\"white\",\"gridwidth\":2},\"yaxis\":{\"backgroundcolor\":\"#E5ECF6\",\"gridcolor\":\"white\",\"linecolor\":\"white\",\"showbackground\":true,\"ticks\":\"\",\"zerolinecolor\":\"white\",\"gridwidth\":2},\"zaxis\":{\"backgroundcolor\":\"#E5ECF6\",\"gridcolor\":\"white\",\"linecolor\":\"white\",\"showbackground\":true,\"ticks\":\"\",\"zerolinecolor\":\"white\",\"gridwidth\":2}},\"shapedefaults\":{\"line\":{\"color\":\"#2a3f5f\"}},\"annotationdefaults\":{\"arrowcolor\":\"#2a3f5f\",\"arrowhead\":0,\"arrowwidth\":1},\"geo\":{\"bgcolor\":\"white\",\"landcolor\":\"#E5ECF6\",\"subunitcolor\":\"white\",\"showland\":true,\"showlakes\":true,\"lakecolor\":\"white\"},\"title\":{\"x\":0.05},\"mapbox\":{\"style\":\"light\"}}},\"xaxis\":{\"anchor\":\"y\",\"domain\":[0.0,1.0],\"title\":{\"text\":\"writing score\"}},\"yaxis\":{\"anchor\":\"x\",\"domain\":[0.0,1.0],\"title\":{\"text\":\"count\"}},\"legend\":{\"tracegroupgap\":0},\"margin\":{\"t\":60},\"barmode\":\"relative\"},                        {\"responsive\": true}                    ).then(function(){\n",
       "                            \n",
       "var gd = document.getElementById('f21bc5a9-0b83-4de3-a3d4-057c7d8eeea6');\n",
       "var x = new MutationObserver(function (mutations, observer) {{\n",
       "        var display = window.getComputedStyle(gd).display;\n",
       "        if (!display || display === 'none') {{\n",
       "            console.log([gd, 'removed!']);\n",
       "            Plotly.purge(gd);\n",
       "            observer.disconnect();\n",
       "        }}\n",
       "}});\n",
       "\n",
       "// Listen for the removal of the full notebook cells\n",
       "var notebookContainer = gd.closest('#notebook-container');\n",
       "if (notebookContainer) {{\n",
       "    x.observe(notebookContainer, {childList: true});\n",
       "}}\n",
       "\n",
       "// Listen for the clearing of the current output cell\n",
       "var outputEl = gd.closest('.output');\n",
       "if (outputEl) {{\n",
       "    x.observe(outputEl, {childList: true});\n",
       "}}\n",
       "\n",
       "                        })                };                });            </script>        </div>"
      ]
     },
     "metadata": {},
     "output_type": "display_data"
    },
    {
     "ename": "NameError",
     "evalue": "name 'df' is not defined",
     "output_type": "error",
     "traceback": [
      "\u001b[0;31m---------------------------------------------------------------------------\u001b[0m",
      "\u001b[0;31mNameError\u001b[0m                                 Traceback (most recent call last)",
      "Cell \u001b[0;32mIn[39], line 21\u001b[0m\n\u001b[1;32m     19\u001b[0m categorical_columns \u001b[38;5;241m=\u001b[39m [\u001b[38;5;124m'\u001b[39m\u001b[38;5;124mrace/ethnicity\u001b[39m\u001b[38;5;124m'\u001b[39m, \u001b[38;5;124m'\u001b[39m\u001b[38;5;124mparental level of education\u001b[39m\u001b[38;5;124m'\u001b[39m, \u001b[38;5;124m'\u001b[39m\u001b[38;5;124mlunch\u001b[39m\u001b[38;5;124m'\u001b[39m, \u001b[38;5;124m'\u001b[39m\u001b[38;5;124mtest preparation course\u001b[39m\u001b[38;5;124m'\u001b[39m]\n\u001b[1;32m     20\u001b[0m \u001b[38;5;28;01mfor\u001b[39;00m column \u001b[38;5;129;01min\u001b[39;00m categorical_columns:\n\u001b[0;32m---> 21\u001b[0m     fig \u001b[38;5;241m=\u001b[39m px\u001b[38;5;241m.\u001b[39mhistogram(df, x\u001b[38;5;241m=\u001b[39mcolumn)\n\u001b[1;32m     22\u001b[0m     fig\u001b[38;5;241m.\u001b[39mshow()\n",
      "\u001b[0;31mNameError\u001b[0m: name 'df' is not defined"
     ]
    }
   ],
   "source": [
    "# 1. Descriptive Statistics\n",
    "# Histograms for scores\n",
    "import plotly.express as px\n",
    "\n",
    "# Assuming 'df' is your DataFrame\n",
    "\n",
    "# Create box plots for numerical columns\n",
    "numerical_columns = ['math score', 'reading score', 'writing score']\n",
    "for column in numerical_columns:\n",
    "    fig = px.box(student_data, y=column)\n",
    "    fig.show()\n",
    "\n",
    "# Create histograms for numerical columns\n",
    "for column in numerical_columns:\n",
    "    fig = px.histogram(student_data, x=column)\n",
    "    fig.show()\n",
    "\n",
    "# Create bar plots for categorical columns\n",
    "categorical_columns = ['race/ethnicity', 'parental level of education', 'lunch', 'test preparation course']\n",
    "for column in categorical_columns:\n",
    "    fig = px.histogram(df, x=column)\n",
    "    fig.show()"
   ]
  },
  {
   "cell_type": "code",
   "execution_count": 44,
   "id": "0c87c9be",
   "metadata": {
    "scrolled": true
   },
   "outputs": [
    {
     "name": "stdout",
     "output_type": "stream",
     "text": [
      "               math score  writing score  reading score\n",
      "math score       1.000000       0.802642       0.817580\n",
      "writing score    0.802642       1.000000       0.954598\n",
      "reading score    0.817580       0.954598       1.000000\n"
     ]
    }
   ],
   "source": [
    "# 2. Correlation ( using isolation by reference to account for the float error)\n",
    "correlation = student_data[['math score', 'writing score', 'reading score']].corr()\n",
    "print(correlation)\n",
    "# print(student_data.corr())"
   ]
  },
  {
   "cell_type": "code",
   "execution_count": 49,
   "id": "c2fa248a",
   "metadata": {},
   "outputs": [
    {
     "data": {
      "application/vnd.plotly.v1+json": {
       "config": {
        "plotlyServerURL": "https://plot.ly"
       },
       "data": [
        {
         "colorscale": [
          [
           0,
           "#0d0887"
          ],
          [
           0.1111111111111111,
           "#46039f"
          ],
          [
           0.2222222222222222,
           "#7201a8"
          ],
          [
           0.3333333333333333,
           "#9c179e"
          ],
          [
           0.4444444444444444,
           "#bd3786"
          ],
          [
           0.5555555555555556,
           "#d8576b"
          ],
          [
           0.6666666666666666,
           "#ed7953"
          ],
          [
           0.7777777777777778,
           "#fb9f3a"
          ],
          [
           0.8888888888888888,
           "#fdca26"
          ],
          [
           1,
           "#f0f921"
          ]
         ],
         "reversescale": false,
         "showscale": true,
         "type": "heatmap",
         "x": [
          "math score",
          "writing score",
          "reading score"
         ],
         "y": [
          "math score",
          "writing score",
          "reading score"
         ],
         "z": [
          [
           1,
           -0.9882556999716391,
           -0.9525170582990123
          ],
          [
           -0.9882556999716391,
           1,
           0.8948022483920638
          ],
          [
           -0.9525170582990123,
           0.8948022483920638,
           1
          ]
         ]
        }
       ],
       "layout": {
        "annotations": [
         {
          "font": {
           "color": "#000000"
          },
          "showarrow": false,
          "text": "1.0",
          "x": "math score",
          "xref": "x",
          "y": "math score",
          "yref": "y"
         },
         {
          "font": {
           "color": "#FFFFFF"
          },
          "showarrow": false,
          "text": "-0.99",
          "x": "writing score",
          "xref": "x",
          "y": "math score",
          "yref": "y"
         },
         {
          "font": {
           "color": "#FFFFFF"
          },
          "showarrow": false,
          "text": "-0.95",
          "x": "reading score",
          "xref": "x",
          "y": "math score",
          "yref": "y"
         },
         {
          "font": {
           "color": "#FFFFFF"
          },
          "showarrow": false,
          "text": "-0.99",
          "x": "math score",
          "xref": "x",
          "y": "writing score",
          "yref": "y"
         },
         {
          "font": {
           "color": "#000000"
          },
          "showarrow": false,
          "text": "1.0",
          "x": "writing score",
          "xref": "x",
          "y": "writing score",
          "yref": "y"
         },
         {
          "font": {
           "color": "#000000"
          },
          "showarrow": false,
          "text": "0.89",
          "x": "reading score",
          "xref": "x",
          "y": "writing score",
          "yref": "y"
         },
         {
          "font": {
           "color": "#FFFFFF"
          },
          "showarrow": false,
          "text": "-0.95",
          "x": "math score",
          "xref": "x",
          "y": "reading score",
          "yref": "y"
         },
         {
          "font": {
           "color": "#000000"
          },
          "showarrow": false,
          "text": "0.89",
          "x": "writing score",
          "xref": "x",
          "y": "reading score",
          "yref": "y"
         },
         {
          "font": {
           "color": "#000000"
          },
          "showarrow": false,
          "text": "1.0",
          "x": "reading score",
          "xref": "x",
          "y": "reading score",
          "yref": "y"
         }
        ],
        "template": {
         "data": {
          "bar": [
           {
            "error_x": {
             "color": "#2a3f5f"
            },
            "error_y": {
             "color": "#2a3f5f"
            },
            "marker": {
             "line": {
              "color": "#E5ECF6",
              "width": 0.5
             },
             "pattern": {
              "fillmode": "overlay",
              "size": 10,
              "solidity": 0.2
             }
            },
            "type": "bar"
           }
          ],
          "barpolar": [
           {
            "marker": {
             "line": {
              "color": "#E5ECF6",
              "width": 0.5
             },
             "pattern": {
              "fillmode": "overlay",
              "size": 10,
              "solidity": 0.2
             }
            },
            "type": "barpolar"
           }
          ],
          "carpet": [
           {
            "aaxis": {
             "endlinecolor": "#2a3f5f",
             "gridcolor": "white",
             "linecolor": "white",
             "minorgridcolor": "white",
             "startlinecolor": "#2a3f5f"
            },
            "baxis": {
             "endlinecolor": "#2a3f5f",
             "gridcolor": "white",
             "linecolor": "white",
             "minorgridcolor": "white",
             "startlinecolor": "#2a3f5f"
            },
            "type": "carpet"
           }
          ],
          "choropleth": [
           {
            "colorbar": {
             "outlinewidth": 0,
             "ticks": ""
            },
            "type": "choropleth"
           }
          ],
          "contour": [
           {
            "colorbar": {
             "outlinewidth": 0,
             "ticks": ""
            },
            "colorscale": [
             [
              0,
              "#0d0887"
             ],
             [
              0.1111111111111111,
              "#46039f"
             ],
             [
              0.2222222222222222,
              "#7201a8"
             ],
             [
              0.3333333333333333,
              "#9c179e"
             ],
             [
              0.4444444444444444,
              "#bd3786"
             ],
             [
              0.5555555555555556,
              "#d8576b"
             ],
             [
              0.6666666666666666,
              "#ed7953"
             ],
             [
              0.7777777777777778,
              "#fb9f3a"
             ],
             [
              0.8888888888888888,
              "#fdca26"
             ],
             [
              1,
              "#f0f921"
             ]
            ],
            "type": "contour"
           }
          ],
          "contourcarpet": [
           {
            "colorbar": {
             "outlinewidth": 0,
             "ticks": ""
            },
            "type": "contourcarpet"
           }
          ],
          "heatmap": [
           {
            "colorbar": {
             "outlinewidth": 0,
             "ticks": ""
            },
            "colorscale": [
             [
              0,
              "#0d0887"
             ],
             [
              0.1111111111111111,
              "#46039f"
             ],
             [
              0.2222222222222222,
              "#7201a8"
             ],
             [
              0.3333333333333333,
              "#9c179e"
             ],
             [
              0.4444444444444444,
              "#bd3786"
             ],
             [
              0.5555555555555556,
              "#d8576b"
             ],
             [
              0.6666666666666666,
              "#ed7953"
             ],
             [
              0.7777777777777778,
              "#fb9f3a"
             ],
             [
              0.8888888888888888,
              "#fdca26"
             ],
             [
              1,
              "#f0f921"
             ]
            ],
            "type": "heatmap"
           }
          ],
          "heatmapgl": [
           {
            "colorbar": {
             "outlinewidth": 0,
             "ticks": ""
            },
            "colorscale": [
             [
              0,
              "#0d0887"
             ],
             [
              0.1111111111111111,
              "#46039f"
             ],
             [
              0.2222222222222222,
              "#7201a8"
             ],
             [
              0.3333333333333333,
              "#9c179e"
             ],
             [
              0.4444444444444444,
              "#bd3786"
             ],
             [
              0.5555555555555556,
              "#d8576b"
             ],
             [
              0.6666666666666666,
              "#ed7953"
             ],
             [
              0.7777777777777778,
              "#fb9f3a"
             ],
             [
              0.8888888888888888,
              "#fdca26"
             ],
             [
              1,
              "#f0f921"
             ]
            ],
            "type": "heatmapgl"
           }
          ],
          "histogram": [
           {
            "marker": {
             "pattern": {
              "fillmode": "overlay",
              "size": 10,
              "solidity": 0.2
             }
            },
            "type": "histogram"
           }
          ],
          "histogram2d": [
           {
            "colorbar": {
             "outlinewidth": 0,
             "ticks": ""
            },
            "colorscale": [
             [
              0,
              "#0d0887"
             ],
             [
              0.1111111111111111,
              "#46039f"
             ],
             [
              0.2222222222222222,
              "#7201a8"
             ],
             [
              0.3333333333333333,
              "#9c179e"
             ],
             [
              0.4444444444444444,
              "#bd3786"
             ],
             [
              0.5555555555555556,
              "#d8576b"
             ],
             [
              0.6666666666666666,
              "#ed7953"
             ],
             [
              0.7777777777777778,
              "#fb9f3a"
             ],
             [
              0.8888888888888888,
              "#fdca26"
             ],
             [
              1,
              "#f0f921"
             ]
            ],
            "type": "histogram2d"
           }
          ],
          "histogram2dcontour": [
           {
            "colorbar": {
             "outlinewidth": 0,
             "ticks": ""
            },
            "colorscale": [
             [
              0,
              "#0d0887"
             ],
             [
              0.1111111111111111,
              "#46039f"
             ],
             [
              0.2222222222222222,
              "#7201a8"
             ],
             [
              0.3333333333333333,
              "#9c179e"
             ],
             [
              0.4444444444444444,
              "#bd3786"
             ],
             [
              0.5555555555555556,
              "#d8576b"
             ],
             [
              0.6666666666666666,
              "#ed7953"
             ],
             [
              0.7777777777777778,
              "#fb9f3a"
             ],
             [
              0.8888888888888888,
              "#fdca26"
             ],
             [
              1,
              "#f0f921"
             ]
            ],
            "type": "histogram2dcontour"
           }
          ],
          "mesh3d": [
           {
            "colorbar": {
             "outlinewidth": 0,
             "ticks": ""
            },
            "type": "mesh3d"
           }
          ],
          "parcoords": [
           {
            "line": {
             "colorbar": {
              "outlinewidth": 0,
              "ticks": ""
             }
            },
            "type": "parcoords"
           }
          ],
          "pie": [
           {
            "automargin": true,
            "type": "pie"
           }
          ],
          "scatter": [
           {
            "fillpattern": {
             "fillmode": "overlay",
             "size": 10,
             "solidity": 0.2
            },
            "type": "scatter"
           }
          ],
          "scatter3d": [
           {
            "line": {
             "colorbar": {
              "outlinewidth": 0,
              "ticks": ""
             }
            },
            "marker": {
             "colorbar": {
              "outlinewidth": 0,
              "ticks": ""
             }
            },
            "type": "scatter3d"
           }
          ],
          "scattercarpet": [
           {
            "marker": {
             "colorbar": {
              "outlinewidth": 0,
              "ticks": ""
             }
            },
            "type": "scattercarpet"
           }
          ],
          "scattergeo": [
           {
            "marker": {
             "colorbar": {
              "outlinewidth": 0,
              "ticks": ""
             }
            },
            "type": "scattergeo"
           }
          ],
          "scattergl": [
           {
            "marker": {
             "colorbar": {
              "outlinewidth": 0,
              "ticks": ""
             }
            },
            "type": "scattergl"
           }
          ],
          "scattermapbox": [
           {
            "marker": {
             "colorbar": {
              "outlinewidth": 0,
              "ticks": ""
             }
            },
            "type": "scattermapbox"
           }
          ],
          "scatterpolar": [
           {
            "marker": {
             "colorbar": {
              "outlinewidth": 0,
              "ticks": ""
             }
            },
            "type": "scatterpolar"
           }
          ],
          "scatterpolargl": [
           {
            "marker": {
             "colorbar": {
              "outlinewidth": 0,
              "ticks": ""
             }
            },
            "type": "scatterpolargl"
           }
          ],
          "scatterternary": [
           {
            "marker": {
             "colorbar": {
              "outlinewidth": 0,
              "ticks": ""
             }
            },
            "type": "scatterternary"
           }
          ],
          "surface": [
           {
            "colorbar": {
             "outlinewidth": 0,
             "ticks": ""
            },
            "colorscale": [
             [
              0,
              "#0d0887"
             ],
             [
              0.1111111111111111,
              "#46039f"
             ],
             [
              0.2222222222222222,
              "#7201a8"
             ],
             [
              0.3333333333333333,
              "#9c179e"
             ],
             [
              0.4444444444444444,
              "#bd3786"
             ],
             [
              0.5555555555555556,
              "#d8576b"
             ],
             [
              0.6666666666666666,
              "#ed7953"
             ],
             [
              0.7777777777777778,
              "#fb9f3a"
             ],
             [
              0.8888888888888888,
              "#fdca26"
             ],
             [
              1,
              "#f0f921"
             ]
            ],
            "type": "surface"
           }
          ],
          "table": [
           {
            "cells": {
             "fill": {
              "color": "#EBF0F8"
             },
             "line": {
              "color": "white"
             }
            },
            "header": {
             "fill": {
              "color": "#C8D4E3"
             },
             "line": {
              "color": "white"
             }
            },
            "type": "table"
           }
          ]
         },
         "layout": {
          "annotationdefaults": {
           "arrowcolor": "#2a3f5f",
           "arrowhead": 0,
           "arrowwidth": 1
          },
          "autotypenumbers": "strict",
          "coloraxis": {
           "colorbar": {
            "outlinewidth": 0,
            "ticks": ""
           }
          },
          "colorscale": {
           "diverging": [
            [
             0,
             "#8e0152"
            ],
            [
             0.1,
             "#c51b7d"
            ],
            [
             0.2,
             "#de77ae"
            ],
            [
             0.3,
             "#f1b6da"
            ],
            [
             0.4,
             "#fde0ef"
            ],
            [
             0.5,
             "#f7f7f7"
            ],
            [
             0.6,
             "#e6f5d0"
            ],
            [
             0.7,
             "#b8e186"
            ],
            [
             0.8,
             "#7fbc41"
            ],
            [
             0.9,
             "#4d9221"
            ],
            [
             1,
             "#276419"
            ]
           ],
           "sequential": [
            [
             0,
             "#0d0887"
            ],
            [
             0.1111111111111111,
             "#46039f"
            ],
            [
             0.2222222222222222,
             "#7201a8"
            ],
            [
             0.3333333333333333,
             "#9c179e"
            ],
            [
             0.4444444444444444,
             "#bd3786"
            ],
            [
             0.5555555555555556,
             "#d8576b"
            ],
            [
             0.6666666666666666,
             "#ed7953"
            ],
            [
             0.7777777777777778,
             "#fb9f3a"
            ],
            [
             0.8888888888888888,
             "#fdca26"
            ],
            [
             1,
             "#f0f921"
            ]
           ],
           "sequentialminus": [
            [
             0,
             "#0d0887"
            ],
            [
             0.1111111111111111,
             "#46039f"
            ],
            [
             0.2222222222222222,
             "#7201a8"
            ],
            [
             0.3333333333333333,
             "#9c179e"
            ],
            [
             0.4444444444444444,
             "#bd3786"
            ],
            [
             0.5555555555555556,
             "#d8576b"
            ],
            [
             0.6666666666666666,
             "#ed7953"
            ],
            [
             0.7777777777777778,
             "#fb9f3a"
            ],
            [
             0.8888888888888888,
             "#fdca26"
            ],
            [
             1,
             "#f0f921"
            ]
           ]
          },
          "colorway": [
           "#636efa",
           "#EF553B",
           "#00cc96",
           "#ab63fa",
           "#FFA15A",
           "#19d3f3",
           "#FF6692",
           "#B6E880",
           "#FF97FF",
           "#FECB52"
          ],
          "font": {
           "color": "#2a3f5f"
          },
          "geo": {
           "bgcolor": "white",
           "lakecolor": "white",
           "landcolor": "#E5ECF6",
           "showlakes": true,
           "showland": true,
           "subunitcolor": "white"
          },
          "hoverlabel": {
           "align": "left"
          },
          "hovermode": "closest",
          "mapbox": {
           "style": "light"
          },
          "paper_bgcolor": "white",
          "plot_bgcolor": "#E5ECF6",
          "polar": {
           "angularaxis": {
            "gridcolor": "white",
            "linecolor": "white",
            "ticks": ""
           },
           "bgcolor": "#E5ECF6",
           "radialaxis": {
            "gridcolor": "white",
            "linecolor": "white",
            "ticks": ""
           }
          },
          "scene": {
           "xaxis": {
            "backgroundcolor": "#E5ECF6",
            "gridcolor": "white",
            "gridwidth": 2,
            "linecolor": "white",
            "showbackground": true,
            "ticks": "",
            "zerolinecolor": "white"
           },
           "yaxis": {
            "backgroundcolor": "#E5ECF6",
            "gridcolor": "white",
            "gridwidth": 2,
            "linecolor": "white",
            "showbackground": true,
            "ticks": "",
            "zerolinecolor": "white"
           },
           "zaxis": {
            "backgroundcolor": "#E5ECF6",
            "gridcolor": "white",
            "gridwidth": 2,
            "linecolor": "white",
            "showbackground": true,
            "ticks": "",
            "zerolinecolor": "white"
           }
          },
          "shapedefaults": {
           "line": {
            "color": "#2a3f5f"
           }
          },
          "ternary": {
           "aaxis": {
            "gridcolor": "white",
            "linecolor": "white",
            "ticks": ""
           },
           "baxis": {
            "gridcolor": "white",
            "linecolor": "white",
            "ticks": ""
           },
           "bgcolor": "#E5ECF6",
           "caxis": {
            "gridcolor": "white",
            "linecolor": "white",
            "ticks": ""
           }
          },
          "title": {
           "x": 0.05
          },
          "xaxis": {
           "automargin": true,
           "gridcolor": "white",
           "linecolor": "white",
           "ticks": "",
           "title": {
            "standoff": 15
           },
           "zerolinecolor": "white",
           "zerolinewidth": 2
          },
          "yaxis": {
           "automargin": true,
           "gridcolor": "white",
           "linecolor": "white",
           "ticks": "",
           "title": {
            "standoff": 15
           },
           "zerolinecolor": "white",
           "zerolinewidth": 2
          }
         }
        },
        "xaxis": {
         "dtick": 1,
         "gridcolor": "rgb(0, 0, 0)",
         "side": "top",
         "ticks": ""
        },
        "yaxis": {
         "dtick": 1,
         "ticks": "",
         "ticksuffix": "  "
        }
       }
      },
      "text/html": [
       "<div>                            <div id=\"2d93757b-2398-4aa8-8104-135d0b588189\" class=\"plotly-graph-div\" style=\"height:525px; width:100%;\"></div>            <script type=\"text/javascript\">                require([\"plotly\"], function(Plotly) {                    window.PLOTLYENV=window.PLOTLYENV || {};                                    if (document.getElementById(\"2d93757b-2398-4aa8-8104-135d0b588189\")) {                    Plotly.newPlot(                        \"2d93757b-2398-4aa8-8104-135d0b588189\",                        [{\"colorscale\":[[0.0,\"#0d0887\"],[0.1111111111111111,\"#46039f\"],[0.2222222222222222,\"#7201a8\"],[0.3333333333333333,\"#9c179e\"],[0.4444444444444444,\"#bd3786\"],[0.5555555555555556,\"#d8576b\"],[0.6666666666666666,\"#ed7953\"],[0.7777777777777778,\"#fb9f3a\"],[0.8888888888888888,\"#fdca26\"],[1.0,\"#f0f921\"]],\"reversescale\":false,\"showscale\":true,\"x\":[\"math score\",\"writing score\",\"reading score\"],\"y\":[\"math score\",\"writing score\",\"reading score\"],\"z\":[[1.0,-0.9882556999716391,-0.9525170582990123],[-0.9882556999716391,1.0,0.8948022483920638],[-0.9525170582990123,0.8948022483920638,1.0]],\"type\":\"heatmap\"}],                        {\"annotations\":[{\"font\":{\"color\":\"#000000\"},\"showarrow\":false,\"text\":\"1.0\",\"x\":\"math score\",\"xref\":\"x\",\"y\":\"math score\",\"yref\":\"y\"},{\"font\":{\"color\":\"#FFFFFF\"},\"showarrow\":false,\"text\":\"-0.99\",\"x\":\"writing score\",\"xref\":\"x\",\"y\":\"math score\",\"yref\":\"y\"},{\"font\":{\"color\":\"#FFFFFF\"},\"showarrow\":false,\"text\":\"-0.95\",\"x\":\"reading score\",\"xref\":\"x\",\"y\":\"math score\",\"yref\":\"y\"},{\"font\":{\"color\":\"#FFFFFF\"},\"showarrow\":false,\"text\":\"-0.99\",\"x\":\"math score\",\"xref\":\"x\",\"y\":\"writing score\",\"yref\":\"y\"},{\"font\":{\"color\":\"#000000\"},\"showarrow\":false,\"text\":\"1.0\",\"x\":\"writing score\",\"xref\":\"x\",\"y\":\"writing score\",\"yref\":\"y\"},{\"font\":{\"color\":\"#000000\"},\"showarrow\":false,\"text\":\"0.89\",\"x\":\"reading score\",\"xref\":\"x\",\"y\":\"writing score\",\"yref\":\"y\"},{\"font\":{\"color\":\"#FFFFFF\"},\"showarrow\":false,\"text\":\"-0.95\",\"x\":\"math score\",\"xref\":\"x\",\"y\":\"reading score\",\"yref\":\"y\"},{\"font\":{\"color\":\"#000000\"},\"showarrow\":false,\"text\":\"0.89\",\"x\":\"writing score\",\"xref\":\"x\",\"y\":\"reading score\",\"yref\":\"y\"},{\"font\":{\"color\":\"#000000\"},\"showarrow\":false,\"text\":\"1.0\",\"x\":\"reading score\",\"xref\":\"x\",\"y\":\"reading score\",\"yref\":\"y\"}],\"xaxis\":{\"dtick\":1,\"gridcolor\":\"rgb(0, 0, 0)\",\"side\":\"top\",\"ticks\":\"\"},\"yaxis\":{\"dtick\":1,\"ticks\":\"\",\"ticksuffix\":\"  \"},\"template\":{\"data\":{\"histogram2dcontour\":[{\"type\":\"histogram2dcontour\",\"colorbar\":{\"outlinewidth\":0,\"ticks\":\"\"},\"colorscale\":[[0.0,\"#0d0887\"],[0.1111111111111111,\"#46039f\"],[0.2222222222222222,\"#7201a8\"],[0.3333333333333333,\"#9c179e\"],[0.4444444444444444,\"#bd3786\"],[0.5555555555555556,\"#d8576b\"],[0.6666666666666666,\"#ed7953\"],[0.7777777777777778,\"#fb9f3a\"],[0.8888888888888888,\"#fdca26\"],[1.0,\"#f0f921\"]]}],\"choropleth\":[{\"type\":\"choropleth\",\"colorbar\":{\"outlinewidth\":0,\"ticks\":\"\"}}],\"histogram2d\":[{\"type\":\"histogram2d\",\"colorbar\":{\"outlinewidth\":0,\"ticks\":\"\"},\"colorscale\":[[0.0,\"#0d0887\"],[0.1111111111111111,\"#46039f\"],[0.2222222222222222,\"#7201a8\"],[0.3333333333333333,\"#9c179e\"],[0.4444444444444444,\"#bd3786\"],[0.5555555555555556,\"#d8576b\"],[0.6666666666666666,\"#ed7953\"],[0.7777777777777778,\"#fb9f3a\"],[0.8888888888888888,\"#fdca26\"],[1.0,\"#f0f921\"]]}],\"heatmap\":[{\"type\":\"heatmap\",\"colorbar\":{\"outlinewidth\":0,\"ticks\":\"\"},\"colorscale\":[[0.0,\"#0d0887\"],[0.1111111111111111,\"#46039f\"],[0.2222222222222222,\"#7201a8\"],[0.3333333333333333,\"#9c179e\"],[0.4444444444444444,\"#bd3786\"],[0.5555555555555556,\"#d8576b\"],[0.6666666666666666,\"#ed7953\"],[0.7777777777777778,\"#fb9f3a\"],[0.8888888888888888,\"#fdca26\"],[1.0,\"#f0f921\"]]}],\"heatmapgl\":[{\"type\":\"heatmapgl\",\"colorbar\":{\"outlinewidth\":0,\"ticks\":\"\"},\"colorscale\":[[0.0,\"#0d0887\"],[0.1111111111111111,\"#46039f\"],[0.2222222222222222,\"#7201a8\"],[0.3333333333333333,\"#9c179e\"],[0.4444444444444444,\"#bd3786\"],[0.5555555555555556,\"#d8576b\"],[0.6666666666666666,\"#ed7953\"],[0.7777777777777778,\"#fb9f3a\"],[0.8888888888888888,\"#fdca26\"],[1.0,\"#f0f921\"]]}],\"contourcarpet\":[{\"type\":\"contourcarpet\",\"colorbar\":{\"outlinewidth\":0,\"ticks\":\"\"}}],\"contour\":[{\"type\":\"contour\",\"colorbar\":{\"outlinewidth\":0,\"ticks\":\"\"},\"colorscale\":[[0.0,\"#0d0887\"],[0.1111111111111111,\"#46039f\"],[0.2222222222222222,\"#7201a8\"],[0.3333333333333333,\"#9c179e\"],[0.4444444444444444,\"#bd3786\"],[0.5555555555555556,\"#d8576b\"],[0.6666666666666666,\"#ed7953\"],[0.7777777777777778,\"#fb9f3a\"],[0.8888888888888888,\"#fdca26\"],[1.0,\"#f0f921\"]]}],\"surface\":[{\"type\":\"surface\",\"colorbar\":{\"outlinewidth\":0,\"ticks\":\"\"},\"colorscale\":[[0.0,\"#0d0887\"],[0.1111111111111111,\"#46039f\"],[0.2222222222222222,\"#7201a8\"],[0.3333333333333333,\"#9c179e\"],[0.4444444444444444,\"#bd3786\"],[0.5555555555555556,\"#d8576b\"],[0.6666666666666666,\"#ed7953\"],[0.7777777777777778,\"#fb9f3a\"],[0.8888888888888888,\"#fdca26\"],[1.0,\"#f0f921\"]]}],\"mesh3d\":[{\"type\":\"mesh3d\",\"colorbar\":{\"outlinewidth\":0,\"ticks\":\"\"}}],\"scatter\":[{\"fillpattern\":{\"fillmode\":\"overlay\",\"size\":10,\"solidity\":0.2},\"type\":\"scatter\"}],\"parcoords\":[{\"type\":\"parcoords\",\"line\":{\"colorbar\":{\"outlinewidth\":0,\"ticks\":\"\"}}}],\"scatterpolargl\":[{\"type\":\"scatterpolargl\",\"marker\":{\"colorbar\":{\"outlinewidth\":0,\"ticks\":\"\"}}}],\"bar\":[{\"error_x\":{\"color\":\"#2a3f5f\"},\"error_y\":{\"color\":\"#2a3f5f\"},\"marker\":{\"line\":{\"color\":\"#E5ECF6\",\"width\":0.5},\"pattern\":{\"fillmode\":\"overlay\",\"size\":10,\"solidity\":0.2}},\"type\":\"bar\"}],\"scattergeo\":[{\"type\":\"scattergeo\",\"marker\":{\"colorbar\":{\"outlinewidth\":0,\"ticks\":\"\"}}}],\"scatterpolar\":[{\"type\":\"scatterpolar\",\"marker\":{\"colorbar\":{\"outlinewidth\":0,\"ticks\":\"\"}}}],\"histogram\":[{\"marker\":{\"pattern\":{\"fillmode\":\"overlay\",\"size\":10,\"solidity\":0.2}},\"type\":\"histogram\"}],\"scattergl\":[{\"type\":\"scattergl\",\"marker\":{\"colorbar\":{\"outlinewidth\":0,\"ticks\":\"\"}}}],\"scatter3d\":[{\"type\":\"scatter3d\",\"line\":{\"colorbar\":{\"outlinewidth\":0,\"ticks\":\"\"}},\"marker\":{\"colorbar\":{\"outlinewidth\":0,\"ticks\":\"\"}}}],\"scattermapbox\":[{\"type\":\"scattermapbox\",\"marker\":{\"colorbar\":{\"outlinewidth\":0,\"ticks\":\"\"}}}],\"scatterternary\":[{\"type\":\"scatterternary\",\"marker\":{\"colorbar\":{\"outlinewidth\":0,\"ticks\":\"\"}}}],\"scattercarpet\":[{\"type\":\"scattercarpet\",\"marker\":{\"colorbar\":{\"outlinewidth\":0,\"ticks\":\"\"}}}],\"carpet\":[{\"aaxis\":{\"endlinecolor\":\"#2a3f5f\",\"gridcolor\":\"white\",\"linecolor\":\"white\",\"minorgridcolor\":\"white\",\"startlinecolor\":\"#2a3f5f\"},\"baxis\":{\"endlinecolor\":\"#2a3f5f\",\"gridcolor\":\"white\",\"linecolor\":\"white\",\"minorgridcolor\":\"white\",\"startlinecolor\":\"#2a3f5f\"},\"type\":\"carpet\"}],\"table\":[{\"cells\":{\"fill\":{\"color\":\"#EBF0F8\"},\"line\":{\"color\":\"white\"}},\"header\":{\"fill\":{\"color\":\"#C8D4E3\"},\"line\":{\"color\":\"white\"}},\"type\":\"table\"}],\"barpolar\":[{\"marker\":{\"line\":{\"color\":\"#E5ECF6\",\"width\":0.5},\"pattern\":{\"fillmode\":\"overlay\",\"size\":10,\"solidity\":0.2}},\"type\":\"barpolar\"}],\"pie\":[{\"automargin\":true,\"type\":\"pie\"}]},\"layout\":{\"autotypenumbers\":\"strict\",\"colorway\":[\"#636efa\",\"#EF553B\",\"#00cc96\",\"#ab63fa\",\"#FFA15A\",\"#19d3f3\",\"#FF6692\",\"#B6E880\",\"#FF97FF\",\"#FECB52\"],\"font\":{\"color\":\"#2a3f5f\"},\"hovermode\":\"closest\",\"hoverlabel\":{\"align\":\"left\"},\"paper_bgcolor\":\"white\",\"plot_bgcolor\":\"#E5ECF6\",\"polar\":{\"bgcolor\":\"#E5ECF6\",\"angularaxis\":{\"gridcolor\":\"white\",\"linecolor\":\"white\",\"ticks\":\"\"},\"radialaxis\":{\"gridcolor\":\"white\",\"linecolor\":\"white\",\"ticks\":\"\"}},\"ternary\":{\"bgcolor\":\"#E5ECF6\",\"aaxis\":{\"gridcolor\":\"white\",\"linecolor\":\"white\",\"ticks\":\"\"},\"baxis\":{\"gridcolor\":\"white\",\"linecolor\":\"white\",\"ticks\":\"\"},\"caxis\":{\"gridcolor\":\"white\",\"linecolor\":\"white\",\"ticks\":\"\"}},\"coloraxis\":{\"colorbar\":{\"outlinewidth\":0,\"ticks\":\"\"}},\"colorscale\":{\"sequential\":[[0.0,\"#0d0887\"],[0.1111111111111111,\"#46039f\"],[0.2222222222222222,\"#7201a8\"],[0.3333333333333333,\"#9c179e\"],[0.4444444444444444,\"#bd3786\"],[0.5555555555555556,\"#d8576b\"],[0.6666666666666666,\"#ed7953\"],[0.7777777777777778,\"#fb9f3a\"],[0.8888888888888888,\"#fdca26\"],[1.0,\"#f0f921\"]],\"sequentialminus\":[[0.0,\"#0d0887\"],[0.1111111111111111,\"#46039f\"],[0.2222222222222222,\"#7201a8\"],[0.3333333333333333,\"#9c179e\"],[0.4444444444444444,\"#bd3786\"],[0.5555555555555556,\"#d8576b\"],[0.6666666666666666,\"#ed7953\"],[0.7777777777777778,\"#fb9f3a\"],[0.8888888888888888,\"#fdca26\"],[1.0,\"#f0f921\"]],\"diverging\":[[0,\"#8e0152\"],[0.1,\"#c51b7d\"],[0.2,\"#de77ae\"],[0.3,\"#f1b6da\"],[0.4,\"#fde0ef\"],[0.5,\"#f7f7f7\"],[0.6,\"#e6f5d0\"],[0.7,\"#b8e186\"],[0.8,\"#7fbc41\"],[0.9,\"#4d9221\"],[1,\"#276419\"]]},\"xaxis\":{\"gridcolor\":\"white\",\"linecolor\":\"white\",\"ticks\":\"\",\"title\":{\"standoff\":15},\"zerolinecolor\":\"white\",\"automargin\":true,\"zerolinewidth\":2},\"yaxis\":{\"gridcolor\":\"white\",\"linecolor\":\"white\",\"ticks\":\"\",\"title\":{\"standoff\":15},\"zerolinecolor\":\"white\",\"automargin\":true,\"zerolinewidth\":2},\"scene\":{\"xaxis\":{\"backgroundcolor\":\"#E5ECF6\",\"gridcolor\":\"white\",\"linecolor\":\"white\",\"showbackground\":true,\"ticks\":\"\",\"zerolinecolor\":\"white\",\"gridwidth\":2},\"yaxis\":{\"backgroundcolor\":\"#E5ECF6\",\"gridcolor\":\"white\",\"linecolor\":\"white\",\"showbackground\":true,\"ticks\":\"\",\"zerolinecolor\":\"white\",\"gridwidth\":2},\"zaxis\":{\"backgroundcolor\":\"#E5ECF6\",\"gridcolor\":\"white\",\"linecolor\":\"white\",\"showbackground\":true,\"ticks\":\"\",\"zerolinecolor\":\"white\",\"gridwidth\":2}},\"shapedefaults\":{\"line\":{\"color\":\"#2a3f5f\"}},\"annotationdefaults\":{\"arrowcolor\":\"#2a3f5f\",\"arrowhead\":0,\"arrowwidth\":1},\"geo\":{\"bgcolor\":\"white\",\"landcolor\":\"#E5ECF6\",\"subunitcolor\":\"white\",\"showland\":true,\"showlakes\":true,\"lakecolor\":\"white\"},\"title\":{\"x\":0.05},\"mapbox\":{\"style\":\"light\"}}}},                        {\"responsive\": true}                    ).then(function(){\n",
       "                            \n",
       "var gd = document.getElementById('2d93757b-2398-4aa8-8104-135d0b588189');\n",
       "var x = new MutationObserver(function (mutations, observer) {{\n",
       "        var display = window.getComputedStyle(gd).display;\n",
       "        if (!display || display === 'none') {{\n",
       "            console.log([gd, 'removed!']);\n",
       "            Plotly.purge(gd);\n",
       "            observer.disconnect();\n",
       "        }}\n",
       "}});\n",
       "\n",
       "// Listen for the removal of the full notebook cells\n",
       "var notebookContainer = gd.closest('#notebook-container');\n",
       "if (notebookContainer) {{\n",
       "    x.observe(notebookContainer, {childList: true});\n",
       "}}\n",
       "\n",
       "// Listen for the clearing of the current output cell\n",
       "var outputEl = gd.closest('.output');\n",
       "if (outputEl) {{\n",
       "    x.observe(outputEl, {childList: true});\n",
       "}}\n",
       "\n",
       "                        })                };                });            </script>        </div>"
      ]
     },
     "metadata": {},
     "output_type": "display_data"
    }
   ],
   "source": [
    "import plotly.figure_factory as ff\n",
    "\n",
    "# Assuming 'df' is your DataFrame\n",
    "\n",
    "# Calculate the correlation matrix\n",
    "corr_matrix = correlation.corr()\n",
    "\n",
    "# Create a heatmap\n",
    "fig = ff.create_annotated_heatmap(\n",
    "    z=corr_matrix.values,\n",
    "    x=list(corr_matrix.columns),\n",
    "    y=list(corr_matrix.index),\n",
    "    annotation_text=corr_matrix.round(2).values,\n",
    "    showscale=True)\n",
    "\n",
    "fig.show()"
   ]
  },
  {
   "cell_type": "code",
   "execution_count": 50,
   "id": "72137da3",
   "metadata": {
    "scrolled": true
   },
   "outputs": [
    {
     "name": "stdout",
     "output_type": "stream",
     "text": [
      "                            OLS Regression Results                            \n",
      "==============================================================================\n",
      "Dep. Variable:          writing score   R-squared:                       0.913\n",
      "Model:                            OLS   Adj. R-squared:                  0.913\n",
      "Method:                 Least Squares   F-statistic:                     5214.\n",
      "Date:                Wed, 15 May 2024   Prob (F-statistic):               0.00\n",
      "Time:                        17:06:02   Log-Likelihood:                -2920.0\n",
      "No. Observations:                1000   AIC:                             5846.\n",
      "Df Residuals:                     997   BIC:                             5861.\n",
      "Df Model:                           2                                         \n",
      "Covariance Type:            nonrobust                                         \n",
      "=================================================================================\n",
      "                    coef    std err          t      P>|t|      [0.025      0.975]\n",
      "---------------------------------------------------------------------------------\n",
      "const            -1.1608      0.699     -1.662      0.097      -2.532       0.210\n",
      "math score        0.0670      0.016      4.118      0.000       0.035       0.099\n",
      "reading score     0.9366      0.017     55.389      0.000       0.903       0.970\n",
      "==============================================================================\n",
      "Omnibus:                        1.633   Durbin-Watson:                   1.974\n",
      "Prob(Omnibus):                  0.442   Jarque-Bera (JB):                1.709\n",
      "Skew:                           0.087   Prob(JB):                        0.426\n",
      "Kurtosis:                       2.896   Cond. No.                         481.\n",
      "==============================================================================\n",
      "\n",
      "Notes:\n",
      "[1] Standard Errors assume that the covariance matrix of the errors is correctly specified.\n"
     ]
    }
   ],
   "source": [
    "# 3. Linear Regression\n",
    "# Are writing scores dependent on math and reading scores?\n",
    "# \n",
    "X = student_data[['math score', 'reading score']]\n",
    "Y = student_data['writing score']\n",
    "X = sm.add_constant(X) # adding a constant\n",
    "model = sm.OLS(Y, X).fit()\n",
    "print(model.summary())"
   ]
  },
  {
   "cell_type": "code",
   "execution_count": 62,
   "id": "c91810bf",
   "metadata": {},
   "outputs": [
    {
     "ename": "NameError",
     "evalue": "name 'df' is not defined",
     "output_type": "error",
     "traceback": [
      "\u001b[0;31m---------------------------------------------------------------------------\u001b[0m",
      "\u001b[0;31mNameError\u001b[0m                                 Traceback (most recent call last)",
      "Cell \u001b[0;32mIn[62], line 24\u001b[0m\n\u001b[1;32m     21\u001b[0m fig \u001b[38;5;241m=\u001b[39m px\u001b[38;5;241m.\u001b[39mscatter_3d(student_data, x\u001b[38;5;241m=\u001b[39m\u001b[38;5;124m'\u001b[39m\u001b[38;5;124mmath score\u001b[39m\u001b[38;5;124m'\u001b[39m, y\u001b[38;5;241m=\u001b[39m\u001b[38;5;124m'\u001b[39m\u001b[38;5;124mreading score\u001b[39m\u001b[38;5;124m'\u001b[39m, z\u001b[38;5;241m=\u001b[39m\u001b[38;5;124m'\u001b[39m\u001b[38;5;124mwriting score\u001b[39m\u001b[38;5;124m'\u001b[39m)\n\u001b[1;32m     23\u001b[0m \u001b[38;5;66;03m# Create a scatter plot for the predicted values\u001b[39;00m\n\u001b[0;32m---> 24\u001b[0m fig\u001b[38;5;241m.\u001b[39madd_scatter3d(x\u001b[38;5;241m=\u001b[39mstudent_data[\u001b[38;5;124m'\u001b[39m\u001b[38;5;124mmath score\u001b[39m\u001b[38;5;124m'\u001b[39m], y\u001b[38;5;241m=\u001b[39mdf[\u001b[38;5;124m'\u001b[39m\u001b[38;5;124mreading score\u001b[39m\u001b[38;5;124m'\u001b[39m], z\u001b[38;5;241m=\u001b[39my_pred, mode\u001b[38;5;241m=\u001b[39m\u001b[38;5;124m'\u001b[39m\u001b[38;5;124mlines\u001b[39m\u001b[38;5;124m'\u001b[39m, name\u001b[38;5;241m=\u001b[39m\u001b[38;5;124m'\u001b[39m\u001b[38;5;124mLinear Regression\u001b[39m\u001b[38;5;124m'\u001b[39m)\n\u001b[1;32m     26\u001b[0m fig\u001b[38;5;241m.\u001b[39mshow()\n",
      "\u001b[0;31mNameError\u001b[0m: name 'df' is not defined"
     ]
    }
   ],
   "source": [
    "import plotly.express as px\n",
    "from sklearn.linear_model import LinearRegression\n",
    "\n",
    "# Assuming 'df' is your DataFrame\n",
    "# Assuming 'math score' and 'reading score' are your independent variables\n",
    "# Assuming 'writing score' is your dependent variable\n",
    "\n",
    "X = student_data[['math score', 'reading score']]\n",
    "y = student_data['writing score']\n",
    "\n",
    "# Create a Linear Regression object\n",
    "regressor = LinearRegression()\n",
    "\n",
    "# Train the model using the dataset\n",
    "regressor.fit(X, y)\n",
    "\n",
    "# Make predictions using the dataset\n",
    "y_pred = regressor.predict(X)\n",
    "\n",
    "# Create a scatter plot for the actual values\n",
    "fig = px.scatter_3d(student_data, x='math score', y='reading score', z='writing score')\n",
    "\n",
    "# Create a scatter plot for the predicted values\n",
    "fig.add_scatter3d(x=student_data['math score'], y=df['reading score'], z=y_pred, mode='lines', name='Linear Regression')\n",
    "\n",
    "fig.show()"
   ]
  },
  {
   "cell_type": "code",
   "execution_count": 57,
   "id": "ba09f121",
   "metadata": {},
   "outputs": [
    {
     "data": {
      "application/vnd.plotly.v1+json": {
       "config": {
        "plotlyServerURL": "https://plot.ly"
       },
       "data": [
        {
         "hovertemplate": "math score=%{x}<br>writing score=%{y}<extra></extra>",
         "legendgroup": "",
         "marker": {
          "color": "#636efa",
          "symbol": "circle"
         },
         "mode": "markers",
         "name": "",
         "orientation": "v",
         "showlegend": false,
         "type": "scatter",
         "x": [
          72,
          69,
          90,
          47,
          76,
          71,
          88,
          40,
          64,
          38,
          58,
          40,
          65,
          78,
          50,
          69,
          88,
          18,
          46,
          54,
          66,
          65,
          44,
          69,
          74,
          73,
          69,
          67,
          70,
          62,
          69,
          63,
          56,
          40,
          97,
          81,
          74,
          50,
          75,
          57,
          55,
          58,
          53,
          59,
          50,
          65,
          55,
          66,
          57,
          82,
          53,
          77,
          53,
          88,
          71,
          33,
          82,
          52,
          58,
          0,
          79,
          39,
          62,
          69,
          59,
          67,
          45,
          60,
          61,
          39,
          58,
          63,
          41,
          61,
          49,
          44,
          30,
          80,
          61,
          62,
          47,
          49,
          50,
          72,
          42,
          73,
          76,
          71,
          58,
          73,
          65,
          27,
          71,
          43,
          79,
          78,
          65,
          63,
          58,
          65,
          79,
          68,
          85,
          60,
          98,
          58,
          87,
          66,
          52,
          70,
          77,
          62,
          54,
          51,
          99,
          84,
          75,
          78,
          51,
          55,
          79,
          91,
          88,
          63,
          83,
          87,
          72,
          65,
          82,
          51,
          89,
          53,
          87,
          75,
          74,
          58,
          51,
          70,
          59,
          71,
          76,
          59,
          42,
          57,
          88,
          22,
          88,
          73,
          68,
          100,
          62,
          77,
          59,
          54,
          62,
          70,
          66,
          60,
          61,
          66,
          82,
          75,
          49,
          52,
          81,
          96,
          53,
          58,
          68,
          67,
          72,
          94,
          79,
          63,
          43,
          81,
          46,
          71,
          52,
          97,
          62,
          46,
          50,
          65,
          45,
          65,
          80,
          62,
          48,
          77,
          66,
          76,
          62,
          77,
          69,
          61,
          59,
          55,
          45,
          78,
          67,
          65,
          69,
          57,
          59,
          74,
          82,
          81,
          74,
          58,
          80,
          35,
          42,
          60,
          87,
          84,
          83,
          34,
          66,
          61,
          56,
          87,
          55,
          86,
          52,
          45,
          72,
          57,
          68,
          88,
          76,
          46,
          67,
          92,
          83,
          80,
          63,
          64,
          54,
          84,
          73,
          80,
          56,
          59,
          75,
          85,
          89,
          58,
          65,
          68,
          47,
          71,
          60,
          80,
          54,
          62,
          64,
          78,
          70,
          65,
          64,
          79,
          44,
          99,
          76,
          59,
          63,
          69,
          88,
          71,
          69,
          58,
          47,
          65,
          88,
          83,
          85,
          59,
          65,
          73,
          53,
          45,
          73,
          70,
          37,
          81,
          97,
          67,
          88,
          77,
          76,
          86,
          63,
          65,
          78,
          67,
          46,
          71,
          40,
          90,
          81,
          56,
          67,
          80,
          74,
          69,
          99,
          51,
          53,
          49,
          73,
          66,
          67,
          68,
          59,
          71,
          77,
          83,
          63,
          56,
          67,
          75,
          71,
          43,
          41,
          82,
          61,
          28,
          82,
          41,
          71,
          47,
          62,
          90,
          83,
          61,
          76,
          49,
          24,
          35,
          58,
          61,
          69,
          67,
          79,
          72,
          62,
          77,
          75,
          87,
          52,
          66,
          63,
          46,
          59,
          61,
          63,
          42,
          59,
          80,
          58,
          85,
          52,
          27,
          59,
          49,
          69,
          61,
          44,
          73,
          84,
          45,
          74,
          82,
          59,
          46,
          80,
          85,
          71,
          66,
          80,
          87,
          79,
          38,
          38,
          67,
          64,
          57,
          62,
          73,
          73,
          77,
          76,
          57,
          65,
          48,
          50,
          85,
          74,
          60,
          59,
          53,
          49,
          88,
          54,
          63,
          65,
          82,
          52,
          87,
          70,
          84,
          71,
          63,
          51,
          84,
          71,
          74,
          68,
          57,
          82,
          57,
          47,
          59,
          41,
          62,
          86,
          69,
          65,
          68,
          64,
          61,
          61,
          47,
          73,
          50,
          75,
          75,
          70,
          89,
          67,
          78,
          59,
          73,
          79,
          67,
          69,
          86,
          47,
          81,
          64,
          100,
          65,
          65,
          53,
          37,
          79,
          53,
          100,
          72,
          53,
          54,
          71,
          77,
          75,
          84,
          26,
          72,
          77,
          91,
          83,
          63,
          68,
          59,
          90,
          71,
          76,
          80,
          55,
          76,
          73,
          52,
          68,
          59,
          49,
          70,
          61,
          60,
          64,
          79,
          65,
          64,
          83,
          81,
          54,
          68,
          54,
          59,
          66,
          76,
          74,
          94,
          63,
          95,
          40,
          82,
          68,
          55,
          79,
          86,
          76,
          64,
          62,
          54,
          77,
          76,
          74,
          66,
          66,
          67,
          71,
          91,
          69,
          54,
          53,
          68,
          56,
          36,
          29,
          62,
          68,
          47,
          62,
          79,
          73,
          66,
          51,
          51,
          85,
          97,
          75,
          79,
          81,
          82,
          64,
          78,
          92,
          72,
          62,
          79,
          79,
          87,
          40,
          77,
          53,
          32,
          55,
          61,
          53,
          73,
          74,
          63,
          96,
          63,
          48,
          48,
          92,
          61,
          63,
          68,
          71,
          91,
          53,
          50,
          74,
          40,
          61,
          81,
          48,
          53,
          81,
          77,
          63,
          73,
          69,
          65,
          55,
          44,
          54,
          48,
          58,
          71,
          68,
          74,
          92,
          56,
          30,
          53,
          69,
          65,
          54,
          29,
          76,
          60,
          84,
          75,
          85,
          40,
          61,
          58,
          69,
          58,
          94,
          65,
          82,
          60,
          37,
          88,
          95,
          65,
          35,
          62,
          58,
          100,
          61,
          100,
          69,
          61,
          49,
          44,
          67,
          79,
          66,
          75,
          84,
          71,
          67,
          80,
          86,
          76,
          41,
          74,
          72,
          74,
          70,
          65,
          59,
          64,
          50,
          69,
          51,
          68,
          85,
          65,
          73,
          62,
          77,
          69,
          43,
          90,
          74,
          73,
          55,
          65,
          80,
          50,
          63,
          77,
          73,
          81,
          66,
          52,
          69,
          65,
          69,
          50,
          73,
          70,
          81,
          63,
          67,
          60,
          62,
          29,
          62,
          94,
          85,
          77,
          53,
          93,
          49,
          73,
          66,
          77,
          49,
          79,
          75,
          59,
          57,
          66,
          79,
          57,
          87,
          63,
          59,
          62,
          46,
          66,
          89,
          42,
          93,
          80,
          98,
          81,
          60,
          76,
          73,
          96,
          76,
          91,
          62,
          55,
          74,
          50,
          47,
          81,
          65,
          68,
          73,
          53,
          68,
          55,
          87,
          55,
          53,
          67,
          92,
          53,
          81,
          61,
          80,
          37,
          81,
          59,
          55,
          72,
          69,
          69,
          50,
          87,
          71,
          68,
          79,
          77,
          58,
          84,
          55,
          70,
          52,
          69,
          53,
          48,
          78,
          62,
          60,
          74,
          58,
          76,
          68,
          58,
          52,
          75,
          52,
          62,
          66,
          49,
          66,
          35,
          72,
          94,
          46,
          77,
          76,
          52,
          91,
          32,
          72,
          19,
          68,
          52,
          48,
          60,
          66,
          89,
          42,
          57,
          70,
          70,
          69,
          52,
          67,
          76,
          87,
          82,
          73,
          75,
          64,
          41,
          90,
          59,
          51,
          45,
          54,
          87,
          72,
          94,
          45,
          61,
          60,
          77,
          85,
          78,
          49,
          71,
          48,
          62,
          56,
          65,
          69,
          68,
          61,
          74,
          64,
          77,
          58,
          60,
          73,
          75,
          58,
          66,
          39,
          64,
          23,
          74,
          40,
          90,
          91,
          64,
          59,
          80,
          71,
          61,
          87,
          82,
          62,
          97,
          75,
          65,
          52,
          87,
          53,
          81,
          39,
          71,
          97,
          82,
          59,
          61,
          78,
          49,
          59,
          70,
          82,
          90,
          43,
          80,
          81,
          57,
          59,
          64,
          63,
          71,
          64,
          55,
          51,
          62,
          93,
          54,
          69,
          44,
          86,
          85,
          50,
          88,
          59,
          32,
          36,
          63,
          67,
          65,
          85,
          73,
          34,
          93,
          67,
          88,
          57,
          79,
          67,
          70,
          50,
          69,
          52,
          47,
          46,
          68,
          100,
          44,
          57,
          91,
          69,
          35,
          72,
          54,
          74,
          74,
          64,
          65,
          46,
          48,
          67,
          62,
          61,
          70,
          98,
          70,
          67,
          57,
          85,
          77,
          72,
          78,
          81,
          61,
          58,
          54,
          82,
          49,
          49,
          57,
          94,
          75,
          74,
          58,
          62,
          72,
          84,
          92,
          45,
          75,
          56,
          48,
          100,
          65,
          72,
          62,
          66,
          63,
          68,
          75,
          89,
          78,
          53,
          49,
          54,
          64,
          60,
          62,
          55,
          91,
          8,
          81,
          79,
          78,
          74,
          57,
          40,
          81,
          44,
          67,
          86,
          65,
          55,
          62,
          63,
          88,
          62,
          59,
          68,
          77
         ],
         "xaxis": "x",
         "y": [
          74,
          88,
          93,
          44,
          75,
          78,
          92,
          39,
          67,
          50,
          52,
          43,
          73,
          70,
          58,
          78,
          86,
          28,
          46,
          61,
          63,
          70,
          53,
          73,
          80,
          72,
          55,
          75,
          65,
          75,
          74,
          61,
          65,
          38,
          82,
          79,
          83,
          59,
          88,
          57,
          54,
          68,
          65,
          66,
          54,
          57,
          62,
          76,
          76,
          82,
          48,
          68,
          42,
          75,
          87,
          43,
          86,
          49,
          58,
          10,
          72,
          34,
          55,
          71,
          59,
          61,
          37,
          74,
          56,
          57,
          73,
          63,
          48,
          56,
          41,
          38,
          22,
          81,
          72,
          68,
          50,
          45,
          54,
          63,
          34,
          82,
          88,
          74,
          67,
          82,
          74,
          36,
          71,
          50,
          92,
          82,
          62,
          70,
          62,
          62,
          67,
          74,
          89,
          47,
          90,
          72,
          100,
          64,
          70,
          72,
          98,
          49,
          47,
          54,
          100,
          74,
          82,
          79,
          61,
          65,
          89,
          92,
          93,
          56,
          73,
          86,
          67,
          74,
          74,
          51,
          82,
          40,
          70,
          84,
          75,
          48,
          41,
          56,
          67,
          69,
          71,
          64,
          54,
          47,
          78,
          33,
          75,
          66,
          81,
          93,
          69,
          68,
          66,
          47,
          61,
          88,
          78,
          60,
          87,
          64,
          74,
          85,
          52,
          49,
          91,
          100,
          51,
          78,
          78,
          70,
          74,
          78,
          81,
          70,
          54,
          87,
          58,
          77,
          62,
          100,
          75,
          66,
          47,
          70,
          49,
          65,
          65,
          68,
          45,
          87,
          69,
          79,
          66,
          62,
          85,
          52,
          65,
          51,
          55,
          76,
          86,
          77,
          69,
          68,
          42,
          78,
          62,
          76,
          76,
          66,
          79,
          27,
          60,
          56,
          81,
          75,
          88,
          39,
          70,
          56,
          74,
          73,
          62,
          75,
          73,
          54,
          71,
          54,
          64,
          94,
          66,
          42,
          83,
          78,
          84,
          77,
          67,
          74,
          51,
          80,
          66,
          83,
          55,
          43,
          69,
          71,
          74,
          68,
          62,
          53,
          49,
          83,
          70,
          72,
          52,
          70,
          68,
          77,
          78,
          81,
          77,
          78,
          51,
          90,
          68,
          41,
          81,
          77,
          95,
          70,
          61,
          42,
          58,
          71,
          76,
          73,
          93,
          75,
          80,
          57,
          42,
          46,
          84,
          78,
          46,
          82,
          88,
          82,
          76,
          77,
          68,
          70,
          57,
          75,
          80,
          60,
          43,
          68,
          50,
          75,
          81,
          52,
          81,
          64,
          83,
          69,
          81,
          44,
          67,
          52,
          80,
          57,
          68,
          69,
          75,
          65,
          91,
          78,
          69,
          63,
          84,
          79,
          80,
          53,
          43,
          94,
          62,
          19,
          77,
          51,
          61,
          35,
          53,
          81,
          95,
          66,
          69,
          43,
          27,
          60,
          52,
          63,
          74,
          67,
          67,
          75,
          57,
          95,
          66,
          76,
          69,
          52,
          80,
          57,
          70,
          70,
          61,
          69,
          61,
          89,
          59,
          78,
          58,
          32,
          58,
          60,
          53,
          61,
          58,
          85,
          71,
          70,
          72,
          96,
          73,
          41,
          82,
          100,
          77,
          62,
          83,
          95,
          71,
          45,
          43,
          75,
          70,
          67,
          64,
          75,
          59,
          77,
          67,
          56,
          77,
          41,
          63,
          95,
          57,
          54,
          67,
          43,
          55,
          100,
          62,
          68,
          63,
          77,
          56,
          85,
          74,
          78,
          60,
          67,
          79,
          69,
          68,
          67,
          62,
          54,
          93,
          64,
          67,
          80,
          34,
          62,
          86,
          65,
          53,
          54,
          59,
          70,
          55,
          50,
          66,
          53,
          64,
          73,
          51,
          82,
          79,
          80,
          69,
          76,
          73,
          77,
          60,
          80,
          42,
          72,
          85,
          97,
          74,
          49,
          62,
          47,
          89,
          48,
          100,
          68,
          55,
          45,
          76,
          91,
          62,
          91,
          38,
          65,
          85,
          76,
          90,
          74,
          84,
          61,
          91,
          83,
          66,
          72,
          70,
          67,
          68,
          56,
          61,
          46,
          54,
          71,
          56,
          74,
          57,
          82,
          76,
          70,
          90,
          90,
          68,
          66,
          52,
          76,
          68,
          72,
          82,
          92,
          54,
          92,
          54,
          80,
          66,
          54,
          77,
          87,
          73,
          43,
          52,
          62,
          94,
          85,
          84,
          73,
          78,
          79,
          52,
          84,
          57,
          50,
          49,
          59,
          60,
          43,
          47,
          70,
          73,
          53,
          58,
          94,
          68,
          83,
          58,
          62,
          71,
          86,
          68,
          80,
          79,
          89,
          66,
          80,
          97,
          64,
          64,
          69,
          65,
          88,
          50,
          64,
          40,
          33,
          79,
          66,
          70,
          62,
          79,
          74,
          92,
          80,
          46,
          45,
          100,
          78,
          47,
          67,
          70,
          92,
          56,
          64,
          71,
          53,
          52,
          89,
          58,
          68,
          96,
          80,
          78,
          80,
          77,
          76,
          73,
          62,
          65,
          65,
          54,
          50,
          64,
          73,
          99,
          72,
          15,
          48,
          73,
          81,
          63,
          30,
          80,
          51,
          90,
          62,
          82,
          54,
          62,
          65,
          63,
          66,
          91,
          74,
          93,
          72,
          38,
          83,
          84,
          68,
          54,
          56,
          52,
          86,
          62,
          99,
          63,
          46,
          46,
          55,
          70,
          65,
          81,
          85,
          80,
          64,
          81,
          88,
          74,
          73,
          51,
          90,
          79,
          80,
          60,
          81,
          65,
          68,
          55,
          81,
          53,
          76,
          98,
          74,
          79,
          67,
          64,
          61,
          58,
          85,
          73,
          63,
          69,
          67,
          63,
          60,
          71,
          87,
          61,
          77,
          68,
          50,
          76,
          84,
          78,
          66,
          76,
          76,
          78,
          60,
          74,
          60,
          54,
          44,
          68,
          100,
          68,
          73,
          44,
          83,
          53,
          78,
          81,
          73,
          56,
          86,
          90,
          70,
          79,
          59,
          82,
          72,
          87,
          67,
          64,
          65,
          36,
          52,
          79,
          58,
          90,
          85,
          99,
          84,
          74,
          87,
          72,
          99,
          74,
          80,
          70,
          59,
          88,
          42,
          41,
          71,
          77,
          57,
          84,
          37,
          80,
          43,
          94,
          44,
          57,
          59,
          84,
          73,
          73,
          55,
          72,
          56,
          82,
          72,
          47,
          74,
          71,
          68,
          59,
          86,
          68,
          65,
          75,
          85,
          53,
          92,
          52,
          72,
          65,
          77,
          64,
          54,
          86,
          63,
          59,
          72,
          77,
          60,
          75,
          57,
          49,
          74,
          72,
          79,
          60,
          55,
          70,
          43,
          82,
          82,
          57,
          84,
          82,
          62,
          79,
          44,
          77,
          32,
          61,
          61,
          60,
          70,
          69,
          77,
          51,
          73,
          70,
          81,
          54,
          57,
          68,
          73,
          95,
          87,
          78,
          74,
          75,
          40,
          69,
          51,
          36,
          49,
          67,
          76,
          83,
          87,
          64,
          76,
          68,
          88,
          92,
          93,
          51,
          82,
          52,
          58,
          70,
          76,
          81,
          53,
          57,
          89,
          58,
          89,
          45,
          74,
          57,
          79,
          53,
          73,
          46,
          51,
          36,
          76,
          64,
          84,
          85,
          50,
          68,
          69,
          67,
          63,
          93,
          61,
          55,
          96,
          65,
          81,
          46,
          72,
          53,
          87,
          38,
          80,
          91,
          88,
          52,
          41,
          72,
          51,
          47,
          76,
          78,
          82,
          61,
          66,
          84,
          54,
          80,
          74,
          66,
          70,
          71,
          44,
          54,
          80,
          95,
          59,
          74,
          48,
          91,
          85,
          73,
          75,
          69,
          38,
          27,
          79,
          63,
          82,
          89,
          74,
          41,
          100,
          84,
          77,
          51,
          91,
          72,
          70,
          48,
          82,
          66,
          66,
          55,
          66,
          100,
          52,
          80,
          91,
          67,
          46,
          66,
          65,
          69,
          60,
          52,
          71,
          44,
          51,
          70,
          62,
          73,
          74,
          90,
          58,
          53,
          57,
          85,
          69,
          72,
          96,
          64,
          61,
          61,
          58,
          80,
          60,
          52,
          73,
          71,
          83,
          72,
          54,
          69,
          62,
          81,
          100,
          59,
          71,
          64,
          53,
          100,
          75,
          58,
          72,
          64,
          60,
          67,
          80,
          100,
          69,
          60,
          61,
          67,
          77,
          60,
          58,
          48,
          94,
          23,
          78,
          86,
          91,
          82,
          54,
          51,
          76,
          45,
          83,
          75,
          78,
          76,
          74,
          62,
          95,
          55,
          65,
          77,
          86
         ],
         "yaxis": "y"
        },
        {
         "mode": "lines",
         "name": "Linear Regression",
         "type": "scatter",
         "x": [
          72,
          69,
          90,
          47,
          76,
          71,
          88,
          40,
          64,
          38,
          58,
          40,
          65,
          78,
          50,
          69,
          88,
          18,
          46,
          54,
          66,
          65,
          44,
          69,
          74,
          73,
          69,
          67,
          70,
          62,
          69,
          63,
          56,
          40,
          97,
          81,
          74,
          50,
          75,
          57,
          55,
          58,
          53,
          59,
          50,
          65,
          55,
          66,
          57,
          82,
          53,
          77,
          53,
          88,
          71,
          33,
          82,
          52,
          58,
          0,
          79,
          39,
          62,
          69,
          59,
          67,
          45,
          60,
          61,
          39,
          58,
          63,
          41,
          61,
          49,
          44,
          30,
          80,
          61,
          62,
          47,
          49,
          50,
          72,
          42,
          73,
          76,
          71,
          58,
          73,
          65,
          27,
          71,
          43,
          79,
          78,
          65,
          63,
          58,
          65,
          79,
          68,
          85,
          60,
          98,
          58,
          87,
          66,
          52,
          70,
          77,
          62,
          54,
          51,
          99,
          84,
          75,
          78,
          51,
          55,
          79,
          91,
          88,
          63,
          83,
          87,
          72,
          65,
          82,
          51,
          89,
          53,
          87,
          75,
          74,
          58,
          51,
          70,
          59,
          71,
          76,
          59,
          42,
          57,
          88,
          22,
          88,
          73,
          68,
          100,
          62,
          77,
          59,
          54,
          62,
          70,
          66,
          60,
          61,
          66,
          82,
          75,
          49,
          52,
          81,
          96,
          53,
          58,
          68,
          67,
          72,
          94,
          79,
          63,
          43,
          81,
          46,
          71,
          52,
          97,
          62,
          46,
          50,
          65,
          45,
          65,
          80,
          62,
          48,
          77,
          66,
          76,
          62,
          77,
          69,
          61,
          59,
          55,
          45,
          78,
          67,
          65,
          69,
          57,
          59,
          74,
          82,
          81,
          74,
          58,
          80,
          35,
          42,
          60,
          87,
          84,
          83,
          34,
          66,
          61,
          56,
          87,
          55,
          86,
          52,
          45,
          72,
          57,
          68,
          88,
          76,
          46,
          67,
          92,
          83,
          80,
          63,
          64,
          54,
          84,
          73,
          80,
          56,
          59,
          75,
          85,
          89,
          58,
          65,
          68,
          47,
          71,
          60,
          80,
          54,
          62,
          64,
          78,
          70,
          65,
          64,
          79,
          44,
          99,
          76,
          59,
          63,
          69,
          88,
          71,
          69,
          58,
          47,
          65,
          88,
          83,
          85,
          59,
          65,
          73,
          53,
          45,
          73,
          70,
          37,
          81,
          97,
          67,
          88,
          77,
          76,
          86,
          63,
          65,
          78,
          67,
          46,
          71,
          40,
          90,
          81,
          56,
          67,
          80,
          74,
          69,
          99,
          51,
          53,
          49,
          73,
          66,
          67,
          68,
          59,
          71,
          77,
          83,
          63,
          56,
          67,
          75,
          71,
          43,
          41,
          82,
          61,
          28,
          82,
          41,
          71,
          47,
          62,
          90,
          83,
          61,
          76,
          49,
          24,
          35,
          58,
          61,
          69,
          67,
          79,
          72,
          62,
          77,
          75,
          87,
          52,
          66,
          63,
          46,
          59,
          61,
          63,
          42,
          59,
          80,
          58,
          85,
          52,
          27,
          59,
          49,
          69,
          61,
          44,
          73,
          84,
          45,
          74,
          82,
          59,
          46,
          80,
          85,
          71,
          66,
          80,
          87,
          79,
          38,
          38,
          67,
          64,
          57,
          62,
          73,
          73,
          77,
          76,
          57,
          65,
          48,
          50,
          85,
          74,
          60,
          59,
          53,
          49,
          88,
          54,
          63,
          65,
          82,
          52,
          87,
          70,
          84,
          71,
          63,
          51,
          84,
          71,
          74,
          68,
          57,
          82,
          57,
          47,
          59,
          41,
          62,
          86,
          69,
          65,
          68,
          64,
          61,
          61,
          47,
          73,
          50,
          75,
          75,
          70,
          89,
          67,
          78,
          59,
          73,
          79,
          67,
          69,
          86,
          47,
          81,
          64,
          100,
          65,
          65,
          53,
          37,
          79,
          53,
          100,
          72,
          53,
          54,
          71,
          77,
          75,
          84,
          26,
          72,
          77,
          91,
          83,
          63,
          68,
          59,
          90,
          71,
          76,
          80,
          55,
          76,
          73,
          52,
          68,
          59,
          49,
          70,
          61,
          60,
          64,
          79,
          65,
          64,
          83,
          81,
          54,
          68,
          54,
          59,
          66,
          76,
          74,
          94,
          63,
          95,
          40,
          82,
          68,
          55,
          79,
          86,
          76,
          64,
          62,
          54,
          77,
          76,
          74,
          66,
          66,
          67,
          71,
          91,
          69,
          54,
          53,
          68,
          56,
          36,
          29,
          62,
          68,
          47,
          62,
          79,
          73,
          66,
          51,
          51,
          85,
          97,
          75,
          79,
          81,
          82,
          64,
          78,
          92,
          72,
          62,
          79,
          79,
          87,
          40,
          77,
          53,
          32,
          55,
          61,
          53,
          73,
          74,
          63,
          96,
          63,
          48,
          48,
          92,
          61,
          63,
          68,
          71,
          91,
          53,
          50,
          74,
          40,
          61,
          81,
          48,
          53,
          81,
          77,
          63,
          73,
          69,
          65,
          55,
          44,
          54,
          48,
          58,
          71,
          68,
          74,
          92,
          56,
          30,
          53,
          69,
          65,
          54,
          29,
          76,
          60,
          84,
          75,
          85,
          40,
          61,
          58,
          69,
          58,
          94,
          65,
          82,
          60,
          37,
          88,
          95,
          65,
          35,
          62,
          58,
          100,
          61,
          100,
          69,
          61,
          49,
          44,
          67,
          79,
          66,
          75,
          84,
          71,
          67,
          80,
          86,
          76,
          41,
          74,
          72,
          74,
          70,
          65,
          59,
          64,
          50,
          69,
          51,
          68,
          85,
          65,
          73,
          62,
          77,
          69,
          43,
          90,
          74,
          73,
          55,
          65,
          80,
          50,
          63,
          77,
          73,
          81,
          66,
          52,
          69,
          65,
          69,
          50,
          73,
          70,
          81,
          63,
          67,
          60,
          62,
          29,
          62,
          94,
          85,
          77,
          53,
          93,
          49,
          73,
          66,
          77,
          49,
          79,
          75,
          59,
          57,
          66,
          79,
          57,
          87,
          63,
          59,
          62,
          46,
          66,
          89,
          42,
          93,
          80,
          98,
          81,
          60,
          76,
          73,
          96,
          76,
          91,
          62,
          55,
          74,
          50,
          47,
          81,
          65,
          68,
          73,
          53,
          68,
          55,
          87,
          55,
          53,
          67,
          92,
          53,
          81,
          61,
          80,
          37,
          81,
          59,
          55,
          72,
          69,
          69,
          50,
          87,
          71,
          68,
          79,
          77,
          58,
          84,
          55,
          70,
          52,
          69,
          53,
          48,
          78,
          62,
          60,
          74,
          58,
          76,
          68,
          58,
          52,
          75,
          52,
          62,
          66,
          49,
          66,
          35,
          72,
          94,
          46,
          77,
          76,
          52,
          91,
          32,
          72,
          19,
          68,
          52,
          48,
          60,
          66,
          89,
          42,
          57,
          70,
          70,
          69,
          52,
          67,
          76,
          87,
          82,
          73,
          75,
          64,
          41,
          90,
          59,
          51,
          45,
          54,
          87,
          72,
          94,
          45,
          61,
          60,
          77,
          85,
          78,
          49,
          71,
          48,
          62,
          56,
          65,
          69,
          68,
          61,
          74,
          64,
          77,
          58,
          60,
          73,
          75,
          58,
          66,
          39,
          64,
          23,
          74,
          40,
          90,
          91,
          64,
          59,
          80,
          71,
          61,
          87,
          82,
          62,
          97,
          75,
          65,
          52,
          87,
          53,
          81,
          39,
          71,
          97,
          82,
          59,
          61,
          78,
          49,
          59,
          70,
          82,
          90,
          43,
          80,
          81,
          57,
          59,
          64,
          63,
          71,
          64,
          55,
          51,
          62,
          93,
          54,
          69,
          44,
          86,
          85,
          50,
          88,
          59,
          32,
          36,
          63,
          67,
          65,
          85,
          73,
          34,
          93,
          67,
          88,
          57,
          79,
          67,
          70,
          50,
          69,
          52,
          47,
          46,
          68,
          100,
          44,
          57,
          91,
          69,
          35,
          72,
          54,
          74,
          74,
          64,
          65,
          46,
          48,
          67,
          62,
          61,
          70,
          98,
          70,
          67,
          57,
          85,
          77,
          72,
          78,
          81,
          61,
          58,
          54,
          82,
          49,
          49,
          57,
          94,
          75,
          74,
          58,
          62,
          72,
          84,
          92,
          45,
          75,
          56,
          48,
          100,
          65,
          72,
          62,
          66,
          63,
          68,
          75,
          89,
          78,
          53,
          49,
          54,
          64,
          60,
          62,
          55,
          91,
          8,
          81,
          79,
          78,
          74,
          57,
          40,
          81,
          44,
          67,
          86,
          65,
          55,
          62,
          63,
          88,
          62,
          59,
          68,
          77
         ],
         "y": [
          71.10182719454043,
          87.75954668898311,
          93.85051034539252,
          55.376652350095746,
          76.98962616524723,
          81.33741563101528,
          93.7164200230355,
          41.79489346119643,
          63.07264147045534,
          57.58305506248549,
          53.30433996006303,
          50.224320950185536,
          79.06193855527995,
          71.50409816161152,
          51.8313756163028,
          73.71050087400127,
          88.09680169704275,
          30.01726631761577,
          41.26056137393539,
          56.782571532677466,
          67.88974706447299,
          73.4423202292872,
          52.365707703563835,
          71.83729476533702,
          70.29931446256535,
          73.0420784643832,
          54.041836733026685,
          67.9567922256515,
          69.09453076351916,
          68.55816947409106,
          72.77389781966914,
          63.94219936360895,
          70.02910461568422,
          40.858290406864306,
          86.82700203898513,
          80.13466113413617,
          79.66534500588658,
          62.13400921395615,
          88.1618176560542,
          55.11050090754876,
          59.65942585685235,
          71.09979799237337,
          56.71552637149895,
          63.6740187188949,
          54.64118477929917,
          53.77365608831263,
          63.40583807418085,
          69.76295317313723,
          71.96935588552698,
          83.01151545831105,
          53.90571720850259,
          68.62724383743664,
          43.60308361084923,
          77.7941680993894,
          82.2740186853474,
          39.45237122428259,
          83.94811851264318,
          53.83867204732407,
          57.98735523172365,
          14.761407601420677,
          73.44434943145428,
          37.98143608268942,
          60.12874198510195,
          78.39351614566188,
          57.117797338570035,
          63.27377695399089,
          36.51050094109626,
          70.29728526039827,
          57.25188766092707,
          61.3965124409925,
          61.73376744905214,
          54.57616882028772,
          49.354763057031924,
          56.31528460659494,
          48.01791823779579,
          40.18986799724624,
          25.202189925765197,
          77.2578068099613,
          72.23753653024103,
          66.68496336542681,
          47.883827915438765,
          44.2715060204673,
          46.21175729031006,
          63.60900275988345,
          38.182571566224965,
          78.66169679037594,
          81.67264143690785,
          70.0981789790298,
          68.289988829377,
          84.28131511636867,
          70.63251106629085,
          32.49387887688664,
          77.59100341368679,
          43.86923505339622,
          84.68358608343976,
          79.93352565060063,
          65.0128927402981,
          70.49842074393382,
          65.48017966638064,
          65.94949579463022,
          66.88812805112941,
          72.70685265849063,
          89.76887232217146,
          44.07239973909883,
          85.95744414583152,
          65.48017966638064,
          98.33239013351759,
          62.270128738480246,
          73.50733618829865,
          63.47491243752643,
          87.3593049240791,
          54.50912365910921,
          52.09955626101685,
          56.58143604914193,
          99.13693206765976,
          76.58938440034322,
          83.47880238439357,
          80.87012870493275,
          61.26445132080254,
          67.15225029150933,
          90.3032044094325,
          88.29793718057829,
          91.84321391437125,
          56.44937492895197,
          79.33214840216108,
          93.64937486185697,
          67.35541497721195,
          75.31552633795145,
          81.1383093496468,
          48.15200856015282,
          83.48083158656065,
          37.04686223052437,
          73.98071072088239,
          79.73239016706509,
          77.79213889722233,
          54.24094301439516,
          52.83502383181344,
          55.04548494853732,
          64.61062177322702,
          60.732148435708574,
          71.3700078392545,
          60.864209555898526,
          53.168220435538935,
          42.934661201231165,
          73.11115282772879,
          36.841668342654685,
          83.41378642538214,
          67.42246013839046,
          73.64345571282276,
          99.20397722883827,
          65.74836031109469,
          66.75403772877239,
          68.35703399055551,
          48.35314404368836,
          65.74836031109469,
          86.88998879582951,
          72.57276233613361,
          59.0580486084128,
          83.47677318222651,
          61.33352568414813,
          77.39189713231832,
          86.28861154738995,
          51.76433045512428,
          51.965465938659825,
          90.43729473178952,
          98.93579658412422,
          50.15930499117409,
          73.90960715536974,
          81.13628014747974,
          73.57641055164424,
          72.03843024887256,
          87.56246960978172,
          84.68358608343976,
          65.8154054722732,
          49.48885337938896,
          89.5006916774574,
          52.49979802592087,
          75.71779730502254,
          67.88771786230592,
          99.00284174530273,
          66.68496336542681,
          61.8658285692421,
          49.02156645330643,
          67.82270190329447,
          50.559546756078106,
          65.94949579463022,
          75.38460070129705,
          64.81175725676256,
          50.760682239613644,
          86.42270186974697,
          64.1433348471445,
          81.67264143690785,
          62.93855114809831,
          62.07102245711178,
          82.13992836299037,
          54.442078497930694,
          67.4204309362234,
          54.976410585191736,
          51.49614981041023,
          78.06031954193638,
          82.00583804063335,
          79.06193855527995,
          75.58370698266552,
          67.28634061386636,
          41.19554541492394,
          70.29931446256535,
          62.40624826300434,
          79.19805807980404,
          79.66534500588658,
          59.86056134038789,
          78.1944098642934,
          27.410621840322012,
          59.7244418158638,
          50.62862111942369,
          89.90296264452849,
          82.20900272633595,
          84.95176672815381,
          40.456019439793224,
          75.38257149912997,
          55.37868155226282,
          66.28269239835572,
          84.28334431853574,
          63.40583807418085,
          79.53328388569662,
          64.14130564497742,
          54.3059589734066,
          71.10182719454043,
          49.49088258155602,
          70.83364654982638,
          93.7164200230355,
          63.8771834045975,
          42.19716442826751,
          83.8790441492976,
          86.49177623309257,
          81.20535451082532,
          74.44799764696492,
          64.87880241794107,
          59.326229253126854,
          51.162953206684726,
          79.3991935633396,
          67.42246013839046,
          81.9408220816219,
          51.29704352904176,
          50.56157595824517,
          73.17616878674022,
          75.71982650718961,
          75.98800715190366,
          68.289988829377,
          63.13968663163385,
          59.594409897840904,
          47.883827915438765,
          81.33741563101528,
          68.42407915173403,
          79.13101291862553,
          51.162953206684726,
          71.36797863708742,
          71.50206895944446,
          76.18711343327213,
          73.77754603517978,
          79.06193855527995,
          77.12168728543719,
          78.12736470311489,
          48.619295486235345,
          92.5807106873349,
          72.30661089358662,
          42.132148469256066,
          73.30822990693018,
          70.9006917110049,
          90.90661086003912,
          74.78119425069042,
          62.47126422201579,
          48.62132468840242,
          51.630240132767256,
          68.7593049576266,
          84.35038947971427,
          77.45894229349683,
          90.70547537650359,
          61.80081261023065,
          83.74495382694056,
          56.183223486404984,
          51.095908045506214,
          46.813134538749615,
          77.72509373604382,
          76.58735519817616,
          44.40356714065726,
          81.07126418846829,
          82.14398676732452,
          86.68885331229396,
          74.98435893639302,
          75.1834652177615,
          69.49680173059025,
          72.97706250537175,
          59.25918409194834,
          71.56911412062297,
          76.18711343327213,
          61.40057084532664,
          40.323958319603264,
          72.90798814202617,
          44.6047026241928,
          86.35768591073553,
          77.32485197113981,
          53.170249637706,
          82.00583804063335,
          75.38460070129705,
          74.04572667989383,
          66.21767643934429,
          86.96109236134215,
          50.96181772314919,
          68.89136607781656,
          55.51074267245278,
          74.91528457304744,
          59.46031957548388,
          60.463967790994516,
          66.15063127816576,
          62.737415664562775,
          65.41516370736919,
          80.80308354375424,
          71.83932396750409,
          69.5618176896017,
          63.47288323535936,
          77.32282276897273,
          84.4154054387257,
          79.46420952235103,
          51.3620594880532,
          44.67174778537131,
          88.63113378430378,
          60.061696823923434,
          22.258290440411802,
          74.58208796932195,
          53.10117527436042,
          59.79554538137645,
          36.644591263453286,
          55.44572671344133,
          77.92825842174642,
          91.50798810847867,
          66.6179182042483,
          69.49680173059025,
          49.89112434646004,
          36.03915561067959,
          52.69890430728934,
          59.86056134038789,
          71.3009334759089,
          74.6471039283334,
          70.76660138864787,
          72.50774637712216,
          78.59465162919743,
          60.12874198510195,
          92.04232019573972,
          73.17616878674022,
          73.98071072088239,
          63.2047025906453,
          56.65051041248751,
          76.11803906992655,
          56.24621024324936,
          69.29363704488763,
          70.36433042157678,
          60.19578714628046,
          63.47085403319228,
          60.864209555898526,
          88.49704346194676,
          60.79716439472001,
          83.21265094184659,
          56.64848121032044,
          32.49387887688664,
          58.991003447234284,
          56.447345726784896,
          57.788248950355175,
          64.74471209558405,
          61.73173824688507,
          82.40810900770443,
          76.58938440034322,
          70.22821089705269,
          73.10912362556171,
          95.18735516462866,
          68.35703399055551,
          42.19716442826751,
          88.49704346194676,
          93.51528453949994,
          81.33741563101528,
          63.20673179281238,
          84.75063124461828,
          98.33239013351759,
          80.00057081177914,
          47.28042146483214,
          41.6608031388394,
          74.51301360597637,
          71.50206895944446,
          75.71576810285548,
          62.93855114809831,
          69.29566624705471,
          66.48585708405834,
          67.69064078310451,
          66.68699256759388,
          53.23729479888452,
          72.5057171749551,
          44.20446085928879,
          64.94381837695252,
          87.89566621350721,
          62.80649002790836,
          58.12144555408067,
          53.371385121241545,
          42.66648055651711,
          63.00356710710976,
          97.46283224036398,
          57.71917458700959,
          71.43502379826595,
          64.07628968596597,
          79.26510324098255,
          55.711878155988316,
          83.34674126420362,
          70.03113381785128,
          82.20900272633595,
          65.41516370736919,
          65.8154054722732,
          69.69387880979166,
          72.84297218301472,
          72.90798814202617,
          72.17252057122958,
          58.65780684350878,
          55.11050090754876,
          91.44094294730016,
          56.98370701621301,
          56.31325540442787,
          82.40607980553736,
          38.11552640504645,
          65.74836031109469,
          82.34309304869299,
          69.96408865667277,
          58.45667135997324,
          62.40421906083728,
          64.94584757911959,
          70.36433042157678,
          55.37868155226282,
          57.249858458759995,
          65.54925402972621,
          47.148360344642185,
          67.55655046074749,
          65.68334435208324,
          55.98208800286944,
          87.22724380388914,
          79.19602887763698,
          79.93352565060063,
          71.16684315355188,
          81.4715059533723,
          80.93717386611127,
          72.63980749731212,
          65.28107338501216,
          80.46988694002874,
          45.07401875244239,
          72.64183669947919,
          82.74130561142992,
          91.71115279418129,
          75.31552633795145,
          57.52006830564112,
          59.525335534495326,
          53.76959768397849,
          87.49339524643612,
          52.96911415417046,
          99.20397722883827,
          64.54560581421558,
          56.71552637149895,
          53.036159315348975,
          69.16157592469767,
          88.29590797841122,
          58.19051991742626,
          85.95541494366445,
          29.617024552711758,
          66.41881192287983,
          86.42270186974697,
          74.24889136559645,
          84.01516367382169,
          67.68861158093745,
          83.94608931047611,
          65.54722482755915,
          89.1674950737319,
          74.78119425069042,
          62.00397729593326,
          67.89177626664005,
          62.46923501984872,
          70.43340478492237,
          70.23226930138684,
          57.585084264652565,
          67.08723433249789,
          51.498179012577296,
          50.82772740079216,
          72.84094298084766,
          46.94925406327371,
          73.10709442339464,
          52.77000787280199,
          80.93717386611127,
          82.80835077260845,
          63.07264147045534,
          82.14195756515744,
          86.69088251446104,
          62.402189858670205,
          63.3408221151694,
          47.416540989356236,
          75.8498584252125,
          67.88974706447299,
          70.43340478492237,
          77.79213889722233,
          86.62586655544959,
          60.19578714628046,
          88.56611782529235,
          56.7805423305104,
          81.1383093496468,
          68.96044044116213,
          57.7862197481881,
          77.19076164878277,
          90.7725205376821,
          70.43340478492237,
          49.960198709805624,
          48.88950533311647,
          59.59238069567384,
          94.85212935873608,
          85.41905365423634,
          87.15816944054356,
          72.57276233613361,
          76.31917455346209,
          76.3862197146406,
          49.492911783723095,
          85.48812801758193,
          57.788248950355175,
          57.71917458700959,
          51.095908045506214,
          59.594409897840904,
          59.726471018030864,
          50.8927433598036,
          39.18419057956853,
          72.30458169141954,
          66.15063127816576,
          52.56684318709938,
          60.12874198510195,
          86.556792192104,
          68.35906319272259,
          81.00218982512271,
          58.45464215780617,
          64.07426048379891,
          66.35379596386838,
          91.51001731064575,
          68.49315351507961,
          80.93717386611127,
          76.38824891680768,
          93.3141490559644,
          62.13603841612322,
          81.80673175926488,
          98.66761593941015,
          66.41881192287983,
          65.74836031109469,
          71.57114332279004,
          75.31755554011853,
          88.96635959019636,
          46.477908732857045,
          62.07102245711178,
          44.53968666518136,
          37.512119954439825,
          69.9620594545057,
          65.68131514991617,
          67.95476302348443,
          65.54925402972621,
          74.04572667989383,
          72.37162685259806,
          89.56976604080299,
          77.9912451785908,
          49.824079185281526,
          42.33125475062454,
          98.66761593941015,
          69.42772736724467,
          48.01994743996286,
          67.08723433249789,
          73.8445911963583,
          94.85415856090316,
          60.461938588827444,
          64.0072153226204,
          79.66534500588658,
          53.0341301131819,
          50.695666280602204,
          89.5006916774574,
          54.50709445694214,
          59.525335534495326,
          95.12031000345014,
          77.99327438075787,
          71.43502379826595,
          73.97868151871532,
          75.58370698266552,
          74.37892328361933,
          70.89866250883783,
          60.79513519255295,
          62.402189858670205,
          63.87312500026337,
          56.1141491230594,
          61.66875149004069,
          67.08723433249789,
          74.98232973422596,
          98.66761593941015,
          76.58532599600908,
          23.32898381710095,
          52.96911415417046,
          75.58370698266552,
          79.99854160961208,
          58.655777641341714,
          27.944953927583054,
          76.98962616524723,
          56.24823944541643,
          87.8286210523287,
          71.30296267807599,
          83.21265094184659,
          55.843939276178276,
          62.8715059869198,
          61.73376744905214,
          59.66145505901942,
          57.98735523172365,
          89.43567571844596,
          75.31552633795145,
          91.44094294730016,
          66.55087304306979,
          43.466964086325135,
          77.7941680993894,
          81.07329339063536,
          71.56911412062297,
          58.31852263328207,
          62.001948093766195,
          50.49453079706666,
          95.45756501150979,
          57.25188766092707,
          96.3941680658419,
          69.02748560234065,
          47.88585711760583,
          55.51074267245278,
          49.55589854056747,
          63.27377695399089,
          60.33190667080456,
          72.57276233613361,
          86.28861154738995,
          83.14560578066808,
          72.90798814202617,
          78.25942582330485,
          90.37024957061101,
          75.78687166836812,
          73.24321394791875,
          50.29136611136405,
          86.22156638621144,
          79.53125468352955,
          77.79213889722233,
          64.41151549185855,
          79.06193855527995,
          68.35703399055551,
          61.199435361791096,
          51.8313756163028,
          77.45691309132975,
          54.70822994047768,
          78.32647098448336,
          85.08585705051084,
          68.7593049576266,
          77.72509373604382,
          65.74836031109469,
          66.75403772877239,
          65.28107338501216,
          57.91828086837806,
          86.35768591073553,
          75.91893278855808,
          65.54925402972621,
          69.02545640017358,
          67.82270190329447,
          63.20876099497944,
          58.38759699662766,
          71.43502379826595,
          83.61289270675061,
          73.0420784643832,
          71.70523364514706,
          74.44596844479784,
          55.711878155988316,
          76.52031003699764,
          81.87174771827632,
          75.58370698266552,
          62.13400921395615,
          76.78849068171169,
          80.33376741550464,
          74.51504280814343,
          60.19578714628046,
          70.76660138864787,
          66.55087304306979,
          54.50912365910921,
          38.247587525236405,
          64.81175725676256,
          97.86510320743507,
          74.78322345285748,
          77.05667132642574,
          56.71552637149895,
          89.36863055726744,
          51.76433045512428,
          74.91528457304744,
          72.57276233613361,
          76.12006827209362,
          61.13036099844551,
          87.49339524643612,
          80.66899322139722,
          70.23024009921976,
          75.71576810285548,
          65.07993790147661,
          80.00057081177914,
          65.41313450520212,
          83.34674126420362,
          63.005596309276825,
          61.80081261023065,
          70.4313755827553,
          33.7677369392784,
          58.523716521151755,
          86.29064074955701,
          58.787838761531674,
          83.7490122312747,
          83.81402819028615,
          99.06988690648124,
          80.13466113413617,
          68.42407915173403,
          91.97527503456121,
          76.78849068171169,
          95.18938436679572,
          75.11642005658298,
          73.31228831126433,
          70.4313755827553,
          57.7862197481881,
          88.09477249487568,
          47.148360344642185,
          42.264209589446025,
          73.57843975381131,
          73.4423202292872,
          51.1649824088518,
          89.90093344236142,
          38.92006833918862,
          75.516661821487,
          45.610380041870506,
          88.02975653586424,
          46.54698309620263,
          56.71552637149895,
          56.717555573666026,
          78.99895179843557,
          64.20835080615593,
          70.76863059081494,
          59.12509376959131,
          72.57479153830067,
          54.70620073831061,
          82.94447029713254,
          71.16684315355188,
          54.03980753085961,
          77.6580485748653,
          73.71050087400127,
          63.407867276347915,
          58.38759699662766,
          83.34674126420362,
          68.22497287036556,
          70.83364654982638,
          76.25415859445064,
          88.29590797841122,
          54.24094301439516,
          93.44823937832143,
          56.84961669385598,
          67.22132465485493,
          57.585084264652565,
          75.58370698266552,
          69.82796913214868,
          56.38030056560638,
          79.93352565060063,
          61.06534503943407,
          61.86785777140916,
          71.23591751689747,
          72.97300410103762,
          62.00397729593326,
          69.89704349549426,
          58.92395828605577,
          47.28245066699921,
          72.23956573240811,
          65.07790869930955,
          76.05099390874804,
          64.1433348471445,
          56.447345726784896,
          70.69955622746936,
          42.396270709635985,
          77.6580485748653,
          84.75266044678534,
          54.37300413458511,
          88.29590797841122,
          83.54584754557209,
          57.585084264652565,
          80.8051127459213,
          48.751356606425304,
          77.6580485748653,
          35.70392980478702,
          64.27742516950153,
          63.2047025906453,
          60.126712782934874,
          64.67766693440554,
          72.57276233613361,
          83.48083158656065,
          50.35841127254256,
          66.34973755953423,
          69.09453076351916,
          82.20697352416889,
          59.66145505901942,
          53.83867204732407,
          71.70320444298,
          78.86283227391148,
          92.71277180752486,
          83.94811851264318,
          74.91528457304744,
          79.73239016706509,
          72.43867201377657,
          43.735144731039185,
          75.11844925875006,
          53.371385121241545,
          31.293153582174604,
          45.87653148441749,
          62.402189858670205,
          83.34674126420362,
          78.59465162919743,
          85.68926350111747,
          57.11576813640297,
          68.49112431291255,
          70.29728526039827,
          89.23251103274335,
          88.83226926783934,
          88.36295313958973,
          50.82772740079216,
          85.08382784834377,
          56.38030056560638,
          65.74836031109469,
          66.28269239835572,
          67.82270190329447,
          84.01313447165462,
          53.974791571848165,
          59.12509376959131,
          84.34836027754719,
          59.326229253126854,
          80.80308354375424,
          49.557927742734535,
          62.80446082574129,
          63.676047921061965,
          80.66899322139722,
          56.1141491230594,
          75.38257149912997,
          50.15727578900702,
          57.453023144462605,
          41.59172877549382,
          75.91893278855808,
          62.40016065650314,
          84.48447980207129,
          84.5515249632498,
          53.706610927134115,
          70.23024009921976,
          74.44799764696492,
          66.35176676170131,
          66.6179182042483,
          84.28334431853574,
          67.08926353466497,
          62.93855114809831,
          96.19303258230636,
          67.55655046074749,
          77.1887324466157,
          48.219053721331335,
          73.04410766655027,
          60.461938588827444,
          84.81767640579679,
          40.79124524568579,
          70.0981789790298,
          92.44662036497787,
          81.1383093496468,
          52.43478206690942,
          42.26623879161309,
          73.37730427027577,
          49.89112434646004,
          57.117797338570035,
          70.96773687218341,
          83.01151545831105,
          89.1674950737319,
          59.79148697704231,
          64.14536404931157,
          81.07126418846829,
          59.79351617920938,
          70.23024009921976,
          74.31187812244082,
          63.005596309276825,
          69.16157592469767,
          71.50206895944446,
          45.610380041870506,
          50.025214668817064,
          74.17778780008379,
          98.73466110058868,
          69.8950142933272,
          64.34447033068004,
          49.55589854056747,
          84.21629915735723,
          90.70547537650359,
          64.94381837695252,
          74.04775588206091,
          60.864209555898526,
          32.82910468277921,
          28.41427005583265,
          76.11803906992655,
          53.90774641066965,
          76.25212939228358,
          83.21265094184659,
          76.78849068171169,
          46.07563776578596,
          98.73466110058868,
          82.00583804063335,
          76.85756504505727,
          47.61767647289178,
          82.81037997477551,
          73.57641055164424,
          63.47491243752643,
          41.528742018649446,
          82.13992836299037,
          59.45829037331681,
          60.05966762175636,
          59.056019406245724,
          68.96044044116213,
          99.20397722883827,
          58.9219290838887,
          74.77916504852335,
          94.85415856090316,
          69.02748560234065,
          50.82569819862509,
          65.4822088685477,
          63.33879291300232,
          69.36271140823322,
          63.74309308224048,
          55.57981703579836,
          60.32987746863749,
          42.19716442826751,
          54.50709445694214,
          72.63980749731212,
          56.382329767773456,
          69.42772736724467,
          73.77754603517978,
          86.89404720016364,
          62.5383093831943,
          56.717555573666026,
          56.98370701621301,
          80.40284177885023,
          67.69064078310451,
          65.4822088685477,
          89.29955619392186,
          66.08561531915433,
          60.99829987825556,
          66.41678272071276,
          59.59238069567384,
          81.1383093496468,
          56.447345726784896,
          48.954521292127914,
          72.9059589398591,
          73.51342379479986,
          75.9859779497366,
          73.10912362556171,
          51.43113385139878,
          67.62156641975893,
          57.052781379558596,
          85.95541494366445,
          98.66761593941015,
          60.86218035373146,
          79.73239016706509,
          56.9166618550345,
          52.63388834827789,
          99.20397722883827,
          74.37892328361933,
          57.052781379558596,
          68.55816947409106,
          66.95314401014086,
          62.06899325494471,
          74.58005876715488,
          82.54219933006146,
          98.46648045587462,
          71.50409816161152,
          49.22270193684197,
          63.00356710710976,
          61.46558680433808,
          79.93149644843356,
          60.931254717077046,
          63.87515420243044,
          40.92736477020989,
          93.91755550657103,
          21.85399027117365,
          77.32485197113981,
          83.74698302910764,
          85.55314397659336,
          74.04572667989383,
          50.42748563588815,
          56.7805423305104,
          74.51504280814343,
          43.93628021457473,
          83.8790441492976,
          80.46988694002874,
          79.99854160961208,
          73.7084716718342,
          70.4313755827553,
          62.06899325494471,
          97.46283224036398,
          54.50912365910921,
          69.29363704488763,
          76.45326487581912,
          84.54949576108274
         ]
        }
       ],
       "layout": {
        "legend": {
         "tracegroupgap": 0
        },
        "margin": {
         "t": 60
        },
        "template": {
         "data": {
          "bar": [
           {
            "error_x": {
             "color": "#2a3f5f"
            },
            "error_y": {
             "color": "#2a3f5f"
            },
            "marker": {
             "line": {
              "color": "#E5ECF6",
              "width": 0.5
             },
             "pattern": {
              "fillmode": "overlay",
              "size": 10,
              "solidity": 0.2
             }
            },
            "type": "bar"
           }
          ],
          "barpolar": [
           {
            "marker": {
             "line": {
              "color": "#E5ECF6",
              "width": 0.5
             },
             "pattern": {
              "fillmode": "overlay",
              "size": 10,
              "solidity": 0.2
             }
            },
            "type": "barpolar"
           }
          ],
          "carpet": [
           {
            "aaxis": {
             "endlinecolor": "#2a3f5f",
             "gridcolor": "white",
             "linecolor": "white",
             "minorgridcolor": "white",
             "startlinecolor": "#2a3f5f"
            },
            "baxis": {
             "endlinecolor": "#2a3f5f",
             "gridcolor": "white",
             "linecolor": "white",
             "minorgridcolor": "white",
             "startlinecolor": "#2a3f5f"
            },
            "type": "carpet"
           }
          ],
          "choropleth": [
           {
            "colorbar": {
             "outlinewidth": 0,
             "ticks": ""
            },
            "type": "choropleth"
           }
          ],
          "contour": [
           {
            "colorbar": {
             "outlinewidth": 0,
             "ticks": ""
            },
            "colorscale": [
             [
              0,
              "#0d0887"
             ],
             [
              0.1111111111111111,
              "#46039f"
             ],
             [
              0.2222222222222222,
              "#7201a8"
             ],
             [
              0.3333333333333333,
              "#9c179e"
             ],
             [
              0.4444444444444444,
              "#bd3786"
             ],
             [
              0.5555555555555556,
              "#d8576b"
             ],
             [
              0.6666666666666666,
              "#ed7953"
             ],
             [
              0.7777777777777778,
              "#fb9f3a"
             ],
             [
              0.8888888888888888,
              "#fdca26"
             ],
             [
              1,
              "#f0f921"
             ]
            ],
            "type": "contour"
           }
          ],
          "contourcarpet": [
           {
            "colorbar": {
             "outlinewidth": 0,
             "ticks": ""
            },
            "type": "contourcarpet"
           }
          ],
          "heatmap": [
           {
            "colorbar": {
             "outlinewidth": 0,
             "ticks": ""
            },
            "colorscale": [
             [
              0,
              "#0d0887"
             ],
             [
              0.1111111111111111,
              "#46039f"
             ],
             [
              0.2222222222222222,
              "#7201a8"
             ],
             [
              0.3333333333333333,
              "#9c179e"
             ],
             [
              0.4444444444444444,
              "#bd3786"
             ],
             [
              0.5555555555555556,
              "#d8576b"
             ],
             [
              0.6666666666666666,
              "#ed7953"
             ],
             [
              0.7777777777777778,
              "#fb9f3a"
             ],
             [
              0.8888888888888888,
              "#fdca26"
             ],
             [
              1,
              "#f0f921"
             ]
            ],
            "type": "heatmap"
           }
          ],
          "heatmapgl": [
           {
            "colorbar": {
             "outlinewidth": 0,
             "ticks": ""
            },
            "colorscale": [
             [
              0,
              "#0d0887"
             ],
             [
              0.1111111111111111,
              "#46039f"
             ],
             [
              0.2222222222222222,
              "#7201a8"
             ],
             [
              0.3333333333333333,
              "#9c179e"
             ],
             [
              0.4444444444444444,
              "#bd3786"
             ],
             [
              0.5555555555555556,
              "#d8576b"
             ],
             [
              0.6666666666666666,
              "#ed7953"
             ],
             [
              0.7777777777777778,
              "#fb9f3a"
             ],
             [
              0.8888888888888888,
              "#fdca26"
             ],
             [
              1,
              "#f0f921"
             ]
            ],
            "type": "heatmapgl"
           }
          ],
          "histogram": [
           {
            "marker": {
             "pattern": {
              "fillmode": "overlay",
              "size": 10,
              "solidity": 0.2
             }
            },
            "type": "histogram"
           }
          ],
          "histogram2d": [
           {
            "colorbar": {
             "outlinewidth": 0,
             "ticks": ""
            },
            "colorscale": [
             [
              0,
              "#0d0887"
             ],
             [
              0.1111111111111111,
              "#46039f"
             ],
             [
              0.2222222222222222,
              "#7201a8"
             ],
             [
              0.3333333333333333,
              "#9c179e"
             ],
             [
              0.4444444444444444,
              "#bd3786"
             ],
             [
              0.5555555555555556,
              "#d8576b"
             ],
             [
              0.6666666666666666,
              "#ed7953"
             ],
             [
              0.7777777777777778,
              "#fb9f3a"
             ],
             [
              0.8888888888888888,
              "#fdca26"
             ],
             [
              1,
              "#f0f921"
             ]
            ],
            "type": "histogram2d"
           }
          ],
          "histogram2dcontour": [
           {
            "colorbar": {
             "outlinewidth": 0,
             "ticks": ""
            },
            "colorscale": [
             [
              0,
              "#0d0887"
             ],
             [
              0.1111111111111111,
              "#46039f"
             ],
             [
              0.2222222222222222,
              "#7201a8"
             ],
             [
              0.3333333333333333,
              "#9c179e"
             ],
             [
              0.4444444444444444,
              "#bd3786"
             ],
             [
              0.5555555555555556,
              "#d8576b"
             ],
             [
              0.6666666666666666,
              "#ed7953"
             ],
             [
              0.7777777777777778,
              "#fb9f3a"
             ],
             [
              0.8888888888888888,
              "#fdca26"
             ],
             [
              1,
              "#f0f921"
             ]
            ],
            "type": "histogram2dcontour"
           }
          ],
          "mesh3d": [
           {
            "colorbar": {
             "outlinewidth": 0,
             "ticks": ""
            },
            "type": "mesh3d"
           }
          ],
          "parcoords": [
           {
            "line": {
             "colorbar": {
              "outlinewidth": 0,
              "ticks": ""
             }
            },
            "type": "parcoords"
           }
          ],
          "pie": [
           {
            "automargin": true,
            "type": "pie"
           }
          ],
          "scatter": [
           {
            "fillpattern": {
             "fillmode": "overlay",
             "size": 10,
             "solidity": 0.2
            },
            "type": "scatter"
           }
          ],
          "scatter3d": [
           {
            "line": {
             "colorbar": {
              "outlinewidth": 0,
              "ticks": ""
             }
            },
            "marker": {
             "colorbar": {
              "outlinewidth": 0,
              "ticks": ""
             }
            },
            "type": "scatter3d"
           }
          ],
          "scattercarpet": [
           {
            "marker": {
             "colorbar": {
              "outlinewidth": 0,
              "ticks": ""
             }
            },
            "type": "scattercarpet"
           }
          ],
          "scattergeo": [
           {
            "marker": {
             "colorbar": {
              "outlinewidth": 0,
              "ticks": ""
             }
            },
            "type": "scattergeo"
           }
          ],
          "scattergl": [
           {
            "marker": {
             "colorbar": {
              "outlinewidth": 0,
              "ticks": ""
             }
            },
            "type": "scattergl"
           }
          ],
          "scattermapbox": [
           {
            "marker": {
             "colorbar": {
              "outlinewidth": 0,
              "ticks": ""
             }
            },
            "type": "scattermapbox"
           }
          ],
          "scatterpolar": [
           {
            "marker": {
             "colorbar": {
              "outlinewidth": 0,
              "ticks": ""
             }
            },
            "type": "scatterpolar"
           }
          ],
          "scatterpolargl": [
           {
            "marker": {
             "colorbar": {
              "outlinewidth": 0,
              "ticks": ""
             }
            },
            "type": "scatterpolargl"
           }
          ],
          "scatterternary": [
           {
            "marker": {
             "colorbar": {
              "outlinewidth": 0,
              "ticks": ""
             }
            },
            "type": "scatterternary"
           }
          ],
          "surface": [
           {
            "colorbar": {
             "outlinewidth": 0,
             "ticks": ""
            },
            "colorscale": [
             [
              0,
              "#0d0887"
             ],
             [
              0.1111111111111111,
              "#46039f"
             ],
             [
              0.2222222222222222,
              "#7201a8"
             ],
             [
              0.3333333333333333,
              "#9c179e"
             ],
             [
              0.4444444444444444,
              "#bd3786"
             ],
             [
              0.5555555555555556,
              "#d8576b"
             ],
             [
              0.6666666666666666,
              "#ed7953"
             ],
             [
              0.7777777777777778,
              "#fb9f3a"
             ],
             [
              0.8888888888888888,
              "#fdca26"
             ],
             [
              1,
              "#f0f921"
             ]
            ],
            "type": "surface"
           }
          ],
          "table": [
           {
            "cells": {
             "fill": {
              "color": "#EBF0F8"
             },
             "line": {
              "color": "white"
             }
            },
            "header": {
             "fill": {
              "color": "#C8D4E3"
             },
             "line": {
              "color": "white"
             }
            },
            "type": "table"
           }
          ]
         },
         "layout": {
          "annotationdefaults": {
           "arrowcolor": "#2a3f5f",
           "arrowhead": 0,
           "arrowwidth": 1
          },
          "autotypenumbers": "strict",
          "coloraxis": {
           "colorbar": {
            "outlinewidth": 0,
            "ticks": ""
           }
          },
          "colorscale": {
           "diverging": [
            [
             0,
             "#8e0152"
            ],
            [
             0.1,
             "#c51b7d"
            ],
            [
             0.2,
             "#de77ae"
            ],
            [
             0.3,
             "#f1b6da"
            ],
            [
             0.4,
             "#fde0ef"
            ],
            [
             0.5,
             "#f7f7f7"
            ],
            [
             0.6,
             "#e6f5d0"
            ],
            [
             0.7,
             "#b8e186"
            ],
            [
             0.8,
             "#7fbc41"
            ],
            [
             0.9,
             "#4d9221"
            ],
            [
             1,
             "#276419"
            ]
           ],
           "sequential": [
            [
             0,
             "#0d0887"
            ],
            [
             0.1111111111111111,
             "#46039f"
            ],
            [
             0.2222222222222222,
             "#7201a8"
            ],
            [
             0.3333333333333333,
             "#9c179e"
            ],
            [
             0.4444444444444444,
             "#bd3786"
            ],
            [
             0.5555555555555556,
             "#d8576b"
            ],
            [
             0.6666666666666666,
             "#ed7953"
            ],
            [
             0.7777777777777778,
             "#fb9f3a"
            ],
            [
             0.8888888888888888,
             "#fdca26"
            ],
            [
             1,
             "#f0f921"
            ]
           ],
           "sequentialminus": [
            [
             0,
             "#0d0887"
            ],
            [
             0.1111111111111111,
             "#46039f"
            ],
            [
             0.2222222222222222,
             "#7201a8"
            ],
            [
             0.3333333333333333,
             "#9c179e"
            ],
            [
             0.4444444444444444,
             "#bd3786"
            ],
            [
             0.5555555555555556,
             "#d8576b"
            ],
            [
             0.6666666666666666,
             "#ed7953"
            ],
            [
             0.7777777777777778,
             "#fb9f3a"
            ],
            [
             0.8888888888888888,
             "#fdca26"
            ],
            [
             1,
             "#f0f921"
            ]
           ]
          },
          "colorway": [
           "#636efa",
           "#EF553B",
           "#00cc96",
           "#ab63fa",
           "#FFA15A",
           "#19d3f3",
           "#FF6692",
           "#B6E880",
           "#FF97FF",
           "#FECB52"
          ],
          "font": {
           "color": "#2a3f5f"
          },
          "geo": {
           "bgcolor": "white",
           "lakecolor": "white",
           "landcolor": "#E5ECF6",
           "showlakes": true,
           "showland": true,
           "subunitcolor": "white"
          },
          "hoverlabel": {
           "align": "left"
          },
          "hovermode": "closest",
          "mapbox": {
           "style": "light"
          },
          "paper_bgcolor": "white",
          "plot_bgcolor": "#E5ECF6",
          "polar": {
           "angularaxis": {
            "gridcolor": "white",
            "linecolor": "white",
            "ticks": ""
           },
           "bgcolor": "#E5ECF6",
           "radialaxis": {
            "gridcolor": "white",
            "linecolor": "white",
            "ticks": ""
           }
          },
          "scene": {
           "xaxis": {
            "backgroundcolor": "#E5ECF6",
            "gridcolor": "white",
            "gridwidth": 2,
            "linecolor": "white",
            "showbackground": true,
            "ticks": "",
            "zerolinecolor": "white"
           },
           "yaxis": {
            "backgroundcolor": "#E5ECF6",
            "gridcolor": "white",
            "gridwidth": 2,
            "linecolor": "white",
            "showbackground": true,
            "ticks": "",
            "zerolinecolor": "white"
           },
           "zaxis": {
            "backgroundcolor": "#E5ECF6",
            "gridcolor": "white",
            "gridwidth": 2,
            "linecolor": "white",
            "showbackground": true,
            "ticks": "",
            "zerolinecolor": "white"
           }
          },
          "shapedefaults": {
           "line": {
            "color": "#2a3f5f"
           }
          },
          "ternary": {
           "aaxis": {
            "gridcolor": "white",
            "linecolor": "white",
            "ticks": ""
           },
           "baxis": {
            "gridcolor": "white",
            "linecolor": "white",
            "ticks": ""
           },
           "bgcolor": "#E5ECF6",
           "caxis": {
            "gridcolor": "white",
            "linecolor": "white",
            "ticks": ""
           }
          },
          "title": {
           "x": 0.05
          },
          "xaxis": {
           "automargin": true,
           "gridcolor": "white",
           "linecolor": "white",
           "ticks": "",
           "title": {
            "standoff": 15
           },
           "zerolinecolor": "white",
           "zerolinewidth": 2
          },
          "yaxis": {
           "automargin": true,
           "gridcolor": "white",
           "linecolor": "white",
           "ticks": "",
           "title": {
            "standoff": 15
           },
           "zerolinecolor": "white",
           "zerolinewidth": 2
          }
         }
        },
        "xaxis": {
         "anchor": "y",
         "domain": [
          0,
          1
         ],
         "title": {
          "text": "math score"
         }
        },
        "yaxis": {
         "anchor": "x",
         "domain": [
          0,
          1
         ],
         "title": {
          "text": "writing score"
         }
        }
       }
      },
      "text/html": [
       "<div>                            <div id=\"4cbd6291-4985-4bda-80a5-b3733b6e9591\" class=\"plotly-graph-div\" style=\"height:525px; width:100%;\"></div>            <script type=\"text/javascript\">                require([\"plotly\"], function(Plotly) {                    window.PLOTLYENV=window.PLOTLYENV || {};                                    if (document.getElementById(\"4cbd6291-4985-4bda-80a5-b3733b6e9591\")) {                    Plotly.newPlot(                        \"4cbd6291-4985-4bda-80a5-b3733b6e9591\",                        [{\"hovertemplate\":\"math score=%{x}<br>writing score=%{y}<extra></extra>\",\"legendgroup\":\"\",\"marker\":{\"color\":\"#636efa\",\"symbol\":\"circle\"},\"mode\":\"markers\",\"name\":\"\",\"orientation\":\"v\",\"showlegend\":false,\"x\":[72,69,90,47,76,71,88,40,64,38,58,40,65,78,50,69,88,18,46,54,66,65,44,69,74,73,69,67,70,62,69,63,56,40,97,81,74,50,75,57,55,58,53,59,50,65,55,66,57,82,53,77,53,88,71,33,82,52,58,0,79,39,62,69,59,67,45,60,61,39,58,63,41,61,49,44,30,80,61,62,47,49,50,72,42,73,76,71,58,73,65,27,71,43,79,78,65,63,58,65,79,68,85,60,98,58,87,66,52,70,77,62,54,51,99,84,75,78,51,55,79,91,88,63,83,87,72,65,82,51,89,53,87,75,74,58,51,70,59,71,76,59,42,57,88,22,88,73,68,100,62,77,59,54,62,70,66,60,61,66,82,75,49,52,81,96,53,58,68,67,72,94,79,63,43,81,46,71,52,97,62,46,50,65,45,65,80,62,48,77,66,76,62,77,69,61,59,55,45,78,67,65,69,57,59,74,82,81,74,58,80,35,42,60,87,84,83,34,66,61,56,87,55,86,52,45,72,57,68,88,76,46,67,92,83,80,63,64,54,84,73,80,56,59,75,85,89,58,65,68,47,71,60,80,54,62,64,78,70,65,64,79,44,99,76,59,63,69,88,71,69,58,47,65,88,83,85,59,65,73,53,45,73,70,37,81,97,67,88,77,76,86,63,65,78,67,46,71,40,90,81,56,67,80,74,69,99,51,53,49,73,66,67,68,59,71,77,83,63,56,67,75,71,43,41,82,61,28,82,41,71,47,62,90,83,61,76,49,24,35,58,61,69,67,79,72,62,77,75,87,52,66,63,46,59,61,63,42,59,80,58,85,52,27,59,49,69,61,44,73,84,45,74,82,59,46,80,85,71,66,80,87,79,38,38,67,64,57,62,73,73,77,76,57,65,48,50,85,74,60,59,53,49,88,54,63,65,82,52,87,70,84,71,63,51,84,71,74,68,57,82,57,47,59,41,62,86,69,65,68,64,61,61,47,73,50,75,75,70,89,67,78,59,73,79,67,69,86,47,81,64,100,65,65,53,37,79,53,100,72,53,54,71,77,75,84,26,72,77,91,83,63,68,59,90,71,76,80,55,76,73,52,68,59,49,70,61,60,64,79,65,64,83,81,54,68,54,59,66,76,74,94,63,95,40,82,68,55,79,86,76,64,62,54,77,76,74,66,66,67,71,91,69,54,53,68,56,36,29,62,68,47,62,79,73,66,51,51,85,97,75,79,81,82,64,78,92,72,62,79,79,87,40,77,53,32,55,61,53,73,74,63,96,63,48,48,92,61,63,68,71,91,53,50,74,40,61,81,48,53,81,77,63,73,69,65,55,44,54,48,58,71,68,74,92,56,30,53,69,65,54,29,76,60,84,75,85,40,61,58,69,58,94,65,82,60,37,88,95,65,35,62,58,100,61,100,69,61,49,44,67,79,66,75,84,71,67,80,86,76,41,74,72,74,70,65,59,64,50,69,51,68,85,65,73,62,77,69,43,90,74,73,55,65,80,50,63,77,73,81,66,52,69,65,69,50,73,70,81,63,67,60,62,29,62,94,85,77,53,93,49,73,66,77,49,79,75,59,57,66,79,57,87,63,59,62,46,66,89,42,93,80,98,81,60,76,73,96,76,91,62,55,74,50,47,81,65,68,73,53,68,55,87,55,53,67,92,53,81,61,80,37,81,59,55,72,69,69,50,87,71,68,79,77,58,84,55,70,52,69,53,48,78,62,60,74,58,76,68,58,52,75,52,62,66,49,66,35,72,94,46,77,76,52,91,32,72,19,68,52,48,60,66,89,42,57,70,70,69,52,67,76,87,82,73,75,64,41,90,59,51,45,54,87,72,94,45,61,60,77,85,78,49,71,48,62,56,65,69,68,61,74,64,77,58,60,73,75,58,66,39,64,23,74,40,90,91,64,59,80,71,61,87,82,62,97,75,65,52,87,53,81,39,71,97,82,59,61,78,49,59,70,82,90,43,80,81,57,59,64,63,71,64,55,51,62,93,54,69,44,86,85,50,88,59,32,36,63,67,65,85,73,34,93,67,88,57,79,67,70,50,69,52,47,46,68,100,44,57,91,69,35,72,54,74,74,64,65,46,48,67,62,61,70,98,70,67,57,85,77,72,78,81,61,58,54,82,49,49,57,94,75,74,58,62,72,84,92,45,75,56,48,100,65,72,62,66,63,68,75,89,78,53,49,54,64,60,62,55,91,8,81,79,78,74,57,40,81,44,67,86,65,55,62,63,88,62,59,68,77],\"xaxis\":\"x\",\"y\":[74,88,93,44,75,78,92,39,67,50,52,43,73,70,58,78,86,28,46,61,63,70,53,73,80,72,55,75,65,75,74,61,65,38,82,79,83,59,88,57,54,68,65,66,54,57,62,76,76,82,48,68,42,75,87,43,86,49,58,10,72,34,55,71,59,61,37,74,56,57,73,63,48,56,41,38,22,81,72,68,50,45,54,63,34,82,88,74,67,82,74,36,71,50,92,82,62,70,62,62,67,74,89,47,90,72,100,64,70,72,98,49,47,54,100,74,82,79,61,65,89,92,93,56,73,86,67,74,74,51,82,40,70,84,75,48,41,56,67,69,71,64,54,47,78,33,75,66,81,93,69,68,66,47,61,88,78,60,87,64,74,85,52,49,91,100,51,78,78,70,74,78,81,70,54,87,58,77,62,100,75,66,47,70,49,65,65,68,45,87,69,79,66,62,85,52,65,51,55,76,86,77,69,68,42,78,62,76,76,66,79,27,60,56,81,75,88,39,70,56,74,73,62,75,73,54,71,54,64,94,66,42,83,78,84,77,67,74,51,80,66,83,55,43,69,71,74,68,62,53,49,83,70,72,52,70,68,77,78,81,77,78,51,90,68,41,81,77,95,70,61,42,58,71,76,73,93,75,80,57,42,46,84,78,46,82,88,82,76,77,68,70,57,75,80,60,43,68,50,75,81,52,81,64,83,69,81,44,67,52,80,57,68,69,75,65,91,78,69,63,84,79,80,53,43,94,62,19,77,51,61,35,53,81,95,66,69,43,27,60,52,63,74,67,67,75,57,95,66,76,69,52,80,57,70,70,61,69,61,89,59,78,58,32,58,60,53,61,58,85,71,70,72,96,73,41,82,100,77,62,83,95,71,45,43,75,70,67,64,75,59,77,67,56,77,41,63,95,57,54,67,43,55,100,62,68,63,77,56,85,74,78,60,67,79,69,68,67,62,54,93,64,67,80,34,62,86,65,53,54,59,70,55,50,66,53,64,73,51,82,79,80,69,76,73,77,60,80,42,72,85,97,74,49,62,47,89,48,100,68,55,45,76,91,62,91,38,65,85,76,90,74,84,61,91,83,66,72,70,67,68,56,61,46,54,71,56,74,57,82,76,70,90,90,68,66,52,76,68,72,82,92,54,92,54,80,66,54,77,87,73,43,52,62,94,85,84,73,78,79,52,84,57,50,49,59,60,43,47,70,73,53,58,94,68,83,58,62,71,86,68,80,79,89,66,80,97,64,64,69,65,88,50,64,40,33,79,66,70,62,79,74,92,80,46,45,100,78,47,67,70,92,56,64,71,53,52,89,58,68,96,80,78,80,77,76,73,62,65,65,54,50,64,73,99,72,15,48,73,81,63,30,80,51,90,62,82,54,62,65,63,66,91,74,93,72,38,83,84,68,54,56,52,86,62,99,63,46,46,55,70,65,81,85,80,64,81,88,74,73,51,90,79,80,60,81,65,68,55,81,53,76,98,74,79,67,64,61,58,85,73,63,69,67,63,60,71,87,61,77,68,50,76,84,78,66,76,76,78,60,74,60,54,44,68,100,68,73,44,83,53,78,81,73,56,86,90,70,79,59,82,72,87,67,64,65,36,52,79,58,90,85,99,84,74,87,72,99,74,80,70,59,88,42,41,71,77,57,84,37,80,43,94,44,57,59,84,73,73,55,72,56,82,72,47,74,71,68,59,86,68,65,75,85,53,92,52,72,65,77,64,54,86,63,59,72,77,60,75,57,49,74,72,79,60,55,70,43,82,82,57,84,82,62,79,44,77,32,61,61,60,70,69,77,51,73,70,81,54,57,68,73,95,87,78,74,75,40,69,51,36,49,67,76,83,87,64,76,68,88,92,93,51,82,52,58,70,76,81,53,57,89,58,89,45,74,57,79,53,73,46,51,36,76,64,84,85,50,68,69,67,63,93,61,55,96,65,81,46,72,53,87,38,80,91,88,52,41,72,51,47,76,78,82,61,66,84,54,80,74,66,70,71,44,54,80,95,59,74,48,91,85,73,75,69,38,27,79,63,82,89,74,41,100,84,77,51,91,72,70,48,82,66,66,55,66,100,52,80,91,67,46,66,65,69,60,52,71,44,51,70,62,73,74,90,58,53,57,85,69,72,96,64,61,61,58,80,60,52,73,71,83,72,54,69,62,81,100,59,71,64,53,100,75,58,72,64,60,67,80,100,69,60,61,67,77,60,58,48,94,23,78,86,91,82,54,51,76,45,83,75,78,76,74,62,95,55,65,77,86],\"yaxis\":\"y\",\"type\":\"scatter\"},{\"mode\":\"lines\",\"name\":\"Linear Regression\",\"x\":[72,69,90,47,76,71,88,40,64,38,58,40,65,78,50,69,88,18,46,54,66,65,44,69,74,73,69,67,70,62,69,63,56,40,97,81,74,50,75,57,55,58,53,59,50,65,55,66,57,82,53,77,53,88,71,33,82,52,58,0,79,39,62,69,59,67,45,60,61,39,58,63,41,61,49,44,30,80,61,62,47,49,50,72,42,73,76,71,58,73,65,27,71,43,79,78,65,63,58,65,79,68,85,60,98,58,87,66,52,70,77,62,54,51,99,84,75,78,51,55,79,91,88,63,83,87,72,65,82,51,89,53,87,75,74,58,51,70,59,71,76,59,42,57,88,22,88,73,68,100,62,77,59,54,62,70,66,60,61,66,82,75,49,52,81,96,53,58,68,67,72,94,79,63,43,81,46,71,52,97,62,46,50,65,45,65,80,62,48,77,66,76,62,77,69,61,59,55,45,78,67,65,69,57,59,74,82,81,74,58,80,35,42,60,87,84,83,34,66,61,56,87,55,86,52,45,72,57,68,88,76,46,67,92,83,80,63,64,54,84,73,80,56,59,75,85,89,58,65,68,47,71,60,80,54,62,64,78,70,65,64,79,44,99,76,59,63,69,88,71,69,58,47,65,88,83,85,59,65,73,53,45,73,70,37,81,97,67,88,77,76,86,63,65,78,67,46,71,40,90,81,56,67,80,74,69,99,51,53,49,73,66,67,68,59,71,77,83,63,56,67,75,71,43,41,82,61,28,82,41,71,47,62,90,83,61,76,49,24,35,58,61,69,67,79,72,62,77,75,87,52,66,63,46,59,61,63,42,59,80,58,85,52,27,59,49,69,61,44,73,84,45,74,82,59,46,80,85,71,66,80,87,79,38,38,67,64,57,62,73,73,77,76,57,65,48,50,85,74,60,59,53,49,88,54,63,65,82,52,87,70,84,71,63,51,84,71,74,68,57,82,57,47,59,41,62,86,69,65,68,64,61,61,47,73,50,75,75,70,89,67,78,59,73,79,67,69,86,47,81,64,100,65,65,53,37,79,53,100,72,53,54,71,77,75,84,26,72,77,91,83,63,68,59,90,71,76,80,55,76,73,52,68,59,49,70,61,60,64,79,65,64,83,81,54,68,54,59,66,76,74,94,63,95,40,82,68,55,79,86,76,64,62,54,77,76,74,66,66,67,71,91,69,54,53,68,56,36,29,62,68,47,62,79,73,66,51,51,85,97,75,79,81,82,64,78,92,72,62,79,79,87,40,77,53,32,55,61,53,73,74,63,96,63,48,48,92,61,63,68,71,91,53,50,74,40,61,81,48,53,81,77,63,73,69,65,55,44,54,48,58,71,68,74,92,56,30,53,69,65,54,29,76,60,84,75,85,40,61,58,69,58,94,65,82,60,37,88,95,65,35,62,58,100,61,100,69,61,49,44,67,79,66,75,84,71,67,80,86,76,41,74,72,74,70,65,59,64,50,69,51,68,85,65,73,62,77,69,43,90,74,73,55,65,80,50,63,77,73,81,66,52,69,65,69,50,73,70,81,63,67,60,62,29,62,94,85,77,53,93,49,73,66,77,49,79,75,59,57,66,79,57,87,63,59,62,46,66,89,42,93,80,98,81,60,76,73,96,76,91,62,55,74,50,47,81,65,68,73,53,68,55,87,55,53,67,92,53,81,61,80,37,81,59,55,72,69,69,50,87,71,68,79,77,58,84,55,70,52,69,53,48,78,62,60,74,58,76,68,58,52,75,52,62,66,49,66,35,72,94,46,77,76,52,91,32,72,19,68,52,48,60,66,89,42,57,70,70,69,52,67,76,87,82,73,75,64,41,90,59,51,45,54,87,72,94,45,61,60,77,85,78,49,71,48,62,56,65,69,68,61,74,64,77,58,60,73,75,58,66,39,64,23,74,40,90,91,64,59,80,71,61,87,82,62,97,75,65,52,87,53,81,39,71,97,82,59,61,78,49,59,70,82,90,43,80,81,57,59,64,63,71,64,55,51,62,93,54,69,44,86,85,50,88,59,32,36,63,67,65,85,73,34,93,67,88,57,79,67,70,50,69,52,47,46,68,100,44,57,91,69,35,72,54,74,74,64,65,46,48,67,62,61,70,98,70,67,57,85,77,72,78,81,61,58,54,82,49,49,57,94,75,74,58,62,72,84,92,45,75,56,48,100,65,72,62,66,63,68,75,89,78,53,49,54,64,60,62,55,91,8,81,79,78,74,57,40,81,44,67,86,65,55,62,63,88,62,59,68,77],\"y\":[71.10182719454043,87.75954668898311,93.85051034539252,55.376652350095746,76.98962616524723,81.33741563101528,93.7164200230355,41.79489346119643,63.07264147045534,57.58305506248549,53.30433996006303,50.224320950185536,79.06193855527995,71.50409816161152,51.8313756163028,73.71050087400127,88.09680169704275,30.01726631761577,41.26056137393539,56.782571532677466,67.88974706447299,73.4423202292872,52.365707703563835,71.83729476533702,70.29931446256535,73.0420784643832,54.041836733026685,67.9567922256515,69.09453076351916,68.55816947409106,72.77389781966914,63.94219936360895,70.02910461568422,40.858290406864306,86.82700203898513,80.13466113413617,79.66534500588658,62.13400921395615,88.1618176560542,55.11050090754876,59.65942585685235,71.09979799237337,56.71552637149895,63.6740187188949,54.64118477929917,53.77365608831263,63.40583807418085,69.76295317313723,71.96935588552698,83.01151545831105,53.90571720850259,68.62724383743664,43.60308361084923,77.7941680993894,82.2740186853474,39.45237122428259,83.94811851264318,53.83867204732407,57.98735523172365,14.761407601420677,73.44434943145428,37.98143608268942,60.12874198510195,78.39351614566188,57.117797338570035,63.27377695399089,36.51050094109626,70.29728526039827,57.25188766092707,61.3965124409925,61.73376744905214,54.57616882028772,49.354763057031924,56.31528460659494,48.01791823779579,40.18986799724624,25.202189925765197,77.2578068099613,72.23753653024103,66.68496336542681,47.883827915438765,44.2715060204673,46.21175729031006,63.60900275988345,38.182571566224965,78.66169679037594,81.67264143690785,70.0981789790298,68.289988829377,84.28131511636867,70.63251106629085,32.49387887688664,77.59100341368679,43.86923505339622,84.68358608343976,79.93352565060063,65.0128927402981,70.49842074393382,65.48017966638064,65.94949579463022,66.88812805112941,72.70685265849063,89.76887232217146,44.07239973909883,85.95744414583152,65.48017966638064,98.33239013351759,62.270128738480246,73.50733618829865,63.47491243752643,87.3593049240791,54.50912365910921,52.09955626101685,56.58143604914193,99.13693206765976,76.58938440034322,83.47880238439357,80.87012870493275,61.26445132080254,67.15225029150933,90.3032044094325,88.29793718057829,91.84321391437125,56.44937492895197,79.33214840216108,93.64937486185697,67.35541497721195,75.31552633795145,81.1383093496468,48.15200856015282,83.48083158656065,37.04686223052437,73.98071072088239,79.73239016706509,77.79213889722233,54.24094301439516,52.83502383181344,55.04548494853732,64.61062177322702,60.732148435708574,71.3700078392545,60.864209555898526,53.168220435538935,42.934661201231165,73.11115282772879,36.841668342654685,83.41378642538214,67.42246013839046,73.64345571282276,99.20397722883827,65.74836031109469,66.75403772877239,68.35703399055551,48.35314404368836,65.74836031109469,86.88998879582951,72.57276233613361,59.0580486084128,83.47677318222651,61.33352568414813,77.39189713231832,86.28861154738995,51.76433045512428,51.965465938659825,90.43729473178952,98.93579658412422,50.15930499117409,73.90960715536974,81.13628014747974,73.57641055164424,72.03843024887256,87.56246960978172,84.68358608343976,65.8154054722732,49.48885337938896,89.5006916774574,52.49979802592087,75.71779730502254,67.88771786230592,99.00284174530273,66.68496336542681,61.8658285692421,49.02156645330643,67.82270190329447,50.559546756078106,65.94949579463022,75.38460070129705,64.81175725676256,50.760682239613644,86.42270186974697,64.1433348471445,81.67264143690785,62.93855114809831,62.07102245711178,82.13992836299037,54.442078497930694,67.4204309362234,54.976410585191736,51.49614981041023,78.06031954193638,82.00583804063335,79.06193855527995,75.58370698266552,67.28634061386636,41.19554541492394,70.29931446256535,62.40624826300434,79.19805807980404,79.66534500588658,59.86056134038789,78.1944098642934,27.410621840322012,59.7244418158638,50.62862111942369,89.90296264452849,82.20900272633595,84.95176672815381,40.456019439793224,75.38257149912997,55.37868155226282,66.28269239835572,84.28334431853574,63.40583807418085,79.53328388569662,64.14130564497742,54.3059589734066,71.10182719454043,49.49088258155602,70.83364654982638,93.7164200230355,63.8771834045975,42.19716442826751,83.8790441492976,86.49177623309257,81.20535451082532,74.44799764696492,64.87880241794107,59.326229253126854,51.162953206684726,79.3991935633396,67.42246013839046,81.9408220816219,51.29704352904176,50.56157595824517,73.17616878674022,75.71982650718961,75.98800715190366,68.289988829377,63.13968663163385,59.594409897840904,47.883827915438765,81.33741563101528,68.42407915173403,79.13101291862553,51.162953206684726,71.36797863708742,71.50206895944446,76.18711343327213,73.77754603517978,79.06193855527995,77.12168728543719,78.12736470311489,48.619295486235345,92.5807106873349,72.30661089358662,42.132148469256066,73.30822990693018,70.9006917110049,90.90661086003912,74.78119425069042,62.47126422201579,48.62132468840242,51.630240132767256,68.7593049576266,84.35038947971427,77.45894229349683,90.70547537650359,61.80081261023065,83.74495382694056,56.183223486404984,51.095908045506214,46.813134538749615,77.72509373604382,76.58735519817616,44.40356714065726,81.07126418846829,82.14398676732452,86.68885331229396,74.98435893639302,75.1834652177615,69.49680173059025,72.97706250537175,59.25918409194834,71.56911412062297,76.18711343327213,61.40057084532664,40.323958319603264,72.90798814202617,44.6047026241928,86.35768591073553,77.32485197113981,53.170249637706,82.00583804063335,75.38460070129705,74.04572667989383,66.21767643934429,86.96109236134215,50.96181772314919,68.89136607781656,55.51074267245278,74.91528457304744,59.46031957548388,60.463967790994516,66.15063127816576,62.737415664562775,65.41516370736919,80.80308354375424,71.83932396750409,69.5618176896017,63.47288323535936,77.32282276897273,84.4154054387257,79.46420952235103,51.3620594880532,44.67174778537131,88.63113378430378,60.061696823923434,22.258290440411802,74.58208796932195,53.10117527436042,59.79554538137645,36.644591263453286,55.44572671344133,77.92825842174642,91.50798810847867,66.6179182042483,69.49680173059025,49.89112434646004,36.03915561067959,52.69890430728934,59.86056134038789,71.3009334759089,74.6471039283334,70.76660138864787,72.50774637712216,78.59465162919743,60.12874198510195,92.04232019573972,73.17616878674022,73.98071072088239,63.2047025906453,56.65051041248751,76.11803906992655,56.24621024324936,69.29363704488763,70.36433042157678,60.19578714628046,63.47085403319228,60.864209555898526,88.49704346194676,60.79716439472001,83.21265094184659,56.64848121032044,32.49387887688664,58.991003447234284,56.447345726784896,57.788248950355175,64.74471209558405,61.73173824688507,82.40810900770443,76.58938440034322,70.22821089705269,73.10912362556171,95.18735516462866,68.35703399055551,42.19716442826751,88.49704346194676,93.51528453949994,81.33741563101528,63.20673179281238,84.75063124461828,98.33239013351759,80.00057081177914,47.28042146483214,41.6608031388394,74.51301360597637,71.50206895944446,75.71576810285548,62.93855114809831,69.29566624705471,66.48585708405834,67.69064078310451,66.68699256759388,53.23729479888452,72.5057171749551,44.20446085928879,64.94381837695252,87.89566621350721,62.80649002790836,58.12144555408067,53.371385121241545,42.66648055651711,63.00356710710976,97.46283224036398,57.71917458700959,71.43502379826595,64.07628968596597,79.26510324098255,55.711878155988316,83.34674126420362,70.03113381785128,82.20900272633595,65.41516370736919,65.8154054722732,69.69387880979166,72.84297218301472,72.90798814202617,72.17252057122958,58.65780684350878,55.11050090754876,91.44094294730016,56.98370701621301,56.31325540442787,82.40607980553736,38.11552640504645,65.74836031109469,82.34309304869299,69.96408865667277,58.45667135997324,62.40421906083728,64.94584757911959,70.36433042157678,55.37868155226282,57.249858458759995,65.54925402972621,47.148360344642185,67.55655046074749,65.68334435208324,55.98208800286944,87.22724380388914,79.19602887763698,79.93352565060063,71.16684315355188,81.4715059533723,80.93717386611127,72.63980749731212,65.28107338501216,80.46988694002874,45.07401875244239,72.64183669947919,82.74130561142992,91.71115279418129,75.31552633795145,57.52006830564112,59.525335534495326,53.76959768397849,87.49339524643612,52.96911415417046,99.20397722883827,64.54560581421558,56.71552637149895,53.036159315348975,69.16157592469767,88.29590797841122,58.19051991742626,85.95541494366445,29.617024552711758,66.41881192287983,86.42270186974697,74.24889136559645,84.01516367382169,67.68861158093745,83.94608931047611,65.54722482755915,89.1674950737319,74.78119425069042,62.00397729593326,67.89177626664005,62.46923501984872,70.43340478492237,70.23226930138684,57.585084264652565,67.08723433249789,51.498179012577296,50.82772740079216,72.84094298084766,46.94925406327371,73.10709442339464,52.77000787280199,80.93717386611127,82.80835077260845,63.07264147045534,82.14195756515744,86.69088251446104,62.402189858670205,63.3408221151694,47.416540989356236,75.8498584252125,67.88974706447299,70.43340478492237,77.79213889722233,86.62586655544959,60.19578714628046,88.56611782529235,56.7805423305104,81.1383093496468,68.96044044116213,57.7862197481881,77.19076164878277,90.7725205376821,70.43340478492237,49.960198709805624,48.88950533311647,59.59238069567384,94.85212935873608,85.41905365423634,87.15816944054356,72.57276233613361,76.31917455346209,76.3862197146406,49.492911783723095,85.48812801758193,57.788248950355175,57.71917458700959,51.095908045506214,59.594409897840904,59.726471018030864,50.8927433598036,39.18419057956853,72.30458169141954,66.15063127816576,52.56684318709938,60.12874198510195,86.556792192104,68.35906319272259,81.00218982512271,58.45464215780617,64.07426048379891,66.35379596386838,91.51001731064575,68.49315351507961,80.93717386611127,76.38824891680768,93.3141490559644,62.13603841612322,81.80673175926488,98.66761593941015,66.41881192287983,65.74836031109469,71.57114332279004,75.31755554011853,88.96635959019636,46.477908732857045,62.07102245711178,44.53968666518136,37.512119954439825,69.9620594545057,65.68131514991617,67.95476302348443,65.54925402972621,74.04572667989383,72.37162685259806,89.56976604080299,77.9912451785908,49.824079185281526,42.33125475062454,98.66761593941015,69.42772736724467,48.01994743996286,67.08723433249789,73.8445911963583,94.85415856090316,60.461938588827444,64.0072153226204,79.66534500588658,53.0341301131819,50.695666280602204,89.5006916774574,54.50709445694214,59.525335534495326,95.12031000345014,77.99327438075787,71.43502379826595,73.97868151871532,75.58370698266552,74.37892328361933,70.89866250883783,60.79513519255295,62.402189858670205,63.87312500026337,56.1141491230594,61.66875149004069,67.08723433249789,74.98232973422596,98.66761593941015,76.58532599600908,23.32898381710095,52.96911415417046,75.58370698266552,79.99854160961208,58.655777641341714,27.944953927583054,76.98962616524723,56.24823944541643,87.8286210523287,71.30296267807599,83.21265094184659,55.843939276178276,62.8715059869198,61.73376744905214,59.66145505901942,57.98735523172365,89.43567571844596,75.31552633795145,91.44094294730016,66.55087304306979,43.466964086325135,77.7941680993894,81.07329339063536,71.56911412062297,58.31852263328207,62.001948093766195,50.49453079706666,95.45756501150979,57.25188766092707,96.3941680658419,69.02748560234065,47.88585711760583,55.51074267245278,49.55589854056747,63.27377695399089,60.33190667080456,72.57276233613361,86.28861154738995,83.14560578066808,72.90798814202617,78.25942582330485,90.37024957061101,75.78687166836812,73.24321394791875,50.29136611136405,86.22156638621144,79.53125468352955,77.79213889722233,64.41151549185855,79.06193855527995,68.35703399055551,61.199435361791096,51.8313756163028,77.45691309132975,54.70822994047768,78.32647098448336,85.08585705051084,68.7593049576266,77.72509373604382,65.74836031109469,66.75403772877239,65.28107338501216,57.91828086837806,86.35768591073553,75.91893278855808,65.54925402972621,69.02545640017358,67.82270190329447,63.20876099497944,58.38759699662766,71.43502379826595,83.61289270675061,73.0420784643832,71.70523364514706,74.44596844479784,55.711878155988316,76.52031003699764,81.87174771827632,75.58370698266552,62.13400921395615,76.78849068171169,80.33376741550464,74.51504280814343,60.19578714628046,70.76660138864787,66.55087304306979,54.50912365910921,38.247587525236405,64.81175725676256,97.86510320743507,74.78322345285748,77.05667132642574,56.71552637149895,89.36863055726744,51.76433045512428,74.91528457304744,72.57276233613361,76.12006827209362,61.13036099844551,87.49339524643612,80.66899322139722,70.23024009921976,75.71576810285548,65.07993790147661,80.00057081177914,65.41313450520212,83.34674126420362,63.005596309276825,61.80081261023065,70.4313755827553,33.7677369392784,58.523716521151755,86.29064074955701,58.787838761531674,83.7490122312747,83.81402819028615,99.06988690648124,80.13466113413617,68.42407915173403,91.97527503456121,76.78849068171169,95.18938436679572,75.11642005658298,73.31228831126433,70.4313755827553,57.7862197481881,88.09477249487568,47.148360344642185,42.264209589446025,73.57843975381131,73.4423202292872,51.1649824088518,89.90093344236142,38.92006833918862,75.516661821487,45.610380041870506,88.02975653586424,46.54698309620263,56.71552637149895,56.717555573666026,78.99895179843557,64.20835080615593,70.76863059081494,59.12509376959131,72.57479153830067,54.70620073831061,82.94447029713254,71.16684315355188,54.03980753085961,77.6580485748653,73.71050087400127,63.407867276347915,58.38759699662766,83.34674126420362,68.22497287036556,70.83364654982638,76.25415859445064,88.29590797841122,54.24094301439516,93.44823937832143,56.84961669385598,67.22132465485493,57.585084264652565,75.58370698266552,69.82796913214868,56.38030056560638,79.93352565060063,61.06534503943407,61.86785777140916,71.23591751689747,72.97300410103762,62.00397729593326,69.89704349549426,58.92395828605577,47.28245066699921,72.23956573240811,65.07790869930955,76.05099390874804,64.1433348471445,56.447345726784896,70.69955622746936,42.396270709635985,77.6580485748653,84.75266044678534,54.37300413458511,88.29590797841122,83.54584754557209,57.585084264652565,80.8051127459213,48.751356606425304,77.6580485748653,35.70392980478702,64.27742516950153,63.2047025906453,60.126712782934874,64.67766693440554,72.57276233613361,83.48083158656065,50.35841127254256,66.34973755953423,69.09453076351916,82.20697352416889,59.66145505901942,53.83867204732407,71.70320444298,78.86283227391148,92.71277180752486,83.94811851264318,74.91528457304744,79.73239016706509,72.43867201377657,43.735144731039185,75.11844925875006,53.371385121241545,31.293153582174604,45.87653148441749,62.402189858670205,83.34674126420362,78.59465162919743,85.68926350111747,57.11576813640297,68.49112431291255,70.29728526039827,89.23251103274335,88.83226926783934,88.36295313958973,50.82772740079216,85.08382784834377,56.38030056560638,65.74836031109469,66.28269239835572,67.82270190329447,84.01313447165462,53.974791571848165,59.12509376959131,84.34836027754719,59.326229253126854,80.80308354375424,49.557927742734535,62.80446082574129,63.676047921061965,80.66899322139722,56.1141491230594,75.38257149912997,50.15727578900702,57.453023144462605,41.59172877549382,75.91893278855808,62.40016065650314,84.48447980207129,84.5515249632498,53.706610927134115,70.23024009921976,74.44799764696492,66.35176676170131,66.6179182042483,84.28334431853574,67.08926353466497,62.93855114809831,96.19303258230636,67.55655046074749,77.1887324466157,48.219053721331335,73.04410766655027,60.461938588827444,84.81767640579679,40.79124524568579,70.0981789790298,92.44662036497787,81.1383093496468,52.43478206690942,42.26623879161309,73.37730427027577,49.89112434646004,57.117797338570035,70.96773687218341,83.01151545831105,89.1674950737319,59.79148697704231,64.14536404931157,81.07126418846829,59.79351617920938,70.23024009921976,74.31187812244082,63.005596309276825,69.16157592469767,71.50206895944446,45.610380041870506,50.025214668817064,74.17778780008379,98.73466110058868,69.8950142933272,64.34447033068004,49.55589854056747,84.21629915735723,90.70547537650359,64.94381837695252,74.04775588206091,60.864209555898526,32.82910468277921,28.41427005583265,76.11803906992655,53.90774641066965,76.25212939228358,83.21265094184659,76.78849068171169,46.07563776578596,98.73466110058868,82.00583804063335,76.85756504505727,47.61767647289178,82.81037997477551,73.57641055164424,63.47491243752643,41.528742018649446,82.13992836299037,59.45829037331681,60.05966762175636,59.056019406245724,68.96044044116213,99.20397722883827,58.9219290838887,74.77916504852335,94.85415856090316,69.02748560234065,50.82569819862509,65.4822088685477,63.33879291300232,69.36271140823322,63.74309308224048,55.57981703579836,60.32987746863749,42.19716442826751,54.50709445694214,72.63980749731212,56.382329767773456,69.42772736724467,73.77754603517978,86.89404720016364,62.5383093831943,56.717555573666026,56.98370701621301,80.40284177885023,67.69064078310451,65.4822088685477,89.29955619392186,66.08561531915433,60.99829987825556,66.41678272071276,59.59238069567384,81.1383093496468,56.447345726784896,48.954521292127914,72.9059589398591,73.51342379479986,75.9859779497366,73.10912362556171,51.43113385139878,67.62156641975893,57.052781379558596,85.95541494366445,98.66761593941015,60.86218035373146,79.73239016706509,56.9166618550345,52.63388834827789,99.20397722883827,74.37892328361933,57.052781379558596,68.55816947409106,66.95314401014086,62.06899325494471,74.58005876715488,82.54219933006146,98.46648045587462,71.50409816161152,49.22270193684197,63.00356710710976,61.46558680433808,79.93149644843356,60.931254717077046,63.87515420243044,40.92736477020989,93.91755550657103,21.85399027117365,77.32485197113981,83.74698302910764,85.55314397659336,74.04572667989383,50.42748563588815,56.7805423305104,74.51504280814343,43.93628021457473,83.8790441492976,80.46988694002874,79.99854160961208,73.7084716718342,70.4313755827553,62.06899325494471,97.46283224036398,54.50912365910921,69.29363704488763,76.45326487581912,84.54949576108274],\"type\":\"scatter\"}],                        {\"template\":{\"data\":{\"histogram2dcontour\":[{\"type\":\"histogram2dcontour\",\"colorbar\":{\"outlinewidth\":0,\"ticks\":\"\"},\"colorscale\":[[0.0,\"#0d0887\"],[0.1111111111111111,\"#46039f\"],[0.2222222222222222,\"#7201a8\"],[0.3333333333333333,\"#9c179e\"],[0.4444444444444444,\"#bd3786\"],[0.5555555555555556,\"#d8576b\"],[0.6666666666666666,\"#ed7953\"],[0.7777777777777778,\"#fb9f3a\"],[0.8888888888888888,\"#fdca26\"],[1.0,\"#f0f921\"]]}],\"choropleth\":[{\"type\":\"choropleth\",\"colorbar\":{\"outlinewidth\":0,\"ticks\":\"\"}}],\"histogram2d\":[{\"type\":\"histogram2d\",\"colorbar\":{\"outlinewidth\":0,\"ticks\":\"\"},\"colorscale\":[[0.0,\"#0d0887\"],[0.1111111111111111,\"#46039f\"],[0.2222222222222222,\"#7201a8\"],[0.3333333333333333,\"#9c179e\"],[0.4444444444444444,\"#bd3786\"],[0.5555555555555556,\"#d8576b\"],[0.6666666666666666,\"#ed7953\"],[0.7777777777777778,\"#fb9f3a\"],[0.8888888888888888,\"#fdca26\"],[1.0,\"#f0f921\"]]}],\"heatmap\":[{\"type\":\"heatmap\",\"colorbar\":{\"outlinewidth\":0,\"ticks\":\"\"},\"colorscale\":[[0.0,\"#0d0887\"],[0.1111111111111111,\"#46039f\"],[0.2222222222222222,\"#7201a8\"],[0.3333333333333333,\"#9c179e\"],[0.4444444444444444,\"#bd3786\"],[0.5555555555555556,\"#d8576b\"],[0.6666666666666666,\"#ed7953\"],[0.7777777777777778,\"#fb9f3a\"],[0.8888888888888888,\"#fdca26\"],[1.0,\"#f0f921\"]]}],\"heatmapgl\":[{\"type\":\"heatmapgl\",\"colorbar\":{\"outlinewidth\":0,\"ticks\":\"\"},\"colorscale\":[[0.0,\"#0d0887\"],[0.1111111111111111,\"#46039f\"],[0.2222222222222222,\"#7201a8\"],[0.3333333333333333,\"#9c179e\"],[0.4444444444444444,\"#bd3786\"],[0.5555555555555556,\"#d8576b\"],[0.6666666666666666,\"#ed7953\"],[0.7777777777777778,\"#fb9f3a\"],[0.8888888888888888,\"#fdca26\"],[1.0,\"#f0f921\"]]}],\"contourcarpet\":[{\"type\":\"contourcarpet\",\"colorbar\":{\"outlinewidth\":0,\"ticks\":\"\"}}],\"contour\":[{\"type\":\"contour\",\"colorbar\":{\"outlinewidth\":0,\"ticks\":\"\"},\"colorscale\":[[0.0,\"#0d0887\"],[0.1111111111111111,\"#46039f\"],[0.2222222222222222,\"#7201a8\"],[0.3333333333333333,\"#9c179e\"],[0.4444444444444444,\"#bd3786\"],[0.5555555555555556,\"#d8576b\"],[0.6666666666666666,\"#ed7953\"],[0.7777777777777778,\"#fb9f3a\"],[0.8888888888888888,\"#fdca26\"],[1.0,\"#f0f921\"]]}],\"surface\":[{\"type\":\"surface\",\"colorbar\":{\"outlinewidth\":0,\"ticks\":\"\"},\"colorscale\":[[0.0,\"#0d0887\"],[0.1111111111111111,\"#46039f\"],[0.2222222222222222,\"#7201a8\"],[0.3333333333333333,\"#9c179e\"],[0.4444444444444444,\"#bd3786\"],[0.5555555555555556,\"#d8576b\"],[0.6666666666666666,\"#ed7953\"],[0.7777777777777778,\"#fb9f3a\"],[0.8888888888888888,\"#fdca26\"],[1.0,\"#f0f921\"]]}],\"mesh3d\":[{\"type\":\"mesh3d\",\"colorbar\":{\"outlinewidth\":0,\"ticks\":\"\"}}],\"scatter\":[{\"fillpattern\":{\"fillmode\":\"overlay\",\"size\":10,\"solidity\":0.2},\"type\":\"scatter\"}],\"parcoords\":[{\"type\":\"parcoords\",\"line\":{\"colorbar\":{\"outlinewidth\":0,\"ticks\":\"\"}}}],\"scatterpolargl\":[{\"type\":\"scatterpolargl\",\"marker\":{\"colorbar\":{\"outlinewidth\":0,\"ticks\":\"\"}}}],\"bar\":[{\"error_x\":{\"color\":\"#2a3f5f\"},\"error_y\":{\"color\":\"#2a3f5f\"},\"marker\":{\"line\":{\"color\":\"#E5ECF6\",\"width\":0.5},\"pattern\":{\"fillmode\":\"overlay\",\"size\":10,\"solidity\":0.2}},\"type\":\"bar\"}],\"scattergeo\":[{\"type\":\"scattergeo\",\"marker\":{\"colorbar\":{\"outlinewidth\":0,\"ticks\":\"\"}}}],\"scatterpolar\":[{\"type\":\"scatterpolar\",\"marker\":{\"colorbar\":{\"outlinewidth\":0,\"ticks\":\"\"}}}],\"histogram\":[{\"marker\":{\"pattern\":{\"fillmode\":\"overlay\",\"size\":10,\"solidity\":0.2}},\"type\":\"histogram\"}],\"scattergl\":[{\"type\":\"scattergl\",\"marker\":{\"colorbar\":{\"outlinewidth\":0,\"ticks\":\"\"}}}],\"scatter3d\":[{\"type\":\"scatter3d\",\"line\":{\"colorbar\":{\"outlinewidth\":0,\"ticks\":\"\"}},\"marker\":{\"colorbar\":{\"outlinewidth\":0,\"ticks\":\"\"}}}],\"scattermapbox\":[{\"type\":\"scattermapbox\",\"marker\":{\"colorbar\":{\"outlinewidth\":0,\"ticks\":\"\"}}}],\"scatterternary\":[{\"type\":\"scatterternary\",\"marker\":{\"colorbar\":{\"outlinewidth\":0,\"ticks\":\"\"}}}],\"scattercarpet\":[{\"type\":\"scattercarpet\",\"marker\":{\"colorbar\":{\"outlinewidth\":0,\"ticks\":\"\"}}}],\"carpet\":[{\"aaxis\":{\"endlinecolor\":\"#2a3f5f\",\"gridcolor\":\"white\",\"linecolor\":\"white\",\"minorgridcolor\":\"white\",\"startlinecolor\":\"#2a3f5f\"},\"baxis\":{\"endlinecolor\":\"#2a3f5f\",\"gridcolor\":\"white\",\"linecolor\":\"white\",\"minorgridcolor\":\"white\",\"startlinecolor\":\"#2a3f5f\"},\"type\":\"carpet\"}],\"table\":[{\"cells\":{\"fill\":{\"color\":\"#EBF0F8\"},\"line\":{\"color\":\"white\"}},\"header\":{\"fill\":{\"color\":\"#C8D4E3\"},\"line\":{\"color\":\"white\"}},\"type\":\"table\"}],\"barpolar\":[{\"marker\":{\"line\":{\"color\":\"#E5ECF6\",\"width\":0.5},\"pattern\":{\"fillmode\":\"overlay\",\"size\":10,\"solidity\":0.2}},\"type\":\"barpolar\"}],\"pie\":[{\"automargin\":true,\"type\":\"pie\"}]},\"layout\":{\"autotypenumbers\":\"strict\",\"colorway\":[\"#636efa\",\"#EF553B\",\"#00cc96\",\"#ab63fa\",\"#FFA15A\",\"#19d3f3\",\"#FF6692\",\"#B6E880\",\"#FF97FF\",\"#FECB52\"],\"font\":{\"color\":\"#2a3f5f\"},\"hovermode\":\"closest\",\"hoverlabel\":{\"align\":\"left\"},\"paper_bgcolor\":\"white\",\"plot_bgcolor\":\"#E5ECF6\",\"polar\":{\"bgcolor\":\"#E5ECF6\",\"angularaxis\":{\"gridcolor\":\"white\",\"linecolor\":\"white\",\"ticks\":\"\"},\"radialaxis\":{\"gridcolor\":\"white\",\"linecolor\":\"white\",\"ticks\":\"\"}},\"ternary\":{\"bgcolor\":\"#E5ECF6\",\"aaxis\":{\"gridcolor\":\"white\",\"linecolor\":\"white\",\"ticks\":\"\"},\"baxis\":{\"gridcolor\":\"white\",\"linecolor\":\"white\",\"ticks\":\"\"},\"caxis\":{\"gridcolor\":\"white\",\"linecolor\":\"white\",\"ticks\":\"\"}},\"coloraxis\":{\"colorbar\":{\"outlinewidth\":0,\"ticks\":\"\"}},\"colorscale\":{\"sequential\":[[0.0,\"#0d0887\"],[0.1111111111111111,\"#46039f\"],[0.2222222222222222,\"#7201a8\"],[0.3333333333333333,\"#9c179e\"],[0.4444444444444444,\"#bd3786\"],[0.5555555555555556,\"#d8576b\"],[0.6666666666666666,\"#ed7953\"],[0.7777777777777778,\"#fb9f3a\"],[0.8888888888888888,\"#fdca26\"],[1.0,\"#f0f921\"]],\"sequentialminus\":[[0.0,\"#0d0887\"],[0.1111111111111111,\"#46039f\"],[0.2222222222222222,\"#7201a8\"],[0.3333333333333333,\"#9c179e\"],[0.4444444444444444,\"#bd3786\"],[0.5555555555555556,\"#d8576b\"],[0.6666666666666666,\"#ed7953\"],[0.7777777777777778,\"#fb9f3a\"],[0.8888888888888888,\"#fdca26\"],[1.0,\"#f0f921\"]],\"diverging\":[[0,\"#8e0152\"],[0.1,\"#c51b7d\"],[0.2,\"#de77ae\"],[0.3,\"#f1b6da\"],[0.4,\"#fde0ef\"],[0.5,\"#f7f7f7\"],[0.6,\"#e6f5d0\"],[0.7,\"#b8e186\"],[0.8,\"#7fbc41\"],[0.9,\"#4d9221\"],[1,\"#276419\"]]},\"xaxis\":{\"gridcolor\":\"white\",\"linecolor\":\"white\",\"ticks\":\"\",\"title\":{\"standoff\":15},\"zerolinecolor\":\"white\",\"automargin\":true,\"zerolinewidth\":2},\"yaxis\":{\"gridcolor\":\"white\",\"linecolor\":\"white\",\"ticks\":\"\",\"title\":{\"standoff\":15},\"zerolinecolor\":\"white\",\"automargin\":true,\"zerolinewidth\":2},\"scene\":{\"xaxis\":{\"backgroundcolor\":\"#E5ECF6\",\"gridcolor\":\"white\",\"linecolor\":\"white\",\"showbackground\":true,\"ticks\":\"\",\"zerolinecolor\":\"white\",\"gridwidth\":2},\"yaxis\":{\"backgroundcolor\":\"#E5ECF6\",\"gridcolor\":\"white\",\"linecolor\":\"white\",\"showbackground\":true,\"ticks\":\"\",\"zerolinecolor\":\"white\",\"gridwidth\":2},\"zaxis\":{\"backgroundcolor\":\"#E5ECF6\",\"gridcolor\":\"white\",\"linecolor\":\"white\",\"showbackground\":true,\"ticks\":\"\",\"zerolinecolor\":\"white\",\"gridwidth\":2}},\"shapedefaults\":{\"line\":{\"color\":\"#2a3f5f\"}},\"annotationdefaults\":{\"arrowcolor\":\"#2a3f5f\",\"arrowhead\":0,\"arrowwidth\":1},\"geo\":{\"bgcolor\":\"white\",\"landcolor\":\"#E5ECF6\",\"subunitcolor\":\"white\",\"showland\":true,\"showlakes\":true,\"lakecolor\":\"white\"},\"title\":{\"x\":0.05},\"mapbox\":{\"style\":\"light\"}}},\"xaxis\":{\"anchor\":\"y\",\"domain\":[0.0,1.0],\"title\":{\"text\":\"math score\"}},\"yaxis\":{\"anchor\":\"x\",\"domain\":[0.0,1.0],\"title\":{\"text\":\"writing score\"}},\"legend\":{\"tracegroupgap\":0},\"margin\":{\"t\":60}},                        {\"responsive\": true}                    ).then(function(){\n",
       "                            \n",
       "var gd = document.getElementById('4cbd6291-4985-4bda-80a5-b3733b6e9591');\n",
       "var x = new MutationObserver(function (mutations, observer) {{\n",
       "        var display = window.getComputedStyle(gd).display;\n",
       "        if (!display || display === 'none') {{\n",
       "            console.log([gd, 'removed!']);\n",
       "            Plotly.purge(gd);\n",
       "            observer.disconnect();\n",
       "        }}\n",
       "}});\n",
       "\n",
       "// Listen for the removal of the full notebook cells\n",
       "var notebookContainer = gd.closest('#notebook-container');\n",
       "if (notebookContainer) {{\n",
       "    x.observe(notebookContainer, {childList: true});\n",
       "}}\n",
       "\n",
       "// Listen for the clearing of the current output cell\n",
       "var outputEl = gd.closest('.output');\n",
       "if (outputEl) {{\n",
       "    x.observe(outputEl, {childList: true});\n",
       "}}\n",
       "\n",
       "                        })                };                });            </script>        </div>"
      ]
     },
     "metadata": {},
     "output_type": "display_data"
    },
    {
     "data": {
      "application/vnd.plotly.v1+json": {
       "config": {
        "plotlyServerURL": "https://plot.ly"
       },
       "data": [
        {
         "hovertemplate": "reading score=%{x}<br>writing score=%{y}<extra></extra>",
         "legendgroup": "",
         "marker": {
          "color": "#636efa",
          "symbol": "circle"
         },
         "mode": "markers",
         "name": "",
         "orientation": "v",
         "showlegend": false,
         "type": "scatter",
         "x": [
          72,
          90,
          95,
          57,
          78,
          83,
          95,
          43,
          64,
          60,
          54,
          52,
          81,
          72,
          53,
          75,
          89,
          32,
          42,
          58,
          69,
          75,
          54,
          73,
          71,
          74,
          54,
          69,
          70,
          70,
          74,
          65,
          72,
          42,
          87,
          81,
          81,
          64,
          90,
          56,
          61,
          73,
          58,
          65,
          56,
          54,
          65,
          71,
          74,
          84,
          55,
          69,
          44,
          78,
          84,
          41,
          85,
          55,
          59,
          17,
          74,
          39,
          61,
          80,
          58,
          64,
          37,
          72,
          58,
          64,
          63,
          55,
          51,
          57,
          49,
          41,
          26,
          78,
          74,
          68,
          49,
          45,
          47,
          64,
          39,
          80,
          83,
          71,
          70,
          86,
          72,
          34,
          79,
          45,
          86,
          81,
          66,
          72,
          67,
          67,
          67,
          74,
          91,
          44,
          86,
          67,
          100,
          63,
          76,
          64,
          89,
          55,
          53,
          58,
          100,
          77,
          85,
          82,
          63,
          69,
          92,
          89,
          93,
          57,
          80,
          95,
          68,
          77,
          82,
          49,
          84,
          37,
          74,
          81,
          79,
          55,
          54,
          55,
          66,
          61,
          72,
          62,
          55,
          43,
          73,
          39,
          84,
          68,
          75,
          100,
          67,
          67,
          70,
          49,
          67,
          89,
          74,
          60,
          86,
          62,
          78,
          88,
          53,
          53,
          92,
          100,
          51,
          76,
          83,
          75,
          73,
          88,
          86,
          67,
          51,
          91,
          54,
          77,
          70,
          100,
          68,
          64,
          50,
          69,
          52,
          67,
          76,
          66,
          52,
          88,
          65,
          83,
          64,
          62,
          84,
          55,
          69,
          56,
          53,
          79,
          84,
          81,
          77,
          69,
          41,
          71,
          62,
          80,
          81,
          61,
          79,
          28,
          62,
          51,
          91,
          83,
          86,
          42,
          77,
          56,
          68,
          85,
          65,
          80,
          66,
          56,
          72,
          50,
          72,
          95,
          64,
          43,
          86,
          87,
          82,
          75,
          66,
          60,
          52,
          80,
          68,
          83,
          52,
          51,
          74,
          76,
          76,
          70,
          64,
          60,
          49,
          83,
          70,
          80,
          52,
          73,
          73,
          77,
          75,
          81,
          79,
          79,
          50,
          93,
          73,
          42,
          75,
          72,
          92,
          76,
          63,
          49,
          53,
          70,
          85,
          78,
          92,
          63,
          86,
          56,
          52,
          48,
          79,
          78,
          46,
          82,
          82,
          89,
          75,
          76,
          70,
          73,
          60,
          73,
          77,
          62,
          41,
          74,
          46,
          87,
          78,
          54,
          84,
          76,
          75,
          67,
          87,
          52,
          71,
          57,
          76,
          60,
          61,
          67,
          64,
          66,
          82,
          72,
          71,
          65,
          79,
          86,
          81,
          53,
          46,
          90,
          61,
          23,
          75,
          55,
          60,
          37,
          56,
          78,
          93,
          68,
          70,
          51,
          38,
          55,
          61,
          73,
          76,
          72,
          73,
          80,
          61,
          94,
          74,
          74,
          65,
          57,
          78,
          58,
          71,
          72,
          61,
          66,
          62,
          90,
          62,
          84,
          58,
          34,
          60,
          58,
          58,
          66,
          64,
          84,
          77,
          73,
          74,
          97,
          70,
          43,
          90,
          95,
          83,
          64,
          86,
          100,
          81,
          49,
          43,
          76,
          73,
          78,
          64,
          70,
          67,
          68,
          67,
          54,
          74,
          45,
          67,
          89,
          63,
          59,
          54,
          43,
          65,
          99,
          59,
          73,
          65,
          80,
          57,
          84,
          71,
          83,
          66,
          67,
          72,
          73,
          74,
          73,
          59,
          56,
          93,
          58,
          58,
          85,
          39,
          67,
          83,
          71,
          59,
          63,
          66,
          72,
          56,
          59,
          66,
          48,
          68,
          66,
          56,
          88,
          81,
          81,
          73,
          83,
          82,
          74,
          66,
          81,
          46,
          73,
          85,
          92,
          77,
          58,
          61,
          56,
          89,
          54,
          100,
          65,
          58,
          54,
          70,
          90,
          58,
          87,
          31,
          67,
          88,
          74,
          85,
          69,
          86,
          67,
          90,
          76,
          62,
          68,
          64,
          71,
          71,
          59,
          68,
          52,
          52,
          74,
          47,
          75,
          53,
          82,
          85,
          64,
          83,
          88,
          64,
          64,
          48,
          78,
          69,
          71,
          79,
          87,
          61,
          89,
          59,
          82,
          70,
          59,
          78,
          92,
          71,
          50,
          49,
          61,
          97,
          87,
          89,
          74,
          78,
          78,
          49,
          86,
          58,
          59,
          52,
          60,
          61,
          53,
          41,
          74,
          67,
          54,
          61,
          88,
          69,
          83,
          60,
          66,
          66,
          92,
          69,
          82,
          77,
          95,
          63,
          83,
          100,
          67,
          67,
          72,
          76,
          90,
          48,
          62,
          45,
          39,
          72,
          67,
          70,
          66,
          75,
          74,
          90,
          80,
          51,
          43,
          100,
          71,
          48,
          68,
          75,
          96,
          62,
          66,
          81,
          55,
          51,
          91,
          56,
          61,
          97,
          79,
          73,
          75,
          77,
          76,
          73,
          63,
          64,
          66,
          57,
          62,
          68,
          76,
          100,
          79,
          24,
          54,
          77,
          82,
          60,
          29,
          78,
          57,
          89,
          72,
          84,
          58,
          64,
          63,
          60,
          59,
          90,
          77,
          93,
          68,
          45,
          78,
          81,
          73,
          61,
          63,
          51,
          96,
          58,
          97,
          70,
          48,
          57,
          51,
          64,
          60,
          74,
          88,
          84,
          74,
          80,
          92,
          76,
          74,
          52,
          88,
          81,
          79,
          65,
          81,
          70,
          62,
          53,
          79,
          56,
          80,
          86,
          70,
          79,
          67,
          67,
          66,
          60,
          87,
          77,
          66,
          71,
          69,
          63,
          60,
          73,
          85,
          74,
          72,
          76,
          57,
          78,
          84,
          77,
          64,
          78,
          82,
          75,
          61,
          72,
          68,
          55,
          40,
          66,
          99,
          75,
          78,
          58,
          90,
          53,
          76,
          74,
          77,
          63,
          89,
          82,
          72,
          78,
          66,
          81,
          67,
          84,
          64,
          63,
          72,
          34,
          59,
          87,
          61,
          84,
          85,
          100,
          81,
          70,
          94,
          78,
          96,
          76,
          73,
          72,
          59,
          90,
          48,
          43,
          74,
          75,
          51,
          92,
          39,
          77,
          46,
          89,
          47,
          58,
          57,
          79,
          66,
          71,
          60,
          73,
          57,
          84,
          73,
          55,
          79,
          75,
          64,
          60,
          84,
          69,
          72,
          77,
          90,
          55,
          95,
          58,
          68,
          59,
          77,
          72,
          58,
          81,
          62,
          63,
          72,
          75,
          62,
          71,
          60,
          48,
          73,
          67,
          78,
          65,
          58,
          72,
          44,
          79,
          85,
          56,
          90,
          85,
          59,
          81,
          51,
          79,
          38,
          65,
          65,
          62,
          66,
          74,
          84,
          52,
          68,
          70,
          84,
          60,
          55,
          73,
          80,
          94,
          85,
          76,
          81,
          74,
          45,
          75,
          54,
          31,
          47,
          64,
          84,
          80,
          86,
          59,
          70,
          72,
          91,
          90,
          90,
          52,
          87,
          58,
          67,
          68,
          69,
          86,
          54,
          60,
          86,
          60,
          82,
          50,
          64,
          64,
          82,
          57,
          77,
          52,
          58,
          44,
          77,
          65,
          85,
          85,
          54,
          72,
          75,
          67,
          68,
          85,
          67,
          64,
          97,
          68,
          79,
          49,
          73,
          62,
          86,
          42,
          71,
          93,
          82,
          53,
          42,
          74,
          51,
          58,
          72,
          84,
          90,
          62,
          64,
          82,
          61,
          72,
          76,
          64,
          70,
          73,
          46,
          51,
          76,
          100,
          72,
          65,
          51,
          85,
          92,
          67,
          74,
          62,
          34,
          29,
          78,
          54,
          78,
          84,
          78,
          48,
          100,
          84,
          77,
          48,
          84,
          75,
          64,
          42,
          84,
          61,
          62,
          61,
          70,
          100,
          61,
          77,
          96,
          70,
          53,
          66,
          65,
          70,
          64,
          56,
          61,
          43,
          56,
          74,
          57,
          71,
          75,
          87,
          63,
          57,
          58,
          81,
          68,
          66,
          91,
          66,
          62,
          68,
          61,
          82,
          58,
          50,
          75,
          73,
          77,
          74,
          52,
          69,
          57,
          87,
          100,
          63,
          81,
          58,
          54,
          100,
          76,
          57,
          70,
          68,
          63,
          76,
          84,
          100,
          72,
          50,
          65,
          63,
          82,
          62,
          65,
          41,
          95,
          24,
          78,
          85,
          87,
          75,
          51,
          59,
          75,
          45,
          86,
          81,
          82,
          76,
          72,
          63,
          99,
          55,
          71,
          78,
          86
         ],
         "xaxis": "x",
         "y": [
          74,
          88,
          93,
          44,
          75,
          78,
          92,
          39,
          67,
          50,
          52,
          43,
          73,
          70,
          58,
          78,
          86,
          28,
          46,
          61,
          63,
          70,
          53,
          73,
          80,
          72,
          55,
          75,
          65,
          75,
          74,
          61,
          65,
          38,
          82,
          79,
          83,
          59,
          88,
          57,
          54,
          68,
          65,
          66,
          54,
          57,
          62,
          76,
          76,
          82,
          48,
          68,
          42,
          75,
          87,
          43,
          86,
          49,
          58,
          10,
          72,
          34,
          55,
          71,
          59,
          61,
          37,
          74,
          56,
          57,
          73,
          63,
          48,
          56,
          41,
          38,
          22,
          81,
          72,
          68,
          50,
          45,
          54,
          63,
          34,
          82,
          88,
          74,
          67,
          82,
          74,
          36,
          71,
          50,
          92,
          82,
          62,
          70,
          62,
          62,
          67,
          74,
          89,
          47,
          90,
          72,
          100,
          64,
          70,
          72,
          98,
          49,
          47,
          54,
          100,
          74,
          82,
          79,
          61,
          65,
          89,
          92,
          93,
          56,
          73,
          86,
          67,
          74,
          74,
          51,
          82,
          40,
          70,
          84,
          75,
          48,
          41,
          56,
          67,
          69,
          71,
          64,
          54,
          47,
          78,
          33,
          75,
          66,
          81,
          93,
          69,
          68,
          66,
          47,
          61,
          88,
          78,
          60,
          87,
          64,
          74,
          85,
          52,
          49,
          91,
          100,
          51,
          78,
          78,
          70,
          74,
          78,
          81,
          70,
          54,
          87,
          58,
          77,
          62,
          100,
          75,
          66,
          47,
          70,
          49,
          65,
          65,
          68,
          45,
          87,
          69,
          79,
          66,
          62,
          85,
          52,
          65,
          51,
          55,
          76,
          86,
          77,
          69,
          68,
          42,
          78,
          62,
          76,
          76,
          66,
          79,
          27,
          60,
          56,
          81,
          75,
          88,
          39,
          70,
          56,
          74,
          73,
          62,
          75,
          73,
          54,
          71,
          54,
          64,
          94,
          66,
          42,
          83,
          78,
          84,
          77,
          67,
          74,
          51,
          80,
          66,
          83,
          55,
          43,
          69,
          71,
          74,
          68,
          62,
          53,
          49,
          83,
          70,
          72,
          52,
          70,
          68,
          77,
          78,
          81,
          77,
          78,
          51,
          90,
          68,
          41,
          81,
          77,
          95,
          70,
          61,
          42,
          58,
          71,
          76,
          73,
          93,
          75,
          80,
          57,
          42,
          46,
          84,
          78,
          46,
          82,
          88,
          82,
          76,
          77,
          68,
          70,
          57,
          75,
          80,
          60,
          43,
          68,
          50,
          75,
          81,
          52,
          81,
          64,
          83,
          69,
          81,
          44,
          67,
          52,
          80,
          57,
          68,
          69,
          75,
          65,
          91,
          78,
          69,
          63,
          84,
          79,
          80,
          53,
          43,
          94,
          62,
          19,
          77,
          51,
          61,
          35,
          53,
          81,
          95,
          66,
          69,
          43,
          27,
          60,
          52,
          63,
          74,
          67,
          67,
          75,
          57,
          95,
          66,
          76,
          69,
          52,
          80,
          57,
          70,
          70,
          61,
          69,
          61,
          89,
          59,
          78,
          58,
          32,
          58,
          60,
          53,
          61,
          58,
          85,
          71,
          70,
          72,
          96,
          73,
          41,
          82,
          100,
          77,
          62,
          83,
          95,
          71,
          45,
          43,
          75,
          70,
          67,
          64,
          75,
          59,
          77,
          67,
          56,
          77,
          41,
          63,
          95,
          57,
          54,
          67,
          43,
          55,
          100,
          62,
          68,
          63,
          77,
          56,
          85,
          74,
          78,
          60,
          67,
          79,
          69,
          68,
          67,
          62,
          54,
          93,
          64,
          67,
          80,
          34,
          62,
          86,
          65,
          53,
          54,
          59,
          70,
          55,
          50,
          66,
          53,
          64,
          73,
          51,
          82,
          79,
          80,
          69,
          76,
          73,
          77,
          60,
          80,
          42,
          72,
          85,
          97,
          74,
          49,
          62,
          47,
          89,
          48,
          100,
          68,
          55,
          45,
          76,
          91,
          62,
          91,
          38,
          65,
          85,
          76,
          90,
          74,
          84,
          61,
          91,
          83,
          66,
          72,
          70,
          67,
          68,
          56,
          61,
          46,
          54,
          71,
          56,
          74,
          57,
          82,
          76,
          70,
          90,
          90,
          68,
          66,
          52,
          76,
          68,
          72,
          82,
          92,
          54,
          92,
          54,
          80,
          66,
          54,
          77,
          87,
          73,
          43,
          52,
          62,
          94,
          85,
          84,
          73,
          78,
          79,
          52,
          84,
          57,
          50,
          49,
          59,
          60,
          43,
          47,
          70,
          73,
          53,
          58,
          94,
          68,
          83,
          58,
          62,
          71,
          86,
          68,
          80,
          79,
          89,
          66,
          80,
          97,
          64,
          64,
          69,
          65,
          88,
          50,
          64,
          40,
          33,
          79,
          66,
          70,
          62,
          79,
          74,
          92,
          80,
          46,
          45,
          100,
          78,
          47,
          67,
          70,
          92,
          56,
          64,
          71,
          53,
          52,
          89,
          58,
          68,
          96,
          80,
          78,
          80,
          77,
          76,
          73,
          62,
          65,
          65,
          54,
          50,
          64,
          73,
          99,
          72,
          15,
          48,
          73,
          81,
          63,
          30,
          80,
          51,
          90,
          62,
          82,
          54,
          62,
          65,
          63,
          66,
          91,
          74,
          93,
          72,
          38,
          83,
          84,
          68,
          54,
          56,
          52,
          86,
          62,
          99,
          63,
          46,
          46,
          55,
          70,
          65,
          81,
          85,
          80,
          64,
          81,
          88,
          74,
          73,
          51,
          90,
          79,
          80,
          60,
          81,
          65,
          68,
          55,
          81,
          53,
          76,
          98,
          74,
          79,
          67,
          64,
          61,
          58,
          85,
          73,
          63,
          69,
          67,
          63,
          60,
          71,
          87,
          61,
          77,
          68,
          50,
          76,
          84,
          78,
          66,
          76,
          76,
          78,
          60,
          74,
          60,
          54,
          44,
          68,
          100,
          68,
          73,
          44,
          83,
          53,
          78,
          81,
          73,
          56,
          86,
          90,
          70,
          79,
          59,
          82,
          72,
          87,
          67,
          64,
          65,
          36,
          52,
          79,
          58,
          90,
          85,
          99,
          84,
          74,
          87,
          72,
          99,
          74,
          80,
          70,
          59,
          88,
          42,
          41,
          71,
          77,
          57,
          84,
          37,
          80,
          43,
          94,
          44,
          57,
          59,
          84,
          73,
          73,
          55,
          72,
          56,
          82,
          72,
          47,
          74,
          71,
          68,
          59,
          86,
          68,
          65,
          75,
          85,
          53,
          92,
          52,
          72,
          65,
          77,
          64,
          54,
          86,
          63,
          59,
          72,
          77,
          60,
          75,
          57,
          49,
          74,
          72,
          79,
          60,
          55,
          70,
          43,
          82,
          82,
          57,
          84,
          82,
          62,
          79,
          44,
          77,
          32,
          61,
          61,
          60,
          70,
          69,
          77,
          51,
          73,
          70,
          81,
          54,
          57,
          68,
          73,
          95,
          87,
          78,
          74,
          75,
          40,
          69,
          51,
          36,
          49,
          67,
          76,
          83,
          87,
          64,
          76,
          68,
          88,
          92,
          93,
          51,
          82,
          52,
          58,
          70,
          76,
          81,
          53,
          57,
          89,
          58,
          89,
          45,
          74,
          57,
          79,
          53,
          73,
          46,
          51,
          36,
          76,
          64,
          84,
          85,
          50,
          68,
          69,
          67,
          63,
          93,
          61,
          55,
          96,
          65,
          81,
          46,
          72,
          53,
          87,
          38,
          80,
          91,
          88,
          52,
          41,
          72,
          51,
          47,
          76,
          78,
          82,
          61,
          66,
          84,
          54,
          80,
          74,
          66,
          70,
          71,
          44,
          54,
          80,
          95,
          59,
          74,
          48,
          91,
          85,
          73,
          75,
          69,
          38,
          27,
          79,
          63,
          82,
          89,
          74,
          41,
          100,
          84,
          77,
          51,
          91,
          72,
          70,
          48,
          82,
          66,
          66,
          55,
          66,
          100,
          52,
          80,
          91,
          67,
          46,
          66,
          65,
          69,
          60,
          52,
          71,
          44,
          51,
          70,
          62,
          73,
          74,
          90,
          58,
          53,
          57,
          85,
          69,
          72,
          96,
          64,
          61,
          61,
          58,
          80,
          60,
          52,
          73,
          71,
          83,
          72,
          54,
          69,
          62,
          81,
          100,
          59,
          71,
          64,
          53,
          100,
          75,
          58,
          72,
          64,
          60,
          67,
          80,
          100,
          69,
          60,
          61,
          67,
          77,
          60,
          58,
          48,
          94,
          23,
          78,
          86,
          91,
          82,
          54,
          51,
          76,
          45,
          83,
          75,
          78,
          76,
          74,
          62,
          95,
          55,
          65,
          77,
          86
         ],
         "yaxis": "y"
        },
        {
         "mode": "lines",
         "name": "Linear Regression",
         "type": "scatter",
         "x": [
          72,
          90,
          95,
          57,
          78,
          83,
          95,
          43,
          64,
          60,
          54,
          52,
          81,
          72,
          53,
          75,
          89,
          32,
          42,
          58,
          69,
          75,
          54,
          73,
          71,
          74,
          54,
          69,
          70,
          70,
          74,
          65,
          72,
          42,
          87,
          81,
          81,
          64,
          90,
          56,
          61,
          73,
          58,
          65,
          56,
          54,
          65,
          71,
          74,
          84,
          55,
          69,
          44,
          78,
          84,
          41,
          85,
          55,
          59,
          17,
          74,
          39,
          61,
          80,
          58,
          64,
          37,
          72,
          58,
          64,
          63,
          55,
          51,
          57,
          49,
          41,
          26,
          78,
          74,
          68,
          49,
          45,
          47,
          64,
          39,
          80,
          83,
          71,
          70,
          86,
          72,
          34,
          79,
          45,
          86,
          81,
          66,
          72,
          67,
          67,
          67,
          74,
          91,
          44,
          86,
          67,
          100,
          63,
          76,
          64,
          89,
          55,
          53,
          58,
          100,
          77,
          85,
          82,
          63,
          69,
          92,
          89,
          93,
          57,
          80,
          95,
          68,
          77,
          82,
          49,
          84,
          37,
          74,
          81,
          79,
          55,
          54,
          55,
          66,
          61,
          72,
          62,
          55,
          43,
          73,
          39,
          84,
          68,
          75,
          100,
          67,
          67,
          70,
          49,
          67,
          89,
          74,
          60,
          86,
          62,
          78,
          88,
          53,
          53,
          92,
          100,
          51,
          76,
          83,
          75,
          73,
          88,
          86,
          67,
          51,
          91,
          54,
          77,
          70,
          100,
          68,
          64,
          50,
          69,
          52,
          67,
          76,
          66,
          52,
          88,
          65,
          83,
          64,
          62,
          84,
          55,
          69,
          56,
          53,
          79,
          84,
          81,
          77,
          69,
          41,
          71,
          62,
          80,
          81,
          61,
          79,
          28,
          62,
          51,
          91,
          83,
          86,
          42,
          77,
          56,
          68,
          85,
          65,
          80,
          66,
          56,
          72,
          50,
          72,
          95,
          64,
          43,
          86,
          87,
          82,
          75,
          66,
          60,
          52,
          80,
          68,
          83,
          52,
          51,
          74,
          76,
          76,
          70,
          64,
          60,
          49,
          83,
          70,
          80,
          52,
          73,
          73,
          77,
          75,
          81,
          79,
          79,
          50,
          93,
          73,
          42,
          75,
          72,
          92,
          76,
          63,
          49,
          53,
          70,
          85,
          78,
          92,
          63,
          86,
          56,
          52,
          48,
          79,
          78,
          46,
          82,
          82,
          89,
          75,
          76,
          70,
          73,
          60,
          73,
          77,
          62,
          41,
          74,
          46,
          87,
          78,
          54,
          84,
          76,
          75,
          67,
          87,
          52,
          71,
          57,
          76,
          60,
          61,
          67,
          64,
          66,
          82,
          72,
          71,
          65,
          79,
          86,
          81,
          53,
          46,
          90,
          61,
          23,
          75,
          55,
          60,
          37,
          56,
          78,
          93,
          68,
          70,
          51,
          38,
          55,
          61,
          73,
          76,
          72,
          73,
          80,
          61,
          94,
          74,
          74,
          65,
          57,
          78,
          58,
          71,
          72,
          61,
          66,
          62,
          90,
          62,
          84,
          58,
          34,
          60,
          58,
          58,
          66,
          64,
          84,
          77,
          73,
          74,
          97,
          70,
          43,
          90,
          95,
          83,
          64,
          86,
          100,
          81,
          49,
          43,
          76,
          73,
          78,
          64,
          70,
          67,
          68,
          67,
          54,
          74,
          45,
          67,
          89,
          63,
          59,
          54,
          43,
          65,
          99,
          59,
          73,
          65,
          80,
          57,
          84,
          71,
          83,
          66,
          67,
          72,
          73,
          74,
          73,
          59,
          56,
          93,
          58,
          58,
          85,
          39,
          67,
          83,
          71,
          59,
          63,
          66,
          72,
          56,
          59,
          66,
          48,
          68,
          66,
          56,
          88,
          81,
          81,
          73,
          83,
          82,
          74,
          66,
          81,
          46,
          73,
          85,
          92,
          77,
          58,
          61,
          56,
          89,
          54,
          100,
          65,
          58,
          54,
          70,
          90,
          58,
          87,
          31,
          67,
          88,
          74,
          85,
          69,
          86,
          67,
          90,
          76,
          62,
          68,
          64,
          71,
          71,
          59,
          68,
          52,
          52,
          74,
          47,
          75,
          53,
          82,
          85,
          64,
          83,
          88,
          64,
          64,
          48,
          78,
          69,
          71,
          79,
          87,
          61,
          89,
          59,
          82,
          70,
          59,
          78,
          92,
          71,
          50,
          49,
          61,
          97,
          87,
          89,
          74,
          78,
          78,
          49,
          86,
          58,
          59,
          52,
          60,
          61,
          53,
          41,
          74,
          67,
          54,
          61,
          88,
          69,
          83,
          60,
          66,
          66,
          92,
          69,
          82,
          77,
          95,
          63,
          83,
          100,
          67,
          67,
          72,
          76,
          90,
          48,
          62,
          45,
          39,
          72,
          67,
          70,
          66,
          75,
          74,
          90,
          80,
          51,
          43,
          100,
          71,
          48,
          68,
          75,
          96,
          62,
          66,
          81,
          55,
          51,
          91,
          56,
          61,
          97,
          79,
          73,
          75,
          77,
          76,
          73,
          63,
          64,
          66,
          57,
          62,
          68,
          76,
          100,
          79,
          24,
          54,
          77,
          82,
          60,
          29,
          78,
          57,
          89,
          72,
          84,
          58,
          64,
          63,
          60,
          59,
          90,
          77,
          93,
          68,
          45,
          78,
          81,
          73,
          61,
          63,
          51,
          96,
          58,
          97,
          70,
          48,
          57,
          51,
          64,
          60,
          74,
          88,
          84,
          74,
          80,
          92,
          76,
          74,
          52,
          88,
          81,
          79,
          65,
          81,
          70,
          62,
          53,
          79,
          56,
          80,
          86,
          70,
          79,
          67,
          67,
          66,
          60,
          87,
          77,
          66,
          71,
          69,
          63,
          60,
          73,
          85,
          74,
          72,
          76,
          57,
          78,
          84,
          77,
          64,
          78,
          82,
          75,
          61,
          72,
          68,
          55,
          40,
          66,
          99,
          75,
          78,
          58,
          90,
          53,
          76,
          74,
          77,
          63,
          89,
          82,
          72,
          78,
          66,
          81,
          67,
          84,
          64,
          63,
          72,
          34,
          59,
          87,
          61,
          84,
          85,
          100,
          81,
          70,
          94,
          78,
          96,
          76,
          73,
          72,
          59,
          90,
          48,
          43,
          74,
          75,
          51,
          92,
          39,
          77,
          46,
          89,
          47,
          58,
          57,
          79,
          66,
          71,
          60,
          73,
          57,
          84,
          73,
          55,
          79,
          75,
          64,
          60,
          84,
          69,
          72,
          77,
          90,
          55,
          95,
          58,
          68,
          59,
          77,
          72,
          58,
          81,
          62,
          63,
          72,
          75,
          62,
          71,
          60,
          48,
          73,
          67,
          78,
          65,
          58,
          72,
          44,
          79,
          85,
          56,
          90,
          85,
          59,
          81,
          51,
          79,
          38,
          65,
          65,
          62,
          66,
          74,
          84,
          52,
          68,
          70,
          84,
          60,
          55,
          73,
          80,
          94,
          85,
          76,
          81,
          74,
          45,
          75,
          54,
          31,
          47,
          64,
          84,
          80,
          86,
          59,
          70,
          72,
          91,
          90,
          90,
          52,
          87,
          58,
          67,
          68,
          69,
          86,
          54,
          60,
          86,
          60,
          82,
          50,
          64,
          64,
          82,
          57,
          77,
          52,
          58,
          44,
          77,
          65,
          85,
          85,
          54,
          72,
          75,
          67,
          68,
          85,
          67,
          64,
          97,
          68,
          79,
          49,
          73,
          62,
          86,
          42,
          71,
          93,
          82,
          53,
          42,
          74,
          51,
          58,
          72,
          84,
          90,
          62,
          64,
          82,
          61,
          72,
          76,
          64,
          70,
          73,
          46,
          51,
          76,
          100,
          72,
          65,
          51,
          85,
          92,
          67,
          74,
          62,
          34,
          29,
          78,
          54,
          78,
          84,
          78,
          48,
          100,
          84,
          77,
          48,
          84,
          75,
          64,
          42,
          84,
          61,
          62,
          61,
          70,
          100,
          61,
          77,
          96,
          70,
          53,
          66,
          65,
          70,
          64,
          56,
          61,
          43,
          56,
          74,
          57,
          71,
          75,
          87,
          63,
          57,
          58,
          81,
          68,
          66,
          91,
          66,
          62,
          68,
          61,
          82,
          58,
          50,
          75,
          73,
          77,
          74,
          52,
          69,
          57,
          87,
          100,
          63,
          81,
          58,
          54,
          100,
          76,
          57,
          70,
          68,
          63,
          76,
          84,
          100,
          72,
          50,
          65,
          63,
          82,
          62,
          65,
          41,
          95,
          24,
          78,
          85,
          87,
          75,
          51,
          59,
          75,
          45,
          86,
          81,
          82,
          76,
          72,
          63,
          99,
          55,
          71,
          78,
          86
         ],
         "y": [
          71.10182719454043,
          87.75954668898311,
          93.85051034539252,
          55.376652350095746,
          76.98962616524723,
          81.33741563101528,
          93.7164200230355,
          41.79489346119643,
          63.07264147045534,
          57.58305506248549,
          53.30433996006303,
          50.224320950185536,
          79.06193855527995,
          71.50409816161152,
          51.8313756163028,
          73.71050087400127,
          88.09680169704275,
          30.01726631761577,
          41.26056137393539,
          56.782571532677466,
          67.88974706447299,
          73.4423202292872,
          52.365707703563835,
          71.83729476533702,
          70.29931446256535,
          73.0420784643832,
          54.041836733026685,
          67.9567922256515,
          69.09453076351916,
          68.55816947409106,
          72.77389781966914,
          63.94219936360895,
          70.02910461568422,
          40.858290406864306,
          86.82700203898513,
          80.13466113413617,
          79.66534500588658,
          62.13400921395615,
          88.1618176560542,
          55.11050090754876,
          59.65942585685235,
          71.09979799237337,
          56.71552637149895,
          63.6740187188949,
          54.64118477929917,
          53.77365608831263,
          63.40583807418085,
          69.76295317313723,
          71.96935588552698,
          83.01151545831105,
          53.90571720850259,
          68.62724383743664,
          43.60308361084923,
          77.7941680993894,
          82.2740186853474,
          39.45237122428259,
          83.94811851264318,
          53.83867204732407,
          57.98735523172365,
          14.761407601420677,
          73.44434943145428,
          37.98143608268942,
          60.12874198510195,
          78.39351614566188,
          57.117797338570035,
          63.27377695399089,
          36.51050094109626,
          70.29728526039827,
          57.25188766092707,
          61.3965124409925,
          61.73376744905214,
          54.57616882028772,
          49.354763057031924,
          56.31528460659494,
          48.01791823779579,
          40.18986799724624,
          25.202189925765197,
          77.2578068099613,
          72.23753653024103,
          66.68496336542681,
          47.883827915438765,
          44.2715060204673,
          46.21175729031006,
          63.60900275988345,
          38.182571566224965,
          78.66169679037594,
          81.67264143690785,
          70.0981789790298,
          68.289988829377,
          84.28131511636867,
          70.63251106629085,
          32.49387887688664,
          77.59100341368679,
          43.86923505339622,
          84.68358608343976,
          79.93352565060063,
          65.0128927402981,
          70.49842074393382,
          65.48017966638064,
          65.94949579463022,
          66.88812805112941,
          72.70685265849063,
          89.76887232217146,
          44.07239973909883,
          85.95744414583152,
          65.48017966638064,
          98.33239013351759,
          62.270128738480246,
          73.50733618829865,
          63.47491243752643,
          87.3593049240791,
          54.50912365910921,
          52.09955626101685,
          56.58143604914193,
          99.13693206765976,
          76.58938440034322,
          83.47880238439357,
          80.87012870493275,
          61.26445132080254,
          67.15225029150933,
          90.3032044094325,
          88.29793718057829,
          91.84321391437125,
          56.44937492895197,
          79.33214840216108,
          93.64937486185697,
          67.35541497721195,
          75.31552633795145,
          81.1383093496468,
          48.15200856015282,
          83.48083158656065,
          37.04686223052437,
          73.98071072088239,
          79.73239016706509,
          77.79213889722233,
          54.24094301439516,
          52.83502383181344,
          55.04548494853732,
          64.61062177322702,
          60.732148435708574,
          71.3700078392545,
          60.864209555898526,
          53.168220435538935,
          42.934661201231165,
          73.11115282772879,
          36.841668342654685,
          83.41378642538214,
          67.42246013839046,
          73.64345571282276,
          99.20397722883827,
          65.74836031109469,
          66.75403772877239,
          68.35703399055551,
          48.35314404368836,
          65.74836031109469,
          86.88998879582951,
          72.57276233613361,
          59.0580486084128,
          83.47677318222651,
          61.33352568414813,
          77.39189713231832,
          86.28861154738995,
          51.76433045512428,
          51.965465938659825,
          90.43729473178952,
          98.93579658412422,
          50.15930499117409,
          73.90960715536974,
          81.13628014747974,
          73.57641055164424,
          72.03843024887256,
          87.56246960978172,
          84.68358608343976,
          65.8154054722732,
          49.48885337938896,
          89.5006916774574,
          52.49979802592087,
          75.71779730502254,
          67.88771786230592,
          99.00284174530273,
          66.68496336542681,
          61.8658285692421,
          49.02156645330643,
          67.82270190329447,
          50.559546756078106,
          65.94949579463022,
          75.38460070129705,
          64.81175725676256,
          50.760682239613644,
          86.42270186974697,
          64.1433348471445,
          81.67264143690785,
          62.93855114809831,
          62.07102245711178,
          82.13992836299037,
          54.442078497930694,
          67.4204309362234,
          54.976410585191736,
          51.49614981041023,
          78.06031954193638,
          82.00583804063335,
          79.06193855527995,
          75.58370698266552,
          67.28634061386636,
          41.19554541492394,
          70.29931446256535,
          62.40624826300434,
          79.19805807980404,
          79.66534500588658,
          59.86056134038789,
          78.1944098642934,
          27.410621840322012,
          59.7244418158638,
          50.62862111942369,
          89.90296264452849,
          82.20900272633595,
          84.95176672815381,
          40.456019439793224,
          75.38257149912997,
          55.37868155226282,
          66.28269239835572,
          84.28334431853574,
          63.40583807418085,
          79.53328388569662,
          64.14130564497742,
          54.3059589734066,
          71.10182719454043,
          49.49088258155602,
          70.83364654982638,
          93.7164200230355,
          63.8771834045975,
          42.19716442826751,
          83.8790441492976,
          86.49177623309257,
          81.20535451082532,
          74.44799764696492,
          64.87880241794107,
          59.326229253126854,
          51.162953206684726,
          79.3991935633396,
          67.42246013839046,
          81.9408220816219,
          51.29704352904176,
          50.56157595824517,
          73.17616878674022,
          75.71982650718961,
          75.98800715190366,
          68.289988829377,
          63.13968663163385,
          59.594409897840904,
          47.883827915438765,
          81.33741563101528,
          68.42407915173403,
          79.13101291862553,
          51.162953206684726,
          71.36797863708742,
          71.50206895944446,
          76.18711343327213,
          73.77754603517978,
          79.06193855527995,
          77.12168728543719,
          78.12736470311489,
          48.619295486235345,
          92.5807106873349,
          72.30661089358662,
          42.132148469256066,
          73.30822990693018,
          70.9006917110049,
          90.90661086003912,
          74.78119425069042,
          62.47126422201579,
          48.62132468840242,
          51.630240132767256,
          68.7593049576266,
          84.35038947971427,
          77.45894229349683,
          90.70547537650359,
          61.80081261023065,
          83.74495382694056,
          56.183223486404984,
          51.095908045506214,
          46.813134538749615,
          77.72509373604382,
          76.58735519817616,
          44.40356714065726,
          81.07126418846829,
          82.14398676732452,
          86.68885331229396,
          74.98435893639302,
          75.1834652177615,
          69.49680173059025,
          72.97706250537175,
          59.25918409194834,
          71.56911412062297,
          76.18711343327213,
          61.40057084532664,
          40.323958319603264,
          72.90798814202617,
          44.6047026241928,
          86.35768591073553,
          77.32485197113981,
          53.170249637706,
          82.00583804063335,
          75.38460070129705,
          74.04572667989383,
          66.21767643934429,
          86.96109236134215,
          50.96181772314919,
          68.89136607781656,
          55.51074267245278,
          74.91528457304744,
          59.46031957548388,
          60.463967790994516,
          66.15063127816576,
          62.737415664562775,
          65.41516370736919,
          80.80308354375424,
          71.83932396750409,
          69.5618176896017,
          63.47288323535936,
          77.32282276897273,
          84.4154054387257,
          79.46420952235103,
          51.3620594880532,
          44.67174778537131,
          88.63113378430378,
          60.061696823923434,
          22.258290440411802,
          74.58208796932195,
          53.10117527436042,
          59.79554538137645,
          36.644591263453286,
          55.44572671344133,
          77.92825842174642,
          91.50798810847867,
          66.6179182042483,
          69.49680173059025,
          49.89112434646004,
          36.03915561067959,
          52.69890430728934,
          59.86056134038789,
          71.3009334759089,
          74.6471039283334,
          70.76660138864787,
          72.50774637712216,
          78.59465162919743,
          60.12874198510195,
          92.04232019573972,
          73.17616878674022,
          73.98071072088239,
          63.2047025906453,
          56.65051041248751,
          76.11803906992655,
          56.24621024324936,
          69.29363704488763,
          70.36433042157678,
          60.19578714628046,
          63.47085403319228,
          60.864209555898526,
          88.49704346194676,
          60.79716439472001,
          83.21265094184659,
          56.64848121032044,
          32.49387887688664,
          58.991003447234284,
          56.447345726784896,
          57.788248950355175,
          64.74471209558405,
          61.73173824688507,
          82.40810900770443,
          76.58938440034322,
          70.22821089705269,
          73.10912362556171,
          95.18735516462866,
          68.35703399055551,
          42.19716442826751,
          88.49704346194676,
          93.51528453949994,
          81.33741563101528,
          63.20673179281238,
          84.75063124461828,
          98.33239013351759,
          80.00057081177914,
          47.28042146483214,
          41.6608031388394,
          74.51301360597637,
          71.50206895944446,
          75.71576810285548,
          62.93855114809831,
          69.29566624705471,
          66.48585708405834,
          67.69064078310451,
          66.68699256759388,
          53.23729479888452,
          72.5057171749551,
          44.20446085928879,
          64.94381837695252,
          87.89566621350721,
          62.80649002790836,
          58.12144555408067,
          53.371385121241545,
          42.66648055651711,
          63.00356710710976,
          97.46283224036398,
          57.71917458700959,
          71.43502379826595,
          64.07628968596597,
          79.26510324098255,
          55.711878155988316,
          83.34674126420362,
          70.03113381785128,
          82.20900272633595,
          65.41516370736919,
          65.8154054722732,
          69.69387880979166,
          72.84297218301472,
          72.90798814202617,
          72.17252057122958,
          58.65780684350878,
          55.11050090754876,
          91.44094294730016,
          56.98370701621301,
          56.31325540442787,
          82.40607980553736,
          38.11552640504645,
          65.74836031109469,
          82.34309304869299,
          69.96408865667277,
          58.45667135997324,
          62.40421906083728,
          64.94584757911959,
          70.36433042157678,
          55.37868155226282,
          57.249858458759995,
          65.54925402972621,
          47.148360344642185,
          67.55655046074749,
          65.68334435208324,
          55.98208800286944,
          87.22724380388914,
          79.19602887763698,
          79.93352565060063,
          71.16684315355188,
          81.4715059533723,
          80.93717386611127,
          72.63980749731212,
          65.28107338501216,
          80.46988694002874,
          45.07401875244239,
          72.64183669947919,
          82.74130561142992,
          91.71115279418129,
          75.31552633795145,
          57.52006830564112,
          59.525335534495326,
          53.76959768397849,
          87.49339524643612,
          52.96911415417046,
          99.20397722883827,
          64.54560581421558,
          56.71552637149895,
          53.036159315348975,
          69.16157592469767,
          88.29590797841122,
          58.19051991742626,
          85.95541494366445,
          29.617024552711758,
          66.41881192287983,
          86.42270186974697,
          74.24889136559645,
          84.01516367382169,
          67.68861158093745,
          83.94608931047611,
          65.54722482755915,
          89.1674950737319,
          74.78119425069042,
          62.00397729593326,
          67.89177626664005,
          62.46923501984872,
          70.43340478492237,
          70.23226930138684,
          57.585084264652565,
          67.08723433249789,
          51.498179012577296,
          50.82772740079216,
          72.84094298084766,
          46.94925406327371,
          73.10709442339464,
          52.77000787280199,
          80.93717386611127,
          82.80835077260845,
          63.07264147045534,
          82.14195756515744,
          86.69088251446104,
          62.402189858670205,
          63.3408221151694,
          47.416540989356236,
          75.8498584252125,
          67.88974706447299,
          70.43340478492237,
          77.79213889722233,
          86.62586655544959,
          60.19578714628046,
          88.56611782529235,
          56.7805423305104,
          81.1383093496468,
          68.96044044116213,
          57.7862197481881,
          77.19076164878277,
          90.7725205376821,
          70.43340478492237,
          49.960198709805624,
          48.88950533311647,
          59.59238069567384,
          94.85212935873608,
          85.41905365423634,
          87.15816944054356,
          72.57276233613361,
          76.31917455346209,
          76.3862197146406,
          49.492911783723095,
          85.48812801758193,
          57.788248950355175,
          57.71917458700959,
          51.095908045506214,
          59.594409897840904,
          59.726471018030864,
          50.8927433598036,
          39.18419057956853,
          72.30458169141954,
          66.15063127816576,
          52.56684318709938,
          60.12874198510195,
          86.556792192104,
          68.35906319272259,
          81.00218982512271,
          58.45464215780617,
          64.07426048379891,
          66.35379596386838,
          91.51001731064575,
          68.49315351507961,
          80.93717386611127,
          76.38824891680768,
          93.3141490559644,
          62.13603841612322,
          81.80673175926488,
          98.66761593941015,
          66.41881192287983,
          65.74836031109469,
          71.57114332279004,
          75.31755554011853,
          88.96635959019636,
          46.477908732857045,
          62.07102245711178,
          44.53968666518136,
          37.512119954439825,
          69.9620594545057,
          65.68131514991617,
          67.95476302348443,
          65.54925402972621,
          74.04572667989383,
          72.37162685259806,
          89.56976604080299,
          77.9912451785908,
          49.824079185281526,
          42.33125475062454,
          98.66761593941015,
          69.42772736724467,
          48.01994743996286,
          67.08723433249789,
          73.8445911963583,
          94.85415856090316,
          60.461938588827444,
          64.0072153226204,
          79.66534500588658,
          53.0341301131819,
          50.695666280602204,
          89.5006916774574,
          54.50709445694214,
          59.525335534495326,
          95.12031000345014,
          77.99327438075787,
          71.43502379826595,
          73.97868151871532,
          75.58370698266552,
          74.37892328361933,
          70.89866250883783,
          60.79513519255295,
          62.402189858670205,
          63.87312500026337,
          56.1141491230594,
          61.66875149004069,
          67.08723433249789,
          74.98232973422596,
          98.66761593941015,
          76.58532599600908,
          23.32898381710095,
          52.96911415417046,
          75.58370698266552,
          79.99854160961208,
          58.655777641341714,
          27.944953927583054,
          76.98962616524723,
          56.24823944541643,
          87.8286210523287,
          71.30296267807599,
          83.21265094184659,
          55.843939276178276,
          62.8715059869198,
          61.73376744905214,
          59.66145505901942,
          57.98735523172365,
          89.43567571844596,
          75.31552633795145,
          91.44094294730016,
          66.55087304306979,
          43.466964086325135,
          77.7941680993894,
          81.07329339063536,
          71.56911412062297,
          58.31852263328207,
          62.001948093766195,
          50.49453079706666,
          95.45756501150979,
          57.25188766092707,
          96.3941680658419,
          69.02748560234065,
          47.88585711760583,
          55.51074267245278,
          49.55589854056747,
          63.27377695399089,
          60.33190667080456,
          72.57276233613361,
          86.28861154738995,
          83.14560578066808,
          72.90798814202617,
          78.25942582330485,
          90.37024957061101,
          75.78687166836812,
          73.24321394791875,
          50.29136611136405,
          86.22156638621144,
          79.53125468352955,
          77.79213889722233,
          64.41151549185855,
          79.06193855527995,
          68.35703399055551,
          61.199435361791096,
          51.8313756163028,
          77.45691309132975,
          54.70822994047768,
          78.32647098448336,
          85.08585705051084,
          68.7593049576266,
          77.72509373604382,
          65.74836031109469,
          66.75403772877239,
          65.28107338501216,
          57.91828086837806,
          86.35768591073553,
          75.91893278855808,
          65.54925402972621,
          69.02545640017358,
          67.82270190329447,
          63.20876099497944,
          58.38759699662766,
          71.43502379826595,
          83.61289270675061,
          73.0420784643832,
          71.70523364514706,
          74.44596844479784,
          55.711878155988316,
          76.52031003699764,
          81.87174771827632,
          75.58370698266552,
          62.13400921395615,
          76.78849068171169,
          80.33376741550464,
          74.51504280814343,
          60.19578714628046,
          70.76660138864787,
          66.55087304306979,
          54.50912365910921,
          38.247587525236405,
          64.81175725676256,
          97.86510320743507,
          74.78322345285748,
          77.05667132642574,
          56.71552637149895,
          89.36863055726744,
          51.76433045512428,
          74.91528457304744,
          72.57276233613361,
          76.12006827209362,
          61.13036099844551,
          87.49339524643612,
          80.66899322139722,
          70.23024009921976,
          75.71576810285548,
          65.07993790147661,
          80.00057081177914,
          65.41313450520212,
          83.34674126420362,
          63.005596309276825,
          61.80081261023065,
          70.4313755827553,
          33.7677369392784,
          58.523716521151755,
          86.29064074955701,
          58.787838761531674,
          83.7490122312747,
          83.81402819028615,
          99.06988690648124,
          80.13466113413617,
          68.42407915173403,
          91.97527503456121,
          76.78849068171169,
          95.18938436679572,
          75.11642005658298,
          73.31228831126433,
          70.4313755827553,
          57.7862197481881,
          88.09477249487568,
          47.148360344642185,
          42.264209589446025,
          73.57843975381131,
          73.4423202292872,
          51.1649824088518,
          89.90093344236142,
          38.92006833918862,
          75.516661821487,
          45.610380041870506,
          88.02975653586424,
          46.54698309620263,
          56.71552637149895,
          56.717555573666026,
          78.99895179843557,
          64.20835080615593,
          70.76863059081494,
          59.12509376959131,
          72.57479153830067,
          54.70620073831061,
          82.94447029713254,
          71.16684315355188,
          54.03980753085961,
          77.6580485748653,
          73.71050087400127,
          63.407867276347915,
          58.38759699662766,
          83.34674126420362,
          68.22497287036556,
          70.83364654982638,
          76.25415859445064,
          88.29590797841122,
          54.24094301439516,
          93.44823937832143,
          56.84961669385598,
          67.22132465485493,
          57.585084264652565,
          75.58370698266552,
          69.82796913214868,
          56.38030056560638,
          79.93352565060063,
          61.06534503943407,
          61.86785777140916,
          71.23591751689747,
          72.97300410103762,
          62.00397729593326,
          69.89704349549426,
          58.92395828605577,
          47.28245066699921,
          72.23956573240811,
          65.07790869930955,
          76.05099390874804,
          64.1433348471445,
          56.447345726784896,
          70.69955622746936,
          42.396270709635985,
          77.6580485748653,
          84.75266044678534,
          54.37300413458511,
          88.29590797841122,
          83.54584754557209,
          57.585084264652565,
          80.8051127459213,
          48.751356606425304,
          77.6580485748653,
          35.70392980478702,
          64.27742516950153,
          63.2047025906453,
          60.126712782934874,
          64.67766693440554,
          72.57276233613361,
          83.48083158656065,
          50.35841127254256,
          66.34973755953423,
          69.09453076351916,
          82.20697352416889,
          59.66145505901942,
          53.83867204732407,
          71.70320444298,
          78.86283227391148,
          92.71277180752486,
          83.94811851264318,
          74.91528457304744,
          79.73239016706509,
          72.43867201377657,
          43.735144731039185,
          75.11844925875006,
          53.371385121241545,
          31.293153582174604,
          45.87653148441749,
          62.402189858670205,
          83.34674126420362,
          78.59465162919743,
          85.68926350111747,
          57.11576813640297,
          68.49112431291255,
          70.29728526039827,
          89.23251103274335,
          88.83226926783934,
          88.36295313958973,
          50.82772740079216,
          85.08382784834377,
          56.38030056560638,
          65.74836031109469,
          66.28269239835572,
          67.82270190329447,
          84.01313447165462,
          53.974791571848165,
          59.12509376959131,
          84.34836027754719,
          59.326229253126854,
          80.80308354375424,
          49.557927742734535,
          62.80446082574129,
          63.676047921061965,
          80.66899322139722,
          56.1141491230594,
          75.38257149912997,
          50.15727578900702,
          57.453023144462605,
          41.59172877549382,
          75.91893278855808,
          62.40016065650314,
          84.48447980207129,
          84.5515249632498,
          53.706610927134115,
          70.23024009921976,
          74.44799764696492,
          66.35176676170131,
          66.6179182042483,
          84.28334431853574,
          67.08926353466497,
          62.93855114809831,
          96.19303258230636,
          67.55655046074749,
          77.1887324466157,
          48.219053721331335,
          73.04410766655027,
          60.461938588827444,
          84.81767640579679,
          40.79124524568579,
          70.0981789790298,
          92.44662036497787,
          81.1383093496468,
          52.43478206690942,
          42.26623879161309,
          73.37730427027577,
          49.89112434646004,
          57.117797338570035,
          70.96773687218341,
          83.01151545831105,
          89.1674950737319,
          59.79148697704231,
          64.14536404931157,
          81.07126418846829,
          59.79351617920938,
          70.23024009921976,
          74.31187812244082,
          63.005596309276825,
          69.16157592469767,
          71.50206895944446,
          45.610380041870506,
          50.025214668817064,
          74.17778780008379,
          98.73466110058868,
          69.8950142933272,
          64.34447033068004,
          49.55589854056747,
          84.21629915735723,
          90.70547537650359,
          64.94381837695252,
          74.04775588206091,
          60.864209555898526,
          32.82910468277921,
          28.41427005583265,
          76.11803906992655,
          53.90774641066965,
          76.25212939228358,
          83.21265094184659,
          76.78849068171169,
          46.07563776578596,
          98.73466110058868,
          82.00583804063335,
          76.85756504505727,
          47.61767647289178,
          82.81037997477551,
          73.57641055164424,
          63.47491243752643,
          41.528742018649446,
          82.13992836299037,
          59.45829037331681,
          60.05966762175636,
          59.056019406245724,
          68.96044044116213,
          99.20397722883827,
          58.9219290838887,
          74.77916504852335,
          94.85415856090316,
          69.02748560234065,
          50.82569819862509,
          65.4822088685477,
          63.33879291300232,
          69.36271140823322,
          63.74309308224048,
          55.57981703579836,
          60.32987746863749,
          42.19716442826751,
          54.50709445694214,
          72.63980749731212,
          56.382329767773456,
          69.42772736724467,
          73.77754603517978,
          86.89404720016364,
          62.5383093831943,
          56.717555573666026,
          56.98370701621301,
          80.40284177885023,
          67.69064078310451,
          65.4822088685477,
          89.29955619392186,
          66.08561531915433,
          60.99829987825556,
          66.41678272071276,
          59.59238069567384,
          81.1383093496468,
          56.447345726784896,
          48.954521292127914,
          72.9059589398591,
          73.51342379479986,
          75.9859779497366,
          73.10912362556171,
          51.43113385139878,
          67.62156641975893,
          57.052781379558596,
          85.95541494366445,
          98.66761593941015,
          60.86218035373146,
          79.73239016706509,
          56.9166618550345,
          52.63388834827789,
          99.20397722883827,
          74.37892328361933,
          57.052781379558596,
          68.55816947409106,
          66.95314401014086,
          62.06899325494471,
          74.58005876715488,
          82.54219933006146,
          98.46648045587462,
          71.50409816161152,
          49.22270193684197,
          63.00356710710976,
          61.46558680433808,
          79.93149644843356,
          60.931254717077046,
          63.87515420243044,
          40.92736477020989,
          93.91755550657103,
          21.85399027117365,
          77.32485197113981,
          83.74698302910764,
          85.55314397659336,
          74.04572667989383,
          50.42748563588815,
          56.7805423305104,
          74.51504280814343,
          43.93628021457473,
          83.8790441492976,
          80.46988694002874,
          79.99854160961208,
          73.7084716718342,
          70.4313755827553,
          62.06899325494471,
          97.46283224036398,
          54.50912365910921,
          69.29363704488763,
          76.45326487581912,
          84.54949576108274
         ]
        }
       ],
       "layout": {
        "legend": {
         "tracegroupgap": 0
        },
        "margin": {
         "t": 60
        },
        "template": {
         "data": {
          "bar": [
           {
            "error_x": {
             "color": "#2a3f5f"
            },
            "error_y": {
             "color": "#2a3f5f"
            },
            "marker": {
             "line": {
              "color": "#E5ECF6",
              "width": 0.5
             },
             "pattern": {
              "fillmode": "overlay",
              "size": 10,
              "solidity": 0.2
             }
            },
            "type": "bar"
           }
          ],
          "barpolar": [
           {
            "marker": {
             "line": {
              "color": "#E5ECF6",
              "width": 0.5
             },
             "pattern": {
              "fillmode": "overlay",
              "size": 10,
              "solidity": 0.2
             }
            },
            "type": "barpolar"
           }
          ],
          "carpet": [
           {
            "aaxis": {
             "endlinecolor": "#2a3f5f",
             "gridcolor": "white",
             "linecolor": "white",
             "minorgridcolor": "white",
             "startlinecolor": "#2a3f5f"
            },
            "baxis": {
             "endlinecolor": "#2a3f5f",
             "gridcolor": "white",
             "linecolor": "white",
             "minorgridcolor": "white",
             "startlinecolor": "#2a3f5f"
            },
            "type": "carpet"
           }
          ],
          "choropleth": [
           {
            "colorbar": {
             "outlinewidth": 0,
             "ticks": ""
            },
            "type": "choropleth"
           }
          ],
          "contour": [
           {
            "colorbar": {
             "outlinewidth": 0,
             "ticks": ""
            },
            "colorscale": [
             [
              0,
              "#0d0887"
             ],
             [
              0.1111111111111111,
              "#46039f"
             ],
             [
              0.2222222222222222,
              "#7201a8"
             ],
             [
              0.3333333333333333,
              "#9c179e"
             ],
             [
              0.4444444444444444,
              "#bd3786"
             ],
             [
              0.5555555555555556,
              "#d8576b"
             ],
             [
              0.6666666666666666,
              "#ed7953"
             ],
             [
              0.7777777777777778,
              "#fb9f3a"
             ],
             [
              0.8888888888888888,
              "#fdca26"
             ],
             [
              1,
              "#f0f921"
             ]
            ],
            "type": "contour"
           }
          ],
          "contourcarpet": [
           {
            "colorbar": {
             "outlinewidth": 0,
             "ticks": ""
            },
            "type": "contourcarpet"
           }
          ],
          "heatmap": [
           {
            "colorbar": {
             "outlinewidth": 0,
             "ticks": ""
            },
            "colorscale": [
             [
              0,
              "#0d0887"
             ],
             [
              0.1111111111111111,
              "#46039f"
             ],
             [
              0.2222222222222222,
              "#7201a8"
             ],
             [
              0.3333333333333333,
              "#9c179e"
             ],
             [
              0.4444444444444444,
              "#bd3786"
             ],
             [
              0.5555555555555556,
              "#d8576b"
             ],
             [
              0.6666666666666666,
              "#ed7953"
             ],
             [
              0.7777777777777778,
              "#fb9f3a"
             ],
             [
              0.8888888888888888,
              "#fdca26"
             ],
             [
              1,
              "#f0f921"
             ]
            ],
            "type": "heatmap"
           }
          ],
          "heatmapgl": [
           {
            "colorbar": {
             "outlinewidth": 0,
             "ticks": ""
            },
            "colorscale": [
             [
              0,
              "#0d0887"
             ],
             [
              0.1111111111111111,
              "#46039f"
             ],
             [
              0.2222222222222222,
              "#7201a8"
             ],
             [
              0.3333333333333333,
              "#9c179e"
             ],
             [
              0.4444444444444444,
              "#bd3786"
             ],
             [
              0.5555555555555556,
              "#d8576b"
             ],
             [
              0.6666666666666666,
              "#ed7953"
             ],
             [
              0.7777777777777778,
              "#fb9f3a"
             ],
             [
              0.8888888888888888,
              "#fdca26"
             ],
             [
              1,
              "#f0f921"
             ]
            ],
            "type": "heatmapgl"
           }
          ],
          "histogram": [
           {
            "marker": {
             "pattern": {
              "fillmode": "overlay",
              "size": 10,
              "solidity": 0.2
             }
            },
            "type": "histogram"
           }
          ],
          "histogram2d": [
           {
            "colorbar": {
             "outlinewidth": 0,
             "ticks": ""
            },
            "colorscale": [
             [
              0,
              "#0d0887"
             ],
             [
              0.1111111111111111,
              "#46039f"
             ],
             [
              0.2222222222222222,
              "#7201a8"
             ],
             [
              0.3333333333333333,
              "#9c179e"
             ],
             [
              0.4444444444444444,
              "#bd3786"
             ],
             [
              0.5555555555555556,
              "#d8576b"
             ],
             [
              0.6666666666666666,
              "#ed7953"
             ],
             [
              0.7777777777777778,
              "#fb9f3a"
             ],
             [
              0.8888888888888888,
              "#fdca26"
             ],
             [
              1,
              "#f0f921"
             ]
            ],
            "type": "histogram2d"
           }
          ],
          "histogram2dcontour": [
           {
            "colorbar": {
             "outlinewidth": 0,
             "ticks": ""
            },
            "colorscale": [
             [
              0,
              "#0d0887"
             ],
             [
              0.1111111111111111,
              "#46039f"
             ],
             [
              0.2222222222222222,
              "#7201a8"
             ],
             [
              0.3333333333333333,
              "#9c179e"
             ],
             [
              0.4444444444444444,
              "#bd3786"
             ],
             [
              0.5555555555555556,
              "#d8576b"
             ],
             [
              0.6666666666666666,
              "#ed7953"
             ],
             [
              0.7777777777777778,
              "#fb9f3a"
             ],
             [
              0.8888888888888888,
              "#fdca26"
             ],
             [
              1,
              "#f0f921"
             ]
            ],
            "type": "histogram2dcontour"
           }
          ],
          "mesh3d": [
           {
            "colorbar": {
             "outlinewidth": 0,
             "ticks": ""
            },
            "type": "mesh3d"
           }
          ],
          "parcoords": [
           {
            "line": {
             "colorbar": {
              "outlinewidth": 0,
              "ticks": ""
             }
            },
            "type": "parcoords"
           }
          ],
          "pie": [
           {
            "automargin": true,
            "type": "pie"
           }
          ],
          "scatter": [
           {
            "fillpattern": {
             "fillmode": "overlay",
             "size": 10,
             "solidity": 0.2
            },
            "type": "scatter"
           }
          ],
          "scatter3d": [
           {
            "line": {
             "colorbar": {
              "outlinewidth": 0,
              "ticks": ""
             }
            },
            "marker": {
             "colorbar": {
              "outlinewidth": 0,
              "ticks": ""
             }
            },
            "type": "scatter3d"
           }
          ],
          "scattercarpet": [
           {
            "marker": {
             "colorbar": {
              "outlinewidth": 0,
              "ticks": ""
             }
            },
            "type": "scattercarpet"
           }
          ],
          "scattergeo": [
           {
            "marker": {
             "colorbar": {
              "outlinewidth": 0,
              "ticks": ""
             }
            },
            "type": "scattergeo"
           }
          ],
          "scattergl": [
           {
            "marker": {
             "colorbar": {
              "outlinewidth": 0,
              "ticks": ""
             }
            },
            "type": "scattergl"
           }
          ],
          "scattermapbox": [
           {
            "marker": {
             "colorbar": {
              "outlinewidth": 0,
              "ticks": ""
             }
            },
            "type": "scattermapbox"
           }
          ],
          "scatterpolar": [
           {
            "marker": {
             "colorbar": {
              "outlinewidth": 0,
              "ticks": ""
             }
            },
            "type": "scatterpolar"
           }
          ],
          "scatterpolargl": [
           {
            "marker": {
             "colorbar": {
              "outlinewidth": 0,
              "ticks": ""
             }
            },
            "type": "scatterpolargl"
           }
          ],
          "scatterternary": [
           {
            "marker": {
             "colorbar": {
              "outlinewidth": 0,
              "ticks": ""
             }
            },
            "type": "scatterternary"
           }
          ],
          "surface": [
           {
            "colorbar": {
             "outlinewidth": 0,
             "ticks": ""
            },
            "colorscale": [
             [
              0,
              "#0d0887"
             ],
             [
              0.1111111111111111,
              "#46039f"
             ],
             [
              0.2222222222222222,
              "#7201a8"
             ],
             [
              0.3333333333333333,
              "#9c179e"
             ],
             [
              0.4444444444444444,
              "#bd3786"
             ],
             [
              0.5555555555555556,
              "#d8576b"
             ],
             [
              0.6666666666666666,
              "#ed7953"
             ],
             [
              0.7777777777777778,
              "#fb9f3a"
             ],
             [
              0.8888888888888888,
              "#fdca26"
             ],
             [
              1,
              "#f0f921"
             ]
            ],
            "type": "surface"
           }
          ],
          "table": [
           {
            "cells": {
             "fill": {
              "color": "#EBF0F8"
             },
             "line": {
              "color": "white"
             }
            },
            "header": {
             "fill": {
              "color": "#C8D4E3"
             },
             "line": {
              "color": "white"
             }
            },
            "type": "table"
           }
          ]
         },
         "layout": {
          "annotationdefaults": {
           "arrowcolor": "#2a3f5f",
           "arrowhead": 0,
           "arrowwidth": 1
          },
          "autotypenumbers": "strict",
          "coloraxis": {
           "colorbar": {
            "outlinewidth": 0,
            "ticks": ""
           }
          },
          "colorscale": {
           "diverging": [
            [
             0,
             "#8e0152"
            ],
            [
             0.1,
             "#c51b7d"
            ],
            [
             0.2,
             "#de77ae"
            ],
            [
             0.3,
             "#f1b6da"
            ],
            [
             0.4,
             "#fde0ef"
            ],
            [
             0.5,
             "#f7f7f7"
            ],
            [
             0.6,
             "#e6f5d0"
            ],
            [
             0.7,
             "#b8e186"
            ],
            [
             0.8,
             "#7fbc41"
            ],
            [
             0.9,
             "#4d9221"
            ],
            [
             1,
             "#276419"
            ]
           ],
           "sequential": [
            [
             0,
             "#0d0887"
            ],
            [
             0.1111111111111111,
             "#46039f"
            ],
            [
             0.2222222222222222,
             "#7201a8"
            ],
            [
             0.3333333333333333,
             "#9c179e"
            ],
            [
             0.4444444444444444,
             "#bd3786"
            ],
            [
             0.5555555555555556,
             "#d8576b"
            ],
            [
             0.6666666666666666,
             "#ed7953"
            ],
            [
             0.7777777777777778,
             "#fb9f3a"
            ],
            [
             0.8888888888888888,
             "#fdca26"
            ],
            [
             1,
             "#f0f921"
            ]
           ],
           "sequentialminus": [
            [
             0,
             "#0d0887"
            ],
            [
             0.1111111111111111,
             "#46039f"
            ],
            [
             0.2222222222222222,
             "#7201a8"
            ],
            [
             0.3333333333333333,
             "#9c179e"
            ],
            [
             0.4444444444444444,
             "#bd3786"
            ],
            [
             0.5555555555555556,
             "#d8576b"
            ],
            [
             0.6666666666666666,
             "#ed7953"
            ],
            [
             0.7777777777777778,
             "#fb9f3a"
            ],
            [
             0.8888888888888888,
             "#fdca26"
            ],
            [
             1,
             "#f0f921"
            ]
           ]
          },
          "colorway": [
           "#636efa",
           "#EF553B",
           "#00cc96",
           "#ab63fa",
           "#FFA15A",
           "#19d3f3",
           "#FF6692",
           "#B6E880",
           "#FF97FF",
           "#FECB52"
          ],
          "font": {
           "color": "#2a3f5f"
          },
          "geo": {
           "bgcolor": "white",
           "lakecolor": "white",
           "landcolor": "#E5ECF6",
           "showlakes": true,
           "showland": true,
           "subunitcolor": "white"
          },
          "hoverlabel": {
           "align": "left"
          },
          "hovermode": "closest",
          "mapbox": {
           "style": "light"
          },
          "paper_bgcolor": "white",
          "plot_bgcolor": "#E5ECF6",
          "polar": {
           "angularaxis": {
            "gridcolor": "white",
            "linecolor": "white",
            "ticks": ""
           },
           "bgcolor": "#E5ECF6",
           "radialaxis": {
            "gridcolor": "white",
            "linecolor": "white",
            "ticks": ""
           }
          },
          "scene": {
           "xaxis": {
            "backgroundcolor": "#E5ECF6",
            "gridcolor": "white",
            "gridwidth": 2,
            "linecolor": "white",
            "showbackground": true,
            "ticks": "",
            "zerolinecolor": "white"
           },
           "yaxis": {
            "backgroundcolor": "#E5ECF6",
            "gridcolor": "white",
            "gridwidth": 2,
            "linecolor": "white",
            "showbackground": true,
            "ticks": "",
            "zerolinecolor": "white"
           },
           "zaxis": {
            "backgroundcolor": "#E5ECF6",
            "gridcolor": "white",
            "gridwidth": 2,
            "linecolor": "white",
            "showbackground": true,
            "ticks": "",
            "zerolinecolor": "white"
           }
          },
          "shapedefaults": {
           "line": {
            "color": "#2a3f5f"
           }
          },
          "ternary": {
           "aaxis": {
            "gridcolor": "white",
            "linecolor": "white",
            "ticks": ""
           },
           "baxis": {
            "gridcolor": "white",
            "linecolor": "white",
            "ticks": ""
           },
           "bgcolor": "#E5ECF6",
           "caxis": {
            "gridcolor": "white",
            "linecolor": "white",
            "ticks": ""
           }
          },
          "title": {
           "x": 0.05
          },
          "xaxis": {
           "automargin": true,
           "gridcolor": "white",
           "linecolor": "white",
           "ticks": "",
           "title": {
            "standoff": 15
           },
           "zerolinecolor": "white",
           "zerolinewidth": 2
          },
          "yaxis": {
           "automargin": true,
           "gridcolor": "white",
           "linecolor": "white",
           "ticks": "",
           "title": {
            "standoff": 15
           },
           "zerolinecolor": "white",
           "zerolinewidth": 2
          }
         }
        },
        "xaxis": {
         "anchor": "y",
         "domain": [
          0,
          1
         ],
         "title": {
          "text": "reading score"
         }
        },
        "yaxis": {
         "anchor": "x",
         "domain": [
          0,
          1
         ],
         "title": {
          "text": "writing score"
         }
        }
       }
      },
      "text/html": [
       "<div>                            <div id=\"caf12dbb-305e-430b-bc56-71303c701bf1\" class=\"plotly-graph-div\" style=\"height:525px; width:100%;\"></div>            <script type=\"text/javascript\">                require([\"plotly\"], function(Plotly) {                    window.PLOTLYENV=window.PLOTLYENV || {};                                    if (document.getElementById(\"caf12dbb-305e-430b-bc56-71303c701bf1\")) {                    Plotly.newPlot(                        \"caf12dbb-305e-430b-bc56-71303c701bf1\",                        [{\"hovertemplate\":\"reading score=%{x}<br>writing score=%{y}<extra></extra>\",\"legendgroup\":\"\",\"marker\":{\"color\":\"#636efa\",\"symbol\":\"circle\"},\"mode\":\"markers\",\"name\":\"\",\"orientation\":\"v\",\"showlegend\":false,\"x\":[72,90,95,57,78,83,95,43,64,60,54,52,81,72,53,75,89,32,42,58,69,75,54,73,71,74,54,69,70,70,74,65,72,42,87,81,81,64,90,56,61,73,58,65,56,54,65,71,74,84,55,69,44,78,84,41,85,55,59,17,74,39,61,80,58,64,37,72,58,64,63,55,51,57,49,41,26,78,74,68,49,45,47,64,39,80,83,71,70,86,72,34,79,45,86,81,66,72,67,67,67,74,91,44,86,67,100,63,76,64,89,55,53,58,100,77,85,82,63,69,92,89,93,57,80,95,68,77,82,49,84,37,74,81,79,55,54,55,66,61,72,62,55,43,73,39,84,68,75,100,67,67,70,49,67,89,74,60,86,62,78,88,53,53,92,100,51,76,83,75,73,88,86,67,51,91,54,77,70,100,68,64,50,69,52,67,76,66,52,88,65,83,64,62,84,55,69,56,53,79,84,81,77,69,41,71,62,80,81,61,79,28,62,51,91,83,86,42,77,56,68,85,65,80,66,56,72,50,72,95,64,43,86,87,82,75,66,60,52,80,68,83,52,51,74,76,76,70,64,60,49,83,70,80,52,73,73,77,75,81,79,79,50,93,73,42,75,72,92,76,63,49,53,70,85,78,92,63,86,56,52,48,79,78,46,82,82,89,75,76,70,73,60,73,77,62,41,74,46,87,78,54,84,76,75,67,87,52,71,57,76,60,61,67,64,66,82,72,71,65,79,86,81,53,46,90,61,23,75,55,60,37,56,78,93,68,70,51,38,55,61,73,76,72,73,80,61,94,74,74,65,57,78,58,71,72,61,66,62,90,62,84,58,34,60,58,58,66,64,84,77,73,74,97,70,43,90,95,83,64,86,100,81,49,43,76,73,78,64,70,67,68,67,54,74,45,67,89,63,59,54,43,65,99,59,73,65,80,57,84,71,83,66,67,72,73,74,73,59,56,93,58,58,85,39,67,83,71,59,63,66,72,56,59,66,48,68,66,56,88,81,81,73,83,82,74,66,81,46,73,85,92,77,58,61,56,89,54,100,65,58,54,70,90,58,87,31,67,88,74,85,69,86,67,90,76,62,68,64,71,71,59,68,52,52,74,47,75,53,82,85,64,83,88,64,64,48,78,69,71,79,87,61,89,59,82,70,59,78,92,71,50,49,61,97,87,89,74,78,78,49,86,58,59,52,60,61,53,41,74,67,54,61,88,69,83,60,66,66,92,69,82,77,95,63,83,100,67,67,72,76,90,48,62,45,39,72,67,70,66,75,74,90,80,51,43,100,71,48,68,75,96,62,66,81,55,51,91,56,61,97,79,73,75,77,76,73,63,64,66,57,62,68,76,100,79,24,54,77,82,60,29,78,57,89,72,84,58,64,63,60,59,90,77,93,68,45,78,81,73,61,63,51,96,58,97,70,48,57,51,64,60,74,88,84,74,80,92,76,74,52,88,81,79,65,81,70,62,53,79,56,80,86,70,79,67,67,66,60,87,77,66,71,69,63,60,73,85,74,72,76,57,78,84,77,64,78,82,75,61,72,68,55,40,66,99,75,78,58,90,53,76,74,77,63,89,82,72,78,66,81,67,84,64,63,72,34,59,87,61,84,85,100,81,70,94,78,96,76,73,72,59,90,48,43,74,75,51,92,39,77,46,89,47,58,57,79,66,71,60,73,57,84,73,55,79,75,64,60,84,69,72,77,90,55,95,58,68,59,77,72,58,81,62,63,72,75,62,71,60,48,73,67,78,65,58,72,44,79,85,56,90,85,59,81,51,79,38,65,65,62,66,74,84,52,68,70,84,60,55,73,80,94,85,76,81,74,45,75,54,31,47,64,84,80,86,59,70,72,91,90,90,52,87,58,67,68,69,86,54,60,86,60,82,50,64,64,82,57,77,52,58,44,77,65,85,85,54,72,75,67,68,85,67,64,97,68,79,49,73,62,86,42,71,93,82,53,42,74,51,58,72,84,90,62,64,82,61,72,76,64,70,73,46,51,76,100,72,65,51,85,92,67,74,62,34,29,78,54,78,84,78,48,100,84,77,48,84,75,64,42,84,61,62,61,70,100,61,77,96,70,53,66,65,70,64,56,61,43,56,74,57,71,75,87,63,57,58,81,68,66,91,66,62,68,61,82,58,50,75,73,77,74,52,69,57,87,100,63,81,58,54,100,76,57,70,68,63,76,84,100,72,50,65,63,82,62,65,41,95,24,78,85,87,75,51,59,75,45,86,81,82,76,72,63,99,55,71,78,86],\"xaxis\":\"x\",\"y\":[74,88,93,44,75,78,92,39,67,50,52,43,73,70,58,78,86,28,46,61,63,70,53,73,80,72,55,75,65,75,74,61,65,38,82,79,83,59,88,57,54,68,65,66,54,57,62,76,76,82,48,68,42,75,87,43,86,49,58,10,72,34,55,71,59,61,37,74,56,57,73,63,48,56,41,38,22,81,72,68,50,45,54,63,34,82,88,74,67,82,74,36,71,50,92,82,62,70,62,62,67,74,89,47,90,72,100,64,70,72,98,49,47,54,100,74,82,79,61,65,89,92,93,56,73,86,67,74,74,51,82,40,70,84,75,48,41,56,67,69,71,64,54,47,78,33,75,66,81,93,69,68,66,47,61,88,78,60,87,64,74,85,52,49,91,100,51,78,78,70,74,78,81,70,54,87,58,77,62,100,75,66,47,70,49,65,65,68,45,87,69,79,66,62,85,52,65,51,55,76,86,77,69,68,42,78,62,76,76,66,79,27,60,56,81,75,88,39,70,56,74,73,62,75,73,54,71,54,64,94,66,42,83,78,84,77,67,74,51,80,66,83,55,43,69,71,74,68,62,53,49,83,70,72,52,70,68,77,78,81,77,78,51,90,68,41,81,77,95,70,61,42,58,71,76,73,93,75,80,57,42,46,84,78,46,82,88,82,76,77,68,70,57,75,80,60,43,68,50,75,81,52,81,64,83,69,81,44,67,52,80,57,68,69,75,65,91,78,69,63,84,79,80,53,43,94,62,19,77,51,61,35,53,81,95,66,69,43,27,60,52,63,74,67,67,75,57,95,66,76,69,52,80,57,70,70,61,69,61,89,59,78,58,32,58,60,53,61,58,85,71,70,72,96,73,41,82,100,77,62,83,95,71,45,43,75,70,67,64,75,59,77,67,56,77,41,63,95,57,54,67,43,55,100,62,68,63,77,56,85,74,78,60,67,79,69,68,67,62,54,93,64,67,80,34,62,86,65,53,54,59,70,55,50,66,53,64,73,51,82,79,80,69,76,73,77,60,80,42,72,85,97,74,49,62,47,89,48,100,68,55,45,76,91,62,91,38,65,85,76,90,74,84,61,91,83,66,72,70,67,68,56,61,46,54,71,56,74,57,82,76,70,90,90,68,66,52,76,68,72,82,92,54,92,54,80,66,54,77,87,73,43,52,62,94,85,84,73,78,79,52,84,57,50,49,59,60,43,47,70,73,53,58,94,68,83,58,62,71,86,68,80,79,89,66,80,97,64,64,69,65,88,50,64,40,33,79,66,70,62,79,74,92,80,46,45,100,78,47,67,70,92,56,64,71,53,52,89,58,68,96,80,78,80,77,76,73,62,65,65,54,50,64,73,99,72,15,48,73,81,63,30,80,51,90,62,82,54,62,65,63,66,91,74,93,72,38,83,84,68,54,56,52,86,62,99,63,46,46,55,70,65,81,85,80,64,81,88,74,73,51,90,79,80,60,81,65,68,55,81,53,76,98,74,79,67,64,61,58,85,73,63,69,67,63,60,71,87,61,77,68,50,76,84,78,66,76,76,78,60,74,60,54,44,68,100,68,73,44,83,53,78,81,73,56,86,90,70,79,59,82,72,87,67,64,65,36,52,79,58,90,85,99,84,74,87,72,99,74,80,70,59,88,42,41,71,77,57,84,37,80,43,94,44,57,59,84,73,73,55,72,56,82,72,47,74,71,68,59,86,68,65,75,85,53,92,52,72,65,77,64,54,86,63,59,72,77,60,75,57,49,74,72,79,60,55,70,43,82,82,57,84,82,62,79,44,77,32,61,61,60,70,69,77,51,73,70,81,54,57,68,73,95,87,78,74,75,40,69,51,36,49,67,76,83,87,64,76,68,88,92,93,51,82,52,58,70,76,81,53,57,89,58,89,45,74,57,79,53,73,46,51,36,76,64,84,85,50,68,69,67,63,93,61,55,96,65,81,46,72,53,87,38,80,91,88,52,41,72,51,47,76,78,82,61,66,84,54,80,74,66,70,71,44,54,80,95,59,74,48,91,85,73,75,69,38,27,79,63,82,89,74,41,100,84,77,51,91,72,70,48,82,66,66,55,66,100,52,80,91,67,46,66,65,69,60,52,71,44,51,70,62,73,74,90,58,53,57,85,69,72,96,64,61,61,58,80,60,52,73,71,83,72,54,69,62,81,100,59,71,64,53,100,75,58,72,64,60,67,80,100,69,60,61,67,77,60,58,48,94,23,78,86,91,82,54,51,76,45,83,75,78,76,74,62,95,55,65,77,86],\"yaxis\":\"y\",\"type\":\"scatter\"},{\"mode\":\"lines\",\"name\":\"Linear Regression\",\"x\":[72,90,95,57,78,83,95,43,64,60,54,52,81,72,53,75,89,32,42,58,69,75,54,73,71,74,54,69,70,70,74,65,72,42,87,81,81,64,90,56,61,73,58,65,56,54,65,71,74,84,55,69,44,78,84,41,85,55,59,17,74,39,61,80,58,64,37,72,58,64,63,55,51,57,49,41,26,78,74,68,49,45,47,64,39,80,83,71,70,86,72,34,79,45,86,81,66,72,67,67,67,74,91,44,86,67,100,63,76,64,89,55,53,58,100,77,85,82,63,69,92,89,93,57,80,95,68,77,82,49,84,37,74,81,79,55,54,55,66,61,72,62,55,43,73,39,84,68,75,100,67,67,70,49,67,89,74,60,86,62,78,88,53,53,92,100,51,76,83,75,73,88,86,67,51,91,54,77,70,100,68,64,50,69,52,67,76,66,52,88,65,83,64,62,84,55,69,56,53,79,84,81,77,69,41,71,62,80,81,61,79,28,62,51,91,83,86,42,77,56,68,85,65,80,66,56,72,50,72,95,64,43,86,87,82,75,66,60,52,80,68,83,52,51,74,76,76,70,64,60,49,83,70,80,52,73,73,77,75,81,79,79,50,93,73,42,75,72,92,76,63,49,53,70,85,78,92,63,86,56,52,48,79,78,46,82,82,89,75,76,70,73,60,73,77,62,41,74,46,87,78,54,84,76,75,67,87,52,71,57,76,60,61,67,64,66,82,72,71,65,79,86,81,53,46,90,61,23,75,55,60,37,56,78,93,68,70,51,38,55,61,73,76,72,73,80,61,94,74,74,65,57,78,58,71,72,61,66,62,90,62,84,58,34,60,58,58,66,64,84,77,73,74,97,70,43,90,95,83,64,86,100,81,49,43,76,73,78,64,70,67,68,67,54,74,45,67,89,63,59,54,43,65,99,59,73,65,80,57,84,71,83,66,67,72,73,74,73,59,56,93,58,58,85,39,67,83,71,59,63,66,72,56,59,66,48,68,66,56,88,81,81,73,83,82,74,66,81,46,73,85,92,77,58,61,56,89,54,100,65,58,54,70,90,58,87,31,67,88,74,85,69,86,67,90,76,62,68,64,71,71,59,68,52,52,74,47,75,53,82,85,64,83,88,64,64,48,78,69,71,79,87,61,89,59,82,70,59,78,92,71,50,49,61,97,87,89,74,78,78,49,86,58,59,52,60,61,53,41,74,67,54,61,88,69,83,60,66,66,92,69,82,77,95,63,83,100,67,67,72,76,90,48,62,45,39,72,67,70,66,75,74,90,80,51,43,100,71,48,68,75,96,62,66,81,55,51,91,56,61,97,79,73,75,77,76,73,63,64,66,57,62,68,76,100,79,24,54,77,82,60,29,78,57,89,72,84,58,64,63,60,59,90,77,93,68,45,78,81,73,61,63,51,96,58,97,70,48,57,51,64,60,74,88,84,74,80,92,76,74,52,88,81,79,65,81,70,62,53,79,56,80,86,70,79,67,67,66,60,87,77,66,71,69,63,60,73,85,74,72,76,57,78,84,77,64,78,82,75,61,72,68,55,40,66,99,75,78,58,90,53,76,74,77,63,89,82,72,78,66,81,67,84,64,63,72,34,59,87,61,84,85,100,81,70,94,78,96,76,73,72,59,90,48,43,74,75,51,92,39,77,46,89,47,58,57,79,66,71,60,73,57,84,73,55,79,75,64,60,84,69,72,77,90,55,95,58,68,59,77,72,58,81,62,63,72,75,62,71,60,48,73,67,78,65,58,72,44,79,85,56,90,85,59,81,51,79,38,65,65,62,66,74,84,52,68,70,84,60,55,73,80,94,85,76,81,74,45,75,54,31,47,64,84,80,86,59,70,72,91,90,90,52,87,58,67,68,69,86,54,60,86,60,82,50,64,64,82,57,77,52,58,44,77,65,85,85,54,72,75,67,68,85,67,64,97,68,79,49,73,62,86,42,71,93,82,53,42,74,51,58,72,84,90,62,64,82,61,72,76,64,70,73,46,51,76,100,72,65,51,85,92,67,74,62,34,29,78,54,78,84,78,48,100,84,77,48,84,75,64,42,84,61,62,61,70,100,61,77,96,70,53,66,65,70,64,56,61,43,56,74,57,71,75,87,63,57,58,81,68,66,91,66,62,68,61,82,58,50,75,73,77,74,52,69,57,87,100,63,81,58,54,100,76,57,70,68,63,76,84,100,72,50,65,63,82,62,65,41,95,24,78,85,87,75,51,59,75,45,86,81,82,76,72,63,99,55,71,78,86],\"y\":[71.10182719454043,87.75954668898311,93.85051034539252,55.376652350095746,76.98962616524723,81.33741563101528,93.7164200230355,41.79489346119643,63.07264147045534,57.58305506248549,53.30433996006303,50.224320950185536,79.06193855527995,71.50409816161152,51.8313756163028,73.71050087400127,88.09680169704275,30.01726631761577,41.26056137393539,56.782571532677466,67.88974706447299,73.4423202292872,52.365707703563835,71.83729476533702,70.29931446256535,73.0420784643832,54.041836733026685,67.9567922256515,69.09453076351916,68.55816947409106,72.77389781966914,63.94219936360895,70.02910461568422,40.858290406864306,86.82700203898513,80.13466113413617,79.66534500588658,62.13400921395615,88.1618176560542,55.11050090754876,59.65942585685235,71.09979799237337,56.71552637149895,63.6740187188949,54.64118477929917,53.77365608831263,63.40583807418085,69.76295317313723,71.96935588552698,83.01151545831105,53.90571720850259,68.62724383743664,43.60308361084923,77.7941680993894,82.2740186853474,39.45237122428259,83.94811851264318,53.83867204732407,57.98735523172365,14.761407601420677,73.44434943145428,37.98143608268942,60.12874198510195,78.39351614566188,57.117797338570035,63.27377695399089,36.51050094109626,70.29728526039827,57.25188766092707,61.3965124409925,61.73376744905214,54.57616882028772,49.354763057031924,56.31528460659494,48.01791823779579,40.18986799724624,25.202189925765197,77.2578068099613,72.23753653024103,66.68496336542681,47.883827915438765,44.2715060204673,46.21175729031006,63.60900275988345,38.182571566224965,78.66169679037594,81.67264143690785,70.0981789790298,68.289988829377,84.28131511636867,70.63251106629085,32.49387887688664,77.59100341368679,43.86923505339622,84.68358608343976,79.93352565060063,65.0128927402981,70.49842074393382,65.48017966638064,65.94949579463022,66.88812805112941,72.70685265849063,89.76887232217146,44.07239973909883,85.95744414583152,65.48017966638064,98.33239013351759,62.270128738480246,73.50733618829865,63.47491243752643,87.3593049240791,54.50912365910921,52.09955626101685,56.58143604914193,99.13693206765976,76.58938440034322,83.47880238439357,80.87012870493275,61.26445132080254,67.15225029150933,90.3032044094325,88.29793718057829,91.84321391437125,56.44937492895197,79.33214840216108,93.64937486185697,67.35541497721195,75.31552633795145,81.1383093496468,48.15200856015282,83.48083158656065,37.04686223052437,73.98071072088239,79.73239016706509,77.79213889722233,54.24094301439516,52.83502383181344,55.04548494853732,64.61062177322702,60.732148435708574,71.3700078392545,60.864209555898526,53.168220435538935,42.934661201231165,73.11115282772879,36.841668342654685,83.41378642538214,67.42246013839046,73.64345571282276,99.20397722883827,65.74836031109469,66.75403772877239,68.35703399055551,48.35314404368836,65.74836031109469,86.88998879582951,72.57276233613361,59.0580486084128,83.47677318222651,61.33352568414813,77.39189713231832,86.28861154738995,51.76433045512428,51.965465938659825,90.43729473178952,98.93579658412422,50.15930499117409,73.90960715536974,81.13628014747974,73.57641055164424,72.03843024887256,87.56246960978172,84.68358608343976,65.8154054722732,49.48885337938896,89.5006916774574,52.49979802592087,75.71779730502254,67.88771786230592,99.00284174530273,66.68496336542681,61.8658285692421,49.02156645330643,67.82270190329447,50.559546756078106,65.94949579463022,75.38460070129705,64.81175725676256,50.760682239613644,86.42270186974697,64.1433348471445,81.67264143690785,62.93855114809831,62.07102245711178,82.13992836299037,54.442078497930694,67.4204309362234,54.976410585191736,51.49614981041023,78.06031954193638,82.00583804063335,79.06193855527995,75.58370698266552,67.28634061386636,41.19554541492394,70.29931446256535,62.40624826300434,79.19805807980404,79.66534500588658,59.86056134038789,78.1944098642934,27.410621840322012,59.7244418158638,50.62862111942369,89.90296264452849,82.20900272633595,84.95176672815381,40.456019439793224,75.38257149912997,55.37868155226282,66.28269239835572,84.28334431853574,63.40583807418085,79.53328388569662,64.14130564497742,54.3059589734066,71.10182719454043,49.49088258155602,70.83364654982638,93.7164200230355,63.8771834045975,42.19716442826751,83.8790441492976,86.49177623309257,81.20535451082532,74.44799764696492,64.87880241794107,59.326229253126854,51.162953206684726,79.3991935633396,67.42246013839046,81.9408220816219,51.29704352904176,50.56157595824517,73.17616878674022,75.71982650718961,75.98800715190366,68.289988829377,63.13968663163385,59.594409897840904,47.883827915438765,81.33741563101528,68.42407915173403,79.13101291862553,51.162953206684726,71.36797863708742,71.50206895944446,76.18711343327213,73.77754603517978,79.06193855527995,77.12168728543719,78.12736470311489,48.619295486235345,92.5807106873349,72.30661089358662,42.132148469256066,73.30822990693018,70.9006917110049,90.90661086003912,74.78119425069042,62.47126422201579,48.62132468840242,51.630240132767256,68.7593049576266,84.35038947971427,77.45894229349683,90.70547537650359,61.80081261023065,83.74495382694056,56.183223486404984,51.095908045506214,46.813134538749615,77.72509373604382,76.58735519817616,44.40356714065726,81.07126418846829,82.14398676732452,86.68885331229396,74.98435893639302,75.1834652177615,69.49680173059025,72.97706250537175,59.25918409194834,71.56911412062297,76.18711343327213,61.40057084532664,40.323958319603264,72.90798814202617,44.6047026241928,86.35768591073553,77.32485197113981,53.170249637706,82.00583804063335,75.38460070129705,74.04572667989383,66.21767643934429,86.96109236134215,50.96181772314919,68.89136607781656,55.51074267245278,74.91528457304744,59.46031957548388,60.463967790994516,66.15063127816576,62.737415664562775,65.41516370736919,80.80308354375424,71.83932396750409,69.5618176896017,63.47288323535936,77.32282276897273,84.4154054387257,79.46420952235103,51.3620594880532,44.67174778537131,88.63113378430378,60.061696823923434,22.258290440411802,74.58208796932195,53.10117527436042,59.79554538137645,36.644591263453286,55.44572671344133,77.92825842174642,91.50798810847867,66.6179182042483,69.49680173059025,49.89112434646004,36.03915561067959,52.69890430728934,59.86056134038789,71.3009334759089,74.6471039283334,70.76660138864787,72.50774637712216,78.59465162919743,60.12874198510195,92.04232019573972,73.17616878674022,73.98071072088239,63.2047025906453,56.65051041248751,76.11803906992655,56.24621024324936,69.29363704488763,70.36433042157678,60.19578714628046,63.47085403319228,60.864209555898526,88.49704346194676,60.79716439472001,83.21265094184659,56.64848121032044,32.49387887688664,58.991003447234284,56.447345726784896,57.788248950355175,64.74471209558405,61.73173824688507,82.40810900770443,76.58938440034322,70.22821089705269,73.10912362556171,95.18735516462866,68.35703399055551,42.19716442826751,88.49704346194676,93.51528453949994,81.33741563101528,63.20673179281238,84.75063124461828,98.33239013351759,80.00057081177914,47.28042146483214,41.6608031388394,74.51301360597637,71.50206895944446,75.71576810285548,62.93855114809831,69.29566624705471,66.48585708405834,67.69064078310451,66.68699256759388,53.23729479888452,72.5057171749551,44.20446085928879,64.94381837695252,87.89566621350721,62.80649002790836,58.12144555408067,53.371385121241545,42.66648055651711,63.00356710710976,97.46283224036398,57.71917458700959,71.43502379826595,64.07628968596597,79.26510324098255,55.711878155988316,83.34674126420362,70.03113381785128,82.20900272633595,65.41516370736919,65.8154054722732,69.69387880979166,72.84297218301472,72.90798814202617,72.17252057122958,58.65780684350878,55.11050090754876,91.44094294730016,56.98370701621301,56.31325540442787,82.40607980553736,38.11552640504645,65.74836031109469,82.34309304869299,69.96408865667277,58.45667135997324,62.40421906083728,64.94584757911959,70.36433042157678,55.37868155226282,57.249858458759995,65.54925402972621,47.148360344642185,67.55655046074749,65.68334435208324,55.98208800286944,87.22724380388914,79.19602887763698,79.93352565060063,71.16684315355188,81.4715059533723,80.93717386611127,72.63980749731212,65.28107338501216,80.46988694002874,45.07401875244239,72.64183669947919,82.74130561142992,91.71115279418129,75.31552633795145,57.52006830564112,59.525335534495326,53.76959768397849,87.49339524643612,52.96911415417046,99.20397722883827,64.54560581421558,56.71552637149895,53.036159315348975,69.16157592469767,88.29590797841122,58.19051991742626,85.95541494366445,29.617024552711758,66.41881192287983,86.42270186974697,74.24889136559645,84.01516367382169,67.68861158093745,83.94608931047611,65.54722482755915,89.1674950737319,74.78119425069042,62.00397729593326,67.89177626664005,62.46923501984872,70.43340478492237,70.23226930138684,57.585084264652565,67.08723433249789,51.498179012577296,50.82772740079216,72.84094298084766,46.94925406327371,73.10709442339464,52.77000787280199,80.93717386611127,82.80835077260845,63.07264147045534,82.14195756515744,86.69088251446104,62.402189858670205,63.3408221151694,47.416540989356236,75.8498584252125,67.88974706447299,70.43340478492237,77.79213889722233,86.62586655544959,60.19578714628046,88.56611782529235,56.7805423305104,81.1383093496468,68.96044044116213,57.7862197481881,77.19076164878277,90.7725205376821,70.43340478492237,49.960198709805624,48.88950533311647,59.59238069567384,94.85212935873608,85.41905365423634,87.15816944054356,72.57276233613361,76.31917455346209,76.3862197146406,49.492911783723095,85.48812801758193,57.788248950355175,57.71917458700959,51.095908045506214,59.594409897840904,59.726471018030864,50.8927433598036,39.18419057956853,72.30458169141954,66.15063127816576,52.56684318709938,60.12874198510195,86.556792192104,68.35906319272259,81.00218982512271,58.45464215780617,64.07426048379891,66.35379596386838,91.51001731064575,68.49315351507961,80.93717386611127,76.38824891680768,93.3141490559644,62.13603841612322,81.80673175926488,98.66761593941015,66.41881192287983,65.74836031109469,71.57114332279004,75.31755554011853,88.96635959019636,46.477908732857045,62.07102245711178,44.53968666518136,37.512119954439825,69.9620594545057,65.68131514991617,67.95476302348443,65.54925402972621,74.04572667989383,72.37162685259806,89.56976604080299,77.9912451785908,49.824079185281526,42.33125475062454,98.66761593941015,69.42772736724467,48.01994743996286,67.08723433249789,73.8445911963583,94.85415856090316,60.461938588827444,64.0072153226204,79.66534500588658,53.0341301131819,50.695666280602204,89.5006916774574,54.50709445694214,59.525335534495326,95.12031000345014,77.99327438075787,71.43502379826595,73.97868151871532,75.58370698266552,74.37892328361933,70.89866250883783,60.79513519255295,62.402189858670205,63.87312500026337,56.1141491230594,61.66875149004069,67.08723433249789,74.98232973422596,98.66761593941015,76.58532599600908,23.32898381710095,52.96911415417046,75.58370698266552,79.99854160961208,58.655777641341714,27.944953927583054,76.98962616524723,56.24823944541643,87.8286210523287,71.30296267807599,83.21265094184659,55.843939276178276,62.8715059869198,61.73376744905214,59.66145505901942,57.98735523172365,89.43567571844596,75.31552633795145,91.44094294730016,66.55087304306979,43.466964086325135,77.7941680993894,81.07329339063536,71.56911412062297,58.31852263328207,62.001948093766195,50.49453079706666,95.45756501150979,57.25188766092707,96.3941680658419,69.02748560234065,47.88585711760583,55.51074267245278,49.55589854056747,63.27377695399089,60.33190667080456,72.57276233613361,86.28861154738995,83.14560578066808,72.90798814202617,78.25942582330485,90.37024957061101,75.78687166836812,73.24321394791875,50.29136611136405,86.22156638621144,79.53125468352955,77.79213889722233,64.41151549185855,79.06193855527995,68.35703399055551,61.199435361791096,51.8313756163028,77.45691309132975,54.70822994047768,78.32647098448336,85.08585705051084,68.7593049576266,77.72509373604382,65.74836031109469,66.75403772877239,65.28107338501216,57.91828086837806,86.35768591073553,75.91893278855808,65.54925402972621,69.02545640017358,67.82270190329447,63.20876099497944,58.38759699662766,71.43502379826595,83.61289270675061,73.0420784643832,71.70523364514706,74.44596844479784,55.711878155988316,76.52031003699764,81.87174771827632,75.58370698266552,62.13400921395615,76.78849068171169,80.33376741550464,74.51504280814343,60.19578714628046,70.76660138864787,66.55087304306979,54.50912365910921,38.247587525236405,64.81175725676256,97.86510320743507,74.78322345285748,77.05667132642574,56.71552637149895,89.36863055726744,51.76433045512428,74.91528457304744,72.57276233613361,76.12006827209362,61.13036099844551,87.49339524643612,80.66899322139722,70.23024009921976,75.71576810285548,65.07993790147661,80.00057081177914,65.41313450520212,83.34674126420362,63.005596309276825,61.80081261023065,70.4313755827553,33.7677369392784,58.523716521151755,86.29064074955701,58.787838761531674,83.7490122312747,83.81402819028615,99.06988690648124,80.13466113413617,68.42407915173403,91.97527503456121,76.78849068171169,95.18938436679572,75.11642005658298,73.31228831126433,70.4313755827553,57.7862197481881,88.09477249487568,47.148360344642185,42.264209589446025,73.57843975381131,73.4423202292872,51.1649824088518,89.90093344236142,38.92006833918862,75.516661821487,45.610380041870506,88.02975653586424,46.54698309620263,56.71552637149895,56.717555573666026,78.99895179843557,64.20835080615593,70.76863059081494,59.12509376959131,72.57479153830067,54.70620073831061,82.94447029713254,71.16684315355188,54.03980753085961,77.6580485748653,73.71050087400127,63.407867276347915,58.38759699662766,83.34674126420362,68.22497287036556,70.83364654982638,76.25415859445064,88.29590797841122,54.24094301439516,93.44823937832143,56.84961669385598,67.22132465485493,57.585084264652565,75.58370698266552,69.82796913214868,56.38030056560638,79.93352565060063,61.06534503943407,61.86785777140916,71.23591751689747,72.97300410103762,62.00397729593326,69.89704349549426,58.92395828605577,47.28245066699921,72.23956573240811,65.07790869930955,76.05099390874804,64.1433348471445,56.447345726784896,70.69955622746936,42.396270709635985,77.6580485748653,84.75266044678534,54.37300413458511,88.29590797841122,83.54584754557209,57.585084264652565,80.8051127459213,48.751356606425304,77.6580485748653,35.70392980478702,64.27742516950153,63.2047025906453,60.126712782934874,64.67766693440554,72.57276233613361,83.48083158656065,50.35841127254256,66.34973755953423,69.09453076351916,82.20697352416889,59.66145505901942,53.83867204732407,71.70320444298,78.86283227391148,92.71277180752486,83.94811851264318,74.91528457304744,79.73239016706509,72.43867201377657,43.735144731039185,75.11844925875006,53.371385121241545,31.293153582174604,45.87653148441749,62.402189858670205,83.34674126420362,78.59465162919743,85.68926350111747,57.11576813640297,68.49112431291255,70.29728526039827,89.23251103274335,88.83226926783934,88.36295313958973,50.82772740079216,85.08382784834377,56.38030056560638,65.74836031109469,66.28269239835572,67.82270190329447,84.01313447165462,53.974791571848165,59.12509376959131,84.34836027754719,59.326229253126854,80.80308354375424,49.557927742734535,62.80446082574129,63.676047921061965,80.66899322139722,56.1141491230594,75.38257149912997,50.15727578900702,57.453023144462605,41.59172877549382,75.91893278855808,62.40016065650314,84.48447980207129,84.5515249632498,53.706610927134115,70.23024009921976,74.44799764696492,66.35176676170131,66.6179182042483,84.28334431853574,67.08926353466497,62.93855114809831,96.19303258230636,67.55655046074749,77.1887324466157,48.219053721331335,73.04410766655027,60.461938588827444,84.81767640579679,40.79124524568579,70.0981789790298,92.44662036497787,81.1383093496468,52.43478206690942,42.26623879161309,73.37730427027577,49.89112434646004,57.117797338570035,70.96773687218341,83.01151545831105,89.1674950737319,59.79148697704231,64.14536404931157,81.07126418846829,59.79351617920938,70.23024009921976,74.31187812244082,63.005596309276825,69.16157592469767,71.50206895944446,45.610380041870506,50.025214668817064,74.17778780008379,98.73466110058868,69.8950142933272,64.34447033068004,49.55589854056747,84.21629915735723,90.70547537650359,64.94381837695252,74.04775588206091,60.864209555898526,32.82910468277921,28.41427005583265,76.11803906992655,53.90774641066965,76.25212939228358,83.21265094184659,76.78849068171169,46.07563776578596,98.73466110058868,82.00583804063335,76.85756504505727,47.61767647289178,82.81037997477551,73.57641055164424,63.47491243752643,41.528742018649446,82.13992836299037,59.45829037331681,60.05966762175636,59.056019406245724,68.96044044116213,99.20397722883827,58.9219290838887,74.77916504852335,94.85415856090316,69.02748560234065,50.82569819862509,65.4822088685477,63.33879291300232,69.36271140823322,63.74309308224048,55.57981703579836,60.32987746863749,42.19716442826751,54.50709445694214,72.63980749731212,56.382329767773456,69.42772736724467,73.77754603517978,86.89404720016364,62.5383093831943,56.717555573666026,56.98370701621301,80.40284177885023,67.69064078310451,65.4822088685477,89.29955619392186,66.08561531915433,60.99829987825556,66.41678272071276,59.59238069567384,81.1383093496468,56.447345726784896,48.954521292127914,72.9059589398591,73.51342379479986,75.9859779497366,73.10912362556171,51.43113385139878,67.62156641975893,57.052781379558596,85.95541494366445,98.66761593941015,60.86218035373146,79.73239016706509,56.9166618550345,52.63388834827789,99.20397722883827,74.37892328361933,57.052781379558596,68.55816947409106,66.95314401014086,62.06899325494471,74.58005876715488,82.54219933006146,98.46648045587462,71.50409816161152,49.22270193684197,63.00356710710976,61.46558680433808,79.93149644843356,60.931254717077046,63.87515420243044,40.92736477020989,93.91755550657103,21.85399027117365,77.32485197113981,83.74698302910764,85.55314397659336,74.04572667989383,50.42748563588815,56.7805423305104,74.51504280814343,43.93628021457473,83.8790441492976,80.46988694002874,79.99854160961208,73.7084716718342,70.4313755827553,62.06899325494471,97.46283224036398,54.50912365910921,69.29363704488763,76.45326487581912,84.54949576108274],\"type\":\"scatter\"}],                        {\"template\":{\"data\":{\"histogram2dcontour\":[{\"type\":\"histogram2dcontour\",\"colorbar\":{\"outlinewidth\":0,\"ticks\":\"\"},\"colorscale\":[[0.0,\"#0d0887\"],[0.1111111111111111,\"#46039f\"],[0.2222222222222222,\"#7201a8\"],[0.3333333333333333,\"#9c179e\"],[0.4444444444444444,\"#bd3786\"],[0.5555555555555556,\"#d8576b\"],[0.6666666666666666,\"#ed7953\"],[0.7777777777777778,\"#fb9f3a\"],[0.8888888888888888,\"#fdca26\"],[1.0,\"#f0f921\"]]}],\"choropleth\":[{\"type\":\"choropleth\",\"colorbar\":{\"outlinewidth\":0,\"ticks\":\"\"}}],\"histogram2d\":[{\"type\":\"histogram2d\",\"colorbar\":{\"outlinewidth\":0,\"ticks\":\"\"},\"colorscale\":[[0.0,\"#0d0887\"],[0.1111111111111111,\"#46039f\"],[0.2222222222222222,\"#7201a8\"],[0.3333333333333333,\"#9c179e\"],[0.4444444444444444,\"#bd3786\"],[0.5555555555555556,\"#d8576b\"],[0.6666666666666666,\"#ed7953\"],[0.7777777777777778,\"#fb9f3a\"],[0.8888888888888888,\"#fdca26\"],[1.0,\"#f0f921\"]]}],\"heatmap\":[{\"type\":\"heatmap\",\"colorbar\":{\"outlinewidth\":0,\"ticks\":\"\"},\"colorscale\":[[0.0,\"#0d0887\"],[0.1111111111111111,\"#46039f\"],[0.2222222222222222,\"#7201a8\"],[0.3333333333333333,\"#9c179e\"],[0.4444444444444444,\"#bd3786\"],[0.5555555555555556,\"#d8576b\"],[0.6666666666666666,\"#ed7953\"],[0.7777777777777778,\"#fb9f3a\"],[0.8888888888888888,\"#fdca26\"],[1.0,\"#f0f921\"]]}],\"heatmapgl\":[{\"type\":\"heatmapgl\",\"colorbar\":{\"outlinewidth\":0,\"ticks\":\"\"},\"colorscale\":[[0.0,\"#0d0887\"],[0.1111111111111111,\"#46039f\"],[0.2222222222222222,\"#7201a8\"],[0.3333333333333333,\"#9c179e\"],[0.4444444444444444,\"#bd3786\"],[0.5555555555555556,\"#d8576b\"],[0.6666666666666666,\"#ed7953\"],[0.7777777777777778,\"#fb9f3a\"],[0.8888888888888888,\"#fdca26\"],[1.0,\"#f0f921\"]]}],\"contourcarpet\":[{\"type\":\"contourcarpet\",\"colorbar\":{\"outlinewidth\":0,\"ticks\":\"\"}}],\"contour\":[{\"type\":\"contour\",\"colorbar\":{\"outlinewidth\":0,\"ticks\":\"\"},\"colorscale\":[[0.0,\"#0d0887\"],[0.1111111111111111,\"#46039f\"],[0.2222222222222222,\"#7201a8\"],[0.3333333333333333,\"#9c179e\"],[0.4444444444444444,\"#bd3786\"],[0.5555555555555556,\"#d8576b\"],[0.6666666666666666,\"#ed7953\"],[0.7777777777777778,\"#fb9f3a\"],[0.8888888888888888,\"#fdca26\"],[1.0,\"#f0f921\"]]}],\"surface\":[{\"type\":\"surface\",\"colorbar\":{\"outlinewidth\":0,\"ticks\":\"\"},\"colorscale\":[[0.0,\"#0d0887\"],[0.1111111111111111,\"#46039f\"],[0.2222222222222222,\"#7201a8\"],[0.3333333333333333,\"#9c179e\"],[0.4444444444444444,\"#bd3786\"],[0.5555555555555556,\"#d8576b\"],[0.6666666666666666,\"#ed7953\"],[0.7777777777777778,\"#fb9f3a\"],[0.8888888888888888,\"#fdca26\"],[1.0,\"#f0f921\"]]}],\"mesh3d\":[{\"type\":\"mesh3d\",\"colorbar\":{\"outlinewidth\":0,\"ticks\":\"\"}}],\"scatter\":[{\"fillpattern\":{\"fillmode\":\"overlay\",\"size\":10,\"solidity\":0.2},\"type\":\"scatter\"}],\"parcoords\":[{\"type\":\"parcoords\",\"line\":{\"colorbar\":{\"outlinewidth\":0,\"ticks\":\"\"}}}],\"scatterpolargl\":[{\"type\":\"scatterpolargl\",\"marker\":{\"colorbar\":{\"outlinewidth\":0,\"ticks\":\"\"}}}],\"bar\":[{\"error_x\":{\"color\":\"#2a3f5f\"},\"error_y\":{\"color\":\"#2a3f5f\"},\"marker\":{\"line\":{\"color\":\"#E5ECF6\",\"width\":0.5},\"pattern\":{\"fillmode\":\"overlay\",\"size\":10,\"solidity\":0.2}},\"type\":\"bar\"}],\"scattergeo\":[{\"type\":\"scattergeo\",\"marker\":{\"colorbar\":{\"outlinewidth\":0,\"ticks\":\"\"}}}],\"scatterpolar\":[{\"type\":\"scatterpolar\",\"marker\":{\"colorbar\":{\"outlinewidth\":0,\"ticks\":\"\"}}}],\"histogram\":[{\"marker\":{\"pattern\":{\"fillmode\":\"overlay\",\"size\":10,\"solidity\":0.2}},\"type\":\"histogram\"}],\"scattergl\":[{\"type\":\"scattergl\",\"marker\":{\"colorbar\":{\"outlinewidth\":0,\"ticks\":\"\"}}}],\"scatter3d\":[{\"type\":\"scatter3d\",\"line\":{\"colorbar\":{\"outlinewidth\":0,\"ticks\":\"\"}},\"marker\":{\"colorbar\":{\"outlinewidth\":0,\"ticks\":\"\"}}}],\"scattermapbox\":[{\"type\":\"scattermapbox\",\"marker\":{\"colorbar\":{\"outlinewidth\":0,\"ticks\":\"\"}}}],\"scatterternary\":[{\"type\":\"scatterternary\",\"marker\":{\"colorbar\":{\"outlinewidth\":0,\"ticks\":\"\"}}}],\"scattercarpet\":[{\"type\":\"scattercarpet\",\"marker\":{\"colorbar\":{\"outlinewidth\":0,\"ticks\":\"\"}}}],\"carpet\":[{\"aaxis\":{\"endlinecolor\":\"#2a3f5f\",\"gridcolor\":\"white\",\"linecolor\":\"white\",\"minorgridcolor\":\"white\",\"startlinecolor\":\"#2a3f5f\"},\"baxis\":{\"endlinecolor\":\"#2a3f5f\",\"gridcolor\":\"white\",\"linecolor\":\"white\",\"minorgridcolor\":\"white\",\"startlinecolor\":\"#2a3f5f\"},\"type\":\"carpet\"}],\"table\":[{\"cells\":{\"fill\":{\"color\":\"#EBF0F8\"},\"line\":{\"color\":\"white\"}},\"header\":{\"fill\":{\"color\":\"#C8D4E3\"},\"line\":{\"color\":\"white\"}},\"type\":\"table\"}],\"barpolar\":[{\"marker\":{\"line\":{\"color\":\"#E5ECF6\",\"width\":0.5},\"pattern\":{\"fillmode\":\"overlay\",\"size\":10,\"solidity\":0.2}},\"type\":\"barpolar\"}],\"pie\":[{\"automargin\":true,\"type\":\"pie\"}]},\"layout\":{\"autotypenumbers\":\"strict\",\"colorway\":[\"#636efa\",\"#EF553B\",\"#00cc96\",\"#ab63fa\",\"#FFA15A\",\"#19d3f3\",\"#FF6692\",\"#B6E880\",\"#FF97FF\",\"#FECB52\"],\"font\":{\"color\":\"#2a3f5f\"},\"hovermode\":\"closest\",\"hoverlabel\":{\"align\":\"left\"},\"paper_bgcolor\":\"white\",\"plot_bgcolor\":\"#E5ECF6\",\"polar\":{\"bgcolor\":\"#E5ECF6\",\"angularaxis\":{\"gridcolor\":\"white\",\"linecolor\":\"white\",\"ticks\":\"\"},\"radialaxis\":{\"gridcolor\":\"white\",\"linecolor\":\"white\",\"ticks\":\"\"}},\"ternary\":{\"bgcolor\":\"#E5ECF6\",\"aaxis\":{\"gridcolor\":\"white\",\"linecolor\":\"white\",\"ticks\":\"\"},\"baxis\":{\"gridcolor\":\"white\",\"linecolor\":\"white\",\"ticks\":\"\"},\"caxis\":{\"gridcolor\":\"white\",\"linecolor\":\"white\",\"ticks\":\"\"}},\"coloraxis\":{\"colorbar\":{\"outlinewidth\":0,\"ticks\":\"\"}},\"colorscale\":{\"sequential\":[[0.0,\"#0d0887\"],[0.1111111111111111,\"#46039f\"],[0.2222222222222222,\"#7201a8\"],[0.3333333333333333,\"#9c179e\"],[0.4444444444444444,\"#bd3786\"],[0.5555555555555556,\"#d8576b\"],[0.6666666666666666,\"#ed7953\"],[0.7777777777777778,\"#fb9f3a\"],[0.8888888888888888,\"#fdca26\"],[1.0,\"#f0f921\"]],\"sequentialminus\":[[0.0,\"#0d0887\"],[0.1111111111111111,\"#46039f\"],[0.2222222222222222,\"#7201a8\"],[0.3333333333333333,\"#9c179e\"],[0.4444444444444444,\"#bd3786\"],[0.5555555555555556,\"#d8576b\"],[0.6666666666666666,\"#ed7953\"],[0.7777777777777778,\"#fb9f3a\"],[0.8888888888888888,\"#fdca26\"],[1.0,\"#f0f921\"]],\"diverging\":[[0,\"#8e0152\"],[0.1,\"#c51b7d\"],[0.2,\"#de77ae\"],[0.3,\"#f1b6da\"],[0.4,\"#fde0ef\"],[0.5,\"#f7f7f7\"],[0.6,\"#e6f5d0\"],[0.7,\"#b8e186\"],[0.8,\"#7fbc41\"],[0.9,\"#4d9221\"],[1,\"#276419\"]]},\"xaxis\":{\"gridcolor\":\"white\",\"linecolor\":\"white\",\"ticks\":\"\",\"title\":{\"standoff\":15},\"zerolinecolor\":\"white\",\"automargin\":true,\"zerolinewidth\":2},\"yaxis\":{\"gridcolor\":\"white\",\"linecolor\":\"white\",\"ticks\":\"\",\"title\":{\"standoff\":15},\"zerolinecolor\":\"white\",\"automargin\":true,\"zerolinewidth\":2},\"scene\":{\"xaxis\":{\"backgroundcolor\":\"#E5ECF6\",\"gridcolor\":\"white\",\"linecolor\":\"white\",\"showbackground\":true,\"ticks\":\"\",\"zerolinecolor\":\"white\",\"gridwidth\":2},\"yaxis\":{\"backgroundcolor\":\"#E5ECF6\",\"gridcolor\":\"white\",\"linecolor\":\"white\",\"showbackground\":true,\"ticks\":\"\",\"zerolinecolor\":\"white\",\"gridwidth\":2},\"zaxis\":{\"backgroundcolor\":\"#E5ECF6\",\"gridcolor\":\"white\",\"linecolor\":\"white\",\"showbackground\":true,\"ticks\":\"\",\"zerolinecolor\":\"white\",\"gridwidth\":2}},\"shapedefaults\":{\"line\":{\"color\":\"#2a3f5f\"}},\"annotationdefaults\":{\"arrowcolor\":\"#2a3f5f\",\"arrowhead\":0,\"arrowwidth\":1},\"geo\":{\"bgcolor\":\"white\",\"landcolor\":\"#E5ECF6\",\"subunitcolor\":\"white\",\"showland\":true,\"showlakes\":true,\"lakecolor\":\"white\"},\"title\":{\"x\":0.05},\"mapbox\":{\"style\":\"light\"}}},\"xaxis\":{\"anchor\":\"y\",\"domain\":[0.0,1.0],\"title\":{\"text\":\"reading score\"}},\"yaxis\":{\"anchor\":\"x\",\"domain\":[0.0,1.0],\"title\":{\"text\":\"writing score\"}},\"legend\":{\"tracegroupgap\":0},\"margin\":{\"t\":60}},                        {\"responsive\": true}                    ).then(function(){\n",
       "                            \n",
       "var gd = document.getElementById('caf12dbb-305e-430b-bc56-71303c701bf1');\n",
       "var x = new MutationObserver(function (mutations, observer) {{\n",
       "        var display = window.getComputedStyle(gd).display;\n",
       "        if (!display || display === 'none') {{\n",
       "            console.log([gd, 'removed!']);\n",
       "            Plotly.purge(gd);\n",
       "            observer.disconnect();\n",
       "        }}\n",
       "}});\n",
       "\n",
       "// Listen for the removal of the full notebook cells\n",
       "var notebookContainer = gd.closest('#notebook-container');\n",
       "if (notebookContainer) {{\n",
       "    x.observe(notebookContainer, {childList: true});\n",
       "}}\n",
       "\n",
       "// Listen for the clearing of the current output cell\n",
       "var outputEl = gd.closest('.output');\n",
       "if (outputEl) {{\n",
       "    x.observe(outputEl, {childList: true});\n",
       "}}\n",
       "\n",
       "                        })                };                });            </script>        </div>"
      ]
     },
     "metadata": {},
     "output_type": "display_data"
    }
   ],
   "source": [
    "import plotly.express as px\n",
    "from sklearn.linear_model import LinearRegression\n",
    "\n",
    "# Assuming 'df' is your DataFrame\n",
    "# Assuming 'math score' and 'reading score' are your independent variables\n",
    "# Assuming 'writing score' is your dependent variable\n",
    "\n",
    "X = student_data[['math score', 'reading score']]\n",
    "y = student_data['writing score']\n",
    "\n",
    "# Create a Linear Regression object\n",
    "regressor = LinearRegression()\n",
    "\n",
    "# Train the model using the dataset\n",
    "regressor.fit(X, y)\n",
    "\n",
    "# Make predictions using the dataset\n",
    "y_pred = regressor.predict(X)\n",
    "\n",
    "# Create a scatter plot for the actual values and the predicted values\n",
    "fig1 = px.scatter(student_data, x='math score', y='writing score')\n",
    "fig1.add_scatter(x=student_data['math score'], y=y_pred, mode='lines', name='Linear Regression')\n",
    "fig1.show()\n",
    "\n",
    "fig2 = px.scatter(student_data, x='reading score', y='writing score')\n",
    "fig2.add_scatter(x=student_data['reading score'], y=y_pred, mode='lines', name='Linear Regression')\n",
    "fig2.show()"
   ]
  },
  {
   "cell_type": "code",
   "execution_count": 60,
   "id": "bfd4b7d9",
   "metadata": {},
   "outputs": [
    {
     "data": {
      "text/html": [
       "<table class=\"simpletable\">\n",
       "<caption>OLS Regression Results</caption>\n",
       "<tr>\n",
       "  <th>Dep. Variable:</th>       <td>math_score</td>    <th>  R-squared:         </th> <td>   0.028</td>\n",
       "</tr>\n",
       "<tr>\n",
       "  <th>Model:</th>                   <td>OLS</td>       <th>  Adj. R-squared:    </th> <td>   0.027</td>\n",
       "</tr>\n",
       "<tr>\n",
       "  <th>Method:</th>             <td>Least Squares</td>  <th>  F-statistic:       </th> <td>   28.98</td>\n",
       "</tr>\n",
       "<tr>\n",
       "  <th>Date:</th>             <td>Wed, 15 May 2024</td> <th>  Prob (F-statistic):</th> <td>9.12e-08</td>\n",
       "</tr>\n",
       "<tr>\n",
       "  <th>Time:</th>                 <td>17:37:41</td>     <th>  Log-Likelihood:    </th> <td> -4123.0</td>\n",
       "</tr>\n",
       "<tr>\n",
       "  <th>No. Observations:</th>      <td>  1000</td>      <th>  AIC:               </th> <td>   8250.</td>\n",
       "</tr>\n",
       "<tr>\n",
       "  <th>Df Residuals:</th>          <td>   998</td>      <th>  BIC:               </th> <td>   8260.</td>\n",
       "</tr>\n",
       "<tr>\n",
       "  <th>Df Model:</th>              <td>     1</td>      <th>                     </th>     <td> </td>   \n",
       "</tr>\n",
       "<tr>\n",
       "  <th>Covariance Type:</th>      <td>nonrobust</td>    <th>                     </th>     <td> </td>   \n",
       "</tr>\n",
       "</table>\n",
       "<table class=\"simpletable\">\n",
       "<tr>\n",
       "         <td></td>           <th>coef</th>     <th>std err</th>      <th>t</th>      <th>P>|t|</th>  <th>[0.025</th>    <th>0.975]</th>  \n",
       "</tr>\n",
       "<tr>\n",
       "  <th>Intercept</th>      <td>   63.6332</td> <td>    0.657</td> <td>   96.841</td> <td> 0.000</td> <td>   62.344</td> <td>   64.923</td>\n",
       "</tr>\n",
       "<tr>\n",
       "  <th>gender[T.male]</th> <td>    5.0950</td> <td>    0.946</td> <td>    5.383</td> <td> 0.000</td> <td>    3.238</td> <td>    6.952</td>\n",
       "</tr>\n",
       "</table>\n",
       "<table class=\"simpletable\">\n",
       "<tr>\n",
       "  <th>Omnibus:</th>       <td>12.213</td> <th>  Durbin-Watson:     </th> <td>   2.042</td>\n",
       "</tr>\n",
       "<tr>\n",
       "  <th>Prob(Omnibus):</th> <td> 0.002</td> <th>  Jarque-Bera (JB):  </th> <td>  12.353</td>\n",
       "</tr>\n",
       "<tr>\n",
       "  <th>Skew:</th>          <td>-0.252</td> <th>  Prob(JB):          </th> <td> 0.00208</td>\n",
       "</tr>\n",
       "<tr>\n",
       "  <th>Kurtosis:</th>      <td> 3.204</td> <th>  Cond. No.          </th> <td>    2.58</td>\n",
       "</tr>\n",
       "</table><br/><br/>Notes:<br/>[1] Standard Errors assume that the covariance matrix of the errors is correctly specified."
      ],
      "text/latex": [
       "\\begin{center}\n",
       "\\begin{tabular}{lclc}\n",
       "\\toprule\n",
       "\\textbf{Dep. Variable:}    &   math\\_score    & \\textbf{  R-squared:         } &     0.028   \\\\\n",
       "\\textbf{Model:}            &       OLS        & \\textbf{  Adj. R-squared:    } &     0.027   \\\\\n",
       "\\textbf{Method:}           &  Least Squares   & \\textbf{  F-statistic:       } &     28.98   \\\\\n",
       "\\textbf{Date:}             & Wed, 15 May 2024 & \\textbf{  Prob (F-statistic):} &  9.12e-08   \\\\\n",
       "\\textbf{Time:}             &     17:37:41     & \\textbf{  Log-Likelihood:    } &   -4123.0   \\\\\n",
       "\\textbf{No. Observations:} &        1000      & \\textbf{  AIC:               } &     8250.   \\\\\n",
       "\\textbf{Df Residuals:}     &         998      & \\textbf{  BIC:               } &     8260.   \\\\\n",
       "\\textbf{Df Model:}         &           1      & \\textbf{                     } &             \\\\\n",
       "\\textbf{Covariance Type:}  &    nonrobust     & \\textbf{                     } &             \\\\\n",
       "\\bottomrule\n",
       "\\end{tabular}\n",
       "\\begin{tabular}{lcccccc}\n",
       "                        & \\textbf{coef} & \\textbf{std err} & \\textbf{t} & \\textbf{P$> |$t$|$} & \\textbf{[0.025} & \\textbf{0.975]}  \\\\\n",
       "\\midrule\n",
       "\\textbf{Intercept}      &      63.6332  &        0.657     &    96.841  &         0.000        &       62.344    &       64.923     \\\\\n",
       "\\textbf{gender[T.male]} &       5.0950  &        0.946     &     5.383  &         0.000        &        3.238    &        6.952     \\\\\n",
       "\\bottomrule\n",
       "\\end{tabular}\n",
       "\\begin{tabular}{lclc}\n",
       "\\textbf{Omnibus:}       & 12.213 & \\textbf{  Durbin-Watson:     } &    2.042  \\\\\n",
       "\\textbf{Prob(Omnibus):} &  0.002 & \\textbf{  Jarque-Bera (JB):  } &   12.353  \\\\\n",
       "\\textbf{Skew:}          & -0.252 & \\textbf{  Prob(JB):          } &  0.00208  \\\\\n",
       "\\textbf{Kurtosis:}      &  3.204 & \\textbf{  Cond. No.          } &     2.58  \\\\\n",
       "\\bottomrule\n",
       "\\end{tabular}\n",
       "%\\caption{OLS Regression Results}\n",
       "\\end{center}\n",
       "\n",
       "Notes: \\newline\n",
       " [1] Standard Errors assume that the covariance matrix of the errors is correctly specified."
      ],
      "text/plain": [
       "<class 'statsmodels.iolib.summary.Summary'>\n",
       "\"\"\"\n",
       "                            OLS Regression Results                            \n",
       "==============================================================================\n",
       "Dep. Variable:             math_score   R-squared:                       0.028\n",
       "Model:                            OLS   Adj. R-squared:                  0.027\n",
       "Method:                 Least Squares   F-statistic:                     28.98\n",
       "Date:                Wed, 15 May 2024   Prob (F-statistic):           9.12e-08\n",
       "Time:                        17:37:41   Log-Likelihood:                -4123.0\n",
       "No. Observations:                1000   AIC:                             8250.\n",
       "Df Residuals:                     998   BIC:                             8260.\n",
       "Df Model:                           1                                         \n",
       "Covariance Type:            nonrobust                                         \n",
       "==================================================================================\n",
       "                     coef    std err          t      P>|t|      [0.025      0.975]\n",
       "----------------------------------------------------------------------------------\n",
       "Intercept         63.6332      0.657     96.841      0.000      62.344      64.923\n",
       "gender[T.male]     5.0950      0.946      5.383      0.000       3.238       6.952\n",
       "==============================================================================\n",
       "Omnibus:                       12.213   Durbin-Watson:                   2.042\n",
       "Prob(Omnibus):                  0.002   Jarque-Bera (JB):               12.353\n",
       "Skew:                          -0.252   Prob(JB):                      0.00208\n",
       "Kurtosis:                       3.204   Cond. No.                         2.58\n",
       "==============================================================================\n",
       "\n",
       "Notes:\n",
       "[1] Standard Errors assume that the covariance matrix of the errors is correctly specified.\n",
       "\"\"\""
      ]
     },
     "execution_count": 60,
     "metadata": {},
     "output_type": "execute_result"
    }
   ],
   "source": [
    "# Another way to do linear regression ( is easier sometimes because you can change the variable easily)\n",
    "#Build a model\n",
    "# Linear model\n",
    "# Math Score ~ gender \n",
    "\n",
    "#create a new column because of the space in the column name\n",
    "student_data['math_score'] = student_data['math score']\n",
    "\n",
    "from statsmodels.formula.api import ols\n",
    "a_model = ols('math_score ~ gender', data = student_data)\n",
    "fitted_model = a_model.fit()\n",
    "fitted_model.summary()"
   ]
  },
  {
   "cell_type": "code",
   "execution_count": 64,
   "id": "f30cdbfc",
   "metadata": {},
   "outputs": [
    {
     "data": {
      "application/vnd.plotly.v1+json": {
       "config": {
        "plotlyServerURL": "https://plot.ly"
       },
       "data": [
        {
         "alignmentgroup": "True",
         "hovertemplate": "gender=%{x}<br>math score=%{y}<extra></extra>",
         "legendgroup": "female",
         "marker": {
          "color": "#636efa"
         },
         "name": "female",
         "notched": false,
         "offsetgroup": "female",
         "orientation": "v",
         "showlegend": true,
         "type": "box",
         "x": [
          "female",
          "female",
          "female",
          "female",
          "female",
          "female",
          "female",
          "female",
          "female",
          "female",
          "female",
          "female",
          "female",
          "female",
          "female",
          "female",
          "female",
          "female",
          "female",
          "female",
          "female",
          "female",
          "female",
          "female",
          "female",
          "female",
          "female",
          "female",
          "female",
          "female",
          "female",
          "female",
          "female",
          "female",
          "female",
          "female",
          "female",
          "female",
          "female",
          "female",
          "female",
          "female",
          "female",
          "female",
          "female",
          "female",
          "female",
          "female",
          "female",
          "female",
          "female",
          "female",
          "female",
          "female",
          "female",
          "female",
          "female",
          "female",
          "female",
          "female",
          "female",
          "female",
          "female",
          "female",
          "female",
          "female",
          "female",
          "female",
          "female",
          "female",
          "female",
          "female",
          "female",
          "female",
          "female",
          "female",
          "female",
          "female",
          "female",
          "female",
          "female",
          "female",
          "female",
          "female",
          "female",
          "female",
          "female",
          "female",
          "female",
          "female",
          "female",
          "female",
          "female",
          "female",
          "female",
          "female",
          "female",
          "female",
          "female",
          "female",
          "female",
          "female",
          "female",
          "female",
          "female",
          "female",
          "female",
          "female",
          "female",
          "female",
          "female",
          "female",
          "female",
          "female",
          "female",
          "female",
          "female",
          "female",
          "female",
          "female",
          "female",
          "female",
          "female",
          "female",
          "female",
          "female",
          "female",
          "female",
          "female",
          "female",
          "female",
          "female",
          "female",
          "female",
          "female",
          "female",
          "female",
          "female",
          "female",
          "female",
          "female",
          "female",
          "female",
          "female",
          "female",
          "female",
          "female",
          "female",
          "female",
          "female",
          "female",
          "female",
          "female",
          "female",
          "female",
          "female",
          "female",
          "female",
          "female",
          "female",
          "female",
          "female",
          "female",
          "female",
          "female",
          "female",
          "female",
          "female",
          "female",
          "female",
          "female",
          "female",
          "female",
          "female",
          "female",
          "female",
          "female",
          "female",
          "female",
          "female",
          "female",
          "female",
          "female",
          "female",
          "female",
          "female",
          "female",
          "female",
          "female",
          "female",
          "female",
          "female",
          "female",
          "female",
          "female",
          "female",
          "female",
          "female",
          "female",
          "female",
          "female",
          "female",
          "female",
          "female",
          "female",
          "female",
          "female",
          "female",
          "female",
          "female",
          "female",
          "female",
          "female",
          "female",
          "female",
          "female",
          "female",
          "female",
          "female",
          "female",
          "female",
          "female",
          "female",
          "female",
          "female",
          "female",
          "female",
          "female",
          "female",
          "female",
          "female",
          "female",
          "female",
          "female",
          "female",
          "female",
          "female",
          "female",
          "female",
          "female",
          "female",
          "female",
          "female",
          "female",
          "female",
          "female",
          "female",
          "female",
          "female",
          "female",
          "female",
          "female",
          "female",
          "female",
          "female",
          "female",
          "female",
          "female",
          "female",
          "female",
          "female",
          "female",
          "female",
          "female",
          "female",
          "female",
          "female",
          "female",
          "female",
          "female",
          "female",
          "female",
          "female",
          "female",
          "female",
          "female",
          "female",
          "female",
          "female",
          "female",
          "female",
          "female",
          "female",
          "female",
          "female",
          "female",
          "female",
          "female",
          "female",
          "female",
          "female",
          "female",
          "female",
          "female",
          "female",
          "female",
          "female",
          "female",
          "female",
          "female",
          "female",
          "female",
          "female",
          "female",
          "female",
          "female",
          "female",
          "female",
          "female",
          "female",
          "female",
          "female",
          "female",
          "female",
          "female",
          "female",
          "female",
          "female",
          "female",
          "female",
          "female",
          "female",
          "female",
          "female",
          "female",
          "female",
          "female",
          "female",
          "female",
          "female",
          "female",
          "female",
          "female",
          "female",
          "female",
          "female",
          "female",
          "female",
          "female",
          "female",
          "female",
          "female",
          "female",
          "female",
          "female",
          "female",
          "female",
          "female",
          "female",
          "female",
          "female",
          "female",
          "female",
          "female",
          "female",
          "female",
          "female",
          "female",
          "female",
          "female",
          "female",
          "female",
          "female",
          "female",
          "female",
          "female",
          "female",
          "female",
          "female",
          "female",
          "female",
          "female",
          "female",
          "female",
          "female",
          "female",
          "female",
          "female",
          "female",
          "female",
          "female",
          "female",
          "female",
          "female",
          "female",
          "female",
          "female",
          "female",
          "female",
          "female",
          "female",
          "female",
          "female",
          "female",
          "female",
          "female",
          "female",
          "female",
          "female",
          "female",
          "female",
          "female",
          "female",
          "female",
          "female",
          "female",
          "female",
          "female",
          "female",
          "female",
          "female",
          "female",
          "female",
          "female",
          "female",
          "female",
          "female",
          "female",
          "female",
          "female",
          "female",
          "female",
          "female",
          "female",
          "female",
          "female",
          "female",
          "female",
          "female",
          "female",
          "female",
          "female",
          "female",
          "female",
          "female",
          "female",
          "female",
          "female",
          "female",
          "female",
          "female",
          "female",
          "female",
          "female",
          "female",
          "female",
          "female",
          "female",
          "female",
          "female",
          "female",
          "female",
          "female",
          "female",
          "female",
          "female",
          "female",
          "female",
          "female",
          "female",
          "female",
          "female",
          "female",
          "female",
          "female",
          "female",
          "female",
          "female",
          "female",
          "female",
          "female",
          "female",
          "female",
          "female",
          "female",
          "female",
          "female",
          "female",
          "female",
          "female",
          "female",
          "female",
          "female",
          "female",
          "female",
          "female",
          "female",
          "female",
          "female",
          "female",
          "female",
          "female",
          "female",
          "female",
          "female",
          "female",
          "female",
          "female",
          "female",
          "female",
          "female",
          "female",
          "female",
          "female",
          "female",
          "female",
          "female",
          "female",
          "female",
          "female",
          "female",
          "female",
          "female",
          "female",
          "female",
          "female",
          "female",
          "female"
         ],
         "x0": " ",
         "xaxis": "x",
         "y": [
          72,
          69,
          90,
          71,
          88,
          38,
          65,
          50,
          69,
          18,
          54,
          65,
          69,
          67,
          62,
          69,
          63,
          56,
          74,
          50,
          75,
          58,
          53,
          50,
          55,
          66,
          57,
          71,
          33,
          82,
          0,
          69,
          59,
          60,
          39,
          58,
          41,
          61,
          62,
          47,
          73,
          76,
          71,
          58,
          73,
          65,
          79,
          63,
          58,
          65,
          85,
          58,
          87,
          52,
          70,
          77,
          51,
          99,
          75,
          78,
          51,
          55,
          79,
          88,
          87,
          51,
          75,
          59,
          76,
          59,
          42,
          22,
          68,
          59,
          70,
          66,
          61,
          75,
          81,
          96,
          58,
          68,
          67,
          79,
          63,
          43,
          81,
          46,
          71,
          52,
          97,
          46,
          50,
          65,
          77,
          66,
          62,
          69,
          45,
          78,
          67,
          65,
          57,
          74,
          58,
          42,
          83,
          34,
          56,
          55,
          52,
          45,
          72,
          88,
          67,
          64,
          80,
          56,
          58,
          65,
          71,
          60,
          62,
          64,
          70,
          65,
          64,
          44,
          99,
          63,
          69,
          88,
          71,
          47,
          65,
          85,
          59,
          65,
          73,
          70,
          37,
          67,
          65,
          67,
          74,
          53,
          49,
          73,
          68,
          59,
          77,
          56,
          67,
          75,
          71,
          43,
          41,
          82,
          41,
          83,
          61,
          24,
          35,
          61,
          69,
          72,
          77,
          52,
          63,
          46,
          59,
          61,
          42,
          80,
          58,
          52,
          27,
          44,
          73,
          45,
          82,
          59,
          80,
          85,
          71,
          80,
          38,
          38,
          67,
          64,
          57,
          62,
          77,
          65,
          50,
          85,
          59,
          49,
          88,
          54,
          63,
          82,
          52,
          70,
          51,
          82,
          57,
          47,
          59,
          62,
          61,
          47,
          67,
          78,
          59,
          73,
          67,
          64,
          100,
          65,
          53,
          79,
          100,
          71,
          77,
          84,
          26,
          77,
          83,
          63,
          68,
          59,
          90,
          71,
          55,
          52,
          49,
          60,
          65,
          64,
          83,
          81,
          54,
          54,
          59,
          66,
          74,
          94,
          95,
          40,
          82,
          86,
          54,
          77,
          76,
          74,
          66,
          66,
          67,
          91,
          36,
          29,
          62,
          68,
          47,
          79,
          66,
          51,
          81,
          82,
          64,
          92,
          62,
          40,
          32,
          55,
          53,
          74,
          63,
          63,
          92,
          61,
          53,
          50,
          74,
          81,
          48,
          53,
          81,
          77,
          63,
          73,
          69,
          65,
          55,
          44,
          54,
          48,
          74,
          92,
          56,
          69,
          65,
          54,
          29,
          76,
          85,
          40,
          61,
          58,
          58,
          65,
          82,
          60,
          37,
          35,
          61,
          44,
          66,
          75,
          67,
          80,
          76,
          74,
          72,
          74,
          65,
          59,
          64,
          50,
          69,
          68,
          85,
          65,
          73,
          62,
          43,
          55,
          65,
          50,
          63,
          77,
          66,
          69,
          65,
          69,
          50,
          73,
          70,
          67,
          29,
          94,
          49,
          73,
          66,
          77,
          49,
          79,
          75,
          59,
          57,
          79,
          57,
          63,
          59,
          42,
          80,
          98,
          60,
          76,
          96,
          76,
          62,
          74,
          65,
          73,
          68,
          87,
          53,
          53,
          37,
          81,
          59,
          50,
          77,
          84,
          52,
          53,
          48,
          62,
          74,
          58,
          68,
          52,
          62,
          49,
          66,
          35,
          72,
          46,
          77,
          76,
          52,
          32,
          72,
          19,
          52,
          48,
          60,
          42,
          57,
          70,
          52,
          87,
          82,
          73,
          64,
          41,
          54,
          72,
          45,
          60,
          77,
          85,
          78,
          71,
          48,
          56,
          65,
          69,
          61,
          74,
          77,
          60,
          75,
          66,
          39,
          23,
          40,
          59,
          61,
          87,
          97,
          65,
          53,
          81,
          71,
          70,
          43,
          59,
          64,
          71,
          64,
          51,
          62,
          93,
          69,
          86,
          85,
          50,
          59,
          32,
          63,
          65,
          73,
          34,
          93,
          67,
          79,
          67,
          69,
          52,
          47,
          46,
          68,
          44,
          57,
          35,
          54,
          65,
          48,
          57,
          78,
          58,
          54,
          49,
          57,
          75,
          74,
          62,
          92,
          45,
          56,
          48,
          100,
          65,
          62,
          68,
          75,
          89,
          53,
          49,
          54,
          64,
          91,
          8,
          78,
          74,
          40,
          44,
          67,
          65,
          55,
          62,
          88,
          59,
          68,
          77
         ],
         "y0": " ",
         "yaxis": "y"
        },
        {
         "alignmentgroup": "True",
         "hovertemplate": "gender=%{x}<br>math score=%{y}<extra></extra>",
         "legendgroup": "male",
         "marker": {
          "color": "#EF553B"
         },
         "name": "male",
         "notched": false,
         "offsetgroup": "male",
         "orientation": "v",
         "showlegend": true,
         "type": "box",
         "x": [
          "male",
          "male",
          "male",
          "male",
          "male",
          "male",
          "male",
          "male",
          "male",
          "male",
          "male",
          "male",
          "male",
          "male",
          "male",
          "male",
          "male",
          "male",
          "male",
          "male",
          "male",
          "male",
          "male",
          "male",
          "male",
          "male",
          "male",
          "male",
          "male",
          "male",
          "male",
          "male",
          "male",
          "male",
          "male",
          "male",
          "male",
          "male",
          "male",
          "male",
          "male",
          "male",
          "male",
          "male",
          "male",
          "male",
          "male",
          "male",
          "male",
          "male",
          "male",
          "male",
          "male",
          "male",
          "male",
          "male",
          "male",
          "male",
          "male",
          "male",
          "male",
          "male",
          "male",
          "male",
          "male",
          "male",
          "male",
          "male",
          "male",
          "male",
          "male",
          "male",
          "male",
          "male",
          "male",
          "male",
          "male",
          "male",
          "male",
          "male",
          "male",
          "male",
          "male",
          "male",
          "male",
          "male",
          "male",
          "male",
          "male",
          "male",
          "male",
          "male",
          "male",
          "male",
          "male",
          "male",
          "male",
          "male",
          "male",
          "male",
          "male",
          "male",
          "male",
          "male",
          "male",
          "male",
          "male",
          "male",
          "male",
          "male",
          "male",
          "male",
          "male",
          "male",
          "male",
          "male",
          "male",
          "male",
          "male",
          "male",
          "male",
          "male",
          "male",
          "male",
          "male",
          "male",
          "male",
          "male",
          "male",
          "male",
          "male",
          "male",
          "male",
          "male",
          "male",
          "male",
          "male",
          "male",
          "male",
          "male",
          "male",
          "male",
          "male",
          "male",
          "male",
          "male",
          "male",
          "male",
          "male",
          "male",
          "male",
          "male",
          "male",
          "male",
          "male",
          "male",
          "male",
          "male",
          "male",
          "male",
          "male",
          "male",
          "male",
          "male",
          "male",
          "male",
          "male",
          "male",
          "male",
          "male",
          "male",
          "male",
          "male",
          "male",
          "male",
          "male",
          "male",
          "male",
          "male",
          "male",
          "male",
          "male",
          "male",
          "male",
          "male",
          "male",
          "male",
          "male",
          "male",
          "male",
          "male",
          "male",
          "male",
          "male",
          "male",
          "male",
          "male",
          "male",
          "male",
          "male",
          "male",
          "male",
          "male",
          "male",
          "male",
          "male",
          "male",
          "male",
          "male",
          "male",
          "male",
          "male",
          "male",
          "male",
          "male",
          "male",
          "male",
          "male",
          "male",
          "male",
          "male",
          "male",
          "male",
          "male",
          "male",
          "male",
          "male",
          "male",
          "male",
          "male",
          "male",
          "male",
          "male",
          "male",
          "male",
          "male",
          "male",
          "male",
          "male",
          "male",
          "male",
          "male",
          "male",
          "male",
          "male",
          "male",
          "male",
          "male",
          "male",
          "male",
          "male",
          "male",
          "male",
          "male",
          "male",
          "male",
          "male",
          "male",
          "male",
          "male",
          "male",
          "male",
          "male",
          "male",
          "male",
          "male",
          "male",
          "male",
          "male",
          "male",
          "male",
          "male",
          "male",
          "male",
          "male",
          "male",
          "male",
          "male",
          "male",
          "male",
          "male",
          "male",
          "male",
          "male",
          "male",
          "male",
          "male",
          "male",
          "male",
          "male",
          "male",
          "male",
          "male",
          "male",
          "male",
          "male",
          "male",
          "male",
          "male",
          "male",
          "male",
          "male",
          "male",
          "male",
          "male",
          "male",
          "male",
          "male",
          "male",
          "male",
          "male",
          "male",
          "male",
          "male",
          "male",
          "male",
          "male",
          "male",
          "male",
          "male",
          "male",
          "male",
          "male",
          "male",
          "male",
          "male",
          "male",
          "male",
          "male",
          "male",
          "male",
          "male",
          "male",
          "male",
          "male",
          "male",
          "male",
          "male",
          "male",
          "male",
          "male",
          "male",
          "male",
          "male",
          "male",
          "male",
          "male",
          "male",
          "male",
          "male",
          "male",
          "male",
          "male",
          "male",
          "male",
          "male",
          "male",
          "male",
          "male",
          "male",
          "male",
          "male",
          "male",
          "male",
          "male",
          "male",
          "male",
          "male",
          "male",
          "male",
          "male",
          "male",
          "male",
          "male",
          "male",
          "male",
          "male",
          "male",
          "male",
          "male",
          "male",
          "male",
          "male",
          "male",
          "male",
          "male",
          "male",
          "male",
          "male",
          "male",
          "male",
          "male",
          "male",
          "male",
          "male",
          "male",
          "male",
          "male",
          "male",
          "male",
          "male",
          "male",
          "male",
          "male",
          "male",
          "male",
          "male",
          "male",
          "male",
          "male",
          "male",
          "male",
          "male",
          "male",
          "male",
          "male",
          "male",
          "male",
          "male",
          "male",
          "male",
          "male",
          "male",
          "male",
          "male",
          "male",
          "male",
          "male",
          "male",
          "male",
          "male",
          "male",
          "male",
          "male",
          "male",
          "male",
          "male",
          "male",
          "male",
          "male",
          "male",
          "male",
          "male",
          "male",
          "male",
          "male",
          "male",
          "male",
          "male",
          "male",
          "male",
          "male",
          "male",
          "male",
          "male",
          "male",
          "male",
          "male",
          "male",
          "male",
          "male",
          "male",
          "male",
          "male",
          "male",
          "male",
          "male",
          "male",
          "male",
          "male",
          "male",
          "male",
          "male",
          "male",
          "male",
          "male",
          "male",
          "male",
          "male",
          "male",
          "male",
          "male"
         ],
         "x0": " ",
         "xaxis": "x",
         "y": [
          47,
          76,
          40,
          64,
          58,
          40,
          78,
          88,
          46,
          66,
          44,
          74,
          73,
          69,
          70,
          40,
          97,
          81,
          57,
          55,
          59,
          65,
          82,
          53,
          77,
          53,
          88,
          52,
          58,
          79,
          39,
          62,
          67,
          45,
          61,
          63,
          61,
          49,
          44,
          30,
          80,
          49,
          50,
          72,
          42,
          27,
          71,
          43,
          78,
          65,
          79,
          68,
          60,
          98,
          66,
          62,
          54,
          84,
          91,
          63,
          83,
          72,
          65,
          82,
          89,
          53,
          87,
          74,
          58,
          51,
          70,
          71,
          57,
          88,
          88,
          73,
          100,
          62,
          77,
          54,
          62,
          60,
          66,
          82,
          49,
          52,
          53,
          72,
          94,
          62,
          45,
          65,
          80,
          62,
          48,
          76,
          77,
          61,
          59,
          55,
          69,
          59,
          74,
          82,
          81,
          80,
          35,
          60,
          87,
          84,
          66,
          61,
          87,
          86,
          57,
          68,
          76,
          46,
          92,
          83,
          80,
          63,
          54,
          84,
          73,
          59,
          75,
          85,
          89,
          68,
          47,
          80,
          54,
          78,
          79,
          76,
          59,
          69,
          58,
          88,
          83,
          73,
          53,
          45,
          81,
          97,
          88,
          77,
          76,
          86,
          63,
          78,
          67,
          46,
          71,
          40,
          90,
          81,
          56,
          80,
          69,
          99,
          51,
          66,
          67,
          71,
          83,
          63,
          61,
          28,
          82,
          71,
          47,
          62,
          90,
          76,
          49,
          58,
          67,
          79,
          62,
          75,
          87,
          66,
          63,
          59,
          85,
          59,
          49,
          69,
          61,
          84,
          74,
          46,
          66,
          87,
          79,
          73,
          73,
          76,
          57,
          48,
          74,
          60,
          53,
          65,
          87,
          84,
          71,
          63,
          84,
          71,
          74,
          68,
          57,
          41,
          86,
          69,
          65,
          68,
          64,
          61,
          73,
          50,
          75,
          75,
          70,
          89,
          79,
          69,
          86,
          47,
          81,
          65,
          37,
          53,
          72,
          53,
          54,
          75,
          72,
          91,
          76,
          80,
          76,
          73,
          68,
          59,
          70,
          61,
          64,
          79,
          68,
          76,
          63,
          68,
          55,
          79,
          76,
          64,
          62,
          71,
          69,
          54,
          53,
          68,
          56,
          62,
          73,
          51,
          85,
          97,
          75,
          79,
          78,
          72,
          79,
          79,
          87,
          77,
          53,
          61,
          73,
          96,
          48,
          48,
          63,
          68,
          71,
          91,
          40,
          61,
          58,
          71,
          68,
          30,
          53,
          60,
          84,
          75,
          69,
          94,
          88,
          95,
          65,
          62,
          58,
          100,
          100,
          69,
          61,
          49,
          67,
          79,
          84,
          71,
          86,
          41,
          70,
          51,
          77,
          69,
          90,
          74,
          73,
          80,
          73,
          81,
          52,
          81,
          63,
          60,
          62,
          62,
          85,
          77,
          53,
          93,
          66,
          87,
          62,
          46,
          66,
          89,
          93,
          81,
          73,
          91,
          55,
          50,
          47,
          81,
          68,
          53,
          55,
          55,
          67,
          92,
          81,
          61,
          80,
          55,
          72,
          69,
          69,
          87,
          71,
          68,
          79,
          58,
          55,
          70,
          69,
          78,
          60,
          76,
          58,
          52,
          75,
          66,
          94,
          91,
          68,
          66,
          89,
          70,
          69,
          67,
          76,
          75,
          90,
          59,
          51,
          45,
          87,
          94,
          61,
          49,
          62,
          68,
          64,
          58,
          73,
          58,
          64,
          74,
          90,
          91,
          64,
          80,
          71,
          82,
          62,
          75,
          52,
          87,
          39,
          97,
          82,
          59,
          61,
          78,
          49,
          59,
          82,
          90,
          80,
          81,
          57,
          63,
          55,
          54,
          44,
          88,
          36,
          67,
          85,
          88,
          57,
          70,
          50,
          100,
          91,
          69,
          72,
          74,
          74,
          64,
          46,
          67,
          62,
          61,
          70,
          98,
          70,
          67,
          85,
          77,
          72,
          81,
          61,
          82,
          49,
          94,
          58,
          72,
          84,
          75,
          72,
          66,
          63,
          78,
          60,
          62,
          55,
          81,
          79,
          57,
          81,
          86,
          63,
          62
         ],
         "y0": " ",
         "yaxis": "y"
        }
       ],
       "layout": {
        "boxmode": "overlay",
        "legend": {
         "title": {
          "text": "gender"
         },
         "tracegroupgap": 0
        },
        "margin": {
         "t": 60
        },
        "template": {
         "data": {
          "bar": [
           {
            "error_x": {
             "color": "#2a3f5f"
            },
            "error_y": {
             "color": "#2a3f5f"
            },
            "marker": {
             "line": {
              "color": "#E5ECF6",
              "width": 0.5
             },
             "pattern": {
              "fillmode": "overlay",
              "size": 10,
              "solidity": 0.2
             }
            },
            "type": "bar"
           }
          ],
          "barpolar": [
           {
            "marker": {
             "line": {
              "color": "#E5ECF6",
              "width": 0.5
             },
             "pattern": {
              "fillmode": "overlay",
              "size": 10,
              "solidity": 0.2
             }
            },
            "type": "barpolar"
           }
          ],
          "carpet": [
           {
            "aaxis": {
             "endlinecolor": "#2a3f5f",
             "gridcolor": "white",
             "linecolor": "white",
             "minorgridcolor": "white",
             "startlinecolor": "#2a3f5f"
            },
            "baxis": {
             "endlinecolor": "#2a3f5f",
             "gridcolor": "white",
             "linecolor": "white",
             "minorgridcolor": "white",
             "startlinecolor": "#2a3f5f"
            },
            "type": "carpet"
           }
          ],
          "choropleth": [
           {
            "colorbar": {
             "outlinewidth": 0,
             "ticks": ""
            },
            "type": "choropleth"
           }
          ],
          "contour": [
           {
            "colorbar": {
             "outlinewidth": 0,
             "ticks": ""
            },
            "colorscale": [
             [
              0,
              "#0d0887"
             ],
             [
              0.1111111111111111,
              "#46039f"
             ],
             [
              0.2222222222222222,
              "#7201a8"
             ],
             [
              0.3333333333333333,
              "#9c179e"
             ],
             [
              0.4444444444444444,
              "#bd3786"
             ],
             [
              0.5555555555555556,
              "#d8576b"
             ],
             [
              0.6666666666666666,
              "#ed7953"
             ],
             [
              0.7777777777777778,
              "#fb9f3a"
             ],
             [
              0.8888888888888888,
              "#fdca26"
             ],
             [
              1,
              "#f0f921"
             ]
            ],
            "type": "contour"
           }
          ],
          "contourcarpet": [
           {
            "colorbar": {
             "outlinewidth": 0,
             "ticks": ""
            },
            "type": "contourcarpet"
           }
          ],
          "heatmap": [
           {
            "colorbar": {
             "outlinewidth": 0,
             "ticks": ""
            },
            "colorscale": [
             [
              0,
              "#0d0887"
             ],
             [
              0.1111111111111111,
              "#46039f"
             ],
             [
              0.2222222222222222,
              "#7201a8"
             ],
             [
              0.3333333333333333,
              "#9c179e"
             ],
             [
              0.4444444444444444,
              "#bd3786"
             ],
             [
              0.5555555555555556,
              "#d8576b"
             ],
             [
              0.6666666666666666,
              "#ed7953"
             ],
             [
              0.7777777777777778,
              "#fb9f3a"
             ],
             [
              0.8888888888888888,
              "#fdca26"
             ],
             [
              1,
              "#f0f921"
             ]
            ],
            "type": "heatmap"
           }
          ],
          "heatmapgl": [
           {
            "colorbar": {
             "outlinewidth": 0,
             "ticks": ""
            },
            "colorscale": [
             [
              0,
              "#0d0887"
             ],
             [
              0.1111111111111111,
              "#46039f"
             ],
             [
              0.2222222222222222,
              "#7201a8"
             ],
             [
              0.3333333333333333,
              "#9c179e"
             ],
             [
              0.4444444444444444,
              "#bd3786"
             ],
             [
              0.5555555555555556,
              "#d8576b"
             ],
             [
              0.6666666666666666,
              "#ed7953"
             ],
             [
              0.7777777777777778,
              "#fb9f3a"
             ],
             [
              0.8888888888888888,
              "#fdca26"
             ],
             [
              1,
              "#f0f921"
             ]
            ],
            "type": "heatmapgl"
           }
          ],
          "histogram": [
           {
            "marker": {
             "pattern": {
              "fillmode": "overlay",
              "size": 10,
              "solidity": 0.2
             }
            },
            "type": "histogram"
           }
          ],
          "histogram2d": [
           {
            "colorbar": {
             "outlinewidth": 0,
             "ticks": ""
            },
            "colorscale": [
             [
              0,
              "#0d0887"
             ],
             [
              0.1111111111111111,
              "#46039f"
             ],
             [
              0.2222222222222222,
              "#7201a8"
             ],
             [
              0.3333333333333333,
              "#9c179e"
             ],
             [
              0.4444444444444444,
              "#bd3786"
             ],
             [
              0.5555555555555556,
              "#d8576b"
             ],
             [
              0.6666666666666666,
              "#ed7953"
             ],
             [
              0.7777777777777778,
              "#fb9f3a"
             ],
             [
              0.8888888888888888,
              "#fdca26"
             ],
             [
              1,
              "#f0f921"
             ]
            ],
            "type": "histogram2d"
           }
          ],
          "histogram2dcontour": [
           {
            "colorbar": {
             "outlinewidth": 0,
             "ticks": ""
            },
            "colorscale": [
             [
              0,
              "#0d0887"
             ],
             [
              0.1111111111111111,
              "#46039f"
             ],
             [
              0.2222222222222222,
              "#7201a8"
             ],
             [
              0.3333333333333333,
              "#9c179e"
             ],
             [
              0.4444444444444444,
              "#bd3786"
             ],
             [
              0.5555555555555556,
              "#d8576b"
             ],
             [
              0.6666666666666666,
              "#ed7953"
             ],
             [
              0.7777777777777778,
              "#fb9f3a"
             ],
             [
              0.8888888888888888,
              "#fdca26"
             ],
             [
              1,
              "#f0f921"
             ]
            ],
            "type": "histogram2dcontour"
           }
          ],
          "mesh3d": [
           {
            "colorbar": {
             "outlinewidth": 0,
             "ticks": ""
            },
            "type": "mesh3d"
           }
          ],
          "parcoords": [
           {
            "line": {
             "colorbar": {
              "outlinewidth": 0,
              "ticks": ""
             }
            },
            "type": "parcoords"
           }
          ],
          "pie": [
           {
            "automargin": true,
            "type": "pie"
           }
          ],
          "scatter": [
           {
            "fillpattern": {
             "fillmode": "overlay",
             "size": 10,
             "solidity": 0.2
            },
            "type": "scatter"
           }
          ],
          "scatter3d": [
           {
            "line": {
             "colorbar": {
              "outlinewidth": 0,
              "ticks": ""
             }
            },
            "marker": {
             "colorbar": {
              "outlinewidth": 0,
              "ticks": ""
             }
            },
            "type": "scatter3d"
           }
          ],
          "scattercarpet": [
           {
            "marker": {
             "colorbar": {
              "outlinewidth": 0,
              "ticks": ""
             }
            },
            "type": "scattercarpet"
           }
          ],
          "scattergeo": [
           {
            "marker": {
             "colorbar": {
              "outlinewidth": 0,
              "ticks": ""
             }
            },
            "type": "scattergeo"
           }
          ],
          "scattergl": [
           {
            "marker": {
             "colorbar": {
              "outlinewidth": 0,
              "ticks": ""
             }
            },
            "type": "scattergl"
           }
          ],
          "scattermapbox": [
           {
            "marker": {
             "colorbar": {
              "outlinewidth": 0,
              "ticks": ""
             }
            },
            "type": "scattermapbox"
           }
          ],
          "scatterpolar": [
           {
            "marker": {
             "colorbar": {
              "outlinewidth": 0,
              "ticks": ""
             }
            },
            "type": "scatterpolar"
           }
          ],
          "scatterpolargl": [
           {
            "marker": {
             "colorbar": {
              "outlinewidth": 0,
              "ticks": ""
             }
            },
            "type": "scatterpolargl"
           }
          ],
          "scatterternary": [
           {
            "marker": {
             "colorbar": {
              "outlinewidth": 0,
              "ticks": ""
             }
            },
            "type": "scatterternary"
           }
          ],
          "surface": [
           {
            "colorbar": {
             "outlinewidth": 0,
             "ticks": ""
            },
            "colorscale": [
             [
              0,
              "#0d0887"
             ],
             [
              0.1111111111111111,
              "#46039f"
             ],
             [
              0.2222222222222222,
              "#7201a8"
             ],
             [
              0.3333333333333333,
              "#9c179e"
             ],
             [
              0.4444444444444444,
              "#bd3786"
             ],
             [
              0.5555555555555556,
              "#d8576b"
             ],
             [
              0.6666666666666666,
              "#ed7953"
             ],
             [
              0.7777777777777778,
              "#fb9f3a"
             ],
             [
              0.8888888888888888,
              "#fdca26"
             ],
             [
              1,
              "#f0f921"
             ]
            ],
            "type": "surface"
           }
          ],
          "table": [
           {
            "cells": {
             "fill": {
              "color": "#EBF0F8"
             },
             "line": {
              "color": "white"
             }
            },
            "header": {
             "fill": {
              "color": "#C8D4E3"
             },
             "line": {
              "color": "white"
             }
            },
            "type": "table"
           }
          ]
         },
         "layout": {
          "annotationdefaults": {
           "arrowcolor": "#2a3f5f",
           "arrowhead": 0,
           "arrowwidth": 1
          },
          "autotypenumbers": "strict",
          "coloraxis": {
           "colorbar": {
            "outlinewidth": 0,
            "ticks": ""
           }
          },
          "colorscale": {
           "diverging": [
            [
             0,
             "#8e0152"
            ],
            [
             0.1,
             "#c51b7d"
            ],
            [
             0.2,
             "#de77ae"
            ],
            [
             0.3,
             "#f1b6da"
            ],
            [
             0.4,
             "#fde0ef"
            ],
            [
             0.5,
             "#f7f7f7"
            ],
            [
             0.6,
             "#e6f5d0"
            ],
            [
             0.7,
             "#b8e186"
            ],
            [
             0.8,
             "#7fbc41"
            ],
            [
             0.9,
             "#4d9221"
            ],
            [
             1,
             "#276419"
            ]
           ],
           "sequential": [
            [
             0,
             "#0d0887"
            ],
            [
             0.1111111111111111,
             "#46039f"
            ],
            [
             0.2222222222222222,
             "#7201a8"
            ],
            [
             0.3333333333333333,
             "#9c179e"
            ],
            [
             0.4444444444444444,
             "#bd3786"
            ],
            [
             0.5555555555555556,
             "#d8576b"
            ],
            [
             0.6666666666666666,
             "#ed7953"
            ],
            [
             0.7777777777777778,
             "#fb9f3a"
            ],
            [
             0.8888888888888888,
             "#fdca26"
            ],
            [
             1,
             "#f0f921"
            ]
           ],
           "sequentialminus": [
            [
             0,
             "#0d0887"
            ],
            [
             0.1111111111111111,
             "#46039f"
            ],
            [
             0.2222222222222222,
             "#7201a8"
            ],
            [
             0.3333333333333333,
             "#9c179e"
            ],
            [
             0.4444444444444444,
             "#bd3786"
            ],
            [
             0.5555555555555556,
             "#d8576b"
            ],
            [
             0.6666666666666666,
             "#ed7953"
            ],
            [
             0.7777777777777778,
             "#fb9f3a"
            ],
            [
             0.8888888888888888,
             "#fdca26"
            ],
            [
             1,
             "#f0f921"
            ]
           ]
          },
          "colorway": [
           "#636efa",
           "#EF553B",
           "#00cc96",
           "#ab63fa",
           "#FFA15A",
           "#19d3f3",
           "#FF6692",
           "#B6E880",
           "#FF97FF",
           "#FECB52"
          ],
          "font": {
           "color": "#2a3f5f"
          },
          "geo": {
           "bgcolor": "white",
           "lakecolor": "white",
           "landcolor": "#E5ECF6",
           "showlakes": true,
           "showland": true,
           "subunitcolor": "white"
          },
          "hoverlabel": {
           "align": "left"
          },
          "hovermode": "closest",
          "mapbox": {
           "style": "light"
          },
          "paper_bgcolor": "white",
          "plot_bgcolor": "#E5ECF6",
          "polar": {
           "angularaxis": {
            "gridcolor": "white",
            "linecolor": "white",
            "ticks": ""
           },
           "bgcolor": "#E5ECF6",
           "radialaxis": {
            "gridcolor": "white",
            "linecolor": "white",
            "ticks": ""
           }
          },
          "scene": {
           "xaxis": {
            "backgroundcolor": "#E5ECF6",
            "gridcolor": "white",
            "gridwidth": 2,
            "linecolor": "white",
            "showbackground": true,
            "ticks": "",
            "zerolinecolor": "white"
           },
           "yaxis": {
            "backgroundcolor": "#E5ECF6",
            "gridcolor": "white",
            "gridwidth": 2,
            "linecolor": "white",
            "showbackground": true,
            "ticks": "",
            "zerolinecolor": "white"
           },
           "zaxis": {
            "backgroundcolor": "#E5ECF6",
            "gridcolor": "white",
            "gridwidth": 2,
            "linecolor": "white",
            "showbackground": true,
            "ticks": "",
            "zerolinecolor": "white"
           }
          },
          "shapedefaults": {
           "line": {
            "color": "#2a3f5f"
           }
          },
          "ternary": {
           "aaxis": {
            "gridcolor": "white",
            "linecolor": "white",
            "ticks": ""
           },
           "baxis": {
            "gridcolor": "white",
            "linecolor": "white",
            "ticks": ""
           },
           "bgcolor": "#E5ECF6",
           "caxis": {
            "gridcolor": "white",
            "linecolor": "white",
            "ticks": ""
           }
          },
          "title": {
           "x": 0.05
          },
          "xaxis": {
           "automargin": true,
           "gridcolor": "white",
           "linecolor": "white",
           "ticks": "",
           "title": {
            "standoff": 15
           },
           "zerolinecolor": "white",
           "zerolinewidth": 2
          },
          "yaxis": {
           "automargin": true,
           "gridcolor": "white",
           "linecolor": "white",
           "ticks": "",
           "title": {
            "standoff": 15
           },
           "zerolinecolor": "white",
           "zerolinewidth": 2
          }
         }
        },
        "xaxis": {
         "anchor": "y",
         "categoryarray": [
          "female",
          "male"
         ],
         "categoryorder": "array",
         "domain": [
          0,
          1
         ],
         "title": {
          "text": "gender"
         }
        },
        "yaxis": {
         "anchor": "x",
         "domain": [
          0,
          1
         ],
         "title": {
          "text": "math score"
         }
        }
       }
      },
      "text/html": [
       "<div>                            <div id=\"c0e64dac-4229-4f2d-b8ef-71b69709722b\" class=\"plotly-graph-div\" style=\"height:525px; width:100%;\"></div>            <script type=\"text/javascript\">                require([\"plotly\"], function(Plotly) {                    window.PLOTLYENV=window.PLOTLYENV || {};                                    if (document.getElementById(\"c0e64dac-4229-4f2d-b8ef-71b69709722b\")) {                    Plotly.newPlot(                        \"c0e64dac-4229-4f2d-b8ef-71b69709722b\",                        [{\"alignmentgroup\":\"True\",\"hovertemplate\":\"gender=%{x}<br>math score=%{y}<extra></extra>\",\"legendgroup\":\"female\",\"marker\":{\"color\":\"#636efa\"},\"name\":\"female\",\"notched\":false,\"offsetgroup\":\"female\",\"orientation\":\"v\",\"showlegend\":true,\"x\":[\"female\",\"female\",\"female\",\"female\",\"female\",\"female\",\"female\",\"female\",\"female\",\"female\",\"female\",\"female\",\"female\",\"female\",\"female\",\"female\",\"female\",\"female\",\"female\",\"female\",\"female\",\"female\",\"female\",\"female\",\"female\",\"female\",\"female\",\"female\",\"female\",\"female\",\"female\",\"female\",\"female\",\"female\",\"female\",\"female\",\"female\",\"female\",\"female\",\"female\",\"female\",\"female\",\"female\",\"female\",\"female\",\"female\",\"female\",\"female\",\"female\",\"female\",\"female\",\"female\",\"female\",\"female\",\"female\",\"female\",\"female\",\"female\",\"female\",\"female\",\"female\",\"female\",\"female\",\"female\",\"female\",\"female\",\"female\",\"female\",\"female\",\"female\",\"female\",\"female\",\"female\",\"female\",\"female\",\"female\",\"female\",\"female\",\"female\",\"female\",\"female\",\"female\",\"female\",\"female\",\"female\",\"female\",\"female\",\"female\",\"female\",\"female\",\"female\",\"female\",\"female\",\"female\",\"female\",\"female\",\"female\",\"female\",\"female\",\"female\",\"female\",\"female\",\"female\",\"female\",\"female\",\"female\",\"female\",\"female\",\"female\",\"female\",\"female\",\"female\",\"female\",\"female\",\"female\",\"female\",\"female\",\"female\",\"female\",\"female\",\"female\",\"female\",\"female\",\"female\",\"female\",\"female\",\"female\",\"female\",\"female\",\"female\",\"female\",\"female\",\"female\",\"female\",\"female\",\"female\",\"female\",\"female\",\"female\",\"female\",\"female\",\"female\",\"female\",\"female\",\"female\",\"female\",\"female\",\"female\",\"female\",\"female\",\"female\",\"female\",\"female\",\"female\",\"female\",\"female\",\"female\",\"female\",\"female\",\"female\",\"female\",\"female\",\"female\",\"female\",\"female\",\"female\",\"female\",\"female\",\"female\",\"female\",\"female\",\"female\",\"female\",\"female\",\"female\",\"female\",\"female\",\"female\",\"female\",\"female\",\"female\",\"female\",\"female\",\"female\",\"female\",\"female\",\"female\",\"female\",\"female\",\"female\",\"female\",\"female\",\"female\",\"female\",\"female\",\"female\",\"female\",\"female\",\"female\",\"female\",\"female\",\"female\",\"female\",\"female\",\"female\",\"female\",\"female\",\"female\",\"female\",\"female\",\"female\",\"female\",\"female\",\"female\",\"female\",\"female\",\"female\",\"female\",\"female\",\"female\",\"female\",\"female\",\"female\",\"female\",\"female\",\"female\",\"female\",\"female\",\"female\",\"female\",\"female\",\"female\",\"female\",\"female\",\"female\",\"female\",\"female\",\"female\",\"female\",\"female\",\"female\",\"female\",\"female\",\"female\",\"female\",\"female\",\"female\",\"female\",\"female\",\"female\",\"female\",\"female\",\"female\",\"female\",\"female\",\"female\",\"female\",\"female\",\"female\",\"female\",\"female\",\"female\",\"female\",\"female\",\"female\",\"female\",\"female\",\"female\",\"female\",\"female\",\"female\",\"female\",\"female\",\"female\",\"female\",\"female\",\"female\",\"female\",\"female\",\"female\",\"female\",\"female\",\"female\",\"female\",\"female\",\"female\",\"female\",\"female\",\"female\",\"female\",\"female\",\"female\",\"female\",\"female\",\"female\",\"female\",\"female\",\"female\",\"female\",\"female\",\"female\",\"female\",\"female\",\"female\",\"female\",\"female\",\"female\",\"female\",\"female\",\"female\",\"female\",\"female\",\"female\",\"female\",\"female\",\"female\",\"female\",\"female\",\"female\",\"female\",\"female\",\"female\",\"female\",\"female\",\"female\",\"female\",\"female\",\"female\",\"female\",\"female\",\"female\",\"female\",\"female\",\"female\",\"female\",\"female\",\"female\",\"female\",\"female\",\"female\",\"female\",\"female\",\"female\",\"female\",\"female\",\"female\",\"female\",\"female\",\"female\",\"female\",\"female\",\"female\",\"female\",\"female\",\"female\",\"female\",\"female\",\"female\",\"female\",\"female\",\"female\",\"female\",\"female\",\"female\",\"female\",\"female\",\"female\",\"female\",\"female\",\"female\",\"female\",\"female\",\"female\",\"female\",\"female\",\"female\",\"female\",\"female\",\"female\",\"female\",\"female\",\"female\",\"female\",\"female\",\"female\",\"female\",\"female\",\"female\",\"female\",\"female\",\"female\",\"female\",\"female\",\"female\",\"female\",\"female\",\"female\",\"female\",\"female\",\"female\",\"female\",\"female\",\"female\",\"female\",\"female\",\"female\",\"female\",\"female\",\"female\",\"female\",\"female\",\"female\",\"female\",\"female\",\"female\",\"female\",\"female\",\"female\",\"female\",\"female\",\"female\",\"female\",\"female\",\"female\",\"female\",\"female\",\"female\",\"female\",\"female\",\"female\",\"female\",\"female\",\"female\",\"female\",\"female\",\"female\",\"female\",\"female\",\"female\",\"female\",\"female\",\"female\",\"female\",\"female\",\"female\",\"female\",\"female\",\"female\",\"female\",\"female\",\"female\",\"female\",\"female\",\"female\",\"female\",\"female\",\"female\",\"female\",\"female\",\"female\",\"female\",\"female\",\"female\",\"female\",\"female\",\"female\",\"female\",\"female\",\"female\",\"female\",\"female\",\"female\",\"female\",\"female\",\"female\",\"female\",\"female\",\"female\",\"female\",\"female\",\"female\",\"female\",\"female\",\"female\",\"female\",\"female\",\"female\",\"female\",\"female\",\"female\",\"female\",\"female\",\"female\",\"female\",\"female\",\"female\",\"female\",\"female\",\"female\",\"female\",\"female\",\"female\",\"female\",\"female\",\"female\",\"female\",\"female\",\"female\",\"female\",\"female\",\"female\",\"female\",\"female\",\"female\",\"female\",\"female\",\"female\",\"female\"],\"x0\":\" \",\"xaxis\":\"x\",\"y\":[72,69,90,71,88,38,65,50,69,18,54,65,69,67,62,69,63,56,74,50,75,58,53,50,55,66,57,71,33,82,0,69,59,60,39,58,41,61,62,47,73,76,71,58,73,65,79,63,58,65,85,58,87,52,70,77,51,99,75,78,51,55,79,88,87,51,75,59,76,59,42,22,68,59,70,66,61,75,81,96,58,68,67,79,63,43,81,46,71,52,97,46,50,65,77,66,62,69,45,78,67,65,57,74,58,42,83,34,56,55,52,45,72,88,67,64,80,56,58,65,71,60,62,64,70,65,64,44,99,63,69,88,71,47,65,85,59,65,73,70,37,67,65,67,74,53,49,73,68,59,77,56,67,75,71,43,41,82,41,83,61,24,35,61,69,72,77,52,63,46,59,61,42,80,58,52,27,44,73,45,82,59,80,85,71,80,38,38,67,64,57,62,77,65,50,85,59,49,88,54,63,82,52,70,51,82,57,47,59,62,61,47,67,78,59,73,67,64,100,65,53,79,100,71,77,84,26,77,83,63,68,59,90,71,55,52,49,60,65,64,83,81,54,54,59,66,74,94,95,40,82,86,54,77,76,74,66,66,67,91,36,29,62,68,47,79,66,51,81,82,64,92,62,40,32,55,53,74,63,63,92,61,53,50,74,81,48,53,81,77,63,73,69,65,55,44,54,48,74,92,56,69,65,54,29,76,85,40,61,58,58,65,82,60,37,35,61,44,66,75,67,80,76,74,72,74,65,59,64,50,69,68,85,65,73,62,43,55,65,50,63,77,66,69,65,69,50,73,70,67,29,94,49,73,66,77,49,79,75,59,57,79,57,63,59,42,80,98,60,76,96,76,62,74,65,73,68,87,53,53,37,81,59,50,77,84,52,53,48,62,74,58,68,52,62,49,66,35,72,46,77,76,52,32,72,19,52,48,60,42,57,70,52,87,82,73,64,41,54,72,45,60,77,85,78,71,48,56,65,69,61,74,77,60,75,66,39,23,40,59,61,87,97,65,53,81,71,70,43,59,64,71,64,51,62,93,69,86,85,50,59,32,63,65,73,34,93,67,79,67,69,52,47,46,68,44,57,35,54,65,48,57,78,58,54,49,57,75,74,62,92,45,56,48,100,65,62,68,75,89,53,49,54,64,91,8,78,74,40,44,67,65,55,62,88,59,68,77],\"y0\":\" \",\"yaxis\":\"y\",\"type\":\"box\"},{\"alignmentgroup\":\"True\",\"hovertemplate\":\"gender=%{x}<br>math score=%{y}<extra></extra>\",\"legendgroup\":\"male\",\"marker\":{\"color\":\"#EF553B\"},\"name\":\"male\",\"notched\":false,\"offsetgroup\":\"male\",\"orientation\":\"v\",\"showlegend\":true,\"x\":[\"male\",\"male\",\"male\",\"male\",\"male\",\"male\",\"male\",\"male\",\"male\",\"male\",\"male\",\"male\",\"male\",\"male\",\"male\",\"male\",\"male\",\"male\",\"male\",\"male\",\"male\",\"male\",\"male\",\"male\",\"male\",\"male\",\"male\",\"male\",\"male\",\"male\",\"male\",\"male\",\"male\",\"male\",\"male\",\"male\",\"male\",\"male\",\"male\",\"male\",\"male\",\"male\",\"male\",\"male\",\"male\",\"male\",\"male\",\"male\",\"male\",\"male\",\"male\",\"male\",\"male\",\"male\",\"male\",\"male\",\"male\",\"male\",\"male\",\"male\",\"male\",\"male\",\"male\",\"male\",\"male\",\"male\",\"male\",\"male\",\"male\",\"male\",\"male\",\"male\",\"male\",\"male\",\"male\",\"male\",\"male\",\"male\",\"male\",\"male\",\"male\",\"male\",\"male\",\"male\",\"male\",\"male\",\"male\",\"male\",\"male\",\"male\",\"male\",\"male\",\"male\",\"male\",\"male\",\"male\",\"male\",\"male\",\"male\",\"male\",\"male\",\"male\",\"male\",\"male\",\"male\",\"male\",\"male\",\"male\",\"male\",\"male\",\"male\",\"male\",\"male\",\"male\",\"male\",\"male\",\"male\",\"male\",\"male\",\"male\",\"male\",\"male\",\"male\",\"male\",\"male\",\"male\",\"male\",\"male\",\"male\",\"male\",\"male\",\"male\",\"male\",\"male\",\"male\",\"male\",\"male\",\"male\",\"male\",\"male\",\"male\",\"male\",\"male\",\"male\",\"male\",\"male\",\"male\",\"male\",\"male\",\"male\",\"male\",\"male\",\"male\",\"male\",\"male\",\"male\",\"male\",\"male\",\"male\",\"male\",\"male\",\"male\",\"male\",\"male\",\"male\",\"male\",\"male\",\"male\",\"male\",\"male\",\"male\",\"male\",\"male\",\"male\",\"male\",\"male\",\"male\",\"male\",\"male\",\"male\",\"male\",\"male\",\"male\",\"male\",\"male\",\"male\",\"male\",\"male\",\"male\",\"male\",\"male\",\"male\",\"male\",\"male\",\"male\",\"male\",\"male\",\"male\",\"male\",\"male\",\"male\",\"male\",\"male\",\"male\",\"male\",\"male\",\"male\",\"male\",\"male\",\"male\",\"male\",\"male\",\"male\",\"male\",\"male\",\"male\",\"male\",\"male\",\"male\",\"male\",\"male\",\"male\",\"male\",\"male\",\"male\",\"male\",\"male\",\"male\",\"male\",\"male\",\"male\",\"male\",\"male\",\"male\",\"male\",\"male\",\"male\",\"male\",\"male\",\"male\",\"male\",\"male\",\"male\",\"male\",\"male\",\"male\",\"male\",\"male\",\"male\",\"male\",\"male\",\"male\",\"male\",\"male\",\"male\",\"male\",\"male\",\"male\",\"male\",\"male\",\"male\",\"male\",\"male\",\"male\",\"male\",\"male\",\"male\",\"male\",\"male\",\"male\",\"male\",\"male\",\"male\",\"male\",\"male\",\"male\",\"male\",\"male\",\"male\",\"male\",\"male\",\"male\",\"male\",\"male\",\"male\",\"male\",\"male\",\"male\",\"male\",\"male\",\"male\",\"male\",\"male\",\"male\",\"male\",\"male\",\"male\",\"male\",\"male\",\"male\",\"male\",\"male\",\"male\",\"male\",\"male\",\"male\",\"male\",\"male\",\"male\",\"male\",\"male\",\"male\",\"male\",\"male\",\"male\",\"male\",\"male\",\"male\",\"male\",\"male\",\"male\",\"male\",\"male\",\"male\",\"male\",\"male\",\"male\",\"male\",\"male\",\"male\",\"male\",\"male\",\"male\",\"male\",\"male\",\"male\",\"male\",\"male\",\"male\",\"male\",\"male\",\"male\",\"male\",\"male\",\"male\",\"male\",\"male\",\"male\",\"male\",\"male\",\"male\",\"male\",\"male\",\"male\",\"male\",\"male\",\"male\",\"male\",\"male\",\"male\",\"male\",\"male\",\"male\",\"male\",\"male\",\"male\",\"male\",\"male\",\"male\",\"male\",\"male\",\"male\",\"male\",\"male\",\"male\",\"male\",\"male\",\"male\",\"male\",\"male\",\"male\",\"male\",\"male\",\"male\",\"male\",\"male\",\"male\",\"male\",\"male\",\"male\",\"male\",\"male\",\"male\",\"male\",\"male\",\"male\",\"male\",\"male\",\"male\",\"male\",\"male\",\"male\",\"male\",\"male\",\"male\",\"male\",\"male\",\"male\",\"male\",\"male\",\"male\",\"male\",\"male\",\"male\",\"male\",\"male\",\"male\",\"male\",\"male\",\"male\",\"male\",\"male\",\"male\",\"male\",\"male\",\"male\",\"male\",\"male\",\"male\",\"male\",\"male\",\"male\",\"male\",\"male\",\"male\",\"male\",\"male\",\"male\",\"male\",\"male\",\"male\",\"male\",\"male\",\"male\",\"male\",\"male\",\"male\",\"male\",\"male\",\"male\",\"male\",\"male\",\"male\",\"male\",\"male\",\"male\",\"male\",\"male\",\"male\",\"male\",\"male\",\"male\",\"male\",\"male\",\"male\",\"male\",\"male\",\"male\",\"male\",\"male\",\"male\",\"male\",\"male\",\"male\",\"male\",\"male\",\"male\",\"male\",\"male\",\"male\",\"male\",\"male\"],\"x0\":\" \",\"xaxis\":\"x\",\"y\":[47,76,40,64,58,40,78,88,46,66,44,74,73,69,70,40,97,81,57,55,59,65,82,53,77,53,88,52,58,79,39,62,67,45,61,63,61,49,44,30,80,49,50,72,42,27,71,43,78,65,79,68,60,98,66,62,54,84,91,63,83,72,65,82,89,53,87,74,58,51,70,71,57,88,88,73,100,62,77,54,62,60,66,82,49,52,53,72,94,62,45,65,80,62,48,76,77,61,59,55,69,59,74,82,81,80,35,60,87,84,66,61,87,86,57,68,76,46,92,83,80,63,54,84,73,59,75,85,89,68,47,80,54,78,79,76,59,69,58,88,83,73,53,45,81,97,88,77,76,86,63,78,67,46,71,40,90,81,56,80,69,99,51,66,67,71,83,63,61,28,82,71,47,62,90,76,49,58,67,79,62,75,87,66,63,59,85,59,49,69,61,84,74,46,66,87,79,73,73,76,57,48,74,60,53,65,87,84,71,63,84,71,74,68,57,41,86,69,65,68,64,61,73,50,75,75,70,89,79,69,86,47,81,65,37,53,72,53,54,75,72,91,76,80,76,73,68,59,70,61,64,79,68,76,63,68,55,79,76,64,62,71,69,54,53,68,56,62,73,51,85,97,75,79,78,72,79,79,87,77,53,61,73,96,48,48,63,68,71,91,40,61,58,71,68,30,53,60,84,75,69,94,88,95,65,62,58,100,100,69,61,49,67,79,84,71,86,41,70,51,77,69,90,74,73,80,73,81,52,81,63,60,62,62,85,77,53,93,66,87,62,46,66,89,93,81,73,91,55,50,47,81,68,53,55,55,67,92,81,61,80,55,72,69,69,87,71,68,79,58,55,70,69,78,60,76,58,52,75,66,94,91,68,66,89,70,69,67,76,75,90,59,51,45,87,94,61,49,62,68,64,58,73,58,64,74,90,91,64,80,71,82,62,75,52,87,39,97,82,59,61,78,49,59,82,90,80,81,57,63,55,54,44,88,36,67,85,88,57,70,50,100,91,69,72,74,74,64,46,67,62,61,70,98,70,67,85,77,72,81,61,82,49,94,58,72,84,75,72,66,63,78,60,62,55,81,79,57,81,86,63,62],\"y0\":\" \",\"yaxis\":\"y\",\"type\":\"box\"}],                        {\"template\":{\"data\":{\"histogram2dcontour\":[{\"type\":\"histogram2dcontour\",\"colorbar\":{\"outlinewidth\":0,\"ticks\":\"\"},\"colorscale\":[[0.0,\"#0d0887\"],[0.1111111111111111,\"#46039f\"],[0.2222222222222222,\"#7201a8\"],[0.3333333333333333,\"#9c179e\"],[0.4444444444444444,\"#bd3786\"],[0.5555555555555556,\"#d8576b\"],[0.6666666666666666,\"#ed7953\"],[0.7777777777777778,\"#fb9f3a\"],[0.8888888888888888,\"#fdca26\"],[1.0,\"#f0f921\"]]}],\"choropleth\":[{\"type\":\"choropleth\",\"colorbar\":{\"outlinewidth\":0,\"ticks\":\"\"}}],\"histogram2d\":[{\"type\":\"histogram2d\",\"colorbar\":{\"outlinewidth\":0,\"ticks\":\"\"},\"colorscale\":[[0.0,\"#0d0887\"],[0.1111111111111111,\"#46039f\"],[0.2222222222222222,\"#7201a8\"],[0.3333333333333333,\"#9c179e\"],[0.4444444444444444,\"#bd3786\"],[0.5555555555555556,\"#d8576b\"],[0.6666666666666666,\"#ed7953\"],[0.7777777777777778,\"#fb9f3a\"],[0.8888888888888888,\"#fdca26\"],[1.0,\"#f0f921\"]]}],\"heatmap\":[{\"type\":\"heatmap\",\"colorbar\":{\"outlinewidth\":0,\"ticks\":\"\"},\"colorscale\":[[0.0,\"#0d0887\"],[0.1111111111111111,\"#46039f\"],[0.2222222222222222,\"#7201a8\"],[0.3333333333333333,\"#9c179e\"],[0.4444444444444444,\"#bd3786\"],[0.5555555555555556,\"#d8576b\"],[0.6666666666666666,\"#ed7953\"],[0.7777777777777778,\"#fb9f3a\"],[0.8888888888888888,\"#fdca26\"],[1.0,\"#f0f921\"]]}],\"heatmapgl\":[{\"type\":\"heatmapgl\",\"colorbar\":{\"outlinewidth\":0,\"ticks\":\"\"},\"colorscale\":[[0.0,\"#0d0887\"],[0.1111111111111111,\"#46039f\"],[0.2222222222222222,\"#7201a8\"],[0.3333333333333333,\"#9c179e\"],[0.4444444444444444,\"#bd3786\"],[0.5555555555555556,\"#d8576b\"],[0.6666666666666666,\"#ed7953\"],[0.7777777777777778,\"#fb9f3a\"],[0.8888888888888888,\"#fdca26\"],[1.0,\"#f0f921\"]]}],\"contourcarpet\":[{\"type\":\"contourcarpet\",\"colorbar\":{\"outlinewidth\":0,\"ticks\":\"\"}}],\"contour\":[{\"type\":\"contour\",\"colorbar\":{\"outlinewidth\":0,\"ticks\":\"\"},\"colorscale\":[[0.0,\"#0d0887\"],[0.1111111111111111,\"#46039f\"],[0.2222222222222222,\"#7201a8\"],[0.3333333333333333,\"#9c179e\"],[0.4444444444444444,\"#bd3786\"],[0.5555555555555556,\"#d8576b\"],[0.6666666666666666,\"#ed7953\"],[0.7777777777777778,\"#fb9f3a\"],[0.8888888888888888,\"#fdca26\"],[1.0,\"#f0f921\"]]}],\"surface\":[{\"type\":\"surface\",\"colorbar\":{\"outlinewidth\":0,\"ticks\":\"\"},\"colorscale\":[[0.0,\"#0d0887\"],[0.1111111111111111,\"#46039f\"],[0.2222222222222222,\"#7201a8\"],[0.3333333333333333,\"#9c179e\"],[0.4444444444444444,\"#bd3786\"],[0.5555555555555556,\"#d8576b\"],[0.6666666666666666,\"#ed7953\"],[0.7777777777777778,\"#fb9f3a\"],[0.8888888888888888,\"#fdca26\"],[1.0,\"#f0f921\"]]}],\"mesh3d\":[{\"type\":\"mesh3d\",\"colorbar\":{\"outlinewidth\":0,\"ticks\":\"\"}}],\"scatter\":[{\"fillpattern\":{\"fillmode\":\"overlay\",\"size\":10,\"solidity\":0.2},\"type\":\"scatter\"}],\"parcoords\":[{\"type\":\"parcoords\",\"line\":{\"colorbar\":{\"outlinewidth\":0,\"ticks\":\"\"}}}],\"scatterpolargl\":[{\"type\":\"scatterpolargl\",\"marker\":{\"colorbar\":{\"outlinewidth\":0,\"ticks\":\"\"}}}],\"bar\":[{\"error_x\":{\"color\":\"#2a3f5f\"},\"error_y\":{\"color\":\"#2a3f5f\"},\"marker\":{\"line\":{\"color\":\"#E5ECF6\",\"width\":0.5},\"pattern\":{\"fillmode\":\"overlay\",\"size\":10,\"solidity\":0.2}},\"type\":\"bar\"}],\"scattergeo\":[{\"type\":\"scattergeo\",\"marker\":{\"colorbar\":{\"outlinewidth\":0,\"ticks\":\"\"}}}],\"scatterpolar\":[{\"type\":\"scatterpolar\",\"marker\":{\"colorbar\":{\"outlinewidth\":0,\"ticks\":\"\"}}}],\"histogram\":[{\"marker\":{\"pattern\":{\"fillmode\":\"overlay\",\"size\":10,\"solidity\":0.2}},\"type\":\"histogram\"}],\"scattergl\":[{\"type\":\"scattergl\",\"marker\":{\"colorbar\":{\"outlinewidth\":0,\"ticks\":\"\"}}}],\"scatter3d\":[{\"type\":\"scatter3d\",\"line\":{\"colorbar\":{\"outlinewidth\":0,\"ticks\":\"\"}},\"marker\":{\"colorbar\":{\"outlinewidth\":0,\"ticks\":\"\"}}}],\"scattermapbox\":[{\"type\":\"scattermapbox\",\"marker\":{\"colorbar\":{\"outlinewidth\":0,\"ticks\":\"\"}}}],\"scatterternary\":[{\"type\":\"scatterternary\",\"marker\":{\"colorbar\":{\"outlinewidth\":0,\"ticks\":\"\"}}}],\"scattercarpet\":[{\"type\":\"scattercarpet\",\"marker\":{\"colorbar\":{\"outlinewidth\":0,\"ticks\":\"\"}}}],\"carpet\":[{\"aaxis\":{\"endlinecolor\":\"#2a3f5f\",\"gridcolor\":\"white\",\"linecolor\":\"white\",\"minorgridcolor\":\"white\",\"startlinecolor\":\"#2a3f5f\"},\"baxis\":{\"endlinecolor\":\"#2a3f5f\",\"gridcolor\":\"white\",\"linecolor\":\"white\",\"minorgridcolor\":\"white\",\"startlinecolor\":\"#2a3f5f\"},\"type\":\"carpet\"}],\"table\":[{\"cells\":{\"fill\":{\"color\":\"#EBF0F8\"},\"line\":{\"color\":\"white\"}},\"header\":{\"fill\":{\"color\":\"#C8D4E3\"},\"line\":{\"color\":\"white\"}},\"type\":\"table\"}],\"barpolar\":[{\"marker\":{\"line\":{\"color\":\"#E5ECF6\",\"width\":0.5},\"pattern\":{\"fillmode\":\"overlay\",\"size\":10,\"solidity\":0.2}},\"type\":\"barpolar\"}],\"pie\":[{\"automargin\":true,\"type\":\"pie\"}]},\"layout\":{\"autotypenumbers\":\"strict\",\"colorway\":[\"#636efa\",\"#EF553B\",\"#00cc96\",\"#ab63fa\",\"#FFA15A\",\"#19d3f3\",\"#FF6692\",\"#B6E880\",\"#FF97FF\",\"#FECB52\"],\"font\":{\"color\":\"#2a3f5f\"},\"hovermode\":\"closest\",\"hoverlabel\":{\"align\":\"left\"},\"paper_bgcolor\":\"white\",\"plot_bgcolor\":\"#E5ECF6\",\"polar\":{\"bgcolor\":\"#E5ECF6\",\"angularaxis\":{\"gridcolor\":\"white\",\"linecolor\":\"white\",\"ticks\":\"\"},\"radialaxis\":{\"gridcolor\":\"white\",\"linecolor\":\"white\",\"ticks\":\"\"}},\"ternary\":{\"bgcolor\":\"#E5ECF6\",\"aaxis\":{\"gridcolor\":\"white\",\"linecolor\":\"white\",\"ticks\":\"\"},\"baxis\":{\"gridcolor\":\"white\",\"linecolor\":\"white\",\"ticks\":\"\"},\"caxis\":{\"gridcolor\":\"white\",\"linecolor\":\"white\",\"ticks\":\"\"}},\"coloraxis\":{\"colorbar\":{\"outlinewidth\":0,\"ticks\":\"\"}},\"colorscale\":{\"sequential\":[[0.0,\"#0d0887\"],[0.1111111111111111,\"#46039f\"],[0.2222222222222222,\"#7201a8\"],[0.3333333333333333,\"#9c179e\"],[0.4444444444444444,\"#bd3786\"],[0.5555555555555556,\"#d8576b\"],[0.6666666666666666,\"#ed7953\"],[0.7777777777777778,\"#fb9f3a\"],[0.8888888888888888,\"#fdca26\"],[1.0,\"#f0f921\"]],\"sequentialminus\":[[0.0,\"#0d0887\"],[0.1111111111111111,\"#46039f\"],[0.2222222222222222,\"#7201a8\"],[0.3333333333333333,\"#9c179e\"],[0.4444444444444444,\"#bd3786\"],[0.5555555555555556,\"#d8576b\"],[0.6666666666666666,\"#ed7953\"],[0.7777777777777778,\"#fb9f3a\"],[0.8888888888888888,\"#fdca26\"],[1.0,\"#f0f921\"]],\"diverging\":[[0,\"#8e0152\"],[0.1,\"#c51b7d\"],[0.2,\"#de77ae\"],[0.3,\"#f1b6da\"],[0.4,\"#fde0ef\"],[0.5,\"#f7f7f7\"],[0.6,\"#e6f5d0\"],[0.7,\"#b8e186\"],[0.8,\"#7fbc41\"],[0.9,\"#4d9221\"],[1,\"#276419\"]]},\"xaxis\":{\"gridcolor\":\"white\",\"linecolor\":\"white\",\"ticks\":\"\",\"title\":{\"standoff\":15},\"zerolinecolor\":\"white\",\"automargin\":true,\"zerolinewidth\":2},\"yaxis\":{\"gridcolor\":\"white\",\"linecolor\":\"white\",\"ticks\":\"\",\"title\":{\"standoff\":15},\"zerolinecolor\":\"white\",\"automargin\":true,\"zerolinewidth\":2},\"scene\":{\"xaxis\":{\"backgroundcolor\":\"#E5ECF6\",\"gridcolor\":\"white\",\"linecolor\":\"white\",\"showbackground\":true,\"ticks\":\"\",\"zerolinecolor\":\"white\",\"gridwidth\":2},\"yaxis\":{\"backgroundcolor\":\"#E5ECF6\",\"gridcolor\":\"white\",\"linecolor\":\"white\",\"showbackground\":true,\"ticks\":\"\",\"zerolinecolor\":\"white\",\"gridwidth\":2},\"zaxis\":{\"backgroundcolor\":\"#E5ECF6\",\"gridcolor\":\"white\",\"linecolor\":\"white\",\"showbackground\":true,\"ticks\":\"\",\"zerolinecolor\":\"white\",\"gridwidth\":2}},\"shapedefaults\":{\"line\":{\"color\":\"#2a3f5f\"}},\"annotationdefaults\":{\"arrowcolor\":\"#2a3f5f\",\"arrowhead\":0,\"arrowwidth\":1},\"geo\":{\"bgcolor\":\"white\",\"landcolor\":\"#E5ECF6\",\"subunitcolor\":\"white\",\"showland\":true,\"showlakes\":true,\"lakecolor\":\"white\"},\"title\":{\"x\":0.05},\"mapbox\":{\"style\":\"light\"}}},\"xaxis\":{\"anchor\":\"y\",\"domain\":[0.0,1.0],\"title\":{\"text\":\"gender\"},\"categoryorder\":\"array\",\"categoryarray\":[\"female\",\"male\"]},\"yaxis\":{\"anchor\":\"x\",\"domain\":[0.0,1.0],\"title\":{\"text\":\"math score\"}},\"legend\":{\"title\":{\"text\":\"gender\"},\"tracegroupgap\":0},\"margin\":{\"t\":60},\"boxmode\":\"overlay\"},                        {\"responsive\": true}                    ).then(function(){\n",
       "                            \n",
       "var gd = document.getElementById('c0e64dac-4229-4f2d-b8ef-71b69709722b');\n",
       "var x = new MutationObserver(function (mutations, observer) {{\n",
       "        var display = window.getComputedStyle(gd).display;\n",
       "        if (!display || display === 'none') {{\n",
       "            console.log([gd, 'removed!']);\n",
       "            Plotly.purge(gd);\n",
       "            observer.disconnect();\n",
       "        }}\n",
       "}});\n",
       "\n",
       "// Listen for the removal of the full notebook cells\n",
       "var notebookContainer = gd.closest('#notebook-container');\n",
       "if (notebookContainer) {{\n",
       "    x.observe(notebookContainer, {childList: true});\n",
       "}}\n",
       "\n",
       "// Listen for the clearing of the current output cell\n",
       "var outputEl = gd.closest('.output');\n",
       "if (outputEl) {{\n",
       "    x.observe(outputEl, {childList: true});\n",
       "}}\n",
       "\n",
       "                        })                };                });            </script>        </div>"
      ]
     },
     "metadata": {},
     "output_type": "display_data"
    }
   ],
   "source": [
    "# Box plot\n",
    "px.box(student_data, x = 'gender', y = 'math score', color = 'gender' )"
   ]
  },
  {
   "cell_type": "code",
   "execution_count": 63,
   "id": "e6fabccc",
   "metadata": {},
   "outputs": [
    {
     "ename": "ValueError",
     "evalue": "Value of 'y' is not the name of a column in 'data_frame'. Expected one of ['gender', 'race/ethnicity', 'parental level of education', 'lunch', 'test preparation course', 'math score', 'reading score', 'writing score', 'math_score'] but received: writing_score",
     "output_type": "error",
     "traceback": [
      "\u001b[0;31m---------------------------------------------------------------------------\u001b[0m",
      "\u001b[0;31mValueError\u001b[0m                                Traceback (most recent call last)",
      "Cell \u001b[0;32mIn[63], line 2\u001b[0m\n\u001b[1;32m      1\u001b[0m \u001b[38;5;66;03m# Box plot\u001b[39;00m\n\u001b[0;32m----> 2\u001b[0m px\u001b[38;5;241m.\u001b[39mbox(student_data, x \u001b[38;5;241m=\u001b[39m \u001b[38;5;124m'\u001b[39m\u001b[38;5;124mgender\u001b[39m\u001b[38;5;124m'\u001b[39m, y \u001b[38;5;241m=\u001b[39m \u001b[38;5;124m'\u001b[39m\u001b[38;5;124mwriting_score\u001b[39m\u001b[38;5;124m'\u001b[39m, color \u001b[38;5;241m=\u001b[39m \u001b[38;5;124m'\u001b[39m\u001b[38;5;124mgender\u001b[39m\u001b[38;5;124m'\u001b[39m )\n",
      "File \u001b[0;32m/opt/anaconda3/lib/python3.11/site-packages/plotly/express/_chart_types.py:666\u001b[0m, in \u001b[0;36mbox\u001b[0;34m(data_frame, x, y, color, facet_row, facet_col, facet_col_wrap, facet_row_spacing, facet_col_spacing, hover_name, hover_data, custom_data, animation_frame, animation_group, category_orders, labels, color_discrete_sequence, color_discrete_map, orientation, boxmode, log_x, log_y, range_x, range_y, points, notched, title, template, width, height)\u001b[0m\n\u001b[1;32m    625\u001b[0m \u001b[38;5;28;01mdef\u001b[39;00m \u001b[38;5;21mbox\u001b[39m(\n\u001b[1;32m    626\u001b[0m     data_frame\u001b[38;5;241m=\u001b[39m\u001b[38;5;28;01mNone\u001b[39;00m,\n\u001b[1;32m    627\u001b[0m     x\u001b[38;5;241m=\u001b[39m\u001b[38;5;28;01mNone\u001b[39;00m,\n\u001b[0;32m   (...)\u001b[0m\n\u001b[1;32m    655\u001b[0m     height\u001b[38;5;241m=\u001b[39m\u001b[38;5;28;01mNone\u001b[39;00m,\n\u001b[1;32m    656\u001b[0m ) \u001b[38;5;241m-\u001b[39m\u001b[38;5;241m>\u001b[39m go\u001b[38;5;241m.\u001b[39mFigure:\n\u001b[1;32m    657\u001b[0m \u001b[38;5;250m    \u001b[39m\u001b[38;5;124;03m\"\"\"\u001b[39;00m\n\u001b[1;32m    658\u001b[0m \u001b[38;5;124;03m    In a box plot, rows of `data_frame` are grouped together into a\u001b[39;00m\n\u001b[1;32m    659\u001b[0m \u001b[38;5;124;03m    box-and-whisker mark to visualize their distribution.\u001b[39;00m\n\u001b[0;32m   (...)\u001b[0m\n\u001b[1;32m    664\u001b[0m \u001b[38;5;124;03m    range (IQR: Q3-Q1), see \"points\" for other options.\u001b[39;00m\n\u001b[1;32m    665\u001b[0m \u001b[38;5;124;03m    \"\"\"\u001b[39;00m\n\u001b[0;32m--> 666\u001b[0m     \u001b[38;5;28;01mreturn\u001b[39;00m make_figure(\n\u001b[1;32m    667\u001b[0m         args\u001b[38;5;241m=\u001b[39m\u001b[38;5;28mlocals\u001b[39m(),\n\u001b[1;32m    668\u001b[0m         constructor\u001b[38;5;241m=\u001b[39mgo\u001b[38;5;241m.\u001b[39mBox,\n\u001b[1;32m    669\u001b[0m         trace_patch\u001b[38;5;241m=\u001b[39m\u001b[38;5;28mdict\u001b[39m(boxpoints\u001b[38;5;241m=\u001b[39mpoints, notched\u001b[38;5;241m=\u001b[39mnotched, x0\u001b[38;5;241m=\u001b[39m\u001b[38;5;124m\"\u001b[39m\u001b[38;5;124m \u001b[39m\u001b[38;5;124m\"\u001b[39m, y0\u001b[38;5;241m=\u001b[39m\u001b[38;5;124m\"\u001b[39m\u001b[38;5;124m \u001b[39m\u001b[38;5;124m\"\u001b[39m),\n\u001b[1;32m    670\u001b[0m         layout_patch\u001b[38;5;241m=\u001b[39m\u001b[38;5;28mdict\u001b[39m(boxmode\u001b[38;5;241m=\u001b[39mboxmode),\n\u001b[1;32m    671\u001b[0m     )\n",
      "File \u001b[0;32m/opt/anaconda3/lib/python3.11/site-packages/plotly/express/_core.py:1990\u001b[0m, in \u001b[0;36mmake_figure\u001b[0;34m(args, constructor, trace_patch, layout_patch)\u001b[0m\n\u001b[1;32m   1987\u001b[0m layout_patch \u001b[38;5;241m=\u001b[39m layout_patch \u001b[38;5;129;01mor\u001b[39;00m {}\n\u001b[1;32m   1988\u001b[0m apply_default_cascade(args)\n\u001b[0;32m-> 1990\u001b[0m args \u001b[38;5;241m=\u001b[39m build_dataframe(args, constructor)\n\u001b[1;32m   1991\u001b[0m \u001b[38;5;28;01mif\u001b[39;00m constructor \u001b[38;5;129;01min\u001b[39;00m [go\u001b[38;5;241m.\u001b[39mTreemap, go\u001b[38;5;241m.\u001b[39mSunburst, go\u001b[38;5;241m.\u001b[39mIcicle] \u001b[38;5;129;01mand\u001b[39;00m args[\u001b[38;5;124m\"\u001b[39m\u001b[38;5;124mpath\u001b[39m\u001b[38;5;124m\"\u001b[39m] \u001b[38;5;129;01mis\u001b[39;00m \u001b[38;5;129;01mnot\u001b[39;00m \u001b[38;5;28;01mNone\u001b[39;00m:\n\u001b[1;32m   1992\u001b[0m     args \u001b[38;5;241m=\u001b[39m process_dataframe_hierarchy(args)\n",
      "File \u001b[0;32m/opt/anaconda3/lib/python3.11/site-packages/plotly/express/_core.py:1405\u001b[0m, in \u001b[0;36mbuild_dataframe\u001b[0;34m(args, constructor)\u001b[0m\n\u001b[1;32m   1402\u001b[0m     args[\u001b[38;5;124m\"\u001b[39m\u001b[38;5;124mcolor\u001b[39m\u001b[38;5;124m\"\u001b[39m] \u001b[38;5;241m=\u001b[39m \u001b[38;5;28;01mNone\u001b[39;00m\n\u001b[1;32m   1403\u001b[0m \u001b[38;5;66;03m# now that things have been prepped, we do the systematic rewriting of `args`\u001b[39;00m\n\u001b[0;32m-> 1405\u001b[0m df_output, wide_id_vars \u001b[38;5;241m=\u001b[39m process_args_into_dataframe(\n\u001b[1;32m   1406\u001b[0m     args, wide_mode, var_name, value_name\n\u001b[1;32m   1407\u001b[0m )\n\u001b[1;32m   1409\u001b[0m \u001b[38;5;66;03m# now that `df_output` exists and `args` contains only references, we complete\u001b[39;00m\n\u001b[1;32m   1410\u001b[0m \u001b[38;5;66;03m# the special-case and wide-mode handling by further rewriting args and/or mutating\u001b[39;00m\n\u001b[1;32m   1411\u001b[0m \u001b[38;5;66;03m# df_output\u001b[39;00m\n\u001b[1;32m   1413\u001b[0m count_name \u001b[38;5;241m=\u001b[39m _escape_col_name(df_output, \u001b[38;5;124m\"\u001b[39m\u001b[38;5;124mcount\u001b[39m\u001b[38;5;124m\"\u001b[39m, [var_name, value_name])\n",
      "File \u001b[0;32m/opt/anaconda3/lib/python3.11/site-packages/plotly/express/_core.py:1207\u001b[0m, in \u001b[0;36mprocess_args_into_dataframe\u001b[0;34m(args, wide_mode, var_name, value_name)\u001b[0m\n\u001b[1;32m   1205\u001b[0m         \u001b[38;5;28;01mif\u001b[39;00m argument \u001b[38;5;241m==\u001b[39m \u001b[38;5;124m\"\u001b[39m\u001b[38;5;124mindex\u001b[39m\u001b[38;5;124m\"\u001b[39m:\n\u001b[1;32m   1206\u001b[0m             err_msg \u001b[38;5;241m+\u001b[39m\u001b[38;5;241m=\u001b[39m \u001b[38;5;124m\"\u001b[39m\u001b[38;5;130;01m\\n\u001b[39;00m\u001b[38;5;124m To use the index, pass it in directly as `df.index`.\u001b[39m\u001b[38;5;124m\"\u001b[39m\n\u001b[0;32m-> 1207\u001b[0m         \u001b[38;5;28;01mraise\u001b[39;00m \u001b[38;5;167;01mValueError\u001b[39;00m(err_msg)\n\u001b[1;32m   1208\u001b[0m \u001b[38;5;28;01melif\u001b[39;00m length \u001b[38;5;129;01mand\u001b[39;00m \u001b[38;5;28mlen\u001b[39m(df_input[argument]) \u001b[38;5;241m!=\u001b[39m length:\n\u001b[1;32m   1209\u001b[0m     \u001b[38;5;28;01mraise\u001b[39;00m \u001b[38;5;167;01mValueError\u001b[39;00m(\n\u001b[1;32m   1210\u001b[0m         \u001b[38;5;124m\"\u001b[39m\u001b[38;5;124mAll arguments should have the same length. \u001b[39m\u001b[38;5;124m\"\u001b[39m\n\u001b[1;32m   1211\u001b[0m         \u001b[38;5;124m\"\u001b[39m\u001b[38;5;124mThe length of column argument `df[\u001b[39m\u001b[38;5;132;01m%s\u001b[39;00m\u001b[38;5;124m]` is \u001b[39m\u001b[38;5;132;01m%d\u001b[39;00m\u001b[38;5;124m, whereas the \u001b[39m\u001b[38;5;124m\"\u001b[39m\n\u001b[0;32m   (...)\u001b[0m\n\u001b[1;32m   1218\u001b[0m         )\n\u001b[1;32m   1219\u001b[0m     )\n",
      "\u001b[0;31mValueError\u001b[0m: Value of 'y' is not the name of a column in 'data_frame'. Expected one of ['gender', 'race/ethnicity', 'parental level of education', 'lunch', 'test preparation course', 'math score', 'reading score', 'writing score', 'math_score'] but received: writing_score"
     ]
    }
   ],
   "source": [
    "# Box plot\n",
    "px.box(student_data, x = 'gender', y = 'writing_score', color = 'gender' )"
   ]
  }
 ],
 "metadata": {
  "kernelspec": {
   "display_name": "Python 3 (ipykernel)",
   "language": "python",
   "name": "python3"
  },
  "language_info": {
   "codemirror_mode": {
    "name": "ipython",
    "version": 3
   },
   "file_extension": ".py",
   "mimetype": "text/x-python",
   "name": "python",
   "nbconvert_exporter": "python",
   "pygments_lexer": "ipython3",
   "version": "3.11.7"
  }
 },
 "nbformat": 4,
 "nbformat_minor": 5
}
